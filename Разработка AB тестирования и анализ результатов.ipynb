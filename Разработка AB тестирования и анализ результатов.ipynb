{
 "cells": [
  {
   "cell_type": "markdown",
   "metadata": {
    "id": "u98L9TgH0eMk"
   },
   "source": [
    "# Разработка A/B-тестирования и анализ результатов\n",
    "\n",
    "Вы работаете продуктовым аналитиком в компании, которая разрабатывает развлекательное приложение с функцией «бесконечной» ленты, как, например, в приложениях с короткими видео. В вашем приложении существует две модели монетизации: первая — ежемесячная платная подписка, которая позволяет пользователям смотреть ленту без рекламы, вторая — демонстрация рекламы для пользователей, которые ещё не оформили подписку.\n",
    "\n",
    "Команда разработчиков рекомендательных систем создала новый алгоритм рекомендаций, который, по их мнению, будет показывать более интересный контент для каждого пользователя. Вас, как аналитика, просят помочь рассчитать параметры A/B-теста, который позволит проверить эту гипотезу, и проанализировать его результаты."
   ]
  },
  {
   "cell_type": "markdown",
   "metadata": {
    "id": "LJBRALHs0eMf"
   },
   "source": [
    "## Описание данных\n",
    "\n",
    "Вы будете работать с тремя таблицами:\n",
    "\n",
    "- `sessions_project_history.csv` — таблица с историческими данными по сессиям пользователей на период с 2025-08-15 по 2025-09-23. Путь к файлу: `/datasets/sessions_project_history.csv`.\n",
    "\n",
    "- `sessions_project_test_part.csv` — таблица с данными за первый день проведения A/B-теста, то есть за 2025-10-14. Путь к файлу: `/datasets/sessions_project_test_part.csv`.\n",
    "\n",
    "- `sessions_project_test.csv` — таблица с данными за весь период проведения A/B-теста, то есть с 2025-10-14 по 2025-11-02. Путь к файлу: `/datasets/sessions_project_test.csv`.\n",
    "\n",
    "У этих таблиц почти совпадает структура и содержание колонок, различаются лишь периоды наблюдения.\n",
    "\n",
    "Поля таблиц `sessions_project_history.csv`, `sessions_project_test.csv`, `sessions_project_test_part.csv`:\n",
    "\n",
    "- `user_id` — идентификатор пользователя;\n",
    "\n",
    "- `session_id` — идентификатор сессии в приложении;\n",
    "\n",
    "- `session_date` — дата сессии;\n",
    "\n",
    "- `session_start_ts` — дата и время начала сессии;\n",
    "\n",
    "- `install_date` — дата установки приложения;\n",
    "\n",
    "- `session_number` — порядковый номер сессии для конкретного пользователя;\n",
    "\n",
    "- `registration_flag` — является ли пользователь зарегистрированным;\n",
    "\n",
    "- `page_counter` — количество просмотренных страниц во время сессии;\n",
    "\n",
    "- `region` — регион пользователя;\n",
    "\n",
    "- `device` — тип устройства пользователя;\n",
    "\n",
    "- `test_group` — тестовая группа (в таблице с историческими данными этого столбца нет).\n",
    "\n",
    "\n",
    "## Что нужно сделать\n",
    "\n",
    "Ваши задачи: рассчитать параметры теста, оценить корректность его проведения и проанализировать результаты эксперимента. \n",
    "\n",
    "Цель - проверить, изменился ли показатель изменения доли успешных сессий (в которых более 4-х просмотров) на статистически значимый параметр."
   ]
  },
  {
   "cell_type": "markdown",
   "metadata": {
    "id": "UpOucjID0eMl"
   },
   "source": [
    "### 1. Работа с историческими данными (EDA)"
   ]
  },
  {
   "cell_type": "markdown",
   "metadata": {
    "id": "8iJMtL-30eMl"
   },
   "source": [
    "#### 1.1. Загрузка исторических данных\n",
    "На первом этапе поработайте с историческими данными приложения:\n",
    "\n",
    "- Импортируйте библиотеку pandas.\n",
    "\n",
    "- Считайте и сохраните в датафрейм `sessions_history` CSV-файл с историческими данными о сессиях пользователей `sessions_project_history.csv`.\n",
    "\n",
    "Выведите на экран первые пять строк полученного датафрейма."
   ]
  },
  {
   "cell_type": "code",
   "execution_count": 62,
   "metadata": {
    "id": "6TPR2-1RPboT"
   },
   "outputs": [],
   "source": [
    "#Импортируем все необходимые библиотеки для дальнейшей работы:\n",
    "\n",
    "import pandas as pd\n",
    "\n",
    "import matplotlib.pyplot as plt\n",
    "\n",
    "from scipy import stats as st\n",
    "\n",
    "import numpy as np\n",
    "\n",
    "from statsmodels.stats.proportion import proportions_ztest"
   ]
  },
  {
   "cell_type": "code",
   "execution_count": 63,
   "metadata": {},
   "outputs": [
    {
     "data": {
      "text/html": [
       "<div>\n",
       "<style scoped>\n",
       "    .dataframe tbody tr th:only-of-type {\n",
       "        vertical-align: middle;\n",
       "    }\n",
       "\n",
       "    .dataframe tbody tr th {\n",
       "        vertical-align: top;\n",
       "    }\n",
       "\n",
       "    .dataframe thead th {\n",
       "        text-align: right;\n",
       "    }\n",
       "</style>\n",
       "<table border=\"1\" class=\"dataframe\">\n",
       "  <thead>\n",
       "    <tr style=\"text-align: right;\">\n",
       "      <th></th>\n",
       "      <th>user_id</th>\n",
       "      <th>session_id</th>\n",
       "      <th>session_date</th>\n",
       "      <th>session_start_ts</th>\n",
       "      <th>install_date</th>\n",
       "      <th>session_number</th>\n",
       "      <th>registration_flag</th>\n",
       "      <th>page_counter</th>\n",
       "      <th>region</th>\n",
       "      <th>device</th>\n",
       "    </tr>\n",
       "  </thead>\n",
       "  <tbody>\n",
       "    <tr>\n",
       "      <th>0</th>\n",
       "      <td>E302123B7000BFE4</td>\n",
       "      <td>F9AF61A0C2023832</td>\n",
       "      <td>2025-08-15</td>\n",
       "      <td>2025-08-15 17:47:35</td>\n",
       "      <td>2025-08-15</td>\n",
       "      <td>1</td>\n",
       "      <td>0</td>\n",
       "      <td>3</td>\n",
       "      <td>CIS</td>\n",
       "      <td>iPhone</td>\n",
       "    </tr>\n",
       "    <tr>\n",
       "      <th>1</th>\n",
       "      <td>2530F72E221829FB</td>\n",
       "      <td>85003A206CBDAC6F</td>\n",
       "      <td>2025-08-15</td>\n",
       "      <td>2025-08-15 16:42:14</td>\n",
       "      <td>2025-08-15</td>\n",
       "      <td>1</td>\n",
       "      <td>0</td>\n",
       "      <td>4</td>\n",
       "      <td>MENA</td>\n",
       "      <td>Android</td>\n",
       "    </tr>\n",
       "    <tr>\n",
       "      <th>2</th>\n",
       "      <td>876E020A4FC512F5</td>\n",
       "      <td>3677423E49D72DEE</td>\n",
       "      <td>2025-08-15</td>\n",
       "      <td>2025-08-15 12:30:00</td>\n",
       "      <td>2025-08-15</td>\n",
       "      <td>1</td>\n",
       "      <td>0</td>\n",
       "      <td>4</td>\n",
       "      <td>EU</td>\n",
       "      <td>PC</td>\n",
       "    </tr>\n",
       "    <tr>\n",
       "      <th>3</th>\n",
       "      <td>2640B349E1D81584</td>\n",
       "      <td>956B45F5915CA225</td>\n",
       "      <td>2025-08-15</td>\n",
       "      <td>2025-08-15 15:31:31</td>\n",
       "      <td>2025-08-15</td>\n",
       "      <td>1</td>\n",
       "      <td>0</td>\n",
       "      <td>4</td>\n",
       "      <td>CIS</td>\n",
       "      <td>Android</td>\n",
       "    </tr>\n",
       "    <tr>\n",
       "      <th>4</th>\n",
       "      <td>94E1CBFAEF1F5EE9</td>\n",
       "      <td>83BF0DA35F9F1F40</td>\n",
       "      <td>2025-08-15</td>\n",
       "      <td>2025-08-15 21:33:53</td>\n",
       "      <td>2025-08-15</td>\n",
       "      <td>1</td>\n",
       "      <td>0</td>\n",
       "      <td>3</td>\n",
       "      <td>CIS</td>\n",
       "      <td>Android</td>\n",
       "    </tr>\n",
       "  </tbody>\n",
       "</table>\n",
       "</div>"
      ],
      "text/plain": [
       "            user_id        session_id session_date     session_start_ts  \\\n",
       "0  E302123B7000BFE4  F9AF61A0C2023832   2025-08-15  2025-08-15 17:47:35   \n",
       "1  2530F72E221829FB  85003A206CBDAC6F   2025-08-15  2025-08-15 16:42:14   \n",
       "2  876E020A4FC512F5  3677423E49D72DEE   2025-08-15  2025-08-15 12:30:00   \n",
       "3  2640B349E1D81584  956B45F5915CA225   2025-08-15  2025-08-15 15:31:31   \n",
       "4  94E1CBFAEF1F5EE9  83BF0DA35F9F1F40   2025-08-15  2025-08-15 21:33:53   \n",
       "\n",
       "  install_date  session_number  registration_flag  page_counter region  \\\n",
       "0   2025-08-15               1                  0             3    CIS   \n",
       "1   2025-08-15               1                  0             4   MENA   \n",
       "2   2025-08-15               1                  0             4     EU   \n",
       "3   2025-08-15               1                  0             4    CIS   \n",
       "4   2025-08-15               1                  0             3    CIS   \n",
       "\n",
       "    device  \n",
       "0   iPhone  \n",
       "1  Android  \n",
       "2       PC  \n",
       "3  Android  \n",
       "4  Android  "
      ]
     },
     "execution_count": 63,
     "metadata": {},
     "output_type": "execute_result"
    }
   ],
   "source": [
    "df_history = pd.read_csv('https://code.s3.yandex.net/datasets/sessions_project_history.csv')\n",
    "df_history.head()"
   ]
  },
  {
   "cell_type": "markdown",
   "metadata": {
    "id": "qTDoiODz0eMo"
   },
   "source": [
    "#### 1.2. Знакомство с данными\n",
    "- Для каждого уникального пользователя `user_id` рассчитайте количество уникальных сессий `session_id`.\n",
    "\n",
    "- Выведите на экран все данные из таблицы `sessions_history` для одного пользователя с наибольшим количеством сессий. Если таких пользователей несколько, выберите любого из них.\n",
    "\n",
    "- Изучите таблицу для одного пользователя, чтобы лучше понять логику формирования каждого столбца данных.\n",
    "\n"
   ]
  },
  {
   "cell_type": "code",
   "execution_count": 64,
   "metadata": {
    "id": "PWZO9vTIPbPN"
   },
   "outputs": [],
   "source": [
    "#Для каждого уникального пользователя user_id рассчитаем количество уникальных сессий session_id:\n",
    "\n",
    "user_sessions = df_history.groupby('user_id')['session_id'].count()"
   ]
  },
  {
   "cell_type": "code",
   "execution_count": 65,
   "metadata": {},
   "outputs": [],
   "source": [
    "#Найдем пользователя с наибольшим количеством сессий:\n",
    "\n",
    "user_with_max_sessions = user_sessions.idxmax()"
   ]
  },
  {
   "cell_type": "code",
   "execution_count": 66,
   "metadata": {},
   "outputs": [
    {
     "name": "stdout",
     "output_type": "stream",
     "text": [
      "<class 'pandas.core.frame.DataFrame'>\n",
      "Int64Index: 10 entries, 115558 to 414743\n",
      "Data columns (total 10 columns):\n",
      " #   Column             Non-Null Count  Dtype \n",
      "---  ------             --------------  ----- \n",
      " 0   user_id            10 non-null     object\n",
      " 1   session_id         10 non-null     object\n",
      " 2   session_date       10 non-null     object\n",
      " 3   session_start_ts   10 non-null     object\n",
      " 4   install_date       10 non-null     object\n",
      " 5   session_number     10 non-null     int64 \n",
      " 6   registration_flag  10 non-null     int64 \n",
      " 7   page_counter       10 non-null     int64 \n",
      " 8   region             10 non-null     object\n",
      " 9   device             10 non-null     object\n",
      "dtypes: int64(3), object(7)\n",
      "memory usage: 880.0+ bytes\n"
     ]
    },
    {
     "data": {
      "text/html": [
       "<div>\n",
       "<style scoped>\n",
       "    .dataframe tbody tr th:only-of-type {\n",
       "        vertical-align: middle;\n",
       "    }\n",
       "\n",
       "    .dataframe tbody tr th {\n",
       "        vertical-align: top;\n",
       "    }\n",
       "\n",
       "    .dataframe thead th {\n",
       "        text-align: right;\n",
       "    }\n",
       "</style>\n",
       "<table border=\"1\" class=\"dataframe\">\n",
       "  <thead>\n",
       "    <tr style=\"text-align: right;\">\n",
       "      <th></th>\n",
       "      <th>user_id</th>\n",
       "      <th>session_id</th>\n",
       "      <th>session_date</th>\n",
       "      <th>session_start_ts</th>\n",
       "      <th>install_date</th>\n",
       "      <th>session_number</th>\n",
       "      <th>registration_flag</th>\n",
       "      <th>page_counter</th>\n",
       "      <th>region</th>\n",
       "      <th>device</th>\n",
       "    </tr>\n",
       "  </thead>\n",
       "  <tbody>\n",
       "    <tr>\n",
       "      <th>115558</th>\n",
       "      <td>10E0DEFC1ABDBBE0</td>\n",
       "      <td>B8F0423BBFFCF5DC</td>\n",
       "      <td>2025-08-14</td>\n",
       "      <td>2025-08-14 13:57:39</td>\n",
       "      <td>2025-08-14</td>\n",
       "      <td>1</td>\n",
       "      <td>0</td>\n",
       "      <td>4</td>\n",
       "      <td>CIS</td>\n",
       "      <td>Android</td>\n",
       "    </tr>\n",
       "    <tr>\n",
       "      <th>191751</th>\n",
       "      <td>10E0DEFC1ABDBBE0</td>\n",
       "      <td>87CA2FA549473837</td>\n",
       "      <td>2025-08-15</td>\n",
       "      <td>2025-08-15 16:42:10</td>\n",
       "      <td>2025-08-14</td>\n",
       "      <td>2</td>\n",
       "      <td>0</td>\n",
       "      <td>3</td>\n",
       "      <td>CIS</td>\n",
       "      <td>Android</td>\n",
       "    </tr>\n",
       "    <tr>\n",
       "      <th>239370</th>\n",
       "      <td>10E0DEFC1ABDBBE0</td>\n",
       "      <td>4ADD8011DCDCE318</td>\n",
       "      <td>2025-08-16</td>\n",
       "      <td>2025-08-16 19:53:21</td>\n",
       "      <td>2025-08-14</td>\n",
       "      <td>3</td>\n",
       "      <td>0</td>\n",
       "      <td>3</td>\n",
       "      <td>CIS</td>\n",
       "      <td>Android</td>\n",
       "    </tr>\n",
       "    <tr>\n",
       "      <th>274629</th>\n",
       "      <td>10E0DEFC1ABDBBE0</td>\n",
       "      <td>DF0FD0E09BF1F3D7</td>\n",
       "      <td>2025-08-17</td>\n",
       "      <td>2025-08-17 15:03:43</td>\n",
       "      <td>2025-08-14</td>\n",
       "      <td>4</td>\n",
       "      <td>0</td>\n",
       "      <td>1</td>\n",
       "      <td>CIS</td>\n",
       "      <td>Android</td>\n",
       "    </tr>\n",
       "    <tr>\n",
       "      <th>302501</th>\n",
       "      <td>10E0DEFC1ABDBBE0</td>\n",
       "      <td>3C221774B4DE6885</td>\n",
       "      <td>2025-08-18</td>\n",
       "      <td>2025-08-18 17:29:14</td>\n",
       "      <td>2025-08-14</td>\n",
       "      <td>5</td>\n",
       "      <td>0</td>\n",
       "      <td>4</td>\n",
       "      <td>CIS</td>\n",
       "      <td>Android</td>\n",
       "    </tr>\n",
       "    <tr>\n",
       "      <th>325557</th>\n",
       "      <td>10E0DEFC1ABDBBE0</td>\n",
       "      <td>031BD7A67048105B</td>\n",
       "      <td>2025-08-19</td>\n",
       "      <td>2025-08-19 13:23:55</td>\n",
       "      <td>2025-08-14</td>\n",
       "      <td>6</td>\n",
       "      <td>0</td>\n",
       "      <td>2</td>\n",
       "      <td>CIS</td>\n",
       "      <td>Android</td>\n",
       "    </tr>\n",
       "    <tr>\n",
       "      <th>345336</th>\n",
       "      <td>10E0DEFC1ABDBBE0</td>\n",
       "      <td>FF4315CF4AD4B100</td>\n",
       "      <td>2025-08-20</td>\n",
       "      <td>2025-08-20 19:31:54</td>\n",
       "      <td>2025-08-14</td>\n",
       "      <td>7</td>\n",
       "      <td>0</td>\n",
       "      <td>2</td>\n",
       "      <td>CIS</td>\n",
       "      <td>Android</td>\n",
       "    </tr>\n",
       "    <tr>\n",
       "      <th>377532</th>\n",
       "      <td>10E0DEFC1ABDBBE0</td>\n",
       "      <td>4045FEA0747203B4</td>\n",
       "      <td>2025-08-22</td>\n",
       "      <td>2025-08-22 17:54:13</td>\n",
       "      <td>2025-08-14</td>\n",
       "      <td>8</td>\n",
       "      <td>0</td>\n",
       "      <td>2</td>\n",
       "      <td>CIS</td>\n",
       "      <td>Android</td>\n",
       "    </tr>\n",
       "    <tr>\n",
       "      <th>403538</th>\n",
       "      <td>10E0DEFC1ABDBBE0</td>\n",
       "      <td>344B086C421C7F37</td>\n",
       "      <td>2025-08-24</td>\n",
       "      <td>2025-08-24 14:46:13</td>\n",
       "      <td>2025-08-14</td>\n",
       "      <td>9</td>\n",
       "      <td>0</td>\n",
       "      <td>2</td>\n",
       "      <td>CIS</td>\n",
       "      <td>Android</td>\n",
       "    </tr>\n",
       "    <tr>\n",
       "      <th>414743</th>\n",
       "      <td>10E0DEFC1ABDBBE0</td>\n",
       "      <td>054F20BA371E4C9D</td>\n",
       "      <td>2025-08-25</td>\n",
       "      <td>2025-08-25 18:36:41</td>\n",
       "      <td>2025-08-14</td>\n",
       "      <td>10</td>\n",
       "      <td>0</td>\n",
       "      <td>3</td>\n",
       "      <td>CIS</td>\n",
       "      <td>Android</td>\n",
       "    </tr>\n",
       "  </tbody>\n",
       "</table>\n",
       "</div>"
      ],
      "text/plain": [
       "                 user_id        session_id session_date     session_start_ts  \\\n",
       "115558  10E0DEFC1ABDBBE0  B8F0423BBFFCF5DC   2025-08-14  2025-08-14 13:57:39   \n",
       "191751  10E0DEFC1ABDBBE0  87CA2FA549473837   2025-08-15  2025-08-15 16:42:10   \n",
       "239370  10E0DEFC1ABDBBE0  4ADD8011DCDCE318   2025-08-16  2025-08-16 19:53:21   \n",
       "274629  10E0DEFC1ABDBBE0  DF0FD0E09BF1F3D7   2025-08-17  2025-08-17 15:03:43   \n",
       "302501  10E0DEFC1ABDBBE0  3C221774B4DE6885   2025-08-18  2025-08-18 17:29:14   \n",
       "325557  10E0DEFC1ABDBBE0  031BD7A67048105B   2025-08-19  2025-08-19 13:23:55   \n",
       "345336  10E0DEFC1ABDBBE0  FF4315CF4AD4B100   2025-08-20  2025-08-20 19:31:54   \n",
       "377532  10E0DEFC1ABDBBE0  4045FEA0747203B4   2025-08-22  2025-08-22 17:54:13   \n",
       "403538  10E0DEFC1ABDBBE0  344B086C421C7F37   2025-08-24  2025-08-24 14:46:13   \n",
       "414743  10E0DEFC1ABDBBE0  054F20BA371E4C9D   2025-08-25  2025-08-25 18:36:41   \n",
       "\n",
       "       install_date  session_number  registration_flag  page_counter region  \\\n",
       "115558   2025-08-14               1                  0             4    CIS   \n",
       "191751   2025-08-14               2                  0             3    CIS   \n",
       "239370   2025-08-14               3                  0             3    CIS   \n",
       "274629   2025-08-14               4                  0             1    CIS   \n",
       "302501   2025-08-14               5                  0             4    CIS   \n",
       "325557   2025-08-14               6                  0             2    CIS   \n",
       "345336   2025-08-14               7                  0             2    CIS   \n",
       "377532   2025-08-14               8                  0             2    CIS   \n",
       "403538   2025-08-14               9                  0             2    CIS   \n",
       "414743   2025-08-14              10                  0             3    CIS   \n",
       "\n",
       "         device  \n",
       "115558  Android  \n",
       "191751  Android  \n",
       "239370  Android  \n",
       "274629  Android  \n",
       "302501  Android  \n",
       "325557  Android  \n",
       "345336  Android  \n",
       "377532  Android  \n",
       "403538  Android  \n",
       "414743  Android  "
      ]
     },
     "execution_count": 66,
     "metadata": {},
     "output_type": "execute_result"
    }
   ],
   "source": [
    "#Выведим на экран все данные из таблицы sessions_history для одного пользователя с наибольшим количеством сессий:\n",
    "\n",
    "max_user_data = df_history[df_history['user_id'] == user_with_max_sessions]\n",
    "\n",
    "max_user_data.info()\n",
    "max_user_data"
   ]
  },
  {
   "cell_type": "markdown",
   "metadata": {},
   "source": [
    "У пользователя с максимальным количеством сессий 10 сессий, которые были осуществлены в период с 14 по 25 августа 2025. Сессии осуществлялись практически ежедневно за исключением 21 августа. Пользователь является незарегестрированным. Количество просмотренных страниц во время сессии варьируется от 1 до 4, при чем в начале их было больше, но четкой корреляции на снижение нет. Самые низкие значения просмотренных страниц показаны в середине пользовательского периода клиента. Пользователь из региона СНГ и использует Android. Получается, что пользователь с максимальным количеством сессий незарегестрированный и пользовался приложением лишь в короткий срок в течение 12 дней, а затем перестал пользоваться приложением, и раз он не зарегестрирован, то судя по всему не собирается в приложение возвращаться."
   ]
  },
  {
   "cell_type": "markdown",
   "metadata": {
    "id": "CmcGpJTP0eMq"
   },
   "source": [
    "#### 1.3. Анализ числа регистраций\n",
    "Одна из важнейших метрик продукта — число зарегистрированных пользователей. Используя исторические данные, визуализируйте, как менялось число регистраций в приложении за время его существования.\n",
    "\n",
    "- Агрегируйте исторические данные и рассчитайте число уникальных пользователей и число зарегистрированных пользователей для каждого дня наблюдения. Для простоты считайте, что у пользователя в течение дня бывает одна сессия максимум и статус регистрации в течение одного дня не может измениться.\n",
    "\n",
    "- Постройте линейные графики общего числа пользователей и общего числа зарегистрированных пользователей по дням. Отобразите их на одном графике.\n",
    "\n",
    "- Постройте отдельный линейный график доли зарегистрированных пользователей от всех пользователей по дням.\n",
    "\n",
    "- На обоих графиках должны быть заголовок, подписанные оси X и Y, сетка и легенда."
   ]
  },
  {
   "cell_type": "code",
   "execution_count": 67,
   "metadata": {
    "id": "tN_6Ml3EPatS"
   },
   "outputs": [],
   "source": [
    "#Рассчитаем число уникальных пользователей для каждого дня наблюдения:\n",
    "\n",
    "users_by_date = df_history.groupby(['session_date'])['user_id'].count()"
   ]
  },
  {
   "cell_type": "code",
   "execution_count": 68,
   "metadata": {},
   "outputs": [],
   "source": [
    "#Рассчитаем число зарегистрированных пользователей для каждого дня наблюдения:\n",
    "\n",
    "reg_users_by_date = df_history.groupby(['session_date'])['registration_flag'].sum()"
   ]
  },
  {
   "cell_type": "code",
   "execution_count": 69,
   "metadata": {},
   "outputs": [
    {
     "data": {
      "image/png": "[encoded data removed]",
      "text/plain": [
       "<Figure size 1152x576 with 1 Axes>"
      ]
     },
     "metadata": {
      "needs_background": "light"
     },
     "output_type": "display_data"
    }
   ],
   "source": [
    "#Построем линейные графики общего числа пользователей и общего числа зарегистрированных пользователей по дням:\n",
    "plt.figure(figsize=(16,8))\n",
    "plt.plot(users_by_date, label = 'Число пользователей')\n",
    "plt.plot(reg_users_by_date, label = 'Число зарегестрированных пользователей')\n",
    "\n",
    "plt.title('Число уникальных пользователей и число зарегистрированных пользователей по дням')\n",
    "plt.ylabel('Число уникальных пользователей')\n",
    "plt.xlabel('Даты')\n",
    "plt.xticks(rotation=45)\n",
    "plt.legend()\n",
    "plt.grid()"
   ]
  },
  {
   "cell_type": "code",
   "execution_count": 70,
   "metadata": {},
   "outputs": [
    {
     "data": {
      "image/png": "[encoded data removed]",
      "text/plain": [
       "<Figure size 1152x576 with 1 Axes>"
      ]
     },
     "metadata": {
      "needs_background": "light"
     },
     "output_type": "display_data"
    }
   ],
   "source": [
    "#Построем отдельный линейный график доли зарегистрированных пользователей от всех пользователей по дням:\n",
    "\n",
    "plt.figure(figsize=(16,8))\n",
    "plt.plot(reg_users_by_date/users_by_date)\n",
    "\n",
    "plt.title('Доля зарегистрированных пользователей от всех пользователей по дням')\n",
    "plt.ylabel('Доля зарегистрированных пользователей от всех пользователей')\n",
    "plt.xlabel('Даты')\n",
    "plt.xticks(rotation=45)\n",
    "plt.grid()"
   ]
  },
  {
   "cell_type": "markdown",
   "metadata": {},
   "source": [
    "Тенденция количества уникальных пользователей и зарегестрированных пользователей по дням схожая. Сначала надается стремительный рост (с 11 по 14 августа), потом - волнообразные скачки (до 10 сентября) и в конце стремительное падение этого числа. Максимальное значение общего числа пользователей - 17500 наблюдается 21 августа. Максимальное число зарегестрированных пользователей примерно в ту же дату - 2300. Минимальное в последний день наблюдений 23 сентября, оно приближается к нулю.\n",
    "\n",
    "По кривой доли зарегистрированных пользователей от всех пользователей по дням наблюдается в целом положительная динамика с некоторыми скачками. Однако в последний день наблюдений 23 сентября наблюдается заметное снижение от 12,5% до 10%.\n",
    "\n",
    "Резкое снижение чсила пользователей в последнее время (с 10 сентября) - тревожный сигнал.\n",
    "\n",
    "Также странно, что данные по наблюдениям собраны с 11 августа по 23 сентября 2025, то есть в будущем. Скорее всего либо ошибка в написании года, либо смоделированы гипотетические данные."
   ]
  },
  {
   "cell_type": "markdown",
   "metadata": {
    "id": "UR7D7RhF0eMr"
   },
   "source": [
    "#### 1.4. Анализ числа просмотренных страниц\n",
    "Другая важная метрика продукта — число просмотренных страниц в приложении. Чем больше страниц просмотрено, тем сильнее пользователь увлечён контентом, а значит, выше шансы на то, что он зарегистрируется и оплатит подписку.\n",
    "\n",
    "- Найдите количество сессий для каждого значения количества просмотренных страниц. Например: одну страницу просмотрели в 29160 сессиях, две страницы в 105536 сессиях и так далее.\n",
    "\n",
    "- Постройте столбчатую диаграмму, где по оси X будет число просмотренных страниц, по оси Y — количество сессий.\n",
    "\n",
    "- На диаграмме должны быть заголовок, подписанные оси X и Y."
   ]
  },
  {
   "cell_type": "code",
   "execution_count": 71,
   "metadata": {
    "id": "cb6hPlVzPaSf"
   },
   "outputs": [],
   "source": [
    "#Найдем количество сессий для каждого значения количества просмотренных страниц:\n",
    "\n",
    "sessions_by_pages = df_history.groupby('page_counter')['session_id'].count()"
   ]
  },
  {
   "cell_type": "code",
   "execution_count": 72,
   "metadata": {},
   "outputs": [
    {
     "data": {
      "text/plain": [
       "page_counter\n",
       "1     29160\n",
       "2    105536\n",
       "3    166690\n",
       "4    105569\n",
       "5     26288\n",
       "6      2589\n",
       "7        92\n",
       "Name: session_id, dtype: int64"
      ]
     },
     "execution_count": 72,
     "metadata": {},
     "output_type": "execute_result"
    }
   ],
   "source": [
    "sessions_by_pages"
   ]
  },
  {
   "cell_type": "code",
   "execution_count": 73,
   "metadata": {},
   "outputs": [
    {
     "data": {
      "text/plain": [
       "Text(0, 0.5, 'Количество сессий')"
      ]
     },
     "execution_count": 73,
     "metadata": {},
     "output_type": "execute_result"
    },
    {
     "data": {
      "image/png": "[encoded data removed]",
      "text/plain": [
       "<Figure size 432x288 with 1 Axes>"
      ]
     },
     "metadata": {
      "needs_background": "light"
     },
     "output_type": "display_data"
    }
   ],
   "source": [
    "#Построем столбчатую диаграмму, где по оси X будет число просмотренных страниц, по оси Y — количество сессий:\n",
    "\n",
    "plt.plot(figsize=(16,8))\n",
    "plt.bar(sessions_by_pages.index, sessions_by_pages.values) \n",
    "\n",
    "plt.title('Количество сессий для каждого значения количества просмотренных страниц')\n",
    "plt.xlabel('Число просмотренных страниц')\n",
    "plt.ylabel('Количество сессий')"
   ]
  },
  {
   "cell_type": "markdown",
   "metadata": {},
   "source": [
    "Наибольшее количество сессий характерно для трех просмотренных страниц (примерно 167 тыс. сессий), наименьшее - для 7 (92 сессии). В целом тенденцию можно описать следющим образом: чем центрее значение просмотренных страниц, тем выше количество сессий для них. Для одной и пяти страниц количество сессий почти равно. Для 6 и 7 страниц оно крайне мало по сравнению с отсальными значениями."
   ]
  },
  {
   "cell_type": "markdown",
   "metadata": {
    "id": "xDltSpVP0eMr"
   },
   "source": [
    "#### 1.5. Доля пользователей, просмотревших более четырёх страниц\n",
    "Продуктовая команда продукта считает, что сессии, в рамках которых пользователь просмотрел 4 и более страниц, говорят об удовлетворённости контентом и алгоритмами рекомендаций. Этот показатель является важной прокси-метрикой для продукта.\n",
    "\n",
    "- В датафрейме `sessions_history` создайте дополнительный столбец `good_session`. В него войдёт значение `1`, если за одну сессию было просмотрено 4 и более страниц, и значение `0`, если было просмотрено меньше.\n",
    "\n",
    "- Постройте график со средним значением доли успешных сессий ко всем сессиям по дням за весь период наблюдения."
   ]
  },
  {
   "cell_type": "code",
   "execution_count": 74,
   "metadata": {
    "id": "iygaPfixPYMW"
   },
   "outputs": [],
   "source": [
    "#В датафрейме `sessions_history` создадим дополнительный столбец `good_session:\n",
    "\n",
    "df_history['good_session'] = (df_history.groupby('session_id')['page_counter'].transform('sum') >= 4).astype(int)"
   ]
  },
  {
   "cell_type": "code",
   "execution_count": 75,
   "metadata": {},
   "outputs": [],
   "source": [
    "df_history['good_session'] = pd.to_numeric(df_history['good_session'],downcast='integer')"
   ]
  },
  {
   "cell_type": "code",
   "execution_count": 76,
   "metadata": {},
   "outputs": [],
   "source": [
    "#Создадим датафрейм daily_sessions, где отобразим количество сессий и колиичество успешнных сессий по датам:\n",
    "\n",
    "daily_sessions = df_history.groupby('session_date').agg(\n",
    "    total_sessions=('session_id', 'nunique'),\n",
    "    good_sessions=('good_session', 'sum')\n",
    ").reset_index()"
   ]
  },
  {
   "cell_type": "code",
   "execution_count": 77,
   "metadata": {},
   "outputs": [],
   "source": [
    "#Посчитаем рейтинг успеха по дням. Для его отображения создадим столбец sucsess_rate в новом датафрейме:\n",
    "\n",
    "daily_sessions['sucsess_rate'] = daily_sessions['good_sessions']/daily_sessions['total_sessions']"
   ]
  },
  {
   "cell_type": "code",
   "execution_count": 78,
   "metadata": {},
   "outputs": [
    {
     "data": {
      "image/png": "[encoded data removed]",
      "text/plain": [
       "<Figure size 432x288 with 1 Axes>"
      ]
     },
     "metadata": {
      "needs_background": "light"
     },
     "output_type": "display_data"
    }
   ],
   "source": [
    "#Построим график со средним значением доли успешных сессий ко всем сессиям по дням за весь период наблюдения:\n",
    "\n",
    "plt.plot(figsize=(16,8))\n",
    "plt.plot(daily_sessions['session_date'], daily_sessions['sucsess_rate'])\n",
    "\n",
    "plt.title('Среднее значение доли успешных сессий ко всем сессиям по дням')\n",
    "plt.ylabel('Доля успешных сессий')\n",
    "plt.xlabel('Даты')\n",
    "plt.xticks(rotation=45)\n",
    "plt.grid()\n",
    "\n",
    "plt.show()"
   ]
  },
  {
   "cell_type": "markdown",
   "metadata": {},
   "source": [
    "Среднее значение доли успешных сессий ко всем сессиям по дням имеет волнообразную сруктуру, но имеет тенденцию на снижение в конце периода наблюдения. Наивысшая доля успешных сессий за весь период наблюдениясоставляет 0,32 и характерна для 17 сентября, минимальня - 0,29 - 21 сентября. "
   ]
  },
  {
   "cell_type": "markdown",
   "metadata": {
    "id": "21JcG77Y0eMt"
   },
   "source": [
    "### 2. Подготовка к тесту\n",
    "При планировании теста необходимо проделать несколько важных шагов:\n",
    "\n",
    "- Определиться с целевой метрикой.\n",
    "\n",
    "- Рассчитать необходимый размер выборки.\n",
    "\n",
    "- Исходя из текущих значений трафика, рассчитать необходимую длительность проведения теста."
   ]
  },
  {
   "cell_type": "markdown",
   "metadata": {
    "id": "uzaeln270eMt"
   },
   "source": [
    "#### 2.1. Расчёт размера выборки\n",
    "В рамках курса вам уже приходилось рассчитывать размеры выборки, используя онлайн-калькуляторы. В этом задании предлагаем воспользоваться готовым кодом и рассчитать необходимое для вашего дизайна эксперимента количество пользователей.\n",
    "\n",
    "Для этого установите в коде ниже следующие параметры:\n",
    "\n",
    "- Уровень значимости — 0.05.\n",
    "\n",
    "- Вероятность ошибки второго рода — 0.2.\n",
    "\n",
    "- Мощность теста.\n",
    "\n",
    "- Минимальный детектируемый эффект, или MDE, — 3%. Обратите внимание, что здесь нужно указать десятичную дробь, а не процент.\n",
    "\n",
    "При расчёте размера выборки мы будем использовать метод `solve_power()` из класса `power.NormalIndPower` модуля `statsmodels.stats`.\n",
    "\n",
    "Запустите ячейку и изучите полученное значение."
   ]
  },
  {
   "cell_type": "code",
   "execution_count": 79,
   "metadata": {
    "id": "zSxJyPGPNdaI"
   },
   "outputs": [
    {
     "name": "stdout",
     "output_type": "stream",
     "text": [
      "Необходимый размер выборки для каждой группы: 17441\n"
     ]
    }
   ],
   "source": [
    "from statsmodels.stats.power import NormalIndPower\n",
    "\n",
    "# Задаём параметры\n",
    "alpha = 0.05  # Уровень значимости\n",
    "beta = 0.2  # Ошибка второго рода, часто 1 - мощность\n",
    "power = 1 - beta  # Мощность теста\n",
    "mde = 0.03  # Минимальный детектируемый эффект\n",
    "\n",
    "# Инициализируем класс NormalIndPower\n",
    "power_analysis = NormalIndPower()\n",
    "\n",
    "# Рассчитываем размер выборки\n",
    "sample_size = power_analysis.solve_power(\n",
    "    effect_size = mde,\n",
    "    power = power,\n",
    "    alpha = alpha,\n",
    "    ratio = 1 # Равномерное распределение выборок\n",
    ")\n",
    "\n",
    "print(f\"Необходимый размер выборки для каждой группы: {int(sample_size)}\")"
   ]
  },
  {
   "cell_type": "markdown",
   "metadata": {
    "id": "qLEv4RoV0eMu"
   },
   "source": [
    "#### 2.1. Расчёт длительности A/B-теста\n",
    "\n",
    "Используйте данные о количестве пользователей в каждой выборке и среднем количестве пользователей приложения. Рассчитайте длительность теста, разделив одно на другое.\n",
    "\n",
    "- Рассчитайте среднее количество уникальных пользователей приложения в день.\n",
    "\n",
    "- Определите длительность теста, исходя из рассчитанного значения размера выборок и среднего дневного трафика приложения. Количество дней округлите в большую сторону."
   ]
  },
  {
   "cell_type": "code",
   "execution_count": 80,
   "metadata": {
    "id": "KZDRbryDOGHa"
   },
   "outputs": [
    {
     "name": "stdout",
     "output_type": "stream",
     "text": [
      "Рассчитанная длительность A/B-теста при текущем уровене трафика в 9907.363636363636 пользователей в день составит 4 дней\n"
     ]
    }
   ],
   "source": [
    "from math import ceil\n",
    "\n",
    "# Среднее количество пользователей приложения в день по историческим данным\n",
    "avg_daily_users = users_by_date.mean()\n",
    "\n",
    "# Рассчитываем длительность теста в днях как отношение размера выборки к среднему числу пользователей\n",
    "test_duration = ceil(sample_size*2/avg_daily_users)\n",
    "\n",
    "print(f\"Рассчитанная длительность A/B-теста при текущем уровене трафика в {avg_daily_users} пользователей в день составит {test_duration} дней\")"
   ]
  },
  {
   "cell_type": "markdown",
   "metadata": {
    "id": "ZuvtAdha0eMv"
   },
   "source": [
    "### 3. Мониторинг А/В-теста"
   ]
  },
  {
   "cell_type": "markdown",
   "metadata": {
    "id": "jq5sE3Ya0eMv"
   },
   "source": [
    "#### 3.1. Проверка распределения пользователей\n",
    "\n",
    "A/B-тест успешно запущен, и уже доступны данные за первые три дня. На этом этапе нужно убедиться, что всё идёт хорошо: пользователи разделены правильным образом, а интересующие вас метрики корректно считаются.\n",
    "\n",
    "- Считайте и сохраните в датафрейм `sessions_test_part` CSV-файл с историческими данными о сессиях пользователей `sessions_project_test_part.csv`.\n",
    "\n",
    "- Рассчитайте количество уникальных пользователей в каждой из экспериментальных групп для одного дня наблюдения.\n",
    "\n",
    "- Рассчитайте и выведите на экран процентную разницу в количестве пользователей в группах A и B. Постройте любую удобную визуализацию, на которой можно было бы увидеть возможное различие двух групп.\n",
    "\n",
    "Для расчёта процентной разницы воспользуйтесь формулой:\n",
    "$$P = 100 \\cdot  \\frac{|A − B|}{A}$$"
   ]
  },
  {
   "cell_type": "code",
   "execution_count": 81,
   "metadata": {
    "id": "G1bqIzDJOUiz"
   },
   "outputs": [
    {
     "data": {
      "text/html": [
       "<div>\n",
       "<style scoped>\n",
       "    .dataframe tbody tr th:only-of-type {\n",
       "        vertical-align: middle;\n",
       "    }\n",
       "\n",
       "    .dataframe tbody tr th {\n",
       "        vertical-align: top;\n",
       "    }\n",
       "\n",
       "    .dataframe thead th {\n",
       "        text-align: right;\n",
       "    }\n",
       "</style>\n",
       "<table border=\"1\" class=\"dataframe\">\n",
       "  <thead>\n",
       "    <tr style=\"text-align: right;\">\n",
       "      <th></th>\n",
       "      <th>user_id</th>\n",
       "      <th>session_id</th>\n",
       "      <th>session_date</th>\n",
       "      <th>session_start_ts</th>\n",
       "      <th>install_date</th>\n",
       "      <th>session_number</th>\n",
       "      <th>registration_flag</th>\n",
       "      <th>page_counter</th>\n",
       "      <th>region</th>\n",
       "      <th>device</th>\n",
       "      <th>test_group</th>\n",
       "    </tr>\n",
       "  </thead>\n",
       "  <tbody>\n",
       "    <tr>\n",
       "      <th>0</th>\n",
       "      <td>3404844B53442747</td>\n",
       "      <td>B4901323BD537E45</td>\n",
       "      <td>2025-10-14</td>\n",
       "      <td>2025-10-14 19:28:49</td>\n",
       "      <td>2025-10-14</td>\n",
       "      <td>1</td>\n",
       "      <td>0</td>\n",
       "      <td>3</td>\n",
       "      <td>CIS</td>\n",
       "      <td>Android</td>\n",
       "      <td>B</td>\n",
       "    </tr>\n",
       "    <tr>\n",
       "      <th>1</th>\n",
       "      <td>3A2BF4D364E62D89</td>\n",
       "      <td>216FC619308F8788</td>\n",
       "      <td>2025-10-14</td>\n",
       "      <td>2025-10-14 21:11:04</td>\n",
       "      <td>2025-10-14</td>\n",
       "      <td>1</td>\n",
       "      <td>0</td>\n",
       "      <td>3</td>\n",
       "      <td>MENA</td>\n",
       "      <td>iPhone</td>\n",
       "      <td>A</td>\n",
       "    </tr>\n",
       "    <tr>\n",
       "      <th>2</th>\n",
       "      <td>79CDAE11E32B1597</td>\n",
       "      <td>EDFCE4AC1A504074</td>\n",
       "      <td>2025-10-14</td>\n",
       "      <td>2025-10-14 21:44:03</td>\n",
       "      <td>2025-10-14</td>\n",
       "      <td>1</td>\n",
       "      <td>0</td>\n",
       "      <td>3</td>\n",
       "      <td>CIS</td>\n",
       "      <td>iPhone</td>\n",
       "      <td>A</td>\n",
       "    </tr>\n",
       "    <tr>\n",
       "      <th>3</th>\n",
       "      <td>D6AF8D78297A931F</td>\n",
       "      <td>CF0AC0EEDE92C690</td>\n",
       "      <td>2025-10-14</td>\n",
       "      <td>2025-10-14 19:07:55</td>\n",
       "      <td>2025-10-14</td>\n",
       "      <td>1</td>\n",
       "      <td>0</td>\n",
       "      <td>4</td>\n",
       "      <td>CIS</td>\n",
       "      <td>PC</td>\n",
       "      <td>A</td>\n",
       "    </tr>\n",
       "    <tr>\n",
       "      <th>4</th>\n",
       "      <td>37E0CE723AE568E0</td>\n",
       "      <td>2E6ED45E8C86C4E9</td>\n",
       "      <td>2025-10-14</td>\n",
       "      <td>2025-10-14 15:39:44</td>\n",
       "      <td>2025-10-14</td>\n",
       "      <td>1</td>\n",
       "      <td>0</td>\n",
       "      <td>3</td>\n",
       "      <td>CIS</td>\n",
       "      <td>Mac</td>\n",
       "      <td>B</td>\n",
       "    </tr>\n",
       "  </tbody>\n",
       "</table>\n",
       "</div>"
      ],
      "text/plain": [
       "            user_id        session_id session_date     session_start_ts  \\\n",
       "0  3404844B53442747  B4901323BD537E45   2025-10-14  2025-10-14 19:28:49   \n",
       "1  3A2BF4D364E62D89  216FC619308F8788   2025-10-14  2025-10-14 21:11:04   \n",
       "2  79CDAE11E32B1597  EDFCE4AC1A504074   2025-10-14  2025-10-14 21:44:03   \n",
       "3  D6AF8D78297A931F  CF0AC0EEDE92C690   2025-10-14  2025-10-14 19:07:55   \n",
       "4  37E0CE723AE568E0  2E6ED45E8C86C4E9   2025-10-14  2025-10-14 15:39:44   \n",
       "\n",
       "  install_date  session_number  registration_flag  page_counter region  \\\n",
       "0   2025-10-14               1                  0             3    CIS   \n",
       "1   2025-10-14               1                  0             3   MENA   \n",
       "2   2025-10-14               1                  0             3    CIS   \n",
       "3   2025-10-14               1                  0             4    CIS   \n",
       "4   2025-10-14               1                  0             3    CIS   \n",
       "\n",
       "    device test_group  \n",
       "0  Android          B  \n",
       "1   iPhone          A  \n",
       "2   iPhone          A  \n",
       "3       PC          A  \n",
       "4      Mac          B  "
      ]
     },
     "execution_count": 81,
     "metadata": {},
     "output_type": "execute_result"
    }
   ],
   "source": [
    "#Сохраним в датафрейм sessions_test_part CSV-файл с историческими данными о сессиях пользователей и выведим его первые 5 строк на экран:\n",
    "\n",
    "sessions_test_part = pd.read_csv('https://code.s3.yandex.net/datasets/sessions_project_test_part.csv')\n",
    "\n",
    "sessions_test_part.head()"
   ]
  },
  {
   "cell_type": "code",
   "execution_count": 82,
   "metadata": {},
   "outputs": [],
   "source": [
    "#На его основе создадим датафрейм users_by_group, в котром покажем количество уникальных пользователей в каждой из групп:\n",
    "\n",
    "users_by_group = sessions_test_part.groupby('test_group').agg(users_count=('user_id', 'nunique')).reset_index()"
   ]
  },
  {
   "cell_type": "code",
   "execution_count": 83,
   "metadata": {},
   "outputs": [
    {
     "data": {
      "text/html": [
       "<div>\n",
       "<style scoped>\n",
       "    .dataframe tbody tr th:only-of-type {\n",
       "        vertical-align: middle;\n",
       "    }\n",
       "\n",
       "    .dataframe tbody tr th {\n",
       "        vertical-align: top;\n",
       "    }\n",
       "\n",
       "    .dataframe thead th {\n",
       "        text-align: right;\n",
       "    }\n",
       "</style>\n",
       "<table border=\"1\" class=\"dataframe\">\n",
       "  <thead>\n",
       "    <tr style=\"text-align: right;\">\n",
       "      <th></th>\n",
       "      <th>test_group</th>\n",
       "      <th>users_count</th>\n",
       "    </tr>\n",
       "  </thead>\n",
       "  <tbody>\n",
       "    <tr>\n",
       "      <th>0</th>\n",
       "      <td>A</td>\n",
       "      <td>1477</td>\n",
       "    </tr>\n",
       "    <tr>\n",
       "      <th>1</th>\n",
       "      <td>B</td>\n",
       "      <td>1466</td>\n",
       "    </tr>\n",
       "  </tbody>\n",
       "</table>\n",
       "</div>"
      ],
      "text/plain": [
       "  test_group  users_count\n",
       "0          A         1477\n",
       "1          B         1466"
      ]
     },
     "execution_count": 83,
     "metadata": {},
     "output_type": "execute_result"
    }
   ],
   "source": [
    "users_by_group"
   ]
  },
  {
   "cell_type": "code",
   "execution_count": 84,
   "metadata": {},
   "outputs": [],
   "source": [
    "#Выведем количество уникальных пользователей в группах в значениях A и B:\n",
    "\n",
    "A = users_by_group[users_by_group['test_group'] == 'A']['users_count'].sum()"
   ]
  },
  {
   "cell_type": "code",
   "execution_count": 85,
   "metadata": {},
   "outputs": [],
   "source": [
    "B = users_by_group[users_by_group['test_group'] == 'B']['users_count'].sum()"
   ]
  },
  {
   "cell_type": "code",
   "execution_count": 86,
   "metadata": {},
   "outputs": [],
   "source": [
    "#Рассчитаем и выведим на экран процентную разницу в количестве пользователей в группах A и B:\n",
    "\n",
    "P = 100*((A-B)/A)"
   ]
  },
  {
   "cell_type": "code",
   "execution_count": 87,
   "metadata": {},
   "outputs": [
    {
     "data": {
      "text/plain": [
       "0.7447528774542992"
      ]
     },
     "execution_count": 87,
     "metadata": {},
     "output_type": "execute_result"
    }
   ],
   "source": [
    "P"
   ]
  },
  {
   "cell_type": "code",
   "execution_count": 88,
   "metadata": {},
   "outputs": [
    {
     "data": {
      "text/plain": [
       "Text(0, 0.5, 'Группы')"
      ]
     },
     "execution_count": 88,
     "metadata": {},
     "output_type": "execute_result"
    },
    {
     "data": {
      "image/png": "[encoded data removed]",
      "text/plain": [
       "<Figure size 432x288 with 1 Axes>"
      ]
     },
     "metadata": {
      "needs_background": "light"
     },
     "output_type": "display_data"
    }
   ],
   "source": [
    "#Построим визуализацию, на которой можно было бы увидеть возможное различие двух групп:\n",
    "\n",
    "plt.plot(figsize=(16,8))\n",
    "\n",
    "plt.barh(users_by_group['test_group'], users_by_group['users_count'])\n",
    "\n",
    "plt.title('Количество пользователей в группах')\n",
    "plt.xlabel('Количество пользователей')\n",
    "plt.ylabel('Группы')"
   ]
  },
  {
   "cell_type": "markdown",
   "metadata": {},
   "source": [
    "Процентная разница составляет менее 1. На графике видно, что разница между двумя группами несущественна."
   ]
  },
  {
   "cell_type": "markdown",
   "metadata": {
    "id": "sgpNY5bv0eM0"
   },
   "source": [
    "#### 3.2. Проверка пересечений пользователей\n",
    "Помимо проверки равенства количества пользователей в группах полезно убедиться в том, что группы независимы. Для этого нужно убедиться, что никто из пользователей случайно не попал в обе группы одновременно.\n",
    "\n",
    "- Рассчитайте количество пользователей, которые встречаются одновременно в группах A и B, или убедитесь, что таких нет."
   ]
  },
  {
   "cell_type": "code",
   "execution_count": 89,
   "metadata": {
    "id": "E72ozN9FOX1u"
   },
   "outputs": [
    {
     "data": {
      "text/plain": [
       "[]"
      ]
     },
     "execution_count": 89,
     "metadata": {},
     "output_type": "execute_result"
    }
   ],
   "source": [
    "#Рассчитаем количество пользователей, которые встречаются одновременно в группах A и B, или убедимся, что таких нет:\n",
    "\n",
    "A_user_id = sessions_test_part[sessions_test_part['test_group'] == 'A']['user_id']\n",
    "\n",
    "B_user_id = sessions_test_part[sessions_test_part['test_group'] == 'B']['user_id']\n",
    "\n",
    "intersection = list(set(A_user_id) & set(B_user_id))\n",
    "\n",
    "intersection"
   ]
  },
  {
   "cell_type": "markdown",
   "metadata": {},
   "source": [
    "Таких пользователей нет."
   ]
  },
  {
   "cell_type": "markdown",
   "metadata": {
    "id": "6RvkNLrg0eM1"
   },
   "source": [
    "#### 3.3. Равномерность разделения пользователей по устройствам\n",
    "Полезно также убедиться в том, что пользователи равномерно распределены по всем доступным категориальным переменным — типам устройства и регионам.\n",
    "\n",
    "Постройте две диаграммы:\n",
    "\n",
    "- доля каждого типа устройства для пользователей из группы A,\n",
    "\n",
    "- доля каждого типа устройства для пользователей из группы B.\n",
    "\n",
    "Постарайтесь добавить на диаграммы все необходимые подписи, пояснения и заголовки, которые позволят сделать вывод о том, совпадает ли распределение устройств в группах A и B.\n"
   ]
  },
  {
   "cell_type": "code",
   "execution_count": 90,
   "metadata": {
    "id": "x_IP6PUNPWHC"
   },
   "outputs": [
    {
     "data": {
      "text/plain": [
       "device   test_group\n",
       "Android  A             656\n",
       "         B             668\n",
       "Mac      A             156\n",
       "         B             148\n",
       "PC       A             369\n",
       "         B             381\n",
       "iPhone   A             296\n",
       "         B             269\n",
       "Name: user_id, dtype: int64"
      ]
     },
     "execution_count": 90,
     "metadata": {},
     "output_type": "execute_result"
    }
   ],
   "source": [
    "sessions_test_part.groupby(['device','test_group'])['user_id'].nunique()"
   ]
  },
  {
   "cell_type": "code",
   "execution_count": 91,
   "metadata": {},
   "outputs": [],
   "source": [
    "#Сгруппируем данные по группе А в отдельный датафрейм:\n",
    "\n",
    "A_group = sessions_test_part[sessions_test_part['test_group']=='A']"
   ]
  },
  {
   "cell_type": "code",
   "execution_count": 92,
   "metadata": {},
   "outputs": [],
   "source": [
    "#Сохраним данные по количеству пользователей по группе устройств для группы А:\n",
    "\n",
    "A_device_count = A_group.groupby('device')['user_id'].nunique()"
   ]
  },
  {
   "cell_type": "code",
   "execution_count": 93,
   "metadata": {},
   "outputs": [],
   "source": [
    "#Сгруппируем данные по группе B в отдельный датафрейм:\n",
    "\n",
    "B_group = sessions_test_part[sessions_test_part['test_group']=='B']"
   ]
  },
  {
   "cell_type": "code",
   "execution_count": 94,
   "metadata": {},
   "outputs": [],
   "source": [
    "#Сохраним данные по количеству пользователей по группе устройств для группы B:\n",
    "\n",
    "B_device_count = B_group.groupby('device')['user_id'].nunique()"
   ]
  },
  {
   "cell_type": "code",
   "execution_count": 95,
   "metadata": {},
   "outputs": [
    {
     "data": {
      "text/plain": [
       "Text(0.5, 1.0, 'Распределение устройств для пользователей из группы А')"
      ]
     },
     "execution_count": 95,
     "metadata": {},
     "output_type": "execute_result"
    },
    {
     "data": {
      "image/png": "[encoded data removed]",
      "text/plain": [
       "<Figure size 432x288 with 1 Axes>"
      ]
     },
     "metadata": {},
     "output_type": "display_data"
    }
   ],
   "source": [
    "#Построим диаграмму по доле каждого типа устройства для пользователей из группы А:\n",
    "\n",
    "plt.plot(figsize=(16,8))\n",
    "\n",
    "plt.pie(A_device_count, labels=A_device_count.index,\n",
    "    autopct='%1.1f%%'\n",
    ")\n",
    "\n",
    "plt.title('Распределение устройств для пользователей из группы А')"
   ]
  },
  {
   "cell_type": "code",
   "execution_count": 96,
   "metadata": {},
   "outputs": [
    {
     "data": {
      "text/plain": [
       "Text(0.5, 1.0, 'Распределение устройств для пользователей из группы B')"
      ]
     },
     "execution_count": 96,
     "metadata": {},
     "output_type": "execute_result"
    },
    {
     "data": {
      "image/png": "[encoded data removed]",
      "text/plain": [
       "<Figure size 432x288 with 1 Axes>"
      ]
     },
     "metadata": {},
     "output_type": "display_data"
    }
   ],
   "source": [
    "#Построим диаграмму по доле каждого типа устройства для пользователей из группы B:\n",
    "\n",
    "plt.plot(figsize=(16,8))\n",
    "\n",
    "plt.pie(B_device_count, labels=B_device_count.index,\n",
    "    autopct='%1.1f%%'\n",
    ")\n",
    "\n",
    "plt.title('Распределение устройств для пользователей из группы B')"
   ]
  },
  {
   "cell_type": "markdown",
   "metadata": {},
   "source": [
    "В целом распределение устройств для из двух групп схожее."
   ]
  },
  {
   "cell_type": "markdown",
   "metadata": {
    "id": "gAgmP6vo0eM1"
   },
   "source": [
    "#### 3.4. Равномерность распределения пользователей по регионам\n",
    "Теперь убедитесь, что пользователи равномерно распределены по регионам.\n",
    "\n",
    "Постройте две диаграммы:\n",
    "\n",
    "- доля каждого региона для пользователей из группы A,\n",
    "\n",
    "- доля каждого региона для пользователей из группы B.\n",
    "\n",
    "Постарайтесь добавить на диаграммы все необходимые подписи, пояснения и заголовки, которые позволят сделать вывод о том, совпадает ли распределение регионов в группах A и B. Постарайтесь использовать другой тип диаграммы, не тот, что в прошлом задании.\n"
   ]
  },
  {
   "cell_type": "code",
   "execution_count": 97,
   "metadata": {
    "id": "3hAq-FG4OdYM"
   },
   "outputs": [],
   "source": [
    "#Сохраним данные по количеству пользователей по группе устройств для группы А:\n",
    "\n",
    "A_region_count = A_group.groupby('region')['user_id'].nunique()"
   ]
  },
  {
   "cell_type": "code",
   "execution_count": 98,
   "metadata": {},
   "outputs": [],
   "source": [
    "#Сохраним данные по количеству пользователей по группе устройств для группы B:\n",
    "\n",
    "B_region_count = B_group.groupby('region')['user_id'].nunique()"
   ]
  },
  {
   "cell_type": "code",
   "execution_count": 99,
   "metadata": {},
   "outputs": [
    {
     "data": {
      "text/plain": [
       "Text(0.5, 1.0, 'Распределение пользователей по регионам из группы А')"
      ]
     },
     "execution_count": 99,
     "metadata": {},
     "output_type": "execute_result"
    },
    {
     "data": {
      "image/png": "[encoded data removed]",
      "text/plain": [
       "<Figure size 432x288 with 1 Axes>"
      ]
     },
     "metadata": {},
     "output_type": "display_data"
    }
   ],
   "source": [
    "#Построим диаграмму распределения пользователей по регионам из группы А:\n",
    "\n",
    "plt.plot(figsize=(16,8))\n",
    "\n",
    "plt.pie(A_region_count, labels=A_region_count.index,\n",
    "       autopct='%1.1f%%')\n",
    "\n",
    "plt.title('Распределение пользователей по регионам из группы А')"
   ]
  },
  {
   "cell_type": "code",
   "execution_count": 100,
   "metadata": {},
   "outputs": [
    {
     "data": {
      "text/plain": [
       "Text(0.5, 1.0, 'Распределение пользователей по регионам из группы B')"
      ]
     },
     "execution_count": 100,
     "metadata": {},
     "output_type": "execute_result"
    },
    {
     "data": {
      "image/png": "[encoded data removed]",
      "text/plain": [
       "<Figure size 432x288 with 1 Axes>"
      ]
     },
     "metadata": {},
     "output_type": "display_data"
    }
   ],
   "source": [
    "#Построим диаграмму распределения пользователей по регионам из группы B:\n",
    "\n",
    "plt.plot(figsize=(16,8))\n",
    "\n",
    "plt.pie(B_region_count, labels=B_region_count.index,\n",
    "       autopct='%1.1f%%')\n",
    "\n",
    "plt.title('Распределение пользователей по регионам из группы B')"
   ]
  },
  {
   "cell_type": "markdown",
   "metadata": {},
   "source": [
    "В целом распределение пользователей по регионам для из двух групп схожее."
   ]
  },
  {
   "cell_type": "markdown",
   "metadata": {
    "id": "X2WSZ-sDrSUi"
   },
   "source": [
    "#### 3.5. Вывод после проверки A/B-теста\n",
    "\n",
    "На основе проведённого анализа A/B-теста сформулируйте и запишите свои выводы. В выводе обязательно укажите:\n",
    "\n",
    "- Были ли обнаружено различие в количестве пользователей в двух группах.\n",
    "\n",
    "- Являются ли выборки независимыми. Было ли обнаружено пересечение пользователей из тестовой и контрольной групп.\n",
    "\n",
    "- Сохраняется ли равномерное распределение пользователей тестовой и контрольной групп по категориальным переменным: устройствам и регионам.\n",
    "\n",
    "Сделайте заключение о том, корректно ли проходит A/B-тест или наблюдаются какие-либо нарушения."
   ]
  },
  {
   "cell_type": "markdown",
   "metadata": {},
   "source": [
    "Между двумя группами ощутимая разница не наблюдается.\n",
    "\n",
    "Процентная разница между количеством пользователей в двух группах составляет менее 1. Разница между двумя группами несущественна.\n",
    "\n",
    "Выборки независимы. Не было обнаружено пересечения пользователей из тестовой и контрольной групп.\n",
    "\n",
    "Сохраняетя равномерное распределение пользователей тестовой и контрольной групп по категориальным переменным: устройствам и регионам.\n",
    "\n",
    "A/B-тест проходит корректно. Нарушений не наблюдается."
   ]
  },
  {
   "cell_type": "markdown",
   "metadata": {
    "id": "nudRr_BQ0eM2"
   },
   "source": [
    "### 4. Проверка результатов A/B-теста\n",
    "\n",
    "A/B-тест завершён, и у вас есть результаты за все дни проведения эксперимента. Необходимо убедиться в корректности теста и верно интерпретировать результаты."
   ]
  },
  {
   "cell_type": "markdown",
   "metadata": {
    "id": "JVve-YBB0eM2"
   },
   "source": [
    "#### 4.1. Получение результатов теста и подсчёт основной метрики\n",
    "\n",
    "- Считайте и сохраните в датафрейм `sessions_test` CSV-файл с историческими данными о сессиях пользователей `sessions_project_test.csv`.\n",
    "\n",
    "- В датафрейме `sessions_test` создайте дополнительный столбец `good_session`. В него войдёт значение `1`, если за одну сессию было просмотрено 4 и более страниц, и значение `0`, если просмотрено меньше."
   ]
  },
  {
   "cell_type": "code",
   "execution_count": 101,
   "metadata": {
    "id": "EqRlwMtKPTir"
   },
   "outputs": [
    {
     "data": {
      "text/html": [
       "<div>\n",
       "<style scoped>\n",
       "    .dataframe tbody tr th:only-of-type {\n",
       "        vertical-align: middle;\n",
       "    }\n",
       "\n",
       "    .dataframe tbody tr th {\n",
       "        vertical-align: top;\n",
       "    }\n",
       "\n",
       "    .dataframe thead th {\n",
       "        text-align: right;\n",
       "    }\n",
       "</style>\n",
       "<table border=\"1\" class=\"dataframe\">\n",
       "  <thead>\n",
       "    <tr style=\"text-align: right;\">\n",
       "      <th></th>\n",
       "      <th>user_id</th>\n",
       "      <th>session_id</th>\n",
       "      <th>session_date</th>\n",
       "      <th>session_start_ts</th>\n",
       "      <th>install_date</th>\n",
       "      <th>session_number</th>\n",
       "      <th>registration_flag</th>\n",
       "      <th>page_counter</th>\n",
       "      <th>region</th>\n",
       "      <th>device</th>\n",
       "      <th>test_group</th>\n",
       "    </tr>\n",
       "  </thead>\n",
       "  <tbody>\n",
       "    <tr>\n",
       "      <th>0</th>\n",
       "      <td>6DAE3B3654DA738E</td>\n",
       "      <td>C69249E26E58F6E2</td>\n",
       "      <td>2025-10-26</td>\n",
       "      <td>2025-10-26 18:15:05</td>\n",
       "      <td>2025-10-16</td>\n",
       "      <td>3</td>\n",
       "      <td>0</td>\n",
       "      <td>3</td>\n",
       "      <td>MENA</td>\n",
       "      <td>Android</td>\n",
       "      <td>A</td>\n",
       "    </tr>\n",
       "    <tr>\n",
       "      <th>1</th>\n",
       "      <td>0A3FE5D1DD59110A</td>\n",
       "      <td>66D66D7C9F5181B7</td>\n",
       "      <td>2025-10-21</td>\n",
       "      <td>2025-10-21 17:04:53</td>\n",
       "      <td>2025-10-15</td>\n",
       "      <td>2</td>\n",
       "      <td>1</td>\n",
       "      <td>2</td>\n",
       "      <td>CIS</td>\n",
       "      <td>Android</td>\n",
       "      <td>B</td>\n",
       "    </tr>\n",
       "    <tr>\n",
       "      <th>2</th>\n",
       "      <td>2041F1D7AA740B88</td>\n",
       "      <td>50DE51D42215E74C</td>\n",
       "      <td>2025-10-23</td>\n",
       "      <td>2025-10-23 17:39:29</td>\n",
       "      <td>2025-10-19</td>\n",
       "      <td>3</td>\n",
       "      <td>0</td>\n",
       "      <td>2</td>\n",
       "      <td>MENA</td>\n",
       "      <td>Android</td>\n",
       "      <td>A</td>\n",
       "    </tr>\n",
       "    <tr>\n",
       "      <th>3</th>\n",
       "      <td>43D7585009168086</td>\n",
       "      <td>5763C0C353C22263</td>\n",
       "      <td>2025-10-24</td>\n",
       "      <td>2025-10-24 15:01:57</td>\n",
       "      <td>2025-10-18</td>\n",
       "      <td>4</td>\n",
       "      <td>0</td>\n",
       "      <td>1</td>\n",
       "      <td>CIS</td>\n",
       "      <td>iPhone</td>\n",
       "      <td>B</td>\n",
       "    </tr>\n",
       "    <tr>\n",
       "      <th>4</th>\n",
       "      <td>15AD68B14D62D88C</td>\n",
       "      <td>B1AD09F93C1053BC</td>\n",
       "      <td>2025-10-17</td>\n",
       "      <td>2025-10-17 17:34:39</td>\n",
       "      <td>2025-10-17</td>\n",
       "      <td>1</td>\n",
       "      <td>0</td>\n",
       "      <td>2</td>\n",
       "      <td>MENA</td>\n",
       "      <td>Android</td>\n",
       "      <td>B</td>\n",
       "    </tr>\n",
       "  </tbody>\n",
       "</table>\n",
       "</div>"
      ],
      "text/plain": [
       "            user_id        session_id session_date     session_start_ts  \\\n",
       "0  6DAE3B3654DA738E  C69249E26E58F6E2   2025-10-26  2025-10-26 18:15:05   \n",
       "1  0A3FE5D1DD59110A  66D66D7C9F5181B7   2025-10-21  2025-10-21 17:04:53   \n",
       "2  2041F1D7AA740B88  50DE51D42215E74C   2025-10-23  2025-10-23 17:39:29   \n",
       "3  43D7585009168086  5763C0C353C22263   2025-10-24  2025-10-24 15:01:57   \n",
       "4  15AD68B14D62D88C  B1AD09F93C1053BC   2025-10-17  2025-10-17 17:34:39   \n",
       "\n",
       "  install_date  session_number  registration_flag  page_counter region  \\\n",
       "0   2025-10-16               3                  0             3   MENA   \n",
       "1   2025-10-15               2                  1             2    CIS   \n",
       "2   2025-10-19               3                  0             2   MENA   \n",
       "3   2025-10-18               4                  0             1    CIS   \n",
       "4   2025-10-17               1                  0             2   MENA   \n",
       "\n",
       "    device test_group  \n",
       "0  Android          A  \n",
       "1  Android          B  \n",
       "2  Android          A  \n",
       "3   iPhone          B  \n",
       "4  Android          B  "
      ]
     },
     "execution_count": 101,
     "metadata": {},
     "output_type": "execute_result"
    }
   ],
   "source": [
    "#Сохраним в датафрейм`sessions_test`CSV-файл с историческими данными о сессиях пользователей `sessions_project_test.csv:\n",
    "\n",
    "sessions_test = pd.read_csv('https://code.s3.yandex.net/datasets/sessions_project_test.csv')\n",
    "\n",
    "sessions_test.head()"
   ]
  },
  {
   "cell_type": "code",
   "execution_count": 102,
   "metadata": {},
   "outputs": [],
   "source": [
    "#В датафрейме sessions_test создадим дополнительный столбец good_session:\n",
    "\n",
    "sessions_test['good_session'] = (sessions_test.groupby('session_id')['page_counter'].transform('sum') >= 4).astype(int)"
   ]
  },
  {
   "cell_type": "markdown",
   "metadata": {
    "id": "aeYhrMYy0eM2"
   },
   "source": [
    "#### 4.2. Проверка корректности результатов теста\n",
    "\n",
    "Прежде чем приступать к анализу ключевых продуктовых метрик, необходимо убедиться, что тест проведён корректно и вы будете сравнивать две сопоставимые группы.\n",
    "\n",
    "- Рассчитайте количество уникальных сессий для каждого дня и обеих тестовых групп, используя группировку.\n",
    "\n",
    "- Проверьте, что количество уникальных дневных сессий в двух выборках не различается или различия не статистически значимы. Используйте статистический тест, который позволит сделать вывод о равенстве средних двух выборок.\n",
    "\n",
    "- В качестве ответа выведите на экран полученное значение p-value и интерпретируйте его."
   ]
  },
  {
   "cell_type": "markdown",
   "metadata": {},
   "source": [
    "Перед тестом сформулируем нулевую и альетрнативную гипотезы:\n",
    "H₀ (нулевая гипотеза) — количество уникальных дневных сессий не различается между тестовой и контрольной группами.\n",
    "H₁ (альтернативная гипотеза) — количество уникальных дневных сессий различается между тестовой и контрольной группами."
   ]
  },
  {
   "cell_type": "code",
   "execution_count": 103,
   "metadata": {
    "id": "5NUlcltkTTSU"
   },
   "outputs": [],
   "source": [
    "sessions_test_A = sessions_test[sessions_test['test_group'] == 'A']"
   ]
  },
  {
   "cell_type": "code",
   "execution_count": 104,
   "metadata": {},
   "outputs": [],
   "source": [
    "sessions_test_B = sessions_test[sessions_test['test_group'] == 'B']"
   ]
  },
  {
   "cell_type": "code",
   "execution_count": 105,
   "metadata": {},
   "outputs": [],
   "source": [
    "sessions_A = sessions_test_A.groupby('session_date')['session_id'].nunique()"
   ]
  },
  {
   "cell_type": "code",
   "execution_count": 106,
   "metadata": {},
   "outputs": [],
   "source": [
    "sessions_B = sessions_test_B.groupby('session_date')['session_id'].nunique()"
   ]
  },
  {
   "cell_type": "code",
   "execution_count": 107,
   "metadata": {},
   "outputs": [
    {
     "name": "stdout",
     "output_type": "stream",
     "text": [
      "p-значение: 0.938219304859116\n",
      "Не удалось отвергнуть нулевую гипотезу.Количество уникальных дневных сессий в двух выборках не различается или различия не статистически значимы\n"
     ]
    }
   ],
   "source": [
    "alpha = 0.05\n",
    "results = st.ttest_ind(sessions_A, sessions_B, alternative = 'two-sided')\n",
    "\n",
    "print('p-значение:', results.pvalue)\n",
    "\n",
    "if results.pvalue<alpha:\n",
    "    print('Отвергаем нулевую гипотезу.' \n",
    "      'Количество уникальных дневных сессий в двух выборках различается, и различия статистически значимы')\n",
    "else:\n",
    "    print('Не удалось отвергнуть нулевую гипотезу.' \n",
    "      'Количество уникальных дневных сессий в двух выборках не различается или различия не статистически значимы')"
   ]
  },
  {
   "cell_type": "markdown",
   "metadata": {},
   "source": [
    "p-значение: 0.938219304859116, что сильно выше чем значение alpha.\n",
    "Это значит, что количество уникальных дневных сессий в двух выборках не различается или различия не статистически значимы."
   ]
  },
  {
   "cell_type": "markdown",
   "metadata": {
    "id": "7kwRxzg70eM3"
   },
   "source": [
    "#### 4.3. Сравнение доли успешных сессий\n",
    "\n",
    "Когда вы убедились, что количество сессий в обеих выборках не различалось, можно переходить к анализу ключевой метрики — доли успешных сессий.\n",
    "\n",
    "Используйте созданный на первом шаге задания столбец `good_session` и рассчитайте долю успешных сессий для выборок A и B, а также разницу в этом показателе. Полученный вывод отобразите на экране."
   ]
  },
  {
   "cell_type": "markdown",
   "metadata": {},
   "source": [
    "Выдвинем гипотезу, что нововведение в приложении увеличит долю успешных сессий среди пользователей. Проверим эту гипотезу."
   ]
  },
  {
   "cell_type": "code",
   "execution_count": 108,
   "metadata": {
    "id": "Uku-V1CpPRCz"
   },
   "outputs": [],
   "source": [
    "#Создадим датафрейм avg_sessions, где отобразим среднее колиичество успешнных по группам:\n",
    "\n",
    "avg_sessions = sessions_test.groupby('test_group')['good_session'].mean()"
   ]
  },
  {
   "cell_type": "code",
   "execution_count": 109,
   "metadata": {},
   "outputs": [],
   "source": [
    "#Посчитаем среднее значение рейтинг успеха по дням для группы A:\n",
    "\n",
    "rating_sessions_A = avg_sessions.get('A',0)"
   ]
  },
  {
   "cell_type": "code",
   "execution_count": 110,
   "metadata": {},
   "outputs": [
    {
     "data": {
      "text/plain": [
       "0.3077233557344958"
      ]
     },
     "execution_count": 110,
     "metadata": {},
     "output_type": "execute_result"
    }
   ],
   "source": [
    "rating_sessions_A"
   ]
  },
  {
   "cell_type": "code",
   "execution_count": 111,
   "metadata": {},
   "outputs": [],
   "source": [
    "#Посчитаем среднее значение рейтинг успеха по дням для группы B:\n",
    "\n",
    "rating_sessions_B = avg_sessions.get('B',0)"
   ]
  },
  {
   "cell_type": "code",
   "execution_count": 112,
   "metadata": {},
   "outputs": [
    {
     "data": {
      "text/plain": [
       "0.31828992745867524"
      ]
     },
     "execution_count": 112,
     "metadata": {},
     "output_type": "execute_result"
    }
   ],
   "source": [
    "rating_sessions_B"
   ]
  },
  {
   "cell_type": "code",
   "execution_count": 113,
   "metadata": {},
   "outputs": [
    {
     "data": {
      "text/plain": [
       "-0.010566571724179463"
      ]
     },
     "execution_count": 113,
     "metadata": {},
     "output_type": "execute_result"
    }
   ],
   "source": [
    "#Посчитаем разницу между средними значениями рейтинга двух групп:\n",
    "\n",
    "rating_sessions_A - rating_sessions_B"
   ]
  },
  {
   "cell_type": "markdown",
   "metadata": {},
   "source": [
    "Среднее значение рейтинг успеха по дням для группы A составляет примерно 30,77%, для группы B - 31,83%. Доля успешных сессий в тестовой выборке примерно на 1,1% выше, чем в контрольной."
   ]
  },
  {
   "cell_type": "markdown",
   "metadata": {
    "id": "9fMFuja10eM4"
   },
   "source": [
    "#### 4.4. Насколько статистически значимо изменение ключевой метрики\n",
    "\n",
    "На предыдущем шаге вы убедились, что количество успешных сессий в тестовой выборке примерно на 1.1% выше, чем в контрольной, но делать выводы только на основе этого значения будет некорректно. Для принятия решения всегда необходимо отвечать на вопрос: является ли это изменение статистически значимым.\n",
    "\n",
    "- Используя статистический тест, рассчитайте, является ли изменение в метрике доли успешных сессий статистически значимым.\n",
    "\n",
    "- Выведите на экран полученное значение p-value и свои выводы о статистической значимости. Напомним, что уровень значимости в эксперименте был выбран на уровне 0.05."
   ]
  },
  {
   "cell_type": "markdown",
   "metadata": {},
   "source": [
    "Перед тестом сформулируем нулевую и альетрнативную гипотезы: H₀ (нулевая гипотеза) — изменение в метрике доли успешных сессий в двух группах не различается или статистически не значимо. H₁ (альтернативная гипотеза) — изменение в метрике доли успешных сессий в двух группах различается или статистически значимо."
   ]
  },
  {
   "cell_type": "markdown",
   "metadata": {},
   "source": [
    "Мы сравниваем пропорции (доли успешных сессий).\n",
    "\n",
    "Поэтому использовать будем Z-тест."
   ]
  },
  {
   "cell_type": "code",
   "execution_count": 114,
   "metadata": {},
   "outputs": [],
   "source": [
    "#Посчитаем общее число сессий и количество успешных сессий:\n",
    "\n",
    "sessions_count = sessions_test.groupby(\"test_group\")[\"good_session\"].count()"
   ]
  },
  {
   "cell_type": "code",
   "execution_count": 115,
   "metadata": {},
   "outputs": [],
   "source": [
    "good_sessions_count = sessions_test.groupby(\"test_group\")[\"good_session\"].sum()"
   ]
  },
  {
   "cell_type": "code",
   "execution_count": 116,
   "metadata": {},
   "outputs": [],
   "source": [
    "sessions_count_A = sessions_count.get('A',0)"
   ]
  },
  {
   "cell_type": "code",
   "execution_count": 117,
   "metadata": {},
   "outputs": [],
   "source": [
    "sessions_count_B = sessions_count.get('B',0)"
   ]
  },
  {
   "cell_type": "code",
   "execution_count": 118,
   "metadata": {},
   "outputs": [],
   "source": [
    "good_sessions_count_A = good_sessions_count.get('A',0)"
   ]
  },
  {
   "cell_type": "code",
   "execution_count": 119,
   "metadata": {},
   "outputs": [],
   "source": [
    "good_sessions_count_B = good_sessions_count.get('B',0)"
   ]
  },
  {
   "cell_type": "code",
   "execution_count": 120,
   "metadata": {},
   "outputs": [],
   "source": [
    "part_A, part_B = good_sessions_count_A/sessions_count_A, good_sessions_count_B/sessions_count_B"
   ]
  },
  {
   "cell_type": "code",
   "execution_count": 121,
   "metadata": {},
   "outputs": [
    {
     "name": "stdout",
     "output_type": "stream",
     "text": [
      "Предпосылка о достаточном количестве данных выполняется!\n"
     ]
    }
   ],
   "source": [
    "# проверим предпосылку о достаточном количестве данных:\n",
    "\n",
    "if (part_A*sessions_count_A>10)and((1-part_A)*sessions_count_A>10)and(part_B*sessions_count_B>10)and((1-part_B)*sessions_count_B>10):\n",
    "    print('Предпосылка о достаточном количестве данных выполняется!')\n",
    "else:\n",
    "    print('Предпосылка о достаточном количестве данных НЕ выполняется!')"
   ]
  },
  {
   "cell_type": "code",
   "execution_count": 122,
   "metadata": {},
   "outputs": [
    {
     "name": "stdout",
     "output_type": "stream",
     "text": [
      "p-значение: 0.0003149479976072246\n",
      "Отвергаем нулевую гипотезу.Изменение в метрике доли успешных сессий в двух группах статистически значимо\n"
     ]
    }
   ],
   "source": [
    "# Проведение Z-теста\n",
    "z_stat, p_value_ztest = proportions_ztest([good_sessions_count_A, good_sessions_count_B],\n",
    "                                    [sessions_count_A, sessions_count_B],\n",
    "                                    alternative='two-sided')\n",
    "\n",
    "\n",
    "print('p-значение:', p_value_ztest)\n",
    "\n",
    "if p_value_ztest<alpha:\n",
    "    print('Отвергаем нулевую гипотезу.' \n",
    "      'Изменение в метрике доли успешных сессий в двух группах статистически значимо')\n",
    "else:\n",
    "    print('Не удалось отвергнуть нулевую гипотезу.' \n",
    "      'Изменение в метрике доли успешных сессий в двух группах не различается или статистически не значимо')"
   ]
  },
  {
   "cell_type": "markdown",
   "metadata": {
    "id": "GnJrkY9Q63zS"
   },
   "source": [
    "#### 4.5. Вывод по результатам A/B-эксперимента\n",
    "\n",
    "На основе проведённого анализа результатов теста сформулируйте и запишите свои выводы для команды разработки приложения. В выводе обязательно укажите:\n",
    "\n",
    "- Характеристики проведённого эксперимента, количество задействованных пользователей и длительность эксперимента.\n",
    "\n",
    "- Повлияло ли внедрение нового алгоритма рекомендаций на рост ключевой метрики и как.\n",
    "\n",
    "- Каким получилось значение p-value для оценки статистической значимости выявленного эффекта.\n",
    "\n",
    "- Стоит ли внедрять новоовведение в приложение."
   ]
  },
  {
   "cell_type": "markdown",
   "metadata": {},
   "source": [
    "Характеристики проведённого эксперимента: необходимый размер выборки для каждой группы: 17441, длительность эксперимента: 4 дня. Это допустимый минимальный срок, но с целью повышения надёжности результатов теста желательно провести его дольше — например, на 7 или даже 14 дней, чтобы сгладить возможные колебания в поведении пользователей по дням недели и собрать больше данных для анализа.\n",
    "\n",
    "Так же следует учитывать, что в последние дни было снижение активности пользователей, поэтому среднее за весь период не будет однозначно характеризовать размер активной аудитории.\n",
    "\n",
    "Внедрение нового алгоритма рекомендаций на рост ключевой метрики повлияло и повысило его на статистичекси значимую величину. Среднее значение рейтинг успеха по дням для группы A составляет примерно 30,77%, для группы B - 31,83%. Доля успешных сессий в тестовой выборке примерно на 1,1% выше, чем в контрольной.\n",
    "\n",
    "Значение p-value (0,003) получилось ниже значения alpha. Соответственно, можно отвергнуть нулевую гипотезу.Изменение в метрике доли успешных сессий в двух группах статистически значимо.\n",
    "\n",
    "Нововведение в приложение внедрять стоит."
   ]
  }
 ],
 "metadata": {
  "ExecuteTimeLog": [
   {
    "duration": 2796,
    "start_time": "2025-04-17T08:21:41.976Z"
   },
   {
    "duration": 3394,
    "start_time": "2025-04-17T08:22:07.970Z"
   },
   {
    "duration": 435,
    "start_time": "2025-04-17T08:28:18.292Z"
   },
   {
    "duration": 702,
    "start_time": "2025-04-17T08:31:48.976Z"
   },
   {
    "duration": 368,
    "start_time": "2025-04-17T08:32:33.618Z"
   },
   {
    "duration": 5,
    "start_time": "2025-04-17T08:32:50.092Z"
   },
   {
    "duration": 3,
    "start_time": "2025-04-17T08:33:28.175Z"
   },
   {
    "duration": 43,
    "start_time": "2025-04-17T08:35:28.555Z"
   },
   {
    "duration": 65,
    "start_time": "2025-04-17T08:37:31.147Z"
   },
   {
    "duration": 367,
    "start_time": "2025-04-17T08:37:35.707Z"
   },
   {
    "duration": 45,
    "start_time": "2025-04-17T08:38:43.814Z"
   },
   {
    "duration": 43,
    "start_time": "2025-04-17T08:39:30.920Z"
   },
   {
    "duration": 52,
    "start_time": "2025-04-17T08:39:47.667Z"
   },
   {
    "duration": 80,
    "start_time": "2025-04-17T09:15:21.863Z"
   },
   {
    "duration": 570,
    "start_time": "2025-04-17T09:15:48.270Z"
   },
   {
    "duration": 57,
    "start_time": "2025-04-17T09:16:48.403Z"
   },
   {
    "duration": 57,
    "start_time": "2025-04-17T09:17:05.791Z"
   },
   {
    "duration": 40,
    "start_time": "2025-04-17T09:18:16.457Z"
   },
   {
    "duration": 55,
    "start_time": "2025-04-17T09:28:11.711Z"
   },
   {
    "duration": 35,
    "start_time": "2025-04-17T09:28:24.214Z"
   },
   {
    "duration": 11,
    "start_time": "2025-04-17T09:30:49.468Z"
   },
   {
    "duration": 505,
    "start_time": "2025-04-17T09:31:39.650Z"
   },
   {
    "duration": 629,
    "start_time": "2025-04-17T09:34:43.315Z"
   },
   {
    "duration": 709,
    "start_time": "2025-04-17T09:35:03.682Z"
   },
   {
    "duration": 578,
    "start_time": "2025-04-17T09:35:13.979Z"
   },
   {
    "duration": 631,
    "start_time": "2025-04-17T09:35:20.858Z"
   },
   {
    "duration": 600,
    "start_time": "2025-04-17T09:38:24.457Z"
   },
   {
    "duration": 602,
    "start_time": "2025-04-17T09:38:43.423Z"
   },
   {
    "duration": 638,
    "start_time": "2025-04-17T09:38:57.268Z"
   },
   {
    "duration": 535,
    "start_time": "2025-04-17T09:39:45.436Z"
   },
   {
    "duration": 590,
    "start_time": "2025-04-17T09:40:50.936Z"
   },
   {
    "duration": 640,
    "start_time": "2025-04-17T09:41:12.742Z"
   },
   {
    "duration": 628,
    "start_time": "2025-04-17T09:41:27.432Z"
   },
   {
    "duration": 738,
    "start_time": "2025-04-17T09:41:58.693Z"
   },
   {
    "duration": 665,
    "start_time": "2025-04-17T09:42:08.247Z"
   },
   {
    "duration": 79,
    "start_time": "2025-04-17T09:42:50.888Z"
   },
   {
    "duration": 2,
    "start_time": "2025-04-17T09:43:56.790Z"
   },
   {
    "duration": 717,
    "start_time": "2025-04-17T09:44:35.348Z"
   },
   {
    "duration": 672,
    "start_time": "2025-04-17T09:45:05.975Z"
   },
   {
    "duration": 2331,
    "start_time": "2025-04-17T12:09:04.083Z"
   },
   {
    "duration": 353,
    "start_time": "2025-04-17T12:09:09.797Z"
   },
   {
    "duration": 1320,
    "start_time": "2025-04-17T12:10:40.507Z"
   },
   {
    "duration": 4,
    "start_time": "2025-04-17T12:11:28.723Z"
   },
   {
    "duration": 50,
    "start_time": "2025-04-17T12:11:30.322Z"
   },
   {
    "duration": 65,
    "start_time": "2025-04-17T12:11:36.939Z"
   },
   {
    "duration": 44,
    "start_time": "2025-04-17T12:11:37.589Z"
   },
   {
    "duration": 482,
    "start_time": "2025-04-17T12:11:38.307Z"
   },
   {
    "duration": 638,
    "start_time": "2025-04-17T12:11:39.391Z"
   },
   {
    "duration": 582,
    "start_time": "2025-04-17T12:11:41.491Z"
   },
   {
    "duration": 52,
    "start_time": "2025-04-17T12:21:40.279Z"
   },
   {
    "duration": 34,
    "start_time": "2025-04-17T12:22:15.005Z"
   },
   {
    "duration": 210,
    "start_time": "2025-04-17T12:23:19.478Z"
   },
   {
    "duration": 176,
    "start_time": "2025-04-17T12:25:03.532Z"
   },
   {
    "duration": 5,
    "start_time": "2025-04-17T12:27:30.254Z"
   },
   {
    "duration": 92,
    "start_time": "2025-04-17T12:32:27.181Z"
   },
   {
    "duration": 1245,
    "start_time": "2025-04-17T12:35:51.073Z"
   },
   {
    "duration": 1274,
    "start_time": "2025-04-17T12:36:06.930Z"
   },
   {
    "duration": 1238,
    "start_time": "2025-04-17T12:36:18.648Z"
   },
   {
    "duration": 1141,
    "start_time": "2025-04-17T12:43:07.818Z"
   },
   {
    "duration": 7,
    "start_time": "2025-04-17T12:43:18.531Z"
   },
   {
    "duration": 9,
    "start_time": "2025-04-17T12:46:11.782Z"
   },
   {
    "duration": 14,
    "start_time": "2025-04-17T12:48:20.229Z"
   },
   {
    "duration": 9,
    "start_time": "2025-04-17T12:48:21.676Z"
   },
   {
    "duration": 322,
    "start_time": "2025-04-17T12:50:18.709Z"
   },
   {
    "duration": 279,
    "start_time": "2025-04-17T12:50:46.788Z"
   },
   {
    "duration": 7,
    "start_time": "2025-04-17T12:51:38.245Z"
   },
   {
    "duration": 5,
    "start_time": "2025-04-17T12:52:31.697Z"
   },
   {
    "duration": 120,
    "start_time": "2025-04-17T12:53:40.424Z"
   },
   {
    "duration": 473,
    "start_time": "2025-04-17T12:54:06.607Z"
   },
   {
    "duration": 461,
    "start_time": "2025-04-17T12:54:32.986Z"
   },
   {
    "duration": 503,
    "start_time": "2025-04-17T12:55:50.990Z"
   },
   {
    "duration": 507,
    "start_time": "2025-04-17T12:56:10.316Z"
   },
   {
    "duration": 456,
    "start_time": "2025-04-17T12:56:32.754Z"
   },
   {
    "duration": 513,
    "start_time": "2025-04-17T12:56:49.112Z"
   },
   {
    "duration": 506,
    "start_time": "2025-04-17T12:57:23.529Z"
   },
   {
    "duration": 481,
    "start_time": "2025-04-17T12:57:34.830Z"
   },
   {
    "duration": 604,
    "start_time": "2025-04-17T12:57:46.950Z"
   },
   {
    "duration": 551,
    "start_time": "2025-04-17T12:57:55.506Z"
   },
   {
    "duration": 539,
    "start_time": "2025-04-17T12:58:02.794Z"
   },
   {
    "duration": 541,
    "start_time": "2025-04-17T12:58:10.988Z"
   },
   {
    "duration": 549,
    "start_time": "2025-04-17T13:02:57.522Z"
   },
   {
    "duration": 531,
    "start_time": "2025-04-17T13:06:08.560Z"
   },
   {
    "duration": 15,
    "start_time": "2025-04-17T13:06:32.197Z"
   },
   {
    "duration": 147,
    "start_time": "2025-04-17T13:14:39.223Z"
   },
   {
    "duration": 5,
    "start_time": "2025-04-17T13:20:47.978Z"
   },
   {
    "duration": 4,
    "start_time": "2025-04-17T13:21:23.058Z"
   },
   {
    "duration": 5,
    "start_time": "2025-04-17T13:23:55.123Z"
   },
   {
    "duration": 409,
    "start_time": "2025-04-17T13:25:27.562Z"
   },
   {
    "duration": 55,
    "start_time": "2025-04-17T13:25:45.786Z"
   },
   {
    "duration": 9,
    "start_time": "2025-04-17T13:28:37.245Z"
   },
   {
    "duration": 6,
    "start_time": "2025-04-17T13:29:29.161Z"
   },
   {
    "duration": 74,
    "start_time": "2025-04-17T13:31:21.144Z"
   },
   {
    "duration": 86,
    "start_time": "2025-04-17T13:33:31.197Z"
   },
   {
    "duration": 1228,
    "start_time": "2025-04-17T13:34:06.780Z"
   },
   {
    "duration": 6,
    "start_time": "2025-04-17T13:34:24.932Z"
   },
   {
    "duration": 1471,
    "start_time": "2025-04-17T13:35:14.822Z"
   },
   {
    "duration": 1298,
    "start_time": "2025-04-17T13:35:34.749Z"
   },
   {
    "duration": 1709,
    "start_time": "2025-04-17T13:35:47.565Z"
   },
   {
    "duration": 6,
    "start_time": "2025-04-17T13:37:14.078Z"
   },
   {
    "duration": 1373,
    "start_time": "2025-04-17T13:37:30.605Z"
   },
   {
    "duration": 5,
    "start_time": "2025-04-17T13:37:43.068Z"
   },
   {
    "duration": 9,
    "start_time": "2025-04-17T13:38:04.385Z"
   },
   {
    "duration": 4,
    "start_time": "2025-04-17T13:38:19.118Z"
   },
   {
    "duration": 4,
    "start_time": "2025-04-17T13:38:30.182Z"
   },
   {
    "duration": 4,
    "start_time": "2025-04-17T13:38:56.952Z"
   },
   {
    "duration": 5,
    "start_time": "2025-04-17T13:39:05.480Z"
   },
   {
    "duration": 4,
    "start_time": "2025-04-17T13:39:37.154Z"
   },
   {
    "duration": 145,
    "start_time": "2025-04-17T13:40:42.784Z"
   },
   {
    "duration": 115,
    "start_time": "2025-04-17T13:40:58.915Z"
   },
   {
    "duration": 1383,
    "start_time": "2025-04-17T13:41:46.692Z"
   },
   {
    "duration": 125,
    "start_time": "2025-04-17T13:42:20.654Z"
   },
   {
    "duration": 124,
    "start_time": "2025-04-17T13:42:47.679Z"
   },
   {
    "duration": 121,
    "start_time": "2025-04-17T13:42:52.704Z"
   },
   {
    "duration": 110,
    "start_time": "2025-04-17T13:43:12.229Z"
   },
   {
    "duration": 129,
    "start_time": "2025-04-17T13:43:38.798Z"
   },
   {
    "duration": 1989,
    "start_time": "2025-04-17T13:44:12.429Z"
   },
   {
    "duration": 115,
    "start_time": "2025-04-17T13:45:15.557Z"
   },
   {
    "duration": 223,
    "start_time": "2025-04-17T13:45:34.764Z"
   },
   {
    "duration": 64,
    "start_time": "2025-04-17T13:47:32.360Z"
   },
   {
    "duration": 69,
    "start_time": "2025-04-17T13:47:51.564Z"
   },
   {
    "duration": 12,
    "start_time": "2025-04-17T13:48:49.080Z"
   },
   {
    "duration": 7,
    "start_time": "2025-04-17T13:48:50.400Z"
   },
   {
    "duration": 1558,
    "start_time": "2025-04-17T13:48:59.054Z"
   },
   {
    "duration": 4,
    "start_time": "2025-04-17T13:49:42.959Z"
   },
   {
    "duration": 4,
    "start_time": "2025-04-17T13:50:00.040Z"
   },
   {
    "duration": 6,
    "start_time": "2025-04-17T13:50:02.421Z"
   },
   {
    "duration": 5,
    "start_time": "2025-04-17T13:50:03.320Z"
   },
   {
    "duration": 5,
    "start_time": "2025-04-17T13:50:15.291Z"
   },
   {
    "duration": 6,
    "start_time": "2025-04-17T13:50:23.846Z"
   },
   {
    "duration": 16,
    "start_time": "2025-04-17T13:50:38.960Z"
   },
   {
    "duration": 6,
    "start_time": "2025-04-17T13:51:00.424Z"
   },
   {
    "duration": 5,
    "start_time": "2025-04-17T13:51:06.675Z"
   },
   {
    "duration": 4,
    "start_time": "2025-04-17T13:51:12.624Z"
   },
   {
    "duration": 3,
    "start_time": "2025-04-17T13:51:13.377Z"
   },
   {
    "duration": 4,
    "start_time": "2025-04-17T13:51:14.163Z"
   },
   {
    "duration": 124,
    "start_time": "2025-04-17T13:51:44.023Z"
   },
   {
    "duration": 101,
    "start_time": "2025-04-17T13:52:12.409Z"
   },
   {
    "duration": 97,
    "start_time": "2025-04-17T13:52:20.496Z"
   },
   {
    "duration": 113,
    "start_time": "2025-04-17T13:52:31.964Z"
   },
   {
    "duration": 107,
    "start_time": "2025-04-17T13:52:39.406Z"
   },
   {
    "duration": 58,
    "start_time": "2025-04-17T13:54:06.041Z"
   },
   {
    "duration": 12,
    "start_time": "2025-04-17T13:55:22.180Z"
   },
   {
    "duration": 7,
    "start_time": "2025-04-17T13:55:22.884Z"
   },
   {
    "duration": 4,
    "start_time": "2025-04-17T13:57:35.196Z"
   },
   {
    "duration": 120,
    "start_time": "2025-04-17T13:58:26.437Z"
   },
   {
    "duration": 1287,
    "start_time": "2025-04-17T14:04:16.228Z"
   },
   {
    "duration": 10,
    "start_time": "2025-04-17T14:04:31.517Z"
   },
   {
    "duration": 9,
    "start_time": "2025-04-17T14:04:39.428Z"
   },
   {
    "duration": 9,
    "start_time": "2025-04-17T14:05:27.227Z"
   },
   {
    "duration": 7,
    "start_time": "2025-04-17T14:07:35.094Z"
   },
   {
    "duration": 23,
    "start_time": "2025-04-17T14:08:28.307Z"
   },
   {
    "duration": 10,
    "start_time": "2025-04-17T14:08:35.920Z"
   },
   {
    "duration": 1460,
    "start_time": "2025-04-17T14:10:31.256Z"
   },
   {
    "duration": 5,
    "start_time": "2025-04-17T14:11:00.065Z"
   },
   {
    "duration": 7,
    "start_time": "2025-04-17T14:11:32.370Z"
   },
   {
    "duration": 4,
    "start_time": "2025-04-17T14:11:52.177Z"
   },
   {
    "duration": 5,
    "start_time": "2025-04-17T14:12:10.466Z"
   },
   {
    "duration": 5,
    "start_time": "2025-04-17T14:12:28.374Z"
   },
   {
    "duration": 137,
    "start_time": "2025-04-17T14:14:00.294Z"
   },
   {
    "duration": 118,
    "start_time": "2025-04-17T14:14:12.165Z"
   },
   {
    "duration": 66,
    "start_time": "2025-04-17T14:15:14.962Z"
   },
   {
    "duration": 105,
    "start_time": "2025-04-17T14:15:55.974Z"
   },
   {
    "duration": 377,
    "start_time": "2025-04-17T14:18:07.447Z"
   },
   {
    "duration": 334,
    "start_time": "2025-04-17T14:18:42.872Z"
   },
   {
    "duration": 181,
    "start_time": "2025-04-17T14:19:00.024Z"
   },
   {
    "duration": 323,
    "start_time": "2025-04-17T14:19:05.496Z"
   },
   {
    "duration": 282,
    "start_time": "2025-04-17T14:19:11.422Z"
   },
   {
    "duration": 407,
    "start_time": "2025-04-17T14:19:16.821Z"
   },
   {
    "duration": 98,
    "start_time": "2025-04-17T14:19:39.553Z"
   },
   {
    "duration": 106,
    "start_time": "2025-04-17T14:19:46.606Z"
   },
   {
    "duration": 104,
    "start_time": "2025-04-17T14:19:58.101Z"
   },
   {
    "duration": 100,
    "start_time": "2025-04-17T14:20:08.353Z"
   },
   {
    "duration": 97,
    "start_time": "2025-04-17T14:20:14.584Z"
   },
   {
    "duration": 103,
    "start_time": "2025-04-17T14:20:26.169Z"
   },
   {
    "duration": 1311,
    "start_time": "2025-04-17T14:20:53.473Z"
   },
   {
    "duration": 94,
    "start_time": "2025-04-17T14:21:06.580Z"
   },
   {
    "duration": 105,
    "start_time": "2025-04-17T14:21:20.465Z"
   },
   {
    "duration": 135,
    "start_time": "2025-04-17T14:21:28.231Z"
   },
   {
    "duration": 102,
    "start_time": "2025-04-17T14:21:35.291Z"
   },
   {
    "duration": 111,
    "start_time": "2025-04-17T14:21:46.241Z"
   },
   {
    "duration": 111,
    "start_time": "2025-04-17T14:21:57.532Z"
   },
   {
    "duration": 98,
    "start_time": "2025-04-17T14:22:10.734Z"
   },
   {
    "duration": 102,
    "start_time": "2025-04-17T14:22:30.622Z"
   },
   {
    "duration": 101,
    "start_time": "2025-04-17T14:22:39.490Z"
   },
   {
    "duration": 4,
    "start_time": "2025-04-17T14:26:18.599Z"
   },
   {
    "duration": 5,
    "start_time": "2025-04-17T14:26:19.587Z"
   },
   {
    "duration": 5,
    "start_time": "2025-04-17T14:26:20.312Z"
   },
   {
    "duration": 5,
    "start_time": "2025-04-17T14:26:20.986Z"
   },
   {
    "duration": 99,
    "start_time": "2025-04-17T14:26:22.085Z"
   },
   {
    "duration": 227,
    "start_time": "2025-04-17T14:26:24.733Z"
   },
   {
    "duration": 5,
    "start_time": "2025-04-17T14:28:59.603Z"
   },
   {
    "duration": 5,
    "start_time": "2025-04-17T14:29:23.598Z"
   },
   {
    "duration": 138,
    "start_time": "2025-04-17T14:31:41.155Z"
   },
   {
    "duration": 94,
    "start_time": "2025-04-17T14:31:53.820Z"
   },
   {
    "duration": 93,
    "start_time": "2025-04-17T14:32:09.476Z"
   },
   {
    "duration": 93,
    "start_time": "2025-04-17T14:32:54.338Z"
   },
   {
    "duration": 90,
    "start_time": "2025-04-17T14:33:20.799Z"
   },
   {
    "duration": 97,
    "start_time": "2025-04-17T14:33:30.187Z"
   },
   {
    "duration": 99,
    "start_time": "2025-04-17T14:33:31.111Z"
   },
   {
    "duration": 156,
    "start_time": "2025-04-17T14:35:48.267Z"
   },
   {
    "duration": 125,
    "start_time": "2025-04-17T14:36:02.153Z"
   },
   {
    "duration": 147,
    "start_time": "2025-04-17T14:36:14.394Z"
   },
   {
    "duration": 116,
    "start_time": "2025-04-17T14:36:19.791Z"
   },
   {
    "duration": 57,
    "start_time": "2025-04-17T14:40:25.557Z"
   },
   {
    "duration": 581,
    "start_time": "2025-04-17T14:40:31.678Z"
   },
   {
    "duration": 541,
    "start_time": "2025-04-17T14:43:56.044Z"
   },
   {
    "duration": 520,
    "start_time": "2025-04-17T14:44:07.952Z"
   },
   {
    "duration": 1114,
    "start_time": "2025-04-17T14:44:25.369Z"
   },
   {
    "duration": 566,
    "start_time": "2025-04-17T14:45:04.647Z"
   },
   {
    "duration": 1175,
    "start_time": "2025-04-17T14:45:05.594Z"
   },
   {
    "duration": 18,
    "start_time": "2025-04-17T14:48:01.640Z"
   },
   {
    "duration": 17,
    "start_time": "2025-04-17T14:48:16.057Z"
   },
   {
    "duration": 25,
    "start_time": "2025-04-17T14:49:22.829Z"
   },
   {
    "duration": 23,
    "start_time": "2025-04-17T14:49:44.601Z"
   },
   {
    "duration": 22,
    "start_time": "2025-04-17T14:50:05.180Z"
   },
   {
    "duration": 22,
    "start_time": "2025-04-17T14:50:23.045Z"
   },
   {
    "duration": 70,
    "start_time": "2025-04-17T14:51:43.981Z"
   },
   {
    "duration": 2,
    "start_time": "2025-04-17T14:51:52.715Z"
   },
   {
    "duration": 63,
    "start_time": "2025-04-17T14:56:22.336Z"
   },
   {
    "duration": 17,
    "start_time": "2025-04-17T14:56:44.019Z"
   },
   {
    "duration": 3,
    "start_time": "2025-04-17T14:57:58.444Z"
   },
   {
    "duration": 4,
    "start_time": "2025-04-17T14:58:11.564Z"
   },
   {
    "duration": 3,
    "start_time": "2025-04-17T14:58:15.580Z"
   },
   {
    "duration": 8,
    "start_time": "2025-04-17T14:58:29.068Z"
   },
   {
    "duration": 4,
    "start_time": "2025-04-17T14:59:06.981Z"
   },
   {
    "duration": 5,
    "start_time": "2025-04-17T14:59:15.396Z"
   },
   {
    "duration": 3,
    "start_time": "2025-04-17T14:59:35.578Z"
   },
   {
    "duration": 3,
    "start_time": "2025-04-17T14:59:40.087Z"
   },
   {
    "duration": 5,
    "start_time": "2025-04-17T14:59:50.188Z"
   },
   {
    "duration": 6,
    "start_time": "2025-04-17T15:00:46.160Z"
   },
   {
    "duration": 6,
    "start_time": "2025-04-17T15:01:18.357Z"
   },
   {
    "duration": 4,
    "start_time": "2025-04-17T15:02:02.201Z"
   },
   {
    "duration": 5,
    "start_time": "2025-04-17T15:03:07.708Z"
   },
   {
    "duration": 6,
    "start_time": "2025-04-17T15:03:11.946Z"
   },
   {
    "duration": 5,
    "start_time": "2025-04-17T15:05:19.076Z"
   },
   {
    "duration": 31,
    "start_time": "2025-04-17T15:31:29.486Z"
   },
   {
    "duration": 6,
    "start_time": "2025-04-17T15:33:20.682Z"
   },
   {
    "duration": 5,
    "start_time": "2025-04-17T15:33:38.401Z"
   },
   {
    "duration": 31,
    "start_time": "2025-04-17T15:34:06.570Z"
   },
   {
    "duration": 31,
    "start_time": "2025-04-17T15:34:20.385Z"
   },
   {
    "duration": 4,
    "start_time": "2025-04-17T15:34:43.067Z"
   },
   {
    "duration": 5,
    "start_time": "2025-04-17T15:34:43.788Z"
   },
   {
    "duration": 31,
    "start_time": "2025-04-17T15:34:47.829Z"
   },
   {
    "duration": 3,
    "start_time": "2025-04-17T15:34:54.733Z"
   },
   {
    "duration": 5,
    "start_time": "2025-04-17T15:35:08.782Z"
   },
   {
    "duration": 6,
    "start_time": "2025-04-17T15:35:28.252Z"
   },
   {
    "duration": 4,
    "start_time": "2025-04-17T15:36:40.238Z"
   },
   {
    "duration": 29,
    "start_time": "2025-04-17T15:36:41.181Z"
   },
   {
    "duration": 4,
    "start_time": "2025-04-17T15:36:41.872Z"
   },
   {
    "duration": 5,
    "start_time": "2025-04-17T15:36:42.921Z"
   },
   {
    "duration": 6,
    "start_time": "2025-04-17T15:37:23.548Z"
   },
   {
    "duration": 4,
    "start_time": "2025-04-17T15:39:41.182Z"
   },
   {
    "duration": 5,
    "start_time": "2025-04-17T15:39:51.737Z"
   },
   {
    "duration": 5,
    "start_time": "2025-04-17T15:40:01.973Z"
   },
   {
    "duration": 4,
    "start_time": "2025-04-17T15:40:11.713Z"
   },
   {
    "duration": 29,
    "start_time": "2025-04-17T15:40:12.389Z"
   },
   {
    "duration": 4,
    "start_time": "2025-04-17T15:40:13.109Z"
   },
   {
    "duration": 4,
    "start_time": "2025-04-17T15:40:18.542Z"
   },
   {
    "duration": 5,
    "start_time": "2025-04-17T15:40:27.410Z"
   },
   {
    "duration": 5,
    "start_time": "2025-04-17T15:42:50.216Z"
   },
   {
    "duration": 5,
    "start_time": "2025-04-17T15:43:04.096Z"
   },
   {
    "duration": 5,
    "start_time": "2025-04-17T15:43:20.596Z"
   },
   {
    "duration": 3,
    "start_time": "2025-04-17T15:44:47.145Z"
   },
   {
    "duration": 44,
    "start_time": "2025-04-17T15:44:48.274Z"
   },
   {
    "duration": 4,
    "start_time": "2025-04-17T15:44:49.610Z"
   },
   {
    "duration": 3,
    "start_time": "2025-04-17T15:44:57.281Z"
   },
   {
    "duration": 5,
    "start_time": "2025-04-17T15:45:00.494Z"
   },
   {
    "duration": 5,
    "start_time": "2025-04-17T15:47:10.848Z"
   },
   {
    "duration": 5,
    "start_time": "2025-04-17T15:48:41.036Z"
   },
   {
    "duration": 5,
    "start_time": "2025-04-17T15:48:59.139Z"
   },
   {
    "duration": 2369,
    "start_time": "2025-04-17T15:59:06.653Z"
   },
   {
    "duration": 341,
    "start_time": "2025-04-17T15:59:09.024Z"
   },
   {
    "duration": 2,
    "start_time": "2025-04-17T15:59:09.367Z"
   },
   {
    "duration": 56,
    "start_time": "2025-04-17T15:59:09.371Z"
   },
   {
    "duration": 74,
    "start_time": "2025-04-17T15:59:09.429Z"
   },
   {
    "duration": 41,
    "start_time": "2025-04-17T15:59:09.505Z"
   },
   {
    "duration": 237,
    "start_time": "2025-04-17T15:59:09.547Z"
   },
   {
    "duration": 635,
    "start_time": "2025-04-17T15:59:09.785Z"
   },
   {
    "duration": 549,
    "start_time": "2025-04-17T15:59:10.423Z"
   },
   {
    "duration": 41,
    "start_time": "2025-04-17T15:59:10.974Z"
   },
   {
    "duration": 142,
    "start_time": "2025-04-17T15:59:11.017Z"
   },
   {
    "duration": 161,
    "start_time": "2025-04-17T15:59:11.161Z"
   },
   {
    "duration": 1106,
    "start_time": "2025-04-17T15:59:11.324Z"
   },
   {
    "duration": 13,
    "start_time": "2025-04-17T15:59:12.433Z"
   },
   {
    "duration": 358,
    "start_time": "2025-04-17T15:59:12.448Z"
   },
   {
    "duration": 4,
    "start_time": "2025-04-17T15:59:12.808Z"
   },
   {
    "duration": 537,
    "start_time": "2025-04-17T15:59:12.814Z"
   },
   {
    "duration": 468,
    "start_time": "2025-04-17T15:59:13.353Z"
   },
   {
    "duration": 4,
    "start_time": "2025-04-17T15:59:13.824Z"
   },
   {
    "duration": 133,
    "start_time": "2025-04-17T15:59:13.830Z"
   },
   {
    "duration": 12,
    "start_time": "2025-04-17T15:59:13.965Z"
   },
   {
    "duration": 17,
    "start_time": "2025-04-17T15:59:13.978Z"
   },
   {
    "duration": 8,
    "start_time": "2025-04-17T15:59:13.996Z"
   },
   {
    "duration": 9,
    "start_time": "2025-04-17T15:59:14.006Z"
   },
   {
    "duration": 25,
    "start_time": "2025-04-17T15:59:14.016Z"
   },
   {
    "duration": 6,
    "start_time": "2025-04-17T15:59:14.042Z"
   },
   {
    "duration": 136,
    "start_time": "2025-04-17T15:59:14.050Z"
   },
   {
    "duration": 20,
    "start_time": "2025-04-17T15:59:14.188Z"
   },
   {
    "duration": 51,
    "start_time": "2025-04-17T15:59:14.210Z"
   },
   {
    "duration": 4,
    "start_time": "2025-04-17T15:59:14.263Z"
   },
   {
    "duration": 25,
    "start_time": "2025-04-17T15:59:14.269Z"
   },
   {
    "duration": 8,
    "start_time": "2025-04-17T15:59:14.296Z"
   },
   {
    "duration": 10,
    "start_time": "2025-04-17T15:59:14.306Z"
   },
   {
    "duration": 102,
    "start_time": "2025-04-17T15:59:14.318Z"
   },
   {
    "duration": 118,
    "start_time": "2025-04-17T15:59:14.422Z"
   },
   {
    "duration": 5,
    "start_time": "2025-04-17T15:59:14.542Z"
   },
   {
    "duration": 14,
    "start_time": "2025-04-17T15:59:14.548Z"
   },
   {
    "duration": 173,
    "start_time": "2025-04-17T15:59:14.564Z"
   },
   {
    "duration": 104,
    "start_time": "2025-04-17T15:59:14.738Z"
   },
   {
    "duration": 577,
    "start_time": "2025-04-17T15:59:14.844Z"
   },
   {
    "duration": 1131,
    "start_time": "2025-04-17T15:59:15.425Z"
   },
   {
    "duration": 17,
    "start_time": "2025-04-17T15:59:16.558Z"
   },
   {
    "duration": 32,
    "start_time": "2025-04-17T15:59:16.577Z"
   },
   {
    "duration": 19,
    "start_time": "2025-04-17T15:59:16.611Z"
   },
   {
    "duration": 20,
    "start_time": "2025-04-17T15:59:16.632Z"
   },
   {
    "duration": 3,
    "start_time": "2025-04-17T15:59:16.654Z"
   },
   {
    "duration": 22,
    "start_time": "2025-04-17T15:59:16.658Z"
   },
   {
    "duration": 5,
    "start_time": "2025-04-17T15:59:16.682Z"
   },
   {
    "duration": 20,
    "start_time": "2025-04-17T15:59:16.689Z"
   },
   {
    "duration": 31,
    "start_time": "2025-04-17T15:59:16.711Z"
   },
   {
    "duration": 4,
    "start_time": "2025-04-17T15:59:16.744Z"
   },
   {
    "duration": 6,
    "start_time": "2025-04-17T15:59:16.749Z"
   },
   {
    "duration": 62,
    "start_time": "2025-04-17T15:59:16.757Z"
   },
   {
    "duration": 4,
    "start_time": "2025-04-17T15:59:16.821Z"
   },
   {
    "duration": 18,
    "start_time": "2025-04-17T15:59:16.827Z"
   },
   {
    "duration": 7,
    "start_time": "2025-04-17T15:59:16.847Z"
   },
   {
    "duration": 27,
    "start_time": "2025-04-17T15:59:16.855Z"
   },
   {
    "duration": 1765,
    "start_time": "2025-04-17T15:59:26.515Z"
   },
   {
    "duration": 307,
    "start_time": "2025-04-17T15:59:30.831Z"
   },
   {
    "duration": 3,
    "start_time": "2025-04-17T15:59:33.332Z"
   },
   {
    "duration": 49,
    "start_time": "2025-04-17T15:59:34.452Z"
   },
   {
    "duration": 49,
    "start_time": "2025-04-17T15:59:38.067Z"
   },
   {
    "duration": 32,
    "start_time": "2025-04-17T15:59:39.323Z"
   },
   {
    "duration": 2,
    "start_time": "2025-04-17T15:59:40.473Z"
   },
   {
    "duration": 581,
    "start_time": "2025-04-17T15:59:41.369Z"
   },
   {
    "duration": 580,
    "start_time": "2025-04-17T15:59:50.817Z"
   },
   {
    "duration": 28,
    "start_time": "2025-04-17T15:59:55.734Z"
   },
   {
    "duration": 5,
    "start_time": "2025-04-17T15:59:56.882Z"
   },
   {
    "duration": 159,
    "start_time": "2025-04-17T15:59:57.888Z"
   },
   {
    "duration": 1067,
    "start_time": "2025-04-17T16:00:00.728Z"
   },
   {
    "duration": 9,
    "start_time": "2025-04-17T16:00:01.804Z"
   },
   {
    "duration": 237,
    "start_time": "2025-04-17T16:00:02.366Z"
   },
   {
    "duration": 5,
    "start_time": "2025-04-17T16:00:03.229Z"
   },
   {
    "duration": 508,
    "start_time": "2025-04-17T16:00:03.952Z"
   },
   {
    "duration": 14,
    "start_time": "2025-04-17T16:00:08.179Z"
   },
   {
    "duration": 3,
    "start_time": "2025-04-17T16:00:09.608Z"
   },
   {
    "duration": 47,
    "start_time": "2025-04-17T16:00:11.589Z"
   },
   {
    "duration": 11,
    "start_time": "2025-04-17T16:00:12.292Z"
   },
   {
    "duration": 6,
    "start_time": "2025-04-17T16:00:12.885Z"
   },
   {
    "duration": 5,
    "start_time": "2025-04-17T16:00:13.537Z"
   },
   {
    "duration": 4,
    "start_time": "2025-04-17T16:00:14.122Z"
   },
   {
    "duration": 3,
    "start_time": "2025-04-17T16:00:14.688Z"
   },
   {
    "duration": 4,
    "start_time": "2025-04-17T16:00:15.302Z"
   },
   {
    "duration": 113,
    "start_time": "2025-04-17T16:00:15.964Z"
   },
   {
    "duration": 8,
    "start_time": "2025-04-17T16:00:18.082Z"
   },
   {
    "duration": 9,
    "start_time": "2025-04-17T16:00:20.324Z"
   },
   {
    "duration": 4,
    "start_time": "2025-04-17T16:00:20.932Z"
   },
   {
    "duration": 4,
    "start_time": "2025-04-17T16:00:21.558Z"
   },
   {
    "duration": 4,
    "start_time": "2025-04-17T16:00:22.106Z"
   },
   {
    "duration": 5,
    "start_time": "2025-04-17T16:00:22.688Z"
   },
   {
    "duration": 100,
    "start_time": "2025-04-17T16:00:23.204Z"
   },
   {
    "duration": 93,
    "start_time": "2025-04-17T16:00:24.195Z"
   },
   {
    "duration": 5,
    "start_time": "2025-04-17T16:00:25.739Z"
   },
   {
    "duration": 4,
    "start_time": "2025-04-17T16:00:26.196Z"
   },
   {
    "duration": 169,
    "start_time": "2025-04-17T16:00:26.714Z"
   },
   {
    "duration": 82,
    "start_time": "2025-04-17T16:00:27.361Z"
   },
   {
    "duration": 379,
    "start_time": "2025-04-17T16:00:32.623Z"
   },
   {
    "duration": 1044,
    "start_time": "2025-04-17T16:00:33.910Z"
   },
   {
    "duration": 19,
    "start_time": "2025-04-17T16:00:35.524Z"
   },
   {
    "duration": 17,
    "start_time": "2025-04-17T16:00:36.153Z"
   },
   {
    "duration": 20,
    "start_time": "2025-04-17T16:00:37.218Z"
   },
   {
    "duration": 20,
    "start_time": "2025-04-17T16:00:38.027Z"
   },
   {
    "duration": 3,
    "start_time": "2025-04-17T16:00:39.050Z"
   },
   {
    "duration": 4,
    "start_time": "2025-04-17T16:00:39.918Z"
   },
   {
    "duration": 2,
    "start_time": "2025-04-17T16:00:41.494Z"
   },
   {
    "duration": 5,
    "start_time": "2025-04-17T16:00:42.849Z"
   },
   {
    "duration": 30,
    "start_time": "2025-04-17T16:00:45.623Z"
   },
   {
    "duration": 5,
    "start_time": "2025-04-17T16:00:46.343Z"
   },
   {
    "duration": 3,
    "start_time": "2025-04-17T16:00:47.047Z"
   },
   {
    "duration": 30,
    "start_time": "2025-04-17T16:00:47.924Z"
   },
   {
    "duration": 4,
    "start_time": "2025-04-17T16:00:48.606Z"
   },
   {
    "duration": 3,
    "start_time": "2025-04-17T16:00:49.207Z"
   },
   {
    "duration": 4,
    "start_time": "2025-04-17T16:00:49.884Z"
   },
   {
    "duration": 5,
    "start_time": "2025-04-17T16:00:53.697Z"
   },
   {
    "duration": 6,
    "start_time": "2025-04-17T16:53:52.223Z"
   },
   {
    "duration": 4,
    "start_time": "2025-04-17T16:54:43.478Z"
   },
   {
    "duration": 4,
    "start_time": "2025-04-17T16:54:56.577Z"
   },
   {
    "duration": 4,
    "start_time": "2025-04-17T16:55:19.112Z"
   },
   {
    "duration": 7,
    "start_time": "2025-04-17T16:56:24.747Z"
   },
   {
    "duration": 5,
    "start_time": "2025-04-17T16:57:20.054Z"
   },
   {
    "duration": 3213,
    "start_time": "2025-04-17T19:11:58.764Z"
   },
   {
    "duration": 315,
    "start_time": "2025-04-17T19:12:01.979Z"
   },
   {
    "duration": 3,
    "start_time": "2025-04-17T19:12:02.296Z"
   },
   {
    "duration": 75,
    "start_time": "2025-04-17T19:12:02.300Z"
   },
   {
    "duration": 54,
    "start_time": "2025-04-17T19:12:02.378Z"
   },
   {
    "duration": 55,
    "start_time": "2025-04-17T19:12:02.434Z"
   },
   {
    "duration": 240,
    "start_time": "2025-04-17T19:12:02.490Z"
   },
   {
    "duration": 567,
    "start_time": "2025-04-17T19:12:02.731Z"
   },
   {
    "duration": 526,
    "start_time": "2025-04-17T19:12:03.300Z"
   },
   {
    "duration": 41,
    "start_time": "2025-04-17T19:12:03.828Z"
   },
   {
    "duration": 4,
    "start_time": "2025-04-17T19:12:03.871Z"
   },
   {
    "duration": 199,
    "start_time": "2025-04-17T19:12:03.877Z"
   },
   {
    "duration": 2270,
    "start_time": "2025-04-17T19:12:04.078Z"
   },
   {
    "duration": 17,
    "start_time": "2025-04-17T19:12:06.351Z"
   },
   {
    "duration": 318,
    "start_time": "2025-04-17T19:12:06.370Z"
   },
   {
    "duration": 4,
    "start_time": "2025-04-17T19:12:06.690Z"
   },
   {
    "duration": 488,
    "start_time": "2025-04-17T19:12:06.695Z"
   },
   {
    "duration": 417,
    "start_time": "2025-04-17T19:12:07.184Z"
   },
   {
    "duration": 4,
    "start_time": "2025-04-17T19:12:07.603Z"
   },
   {
    "duration": 302,
    "start_time": "2025-04-17T19:12:07.609Z"
   },
   {
    "duration": 14,
    "start_time": "2025-04-17T19:12:07.913Z"
   },
   {
    "duration": 7,
    "start_time": "2025-04-17T19:12:07.928Z"
   },
   {
    "duration": 5,
    "start_time": "2025-04-17T19:12:07.937Z"
   },
   {
    "duration": 4,
    "start_time": "2025-04-17T19:12:07.944Z"
   },
   {
    "duration": 10,
    "start_time": "2025-04-17T19:12:07.950Z"
   },
   {
    "duration": 4,
    "start_time": "2025-04-17T19:12:07.962Z"
   },
   {
    "duration": 127,
    "start_time": "2025-04-17T19:12:07.968Z"
   },
   {
    "duration": 9,
    "start_time": "2025-04-17T19:12:08.097Z"
   },
   {
    "duration": 21,
    "start_time": "2025-04-17T19:12:08.108Z"
   },
   {
    "duration": 4,
    "start_time": "2025-04-17T19:12:08.131Z"
   },
   {
    "duration": 23,
    "start_time": "2025-04-17T19:12:08.137Z"
   },
   {
    "duration": 5,
    "start_time": "2025-04-17T19:12:08.162Z"
   },
   {
    "duration": 8,
    "start_time": "2025-04-17T19:12:08.169Z"
   },
   {
    "duration": 115,
    "start_time": "2025-04-17T19:12:08.179Z"
   },
   {
    "duration": 97,
    "start_time": "2025-04-17T19:12:08.296Z"
   },
   {
    "duration": 4,
    "start_time": "2025-04-17T19:12:08.395Z"
   },
   {
    "duration": 6,
    "start_time": "2025-04-17T19:12:08.400Z"
   },
   {
    "duration": 167,
    "start_time": "2025-04-17T19:12:08.407Z"
   },
   {
    "duration": 88,
    "start_time": "2025-04-17T19:12:08.576Z"
   },
   {
    "duration": 1131,
    "start_time": "2025-04-17T19:12:08.666Z"
   },
   {
    "duration": 998,
    "start_time": "2025-04-17T19:12:09.801Z"
   },
   {
    "duration": 17,
    "start_time": "2025-04-17T19:12:10.800Z"
   },
   {
    "duration": 15,
    "start_time": "2025-04-17T19:12:10.818Z"
   },
   {
    "duration": 88,
    "start_time": "2025-04-17T19:12:10.835Z"
   },
   {
    "duration": 18,
    "start_time": "2025-04-17T19:12:10.925Z"
   },
   {
    "duration": 3,
    "start_time": "2025-04-17T19:12:10.945Z"
   },
   {
    "duration": 8,
    "start_time": "2025-04-17T19:12:10.949Z"
   },
   {
    "duration": 4,
    "start_time": "2025-04-17T19:12:10.958Z"
   },
   {
    "duration": 9,
    "start_time": "2025-04-17T19:12:10.963Z"
   },
   {
    "duration": 31,
    "start_time": "2025-04-17T19:12:10.973Z"
   },
   {
    "duration": 5,
    "start_time": "2025-04-17T19:12:11.005Z"
   },
   {
    "duration": 4,
    "start_time": "2025-04-17T19:12:11.012Z"
   },
   {
    "duration": 68,
    "start_time": "2025-04-17T19:12:11.018Z"
   },
   {
    "duration": 5,
    "start_time": "2025-04-17T19:12:11.088Z"
   },
   {
    "duration": 10,
    "start_time": "2025-04-17T19:12:11.095Z"
   },
   {
    "duration": 8,
    "start_time": "2025-04-17T19:12:11.106Z"
   },
   {
    "duration": 5,
    "start_time": "2025-04-17T19:12:11.116Z"
   },
   {
    "duration": 79,
    "start_time": "2025-04-17T19:14:19.044Z"
   },
   {
    "duration": 71,
    "start_time": "2025-04-17T19:15:22.051Z"
   },
   {
    "duration": 4,
    "start_time": "2025-04-17T19:17:04.302Z"
   },
   {
    "duration": 61,
    "start_time": "2025-04-17T19:18:53.967Z"
   },
   {
    "duration": 5,
    "start_time": "2025-04-17T19:19:05.650Z"
   },
   {
    "duration": 16,
    "start_time": "2025-04-17T19:19:13.853Z"
   },
   {
    "duration": 5,
    "start_time": "2025-04-17T19:19:24.620Z"
   },
   {
    "duration": 4,
    "start_time": "2025-04-17T19:19:32.615Z"
   },
   {
    "duration": 3,
    "start_time": "2025-04-17T19:19:43.725Z"
   },
   {
    "duration": 14,
    "start_time": "2025-04-17T19:20:10.493Z"
   },
   {
    "duration": 16,
    "start_time": "2025-04-17T19:20:10.694Z"
   },
   {
    "duration": 19,
    "start_time": "2025-04-17T19:20:10.872Z"
   },
   {
    "duration": 26,
    "start_time": "2025-04-17T19:20:11.062Z"
   },
   {
    "duration": 3,
    "start_time": "2025-04-17T19:20:11.232Z"
   },
   {
    "duration": 3,
    "start_time": "2025-04-17T19:20:11.427Z"
   },
   {
    "duration": 3,
    "start_time": "2025-04-17T19:20:11.663Z"
   },
   {
    "duration": 3,
    "start_time": "2025-04-17T19:20:12.011Z"
   },
   {
    "duration": 5,
    "start_time": "2025-04-17T19:20:12.344Z"
   },
   {
    "duration": 17,
    "start_time": "2025-04-17T19:20:17.334Z"
   },
   {
    "duration": 16,
    "start_time": "2025-04-17T19:20:17.495Z"
   },
   {
    "duration": 20,
    "start_time": "2025-04-17T19:20:17.662Z"
   },
   {
    "duration": 20,
    "start_time": "2025-04-17T19:20:17.815Z"
   },
   {
    "duration": 5,
    "start_time": "2025-04-17T19:20:17.970Z"
   },
   {
    "duration": 8,
    "start_time": "2025-04-17T19:20:18.160Z"
   },
   {
    "duration": 2,
    "start_time": "2025-04-17T19:20:18.333Z"
   },
   {
    "duration": 5,
    "start_time": "2025-04-17T19:20:18.522Z"
   },
   {
    "duration": 30,
    "start_time": "2025-04-17T19:23:33.855Z"
   },
   {
    "duration": 9,
    "start_time": "2025-04-17T19:24:25.685Z"
   },
   {
    "duration": 3,
    "start_time": "2025-04-17T19:24:31.872Z"
   },
   {
    "duration": 2192,
    "start_time": "2025-04-18T09:16:28.390Z"
   },
   {
    "duration": 2,
    "start_time": "2025-04-18T09:17:15.787Z"
   },
   {
    "duration": 1999,
    "start_time": "2025-04-18T09:17:17.485Z"
   },
   {
    "duration": 967,
    "start_time": "2025-04-18T09:20:25.680Z"
   },
   {
    "duration": 2040,
    "start_time": "2025-04-18T09:20:26.769Z"
   },
   {
    "duration": 265,
    "start_time": "2025-04-18T09:20:35.147Z"
   },
   {
    "duration": 3,
    "start_time": "2025-04-18T09:20:36.300Z"
   },
   {
    "duration": 46,
    "start_time": "2025-04-18T09:20:37.648Z"
   },
   {
    "duration": 64,
    "start_time": "2025-04-18T09:21:07.235Z"
   },
   {
    "duration": 44,
    "start_time": "2025-04-18T09:21:07.922Z"
   },
   {
    "duration": 630,
    "start_time": "2025-04-18T09:21:08.722Z"
   },
   {
    "duration": 585,
    "start_time": "2025-04-18T09:21:09.580Z"
   },
   {
    "duration": 35,
    "start_time": "2025-04-18T09:21:16.041Z"
   },
   {
    "duration": 4,
    "start_time": "2025-04-18T09:21:16.724Z"
   },
   {
    "duration": 148,
    "start_time": "2025-04-18T09:21:17.574Z"
   },
   {
    "duration": 194,
    "start_time": "2025-04-18T09:21:42.116Z"
   },
   {
    "duration": 1023,
    "start_time": "2025-04-18T09:23:28.626Z"
   },
   {
    "duration": 149,
    "start_time": "2025-04-18T09:23:44.805Z"
   },
   {
    "duration": 167,
    "start_time": "2025-04-18T09:24:53.280Z"
   },
   {
    "duration": 1035,
    "start_time": "2025-04-18T09:26:15.334Z"
   },
   {
    "duration": 13,
    "start_time": "2025-04-18T09:26:16.371Z"
   },
   {
    "duration": 241,
    "start_time": "2025-04-18T09:26:18.348Z"
   },
   {
    "duration": 4,
    "start_time": "2025-04-18T09:26:20.517Z"
   },
   {
    "duration": 542,
    "start_time": "2025-04-18T09:26:22.116Z"
   },
   {
    "duration": 18,
    "start_time": "2025-04-18T09:28:02.593Z"
   },
   {
    "duration": 17,
    "start_time": "2025-04-18T09:30:01.450Z"
   },
   {
    "duration": 3,
    "start_time": "2025-04-18T09:31:14.619Z"
   },
   {
    "duration": 45,
    "start_time": "2025-04-18T09:32:01.589Z"
   },
   {
    "duration": 12,
    "start_time": "2025-04-18T09:32:02.287Z"
   },
   {
    "duration": 6,
    "start_time": "2025-04-18T09:32:03.025Z"
   },
   {
    "duration": 4,
    "start_time": "2025-04-18T09:32:03.690Z"
   },
   {
    "duration": 4,
    "start_time": "2025-04-18T09:32:04.348Z"
   },
   {
    "duration": 3,
    "start_time": "2025-04-18T09:32:05.174Z"
   },
   {
    "duration": 4,
    "start_time": "2025-04-18T09:32:05.824Z"
   },
   {
    "duration": 115,
    "start_time": "2025-04-18T09:32:06.708Z"
   },
   {
    "duration": 10,
    "start_time": "2025-04-18T09:32:33.233Z"
   },
   {
    "duration": 8,
    "start_time": "2025-04-18T09:32:37.964Z"
   },
   {
    "duration": 5,
    "start_time": "2025-04-18T09:32:40.579Z"
   },
   {
    "duration": 5,
    "start_time": "2025-04-18T09:32:41.267Z"
   },
   {
    "duration": 7,
    "start_time": "2025-04-18T09:32:42.233Z"
   },
   {
    "duration": 4,
    "start_time": "2025-04-18T09:32:59.564Z"
   },
   {
    "duration": 93,
    "start_time": "2025-04-18T09:33:00.207Z"
   },
   {
    "duration": 89,
    "start_time": "2025-04-18T09:33:00.972Z"
   },
   {
    "duration": 9,
    "start_time": "2025-04-18T09:40:46.859Z"
   },
   {
    "duration": 8,
    "start_time": "2025-04-18T09:40:47.291Z"
   },
   {
    "duration": 7,
    "start_time": "2025-04-18T09:40:47.500Z"
   },
   {
    "duration": 791,
    "start_time": "2025-04-18T09:41:08.349Z"
   },
   {
    "duration": 905,
    "start_time": "2025-04-18T09:41:09.163Z"
   },
   {
    "duration": 17,
    "start_time": "2025-04-18T09:41:12.731Z"
   },
   {
    "duration": 20,
    "start_time": "2025-04-18T09:41:14.099Z"
   },
   {
    "duration": 20,
    "start_time": "2025-04-18T09:41:14.898Z"
   },
   {
    "duration": 20,
    "start_time": "2025-04-18T09:41:15.586Z"
   },
   {
    "duration": 3,
    "start_time": "2025-04-18T09:41:16.300Z"
   },
   {
    "duration": 2,
    "start_time": "2025-04-18T09:41:17.032Z"
   },
   {
    "duration": 8,
    "start_time": "2025-04-18T09:41:18.892Z"
   },
   {
    "duration": 5,
    "start_time": "2025-04-18T09:43:18.885Z"
   },
   {
    "duration": 16,
    "start_time": "2025-04-18T09:47:48.419Z"
   },
   {
    "duration": 16,
    "start_time": "2025-04-18T09:48:39.432Z"
   },
   {
    "duration": 72,
    "start_time": "2025-04-18T09:50:23.073Z"
   },
   {
    "duration": 8,
    "start_time": "2025-04-18T09:50:30.611Z"
   },
   {
    "duration": 4,
    "start_time": "2025-04-18T09:51:09.571Z"
   },
   {
    "duration": 8,
    "start_time": "2025-04-18T09:51:18.487Z"
   },
   {
    "duration": 3,
    "start_time": "2025-04-18T09:51:38.297Z"
   },
   {
    "duration": 7,
    "start_time": "2025-04-18T09:51:43.344Z"
   },
   {
    "duration": 8,
    "start_time": "2025-04-18T09:52:26.223Z"
   },
   {
    "duration": 8,
    "start_time": "2025-04-18T09:52:48.880Z"
   },
   {
    "duration": 9,
    "start_time": "2025-04-18T09:53:15.185Z"
   },
   {
    "duration": 6,
    "start_time": "2025-04-18T09:53:24.304Z"
   },
   {
    "duration": 3,
    "start_time": "2025-04-18T09:53:55.197Z"
   },
   {
    "duration": 4,
    "start_time": "2025-04-18T09:53:55.854Z"
   },
   {
    "duration": 4,
    "start_time": "2025-04-18T09:54:00.764Z"
   },
   {
    "duration": 6,
    "start_time": "2025-04-18T09:54:01.531Z"
   },
   {
    "duration": 6,
    "start_time": "2025-04-18T09:54:12.442Z"
   },
   {
    "duration": 956,
    "start_time": "2025-04-18T09:54:42.723Z"
   },
   {
    "duration": 6,
    "start_time": "2025-04-18T09:55:00.427Z"
   },
   {
    "duration": 3,
    "start_time": "2025-04-18T09:55:15.468Z"
   },
   {
    "duration": 5,
    "start_time": "2025-04-18T09:55:16.015Z"
   },
   {
    "duration": 4,
    "start_time": "2025-04-18T09:55:21.019Z"
   },
   {
    "duration": 4,
    "start_time": "2025-04-18T09:55:21.750Z"
   },
   {
    "duration": 5,
    "start_time": "2025-04-18T09:55:23.535Z"
   },
   {
    "duration": 4,
    "start_time": "2025-04-18T09:55:34.808Z"
   },
   {
    "duration": 4,
    "start_time": "2025-04-18T09:55:35.430Z"
   },
   {
    "duration": 5,
    "start_time": "2025-04-18T09:55:36.069Z"
   },
   {
    "duration": 5,
    "start_time": "2025-04-18T09:55:36.724Z"
   },
   {
    "duration": 5,
    "start_time": "2025-04-18T09:55:55.245Z"
   },
   {
    "duration": 3,
    "start_time": "2025-04-18T09:56:22.750Z"
   },
   {
    "duration": 6,
    "start_time": "2025-04-18T09:56:23.435Z"
   },
   {
    "duration": 2,
    "start_time": "2025-04-18T09:57:27.320Z"
   },
   {
    "duration": 4,
    "start_time": "2025-04-18T09:57:28.551Z"
   },
   {
    "duration": 2,
    "start_time": "2025-04-18T09:57:36.016Z"
   },
   {
    "duration": 2,
    "start_time": "2025-04-18T09:57:36.651Z"
   },
   {
    "duration": 2,
    "start_time": "2025-04-18T09:57:41.672Z"
   },
   {
    "duration": 3,
    "start_time": "2025-04-18T09:57:46.223Z"
   },
   {
    "duration": 15,
    "start_time": "2025-04-18T09:58:18.365Z"
   },
   {
    "duration": 3,
    "start_time": "2025-04-18T09:58:19.064Z"
   },
   {
    "duration": 3,
    "start_time": "2025-04-18T09:58:19.697Z"
   },
   {
    "duration": 16,
    "start_time": "2025-04-18T09:58:34.808Z"
   },
   {
    "duration": 1187,
    "start_time": "2025-04-18T09:58:35.370Z"
   },
   {
    "duration": 0,
    "start_time": "2025-04-18T09:58:36.559Z"
   },
   {
    "duration": 1199,
    "start_time": "2025-04-18T09:58:58.290Z"
   },
   {
    "duration": 3,
    "start_time": "2025-04-18T09:59:14.279Z"
   },
   {
    "duration": 3,
    "start_time": "2025-04-18T09:59:15.510Z"
   },
   {
    "duration": 3,
    "start_time": "2025-04-18T09:59:28.817Z"
   },
   {
    "duration": 4,
    "start_time": "2025-04-18T09:59:29.414Z"
   },
   {
    "duration": 5,
    "start_time": "2025-04-18T09:59:30.949Z"
   },
   {
    "duration": 7,
    "start_time": "2025-04-18T10:04:42.884Z"
   },
   {
    "duration": 3,
    "start_time": "2025-04-18T10:08:22.887Z"
   },
   {
    "duration": 3,
    "start_time": "2025-04-18T10:09:00.946Z"
   },
   {
    "duration": 10,
    "start_time": "2025-04-18T10:10:44.489Z"
   },
   {
    "duration": 7,
    "start_time": "2025-04-18T10:11:41.633Z"
   },
   {
    "duration": 8,
    "start_time": "2025-04-18T10:12:09.810Z"
   },
   {
    "duration": 11,
    "start_time": "2025-04-18T10:13:09.777Z"
   },
   {
    "duration": 8,
    "start_time": "2025-04-18T10:14:33.912Z"
   },
   {
    "duration": 10,
    "start_time": "2025-04-18T10:14:56.883Z"
   },
   {
    "duration": 10,
    "start_time": "2025-04-18T10:14:57.750Z"
   },
   {
    "duration": 4,
    "start_time": "2025-04-18T10:14:58.633Z"
   },
   {
    "duration": 2,
    "start_time": "2025-04-18T10:15:23.575Z"
   },
   {
    "duration": 3,
    "start_time": "2025-04-18T10:15:34.501Z"
   },
   {
    "duration": 3,
    "start_time": "2025-04-18T10:16:06.219Z"
   },
   {
    "duration": 3,
    "start_time": "2025-04-18T10:16:14.440Z"
   },
   {
    "duration": 3,
    "start_time": "2025-04-18T10:16:31.293Z"
   },
   {
    "duration": 3,
    "start_time": "2025-04-18T10:18:33.240Z"
   },
   {
    "duration": 3,
    "start_time": "2025-04-18T10:21:33.251Z"
   },
   {
    "duration": 64,
    "start_time": "2025-04-18T10:22:45.758Z"
   },
   {
    "duration": 5,
    "start_time": "2025-04-18T10:22:52.958Z"
   },
   {
    "duration": 10,
    "start_time": "2025-04-18T10:23:27.918Z"
   },
   {
    "duration": 20,
    "start_time": "2025-04-18T10:24:26.330Z"
   },
   {
    "duration": 2,
    "start_time": "2025-04-18T10:25:38.960Z"
   },
   {
    "duration": 3,
    "start_time": "2025-04-18T10:26:58.654Z"
   },
   {
    "duration": 4,
    "start_time": "2025-04-18T10:26:59.338Z"
   },
   {
    "duration": 10,
    "start_time": "2025-04-18T10:27:38.567Z"
   },
   {
    "duration": 11,
    "start_time": "2025-04-18T10:27:39.132Z"
   },
   {
    "duration": 2,
    "start_time": "2025-04-18T10:27:39.853Z"
   },
   {
    "duration": 3,
    "start_time": "2025-04-18T10:27:40.499Z"
   },
   {
    "duration": 2,
    "start_time": "2025-04-18T10:27:41.248Z"
   },
   {
    "duration": 2,
    "start_time": "2025-04-18T10:27:43.381Z"
   },
   {
    "duration": 2,
    "start_time": "2025-04-18T10:27:44.919Z"
   },
   {
    "duration": 4,
    "start_time": "2025-04-18T10:27:47.242Z"
   },
   {
    "duration": 3,
    "start_time": "2025-04-18T10:28:17.127Z"
   },
   {
    "duration": 3,
    "start_time": "2025-04-18T10:28:17.896Z"
   },
   {
    "duration": 4,
    "start_time": "2025-04-18T10:28:38.541Z"
   },
   {
    "duration": 5,
    "start_time": "2025-04-18T10:29:20.283Z"
   },
   {
    "duration": 19,
    "start_time": "2025-04-18T10:29:55.631Z"
   },
   {
    "duration": 10,
    "start_time": "2025-04-18T10:31:43.719Z"
   },
   {
    "duration": 10,
    "start_time": "2025-04-18T10:31:44.497Z"
   },
   {
    "duration": 3,
    "start_time": "2025-04-18T10:31:45.258Z"
   },
   {
    "duration": 3,
    "start_time": "2025-04-18T10:31:47.147Z"
   },
   {
    "duration": 3,
    "start_time": "2025-04-18T10:31:47.802Z"
   },
   {
    "duration": 2,
    "start_time": "2025-04-18T10:31:48.588Z"
   },
   {
    "duration": 3,
    "start_time": "2025-04-18T10:31:49.328Z"
   },
   {
    "duration": 3,
    "start_time": "2025-04-18T10:31:51.254Z"
   },
   {
    "duration": 2,
    "start_time": "2025-04-18T10:31:52.283Z"
   },
   {
    "duration": 2,
    "start_time": "2025-04-18T10:31:53.100Z"
   },
   {
    "duration": 4,
    "start_time": "2025-04-18T10:31:53.836Z"
   },
   {
    "duration": 3,
    "start_time": "2025-04-18T10:32:10.086Z"
   },
   {
    "duration": 3,
    "start_time": "2025-04-18T10:32:17.763Z"
   },
   {
    "duration": 2,
    "start_time": "2025-04-18T10:32:18.620Z"
   },
   {
    "duration": 4,
    "start_time": "2025-04-18T10:32:26.904Z"
   },
   {
    "duration": 4,
    "start_time": "2025-04-18T10:32:47.867Z"
   },
   {
    "duration": 21,
    "start_time": "2025-04-18T10:34:34.469Z"
   },
   {
    "duration": 11,
    "start_time": "2025-04-18T10:35:24.448Z"
   },
   {
    "duration": 10,
    "start_time": "2025-04-18T10:35:25.320Z"
   },
   {
    "duration": 3,
    "start_time": "2025-04-18T10:35:27.341Z"
   },
   {
    "duration": 3,
    "start_time": "2025-04-18T10:35:28.045Z"
   },
   {
    "duration": 2,
    "start_time": "2025-04-18T10:35:28.722Z"
   },
   {
    "duration": 3,
    "start_time": "2025-04-18T10:35:31.292Z"
   },
   {
    "duration": 2,
    "start_time": "2025-04-18T10:35:33.670Z"
   },
   {
    "duration": 4,
    "start_time": "2025-04-18T10:35:34.342Z"
   },
   {
    "duration": 3,
    "start_time": "2025-04-18T10:35:36.753Z"
   },
   {
    "duration": 3,
    "start_time": "2025-04-18T10:35:37.436Z"
   },
   {
    "duration": 4,
    "start_time": "2025-04-18T10:35:40.204Z"
   },
   {
    "duration": 6,
    "start_time": "2025-04-18T10:36:04.140Z"
   },
   {
    "duration": 4,
    "start_time": "2025-04-18T10:36:30.940Z"
   },
   {
    "duration": 4,
    "start_time": "2025-04-18T10:36:58.350Z"
   },
   {
    "duration": 5,
    "start_time": "2025-04-18T10:37:13.864Z"
   },
   {
    "duration": 19,
    "start_time": "2025-04-18T10:37:40.727Z"
   },
   {
    "duration": 21,
    "start_time": "2025-04-18T10:38:46.818Z"
   },
   {
    "duration": 4,
    "start_time": "2025-04-18T10:39:08.847Z"
   },
   {
    "duration": 19,
    "start_time": "2025-04-18T10:39:31.443Z"
   },
   {
    "duration": 19,
    "start_time": "2025-04-18T10:39:42.690Z"
   },
   {
    "duration": 21,
    "start_time": "2025-04-18T10:40:03.706Z"
   },
   {
    "duration": 5,
    "start_time": "2025-04-18T10:40:12.440Z"
   },
   {
    "duration": 5,
    "start_time": "2025-04-18T10:40:24.434Z"
   },
   {
    "duration": 9,
    "start_time": "2025-04-18T10:40:30.702Z"
   },
   {
    "duration": 10,
    "start_time": "2025-04-18T10:40:31.231Z"
   },
   {
    "duration": 3,
    "start_time": "2025-04-18T10:40:31.792Z"
   },
   {
    "duration": 3,
    "start_time": "2025-04-18T10:40:32.278Z"
   },
   {
    "duration": 3,
    "start_time": "2025-04-18T10:40:32.810Z"
   },
   {
    "duration": 3,
    "start_time": "2025-04-18T10:40:35.049Z"
   },
   {
    "duration": 2,
    "start_time": "2025-04-18T10:40:35.691Z"
   },
   {
    "duration": 3,
    "start_time": "2025-04-18T10:40:36.291Z"
   },
   {
    "duration": 2,
    "start_time": "2025-04-18T10:40:38.637Z"
   },
   {
    "duration": 2,
    "start_time": "2025-04-18T10:40:39.216Z"
   },
   {
    "duration": 5,
    "start_time": "2025-04-18T10:40:41.918Z"
   },
   {
    "duration": 10,
    "start_time": "2025-04-18T10:40:59.101Z"
   },
   {
    "duration": 10,
    "start_time": "2025-04-18T10:40:59.795Z"
   },
   {
    "duration": 3,
    "start_time": "2025-04-18T10:41:00.435Z"
   },
   {
    "duration": 3,
    "start_time": "2025-04-18T10:41:01.049Z"
   },
   {
    "duration": 3,
    "start_time": "2025-04-18T10:41:01.676Z"
   },
   {
    "duration": 3,
    "start_time": "2025-04-18T10:41:02.211Z"
   },
   {
    "duration": 3,
    "start_time": "2025-04-18T10:41:02.809Z"
   },
   {
    "duration": 4,
    "start_time": "2025-04-18T10:41:03.451Z"
   },
   {
    "duration": 2,
    "start_time": "2025-04-18T10:41:04.078Z"
   },
   {
    "duration": 3,
    "start_time": "2025-04-18T10:41:06.611Z"
   },
   {
    "duration": 7,
    "start_time": "2025-04-18T10:41:07.141Z"
   },
   {
    "duration": 5,
    "start_time": "2025-04-18T10:42:50.188Z"
   },
   {
    "duration": 9,
    "start_time": "2025-04-18T10:43:18.048Z"
   },
   {
    "duration": 10,
    "start_time": "2025-04-18T10:43:18.562Z"
   },
   {
    "duration": 3,
    "start_time": "2025-04-18T10:43:19.110Z"
   },
   {
    "duration": 2,
    "start_time": "2025-04-18T10:43:19.592Z"
   },
   {
    "duration": 2,
    "start_time": "2025-04-18T10:43:20.111Z"
   },
   {
    "duration": 2,
    "start_time": "2025-04-18T10:43:20.777Z"
   },
   {
    "duration": 2,
    "start_time": "2025-04-18T10:43:21.411Z"
   },
   {
    "duration": 3,
    "start_time": "2025-04-18T10:43:22.127Z"
   },
   {
    "duration": 5,
    "start_time": "2025-04-18T10:43:22.978Z"
   },
   {
    "duration": 1074,
    "start_time": "2025-04-18T10:45:45.829Z"
   },
   {
    "duration": 1805,
    "start_time": "2025-04-18T10:45:46.905Z"
   },
   {
    "duration": 310,
    "start_time": "2025-04-18T10:45:48.711Z"
   },
   {
    "duration": 3,
    "start_time": "2025-04-18T10:45:49.023Z"
   },
   {
    "duration": 46,
    "start_time": "2025-04-18T10:45:49.035Z"
   },
   {
    "duration": 71,
    "start_time": "2025-04-18T10:45:49.082Z"
   },
   {
    "duration": 36,
    "start_time": "2025-04-18T10:45:49.154Z"
   },
   {
    "duration": 637,
    "start_time": "2025-04-18T10:45:49.191Z"
   },
   {
    "duration": 561,
    "start_time": "2025-04-18T10:45:49.831Z"
   },
   {
    "duration": 45,
    "start_time": "2025-04-18T10:45:50.395Z"
   },
   {
    "duration": 5,
    "start_time": "2025-04-18T10:45:50.442Z"
   },
   {
    "duration": 177,
    "start_time": "2025-04-18T10:45:50.449Z"
   },
   {
    "duration": 1070,
    "start_time": "2025-04-18T10:45:50.635Z"
   },
   {
    "duration": 14,
    "start_time": "2025-04-18T10:45:51.707Z"
   },
   {
    "duration": 267,
    "start_time": "2025-04-18T10:45:51.735Z"
   },
   {
    "duration": 4,
    "start_time": "2025-04-18T10:45:52.004Z"
   },
   {
    "duration": 483,
    "start_time": "2025-04-18T10:45:52.010Z"
   },
   {
    "duration": 15,
    "start_time": "2025-04-18T10:45:52.494Z"
   },
   {
    "duration": 4,
    "start_time": "2025-04-18T10:45:52.511Z"
   },
   {
    "duration": 72,
    "start_time": "2025-04-18T10:45:52.517Z"
   },
   {
    "duration": 10,
    "start_time": "2025-04-18T10:45:52.591Z"
   },
   {
    "duration": 6,
    "start_time": "2025-04-18T10:45:52.602Z"
   },
   {
    "duration": 4,
    "start_time": "2025-04-18T10:45:52.609Z"
   },
   {
    "duration": 5,
    "start_time": "2025-04-18T10:45:52.614Z"
   },
   {
    "duration": 3,
    "start_time": "2025-04-18T10:45:52.620Z"
   },
   {
    "duration": 12,
    "start_time": "2025-04-18T10:45:52.624Z"
   },
   {
    "duration": 117,
    "start_time": "2025-04-18T10:45:52.637Z"
   },
   {
    "duration": 8,
    "start_time": "2025-04-18T10:45:52.759Z"
   },
   {
    "duration": 9,
    "start_time": "2025-04-18T10:45:52.768Z"
   },
   {
    "duration": 4,
    "start_time": "2025-04-18T10:45:52.779Z"
   },
   {
    "duration": 6,
    "start_time": "2025-04-18T10:45:52.784Z"
   },
   {
    "duration": 12,
    "start_time": "2025-04-18T10:45:52.792Z"
   },
   {
    "duration": 5,
    "start_time": "2025-04-18T10:45:52.805Z"
   },
   {
    "duration": 87,
    "start_time": "2025-04-18T10:45:52.836Z"
   },
   {
    "duration": 105,
    "start_time": "2025-04-18T10:45:52.934Z"
   },
   {
    "duration": 5,
    "start_time": "2025-04-18T10:45:53.041Z"
   },
   {
    "duration": 8,
    "start_time": "2025-04-18T10:45:53.048Z"
   },
   {
    "duration": 155,
    "start_time": "2025-04-18T10:45:53.058Z"
   },
   {
    "duration": 90,
    "start_time": "2025-04-18T10:45:53.215Z"
   },
   {
    "duration": 417,
    "start_time": "2025-04-18T10:45:53.308Z"
   },
   {
    "duration": 1019,
    "start_time": "2025-04-18T10:45:53.727Z"
   },
   {
    "duration": 16,
    "start_time": "2025-04-18T10:45:54.748Z"
   },
   {
    "duration": 15,
    "start_time": "2025-04-18T10:45:54.766Z"
   },
   {
    "duration": 20,
    "start_time": "2025-04-18T10:45:54.782Z"
   },
   {
    "duration": 44,
    "start_time": "2025-04-18T10:45:54.803Z"
   },
   {
    "duration": 5,
    "start_time": "2025-04-18T10:45:54.848Z"
   },
   {
    "duration": 15,
    "start_time": "2025-04-18T10:45:54.855Z"
   },
   {
    "duration": 85,
    "start_time": "2025-04-18T10:45:54.871Z"
   },
   {
    "duration": 5,
    "start_time": "2025-04-18T10:45:54.958Z"
   },
   {
    "duration": 5,
    "start_time": "2025-04-18T10:45:54.965Z"
   },
   {
    "duration": 5,
    "start_time": "2025-04-18T10:45:54.971Z"
   },
   {
    "duration": 4,
    "start_time": "2025-04-18T10:45:54.978Z"
   },
   {
    "duration": 15,
    "start_time": "2025-04-18T10:45:54.983Z"
   },
   {
    "duration": 10,
    "start_time": "2025-04-18T10:45:54.999Z"
   },
   {
    "duration": 3,
    "start_time": "2025-04-18T10:45:55.011Z"
   },
   {
    "duration": 4,
    "start_time": "2025-04-18T10:45:55.015Z"
   },
   {
    "duration": 15,
    "start_time": "2025-04-18T10:45:55.020Z"
   },
   {
    "duration": 3,
    "start_time": "2025-04-18T10:45:55.037Z"
   },
   {
    "duration": 4,
    "start_time": "2025-04-18T10:45:55.041Z"
   },
   {
    "duration": 5,
    "start_time": "2025-04-18T10:45:55.046Z"
   },
   {
    "duration": 121,
    "start_time": "2025-04-18T10:45:55.052Z"
   },
   {
    "duration": 3,
    "start_time": "2025-04-18T10:45:58.906Z"
   },
   {
    "duration": 2263,
    "start_time": "2025-04-18T10:45:59.722Z"
   },
   {
    "duration": 305,
    "start_time": "2025-04-18T10:46:01.987Z"
   },
   {
    "duration": 2,
    "start_time": "2025-04-18T10:46:02.462Z"
   },
   {
    "duration": 45,
    "start_time": "2025-04-18T10:46:02.972Z"
   },
   {
    "duration": 54,
    "start_time": "2025-04-18T10:46:04.773Z"
   },
   {
    "duration": 45,
    "start_time": "2025-04-18T10:46:05.140Z"
   },
   {
    "duration": 598,
    "start_time": "2025-04-18T10:46:05.364Z"
   },
   {
    "duration": 587,
    "start_time": "2025-04-18T10:46:05.964Z"
   },
   {
    "duration": 35,
    "start_time": "2025-04-18T10:46:06.553Z"
   },
   {
    "duration": 5,
    "start_time": "2025-04-18T10:46:06.686Z"
   },
   {
    "duration": 153,
    "start_time": "2025-04-18T10:46:06.901Z"
   },
   {
    "duration": 1010,
    "start_time": "2025-04-18T10:46:07.734Z"
   },
   {
    "duration": 13,
    "start_time": "2025-04-18T10:46:08.746Z"
   },
   {
    "duration": 263,
    "start_time": "2025-04-18T10:46:08.761Z"
   },
   {
    "duration": 9,
    "start_time": "2025-04-18T10:46:09.026Z"
   },
   {
    "duration": 473,
    "start_time": "2025-04-18T10:46:09.037Z"
   },
   {
    "duration": 15,
    "start_time": "2025-04-18T10:46:10.143Z"
   },
   {
    "duration": 4,
    "start_time": "2025-04-18T10:46:10.748Z"
   },
   {
    "duration": 73,
    "start_time": "2025-04-18T10:46:11.796Z"
   },
   {
    "duration": 9,
    "start_time": "2025-04-18T10:46:12.402Z"
   },
   {
    "duration": 6,
    "start_time": "2025-04-18T10:46:12.648Z"
   },
   {
    "duration": 4,
    "start_time": "2025-04-18T10:46:13.042Z"
   },
   {
    "duration": 4,
    "start_time": "2025-04-18T10:46:13.458Z"
   },
   {
    "duration": 3,
    "start_time": "2025-04-18T10:46:14.210Z"
   },
   {
    "duration": 4,
    "start_time": "2025-04-18T10:46:14.729Z"
   },
   {
    "duration": 102,
    "start_time": "2025-04-18T10:46:15.441Z"
   },
   {
    "duration": 8,
    "start_time": "2025-04-18T10:46:17.907Z"
   },
   {
    "duration": 8,
    "start_time": "2025-04-18T10:46:19.957Z"
   },
   {
    "duration": 4,
    "start_time": "2025-04-18T10:46:20.460Z"
   },
   {
    "duration": 5,
    "start_time": "2025-04-18T10:46:21.225Z"
   },
   {
    "duration": 4,
    "start_time": "2025-04-18T10:46:21.674Z"
   },
   {
    "duration": 6,
    "start_time": "2025-04-18T10:46:22.310Z"
   },
   {
    "duration": 86,
    "start_time": "2025-04-18T10:46:22.828Z"
   },
   {
    "duration": 86,
    "start_time": "2025-04-18T10:46:23.811Z"
   },
   {
    "duration": 5,
    "start_time": "2025-04-18T10:46:26.043Z"
   },
   {
    "duration": 5,
    "start_time": "2025-04-18T10:46:26.694Z"
   },
   {
    "duration": 157,
    "start_time": "2025-04-18T10:46:27.162Z"
   },
   {
    "duration": 77,
    "start_time": "2025-04-18T10:46:27.863Z"
   },
   {
    "duration": 1473,
    "start_time": "2025-04-18T10:46:33.035Z"
   },
   {
    "duration": 976,
    "start_time": "2025-04-18T10:46:34.510Z"
   },
   {
    "duration": 18,
    "start_time": "2025-04-18T10:46:35.996Z"
   },
   {
    "duration": 23,
    "start_time": "2025-04-18T10:46:36.531Z"
   },
   {
    "duration": 29,
    "start_time": "2025-04-18T10:46:37.080Z"
   },
   {
    "duration": 20,
    "start_time": "2025-04-18T10:46:37.614Z"
   },
   {
    "duration": 5,
    "start_time": "2025-04-18T10:46:38.182Z"
   },
   {
    "duration": 10,
    "start_time": "2025-04-18T10:46:45.416Z"
   },
   {
    "duration": 3,
    "start_time": "2025-04-18T10:46:46.015Z"
   },
   {
    "duration": 5,
    "start_time": "2025-04-18T10:46:46.566Z"
   },
   {
    "duration": 3,
    "start_time": "2025-04-18T10:46:47.148Z"
   },
   {
    "duration": 3,
    "start_time": "2025-04-18T10:46:47.739Z"
   },
   {
    "duration": 4,
    "start_time": "2025-04-18T10:46:48.564Z"
   },
   {
    "duration": 10,
    "start_time": "2025-04-18T10:46:52.951Z"
   },
   {
    "duration": 11,
    "start_time": "2025-04-18T10:46:53.567Z"
   },
   {
    "duration": 3,
    "start_time": "2025-04-18T10:46:54.435Z"
   },
   {
    "duration": 3,
    "start_time": "2025-04-18T10:46:54.985Z"
   },
   {
    "duration": 3,
    "start_time": "2025-04-18T10:46:55.617Z"
   },
   {
    "duration": 3,
    "start_time": "2025-04-18T10:46:56.176Z"
   },
   {
    "duration": 2,
    "start_time": "2025-04-18T10:46:56.786Z"
   },
   {
    "duration": 4,
    "start_time": "2025-04-18T10:46:57.328Z"
   },
   {
    "duration": 11,
    "start_time": "2025-04-18T10:46:59.269Z"
   },
   {
    "duration": 6,
    "start_time": "2025-04-18T10:47:19.757Z"
   },
   {
    "duration": 6,
    "start_time": "2025-04-18T10:49:25.963Z"
   },
   {
    "duration": 5,
    "start_time": "2025-04-18T18:59:42.196Z"
   },
   {
    "duration": 1775,
    "start_time": "2025-04-18T18:59:42.239Z"
   },
   {
    "duration": 343,
    "start_time": "2025-04-18T18:59:44.015Z"
   },
   {
    "duration": 4,
    "start_time": "2025-04-18T18:59:44.359Z"
   },
   {
    "duration": 80,
    "start_time": "2025-04-18T18:59:44.364Z"
   },
   {
    "duration": 47,
    "start_time": "2025-04-18T18:59:44.445Z"
   },
   {
    "duration": 26,
    "start_time": "2025-04-18T18:59:44.494Z"
   },
   {
    "duration": 601,
    "start_time": "2025-04-18T18:59:44.538Z"
   },
   {
    "duration": 627,
    "start_time": "2025-04-18T18:59:45.141Z"
   },
   {
    "duration": 28,
    "start_time": "2025-04-18T18:59:45.770Z"
   },
   {
    "duration": 6,
    "start_time": "2025-04-18T18:59:45.800Z"
   },
   {
    "duration": 318,
    "start_time": "2025-04-18T18:59:45.838Z"
   },
   {
    "duration": 984,
    "start_time": "2025-04-18T18:59:46.159Z"
   },
   {
    "duration": 9,
    "start_time": "2025-04-18T18:59:47.145Z"
   },
   {
    "duration": 215,
    "start_time": "2025-04-18T18:59:47.156Z"
   },
   {
    "duration": 4,
    "start_time": "2025-04-18T18:59:47.373Z"
   },
   {
    "duration": 786,
    "start_time": "2025-04-18T18:59:47.379Z"
   },
   {
    "duration": 17,
    "start_time": "2025-04-18T18:59:48.167Z"
   },
   {
    "duration": 4,
    "start_time": "2025-04-18T18:59:48.238Z"
   },
   {
    "duration": 94,
    "start_time": "2025-04-18T18:59:48.244Z"
   },
   {
    "duration": 11,
    "start_time": "2025-04-18T18:59:48.340Z"
   },
   {
    "duration": 6,
    "start_time": "2025-04-18T18:59:48.353Z"
   },
   {
    "duration": 13,
    "start_time": "2025-04-18T18:59:48.361Z"
   },
   {
    "duration": 7,
    "start_time": "2025-04-18T18:59:48.376Z"
   },
   {
    "duration": 54,
    "start_time": "2025-04-18T18:59:48.384Z"
   },
   {
    "duration": 4,
    "start_time": "2025-04-18T18:59:48.439Z"
   },
   {
    "duration": 338,
    "start_time": "2025-04-18T18:59:48.445Z"
   },
   {
    "duration": 58,
    "start_time": "2025-04-18T18:59:48.785Z"
   },
   {
    "duration": 9,
    "start_time": "2025-04-18T18:59:48.844Z"
   },
   {
    "duration": 3,
    "start_time": "2025-04-18T18:59:48.855Z"
   },
   {
    "duration": 4,
    "start_time": "2025-04-18T18:59:48.860Z"
   },
   {
    "duration": 5,
    "start_time": "2025-04-18T18:59:48.866Z"
   },
   {
    "duration": 5,
    "start_time": "2025-04-18T18:59:48.873Z"
   },
   {
    "duration": 260,
    "start_time": "2025-04-18T18:59:48.880Z"
   },
   {
    "duration": 207,
    "start_time": "2025-04-18T18:59:49.142Z"
   },
   {
    "duration": 5,
    "start_time": "2025-04-18T18:59:49.351Z"
   },
   {
    "duration": 7,
    "start_time": "2025-04-18T18:59:49.358Z"
   },
   {
    "duration": 113,
    "start_time": "2025-04-18T18:59:49.438Z"
   },
   {
    "duration": 191,
    "start_time": "2025-04-18T18:59:49.553Z"
   },
   {
    "duration": 725,
    "start_time": "2025-04-18T18:59:49.745Z"
   },
   {
    "duration": 1912,
    "start_time": "2025-04-18T18:59:50.471Z"
   },
   {
    "duration": 20,
    "start_time": "2025-04-18T18:59:52.438Z"
   },
   {
    "duration": 78,
    "start_time": "2025-04-18T18:59:52.460Z"
   },
   {
    "duration": 18,
    "start_time": "2025-04-18T18:59:52.539Z"
   },
   {
    "duration": 94,
    "start_time": "2025-04-18T18:59:52.559Z"
   },
   {
    "duration": 9,
    "start_time": "2025-04-18T18:59:52.655Z"
   },
   {
    "duration": 71,
    "start_time": "2025-04-18T18:59:52.666Z"
   },
   {
    "duration": 3,
    "start_time": "2025-04-18T18:59:52.739Z"
   },
   {
    "duration": 13,
    "start_time": "2025-04-18T18:59:52.744Z"
   },
   {
    "duration": 5,
    "start_time": "2025-04-18T18:59:52.759Z"
   },
   {
    "duration": 7,
    "start_time": "2025-04-18T18:59:52.766Z"
   },
   {
    "duration": 18,
    "start_time": "2025-04-18T18:59:52.774Z"
   },
   {
    "duration": 52,
    "start_time": "2025-04-18T18:59:52.794Z"
   },
   {
    "duration": 20,
    "start_time": "2025-04-18T18:59:52.848Z"
   },
   {
    "duration": 3,
    "start_time": "2025-04-18T18:59:52.870Z"
   },
   {
    "duration": 11,
    "start_time": "2025-04-18T18:59:52.874Z"
   },
   {
    "duration": 51,
    "start_time": "2025-04-18T18:59:52.887Z"
   },
   {
    "duration": 4,
    "start_time": "2025-04-18T18:59:52.940Z"
   },
   {
    "duration": 12,
    "start_time": "2025-04-18T18:59:52.946Z"
   },
   {
    "duration": 6,
    "start_time": "2025-04-18T18:59:52.960Z"
   },
   {
    "duration": 11,
    "start_time": "2025-04-18T18:59:52.973Z"
   },
   {
    "duration": 3151,
    "start_time": "2025-04-18T19:02:26.591Z"
   },
   {
    "duration": 2604,
    "start_time": "2025-04-18T19:02:29.744Z"
   },
   {
    "duration": 309,
    "start_time": "2025-04-18T19:02:32.349Z"
   },
   {
    "duration": 3,
    "start_time": "2025-04-18T19:02:32.660Z"
   },
   {
    "duration": 68,
    "start_time": "2025-04-18T19:02:32.664Z"
   },
   {
    "duration": 43,
    "start_time": "2025-04-18T19:02:32.738Z"
   },
   {
    "duration": 30,
    "start_time": "2025-04-18T19:02:32.783Z"
   },
   {
    "duration": 614,
    "start_time": "2025-04-18T19:02:32.814Z"
   },
   {
    "duration": 573,
    "start_time": "2025-04-18T19:02:33.430Z"
   },
   {
    "duration": 36,
    "start_time": "2025-04-18T19:02:34.006Z"
   },
   {
    "duration": 5,
    "start_time": "2025-04-18T19:02:34.044Z"
   },
   {
    "duration": 327,
    "start_time": "2025-04-18T19:02:34.051Z"
   },
   {
    "duration": 1047,
    "start_time": "2025-04-18T19:02:34.380Z"
   },
   {
    "duration": 13,
    "start_time": "2025-04-18T19:02:35.429Z"
   },
   {
    "duration": 197,
    "start_time": "2025-04-18T19:02:35.443Z"
   },
   {
    "duration": 4,
    "start_time": "2025-04-18T19:02:35.642Z"
   },
   {
    "duration": 579,
    "start_time": "2025-04-18T19:02:35.648Z"
   },
   {
    "duration": 20,
    "start_time": "2025-04-18T19:02:36.229Z"
   },
   {
    "duration": 19,
    "start_time": "2025-04-18T19:02:36.250Z"
   },
   {
    "duration": 185,
    "start_time": "2025-04-18T19:02:36.271Z"
   },
   {
    "duration": 32,
    "start_time": "2025-04-18T19:02:36.458Z"
   },
   {
    "duration": 38,
    "start_time": "2025-04-18T19:02:36.492Z"
   },
   {
    "duration": 28,
    "start_time": "2025-04-18T19:02:36.532Z"
   },
   {
    "duration": 92,
    "start_time": "2025-04-18T19:02:36.562Z"
   },
   {
    "duration": 13,
    "start_time": "2025-04-18T19:02:36.656Z"
   },
   {
    "duration": 13,
    "start_time": "2025-04-18T19:02:36.671Z"
   },
   {
    "duration": 284,
    "start_time": "2025-04-18T19:02:36.685Z"
   },
   {
    "duration": 9,
    "start_time": "2025-04-18T19:02:36.972Z"
   },
   {
    "duration": 42,
    "start_time": "2025-04-18T19:02:36.982Z"
   },
   {
    "duration": 24,
    "start_time": "2025-04-18T19:02:37.026Z"
   },
   {
    "duration": 5,
    "start_time": "2025-04-18T19:02:37.052Z"
   },
   {
    "duration": 7,
    "start_time": "2025-04-18T19:02:37.059Z"
   },
   {
    "duration": 10,
    "start_time": "2025-04-18T19:02:37.067Z"
   },
   {
    "duration": 162,
    "start_time": "2025-04-18T19:02:37.079Z"
   },
   {
    "duration": 197,
    "start_time": "2025-04-18T19:02:37.244Z"
   },
   {
    "duration": 150,
    "start_time": "2025-04-18T19:02:37.443Z"
   },
   {
    "duration": 56,
    "start_time": "2025-04-18T19:02:37.595Z"
   },
   {
    "duration": 104,
    "start_time": "2025-04-18T19:02:37.653Z"
   },
   {
    "duration": 224,
    "start_time": "2025-04-18T19:02:37.760Z"
   },
   {
    "duration": 654,
    "start_time": "2025-04-18T19:02:38.038Z"
   },
   {
    "duration": 952,
    "start_time": "2025-04-18T19:02:38.694Z"
   },
   {
    "duration": 17,
    "start_time": "2025-04-18T19:02:39.647Z"
   },
   {
    "duration": 16,
    "start_time": "2025-04-18T19:02:39.666Z"
   },
   {
    "duration": 17,
    "start_time": "2025-04-18T19:02:39.684Z"
   },
   {
    "duration": 42,
    "start_time": "2025-04-18T19:02:39.703Z"
   },
   {
    "duration": 7,
    "start_time": "2025-04-18T19:02:39.747Z"
   },
   {
    "duration": 9,
    "start_time": "2025-04-18T19:02:39.756Z"
   },
   {
    "duration": 3,
    "start_time": "2025-04-18T19:02:39.767Z"
   },
   {
    "duration": 7,
    "start_time": "2025-04-18T19:02:39.771Z"
   },
   {
    "duration": 2,
    "start_time": "2025-04-18T19:02:39.780Z"
   },
   {
    "duration": 16,
    "start_time": "2025-04-18T19:02:39.784Z"
   },
   {
    "duration": 4,
    "start_time": "2025-04-18T19:02:39.838Z"
   },
   {
    "duration": 13,
    "start_time": "2025-04-18T19:02:39.844Z"
   },
   {
    "duration": 23,
    "start_time": "2025-04-18T19:02:39.859Z"
   },
   {
    "duration": 5,
    "start_time": "2025-04-18T19:02:39.884Z"
   },
   {
    "duration": 4,
    "start_time": "2025-04-18T19:02:39.891Z"
   },
   {
    "duration": 9,
    "start_time": "2025-04-18T19:02:39.897Z"
   },
   {
    "duration": 15,
    "start_time": "2025-04-18T19:02:39.908Z"
   },
   {
    "duration": 13,
    "start_time": "2025-04-18T19:02:39.925Z"
   },
   {
    "duration": 6,
    "start_time": "2025-04-18T19:02:39.939Z"
   },
   {
    "duration": 14,
    "start_time": "2025-04-18T19:02:39.946Z"
   },
   {
    "duration": 2903,
    "start_time": "2025-04-18T19:03:05.634Z"
   },
   {
    "duration": 2859,
    "start_time": "2025-04-18T19:03:08.539Z"
   },
   {
    "duration": 312,
    "start_time": "2025-04-18T19:03:11.400Z"
   },
   {
    "duration": 3,
    "start_time": "2025-04-18T19:03:11.714Z"
   },
   {
    "duration": 58,
    "start_time": "2025-04-18T19:03:11.720Z"
   },
   {
    "duration": 66,
    "start_time": "2025-04-18T19:03:11.780Z"
   },
   {
    "duration": 28,
    "start_time": "2025-04-18T19:03:11.848Z"
   },
   {
    "duration": 618,
    "start_time": "2025-04-18T19:03:11.878Z"
   },
   {
    "duration": 577,
    "start_time": "2025-04-18T19:03:12.498Z"
   },
   {
    "duration": 26,
    "start_time": "2025-04-18T19:03:13.076Z"
   },
   {
    "duration": 5,
    "start_time": "2025-04-18T19:03:13.103Z"
   },
   {
    "duration": 364,
    "start_time": "2025-04-18T19:03:13.110Z"
   },
   {
    "duration": 1003,
    "start_time": "2025-04-18T19:03:13.475Z"
   },
   {
    "duration": 8,
    "start_time": "2025-04-18T19:03:14.481Z"
   },
   {
    "duration": 168,
    "start_time": "2025-04-18T19:03:14.491Z"
   },
   {
    "duration": 3,
    "start_time": "2025-04-18T19:03:14.661Z"
   },
   {
    "duration": 572,
    "start_time": "2025-04-18T19:03:14.666Z"
   },
   {
    "duration": 15,
    "start_time": "2025-04-18T19:03:15.239Z"
   },
   {
    "duration": 4,
    "start_time": "2025-04-18T19:03:15.256Z"
   },
   {
    "duration": 91,
    "start_time": "2025-04-18T19:03:15.261Z"
   },
   {
    "duration": 10,
    "start_time": "2025-04-18T19:03:15.354Z"
   },
   {
    "duration": 28,
    "start_time": "2025-04-18T19:03:15.366Z"
   },
   {
    "duration": 13,
    "start_time": "2025-04-18T19:03:15.396Z"
   },
   {
    "duration": 7,
    "start_time": "2025-04-18T19:03:15.411Z"
   },
   {
    "duration": 4,
    "start_time": "2025-04-18T19:03:15.419Z"
   },
   {
    "duration": 35,
    "start_time": "2025-04-18T19:03:15.425Z"
   },
   {
    "duration": 235,
    "start_time": "2025-04-18T19:03:15.462Z"
   },
   {
    "duration": 10,
    "start_time": "2025-04-18T19:03:15.699Z"
   },
   {
    "duration": 11,
    "start_time": "2025-04-18T19:03:15.711Z"
   },
   {
    "duration": 5,
    "start_time": "2025-04-18T19:03:15.738Z"
   },
   {
    "duration": 24,
    "start_time": "2025-04-18T19:03:15.744Z"
   },
   {
    "duration": 4,
    "start_time": "2025-04-18T19:03:15.770Z"
   },
   {
    "duration": 5,
    "start_time": "2025-04-18T19:03:15.775Z"
   },
   {
    "duration": 97,
    "start_time": "2025-04-18T19:03:15.781Z"
   },
   {
    "duration": 202,
    "start_time": "2025-04-18T19:03:15.937Z"
   },
   {
    "duration": 7,
    "start_time": "2025-04-18T19:03:16.141Z"
   },
   {
    "duration": 5,
    "start_time": "2025-04-18T19:03:16.150Z"
   },
   {
    "duration": 187,
    "start_time": "2025-04-18T19:03:16.157Z"
   },
   {
    "duration": 194,
    "start_time": "2025-04-18T19:03:16.346Z"
   },
   {
    "duration": 752,
    "start_time": "2025-04-18T19:03:16.542Z"
   },
   {
    "duration": 964,
    "start_time": "2025-04-18T19:03:17.298Z"
   },
   {
    "duration": 17,
    "start_time": "2025-04-18T19:03:18.264Z"
   },
   {
    "duration": 20,
    "start_time": "2025-04-18T19:03:18.283Z"
   },
   {
    "duration": 35,
    "start_time": "2025-04-18T19:03:18.305Z"
   },
   {
    "duration": 18,
    "start_time": "2025-04-18T19:03:18.342Z"
   },
   {
    "duration": 7,
    "start_time": "2025-04-18T19:03:18.362Z"
   },
   {
    "duration": 10,
    "start_time": "2025-04-18T19:03:18.371Z"
   },
   {
    "duration": 6,
    "start_time": "2025-04-18T19:03:18.383Z"
   },
   {
    "duration": 10,
    "start_time": "2025-04-18T19:03:18.391Z"
   },
   {
    "duration": 17,
    "start_time": "2025-04-18T19:03:18.403Z"
   },
   {
    "duration": 19,
    "start_time": "2025-04-18T19:03:18.421Z"
   },
   {
    "duration": 19,
    "start_time": "2025-04-18T19:03:18.442Z"
   },
   {
    "duration": 32,
    "start_time": "2025-04-18T19:03:18.462Z"
   },
   {
    "duration": 9,
    "start_time": "2025-04-18T19:03:18.496Z"
   },
   {
    "duration": 4,
    "start_time": "2025-04-18T19:03:18.507Z"
   },
   {
    "duration": 5,
    "start_time": "2025-04-18T19:03:18.512Z"
   },
   {
    "duration": 14,
    "start_time": "2025-04-18T19:03:18.518Z"
   },
   {
    "duration": 4,
    "start_time": "2025-04-18T19:03:18.534Z"
   },
   {
    "duration": 5,
    "start_time": "2025-04-18T19:03:18.540Z"
   },
   {
    "duration": 6,
    "start_time": "2025-04-18T19:03:18.547Z"
   },
   {
    "duration": 80,
    "start_time": "2025-04-18T19:03:18.555Z"
   },
   {
    "duration": 4,
    "start_time": "2025-04-18T19:03:42.897Z"
   },
   {
    "duration": 77,
    "start_time": "2025-04-18T19:04:25.828Z"
   },
   {
    "duration": 99,
    "start_time": "2025-04-18T19:05:10.997Z"
   },
   {
    "duration": 102,
    "start_time": "2025-04-18T19:05:15.260Z"
   },
   {
    "duration": 166,
    "start_time": "2025-04-18T19:05:33.065Z"
   },
   {
    "duration": 1188,
    "start_time": "2025-04-18T19:05:51.952Z"
   },
   {
    "duration": 627,
    "start_time": "2025-04-18T19:07:37.558Z"
   },
   {
    "duration": 2205,
    "start_time": "2025-04-18T19:07:50.958Z"
   },
   {
    "duration": 1549,
    "start_time": "2025-04-18T19:08:24.875Z"
   },
   {
    "duration": 2541,
    "start_time": "2025-04-18T19:09:29.884Z"
   },
   {
    "duration": 2834,
    "start_time": "2025-04-18T19:09:32.427Z"
   },
   {
    "duration": 314,
    "start_time": "2025-04-18T19:09:35.263Z"
   },
   {
    "duration": 3,
    "start_time": "2025-04-18T19:09:35.579Z"
   },
   {
    "duration": 69,
    "start_time": "2025-04-18T19:09:35.584Z"
   },
   {
    "duration": 45,
    "start_time": "2025-04-18T19:09:35.655Z"
   },
   {
    "duration": 39,
    "start_time": "2025-04-18T19:09:35.702Z"
   },
   {
    "duration": 606,
    "start_time": "2025-04-18T19:09:35.742Z"
   },
   {
    "duration": 610,
    "start_time": "2025-04-18T19:09:36.349Z"
   },
   {
    "duration": 28,
    "start_time": "2025-04-18T19:09:36.961Z"
   },
   {
    "duration": 5,
    "start_time": "2025-04-18T19:09:36.991Z"
   },
   {
    "duration": 360,
    "start_time": "2025-04-18T19:09:36.997Z"
   },
   {
    "duration": 974,
    "start_time": "2025-04-18T19:09:37.359Z"
   },
   {
    "duration": 9,
    "start_time": "2025-04-18T19:09:38.338Z"
   },
   {
    "duration": 181,
    "start_time": "2025-04-18T19:09:38.349Z"
   },
   {
    "duration": 4,
    "start_time": "2025-04-18T19:09:38.531Z"
   },
   {
    "duration": 606,
    "start_time": "2025-04-18T19:09:38.537Z"
   },
   {
    "duration": 15,
    "start_time": "2025-04-18T19:09:39.145Z"
   },
   {
    "duration": 56,
    "start_time": "2025-04-18T19:09:39.162Z"
   },
   {
    "duration": 82,
    "start_time": "2025-04-18T19:09:39.220Z"
   },
   {
    "duration": 11,
    "start_time": "2025-04-18T19:09:39.303Z"
   },
   {
    "duration": 20,
    "start_time": "2025-04-18T19:09:39.316Z"
   },
   {
    "duration": 128,
    "start_time": "2025-04-18T19:09:39.337Z"
   },
   {
    "duration": 162,
    "start_time": "2025-04-18T19:09:39.466Z"
   },
   {
    "duration": 52,
    "start_time": "2025-04-18T19:09:39.630Z"
   },
   {
    "duration": 21,
    "start_time": "2025-04-18T19:09:39.684Z"
   },
   {
    "duration": 273,
    "start_time": "2025-04-18T19:09:39.707Z"
   },
   {
    "duration": 8,
    "start_time": "2025-04-18T19:09:39.982Z"
   },
   {
    "duration": 32,
    "start_time": "2025-04-18T19:09:39.991Z"
   },
   {
    "duration": 18,
    "start_time": "2025-04-18T19:09:40.025Z"
   },
   {
    "duration": 38,
    "start_time": "2025-04-18T19:09:40.045Z"
   },
   {
    "duration": 55,
    "start_time": "2025-04-18T19:09:40.085Z"
   },
   {
    "duration": 32,
    "start_time": "2025-04-18T19:09:40.142Z"
   },
   {
    "duration": 165,
    "start_time": "2025-04-18T19:09:40.176Z"
   },
   {
    "duration": 213,
    "start_time": "2025-04-18T19:09:40.343Z"
   },
   {
    "duration": 5,
    "start_time": "2025-04-18T19:09:40.558Z"
   },
   {
    "duration": 92,
    "start_time": "2025-04-18T19:09:40.564Z"
   },
   {
    "duration": 95,
    "start_time": "2025-04-18T19:09:40.657Z"
   },
   {
    "duration": 201,
    "start_time": "2025-04-18T19:09:40.754Z"
   },
   {
    "duration": 783,
    "start_time": "2025-04-18T19:09:40.957Z"
   },
   {
    "duration": 158,
    "start_time": "2025-04-18T19:09:41.744Z"
   },
   {
    "duration": 16,
    "start_time": "2025-04-18T19:09:41.904Z"
   },
   {
    "duration": 31,
    "start_time": "2025-04-18T19:09:41.922Z"
   },
   {
    "duration": 38,
    "start_time": "2025-04-18T19:09:41.955Z"
   },
   {
    "duration": 26,
    "start_time": "2025-04-18T19:09:41.995Z"
   },
   {
    "duration": 18,
    "start_time": "2025-04-18T19:09:42.022Z"
   },
   {
    "duration": 23,
    "start_time": "2025-04-18T19:09:42.042Z"
   },
   {
    "duration": 16,
    "start_time": "2025-04-18T19:09:42.067Z"
   },
   {
    "duration": 44,
    "start_time": "2025-04-18T19:09:42.085Z"
   },
   {
    "duration": 17,
    "start_time": "2025-04-18T19:09:42.131Z"
   },
   {
    "duration": 19,
    "start_time": "2025-04-18T19:09:42.150Z"
   },
   {
    "duration": 21,
    "start_time": "2025-04-18T19:09:42.171Z"
   },
   {
    "duration": 19,
    "start_time": "2025-04-18T19:09:42.194Z"
   },
   {
    "duration": 12,
    "start_time": "2025-04-18T19:09:42.215Z"
   },
   {
    "duration": 13,
    "start_time": "2025-04-18T19:09:42.229Z"
   },
   {
    "duration": 19,
    "start_time": "2025-04-18T19:09:42.243Z"
   },
   {
    "duration": 19,
    "start_time": "2025-04-18T19:09:42.263Z"
   },
   {
    "duration": 29,
    "start_time": "2025-04-18T19:09:42.284Z"
   },
   {
    "duration": 49,
    "start_time": "2025-04-18T19:09:42.315Z"
   },
   {
    "duration": 41,
    "start_time": "2025-04-18T19:09:42.366Z"
   },
   {
    "duration": 10,
    "start_time": "2025-04-18T19:09:42.409Z"
   },
   {
    "duration": 36,
    "start_time": "2025-04-18T19:09:42.420Z"
   },
   {
    "duration": 2414,
    "start_time": "2025-04-18T19:09:42.458Z"
   },
   {
    "duration": 50,
    "start_time": "2025-04-18T19:38:49.545Z"
   },
   {
    "duration": 1356,
    "start_time": "2025-04-18T19:39:05.032Z"
   },
   {
    "duration": 2114,
    "start_time": "2025-04-18T19:39:07.501Z"
   },
   {
    "duration": 333,
    "start_time": "2025-04-18T19:39:09.617Z"
   },
   {
    "duration": 3,
    "start_time": "2025-04-18T19:39:09.966Z"
   },
   {
    "duration": 57,
    "start_time": "2025-04-18T19:39:11.070Z"
   },
   {
    "duration": 54,
    "start_time": "2025-04-18T19:39:13.601Z"
   },
   {
    "duration": 34,
    "start_time": "2025-04-18T19:39:14.215Z"
   },
   {
    "duration": 640,
    "start_time": "2025-04-18T19:39:14.789Z"
   },
   {
    "duration": 575,
    "start_time": "2025-04-18T19:39:15.467Z"
   },
   {
    "duration": 31,
    "start_time": "2025-04-18T19:39:17.612Z"
   },
   {
    "duration": 5,
    "start_time": "2025-04-18T19:39:18.200Z"
   },
   {
    "duration": 150,
    "start_time": "2025-04-18T19:39:18.797Z"
   },
   {
    "duration": 1032,
    "start_time": "2025-04-18T19:39:20.976Z"
   },
   {
    "duration": 13,
    "start_time": "2025-04-18T19:39:22.010Z"
   },
   {
    "duration": 243,
    "start_time": "2025-04-18T19:39:23.471Z"
   },
   {
    "duration": 3,
    "start_time": "2025-04-18T19:39:24.200Z"
   },
   {
    "duration": 475,
    "start_time": "2025-04-18T19:39:24.861Z"
   },
   {
    "duration": 15,
    "start_time": "2025-04-18T19:39:28.366Z"
   },
   {
    "duration": 4,
    "start_time": "2025-04-18T19:39:29.836Z"
   },
   {
    "duration": 49,
    "start_time": "2025-04-18T19:39:31.811Z"
   },
   {
    "duration": 12,
    "start_time": "2025-04-18T19:39:32.194Z"
   },
   {
    "duration": 7,
    "start_time": "2025-04-18T19:39:32.392Z"
   },
   {
    "duration": 5,
    "start_time": "2025-04-18T19:39:32.601Z"
   },
   {
    "duration": 5,
    "start_time": "2025-04-18T19:39:32.794Z"
   },
   {
    "duration": 4,
    "start_time": "2025-04-18T19:39:33.016Z"
   },
   {
    "duration": 4,
    "start_time": "2025-04-18T19:39:33.534Z"
   },
   {
    "duration": 117,
    "start_time": "2025-04-18T19:39:33.977Z"
   },
   {
    "duration": 9,
    "start_time": "2025-04-18T19:39:35.870Z"
   },
   {
    "duration": 9,
    "start_time": "2025-04-18T19:39:38.205Z"
   },
   {
    "duration": 4,
    "start_time": "2025-04-18T19:39:38.786Z"
   },
   {
    "duration": 5,
    "start_time": "2025-04-18T19:39:39.319Z"
   },
   {
    "duration": 6,
    "start_time": "2025-04-18T19:39:39.893Z"
   },
   {
    "duration": 5,
    "start_time": "2025-04-18T19:39:40.365Z"
   },
   {
    "duration": 91,
    "start_time": "2025-04-18T19:39:40.932Z"
   },
   {
    "duration": 89,
    "start_time": "2025-04-18T19:39:41.500Z"
   },
   {
    "duration": 5,
    "start_time": "2025-04-18T19:39:44.144Z"
   },
   {
    "duration": 4,
    "start_time": "2025-04-18T19:39:44.850Z"
   },
   {
    "duration": 169,
    "start_time": "2025-04-18T19:39:45.494Z"
   },
   {
    "duration": 83,
    "start_time": "2025-04-18T19:39:46.056Z"
   },
   {
    "duration": 651,
    "start_time": "2025-04-18T19:39:50.914Z"
   },
   {
    "duration": 142,
    "start_time": "2025-04-18T19:39:51.574Z"
   },
   {
    "duration": 16,
    "start_time": "2025-04-18T19:40:06.007Z"
   },
   {
    "duration": 15,
    "start_time": "2025-04-18T19:40:07.471Z"
   },
   {
    "duration": 19,
    "start_time": "2025-04-18T19:40:09.271Z"
   },
   {
    "duration": 20,
    "start_time": "2025-04-18T19:40:10.442Z"
   },
   {
    "duration": 5,
    "start_time": "2025-04-18T19:40:11.676Z"
   },
   {
    "duration": 12,
    "start_time": "2025-04-18T19:40:19.762Z"
   },
   {
    "duration": 3,
    "start_time": "2025-04-18T19:40:20.494Z"
   },
   {
    "duration": 4,
    "start_time": "2025-04-18T19:40:21.803Z"
   },
   {
    "duration": 3,
    "start_time": "2025-04-18T19:40:22.641Z"
   },
   {
    "duration": 5,
    "start_time": "2025-04-18T19:40:23.309Z"
   },
   {
    "duration": 4,
    "start_time": "2025-04-18T19:40:24.582Z"
   },
   {
    "duration": 10,
    "start_time": "2025-04-18T19:41:30.885Z"
   },
   {
    "duration": 10,
    "start_time": "2025-04-18T19:41:31.716Z"
   },
   {
    "duration": 3,
    "start_time": "2025-04-18T19:41:32.375Z"
   },
   {
    "duration": 4,
    "start_time": "2025-04-18T19:41:33.029Z"
   },
   {
    "duration": 3,
    "start_time": "2025-04-18T19:41:33.737Z"
   },
   {
    "duration": 3,
    "start_time": "2025-04-18T19:41:34.448Z"
   },
   {
    "duration": 3,
    "start_time": "2025-04-18T19:41:35.133Z"
   },
   {
    "duration": 4,
    "start_time": "2025-04-18T19:41:36.451Z"
   },
   {
    "duration": 6,
    "start_time": "2025-04-18T19:41:38.212Z"
   },
   {
    "duration": 7,
    "start_time": "2025-04-18T19:42:01.095Z"
   },
   {
    "duration": 1196,
    "start_time": "2025-04-18T19:49:39.633Z"
   },
   {
    "duration": 2530,
    "start_time": "2025-04-18T19:49:40.831Z"
   },
   {
    "duration": 344,
    "start_time": "2025-04-18T19:49:43.363Z"
   },
   {
    "duration": 3,
    "start_time": "2025-04-18T19:49:43.710Z"
   },
   {
    "duration": 89,
    "start_time": "2025-04-18T19:49:43.714Z"
   },
   {
    "duration": 65,
    "start_time": "2025-04-18T19:49:43.805Z"
   },
   {
    "duration": 35,
    "start_time": "2025-04-18T19:49:43.871Z"
   },
   {
    "duration": 609,
    "start_time": "2025-04-18T19:49:43.908Z"
   },
   {
    "duration": 543,
    "start_time": "2025-04-18T19:49:44.519Z"
   },
   {
    "duration": 33,
    "start_time": "2025-04-18T19:49:45.066Z"
   },
   {
    "duration": 30,
    "start_time": "2025-04-18T19:49:45.101Z"
   },
   {
    "duration": 174,
    "start_time": "2025-04-18T19:49:45.133Z"
   },
   {
    "duration": 1160,
    "start_time": "2025-04-18T19:49:45.309Z"
   },
   {
    "duration": 14,
    "start_time": "2025-04-18T19:49:46.470Z"
   },
   {
    "duration": 277,
    "start_time": "2025-04-18T19:49:46.486Z"
   },
   {
    "duration": 4,
    "start_time": "2025-04-18T19:49:46.765Z"
   },
   {
    "duration": 470,
    "start_time": "2025-04-18T19:49:46.770Z"
   },
   {
    "duration": 23,
    "start_time": "2025-04-18T19:49:47.242Z"
   },
   {
    "duration": 30,
    "start_time": "2025-04-18T19:49:47.266Z"
   },
   {
    "duration": 127,
    "start_time": "2025-04-18T19:49:47.298Z"
   },
   {
    "duration": 10,
    "start_time": "2025-04-18T19:49:47.426Z"
   },
   {
    "duration": 60,
    "start_time": "2025-04-18T19:49:47.438Z"
   },
   {
    "duration": 70,
    "start_time": "2025-04-18T19:49:47.499Z"
   },
   {
    "duration": 5,
    "start_time": "2025-04-18T19:49:47.571Z"
   },
   {
    "duration": 3,
    "start_time": "2025-04-18T19:49:47.578Z"
   },
   {
    "duration": 6,
    "start_time": "2025-04-18T19:49:47.583Z"
   },
   {
    "duration": 118,
    "start_time": "2025-04-18T19:49:47.592Z"
   },
   {
    "duration": 9,
    "start_time": "2025-04-18T19:49:47.715Z"
   },
   {
    "duration": 46,
    "start_time": "2025-04-18T19:49:47.726Z"
   },
   {
    "duration": 4,
    "start_time": "2025-04-18T19:49:47.774Z"
   },
   {
    "duration": 7,
    "start_time": "2025-04-18T19:49:47.779Z"
   },
   {
    "duration": 7,
    "start_time": "2025-04-18T19:49:47.788Z"
   },
   {
    "duration": 16,
    "start_time": "2025-04-18T19:49:47.797Z"
   },
   {
    "duration": 99,
    "start_time": "2025-04-18T19:49:47.815Z"
   },
   {
    "duration": 104,
    "start_time": "2025-04-18T19:49:47.916Z"
   },
   {
    "duration": 4,
    "start_time": "2025-04-18T19:49:48.022Z"
   },
   {
    "duration": 15,
    "start_time": "2025-04-18T19:49:48.028Z"
   },
   {
    "duration": 173,
    "start_time": "2025-04-18T19:49:48.045Z"
   },
   {
    "duration": 94,
    "start_time": "2025-04-18T19:49:48.220Z"
   },
   {
    "duration": 578,
    "start_time": "2025-04-18T19:49:48.316Z"
   },
   {
    "duration": 183,
    "start_time": "2025-04-18T19:49:48.896Z"
   },
   {
    "duration": 16,
    "start_time": "2025-04-18T19:49:49.080Z"
   },
   {
    "duration": 22,
    "start_time": "2025-04-18T19:49:49.097Z"
   },
   {
    "duration": 18,
    "start_time": "2025-04-18T19:49:49.121Z"
   },
   {
    "duration": 37,
    "start_time": "2025-04-18T19:49:49.141Z"
   },
   {
    "duration": 5,
    "start_time": "2025-04-18T19:49:49.179Z"
   },
   {
    "duration": 12,
    "start_time": "2025-04-18T19:49:49.186Z"
   },
   {
    "duration": 2,
    "start_time": "2025-04-18T19:49:49.200Z"
   },
   {
    "duration": 6,
    "start_time": "2025-04-18T19:49:49.204Z"
   },
   {
    "duration": 3,
    "start_time": "2025-04-18T19:49:49.211Z"
   },
   {
    "duration": 71,
    "start_time": "2025-04-18T19:49:49.215Z"
   },
   {
    "duration": 19,
    "start_time": "2025-04-18T19:49:49.288Z"
   },
   {
    "duration": 10,
    "start_time": "2025-04-18T19:49:49.309Z"
   },
   {
    "duration": 10,
    "start_time": "2025-04-18T19:49:49.321Z"
   },
   {
    "duration": 2,
    "start_time": "2025-04-18T19:49:49.333Z"
   },
   {
    "duration": 3,
    "start_time": "2025-04-18T19:49:49.337Z"
   },
   {
    "duration": 4,
    "start_time": "2025-04-18T19:49:49.342Z"
   },
   {
    "duration": 4,
    "start_time": "2025-04-18T19:49:49.348Z"
   },
   {
    "duration": 4,
    "start_time": "2025-04-18T19:49:49.353Z"
   },
   {
    "duration": 5,
    "start_time": "2025-04-18T19:49:49.358Z"
   },
   {
    "duration": 7,
    "start_time": "2025-04-18T19:49:49.365Z"
   },
   {
    "duration": 4,
    "start_time": "2025-04-18T19:49:49.376Z"
   },
   {
    "duration": 1783,
    "start_time": "2025-04-18T19:49:49.382Z"
   },
   {
    "duration": 319,
    "start_time": "2025-04-18T19:49:51.168Z"
   },
   {
    "duration": 3,
    "start_time": "2025-04-18T19:49:51.489Z"
   },
   {
    "duration": 127,
    "start_time": "2025-04-18T19:49:51.493Z"
   },
   {
    "duration": 52,
    "start_time": "2025-04-18T19:49:51.676Z"
   },
   {
    "duration": 41,
    "start_time": "2025-04-18T19:49:51.872Z"
   },
   {
    "duration": 562,
    "start_time": "2025-04-18T19:49:52.056Z"
   },
   {
    "duration": 540,
    "start_time": "2025-04-18T19:49:52.620Z"
   },
   {
    "duration": 31,
    "start_time": "2025-04-18T19:49:58.831Z"
   },
   {
    "duration": 5,
    "start_time": "2025-04-18T19:49:59.320Z"
   },
   {
    "duration": 149,
    "start_time": "2025-04-18T19:49:59.776Z"
   },
   {
    "duration": 1098,
    "start_time": "2025-04-18T19:50:04.167Z"
   },
   {
    "duration": 12,
    "start_time": "2025-04-18T19:50:06.149Z"
   },
   {
    "duration": 259,
    "start_time": "2025-04-18T19:50:06.869Z"
   },
   {
    "duration": 4,
    "start_time": "2025-04-18T19:50:07.130Z"
   },
   {
    "duration": 483,
    "start_time": "2025-04-18T19:50:07.315Z"
   },
   {
    "duration": 14,
    "start_time": "2025-04-18T19:50:10.529Z"
   },
   {
    "duration": 4,
    "start_time": "2025-04-18T19:50:12.414Z"
   },
   {
    "duration": 45,
    "start_time": "2025-04-18T19:50:14.675Z"
   },
   {
    "duration": 10,
    "start_time": "2025-04-18T19:50:14.851Z"
   },
   {
    "duration": 7,
    "start_time": "2025-04-18T19:50:15.035Z"
   },
   {
    "duration": 4,
    "start_time": "2025-04-18T19:50:15.212Z"
   },
   {
    "duration": 4,
    "start_time": "2025-04-18T19:50:15.403Z"
   },
   {
    "duration": 3,
    "start_time": "2025-04-18T19:50:15.622Z"
   },
   {
    "duration": 4,
    "start_time": "2025-04-18T19:50:15.829Z"
   },
   {
    "duration": 108,
    "start_time": "2025-04-18T19:50:16.032Z"
   },
   {
    "duration": 8,
    "start_time": "2025-04-18T19:50:19.895Z"
   },
   {
    "duration": 8,
    "start_time": "2025-04-18T19:50:20.672Z"
   },
   {
    "duration": 4,
    "start_time": "2025-04-18T19:50:20.928Z"
   },
   {
    "duration": 4,
    "start_time": "2025-04-18T19:50:21.117Z"
   },
   {
    "duration": 4,
    "start_time": "2025-04-18T19:50:21.318Z"
   },
   {
    "duration": 5,
    "start_time": "2025-04-18T19:50:21.516Z"
   },
   {
    "duration": 87,
    "start_time": "2025-04-18T19:50:21.698Z"
   },
   {
    "duration": 88,
    "start_time": "2025-04-18T19:50:21.888Z"
   },
   {
    "duration": 4,
    "start_time": "2025-04-18T19:50:22.772Z"
   },
   {
    "duration": 4,
    "start_time": "2025-04-18T19:50:23.220Z"
   },
   {
    "duration": 163,
    "start_time": "2025-04-18T19:50:23.399Z"
   },
   {
    "duration": 76,
    "start_time": "2025-04-18T19:50:23.595Z"
   },
   {
    "duration": 428,
    "start_time": "2025-04-18T19:50:25.653Z"
   },
   {
    "duration": 151,
    "start_time": "2025-04-18T19:50:26.083Z"
   },
   {
    "duration": 18,
    "start_time": "2025-04-18T19:50:27.234Z"
   },
   {
    "duration": 17,
    "start_time": "2025-04-18T19:50:27.801Z"
   },
   {
    "duration": 20,
    "start_time": "2025-04-18T19:50:28.334Z"
   },
   {
    "duration": 20,
    "start_time": "2025-04-18T19:50:28.527Z"
   },
   {
    "duration": 5,
    "start_time": "2025-04-18T19:50:28.755Z"
   },
   {
    "duration": 11,
    "start_time": "2025-04-18T19:50:30.971Z"
   },
   {
    "duration": 3,
    "start_time": "2025-04-18T19:50:31.531Z"
   },
   {
    "duration": 4,
    "start_time": "2025-04-18T19:50:32.097Z"
   },
   {
    "duration": 2,
    "start_time": "2025-04-18T19:50:32.611Z"
   },
   {
    "duration": 4,
    "start_time": "2025-04-18T19:50:33.639Z"
   },
   {
    "duration": 4,
    "start_time": "2025-04-18T19:50:33.831Z"
   },
   {
    "duration": 9,
    "start_time": "2025-04-18T19:50:37.793Z"
   },
   {
    "duration": 11,
    "start_time": "2025-04-18T19:50:37.985Z"
   },
   {
    "duration": 3,
    "start_time": "2025-04-18T19:50:38.260Z"
   },
   {
    "duration": 3,
    "start_time": "2025-04-18T19:50:38.492Z"
   },
   {
    "duration": 3,
    "start_time": "2025-04-18T19:50:38.860Z"
   },
   {
    "duration": 3,
    "start_time": "2025-04-18T19:50:39.067Z"
   },
   {
    "duration": 3,
    "start_time": "2025-04-18T19:50:39.291Z"
   },
   {
    "duration": 3,
    "start_time": "2025-04-18T19:50:40.094Z"
   },
   {
    "duration": 6,
    "start_time": "2025-04-18T19:50:42.052Z"
   },
   {
    "duration": 1522,
    "start_time": "2025-04-19T08:47:37.549Z"
   },
   {
    "duration": 1716,
    "start_time": "2025-04-19T08:47:39.073Z"
   },
   {
    "duration": 302,
    "start_time": "2025-04-19T08:47:40.791Z"
   },
   {
    "duration": 2,
    "start_time": "2025-04-19T08:47:41.096Z"
   },
   {
    "duration": 49,
    "start_time": "2025-04-19T08:47:41.100Z"
   },
   {
    "duration": 77,
    "start_time": "2025-04-19T08:47:41.150Z"
   },
   {
    "duration": 36,
    "start_time": "2025-04-19T08:47:41.228Z"
   },
   {
    "duration": 620,
    "start_time": "2025-04-19T08:47:41.266Z"
   },
   {
    "duration": 556,
    "start_time": "2025-04-19T08:47:41.888Z"
   },
   {
    "duration": 40,
    "start_time": "2025-04-19T08:47:42.446Z"
   },
   {
    "duration": 5,
    "start_time": "2025-04-19T08:47:42.487Z"
   },
   {
    "duration": 178,
    "start_time": "2025-04-19T08:47:42.494Z"
   },
   {
    "duration": 1019,
    "start_time": "2025-04-19T08:47:42.674Z"
   },
   {
    "duration": 13,
    "start_time": "2025-04-19T08:47:43.694Z"
   },
   {
    "duration": 261,
    "start_time": "2025-04-19T08:47:43.709Z"
   },
   {
    "duration": 5,
    "start_time": "2025-04-19T08:47:43.973Z"
   },
   {
    "duration": 524,
    "start_time": "2025-04-19T08:47:43.980Z"
   },
   {
    "duration": 17,
    "start_time": "2025-04-19T08:47:44.506Z"
   },
   {
    "duration": 4,
    "start_time": "2025-04-19T08:47:44.525Z"
   },
   {
    "duration": 97,
    "start_time": "2025-04-19T08:47:44.530Z"
   },
   {
    "duration": 11,
    "start_time": "2025-04-19T08:47:44.629Z"
   },
   {
    "duration": 6,
    "start_time": "2025-04-19T08:47:44.642Z"
   },
   {
    "duration": 11,
    "start_time": "2025-04-19T08:47:44.649Z"
   },
   {
    "duration": 8,
    "start_time": "2025-04-19T08:47:44.662Z"
   },
   {
    "duration": 10,
    "start_time": "2025-04-19T08:47:44.672Z"
   },
   {
    "duration": 20,
    "start_time": "2025-04-19T08:47:44.684Z"
   },
   {
    "duration": 110,
    "start_time": "2025-04-19T08:47:44.706Z"
   },
   {
    "duration": 8,
    "start_time": "2025-04-19T08:47:44.820Z"
   },
   {
    "duration": 15,
    "start_time": "2025-04-19T08:47:44.830Z"
   },
   {
    "duration": 17,
    "start_time": "2025-04-19T08:47:44.846Z"
   },
   {
    "duration": 17,
    "start_time": "2025-04-19T08:47:44.865Z"
   },
   {
    "duration": 4,
    "start_time": "2025-04-19T08:47:44.884Z"
   },
   {
    "duration": 45,
    "start_time": "2025-04-19T08:47:44.890Z"
   },
   {
    "duration": 122,
    "start_time": "2025-04-19T08:47:44.937Z"
   },
   {
    "duration": 107,
    "start_time": "2025-04-19T08:47:45.061Z"
   },
   {
    "duration": 5,
    "start_time": "2025-04-19T08:47:45.170Z"
   },
   {
    "duration": 29,
    "start_time": "2025-04-19T08:47:45.176Z"
   },
   {
    "duration": 180,
    "start_time": "2025-04-19T08:47:45.206Z"
   },
   {
    "duration": 96,
    "start_time": "2025-04-19T08:47:45.388Z"
   },
   {
    "duration": 1025,
    "start_time": "2025-04-19T08:47:45.485Z"
   },
   {
    "duration": 145,
    "start_time": "2025-04-19T08:47:46.512Z"
   },
   {
    "duration": 16,
    "start_time": "2025-04-19T08:47:46.658Z"
   },
   {
    "duration": 14,
    "start_time": "2025-04-19T08:47:46.676Z"
   },
   {
    "duration": 19,
    "start_time": "2025-04-19T08:47:46.692Z"
   },
   {
    "duration": 19,
    "start_time": "2025-04-19T08:47:46.712Z"
   },
   {
    "duration": 6,
    "start_time": "2025-04-19T08:47:46.761Z"
   },
   {
    "duration": 24,
    "start_time": "2025-04-19T08:47:46.769Z"
   },
   {
    "duration": 5,
    "start_time": "2025-04-19T08:47:46.794Z"
   },
   {
    "duration": 5,
    "start_time": "2025-04-19T08:47:46.800Z"
   },
   {
    "duration": 4,
    "start_time": "2025-04-19T08:47:46.806Z"
   },
   {
    "duration": 23,
    "start_time": "2025-04-19T08:47:46.811Z"
   },
   {
    "duration": 16,
    "start_time": "2025-04-19T08:47:46.835Z"
   },
   {
    "duration": 10,
    "start_time": "2025-04-19T08:47:46.852Z"
   },
   {
    "duration": 10,
    "start_time": "2025-04-19T08:47:46.863Z"
   },
   {
    "duration": 6,
    "start_time": "2025-04-19T08:47:46.874Z"
   },
   {
    "duration": 4,
    "start_time": "2025-04-19T08:47:46.881Z"
   },
   {
    "duration": 4,
    "start_time": "2025-04-19T08:47:46.886Z"
   },
   {
    "duration": 86,
    "start_time": "2025-04-19T08:47:46.892Z"
   },
   {
    "duration": 21,
    "start_time": "2025-04-19T08:47:46.979Z"
   },
   {
    "duration": 8,
    "start_time": "2025-04-19T08:47:47.002Z"
   },
   {
    "duration": 10,
    "start_time": "2025-04-19T08:47:47.011Z"
   },
   {
    "duration": 1233,
    "start_time": "2025-06-03T14:41:45.298Z"
   },
   {
    "duration": 3132,
    "start_time": "2025-06-03T14:41:46.533Z"
   },
   {
    "duration": 348,
    "start_time": "2025-06-03T14:41:49.667Z"
   },
   {
    "duration": 4,
    "start_time": "2025-06-03T14:41:50.017Z"
   },
   {
    "duration": 96,
    "start_time": "2025-06-03T14:41:50.022Z"
   },
   {
    "duration": 59,
    "start_time": "2025-06-03T14:41:50.119Z"
   },
   {
    "duration": 36,
    "start_time": "2025-06-03T14:41:50.179Z"
   },
   {
    "duration": 613,
    "start_time": "2025-06-03T14:41:50.217Z"
   },
   {
    "duration": 580,
    "start_time": "2025-06-03T14:41:50.831Z"
   },
   {
    "duration": 44,
    "start_time": "2025-06-03T14:41:51.414Z"
   },
   {
    "duration": 18,
    "start_time": "2025-06-03T14:41:51.459Z"
   },
   {
    "duration": 162,
    "start_time": "2025-06-03T14:41:51.478Z"
   },
   {
    "duration": 1124,
    "start_time": "2025-06-03T14:41:51.642Z"
   },
   {
    "duration": 13,
    "start_time": "2025-06-03T14:41:52.768Z"
   },
   {
    "duration": 335,
    "start_time": "2025-06-03T14:41:52.783Z"
   },
   {
    "duration": 4,
    "start_time": "2025-06-03T14:41:53.119Z"
   },
   {
    "duration": 533,
    "start_time": "2025-06-03T14:41:53.125Z"
   },
   {
    "duration": 18,
    "start_time": "2025-06-03T14:41:53.659Z"
   },
   {
    "duration": 5,
    "start_time": "2025-06-03T14:41:53.679Z"
   },
   {
    "duration": 104,
    "start_time": "2025-06-03T14:41:53.686Z"
   },
   {
    "duration": 10,
    "start_time": "2025-06-03T14:41:53.792Z"
   },
   {
    "duration": 17,
    "start_time": "2025-06-03T14:41:53.803Z"
   },
   {
    "duration": 9,
    "start_time": "2025-06-03T14:41:53.821Z"
   },
   {
    "duration": 4,
    "start_time": "2025-06-03T14:41:53.832Z"
   },
   {
    "duration": 6,
    "start_time": "2025-06-03T14:41:53.839Z"
   },
   {
    "duration": 6,
    "start_time": "2025-06-03T14:41:53.847Z"
   },
   {
    "duration": 132,
    "start_time": "2025-06-03T14:41:53.855Z"
   },
   {
    "duration": 8,
    "start_time": "2025-06-03T14:41:53.991Z"
   },
   {
    "duration": 126,
    "start_time": "2025-06-03T14:41:54.001Z"
   },
   {
    "duration": 5,
    "start_time": "2025-06-03T14:41:54.129Z"
   },
   {
    "duration": 24,
    "start_time": "2025-06-03T14:41:54.136Z"
   },
   {
    "duration": 13,
    "start_time": "2025-06-03T14:41:54.163Z"
   },
   {
    "duration": 7,
    "start_time": "2025-06-03T14:41:54.178Z"
   },
   {
    "duration": 96,
    "start_time": "2025-06-03T14:41:54.186Z"
   },
   {
    "duration": 107,
    "start_time": "2025-06-03T14:41:54.284Z"
   },
   {
    "duration": 6,
    "start_time": "2025-06-03T14:41:54.394Z"
   },
   {
    "duration": 12,
    "start_time": "2025-06-03T14:41:54.402Z"
   },
   {
    "duration": 184,
    "start_time": "2025-06-03T14:41:54.416Z"
   },
   {
    "duration": 125,
    "start_time": "2025-06-03T14:41:54.601Z"
   },
   {
    "duration": 725,
    "start_time": "2025-06-03T14:41:54.728Z"
   },
   {
    "duration": 157,
    "start_time": "2025-06-03T14:41:55.455Z"
   },
   {
    "duration": 24,
    "start_time": "2025-06-03T14:41:55.614Z"
   },
   {
    "duration": 17,
    "start_time": "2025-06-03T14:41:55.639Z"
   },
   {
    "duration": 21,
    "start_time": "2025-06-03T14:41:55.658Z"
   },
   {
    "duration": 22,
    "start_time": "2025-06-03T14:41:55.681Z"
   },
   {
    "duration": 35,
    "start_time": "2025-06-03T14:41:55.705Z"
   },
   {
    "duration": 37,
    "start_time": "2025-06-03T14:41:55.742Z"
   },
   {
    "duration": 3,
    "start_time": "2025-06-03T14:41:55.781Z"
   },
   {
    "duration": 7,
    "start_time": "2025-06-03T14:41:55.785Z"
   },
   {
    "duration": 23,
    "start_time": "2025-06-03T14:41:55.794Z"
   },
   {
    "duration": 39,
    "start_time": "2025-06-03T14:41:55.819Z"
   },
   {
    "duration": 23,
    "start_time": "2025-06-03T14:41:55.860Z"
   },
   {
    "duration": 22,
    "start_time": "2025-06-03T14:41:55.884Z"
   },
   {
    "duration": 10,
    "start_time": "2025-06-03T14:41:55.909Z"
   },
   {
    "duration": 25,
    "start_time": "2025-06-03T14:41:55.921Z"
   },
   {
    "duration": 69,
    "start_time": "2025-06-03T14:41:55.948Z"
   },
   {
    "duration": 70,
    "start_time": "2025-06-03T14:41:56.019Z"
   },
   {
    "duration": 14,
    "start_time": "2025-06-03T14:41:56.091Z"
   },
   {
    "duration": 4,
    "start_time": "2025-06-03T14:41:56.107Z"
   },
   {
    "duration": 29,
    "start_time": "2025-06-03T14:41:56.112Z"
   },
   {
    "duration": 15,
    "start_time": "2025-06-03T14:41:56.143Z"
   },
   {
    "duration": 9,
    "start_time": "2025-06-03T14:41:56.160Z"
   },
   {
    "duration": 1698,
    "start_time": "2025-06-03T14:41:56.170Z"
   },
   {
    "duration": 324,
    "start_time": "2025-06-03T14:41:57.869Z"
   },
   {
    "duration": 3,
    "start_time": "2025-06-03T14:41:59.163Z"
   },
   {
    "duration": 46,
    "start_time": "2025-06-03T14:41:59.860Z"
   },
   {
    "duration": 55,
    "start_time": "2025-06-03T14:42:01.770Z"
   },
   {
    "duration": 49,
    "start_time": "2025-06-03T14:42:04.109Z"
   },
   {
    "duration": 603,
    "start_time": "2025-06-03T14:42:04.280Z"
   },
   {
    "duration": 587,
    "start_time": "2025-06-03T14:42:04.885Z"
   },
   {
    "duration": 32,
    "start_time": "2025-06-03T14:42:05.475Z"
   },
   {
    "duration": 5,
    "start_time": "2025-06-03T14:42:05.568Z"
   },
   {
    "duration": 160,
    "start_time": "2025-06-03T14:42:06.023Z"
   },
   {
    "duration": 1081,
    "start_time": "2025-06-03T14:42:07.144Z"
   },
   {
    "duration": 18,
    "start_time": "2025-06-03T14:42:08.228Z"
   },
   {
    "duration": 283,
    "start_time": "2025-06-03T14:42:08.248Z"
   },
   {
    "duration": 5,
    "start_time": "2025-06-03T14:42:08.534Z"
   },
   {
    "duration": 490,
    "start_time": "2025-06-03T14:42:09.116Z"
   },
   {
    "duration": 17,
    "start_time": "2025-06-03T14:42:11.827Z"
   },
   {
    "duration": 5,
    "start_time": "2025-06-03T14:42:13.022Z"
   },
   {
    "duration": 86,
    "start_time": "2025-06-03T14:42:14.689Z"
   },
   {
    "duration": 12,
    "start_time": "2025-06-03T14:42:15.209Z"
   },
   {
    "duration": 9,
    "start_time": "2025-06-03T14:42:15.688Z"
   },
   {
    "duration": 4,
    "start_time": "2025-06-03T14:42:16.168Z"
   },
   {
    "duration": 6,
    "start_time": "2025-06-03T14:42:16.617Z"
   },
   {
    "duration": 3,
    "start_time": "2025-06-03T14:42:17.098Z"
   },
   {
    "duration": 4,
    "start_time": "2025-06-03T14:42:17.531Z"
   },
   {
    "duration": 117,
    "start_time": "2025-06-03T14:42:18.026Z"
   },
   {
    "duration": 10,
    "start_time": "2025-06-03T14:42:19.448Z"
   },
   {
    "duration": 9,
    "start_time": "2025-06-03T14:42:21.109Z"
   },
   {
    "duration": 5,
    "start_time": "2025-06-03T14:42:21.647Z"
   },
   {
    "duration": 5,
    "start_time": "2025-06-03T14:42:22.159Z"
   },
   {
    "duration": 4,
    "start_time": "2025-06-03T14:42:22.641Z"
   },
   {
    "duration": 5,
    "start_time": "2025-06-03T14:42:23.134Z"
   },
   {
    "duration": 108,
    "start_time": "2025-06-03T14:42:23.630Z"
   },
   {
    "duration": 106,
    "start_time": "2025-06-03T14:42:24.185Z"
   },
   {
    "duration": 5,
    "start_time": "2025-06-03T14:42:25.625Z"
   },
   {
    "duration": 4,
    "start_time": "2025-06-03T14:42:26.075Z"
   },
   {
    "duration": 169,
    "start_time": "2025-06-03T14:42:26.523Z"
   },
   {
    "duration": 88,
    "start_time": "2025-06-03T14:42:26.971Z"
   },
   {
    "duration": 510,
    "start_time": "2025-06-03T14:42:33.861Z"
   },
   {
    "duration": 156,
    "start_time": "2025-06-03T14:42:34.374Z"
   },
   {
    "duration": 27,
    "start_time": "2025-06-03T14:42:34.676Z"
   },
   {
    "duration": 18,
    "start_time": "2025-06-03T14:42:34.875Z"
   },
   {
    "duration": 19,
    "start_time": "2025-06-03T14:42:35.104Z"
   },
   {
    "duration": 21,
    "start_time": "2025-06-03T14:42:35.289Z"
   },
   {
    "duration": 5,
    "start_time": "2025-06-03T14:42:35.491Z"
   },
   {
    "duration": 11,
    "start_time": "2025-06-03T14:42:37.121Z"
   },
   {
    "duration": 3,
    "start_time": "2025-06-03T14:42:37.661Z"
   },
   {
    "duration": 5,
    "start_time": "2025-06-03T14:42:38.155Z"
   },
   {
    "duration": 5,
    "start_time": "2025-06-03T14:42:38.541Z"
   },
   {
    "duration": 5,
    "start_time": "2025-06-03T14:42:39.006Z"
   },
   {
    "duration": 6,
    "start_time": "2025-06-03T14:42:39.503Z"
   },
   {
    "duration": 19,
    "start_time": "2025-06-03T14:42:42.061Z"
   },
   {
    "duration": 18,
    "start_time": "2025-06-03T14:42:42.586Z"
   },
   {
    "duration": 3,
    "start_time": "2025-06-03T14:42:43.053Z"
   },
   {
    "duration": 3,
    "start_time": "2025-06-03T14:42:43.239Z"
   },
   {
    "duration": 4,
    "start_time": "2025-06-03T14:42:43.419Z"
   },
   {
    "duration": 3,
    "start_time": "2025-06-03T14:42:43.603Z"
   },
   {
    "duration": 4,
    "start_time": "2025-06-03T14:42:43.797Z"
   },
   {
    "duration": 4,
    "start_time": "2025-06-03T14:42:43.995Z"
   },
   {
    "duration": 5,
    "start_time": "2025-06-03T14:42:44.223Z"
   }
  ],
  "colab": {
   "provenance": []
  },
  "kernelspec": {
   "display_name": "Python 3 (ipykernel)",
   "language": "python",
   "name": "python3"
  },
  "language_info": {
   "codemirror_mode": {
    "name": "ipython",
    "version": 3
   },
   "file_extension": ".py",
   "mimetype": "text/x-python",
   "name": "python",
   "nbconvert_exporter": "python",
   "pygments_lexer": "ipython3",
   "version": "3.9.5"
  },
  "toc": {
   "base_numbering": 1,
   "nav_menu": {},
   "number_sections": true,
   "sideBar": true,
   "skip_h1_title": true,
   "title_cell": "Table of Contents",
   "title_sidebar": "Contents",
   "toc_cell": false,
   "toc_position": {},
   "toc_section_display": true,
   "toc_window_display": true
  }
 },
 "nbformat": 4,
 "nbformat_minor": 1
}
