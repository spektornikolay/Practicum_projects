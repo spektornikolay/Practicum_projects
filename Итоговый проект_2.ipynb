{
 "cells": [
  {
   "cell_type": "markdown",
   "metadata": {},
   "source": [
    "<div style=\"border:solid Chocolate 2px; padding: 40px\">\n",
    "\n",
    "<b>Привет!</b>\n",
    "\n",
    "Меня зовут Дмитрий Михаленко, я буду ревьюером твоего проекта. Если ты не против, то предлагаю построить наше общение на \"ты\" ;) Если удобнее на \"вы\", то нет проблем, только скажи об этом. \n",
    "\n",
    "Ниже в работе ты найдешь мои комментарии - **пожалуйста, не перемещай, не изменяй и не удаляй их**.\n",
    "    \n",
    "Для наглядности я буду использовать цветовую разметку:\n",
    "<font color='green'>зеленого</font>, <font color='gold'>желтого</font> и <font color='red'>красного</font> цветов. Сейчас объясню, что они значат:\n",
    "\n",
    "<br/>\n",
    "\n",
    "<div class=\"alert alert-success\">\n",
    "<h2> Комментарий ревьюера <a class=\"tocSkip\"> </h2>\n",
    "\n",
    "<b>Все супер!👍:</b> Решение на этом шаге является полностью правильным.\n",
    "</div>\n",
    "\n",
    "<br/>\n",
    "\n",
    "<div class=\"alert alert-warning\">\n",
    "    <h2> Комментарий ревьюера <a class=\"tocSkip\"> </h2>\n",
    "    \n",
    "<b>Небольшие замечания и рекомендации💡:</b> Решение на этом шаге может стать еще лучше, если внести небольшие коррективы.\n",
    "Но настаивать я не буду.\n",
    "</div>\n",
    "\n",
    "\n",
    "<br/>\n",
    "<div class=\"alert alert-block alert-danger\">\n",
    "<h2> Комментарий ревьюера <a class=\"tocSkip\"></h2>\n",
    "\n",
    "    \n",
    "<b>На доработку🤔:</b>\n",
    "Для правильного решения задачи на этом шаге необходимо внести правки. Напоминаю, что проект не может быть принят, без их отработки.\n",
    "</div>\n",
    "\n",
    "Для продуктивной работы прошу: **если ты что-то меняешь в проекте или отвечаешь на мои комментарии — пиши об этом**\n",
    "Мне будет легче отследить изменения, если ты тоже выделишь свои комментарии:\n",
    "    \n",
    "<div class=\"alert alert-info\"> <b>Комментарий студента:</b> Например, вот так.</div>\n",
    "\n",
    "Всё это поможет выполнить повторную проверку твоего проекта оперативнее. \n",
    "        \n",
    "Увидев у тебя ошибку, в первый раз я лишь укажу на ее наличие и дам тебе возможность самому найти и исправить ее. На реальной работе твой начальник будет поступать так же, а я пытаюсь подготовить тебя именно к работе аналитиком. Но если ты пока не справишься с такой задачей - при следующей проверке я дам более точную подсказку."
   ]
  },
  {
   "cell_type": "markdown",
   "metadata": {
    "id": "4mJbK1knrJgz"
   },
   "source": [
    "# Проект: Исследование стартапов"
   ]
  },
  {
   "cell_type": "markdown",
   "metadata": {
    "id": "P6j0r3worJg0"
   },
   "source": [
    "## Введение"
   ]
  },
  {
   "cell_type": "markdown",
   "metadata": {
    "id": "8lQtbsIUyFG6"
   },
   "source": [
    "Поле для вашего введения: описания контекста и цели проекта целом. Чтобы изменить содержимое ячейки, дважды нажмите на неё (или нажмите «Ввод»).\n",
    "\n",
    "По ходу проекта нужно изучить финансовые данные разных компаний за разные года, чтобы дать заказчику понимание, как войти на инвестиционный рынок с прицелом на покупку, развитие и последующую перепродажу перспективных стартапов.\n",
    "\n",
    "В ходе проекта нужно выполнить следующие задачи:\n",
    "\n",
    "* 1) по каким столбцам можно объединять данные из разных таблиц;\n",
    "* 2) можно ли доверять данным о сотрудниках стартапов и их образовании;\n",
    "* 3) что значат покупки за 0 или за 1 доллар;\n",
    "* 4) какая цена в зависимости от категории стартапов и количества раундов финансирования перед его покупкой;\n",
    "* 5) как рассчитать и отобразить численные показатели и динамику.\n",
    "\n",
    "\n",
    "В выводе желательно выявить показатели и признаки, которые указывают на повышенную вероятность успешной сделки по покупке компании."
   ]
  },
  {
   "cell_type": "markdown",
   "metadata": {},
   "source": [
    "<div class=\"alert alert-warning\">\n",
    "    <h2> Комментарий ревьюера v1 <a class=\"tocSkip\"> </h2>\n",
    "    \n",
    "<b>Небольшие замечания и рекомендации💡:</b>   Отличное введение в проект! Есть цель и задачи работы \n",
    "    \n",
    "Вижу ты хотел сделать список с данными, если добавить \"* \"  перед каждой строкой это получится\n",
    "        \n",
    "Оформление проекта не менее важная часть, чем сами рассчеты и результаты. Оно создает первое впечатление о работе и твоих профессиональных качествах. В [статье Markdown](https://translated.turbopages.org/proxy_u/en-ru.ru.a8cd1f74-67a87b09-f87fcc2e-74722d776562/https/www.geeksforgeeks.org/markdown-cell-in-jupyter-notebook/)"
   ]
  },
  {
   "cell_type": "markdown",
   "metadata": {},
   "source": [
    "<div class=\"alert alert-success\">\n",
    "<h2> Комментарий ревьюера v2 <a class=\"tocSkip\"> </h2>\n",
    "\n",
    "<b>Все супер!👍:</b> Рад был помочь"
   ]
  },
  {
   "cell_type": "markdown",
   "metadata": {
    "id": "xqr6uttCrJg0"
   },
   "source": [
    "\n",
    "## Шаг 1. Знакомство с данными: загрузка и первичная предобработка\n",
    "\n",
    "Названия файлов:\n",
    "* acquisition.csv\n",
    "* company_and_rounds.csv\n",
    "* degrees.csv\n",
    "* education.csv\n",
    "* fund.csv\n",
    "* investment.csv\n",
    "* people.csv\n",
    "\n",
    "Они находятся в папке datasets, если вы выполняете работу на платформе. В случае, если вы делаете работу локально, доступ к файлам в папке можно получить по адресу `https://code.s3.yandex.net/datasets/` + имя файла.\n",
    "\n",
    "### 1.1. Вывод общей информации, исправление названия столбцов"
   ]
  },
  {
   "cell_type": "markdown",
   "metadata": {},
   "source": [
    "\n",
    "* Загрузите все данные по проекту."
   ]
  },
  {
   "cell_type": "markdown",
   "metadata": {},
   "source": [
    "\n",
    "* Проверьте названия столбцов."
   ]
  },
  {
   "cell_type": "markdown",
   "metadata": {},
   "source": [
    "\n",
    "* Выведите информацию, которая необходима вам для принятия решений о предобработке, для каждого из датасетов."
   ]
  },
  {
   "cell_type": "code",
   "execution_count": 125,
   "metadata": {
    "id": "4u9np9gSnyqT"
   },
   "outputs": [],
   "source": [
    "#Загружаем библиотеки для исследования:\n",
    "import pandas as pd\n",
    "import matplotlib.pyplot as plt \n",
    "import seaborn as sns"
   ]
  },
  {
   "cell_type": "code",
   "execution_count": 126,
   "metadata": {
    "scrolled": true
   },
   "outputs": [
    {
     "name": "stdout",
     "output_type": "stream",
     "text": [
      "Requirement already satisfied: phik in /opt/conda/lib/python3.9/site-packages (0.12.4)\n",
      "Requirement already satisfied: pandas>=0.25.1 in /opt/conda/lib/python3.9/site-packages (from phik) (1.2.4)\n",
      "Requirement already satisfied: joblib>=0.14.1 in /opt/conda/lib/python3.9/site-packages (from phik) (1.1.0)\n",
      "Requirement already satisfied: matplotlib>=2.2.3 in /opt/conda/lib/python3.9/site-packages (from phik) (3.3.4)\n",
      "Requirement already satisfied: scipy>=1.5.2 in /opt/conda/lib/python3.9/site-packages (from phik) (1.9.1)\n",
      "Requirement already satisfied: numpy>=1.18.0 in /opt/conda/lib/python3.9/site-packages (from phik) (1.21.1)\n",
      "Requirement already satisfied: cycler>=0.10 in /opt/conda/lib/python3.9/site-packages (from matplotlib>=2.2.3->phik) (0.11.0)\n",
      "Requirement already satisfied: python-dateutil>=2.1 in /opt/conda/lib/python3.9/site-packages (from matplotlib>=2.2.3->phik) (2.8.1)\n",
      "Requirement already satisfied: pyparsing!=2.0.4,!=2.1.2,!=2.1.6,>=2.0.3 in /opt/conda/lib/python3.9/site-packages (from matplotlib>=2.2.3->phik) (2.4.7)\n",
      "Requirement already satisfied: kiwisolver>=1.0.1 in /opt/conda/lib/python3.9/site-packages (from matplotlib>=2.2.3->phik) (1.4.4)\n",
      "Requirement already satisfied: pillow>=6.2.0 in /opt/conda/lib/python3.9/site-packages (from matplotlib>=2.2.3->phik) (8.4.0)\n",
      "Requirement already satisfied: pytz>=2017.3 in /opt/conda/lib/python3.9/site-packages (from pandas>=0.25.1->phik) (2021.1)\n",
      "Requirement already satisfied: six>=1.5 in /opt/conda/lib/python3.9/site-packages (from python-dateutil>=2.1->matplotlib>=2.2.3->phik) (1.16.0)\n",
      "Note: you may need to restart the kernel to use updated packages.\n"
     ]
    }
   ],
   "source": [
    "pip install phik"
   ]
  },
  {
   "cell_type": "markdown",
   "metadata": {},
   "source": [
    "<div class=\"alert alert-warning\">\n",
    "    <h2> Комментарий ревьюера v1 <a class=\"tocSkip\"> </h2>\n",
    "    \n",
    "<b>Небольшие замечания и рекомендации💡:</b> Рекомендую устанавливать библиотеки через `try-except`, чтобы лишний раз не прогружать окружение.\n",
    "  \n",
    "Если на 2ой итерации применения библиотеке `phik` не найдётся, то её импорт можно закомментировать        "
   ]
  },
  {
   "cell_type": "markdown",
   "metadata": {},
   "source": [
    "<div class=\"alert alert-info\"> <b> Не понятно, как именно использовать `try-except` в библиотеках, чтобы лишний раз не прогружать окружение.</div>"
   ]
  },
  {
   "cell_type": "markdown",
   "metadata": {},
   "source": [
    "<div class=\"alert alert-warning\">\n",
    "    <h2> Комментарий ревьюера v2 <a class=\"tocSkip\"> </h2>\n",
    "    \n",
    "<b>Небольшие замечания и рекомендации💡:</b> Конструкция бдет выглядеть например так\n",
    "      \n",
    "        try:  \n",
    "            from phik import phik_matrix  # Пытаемся импортировать \n",
    "        except:\n",
    "            pip install phik              # Устанавливаем библиотеку в случае ошибки и импортируем после этого\n",
    "            from phik import phik_matrix  \n",
    "        \n",
    "Поскольку мы работаем на платформе, это не актуально, но для локальных проектов, с которыми наверняка тебе предстоит столкнуться, это поможет предотвратить ошибки у пользователей с различным набором локально установленных библиотек\n",
    "        \n",
    "Кстати, юиюлиотека нам так и не пригодилась в проекте "
   ]
  },
  {
   "cell_type": "code",
   "execution_count": 127,
   "metadata": {},
   "outputs": [],
   "source": [
    "from phik import phik_matrix"
   ]
  },
  {
   "cell_type": "code",
   "execution_count": 128,
   "metadata": {
    "id": "W_W4jRazrJg0"
   },
   "outputs": [],
   "source": [
    "#Загружаем датасеты:\n",
    "company_and_rounds = pd.read_csv('https://code.s3.yandex.net/datasets/company_and_rounds.csv')\n",
    "acquisition = pd.read_csv('https://code.s3.yandex.net/datasets/acquisition.csv')\n",
    "people = pd.read_csv('https://code.s3.yandex.net/datasets/people.csv')\n",
    "education = pd.read_csv('https://code.s3.yandex.net/datasets/education.csv')\n",
    "degrees = pd.read_csv('https://code.s3.yandex.net/datasets/degrees.csv')\n",
    "fund = pd.read_csv('https://code.s3.yandex.net/datasets/fund.csv')\n",
    "investment = pd.read_csv('https://code.s3.yandex.net/datasets/investment.csv')"
   ]
  },
  {
   "cell_type": "markdown",
   "metadata": {
    "id": "mg2gEwh0rJg0"
   },
   "source": [
    "### 1.2. Смена типов и анализ пропусков\n",
    "\n",
    "* Обработайте типы данных в столбцах, которые хранят значения даты и времени, если это необходимо."
   ]
  },
  {
   "cell_type": "markdown",
   "metadata": {},
   "source": [
    "\n",
    "* Оцените полноту данных — сделайте предварительный вывод, достаточно ли данных для решения задач проекта."
   ]
  },
  {
   "cell_type": "code",
   "execution_count": 129,
   "metadata": {
    "id": "FsL0A8RBrJg1"
   },
   "outputs": [
    {
     "name": "stdout",
     "output_type": "stream",
     "text": [
      "<class 'pandas.core.frame.DataFrame'>\n",
      "RangeIndex: 217774 entries, 0 to 217773\n",
      "Data columns (total 22 columns):\n",
      " #   Column                 Non-Null Count   Dtype  \n",
      "---  ------                 --------------   -----  \n",
      " 0   company  ID            217472 non-null  float64\n",
      " 1   name                   217472 non-null  object \n",
      " 2   category  code         143886 non-null  object \n",
      " 3   status                 217472 non-null  object \n",
      " 4   founded  at            109956 non-null  object \n",
      " 5   closed  at             3449 non-null    object \n",
      " 6   domain                 147159 non-null  object \n",
      " 7   network  username      95534 non-null   object \n",
      " 8   country  code          108607 non-null  object \n",
      " 9   investment  rounds     217472 non-null  float64\n",
      " 10  funding  rounds        217472 non-null  float64\n",
      " 11  funding  total         217472 non-null  float64\n",
      " 12  milestones             217472 non-null  float64\n",
      " 13  funding  round  id     52928 non-null   float64\n",
      " 14  company  id            52928 non-null   float64\n",
      " 15  funded  at             52680 non-null   object \n",
      " 16  funding  round  type   52928 non-null   object \n",
      " 17  raised  amount         52928 non-null   float64\n",
      " 18  pre  money  valuation  52928 non-null   float64\n",
      " 19  participants           52928 non-null   float64\n",
      " 20  is  first  round       52928 non-null   float64\n",
      " 21  is  last  round        52928 non-null   float64\n",
      "dtypes: float64(12), object(10)\n",
      "memory usage: 36.6+ MB\n"
     ]
    },
    {
     "data": {
      "text/html": [
       "<div>\n",
       "<style scoped>\n",
       "    .dataframe tbody tr th:only-of-type {\n",
       "        vertical-align: middle;\n",
       "    }\n",
       "\n",
       "    .dataframe tbody tr th {\n",
       "        vertical-align: top;\n",
       "    }\n",
       "\n",
       "    .dataframe thead th {\n",
       "        text-align: right;\n",
       "    }\n",
       "</style>\n",
       "<table border=\"1\" class=\"dataframe\">\n",
       "  <thead>\n",
       "    <tr style=\"text-align: right;\">\n",
       "      <th></th>\n",
       "      <th>company  ID</th>\n",
       "      <th>name</th>\n",
       "      <th>category  code</th>\n",
       "      <th>status</th>\n",
       "      <th>founded  at</th>\n",
       "      <th>closed  at</th>\n",
       "      <th>domain</th>\n",
       "      <th>network  username</th>\n",
       "      <th>country  code</th>\n",
       "      <th>investment  rounds</th>\n",
       "      <th>...</th>\n",
       "      <th>milestones</th>\n",
       "      <th>funding  round  id</th>\n",
       "      <th>company  id</th>\n",
       "      <th>funded  at</th>\n",
       "      <th>funding  round  type</th>\n",
       "      <th>raised  amount</th>\n",
       "      <th>pre  money  valuation</th>\n",
       "      <th>participants</th>\n",
       "      <th>is  first  round</th>\n",
       "      <th>is  last  round</th>\n",
       "    </tr>\n",
       "  </thead>\n",
       "  <tbody>\n",
       "    <tr>\n",
       "      <th>0</th>\n",
       "      <td>1.0</td>\n",
       "      <td>Wetpaint</td>\n",
       "      <td>web</td>\n",
       "      <td>operating</td>\n",
       "      <td>2005-10-17</td>\n",
       "      <td>NaN</td>\n",
       "      <td>wetpaint-inc.com</td>\n",
       "      <td>BachelrWetpaint</td>\n",
       "      <td>USA</td>\n",
       "      <td>0.0</td>\n",
       "      <td>...</td>\n",
       "      <td>5.0</td>\n",
       "      <td>888.0</td>\n",
       "      <td>1.0</td>\n",
       "      <td>2005-10-01</td>\n",
       "      <td>series-a</td>\n",
       "      <td>5250000.0</td>\n",
       "      <td>0.0</td>\n",
       "      <td>2.0</td>\n",
       "      <td>0.0</td>\n",
       "      <td>1.0</td>\n",
       "    </tr>\n",
       "    <tr>\n",
       "      <th>1</th>\n",
       "      <td>1.0</td>\n",
       "      <td>Wetpaint</td>\n",
       "      <td>web</td>\n",
       "      <td>operating</td>\n",
       "      <td>2005-10-17</td>\n",
       "      <td>NaN</td>\n",
       "      <td>wetpaint-inc.com</td>\n",
       "      <td>BachelrWetpaint</td>\n",
       "      <td>USA</td>\n",
       "      <td>0.0</td>\n",
       "      <td>...</td>\n",
       "      <td>5.0</td>\n",
       "      <td>889.0</td>\n",
       "      <td>1.0</td>\n",
       "      <td>2007-01-01</td>\n",
       "      <td>series-b</td>\n",
       "      <td>9500000.0</td>\n",
       "      <td>0.0</td>\n",
       "      <td>3.0</td>\n",
       "      <td>0.0</td>\n",
       "      <td>0.0</td>\n",
       "    </tr>\n",
       "    <tr>\n",
       "      <th>2</th>\n",
       "      <td>1.0</td>\n",
       "      <td>Wetpaint</td>\n",
       "      <td>web</td>\n",
       "      <td>operating</td>\n",
       "      <td>2005-10-17</td>\n",
       "      <td>NaN</td>\n",
       "      <td>wetpaint-inc.com</td>\n",
       "      <td>BachelrWetpaint</td>\n",
       "      <td>USA</td>\n",
       "      <td>0.0</td>\n",
       "      <td>...</td>\n",
       "      <td>5.0</td>\n",
       "      <td>2312.0</td>\n",
       "      <td>1.0</td>\n",
       "      <td>2008-05-19</td>\n",
       "      <td>series-c+</td>\n",
       "      <td>25000000.0</td>\n",
       "      <td>0.0</td>\n",
       "      <td>4.0</td>\n",
       "      <td>1.0</td>\n",
       "      <td>0.0</td>\n",
       "    </tr>\n",
       "    <tr>\n",
       "      <th>3</th>\n",
       "      <td>10.0</td>\n",
       "      <td>Flektor</td>\n",
       "      <td>games_video</td>\n",
       "      <td>acquired</td>\n",
       "      <td>NaN</td>\n",
       "      <td>NaN</td>\n",
       "      <td>flektor.com</td>\n",
       "      <td>NaN</td>\n",
       "      <td>USA</td>\n",
       "      <td>0.0</td>\n",
       "      <td>...</td>\n",
       "      <td>0.0</td>\n",
       "      <td>NaN</td>\n",
       "      <td>NaN</td>\n",
       "      <td>NaN</td>\n",
       "      <td>NaN</td>\n",
       "      <td>NaN</td>\n",
       "      <td>NaN</td>\n",
       "      <td>NaN</td>\n",
       "      <td>NaN</td>\n",
       "      <td>NaN</td>\n",
       "    </tr>\n",
       "    <tr>\n",
       "      <th>4</th>\n",
       "      <td>100.0</td>\n",
       "      <td>There</td>\n",
       "      <td>games_video</td>\n",
       "      <td>acquired</td>\n",
       "      <td>NaN</td>\n",
       "      <td>NaN</td>\n",
       "      <td>there.com</td>\n",
       "      <td>NaN</td>\n",
       "      <td>USA</td>\n",
       "      <td>0.0</td>\n",
       "      <td>...</td>\n",
       "      <td>4.0</td>\n",
       "      <td>NaN</td>\n",
       "      <td>NaN</td>\n",
       "      <td>NaN</td>\n",
       "      <td>NaN</td>\n",
       "      <td>NaN</td>\n",
       "      <td>NaN</td>\n",
       "      <td>NaN</td>\n",
       "      <td>NaN</td>\n",
       "      <td>NaN</td>\n",
       "    </tr>\n",
       "  </tbody>\n",
       "</table>\n",
       "<p>5 rows × 22 columns</p>\n",
       "</div>"
      ],
      "text/plain": [
       "   company  ID      name category  code     status founded  at closed  at  \\\n",
       "0          1.0  Wetpaint            web  operating  2005-10-17        NaN   \n",
       "1          1.0  Wetpaint            web  operating  2005-10-17        NaN   \n",
       "2          1.0  Wetpaint            web  operating  2005-10-17        NaN   \n",
       "3         10.0   Flektor    games_video   acquired         NaN        NaN   \n",
       "4        100.0     There    games_video   acquired         NaN        NaN   \n",
       "\n",
       "             domain network  username country  code  investment  rounds  ...  \\\n",
       "0  wetpaint-inc.com   BachelrWetpaint           USA                 0.0  ...   \n",
       "1  wetpaint-inc.com   BachelrWetpaint           USA                 0.0  ...   \n",
       "2  wetpaint-inc.com   BachelrWetpaint           USA                 0.0  ...   \n",
       "3       flektor.com               NaN           USA                 0.0  ...   \n",
       "4         there.com               NaN           USA                 0.0  ...   \n",
       "\n",
       "   milestones  funding  round  id  company  id  funded  at  \\\n",
       "0         5.0               888.0          1.0  2005-10-01   \n",
       "1         5.0               889.0          1.0  2007-01-01   \n",
       "2         5.0              2312.0          1.0  2008-05-19   \n",
       "3         0.0                 NaN          NaN         NaN   \n",
       "4         4.0                 NaN          NaN         NaN   \n",
       "\n",
       "   funding  round  type raised  amount pre  money  valuation  participants  \\\n",
       "0              series-a      5250000.0                   0.0           2.0   \n",
       "1              series-b      9500000.0                   0.0           3.0   \n",
       "2             series-c+     25000000.0                   0.0           4.0   \n",
       "3                   NaN            NaN                   NaN           NaN   \n",
       "4                   NaN            NaN                   NaN           NaN   \n",
       "\n",
       "   is  first  round  is  last  round  \n",
       "0               0.0              1.0  \n",
       "1               0.0              0.0  \n",
       "2               1.0              0.0  \n",
       "3               NaN              NaN  \n",
       "4               NaN              NaN  \n",
       "\n",
       "[5 rows x 22 columns]"
      ]
     },
     "execution_count": 129,
     "metadata": {},
     "output_type": "execute_result"
    }
   ],
   "source": [
    "#Изучим данные в датасете company_and_rounds\n",
    "company_and_rounds.info()\n",
    "company_and_rounds.head()"
   ]
  },
  {
   "cell_type": "markdown",
   "metadata": {
    "id": "5Sg2O8zNnzKc"
   },
   "source": [
    "Датасет company_and_rounds содержит информацию о 21 столбцах и 217774 строках. Встречаются столбцы как объектного так и числового типа данных. Столбцы founded at, closed at и funded at нужно перевести к типу даты. Столбцы company ID, investment rounds, funding rounds, milestones, funding round id, company id, participants, is first round и is last round можно привести к преобразовать к целочисленному типу данных.\n",
    "\n",
    "Пропуски встречаются в каджом столбце. Далее изучим их частоту."
   ]
  },
  {
   "cell_type": "code",
   "execution_count": 130,
   "metadata": {},
   "outputs": [
    {
     "data": {
      "text/plain": [
       "company  ID                 302\n",
       "name                        302\n",
       "category  code            73888\n",
       "status                      302\n",
       "founded  at              107818\n",
       "closed  at               214325\n",
       "domain                    70615\n",
       "network  username        122240\n",
       "country  code            109167\n",
       "investment  rounds          302\n",
       "funding  rounds             302\n",
       "funding  total              302\n",
       "milestones                  302\n",
       "funding  round  id       164846\n",
       "company  id              164846\n",
       "funded  at               165094\n",
       "funding  round  type     164846\n",
       "raised  amount           164846\n",
       "pre  money  valuation    164846\n",
       "participants             164846\n",
       "is  first  round         164846\n",
       "is  last  round          164846\n",
       "dtype: int64"
      ]
     },
     "execution_count": 130,
     "metadata": {},
     "output_type": "execute_result"
    }
   ],
   "source": [
    "company_and_rounds.isna().sum()"
   ]
  },
  {
   "cell_type": "markdown",
   "metadata": {},
   "source": [
    "Видно, что пропуски есть даже в ключевом столбце company ID. Их 302 штуки. Их можно удалить в будущем."
   ]
  },
  {
   "cell_type": "code",
   "execution_count": 131,
   "metadata": {},
   "outputs": [
    {
     "data": {
      "text/plain": [
       "company  ID              0.001387\n",
       "name                     0.001387\n",
       "category  code           0.339288\n",
       "status                   0.001387\n",
       "founded  at              0.495091\n",
       "closed  at               0.984162\n",
       "domain                   0.324258\n",
       "network  username        0.561316\n",
       "country  code            0.501286\n",
       "investment  rounds       0.001387\n",
       "funding  rounds          0.001387\n",
       "funding  total           0.001387\n",
       "milestones               0.001387\n",
       "funding  round  id       0.756959\n",
       "company  id              0.756959\n",
       "funded  at               0.758098\n",
       "funding  round  type     0.756959\n",
       "raised  amount           0.756959\n",
       "pre  money  valuation    0.756959\n",
       "participants             0.756959\n",
       "is  first  round         0.756959\n",
       "is  last  round          0.756959\n",
       "dtype: float64"
      ]
     },
     "execution_count": 131,
     "metadata": {},
     "output_type": "execute_result"
    }
   ],
   "source": [
    "company_and_rounds.isna().sum()/company_and_rounds.shape[0]"
   ]
  },
  {
   "cell_type": "markdown",
   "metadata": {},
   "source": [
    "Проанализируем пропуски в столбцах, где их больше чем в Company ID. В столбце category code содержатся почти 34% пропусков, что может быть связано с тем, что компания не указала свою категорию области деятельности, либо ее деятельность не попадает под конкретную классификаицию. В столбце founded at содеожатся почти половина пропсков, что означает, что в компанию могли не инветсировать. А в столбце closed at пропусков 98%, что может означать, что компания еще не закрыта. В столбце domain пропусков 32%. Возможно, потому что у этих компаний нет сайтов. В столбце network username пропусков 56%. Возможно, среди них есть те, у кого нет сайта, либо отсутсвтует ник компании. В столбце country code отсутсвует более половины значений. Возможно, Эти компании не указали свой телефонный номер. Одинковое количество пропусков (76,8%) в данных, относящихся к финансированию (кроме столбца funded  at. Там их 75,9%). Возможно, эти компании в финансировании не были задействованы. В итоге примем решение не менять пропуски и оставить все как есть."
   ]
  },
  {
   "cell_type": "markdown",
   "metadata": {},
   "source": [
    "<div class=\"alert alert-success\">\n",
    "<h2> Комментарий ревьюера v1 <a class=\"tocSkip\"> </h2>\n",
    "\n",
    "<b>Все супер!👍:</b>Практичное решение, не стоит вносить искажения в данные без особой необходимости, когда нет однозначно верного решения по аппроксимации"
   ]
  },
  {
   "cell_type": "code",
   "execution_count": 132,
   "metadata": {},
   "outputs": [],
   "source": [
    "#Поменяем типы данных:\n",
    "company_and_rounds['founded  at'] = pd.to_datetime(company_and_rounds['founded  at'], errors='coerce')\n",
    "company_and_rounds['closed  at'] = pd.to_datetime(company_and_rounds['closed  at'], errors='coerce')\n",
    "company_and_rounds['funded  at'] = pd.to_datetime(company_and_rounds['funded  at'], errors='coerce')\n",
    "\n",
    "company_and_rounds['company ID'] = pd.to_numeric(company_and_rounds['company  ID'], downcast = 'integer')\n",
    "company_and_rounds['investment  rounds'] = pd.to_numeric(company_and_rounds['investment  rounds'], downcast = 'integer')\n",
    "company_and_rounds['funding  rounds'] = pd.to_numeric(company_and_rounds['funding  rounds'], downcast = 'integer')\n",
    "company_and_rounds['milestones'] = pd.to_numeric(company_and_rounds['milestones'], downcast = 'integer')\n",
    "company_and_rounds['funding  round  id'] = pd.to_numeric(company_and_rounds['funding  round  id'], downcast = 'integer')\n",
    "company_and_rounds['company  id'] = pd.to_numeric(company_and_rounds['company  id'], downcast = 'integer')\n",
    "company_and_rounds['participants'] = pd.to_numeric(company_and_rounds['participants'], downcast = 'integer')\n",
    "company_and_rounds['is  first  round'] = pd.to_numeric(company_and_rounds['is  first  round'], downcast = 'integer')\n",
    "company_and_rounds['is  last  round'] = pd.to_numeric(company_and_rounds['is  last  round'], downcast = 'integer')"
   ]
  },
  {
   "cell_type": "code",
   "execution_count": 133,
   "metadata": {},
   "outputs": [
    {
     "name": "stdout",
     "output_type": "stream",
     "text": [
      "<class 'pandas.core.frame.DataFrame'>\n",
      "RangeIndex: 9407 entries, 0 to 9406\n",
      "Data columns (total 6 columns):\n",
      " #   Column                Non-Null Count  Dtype \n",
      "---  ------                --------------  ----- \n",
      " 0   id                    9407 non-null   int64 \n",
      " 1   acquiring_company_id  9407 non-null   int64 \n",
      " 2   acquired_company_id   9407 non-null   int64 \n",
      " 3   term_code             1831 non-null   object\n",
      " 4   price_amount          9407 non-null   int64 \n",
      " 5   acquired_at           9378 non-null   object\n",
      "dtypes: int64(4), object(2)\n",
      "memory usage: 441.1+ KB\n"
     ]
    },
    {
     "data": {
      "text/html": [
       "<div>\n",
       "<style scoped>\n",
       "    .dataframe tbody tr th:only-of-type {\n",
       "        vertical-align: middle;\n",
       "    }\n",
       "\n",
       "    .dataframe tbody tr th {\n",
       "        vertical-align: top;\n",
       "    }\n",
       "\n",
       "    .dataframe thead th {\n",
       "        text-align: right;\n",
       "    }\n",
       "</style>\n",
       "<table border=\"1\" class=\"dataframe\">\n",
       "  <thead>\n",
       "    <tr style=\"text-align: right;\">\n",
       "      <th></th>\n",
       "      <th>id</th>\n",
       "      <th>acquiring_company_id</th>\n",
       "      <th>acquired_company_id</th>\n",
       "      <th>term_code</th>\n",
       "      <th>price_amount</th>\n",
       "      <th>acquired_at</th>\n",
       "    </tr>\n",
       "  </thead>\n",
       "  <tbody>\n",
       "    <tr>\n",
       "      <th>0</th>\n",
       "      <td>1</td>\n",
       "      <td>11</td>\n",
       "      <td>10</td>\n",
       "      <td>NaN</td>\n",
       "      <td>20000000</td>\n",
       "      <td>2007-05-30</td>\n",
       "    </tr>\n",
       "    <tr>\n",
       "      <th>1</th>\n",
       "      <td>7</td>\n",
       "      <td>59</td>\n",
       "      <td>72</td>\n",
       "      <td>cash</td>\n",
       "      <td>60000000</td>\n",
       "      <td>2007-07-01</td>\n",
       "    </tr>\n",
       "    <tr>\n",
       "      <th>2</th>\n",
       "      <td>8</td>\n",
       "      <td>24</td>\n",
       "      <td>132</td>\n",
       "      <td>cash</td>\n",
       "      <td>280000000</td>\n",
       "      <td>2007-05-01</td>\n",
       "    </tr>\n",
       "    <tr>\n",
       "      <th>3</th>\n",
       "      <td>9</td>\n",
       "      <td>59</td>\n",
       "      <td>155</td>\n",
       "      <td>cash</td>\n",
       "      <td>100000000</td>\n",
       "      <td>2007-06-01</td>\n",
       "    </tr>\n",
       "    <tr>\n",
       "      <th>4</th>\n",
       "      <td>10</td>\n",
       "      <td>212</td>\n",
       "      <td>215</td>\n",
       "      <td>cash</td>\n",
       "      <td>25000000</td>\n",
       "      <td>2007-07-01</td>\n",
       "    </tr>\n",
       "  </tbody>\n",
       "</table>\n",
       "</div>"
      ],
      "text/plain": [
       "   id  acquiring_company_id  acquired_company_id term_code  price_amount  \\\n",
       "0   1                    11                   10       NaN      20000000   \n",
       "1   7                    59                   72      cash      60000000   \n",
       "2   8                    24                  132      cash     280000000   \n",
       "3   9                    59                  155      cash     100000000   \n",
       "4  10                   212                  215      cash      25000000   \n",
       "\n",
       "  acquired_at  \n",
       "0  2007-05-30  \n",
       "1  2007-07-01  \n",
       "2  2007-05-01  \n",
       "3  2007-06-01  \n",
       "4  2007-07-01  "
      ]
     },
     "execution_count": 133,
     "metadata": {},
     "output_type": "execute_result"
    }
   ],
   "source": [
    "#Изучим данные в датасете acquisition:\n",
    "acquisition.info()\n",
    "acquisition.head()"
   ]
  },
  {
   "cell_type": "markdown",
   "metadata": {},
   "source": [
    "Датасет acquisition содержит информацию о 5 столбцах и 9407 строках. Встречаются два столбца объектного типа, \n",
    "все остальные - числового типа данных. Столбец acquired_at нужно перевести к типу даты. Все столбцы числового типа \n",
    "относятся к целочисленному типу данных. Их можно преобразовать так, чтобы они не занимали слишком много места.\n",
    "\n",
    "Пропуски встречаются лишь в столбцах term_code (их здесь большая часть, порядка 80%) и acquired_at (их здесь менее 1%). \n",
    "Пропуски в term_code возможно связаны с тем, что компании не указали варианты расчета при сделке. Пропуски в acquired_at возомжно свяазны с тем, что дата сделки была утерена. Их менее 1%, значит их можно оставить либо удалить. Вариант расчета для нас пока не существенен, поэтому эти пропуски мы тоже оставим."
   ]
  },
  {
   "cell_type": "code",
   "execution_count": 134,
   "metadata": {},
   "outputs": [],
   "source": [
    "#Преобразуем типы данных:\n",
    "acquisition['acquired_at'] = pd.to_datetime(acquisition['acquired_at'], errors='coerce')\n",
    "\n",
    "acquisition['id'] = pd.to_numeric(acquisition['id'], downcast = 'integer')\n",
    "acquisition['acquiring_company_id'] = pd.to_numeric(acquisition['acquiring_company_id'], downcast = 'integer')\n",
    "acquisition['acquired_company_id'] = pd.to_numeric(acquisition['acquired_company_id'], downcast = 'integer')\n",
    "acquisition['price_amount'] = pd.to_numeric(acquisition['price_amount'], downcast = 'integer')"
   ]
  },
  {
   "cell_type": "code",
   "execution_count": 135,
   "metadata": {},
   "outputs": [
    {
     "name": "stdout",
     "output_type": "stream",
     "text": [
      "<class 'pandas.core.frame.DataFrame'>\n",
      "RangeIndex: 226709 entries, 0 to 226708\n",
      "Data columns (total 5 columns):\n",
      " #   Column            Non-Null Count   Dtype  \n",
      "---  ------            --------------   -----  \n",
      " 0   id                226709 non-null  int64  \n",
      " 1   first_name        226704 non-null  object \n",
      " 2   last_name         226708 non-null  object \n",
      " 3   company_id        34615 non-null   float64\n",
      " 4   network_username  38867 non-null   object \n",
      "dtypes: float64(1), int64(1), object(3)\n",
      "memory usage: 8.6+ MB\n"
     ]
    },
    {
     "data": {
      "text/html": [
       "<div>\n",
       "<style scoped>\n",
       "    .dataframe tbody tr th:only-of-type {\n",
       "        vertical-align: middle;\n",
       "    }\n",
       "\n",
       "    .dataframe tbody tr th {\n",
       "        vertical-align: top;\n",
       "    }\n",
       "\n",
       "    .dataframe thead th {\n",
       "        text-align: right;\n",
       "    }\n",
       "</style>\n",
       "<table border=\"1\" class=\"dataframe\">\n",
       "  <thead>\n",
       "    <tr style=\"text-align: right;\">\n",
       "      <th></th>\n",
       "      <th>id</th>\n",
       "      <th>first_name</th>\n",
       "      <th>last_name</th>\n",
       "      <th>company_id</th>\n",
       "      <th>network_username</th>\n",
       "    </tr>\n",
       "  </thead>\n",
       "  <tbody>\n",
       "    <tr>\n",
       "      <th>0</th>\n",
       "      <td>10</td>\n",
       "      <td>Mark</td>\n",
       "      <td>Zuckerberg</td>\n",
       "      <td>5.0</td>\n",
       "      <td>NaN</td>\n",
       "    </tr>\n",
       "    <tr>\n",
       "      <th>1</th>\n",
       "      <td>100</td>\n",
       "      <td>Peter</td>\n",
       "      <td>Lester</td>\n",
       "      <td>27.0</td>\n",
       "      <td>NaN</td>\n",
       "    </tr>\n",
       "    <tr>\n",
       "      <th>2</th>\n",
       "      <td>1000</td>\n",
       "      <td>Dr. Steven</td>\n",
       "      <td>E. Saunders</td>\n",
       "      <td>292.0</td>\n",
       "      <td>NaN</td>\n",
       "    </tr>\n",
       "    <tr>\n",
       "      <th>3</th>\n",
       "      <td>10000</td>\n",
       "      <td>Neil</td>\n",
       "      <td>Capel</td>\n",
       "      <td>2526.0</td>\n",
       "      <td>NaN</td>\n",
       "    </tr>\n",
       "    <tr>\n",
       "      <th>4</th>\n",
       "      <td>100000</td>\n",
       "      <td>Sue</td>\n",
       "      <td>Pilsch</td>\n",
       "      <td>NaN</td>\n",
       "      <td>NaN</td>\n",
       "    </tr>\n",
       "  </tbody>\n",
       "</table>\n",
       "</div>"
      ],
      "text/plain": [
       "       id  first_name    last_name  company_id network_username\n",
       "0      10        Mark   Zuckerberg         5.0              NaN\n",
       "1     100       Peter       Lester        27.0              NaN\n",
       "2    1000  Dr. Steven  E. Saunders       292.0              NaN\n",
       "3   10000        Neil        Capel      2526.0              NaN\n",
       "4  100000         Sue       Pilsch         NaN              NaN"
      ]
     },
     "execution_count": 135,
     "metadata": {},
     "output_type": "execute_result"
    }
   ],
   "source": [
    "#Изучим данные в датасете people:\n",
    "people.info()\n",
    "people.head()"
   ]
  },
  {
   "cell_type": "markdown",
   "metadata": {},
   "source": [
    "Датасет people содержит информацию о 5 столбцах и 226709 строках. Встречаются три столбца объектного типа и \n",
    "два числового типа данных (один из которых целочисленный, а второй - дробный). Столбец company_id нужно перевести к целочилсенному типу данных. А столбец id преобразовать так, чтобы он не занимал слишком много места.\n",
    "\n",
    "Пропуски встречаются во всех столбцах, кроме id. \n",
    "Пропусков в имени и фамилии очень мало (в фамилии всего в одном месте, но нужно проперить, что это за пропуск). Вероятно пять пропусков в имени связаны с утерей данных, либо с тем, что клиенты по какой-то причине не указали свое имя."
   ]
  },
  {
   "cell_type": "code",
   "execution_count": 136,
   "metadata": {},
   "outputs": [
    {
     "data": {
      "text/plain": [
       "id                  0.000000\n",
       "first_name          0.000022\n",
       "last_name           0.000004\n",
       "company_id          0.847315\n",
       "network_username    0.828560\n",
       "dtype: float64"
      ]
     },
     "execution_count": 136,
     "metadata": {},
     "output_type": "execute_result"
    }
   ],
   "source": [
    "#Проверим долю пропусков:\n",
    "people.isna().sum()/people.shape[0]"
   ]
  },
  {
   "cell_type": "markdown",
   "metadata": {},
   "source": [
    "Пропуски в company_id составляют почти 85%, а в network_username - почти 83%. Это очень большой процент и не понятно, почему так много пропусков. Скорее всего либо данные были утеряны, либо эти сотрудники уже не работают и не числятся в штате."
   ]
  },
  {
   "cell_type": "code",
   "execution_count": 137,
   "metadata": {},
   "outputs": [
    {
     "data": {
      "text/html": [
       "<div>\n",
       "<style scoped>\n",
       "    .dataframe tbody tr th:only-of-type {\n",
       "        vertical-align: middle;\n",
       "    }\n",
       "\n",
       "    .dataframe tbody tr th {\n",
       "        vertical-align: top;\n",
       "    }\n",
       "\n",
       "    .dataframe thead th {\n",
       "        text-align: right;\n",
       "    }\n",
       "</style>\n",
       "<table border=\"1\" class=\"dataframe\">\n",
       "  <thead>\n",
       "    <tr style=\"text-align: right;\">\n",
       "      <th></th>\n",
       "      <th>id</th>\n",
       "      <th>first_name</th>\n",
       "      <th>last_name</th>\n",
       "      <th>company_id</th>\n",
       "      <th>network_username</th>\n",
       "    </tr>\n",
       "  </thead>\n",
       "  <tbody>\n",
       "    <tr>\n",
       "      <th>207997</th>\n",
       "      <td>78517</td>\n",
       "      <td>NaN</td>\n",
       "      <td>NaN</td>\n",
       "      <td>29.0</td>\n",
       "      <td>NaN</td>\n",
       "    </tr>\n",
       "  </tbody>\n",
       "</table>\n",
       "</div>"
      ],
      "text/plain": [
       "           id first_name last_name  company_id network_username\n",
       "207997  78517        NaN       NaN        29.0              NaN"
      ]
     },
     "execution_count": 137,
     "metadata": {},
     "output_type": "execute_result"
    }
   ],
   "source": [
    "#Выведим на экран пропуск в фамилии:\n",
    "people[people['last_name'].isnull()]"
   ]
  },
  {
   "cell_type": "markdown",
   "metadata": {},
   "source": [
    "Поскольку здесь также отсутствует и имя, а присутствуетлишь идентификатор и ндентификатор компании, то в будущем подобную строку скорее всего можно удалить."
   ]
  },
  {
   "cell_type": "code",
   "execution_count": 138,
   "metadata": {},
   "outputs": [],
   "source": [
    "#Преобразуем типы данных:\n",
    "people['id'] = pd.to_numeric(people['id'], downcast = 'integer')\n",
    "people['company_id'] = pd.to_numeric(people['company_id'], downcast = 'integer')"
   ]
  },
  {
   "cell_type": "code",
   "execution_count": 139,
   "metadata": {},
   "outputs": [
    {
     "name": "stdout",
     "output_type": "stream",
     "text": [
      "<class 'pandas.core.frame.DataFrame'>\n",
      "RangeIndex: 109610 entries, 0 to 109609\n",
      "Data columns (total 4 columns):\n",
      " #   Column        Non-Null Count   Dtype \n",
      "---  ------        --------------   ----- \n",
      " 0   id            109610 non-null  int64 \n",
      " 1   person_id     109610 non-null  int64 \n",
      " 2   instituition  109555 non-null  object\n",
      " 3   graduated_at  58054 non-null   object\n",
      "dtypes: int64(2), object(2)\n",
      "memory usage: 3.3+ MB\n"
     ]
    },
    {
     "data": {
      "text/html": [
       "<div>\n",
       "<style scoped>\n",
       "    .dataframe tbody tr th:only-of-type {\n",
       "        vertical-align: middle;\n",
       "    }\n",
       "\n",
       "    .dataframe tbody tr th {\n",
       "        vertical-align: top;\n",
       "    }\n",
       "\n",
       "    .dataframe thead th {\n",
       "        text-align: right;\n",
       "    }\n",
       "</style>\n",
       "<table border=\"1\" class=\"dataframe\">\n",
       "  <thead>\n",
       "    <tr style=\"text-align: right;\">\n",
       "      <th></th>\n",
       "      <th>id</th>\n",
       "      <th>person_id</th>\n",
       "      <th>instituition</th>\n",
       "      <th>graduated_at</th>\n",
       "    </tr>\n",
       "  </thead>\n",
       "  <tbody>\n",
       "    <tr>\n",
       "      <th>0</th>\n",
       "      <td>1</td>\n",
       "      <td>6117</td>\n",
       "      <td>NaN</td>\n",
       "      <td>NaN</td>\n",
       "    </tr>\n",
       "    <tr>\n",
       "      <th>1</th>\n",
       "      <td>2</td>\n",
       "      <td>6136</td>\n",
       "      <td>Washington University, St. Louis</td>\n",
       "      <td>1990-01-01</td>\n",
       "    </tr>\n",
       "    <tr>\n",
       "      <th>2</th>\n",
       "      <td>3</td>\n",
       "      <td>6136</td>\n",
       "      <td>Boston University</td>\n",
       "      <td>1992-01-01</td>\n",
       "    </tr>\n",
       "    <tr>\n",
       "      <th>3</th>\n",
       "      <td>4</td>\n",
       "      <td>6005</td>\n",
       "      <td>University of Greenwich</td>\n",
       "      <td>2006-01-01</td>\n",
       "    </tr>\n",
       "    <tr>\n",
       "      <th>4</th>\n",
       "      <td>5</td>\n",
       "      <td>5832</td>\n",
       "      <td>Rice University</td>\n",
       "      <td>NaN</td>\n",
       "    </tr>\n",
       "  </tbody>\n",
       "</table>\n",
       "</div>"
      ],
      "text/plain": [
       "   id  person_id                      instituition graduated_at\n",
       "0   1       6117                               NaN          NaN\n",
       "1   2       6136  Washington University, St. Louis   1990-01-01\n",
       "2   3       6136                 Boston University   1992-01-01\n",
       "3   4       6005           University of Greenwich   2006-01-01\n",
       "4   5       5832                   Rice University          NaN"
      ]
     },
     "execution_count": 139,
     "metadata": {},
     "output_type": "execute_result"
    }
   ],
   "source": [
    "#Изучим данные в датасете education:\n",
    "education.info()\n",
    "education.head()"
   ]
  },
  {
   "cell_type": "markdown",
   "metadata": {},
   "source": [
    "Датасет education содержит информацию о 4 столбцах и 109610 строках. Встречаются два столбца объектного типа и \n",
    "два целочисленного типа данных. Столбец graduated_at нужно преобразовать к типе даты. Столбцы целочиленного типа данных можно преобразовать так, чтобы они не занимали слишком много места.\n",
    "\n",
    "Пропуски встречаются в столбцах instituition и graduated_at. В столбце instituition всего 5 пропусков. Это не значительно, но скорее всего эти данные нужно будет удалить. Пропуски в столбце graduated_at занимают почти половину датасета и, вероятно, связаны с тем, что такеи ученики еще не завершили свое образование. Эти пропуски можно оставить как есть."
   ]
  },
  {
   "cell_type": "code",
   "execution_count": 140,
   "metadata": {},
   "outputs": [],
   "source": [
    "#Преобразуем типы данных:\n",
    "education['graduated_at'] = pd.to_datetime(education['graduated_at'], errors='coerce')\n",
    "\n",
    "education['id'] = pd.to_numeric(education['id'], downcast = 'integer')\n",
    "education['person_id'] = pd.to_numeric(education['person_id'], downcast = 'integer')"
   ]
  },
  {
   "cell_type": "code",
   "execution_count": 141,
   "metadata": {},
   "outputs": [
    {
     "name": "stdout",
     "output_type": "stream",
     "text": [
      "<class 'pandas.core.frame.DataFrame'>\n",
      "RangeIndex: 109610 entries, 0 to 109609\n",
      "Data columns (total 4 columns):\n",
      " #   Column       Non-Null Count   Dtype \n",
      "---  ------       --------------   ----- \n",
      " 0   id           109610 non-null  int64 \n",
      " 1   object_id    109610 non-null  object\n",
      " 2   degree_type  98392 non-null   object\n",
      " 3   subject      81298 non-null   object\n",
      "dtypes: int64(1), object(3)\n",
      "memory usage: 3.3+ MB\n"
     ]
    },
    {
     "data": {
      "text/html": [
       "<div>\n",
       "<style scoped>\n",
       "    .dataframe tbody tr th:only-of-type {\n",
       "        vertical-align: middle;\n",
       "    }\n",
       "\n",
       "    .dataframe tbody tr th {\n",
       "        vertical-align: top;\n",
       "    }\n",
       "\n",
       "    .dataframe thead th {\n",
       "        text-align: right;\n",
       "    }\n",
       "</style>\n",
       "<table border=\"1\" class=\"dataframe\">\n",
       "  <thead>\n",
       "    <tr style=\"text-align: right;\">\n",
       "      <th></th>\n",
       "      <th>id</th>\n",
       "      <th>object_id</th>\n",
       "      <th>degree_type</th>\n",
       "      <th>subject</th>\n",
       "    </tr>\n",
       "  </thead>\n",
       "  <tbody>\n",
       "    <tr>\n",
       "      <th>0</th>\n",
       "      <td>1</td>\n",
       "      <td>p:6117</td>\n",
       "      <td>MBA</td>\n",
       "      <td>NaN</td>\n",
       "    </tr>\n",
       "    <tr>\n",
       "      <th>1</th>\n",
       "      <td>2</td>\n",
       "      <td>p:6136</td>\n",
       "      <td>BA</td>\n",
       "      <td>English, French</td>\n",
       "    </tr>\n",
       "    <tr>\n",
       "      <th>2</th>\n",
       "      <td>3</td>\n",
       "      <td>p:6136</td>\n",
       "      <td>MS</td>\n",
       "      <td>Mass Communication</td>\n",
       "    </tr>\n",
       "    <tr>\n",
       "      <th>3</th>\n",
       "      <td>4</td>\n",
       "      <td>p:6005</td>\n",
       "      <td>MS</td>\n",
       "      <td>Internet Technology</td>\n",
       "    </tr>\n",
       "    <tr>\n",
       "      <th>4</th>\n",
       "      <td>5</td>\n",
       "      <td>p:5832</td>\n",
       "      <td>BCS</td>\n",
       "      <td>Computer Science, Psychology</td>\n",
       "    </tr>\n",
       "  </tbody>\n",
       "</table>\n",
       "</div>"
      ],
      "text/plain": [
       "   id object_id degree_type                       subject\n",
       "0   1    p:6117         MBA                           NaN\n",
       "1   2    p:6136          BA               English, French\n",
       "2   3    p:6136          MS            Mass Communication\n",
       "3   4    p:6005          MS           Internet Technology\n",
       "4   5    p:5832         BCS  Computer Science, Psychology"
      ]
     },
     "execution_count": 141,
     "metadata": {},
     "output_type": "execute_result"
    }
   ],
   "source": [
    "#Изучим данные в датасете degrees:\n",
    "degrees.info()\n",
    "degrees.head()"
   ]
  },
  {
   "cell_type": "markdown",
   "metadata": {},
   "source": [
    "Датасет degrees содержит информацию о 4 столбцах и 109610 строках. Встречаются три столбца объектного типа и \n",
    "один целочисленного типа данных. Уберем из столбца object_id индекс p: из каждого значения. Столбец id можно преобразовать так, чтобы он не занимал слишком много места. А столбец object_id преобразуем к числовому типу данных.\n",
    "\n",
    "Пропуски встречаются в столбцах degree_type и subject. Посмоттрим, насколько их много в относительх величинах."
   ]
  },
  {
   "cell_type": "code",
   "execution_count": 142,
   "metadata": {},
   "outputs": [
    {
     "data": {
      "text/plain": [
       "id             0.000000\n",
       "object_id      0.000000\n",
       "degree_type    0.102345\n",
       "subject        0.258298\n",
       "dtype: float64"
      ]
     },
     "execution_count": 142,
     "metadata": {},
     "output_type": "execute_result"
    }
   ],
   "source": [
    "degrees.isna().sum()/degrees.shape[0]"
   ]
  },
  {
   "cell_type": "markdown",
   "metadata": {},
   "source": [
    "В столбце degree_type пропусков более 10%, в столбце subject - более 25%. Пропуски и там и там, вероятно, связаны с тем, что сотрудники не указали о своем уровне образования. Скорее всего пропуски можно оставить как есть."
   ]
  },
  {
   "cell_type": "code",
   "execution_count": 143,
   "metadata": {},
   "outputs": [],
   "source": [
    "degrees['object_id'] = degrees['object_id'].str.replace('p', '', regex=False)"
   ]
  },
  {
   "cell_type": "code",
   "execution_count": 144,
   "metadata": {},
   "outputs": [],
   "source": [
    "degrees['object_id'] = degrees['object_id'].str.replace(':', '', regex=False)"
   ]
  },
  {
   "cell_type": "code",
   "execution_count": 145,
   "metadata": {},
   "outputs": [],
   "source": [
    "#Преобразуем типы данных:\n",
    "degrees['id'] = pd.to_numeric(degrees['id'], downcast = 'integer')\n",
    "degrees['object_id'] = pd.to_numeric(degrees['object_id'], downcast = 'integer')"
   ]
  },
  {
   "cell_type": "code",
   "execution_count": 146,
   "metadata": {},
   "outputs": [
    {
     "name": "stdout",
     "output_type": "stream",
     "text": [
      "<class 'pandas.core.frame.DataFrame'>\n",
      "RangeIndex: 11652 entries, 0 to 11651\n",
      "Data columns (total 9 columns):\n",
      " #   Column              Non-Null Count  Dtype \n",
      "---  ------              --------------  ----- \n",
      " 0   id                  11652 non-null  int64 \n",
      " 1   name                11650 non-null  object\n",
      " 2   founded_at          4605 non-null   object\n",
      " 3   domain              7362 non-null   object\n",
      " 4   network_username    2149 non-null   object\n",
      " 5   country_code        7053 non-null   object\n",
      " 6   investment_rounds   11652 non-null  int64 \n",
      " 7   invested_companies  11652 non-null  int64 \n",
      " 8   milestones          11652 non-null  int64 \n",
      "dtypes: int64(4), object(5)\n",
      "memory usage: 819.4+ KB\n"
     ]
    },
    {
     "data": {
      "text/html": [
       "<div>\n",
       "<style scoped>\n",
       "    .dataframe tbody tr th:only-of-type {\n",
       "        vertical-align: middle;\n",
       "    }\n",
       "\n",
       "    .dataframe tbody tr th {\n",
       "        vertical-align: top;\n",
       "    }\n",
       "\n",
       "    .dataframe thead th {\n",
       "        text-align: right;\n",
       "    }\n",
       "</style>\n",
       "<table border=\"1\" class=\"dataframe\">\n",
       "  <thead>\n",
       "    <tr style=\"text-align: right;\">\n",
       "      <th></th>\n",
       "      <th>id</th>\n",
       "      <th>name</th>\n",
       "      <th>founded_at</th>\n",
       "      <th>domain</th>\n",
       "      <th>network_username</th>\n",
       "      <th>country_code</th>\n",
       "      <th>investment_rounds</th>\n",
       "      <th>invested_companies</th>\n",
       "      <th>milestones</th>\n",
       "    </tr>\n",
       "  </thead>\n",
       "  <tbody>\n",
       "    <tr>\n",
       "      <th>0</th>\n",
       "      <td>13131</td>\n",
       "      <td>NaN</td>\n",
       "      <td>NaN</td>\n",
       "      <td>NaN</td>\n",
       "      <td>NaN</td>\n",
       "      <td>NaN</td>\n",
       "      <td>0</td>\n",
       "      <td>0</td>\n",
       "      <td>0</td>\n",
       "    </tr>\n",
       "    <tr>\n",
       "      <th>1</th>\n",
       "      <td>1</td>\n",
       "      <td>Greylock Partners</td>\n",
       "      <td>1965-01-01</td>\n",
       "      <td>greylock.com</td>\n",
       "      <td>greylockvc</td>\n",
       "      <td>USA</td>\n",
       "      <td>307</td>\n",
       "      <td>196</td>\n",
       "      <td>0</td>\n",
       "    </tr>\n",
       "    <tr>\n",
       "      <th>2</th>\n",
       "      <td>10</td>\n",
       "      <td>Mission Ventures</td>\n",
       "      <td>1996-01-01</td>\n",
       "      <td>missionventures.com</td>\n",
       "      <td>NaN</td>\n",
       "      <td>USA</td>\n",
       "      <td>58</td>\n",
       "      <td>33</td>\n",
       "      <td>0</td>\n",
       "    </tr>\n",
       "    <tr>\n",
       "      <th>3</th>\n",
       "      <td>100</td>\n",
       "      <td>Kapor Enterprises, Inc.</td>\n",
       "      <td>NaN</td>\n",
       "      <td>kei.com</td>\n",
       "      <td>NaN</td>\n",
       "      <td>USA</td>\n",
       "      <td>2</td>\n",
       "      <td>1</td>\n",
       "      <td>0</td>\n",
       "    </tr>\n",
       "    <tr>\n",
       "      <th>4</th>\n",
       "      <td>1000</td>\n",
       "      <td>Speed Ventures</td>\n",
       "      <td>NaN</td>\n",
       "      <td>NaN</td>\n",
       "      <td>NaN</td>\n",
       "      <td>NaN</td>\n",
       "      <td>0</td>\n",
       "      <td>0</td>\n",
       "      <td>1</td>\n",
       "    </tr>\n",
       "  </tbody>\n",
       "</table>\n",
       "</div>"
      ],
      "text/plain": [
       "      id                     name  founded_at               domain  \\\n",
       "0  13131                      NaN         NaN                  NaN   \n",
       "1      1        Greylock Partners  1965-01-01         greylock.com   \n",
       "2     10         Mission Ventures  1996-01-01  missionventures.com   \n",
       "3    100  Kapor Enterprises, Inc.         NaN              kei.com   \n",
       "4   1000           Speed Ventures         NaN                  NaN   \n",
       "\n",
       "  network_username country_code  investment_rounds  invested_companies  \\\n",
       "0              NaN          NaN                  0                   0   \n",
       "1       greylockvc          USA                307                 196   \n",
       "2              NaN          USA                 58                  33   \n",
       "3              NaN          USA                  2                   1   \n",
       "4              NaN          NaN                  0                   0   \n",
       "\n",
       "   milestones  \n",
       "0           0  \n",
       "1           0  \n",
       "2           0  \n",
       "3           0  \n",
       "4           1  "
      ]
     },
     "execution_count": 146,
     "metadata": {},
     "output_type": "execute_result"
    }
   ],
   "source": [
    "#Изучим данные в датасете fund:\n",
    "fund.info()\n",
    "fund.head()"
   ]
  },
  {
   "cell_type": "markdown",
   "metadata": {},
   "source": [
    "Датасет fund содержит информацию о 9 столбцах и 11652 строках. Встречаются пять столбцов объектного типа и \n",
    "четыре целочисленного типа данных. Столбец founded_at нужно преобразовать к типу даты. Целочисленные столбцы можно преобразовать так, чтобы они не занимали слишком много места.\n",
    "\n",
    "Пропуски встречаются в столбцах name, founded_at, domain, network_username и country_code. Посмоттрим, насколько их много в относительх величинах."
   ]
  },
  {
   "cell_type": "code",
   "execution_count": 147,
   "metadata": {},
   "outputs": [
    {
     "data": {
      "text/plain": [
       "id                    0.000000\n",
       "name                  0.000172\n",
       "founded_at            0.604789\n",
       "domain                0.368177\n",
       "network_username      0.815568\n",
       "country_code          0.394696\n",
       "investment_rounds     0.000000\n",
       "invested_companies    0.000000\n",
       "milestones            0.000000\n",
       "dtype: float64"
      ]
     },
     "execution_count": 147,
     "metadata": {},
     "output_type": "execute_result"
    }
   ],
   "source": [
    "fund.isna().sum()/fund.shape[0]"
   ]
  },
  {
   "cell_type": "markdown",
   "metadata": {},
   "source": [
    "В столбце name всего 2 пропуска. Скорее всего эти пропуски можно будет удалить. В столбце founded_at пропусков более 60%. Скорее всего дату названия фонда просто не указали в этих случаях. В столбце domain пропусков почти 37%. Возможно у этих фондов нет сайта. В столбце network_username пропусков более 81%. Возможно, у этих фондов нет ника в сети. В столбце country_code пропусков почти 40%. Возможно для этих фондов не указан телефон или страна. Все эти пропуски (кроме пропусков в name) можно оставить как есть."
   ]
  },
  {
   "cell_type": "code",
   "execution_count": 148,
   "metadata": {},
   "outputs": [],
   "source": [
    "#Преобразуем типы данных:\n",
    "fund['founded_at'] = pd.to_datetime(fund['founded_at'], errors='coerce')\n",
    "\n",
    "fund['id'] = pd.to_numeric(fund['id'], downcast = 'integer')\n",
    "fund['investment_rounds'] = pd.to_numeric(fund['investment_rounds'], downcast = 'integer')\n",
    "fund['invested_companies'] = pd.to_numeric(fund['invested_companies'], downcast = 'integer')\n",
    "fund['milestones'] = pd.to_numeric(fund['milestones'], downcast = 'integer')"
   ]
  },
  {
   "cell_type": "code",
   "execution_count": 149,
   "metadata": {},
   "outputs": [
    {
     "name": "stdout",
     "output_type": "stream",
     "text": [
      "<class 'pandas.core.frame.DataFrame'>\n",
      "RangeIndex: 61403 entries, 0 to 61402\n",
      "Data columns (total 4 columns):\n",
      " #   Column            Non-Null Count  Dtype\n",
      "---  ------            --------------  -----\n",
      " 0   id                61403 non-null  int64\n",
      " 1   funding_round_id  61403 non-null  int64\n",
      " 2   company_id        61403 non-null  int64\n",
      " 3   fund_id           61403 non-null  int64\n",
      "dtypes: int64(4)\n",
      "memory usage: 1.9 MB\n"
     ]
    },
    {
     "data": {
      "text/html": [
       "<div>\n",
       "<style scoped>\n",
       "    .dataframe tbody tr th:only-of-type {\n",
       "        vertical-align: middle;\n",
       "    }\n",
       "\n",
       "    .dataframe tbody tr th {\n",
       "        vertical-align: top;\n",
       "    }\n",
       "\n",
       "    .dataframe thead th {\n",
       "        text-align: right;\n",
       "    }\n",
       "</style>\n",
       "<table border=\"1\" class=\"dataframe\">\n",
       "  <thead>\n",
       "    <tr style=\"text-align: right;\">\n",
       "      <th></th>\n",
       "      <th>id</th>\n",
       "      <th>funding_round_id</th>\n",
       "      <th>company_id</th>\n",
       "      <th>fund_id</th>\n",
       "    </tr>\n",
       "  </thead>\n",
       "  <tbody>\n",
       "    <tr>\n",
       "      <th>0</th>\n",
       "      <td>1</td>\n",
       "      <td>1</td>\n",
       "      <td>4</td>\n",
       "      <td>1</td>\n",
       "    </tr>\n",
       "    <tr>\n",
       "      <th>1</th>\n",
       "      <td>2</td>\n",
       "      <td>1</td>\n",
       "      <td>4</td>\n",
       "      <td>2</td>\n",
       "    </tr>\n",
       "    <tr>\n",
       "      <th>2</th>\n",
       "      <td>3</td>\n",
       "      <td>3</td>\n",
       "      <td>5</td>\n",
       "      <td>4</td>\n",
       "    </tr>\n",
       "    <tr>\n",
       "      <th>3</th>\n",
       "      <td>4</td>\n",
       "      <td>4</td>\n",
       "      <td>5</td>\n",
       "      <td>1</td>\n",
       "    </tr>\n",
       "    <tr>\n",
       "      <th>4</th>\n",
       "      <td>5</td>\n",
       "      <td>4</td>\n",
       "      <td>5</td>\n",
       "      <td>5</td>\n",
       "    </tr>\n",
       "  </tbody>\n",
       "</table>\n",
       "</div>"
      ],
      "text/plain": [
       "   id  funding_round_id  company_id  fund_id\n",
       "0   1                 1           4        1\n",
       "1   2                 1           4        2\n",
       "2   3                 3           5        4\n",
       "3   4                 4           5        1\n",
       "4   5                 4           5        5"
      ]
     },
     "execution_count": 149,
     "metadata": {},
     "output_type": "execute_result"
    }
   ],
   "source": [
    "#Изучим данные в датасете investment:\n",
    "investment.info()\n",
    "investment.head()"
   ]
  },
  {
   "cell_type": "markdown",
   "metadata": {},
   "source": [
    "Датасет investment содержит информацию о 4 столбцах и 61403 строках. Все столбцы относятся к целочисленному типу данных. Их можно преобразовать так, чтобы они не занимали слишком много места.\n",
    "\n",
    "Пропусков в датасете нет."
   ]
  },
  {
   "cell_type": "code",
   "execution_count": 150,
   "metadata": {},
   "outputs": [],
   "source": [
    "#Преобразуем типы данных:\n",
    "investment['id'] = pd.to_numeric(investment['id'], downcast = 'integer')\n",
    "investment['funding_round_id'] = pd.to_numeric(investment['funding_round_id'], downcast = 'integer')\n",
    "investment['company_id'] = pd.to_numeric(investment['company_id'], downcast = 'integer')\n",
    "investment['fund_id'] = pd.to_numeric(investment['fund_id'], downcast = 'integer')"
   ]
  },
  {
   "cell_type": "markdown",
   "metadata": {},
   "source": [
    "<div class=\"alert alert-info\"> <b> Названия столбцов во всех датасетах кроме company_and_rounds уже написаны в змеином регистре. В датасете company_and_rounds пока не будем приводить к змеиному регистру, потому что там есть столбцы company ID и company id, и при переводе на змеиный регистр может возникнуть путаница. </div>"
   ]
  },
  {
   "cell_type": "markdown",
   "metadata": {},
   "source": [
    "<div class=\"alert alert-success\">\n",
    "<h2> Комментарий ревьюера v2 <a class=\"tocSkip\"> </h2>\n",
    "\n",
    "<b>Все супер!👍:</b>  Хорошо, что ты обращаешь внимание на возможные \"проблемы\" в дальнейших шагах"
   ]
  },
  {
   "cell_type": "markdown",
   "metadata": {},
   "source": [
    "<div class=\"alert alert-success\">\n",
    "<h2> Комментарий ревьюера v1 <a class=\"tocSkip\"> </h2>\n",
    "\n",
    "<b>Все супер!👍:</b>  Хороший выбор методов для первичной оценки данных! Молодец, что предположил причины пропусков и так детально рассмотрел оптимальные типы данных для этих датафреймов. Это позволит оптимизировать данные и сократить время вычислений."
   ]
  },
  {
   "cell_type": "markdown",
   "metadata": {},
   "source": [
    "<div class=\"alert alert-warning\">\n",
    "    <h2> Комментарий ревьюера v1 <a class=\"tocSkip\"> </h2>\n",
    "    \n",
    "<b>Небольшие замечания и рекомендации💡:</b>Было бы полезно в рамках подготовки данных привести нейминги столбцов к \"змеиному стилю\""
   ]
  },
  {
   "cell_type": "markdown",
   "metadata": {
    "id": "u60cHsn6rJg1"
   },
   "source": [
    "## Шаг 2. Предобработка данных, предварительное исследование"
   ]
  },
  {
   "cell_type": "markdown",
   "metadata": {
    "id": "g2bHIIjcrJg1"
   },
   "source": [
    "\n",
    "### 2.1. Раунды финансирования по годам\n",
    "\n",
    "Задание необходимо выполнить без объединения и дополнительной предобработки на основе датасета `company_and_rounds.csv`.\n",
    "\n",
    "* Составьте сводную таблицу по годам, в которой на основании столбца `raised_amount` для каждого года указан:\n",
    "\n",
    "  * типичный размер средств, выделяемый в рамках одного раунда;\n",
    "  * общее количество раундов финансирования за этот год.\n",
    "\n",
    "* Оставьте в таблице информацию только для тех лет, для которых есть информация о более чем 50 раундах финансирования.\n",
    "\n",
    "* На основе получившейся таблицы постройте график, который будет отражать динамику типичного размера средств, которые стартапы получали в рамках одного раунда финансирования.\n",
    "\n",
    "На основе полученных данных ответьте на вопросы:\n",
    "\n",
    "* В каком году типичный размер собранных в рамках одного раунда средств был максимален?\n",
    "\n",
    "* Какая тенденция по количеству раундов и выделяемых в рамках каждого раунда средств наблюдалась в 2013 году?"
   ]
  },
  {
   "cell_type": "code",
   "execution_count": 151,
   "metadata": {},
   "outputs": [],
   "source": [
    "#Создадим новый столбец с годами финансирования:\n",
    "company_and_rounds['year_funded'] = company_and_rounds['funded  at'].dt.to_period('Y')"
   ]
  },
  {
   "cell_type": "code",
   "execution_count": 152,
   "metadata": {},
   "outputs": [
    {
     "data": {
      "text/plain": [
       "0    2005\n",
       "1    2007\n",
       "2    2008\n",
       "3     NaT\n",
       "4     NaT\n",
       "Name: year_funded, dtype: period[A-DEC]"
      ]
     },
     "execution_count": 152,
     "metadata": {},
     "output_type": "execute_result"
    }
   ],
   "source": [
    "company_and_rounds['year_funded'].head()"
   ]
  },
  {
   "cell_type": "code",
   "execution_count": 153,
   "metadata": {},
   "outputs": [],
   "source": [
    "#Переведем данные в столбце raised amount к тысячям рублей для простоты отображения:\n",
    "company_and_rounds['raised_amount_new'] = company_and_rounds['raised  amount']/1000"
   ]
  },
  {
   "cell_type": "code",
   "execution_count": 154,
   "metadata": {},
   "outputs": [],
   "source": [
    "#Создадим сводную таблицу:\n",
    "pivot_table = pd.pivot_table(company_and_rounds, index='year_funded', values='raised_amount_new', aggfunc={'median', 'count'})"
   ]
  },
  {
   "cell_type": "code",
   "execution_count": 155,
   "metadata": {},
   "outputs": [],
   "source": [
    "pivot_table_filtered = pivot_table[pivot_table['count']>50]"
   ]
  },
  {
   "cell_type": "code",
   "execution_count": 156,
   "metadata": {},
   "outputs": [
    {
     "data": {
      "text/html": [
       "<div>\n",
       "<style scoped>\n",
       "    .dataframe tbody tr th:only-of-type {\n",
       "        vertical-align: middle;\n",
       "    }\n",
       "\n",
       "    .dataframe tbody tr th {\n",
       "        vertical-align: top;\n",
       "    }\n",
       "\n",
       "    .dataframe thead th {\n",
       "        text-align: right;\n",
       "    }\n",
       "</style>\n",
       "<table border=\"1\" class=\"dataframe\">\n",
       "  <thead>\n",
       "    <tr style=\"text-align: right;\">\n",
       "      <th></th>\n",
       "      <th>count</th>\n",
       "      <th>median</th>\n",
       "    </tr>\n",
       "    <tr>\n",
       "      <th>year_funded</th>\n",
       "      <th></th>\n",
       "      <th></th>\n",
       "    </tr>\n",
       "  </thead>\n",
       "  <tbody>\n",
       "    <tr>\n",
       "      <th>1999</th>\n",
       "      <td>76</td>\n",
       "      <td>2000.00</td>\n",
       "    </tr>\n",
       "    <tr>\n",
       "      <th>2000</th>\n",
       "      <td>125</td>\n",
       "      <td>4200.00</td>\n",
       "    </tr>\n",
       "    <tr>\n",
       "      <th>2001</th>\n",
       "      <td>96</td>\n",
       "      <td>3000.00</td>\n",
       "    </tr>\n",
       "    <tr>\n",
       "      <th>2002</th>\n",
       "      <td>116</td>\n",
       "      <td>4200.00</td>\n",
       "    </tr>\n",
       "    <tr>\n",
       "      <th>2003</th>\n",
       "      <td>159</td>\n",
       "      <td>3000.00</td>\n",
       "    </tr>\n",
       "    <tr>\n",
       "      <th>2004</th>\n",
       "      <td>291</td>\n",
       "      <td>5000.00</td>\n",
       "    </tr>\n",
       "    <tr>\n",
       "      <th>2005</th>\n",
       "      <td>1633</td>\n",
       "      <td>5500.00</td>\n",
       "    </tr>\n",
       "    <tr>\n",
       "      <th>2006</th>\n",
       "      <td>2436</td>\n",
       "      <td>5000.00</td>\n",
       "    </tr>\n",
       "    <tr>\n",
       "      <th>2007</th>\n",
       "      <td>3279</td>\n",
       "      <td>3973.32</td>\n",
       "    </tr>\n",
       "    <tr>\n",
       "      <th>2008</th>\n",
       "      <td>3774</td>\n",
       "      <td>3110.00</td>\n",
       "    </tr>\n",
       "    <tr>\n",
       "      <th>2009</th>\n",
       "      <td>4151</td>\n",
       "      <td>2000.00</td>\n",
       "    </tr>\n",
       "    <tr>\n",
       "      <th>2010</th>\n",
       "      <td>6221</td>\n",
       "      <td>1602.50</td>\n",
       "    </tr>\n",
       "    <tr>\n",
       "      <th>2011</th>\n",
       "      <td>9204</td>\n",
       "      <td>1200.00</td>\n",
       "    </tr>\n",
       "    <tr>\n",
       "      <th>2012</th>\n",
       "      <td>9970</td>\n",
       "      <td>1000.00</td>\n",
       "    </tr>\n",
       "    <tr>\n",
       "      <th>2013</th>\n",
       "      <td>11072</td>\n",
       "      <td>1200.00</td>\n",
       "    </tr>\n",
       "  </tbody>\n",
       "</table>\n",
       "</div>"
      ],
      "text/plain": [
       "             count   median\n",
       "year_funded                \n",
       "1999            76  2000.00\n",
       "2000           125  4200.00\n",
       "2001            96  3000.00\n",
       "2002           116  4200.00\n",
       "2003           159  3000.00\n",
       "2004           291  5000.00\n",
       "2005          1633  5500.00\n",
       "2006          2436  5000.00\n",
       "2007          3279  3973.32\n",
       "2008          3774  3110.00\n",
       "2009          4151  2000.00\n",
       "2010          6221  1602.50\n",
       "2011          9204  1200.00\n",
       "2012          9970  1000.00\n",
       "2013         11072  1200.00"
      ]
     },
     "execution_count": 156,
     "metadata": {},
     "output_type": "execute_result"
    }
   ],
   "source": [
    "pivot_table_filtered"
   ]
  },
  {
   "cell_type": "code",
   "execution_count": 157,
   "metadata": {},
   "outputs": [],
   "source": [
    "categories_amount_by_year = company_and_rounds.groupby('year_funded')['raised_amount_new'].median()"
   ]
  },
  {
   "cell_type": "code",
   "execution_count": 158,
   "metadata": {},
   "outputs": [],
   "source": [
    "round_counts = company_and_rounds.groupby('year_funded')['raised_amount_new'].count()"
   ]
  },
  {
   "cell_type": "code",
   "execution_count": 159,
   "metadata": {},
   "outputs": [],
   "source": [
    "filtered_years = round_counts[round_counts > 50].index"
   ]
  },
  {
   "cell_type": "code",
   "execution_count": 160,
   "metadata": {},
   "outputs": [],
   "source": [
    "categories_amount_by_year_filtered = categories_amount_by_year[categories_amount_by_year.index.isin(filtered_years)]"
   ]
  },
  {
   "cell_type": "code",
   "execution_count": 161,
   "metadata": {
    "scrolled": true
   },
   "outputs": [
    {
     "data": {
      "image/png": "[encoded data removed]",
      "text/plain": [
       "<Figure size 720x576 with 1 Axes>"
      ]
     },
     "metadata": {
      "needs_background": "light"
     },
     "output_type": "display_data"
    }
   ],
   "source": [
    "plot = categories_amount_by_year_filtered.plot(kind='line', figsize=(10,8), \n",
    "                                      title='Динамика размера средств, полученных в рамках одного раунда финансирования',\n",
    "                                     xlabel='Годы', ylabel='Размера средств, тыс. руб.')"
   ]
  },
  {
   "cell_type": "markdown",
   "metadata": {},
   "source": [
    "В 2005 году типичный размер собранных в рамках одного раунда средств был максимален и составил 5,5 млн. руб.\n",
    "\n",
    "В 2013 году было сильно больше количество раундов по сравнению с предыдущими годами. Однако размер собранных в рамках одного раунда был на весьма низком уровне по сравнению со всей выборкой годов. Хотя в 2013 размер собранных средств в рамках одного раунда был больше чем в предыдущем году, это значение является самым низким за исключением 2012 г.. То есть тенденцию можно вкратце описать так: количество раундов неуклонно растет, а размер средств резко падает с 2005 г. с отметки в 5,5 млн. руб. до 1 млн. руб. в 2012 г. В  2013 г. появился незначительный рост (до 1,2 млн. руб.), но это не означает, что он продолжится дальше."
   ]
  },
  {
   "cell_type": "markdown",
   "metadata": {},
   "source": [
    "<div class=\"alert alert-success\">\n",
    "<h2> Комментарий ревьюера v1 <a class=\"tocSkip\"> </h2>\n",
    "\n",
    "<b>Все супер!👍:</b> Очень подробные и понятные ответы на вопросы заказчика по первой задаче, так держать!"
   ]
  },
  {
   "cell_type": "markdown",
   "metadata": {
    "id": "45if1en1rJg2"
   },
   "source": [
    "\n",
    "### 2.2. Люди и их образование\n",
    "\n",
    "Заказчик хочет понять, зависит ли полнота сведений о сотрудниках (например, об их образовании) от размера компаний.\n",
    "\n",
    "* Оцените, насколько информация об образовании сотрудников полна. Используя датасеты `people.csv` и `education.csv`, разделите все компании на несколько групп по количеству сотрудников и оцените среднюю долю сотрудников без информации об образовании в каждой из групп. Обоснуйте выбранные границы групп.\n",
    "\n",
    "* Оцените, возможно ли для выполнения задания присоединить к этим таблицам ещё и таблицу `degrees.csv`."
   ]
  },
  {
   "cell_type": "code",
   "execution_count": 162,
   "metadata": {
    "id": "psPO7C4MrJg2"
   },
   "outputs": [],
   "source": [
    "#Объединим датасеты people и education по столбцам id и person_id:\n",
    "people_education = people.merge(education, left_on='id', right_on='person_id', how='left')"
   ]
  },
  {
   "cell_type": "code",
   "execution_count": 163,
   "metadata": {
    "id": "xdQ6H5ZSn1ZM",
    "scrolled": true
   },
   "outputs": [
    {
     "name": "stdout",
     "output_type": "stream",
     "text": [
      "<class 'pandas.core.frame.DataFrame'>\n",
      "Int64Index: 267694 entries, 0 to 267693\n",
      "Data columns (total 9 columns):\n",
      " #   Column            Non-Null Count   Dtype         \n",
      "---  ------            --------------   -----         \n",
      " 0   id_x              267694 non-null  int32         \n",
      " 1   first_name        267689 non-null  object        \n",
      " 2   last_name         267693 non-null  object        \n",
      " 3   company_id        44789 non-null   float64       \n",
      " 4   network_username  50775 non-null   object        \n",
      " 5   id_y              109056 non-null  float64       \n",
      " 6   person_id         109056 non-null  float64       \n",
      " 7   instituition      109002 non-null  object        \n",
      " 8   graduated_at      57691 non-null   datetime64[ns]\n",
      "dtypes: datetime64[ns](1), float64(3), int32(1), object(4)\n",
      "memory usage: 19.4+ MB\n"
     ]
    },
    {
     "data": {
      "text/html": [
       "<div>\n",
       "<style scoped>\n",
       "    .dataframe tbody tr th:only-of-type {\n",
       "        vertical-align: middle;\n",
       "    }\n",
       "\n",
       "    .dataframe tbody tr th {\n",
       "        vertical-align: top;\n",
       "    }\n",
       "\n",
       "    .dataframe thead th {\n",
       "        text-align: right;\n",
       "    }\n",
       "</style>\n",
       "<table border=\"1\" class=\"dataframe\">\n",
       "  <thead>\n",
       "    <tr style=\"text-align: right;\">\n",
       "      <th></th>\n",
       "      <th>id_x</th>\n",
       "      <th>first_name</th>\n",
       "      <th>last_name</th>\n",
       "      <th>company_id</th>\n",
       "      <th>network_username</th>\n",
       "      <th>id_y</th>\n",
       "      <th>person_id</th>\n",
       "      <th>instituition</th>\n",
       "      <th>graduated_at</th>\n",
       "    </tr>\n",
       "  </thead>\n",
       "  <tbody>\n",
       "    <tr>\n",
       "      <th>0</th>\n",
       "      <td>10</td>\n",
       "      <td>Mark</td>\n",
       "      <td>Zuckerberg</td>\n",
       "      <td>5.0</td>\n",
       "      <td>NaN</td>\n",
       "      <td>2415.0</td>\n",
       "      <td>10.0</td>\n",
       "      <td>Harvard University</td>\n",
       "      <td>NaT</td>\n",
       "    </tr>\n",
       "    <tr>\n",
       "      <th>1</th>\n",
       "      <td>100</td>\n",
       "      <td>Peter</td>\n",
       "      <td>Lester</td>\n",
       "      <td>27.0</td>\n",
       "      <td>NaN</td>\n",
       "      <td>NaN</td>\n",
       "      <td>NaN</td>\n",
       "      <td>NaN</td>\n",
       "      <td>NaT</td>\n",
       "    </tr>\n",
       "    <tr>\n",
       "      <th>2</th>\n",
       "      <td>1000</td>\n",
       "      <td>Dr. Steven</td>\n",
       "      <td>E. Saunders</td>\n",
       "      <td>292.0</td>\n",
       "      <td>NaN</td>\n",
       "      <td>NaN</td>\n",
       "      <td>NaN</td>\n",
       "      <td>NaN</td>\n",
       "      <td>NaT</td>\n",
       "    </tr>\n",
       "    <tr>\n",
       "      <th>3</th>\n",
       "      <td>10000</td>\n",
       "      <td>Neil</td>\n",
       "      <td>Capel</td>\n",
       "      <td>2526.0</td>\n",
       "      <td>NaN</td>\n",
       "      <td>NaN</td>\n",
       "      <td>NaN</td>\n",
       "      <td>NaN</td>\n",
       "      <td>NaT</td>\n",
       "    </tr>\n",
       "    <tr>\n",
       "      <th>4</th>\n",
       "      <td>100000</td>\n",
       "      <td>Sue</td>\n",
       "      <td>Pilsch</td>\n",
       "      <td>NaN</td>\n",
       "      <td>NaN</td>\n",
       "      <td>NaN</td>\n",
       "      <td>NaN</td>\n",
       "      <td>NaN</td>\n",
       "      <td>NaT</td>\n",
       "    </tr>\n",
       "  </tbody>\n",
       "</table>\n",
       "</div>"
      ],
      "text/plain": [
       "     id_x  first_name    last_name  company_id network_username    id_y  \\\n",
       "0      10        Mark   Zuckerberg         5.0              NaN  2415.0   \n",
       "1     100       Peter       Lester        27.0              NaN     NaN   \n",
       "2    1000  Dr. Steven  E. Saunders       292.0              NaN     NaN   \n",
       "3   10000        Neil        Capel      2526.0              NaN     NaN   \n",
       "4  100000         Sue       Pilsch         NaN              NaN     NaN   \n",
       "\n",
       "   person_id        instituition graduated_at  \n",
       "0       10.0  Harvard University          NaT  \n",
       "1        NaN                 NaN          NaT  \n",
       "2        NaN                 NaN          NaT  \n",
       "3        NaN                 NaN          NaT  \n",
       "4        NaN                 NaN          NaT  "
      ]
     },
     "execution_count": 163,
     "metadata": {},
     "output_type": "execute_result"
    }
   ],
   "source": [
    "people_education.info()\n",
    "people_education.head()"
   ]
  },
  {
   "cell_type": "markdown",
   "metadata": {},
   "source": [
    "<div class=\"alert alert-success\">\n",
    "<h2> Комментарий ревьюера v1 <a class=\"tocSkip\"> </h2>\n",
    "\n",
    "<b>Все супер!👍:</b> Объединение проведено корректно! Выбрано верное значение параметра how"
   ]
  },
  {
   "cell_type": "code",
   "execution_count": 164,
   "metadata": {},
   "outputs": [],
   "source": [
    "#Сгруппируем в объединенном датасете по количесвту сотрудников в каждой компании:\n",
    "people_education['company_groups'] = people_education.groupby('company_id')['person_id'].count().sort_values(ascending=False)"
   ]
  },
  {
   "cell_type": "code",
   "execution_count": 165,
   "metadata": {},
   "outputs": [
    {
     "data": {
      "text/plain": [
       "0          NaN\n",
       "1          2.0\n",
       "2          1.0\n",
       "3          4.0\n",
       "4         17.0\n",
       "          ... \n",
       "267689     NaN\n",
       "267690     NaN\n",
       "267691     NaN\n",
       "267692     NaN\n",
       "267693     NaN\n",
       "Name: company_groups, Length: 267694, dtype: float64"
      ]
     },
     "execution_count": 165,
     "metadata": {},
     "output_type": "execute_result"
    }
   ],
   "source": [
    "people_education['company_groups']"
   ]
  },
  {
   "cell_type": "code",
   "execution_count": 166,
   "metadata": {},
   "outputs": [
    {
     "data": {
      "text/plain": [
       "array([ nan,   2.,   1.,   4.,  17.,  68.,   0.,  39.,   6.,  48.,   8.,\n",
       "         9.,  38., 181.,   5.,   7.,  15.,  10.,  24., 300.,  12.,  30.,\n",
       "         3.,  14.,  33.,  13.,  11.,  16.,  22.,  64.,  18.,  44.,  29.,\n",
       "        20.,  50.,  60.,  19., 155.,  54.,  40.,  26.,  42.,  82.,  72.,\n",
       "        25.,  28.,  31.,  97.])"
      ]
     },
     "execution_count": 166,
     "metadata": {},
     "output_type": "execute_result"
    }
   ],
   "source": [
    "#Посмотрим, какие значения в итоге вышли из количества сотрудников в каждой компании:\n",
    "people_education['company_groups'].unique()"
   ]
  },
  {
   "cell_type": "code",
   "execution_count": 167,
   "metadata": {},
   "outputs": [
    {
     "data": {
      "text/plain": [
       "0.0      9080\n",
       "1.0      6416\n",
       "2.0      3838\n",
       "3.0      1366\n",
       "4.0       580\n",
       "5.0       294\n",
       "6.0       157\n",
       "7.0       105\n",
       "8.0        68\n",
       "9.0        39\n",
       "10.0       25\n",
       "12.0       17\n",
       "13.0       14\n",
       "11.0       13\n",
       "17.0       13\n",
       "14.0        9\n",
       "15.0        7\n",
       "22.0        5\n",
       "16.0        4\n",
       "19.0        4\n",
       "24.0        3\n",
       "18.0        3\n",
       "20.0        3\n",
       "39.0        2\n",
       "38.0        2\n",
       "29.0        2\n",
       "44.0        1\n",
       "68.0        1\n",
       "300.0       1\n",
       "31.0        1\n",
       "60.0        1\n",
       "26.0        1\n",
       "54.0        1\n",
       "25.0        1\n",
       "155.0       1\n",
       "72.0        1\n",
       "181.0       1\n",
       "28.0        1\n",
       "40.0        1\n",
       "97.0        1\n",
       "82.0        1\n",
       "64.0        1\n",
       "50.0        1\n",
       "48.0        1\n",
       "33.0        1\n",
       "42.0        1\n",
       "30.0        1\n",
       "Name: company_groups, dtype: int64"
      ]
     },
     "execution_count": 167,
     "metadata": {},
     "output_type": "execute_result"
    }
   ],
   "source": [
    "#А также сколько значений встречается в каждой группе:\n",
    "people_education['company_groups'].value_counts()"
   ]
  },
  {
   "cell_type": "code",
   "execution_count": 168,
   "metadata": {},
   "outputs": [
    {
     "data": {
      "text/plain": [
       "count    22090.000000\n",
       "mean         1.265776\n",
       "std          3.460183\n",
       "min          0.000000\n",
       "25%          0.000000\n",
       "50%          1.000000\n",
       "75%          2.000000\n",
       "max        300.000000\n",
       "Name: company_groups, dtype: float64"
      ]
     },
     "execution_count": 168,
     "metadata": {},
     "output_type": "execute_result"
    }
   ],
   "source": [
    "people_education['company_groups'].describe()"
   ]
  },
  {
   "cell_type": "code",
   "execution_count": 169,
   "metadata": {},
   "outputs": [
    {
     "data": {
      "text/plain": [
       "Text(0, 0.5, 'Количество компаний')"
      ]
     },
     "execution_count": 169,
     "metadata": {},
     "output_type": "execute_result"
    },
    {
     "data": {
      "image/png": "[encoded data removed]",
      "text/plain": [
       "<Figure size 720x576 with 1 Axes>"
      ]
     },
     "metadata": {
      "needs_background": "light"
     },
     "output_type": "display_data"
    }
   ],
   "source": [
    "people_education.boxplot(column='company_groups', figsize=(10,8))\n",
    "plt.title('Распределение количества сотрудников по компаниям')\n",
    "plt.xlabel('Количество сотрудников') \n",
    "plt.ylabel('Количество компаний')"
   ]
  },
  {
   "cell_type": "markdown",
   "metadata": {},
   "source": [
    "Ззначения разбиты от 0 до 300. Большая часть значений варьируется в пределах от 0 до 3. От 4 до 7 значений больше 100 в каждой группе. От 7 до 29 значений более 1. Далее значения встречаются лишь по одному разу в каждом числе. Исходя из этого можно разбить компании на группы: компании с 1 сотрудником, от 2 до 10, от 10 до 30, от 30 до 100 и более 100. Отдельно выделить компании с отсутсвием персонала и с отсутсвием информации."
   ]
  },
  {
   "cell_type": "markdown",
   "metadata": {},
   "source": [
    "<div class=\"alert alert-warning\">\n",
    "    <h2> Комментарий ревьюера v1 <a class=\"tocSkip\"> </h2>\n",
    "    \n",
    "<b>Небольшие замечания и рекомендации💡:</b>Хорошо, что ты обратил внимание на особенности распределения количества сотрудников в компаниях. Это позволяет аргументировать критерии категоризации и в этом все верно.\n",
    "        \n",
    "Но хочу заметить. что многие компании имют в штате одного сотрудника и можно выделить их в отдельную группу. Для объективного сравнения лучше по возможности делать группы равного/близкого размера"
   ]
  },
  {
   "cell_type": "markdown",
   "metadata": {},
   "source": [
    "<div class=\"alert alert-info\"> <b> Ниже я изменил составы групп. Выделил отдельную группу, где только один человек.</div>"
   ]
  },
  {
   "cell_type": "markdown",
   "metadata": {},
   "source": [
    "<div class=\"alert alert-success\">\n",
    "<h2> Комментарий ревьюера v2 <a class=\"tocSkip\"> </h2>\n",
    "\n",
    "<b>Все супер!👍:</b> "
   ]
  },
  {
   "cell_type": "code",
   "execution_count": 170,
   "metadata": {},
   "outputs": [],
   "source": [
    "def get_employee_group(num_employees):\n",
    "    if num_employees < 2:\n",
    "        return 'Very Small'\n",
    "    elif num_employees < 10:\n",
    "        return 'Small'\n",
    "    elif num_employees < 30:\n",
    "        return 'Medium'\n",
    "    elif num_employees < 100:\n",
    "        return 'Big'\n",
    "    elif num_employees < 350:\n",
    "        return 'Very Big'\n",
    "    elif num_employees == 0:\n",
    "        return 'Zero'\n",
    "    else:\n",
    "        return 'No data'"
   ]
  },
  {
   "cell_type": "code",
   "execution_count": 171,
   "metadata": {},
   "outputs": [],
   "source": [
    "people_education['company_groups_size'] = people_education['company_groups'].apply(get_employee_group)"
   ]
  },
  {
   "cell_type": "code",
   "execution_count": 172,
   "metadata": {},
   "outputs": [],
   "source": [
    "#Создадим столбец, где будет показано, есть ли данные по образованию:\n",
    "def no_data_education(instituition):\n",
    "    if pd.isna(instituition):\n",
    "        return 'Нет данных'\n",
    "    else:\n",
    "        return 'Есть данные'"
   ]
  },
  {
   "cell_type": "code",
   "execution_count": 173,
   "metadata": {},
   "outputs": [],
   "source": [
    "people_education['Наличии информации об образовании'] = people_education['instituition'].apply(no_data_education)"
   ]
  },
  {
   "cell_type": "code",
   "execution_count": 174,
   "metadata": {},
   "outputs": [
    {
     "data": {
      "text/html": [
       "<div>\n",
       "<style scoped>\n",
       "    .dataframe tbody tr th:only-of-type {\n",
       "        vertical-align: middle;\n",
       "    }\n",
       "\n",
       "    .dataframe tbody tr th {\n",
       "        vertical-align: top;\n",
       "    }\n",
       "\n",
       "    .dataframe thead th {\n",
       "        text-align: right;\n",
       "    }\n",
       "</style>\n",
       "<table border=\"1\" class=\"dataframe\">\n",
       "  <thead>\n",
       "    <tr style=\"text-align: right;\">\n",
       "      <th></th>\n",
       "      <th>id_x</th>\n",
       "      <th>first_name</th>\n",
       "      <th>last_name</th>\n",
       "      <th>company_id</th>\n",
       "      <th>network_username</th>\n",
       "      <th>id_y</th>\n",
       "      <th>person_id</th>\n",
       "      <th>instituition</th>\n",
       "      <th>graduated_at</th>\n",
       "      <th>company_groups</th>\n",
       "      <th>company_groups_size</th>\n",
       "      <th>Наличии информации об образовании</th>\n",
       "    </tr>\n",
       "  </thead>\n",
       "  <tbody>\n",
       "    <tr>\n",
       "      <th>0</th>\n",
       "      <td>10</td>\n",
       "      <td>Mark</td>\n",
       "      <td>Zuckerberg</td>\n",
       "      <td>5.0</td>\n",
       "      <td>NaN</td>\n",
       "      <td>2415.0</td>\n",
       "      <td>10.0</td>\n",
       "      <td>Harvard University</td>\n",
       "      <td>NaT</td>\n",
       "      <td>NaN</td>\n",
       "      <td>No data</td>\n",
       "      <td>Есть данные</td>\n",
       "    </tr>\n",
       "    <tr>\n",
       "      <th>1</th>\n",
       "      <td>100</td>\n",
       "      <td>Peter</td>\n",
       "      <td>Lester</td>\n",
       "      <td>27.0</td>\n",
       "      <td>NaN</td>\n",
       "      <td>NaN</td>\n",
       "      <td>NaN</td>\n",
       "      <td>NaN</td>\n",
       "      <td>NaT</td>\n",
       "      <td>2.0</td>\n",
       "      <td>Small</td>\n",
       "      <td>Нет данных</td>\n",
       "    </tr>\n",
       "    <tr>\n",
       "      <th>2</th>\n",
       "      <td>1000</td>\n",
       "      <td>Dr. Steven</td>\n",
       "      <td>E. Saunders</td>\n",
       "      <td>292.0</td>\n",
       "      <td>NaN</td>\n",
       "      <td>NaN</td>\n",
       "      <td>NaN</td>\n",
       "      <td>NaN</td>\n",
       "      <td>NaT</td>\n",
       "      <td>1.0</td>\n",
       "      <td>Very Small</td>\n",
       "      <td>Нет данных</td>\n",
       "    </tr>\n",
       "    <tr>\n",
       "      <th>3</th>\n",
       "      <td>10000</td>\n",
       "      <td>Neil</td>\n",
       "      <td>Capel</td>\n",
       "      <td>2526.0</td>\n",
       "      <td>NaN</td>\n",
       "      <td>NaN</td>\n",
       "      <td>NaN</td>\n",
       "      <td>NaN</td>\n",
       "      <td>NaT</td>\n",
       "      <td>4.0</td>\n",
       "      <td>Small</td>\n",
       "      <td>Нет данных</td>\n",
       "    </tr>\n",
       "    <tr>\n",
       "      <th>4</th>\n",
       "      <td>100000</td>\n",
       "      <td>Sue</td>\n",
       "      <td>Pilsch</td>\n",
       "      <td>NaN</td>\n",
       "      <td>NaN</td>\n",
       "      <td>NaN</td>\n",
       "      <td>NaN</td>\n",
       "      <td>NaN</td>\n",
       "      <td>NaT</td>\n",
       "      <td>17.0</td>\n",
       "      <td>Medium</td>\n",
       "      <td>Нет данных</td>\n",
       "    </tr>\n",
       "  </tbody>\n",
       "</table>\n",
       "</div>"
      ],
      "text/plain": [
       "     id_x  first_name    last_name  company_id network_username    id_y  \\\n",
       "0      10        Mark   Zuckerberg         5.0              NaN  2415.0   \n",
       "1     100       Peter       Lester        27.0              NaN     NaN   \n",
       "2    1000  Dr. Steven  E. Saunders       292.0              NaN     NaN   \n",
       "3   10000        Neil        Capel      2526.0              NaN     NaN   \n",
       "4  100000         Sue       Pilsch         NaN              NaN     NaN   \n",
       "\n",
       "   person_id        instituition graduated_at  company_groups  \\\n",
       "0       10.0  Harvard University          NaT             NaN   \n",
       "1        NaN                 NaN          NaT             2.0   \n",
       "2        NaN                 NaN          NaT             1.0   \n",
       "3        NaN                 NaN          NaT             4.0   \n",
       "4        NaN                 NaN          NaT            17.0   \n",
       "\n",
       "  company_groups_size Наличии информации об образовании  \n",
       "0             No data                       Есть данные  \n",
       "1               Small                        Нет данных  \n",
       "2          Very Small                        Нет данных  \n",
       "3               Small                        Нет данных  \n",
       "4              Medium                        Нет данных  "
      ]
     },
     "execution_count": 174,
     "metadata": {},
     "output_type": "execute_result"
    }
   ],
   "source": [
    "people_education.head()"
   ]
  },
  {
   "cell_type": "code",
   "execution_count": 175,
   "metadata": {},
   "outputs": [
    {
     "data": {
      "text/plain": [
       "array(['Есть данные', 'Нет данных'], dtype=object)"
      ]
     },
     "execution_count": 175,
     "metadata": {},
     "output_type": "execute_result"
    }
   ],
   "source": [
    "people_education['Наличии информации об образовании'].unique()"
   ]
  },
  {
   "cell_type": "code",
   "execution_count": 176,
   "metadata": {},
   "outputs": [],
   "source": [
    "#Создадим функцию по доле сотрудников, у которых нет информации об образовании внутри групп по размеру компаний:\n",
    "no_data_education_share = people_education.groupby('company_groups_size')['Наличии информации об образовании'].value_counts(normalize=True).unstack(fill_value=0)"
   ]
  },
  {
   "cell_type": "code",
   "execution_count": 177,
   "metadata": {},
   "outputs": [],
   "source": [
    "if 'Есть данные' in no_data_education_share.columns:\n",
    "    no_data_education_share = no_data_education_share.drop('Есть данные', axis=1)"
   ]
  },
  {
   "cell_type": "code",
   "execution_count": 178,
   "metadata": {},
   "outputs": [
    {
     "data": {
      "text/plain": [
       "<AxesSubplot:title={'center':'Зависимсоть полноты информации от размера компании'}, xlabel='Доля сотрудников, о которых нет данных про образование', ylabel='Размера компании'>"
      ]
     },
     "execution_count": 178,
     "metadata": {},
     "output_type": "execute_result"
    },
    {
     "data": {
      "image/png": "[encoded data removed]",
      "text/plain": [
       "<Figure size 720x576 with 1 Axes>"
      ]
     },
     "metadata": {
      "needs_background": "light"
     },
     "output_type": "display_data"
    }
   ],
   "source": [
    "no_data_education_share.plot(kind='bar', figsize=(10,8), \n",
    "                                      title='Зависимсоть полноты информации от размера компании',\n",
    "                                     xlabel='Доля сотрудников, о которых нет данных про образование', ylabel='Размера компании',\n",
    "                            legend=False)"
   ]
  },
  {
   "cell_type": "markdown",
   "metadata": {},
   "source": [
    "По графику видно, что данные весьма неполные. Во всех группах данные об образовании отсутсвуют практически в 60% случаев. Больше всего пропусков для очень больших компаний, меньше всего - для средних."
   ]
  },
  {
   "cell_type": "markdown",
   "metadata": {},
   "source": [
    "<div class=\"alert alert-info\"> <b> Далее я произвед объединение по выбору inner и по столбцам person_id и object_id </div>"
   ]
  },
  {
   "cell_type": "code",
   "execution_count": 179,
   "metadata": {},
   "outputs": [],
   "source": [
    "#Объединим датасет people_education с датасетом degrees по столбцам object_id и person_id:\n",
    "people_education_degrees = people_education.merge(degrees, left_on='person_id', right_on='object_id', how='left')"
   ]
  },
  {
   "cell_type": "code",
   "execution_count": 180,
   "metadata": {
    "scrolled": true
   },
   "outputs": [
    {
     "name": "stdout",
     "output_type": "stream",
     "text": [
      "<class 'pandas.core.frame.DataFrame'>\n",
      "Int64Index: 370836 entries, 0 to 370835\n",
      "Data columns (total 16 columns):\n",
      " #   Column                             Non-Null Count   Dtype         \n",
      "---  ------                             --------------   -----         \n",
      " 0   id_x                               370836 non-null  int32         \n",
      " 1   first_name                         370831 non-null  object        \n",
      " 2   last_name                          370835 non-null  object        \n",
      " 3   company_id                         70869 non-null   float64       \n",
      " 4   network_username                   81529 non-null   object        \n",
      " 5   id_y                               212198 non-null  float64       \n",
      " 6   person_id                          212198 non-null  float64       \n",
      " 7   instituition                       212109 non-null  object        \n",
      " 8   graduated_at                       113991 non-null  datetime64[ns]\n",
      " 9   company_groups                     29772 non-null   float64       \n",
      " 10  company_groups_size                370836 non-null  object        \n",
      " 11  Наличии информации об образовании  370836 non-null  object        \n",
      " 12  id                                 212198 non-null  float64       \n",
      " 13  object_id                          212198 non-null  float64       \n",
      " 14  degree_type                        190722 non-null  object        \n",
      " 15  subject                            156477 non-null  object        \n",
      "dtypes: datetime64[ns](1), float64(6), int32(1), object(8)\n",
      "memory usage: 46.7+ MB\n"
     ]
    },
    {
     "data": {
      "text/html": [
       "<div>\n",
       "<style scoped>\n",
       "    .dataframe tbody tr th:only-of-type {\n",
       "        vertical-align: middle;\n",
       "    }\n",
       "\n",
       "    .dataframe tbody tr th {\n",
       "        vertical-align: top;\n",
       "    }\n",
       "\n",
       "    .dataframe thead th {\n",
       "        text-align: right;\n",
       "    }\n",
       "</style>\n",
       "<table border=\"1\" class=\"dataframe\">\n",
       "  <thead>\n",
       "    <tr style=\"text-align: right;\">\n",
       "      <th></th>\n",
       "      <th>id_x</th>\n",
       "      <th>first_name</th>\n",
       "      <th>last_name</th>\n",
       "      <th>company_id</th>\n",
       "      <th>network_username</th>\n",
       "      <th>id_y</th>\n",
       "      <th>person_id</th>\n",
       "      <th>instituition</th>\n",
       "      <th>graduated_at</th>\n",
       "      <th>company_groups</th>\n",
       "      <th>company_groups_size</th>\n",
       "      <th>Наличии информации об образовании</th>\n",
       "      <th>id</th>\n",
       "      <th>object_id</th>\n",
       "      <th>degree_type</th>\n",
       "      <th>subject</th>\n",
       "    </tr>\n",
       "  </thead>\n",
       "  <tbody>\n",
       "    <tr>\n",
       "      <th>0</th>\n",
       "      <td>10</td>\n",
       "      <td>Mark</td>\n",
       "      <td>Zuckerberg</td>\n",
       "      <td>5.0</td>\n",
       "      <td>NaN</td>\n",
       "      <td>2415.0</td>\n",
       "      <td>10.0</td>\n",
       "      <td>Harvard University</td>\n",
       "      <td>NaT</td>\n",
       "      <td>NaN</td>\n",
       "      <td>No data</td>\n",
       "      <td>Есть данные</td>\n",
       "      <td>2415.0</td>\n",
       "      <td>10.0</td>\n",
       "      <td>NaN</td>\n",
       "      <td>Computer Science</td>\n",
       "    </tr>\n",
       "    <tr>\n",
       "      <th>1</th>\n",
       "      <td>100</td>\n",
       "      <td>Peter</td>\n",
       "      <td>Lester</td>\n",
       "      <td>27.0</td>\n",
       "      <td>NaN</td>\n",
       "      <td>NaN</td>\n",
       "      <td>NaN</td>\n",
       "      <td>NaN</td>\n",
       "      <td>NaT</td>\n",
       "      <td>2.0</td>\n",
       "      <td>Small</td>\n",
       "      <td>Нет данных</td>\n",
       "      <td>NaN</td>\n",
       "      <td>NaN</td>\n",
       "      <td>NaN</td>\n",
       "      <td>NaN</td>\n",
       "    </tr>\n",
       "    <tr>\n",
       "      <th>2</th>\n",
       "      <td>1000</td>\n",
       "      <td>Dr. Steven</td>\n",
       "      <td>E. Saunders</td>\n",
       "      <td>292.0</td>\n",
       "      <td>NaN</td>\n",
       "      <td>NaN</td>\n",
       "      <td>NaN</td>\n",
       "      <td>NaN</td>\n",
       "      <td>NaT</td>\n",
       "      <td>1.0</td>\n",
       "      <td>Very Small</td>\n",
       "      <td>Нет данных</td>\n",
       "      <td>NaN</td>\n",
       "      <td>NaN</td>\n",
       "      <td>NaN</td>\n",
       "      <td>NaN</td>\n",
       "    </tr>\n",
       "    <tr>\n",
       "      <th>3</th>\n",
       "      <td>10000</td>\n",
       "      <td>Neil</td>\n",
       "      <td>Capel</td>\n",
       "      <td>2526.0</td>\n",
       "      <td>NaN</td>\n",
       "      <td>NaN</td>\n",
       "      <td>NaN</td>\n",
       "      <td>NaN</td>\n",
       "      <td>NaT</td>\n",
       "      <td>4.0</td>\n",
       "      <td>Small</td>\n",
       "      <td>Нет данных</td>\n",
       "      <td>NaN</td>\n",
       "      <td>NaN</td>\n",
       "      <td>NaN</td>\n",
       "      <td>NaN</td>\n",
       "    </tr>\n",
       "    <tr>\n",
       "      <th>4</th>\n",
       "      <td>100000</td>\n",
       "      <td>Sue</td>\n",
       "      <td>Pilsch</td>\n",
       "      <td>NaN</td>\n",
       "      <td>NaN</td>\n",
       "      <td>NaN</td>\n",
       "      <td>NaN</td>\n",
       "      <td>NaN</td>\n",
       "      <td>NaT</td>\n",
       "      <td>17.0</td>\n",
       "      <td>Medium</td>\n",
       "      <td>Нет данных</td>\n",
       "      <td>NaN</td>\n",
       "      <td>NaN</td>\n",
       "      <td>NaN</td>\n",
       "      <td>NaN</td>\n",
       "    </tr>\n",
       "  </tbody>\n",
       "</table>\n",
       "</div>"
      ],
      "text/plain": [
       "     id_x  first_name    last_name  company_id network_username    id_y  \\\n",
       "0      10        Mark   Zuckerberg         5.0              NaN  2415.0   \n",
       "1     100       Peter       Lester        27.0              NaN     NaN   \n",
       "2    1000  Dr. Steven  E. Saunders       292.0              NaN     NaN   \n",
       "3   10000        Neil        Capel      2526.0              NaN     NaN   \n",
       "4  100000         Sue       Pilsch         NaN              NaN     NaN   \n",
       "\n",
       "   person_id        instituition graduated_at  company_groups  \\\n",
       "0       10.0  Harvard University          NaT             NaN   \n",
       "1        NaN                 NaN          NaT             2.0   \n",
       "2        NaN                 NaN          NaT             1.0   \n",
       "3        NaN                 NaN          NaT             4.0   \n",
       "4        NaN                 NaN          NaT            17.0   \n",
       "\n",
       "  company_groups_size Наличии информации об образовании      id  object_id  \\\n",
       "0             No data                       Есть данные  2415.0       10.0   \n",
       "1               Small                        Нет данных     NaN        NaN   \n",
       "2          Very Small                        Нет данных     NaN        NaN   \n",
       "3               Small                        Нет данных     NaN        NaN   \n",
       "4              Medium                        Нет данных     NaN        NaN   \n",
       "\n",
       "  degree_type           subject  \n",
       "0         NaN  Computer Science  \n",
       "1         NaN               NaN  \n",
       "2         NaN               NaN  \n",
       "3         NaN               NaN  \n",
       "4         NaN               NaN  "
      ]
     },
     "execution_count": 180,
     "metadata": {},
     "output_type": "execute_result"
    }
   ],
   "source": [
    "people_education_degrees.info()\n",
    "people_education_degrees.head()"
   ]
  },
  {
   "cell_type": "code",
   "execution_count": 181,
   "metadata": {},
   "outputs": [],
   "source": [
    "#Создадим аналогичную визуализацию для нового датасета people_education_degrees:\n",
    "no_data_education_share_with_degree = people_education_degrees.groupby('company_groups_size')['Наличии информации об образовании'].value_counts(normalize=True).unstack(fill_value=0)"
   ]
  },
  {
   "cell_type": "code",
   "execution_count": 182,
   "metadata": {},
   "outputs": [],
   "source": [
    "if 'Есть данные' in no_data_education_share_with_degree.columns:\n",
    "    no_data_education_share_with_degree = no_data_education_share_with_degree.drop('Есть данные', axis=1)"
   ]
  },
  {
   "cell_type": "code",
   "execution_count": 183,
   "metadata": {},
   "outputs": [
    {
     "data": {
      "text/plain": [
       "<AxesSubplot:title={'center':'Зависимсоть полноты информации от размера компании (вместе с ифнормацией о типе образования сотрудника)'}, xlabel='Доля сотрудников, о которых нет данных про образование', ylabel='Размера компании'>"
      ]
     },
     "execution_count": 183,
     "metadata": {},
     "output_type": "execute_result"
    },
    {
     "data": {
      "image/png": "[encoded data removed]",
      "text/plain": [
       "<Figure size 720x576 with 1 Axes>"
      ]
     },
     "metadata": {
      "needs_background": "light"
     },
     "output_type": "display_data"
    }
   ],
   "source": [
    "no_data_education_share_with_degree.plot(kind='bar', figsize=(10,8), \n",
    "                                      title='Зависимсоть полноты информации от размера компании (вместе с ифнормацией о типе образования сотрудника)',\n",
    "                                     xlabel='Доля сотрудников, о которых нет данных про образование', ylabel='Размера компании', legend=False)"
   ]
  },
  {
   "cell_type": "markdown",
   "metadata": {},
   "source": [
    "Объединенный датасет people_education можно объединить с датасетом degrees по индентификатора сторудника/работника (object_id/person_id)."
   ]
  },
  {
   "cell_type": "markdown",
   "metadata": {},
   "source": [
    "<div class=\"alert alert-block alert-danger\">\n",
    "<h2> Комментарий ревьюера v1<a class=\"tocSkip\"></h2>\n",
    "\n",
    "<b>На доработку🤔:</b> Это произошло из-за выбора `inner` в качестве параметра объединения. Действительно не корректно терять часть данных по компаниям. В целом присоединение таблицы поможет получить информацию о типе образования или нескольких образованиях у одного сотрудника. Это может быть полезно для некоторых отрослей, например медицины, где ценится \"уровень\" образования.\n",
    "    \n",
    "Также обрати внимание на лишний строковый индекс в `object_id`, если его убрать это позволит использовать именно столбцы object_id/person_id для корректного объединения."
   ]
  },
  {
   "cell_type": "markdown",
   "metadata": {},
   "source": [
    "<div class=\"alert alert-warning\">\n",
    "    <h2> Комментарий ревьюера v2 <a class=\"tocSkip\"> </h2>\n",
    "    \n",
    "<b>Небольшие замечания и рекомендации💡:</b> Все верно, можно добавить небольшой вывод в котором указать например, что большие крупные компании внимателнее относятся к сбору информации об образовании"
   ]
  },
  {
   "cell_type": "markdown",
   "metadata": {},
   "source": [
    "### 2.3. Объединять или не объединять — вот в чём вопрос\n",
    "\n",
    "Некоторые названия столбцов встречаются в датасетах чаще других. И, например, в результате предварительной проверки датасетов было выяснено, что столбец `company_id` подходит для объединения данных, так как большая часть значений встречается в разных датасетах не один, а несколько раз. Этот столбец может быть использован для объединения данных.\n",
    "\n",
    "* Установите, подходит ли для объединения данных столбец `network_username`, который встречается в нескольких датасетах. Нам необходимо понимать, дублируется ли для разных датасетов информация в столбцах с таким названием, и если да — то насколько часто.\n",
    "\n",
    "* Оцените, можно ли использовать столбцы с именем `network_username` для объединения данных."
   ]
  },
  {
   "cell_type": "markdown",
   "metadata": {
    "id": "Cf5IjfOQrJg1"
   },
   "source": [
    "Столбец network_username встречается в трех датасетах: company_and_rounds, people и fund. В первом датасете этот столбец означает ник компании, во втором - ник сотрудника, а в третьем - ник фонда. То есть столбцы в разных датасетах с одинковыми названими хранят разные данные, а значит использовать их для объединения нельзя."
   ]
  },
  {
   "cell_type": "markdown",
   "metadata": {},
   "source": [
    "Проверим эту гипотезу. Для начала проверим уникальность. Определим, является ли столбец network_username уникальным идентификатором в каждом датасете. Используем df['network_username'].nunique() и len(df) для сравнения количества уникальных значений и общего количества строк. Если nunique() равен len(df), то столбец уникален. \n",
    "В идеале, столбец должен быть уникальным хотя бы в одном из датасетов, который будет выступать в качестве \"основного\" при объединении."
   ]
  },
  {
   "cell_type": "code",
   "execution_count": 184,
   "metadata": {},
   "outputs": [
    {
     "data": {
      "text/plain": [
       "79571"
      ]
     },
     "execution_count": 184,
     "metadata": {},
     "output_type": "execute_result"
    }
   ],
   "source": [
    "company_and_rounds['network  username'].nunique()"
   ]
  },
  {
   "cell_type": "code",
   "execution_count": 185,
   "metadata": {},
   "outputs": [
    {
     "data": {
      "text/plain": [
       "217774"
      ]
     },
     "execution_count": 185,
     "metadata": {},
     "output_type": "execute_result"
    }
   ],
   "source": [
    "len(company_and_rounds)"
   ]
  },
  {
   "cell_type": "code",
   "execution_count": 186,
   "metadata": {},
   "outputs": [
    {
     "data": {
      "text/plain": [
       "38421"
      ]
     },
     "execution_count": 186,
     "metadata": {},
     "output_type": "execute_result"
    }
   ],
   "source": [
    "people['network_username'].nunique()"
   ]
  },
  {
   "cell_type": "code",
   "execution_count": 187,
   "metadata": {},
   "outputs": [
    {
     "data": {
      "text/plain": [
       "226709"
      ]
     },
     "execution_count": 187,
     "metadata": {},
     "output_type": "execute_result"
    }
   ],
   "source": [
    "len(people)"
   ]
  },
  {
   "cell_type": "code",
   "execution_count": 188,
   "metadata": {},
   "outputs": [
    {
     "data": {
      "text/plain": [
       "2098"
      ]
     },
     "execution_count": 188,
     "metadata": {},
     "output_type": "execute_result"
    }
   ],
   "source": [
    "fund['network_username'].nunique()"
   ]
  },
  {
   "cell_type": "code",
   "execution_count": 189,
   "metadata": {},
   "outputs": [
    {
     "data": {
      "text/plain": [
       "11652"
      ]
     },
     "execution_count": 189,
     "metadata": {},
     "output_type": "execute_result"
    }
   ],
   "source": [
    "len(fund)"
   ]
  },
  {
   "cell_type": "markdown",
   "metadata": {},
   "source": [
    "Получается, что во всех трех датасетах уникальные значения столбца network_username значительно меньше длины датасета, что свидетельствует о том, что этот столбец не подходит для объединения датасетов."
   ]
  },
  {
   "cell_type": "markdown",
   "metadata": {},
   "source": [
    "Далее проверим пропущенные значения. Большая доля пропущенных значений может снизить эффективность объединения."
   ]
  },
  {
   "cell_type": "code",
   "execution_count": 190,
   "metadata": {},
   "outputs": [
    {
     "data": {
      "text/plain": [
       "0.5613158595608291"
      ]
     },
     "execution_count": 190,
     "metadata": {},
     "output_type": "execute_result"
    }
   ],
   "source": [
    "company_and_rounds['network  username'].isnull().sum()/company_and_rounds.shape[0]"
   ]
  },
  {
   "cell_type": "code",
   "execution_count": 191,
   "metadata": {},
   "outputs": [
    {
     "data": {
      "text/plain": [
       "0.8285599601250943"
      ]
     },
     "execution_count": 191,
     "metadata": {},
     "output_type": "execute_result"
    }
   ],
   "source": [
    "people['network_username'].isnull().sum()/people.shape[0]"
   ]
  },
  {
   "cell_type": "code",
   "execution_count": 192,
   "metadata": {},
   "outputs": [
    {
     "data": {
      "text/plain": [
       "0.8155681428081016"
      ]
     },
     "execution_count": 192,
     "metadata": {},
     "output_type": "execute_result"
    }
   ],
   "source": [
    "fund['network_username'].isnull().sum()/fund.shape[0]"
   ]
  },
  {
   "cell_type": "markdown",
   "metadata": {},
   "source": [
    "Во всех трех датасетах доля пропусков у столбца network_username более 50%. Самое низкое значение в датасете company_and_rounds - 56%, но и оно велико. В отсальных двух датасетах доля пропусков более 80%. Такие большие доли пропусков могут означать, что этот столбец не подходит для объединения."
   ]
  },
  {
   "cell_type": "markdown",
   "metadata": {},
   "source": [
    "Изучим примеры значений. Выведим несколько примеров значений в столбце network_username каждого датасета, чтобы убедиться, что они представляют собой одно и то же."
   ]
  },
  {
   "cell_type": "code",
   "execution_count": 193,
   "metadata": {},
   "outputs": [
    {
     "data": {
      "text/plain": [
       "array(['BachelrWetpaint', nan, 'Hostnine', ..., 'networkzend',\n",
       "       'pPhotonet', 'Photonet'], dtype=object)"
      ]
     },
     "execution_count": 193,
     "metadata": {},
     "output_type": "execute_result"
    }
   ],
   "source": [
    "company_and_rounds['network  username'].unique()"
   ]
  },
  {
   "cell_type": "code",
   "execution_count": 194,
   "metadata": {},
   "outputs": [
    {
     "data": {
      "text/plain": [
       "array([nan, 'jobsbostontech', 'fbroulette', ..., 'itechsocialnet',\n",
       "       'socialnethubs', 'esocialnetlike'], dtype=object)"
      ]
     },
     "execution_count": 194,
     "metadata": {},
     "output_type": "execute_result"
    }
   ],
   "source": [
    "people['network_username'].unique()"
   ]
  },
  {
   "cell_type": "code",
   "execution_count": 195,
   "metadata": {},
   "outputs": [
    {
     "data": {
      "text/plain": [
       "array([nan, 'greylockvc', 'imi_vc', ..., 'CalSTRS', 'haystack_fund',\n",
       "       'fbFund'], dtype=object)"
      ]
     },
     "execution_count": 195,
     "metadata": {},
     "output_type": "execute_result"
    }
   ],
   "source": [
    "fund['network_username'].unique()"
   ]
  },
  {
   "cell_type": "markdown",
   "metadata": {},
   "source": [
    "Как видим, примеры значений в 3-х датасетах совершенно разные."
   ]
  },
  {
   "cell_type": "markdown",
   "metadata": {},
   "source": [
    "В итоге делаем вывод, что наша гипотеза подвтердилась, и столбец network_username для объединения датасетов не подходит."
   ]
  },
  {
   "cell_type": "markdown",
   "metadata": {},
   "source": [
    "<div class=\"alert alert-success\">\n",
    "<h2> Комментарий ревьюера v1 <a class=\"tocSkip\"> </h2>\n",
    "\n",
    "<b>Все супер!👍:</b> Николай, полностью согласен, обычно из объединения с малым количеством пересечений и большим пропусков ничего хорошего не выходит"
   ]
  },
  {
   "cell_type": "markdown",
   "metadata": {
    "id": "EHcODomVrJg1"
   },
   "source": [
    "\n",
    "### 2.4. Проблемный датасет и причина возникновения пропусков\n",
    "\n",
    "Во время собственного анализа данных у заказчика больше всего вопросов возникло к датасету `company_and_rounds.csv`. В нём много пропусков как раз в информации о раундах, которая заказчику важна. Хотя информация об общем объёме финансирования по раундам присутствует в других датасетах, заказчик считает данные `company_and_rounds.csv` о размере средств наиболее верными.\n",
    "\n",
    "* Любым удобным способом приведите данные в вид, который позволяет проводить анализ в разрезе отдельных компаний. Можно изменять форму данных, порядок их хранения. Обратите внимание на структуру датасета, порядок и названия столбцов, проанализируйте значения.\n",
    "\n",
    "По гипотезе заказчика данные по компаниям из этой таблицы раньше хранились иначе, более удобным для исследования образом.\n",
    "\n",
    "* Максимальным образом сохраняя данные, сохранив их связность и исключив возможные возникающие при этом ошибки, подготовьте данные так, чтобы удобно было отобрать компании по параметрам и рассчитать показатели из расчёта на одну компанию."
   ]
  },
  {
   "cell_type": "code",
   "execution_count": 196,
   "metadata": {
    "id": "tJ6Sl6MKrJg1"
   },
   "outputs": [
    {
     "name": "stdout",
     "output_type": "stream",
     "text": [
      "<class 'pandas.core.frame.DataFrame'>\n",
      "RangeIndex: 217774 entries, 0 to 217773\n",
      "Data columns (total 25 columns):\n",
      " #   Column                 Non-Null Count   Dtype         \n",
      "---  ------                 --------------   -----         \n",
      " 0   company  ID            217472 non-null  float64       \n",
      " 1   name                   217472 non-null  object        \n",
      " 2   category  code         143886 non-null  object        \n",
      " 3   status                 217472 non-null  object        \n",
      " 4   founded  at            109956 non-null  datetime64[ns]\n",
      " 5   closed  at             3449 non-null    datetime64[ns]\n",
      " 6   domain                 147159 non-null  object        \n",
      " 7   network  username      95534 non-null   object        \n",
      " 8   country  code          108607 non-null  object        \n",
      " 9   investment  rounds     217472 non-null  float64       \n",
      " 10  funding  rounds        217472 non-null  float64       \n",
      " 11  funding  total         217472 non-null  float64       \n",
      " 12  milestones             217472 non-null  float64       \n",
      " 13  funding  round  id     52928 non-null   float64       \n",
      " 14  company  id            52928 non-null   float64       \n",
      " 15  funded  at             52680 non-null   datetime64[ns]\n",
      " 16  funding  round  type   52928 non-null   object        \n",
      " 17  raised  amount         52928 non-null   float64       \n",
      " 18  pre  money  valuation  52928 non-null   float64       \n",
      " 19  participants           52928 non-null   float64       \n",
      " 20  is  first  round       52928 non-null   float64       \n",
      " 21  is  last  round        52928 non-null   float64       \n",
      " 22  company ID             217472 non-null  float64       \n",
      " 23  year_funded            52680 non-null   period[A-DEC] \n",
      " 24  raised_amount_new      52928 non-null   float64       \n",
      "dtypes: datetime64[ns](3), float64(14), object(7), period[A-DEC](1)\n",
      "memory usage: 41.5+ MB\n"
     ]
    },
    {
     "data": {
      "text/html": [
       "<div>\n",
       "<style scoped>\n",
       "    .dataframe tbody tr th:only-of-type {\n",
       "        vertical-align: middle;\n",
       "    }\n",
       "\n",
       "    .dataframe tbody tr th {\n",
       "        vertical-align: top;\n",
       "    }\n",
       "\n",
       "    .dataframe thead th {\n",
       "        text-align: right;\n",
       "    }\n",
       "</style>\n",
       "<table border=\"1\" class=\"dataframe\">\n",
       "  <thead>\n",
       "    <tr style=\"text-align: right;\">\n",
       "      <th></th>\n",
       "      <th>company  ID</th>\n",
       "      <th>name</th>\n",
       "      <th>category  code</th>\n",
       "      <th>status</th>\n",
       "      <th>founded  at</th>\n",
       "      <th>closed  at</th>\n",
       "      <th>domain</th>\n",
       "      <th>network  username</th>\n",
       "      <th>country  code</th>\n",
       "      <th>investment  rounds</th>\n",
       "      <th>...</th>\n",
       "      <th>funded  at</th>\n",
       "      <th>funding  round  type</th>\n",
       "      <th>raised  amount</th>\n",
       "      <th>pre  money  valuation</th>\n",
       "      <th>participants</th>\n",
       "      <th>is  first  round</th>\n",
       "      <th>is  last  round</th>\n",
       "      <th>company ID</th>\n",
       "      <th>year_funded</th>\n",
       "      <th>raised_amount_new</th>\n",
       "    </tr>\n",
       "  </thead>\n",
       "  <tbody>\n",
       "    <tr>\n",
       "      <th>0</th>\n",
       "      <td>1.0</td>\n",
       "      <td>Wetpaint</td>\n",
       "      <td>web</td>\n",
       "      <td>operating</td>\n",
       "      <td>2005-10-17</td>\n",
       "      <td>NaT</td>\n",
       "      <td>wetpaint-inc.com</td>\n",
       "      <td>BachelrWetpaint</td>\n",
       "      <td>USA</td>\n",
       "      <td>0.0</td>\n",
       "      <td>...</td>\n",
       "      <td>2005-10-01</td>\n",
       "      <td>series-a</td>\n",
       "      <td>5250000.0</td>\n",
       "      <td>0.0</td>\n",
       "      <td>2.0</td>\n",
       "      <td>0.0</td>\n",
       "      <td>1.0</td>\n",
       "      <td>1.0</td>\n",
       "      <td>2005</td>\n",
       "      <td>5250.0</td>\n",
       "    </tr>\n",
       "    <tr>\n",
       "      <th>1</th>\n",
       "      <td>1.0</td>\n",
       "      <td>Wetpaint</td>\n",
       "      <td>web</td>\n",
       "      <td>operating</td>\n",
       "      <td>2005-10-17</td>\n",
       "      <td>NaT</td>\n",
       "      <td>wetpaint-inc.com</td>\n",
       "      <td>BachelrWetpaint</td>\n",
       "      <td>USA</td>\n",
       "      <td>0.0</td>\n",
       "      <td>...</td>\n",
       "      <td>2007-01-01</td>\n",
       "      <td>series-b</td>\n",
       "      <td>9500000.0</td>\n",
       "      <td>0.0</td>\n",
       "      <td>3.0</td>\n",
       "      <td>0.0</td>\n",
       "      <td>0.0</td>\n",
       "      <td>1.0</td>\n",
       "      <td>2007</td>\n",
       "      <td>9500.0</td>\n",
       "    </tr>\n",
       "    <tr>\n",
       "      <th>2</th>\n",
       "      <td>1.0</td>\n",
       "      <td>Wetpaint</td>\n",
       "      <td>web</td>\n",
       "      <td>operating</td>\n",
       "      <td>2005-10-17</td>\n",
       "      <td>NaT</td>\n",
       "      <td>wetpaint-inc.com</td>\n",
       "      <td>BachelrWetpaint</td>\n",
       "      <td>USA</td>\n",
       "      <td>0.0</td>\n",
       "      <td>...</td>\n",
       "      <td>2008-05-19</td>\n",
       "      <td>series-c+</td>\n",
       "      <td>25000000.0</td>\n",
       "      <td>0.0</td>\n",
       "      <td>4.0</td>\n",
       "      <td>1.0</td>\n",
       "      <td>0.0</td>\n",
       "      <td>1.0</td>\n",
       "      <td>2008</td>\n",
       "      <td>25000.0</td>\n",
       "    </tr>\n",
       "    <tr>\n",
       "      <th>3</th>\n",
       "      <td>10.0</td>\n",
       "      <td>Flektor</td>\n",
       "      <td>games_video</td>\n",
       "      <td>acquired</td>\n",
       "      <td>NaT</td>\n",
       "      <td>NaT</td>\n",
       "      <td>flektor.com</td>\n",
       "      <td>NaN</td>\n",
       "      <td>USA</td>\n",
       "      <td>0.0</td>\n",
       "      <td>...</td>\n",
       "      <td>NaT</td>\n",
       "      <td>NaN</td>\n",
       "      <td>NaN</td>\n",
       "      <td>NaN</td>\n",
       "      <td>NaN</td>\n",
       "      <td>NaN</td>\n",
       "      <td>NaN</td>\n",
       "      <td>10.0</td>\n",
       "      <td>NaT</td>\n",
       "      <td>NaN</td>\n",
       "    </tr>\n",
       "    <tr>\n",
       "      <th>4</th>\n",
       "      <td>100.0</td>\n",
       "      <td>There</td>\n",
       "      <td>games_video</td>\n",
       "      <td>acquired</td>\n",
       "      <td>NaT</td>\n",
       "      <td>NaT</td>\n",
       "      <td>there.com</td>\n",
       "      <td>NaN</td>\n",
       "      <td>USA</td>\n",
       "      <td>0.0</td>\n",
       "      <td>...</td>\n",
       "      <td>NaT</td>\n",
       "      <td>NaN</td>\n",
       "      <td>NaN</td>\n",
       "      <td>NaN</td>\n",
       "      <td>NaN</td>\n",
       "      <td>NaN</td>\n",
       "      <td>NaN</td>\n",
       "      <td>100.0</td>\n",
       "      <td>NaT</td>\n",
       "      <td>NaN</td>\n",
       "    </tr>\n",
       "  </tbody>\n",
       "</table>\n",
       "<p>5 rows × 25 columns</p>\n",
       "</div>"
      ],
      "text/plain": [
       "   company  ID      name category  code     status founded  at closed  at  \\\n",
       "0          1.0  Wetpaint            web  operating  2005-10-17        NaT   \n",
       "1          1.0  Wetpaint            web  operating  2005-10-17        NaT   \n",
       "2          1.0  Wetpaint            web  operating  2005-10-17        NaT   \n",
       "3         10.0   Flektor    games_video   acquired         NaT        NaT   \n",
       "4        100.0     There    games_video   acquired         NaT        NaT   \n",
       "\n",
       "             domain network  username country  code  investment  rounds  ...  \\\n",
       "0  wetpaint-inc.com   BachelrWetpaint           USA                 0.0  ...   \n",
       "1  wetpaint-inc.com   BachelrWetpaint           USA                 0.0  ...   \n",
       "2  wetpaint-inc.com   BachelrWetpaint           USA                 0.0  ...   \n",
       "3       flektor.com               NaN           USA                 0.0  ...   \n",
       "4         there.com               NaN           USA                 0.0  ...   \n",
       "\n",
       "   funded  at  funding  round  type  raised  amount  pre  money  valuation  \\\n",
       "0  2005-10-01              series-a       5250000.0                    0.0   \n",
       "1  2007-01-01              series-b       9500000.0                    0.0   \n",
       "2  2008-05-19             series-c+      25000000.0                    0.0   \n",
       "3         NaT                   NaN             NaN                    NaN   \n",
       "4         NaT                   NaN             NaN                    NaN   \n",
       "\n",
       "   participants is  first  round is  last  round  company ID  year_funded  \\\n",
       "0           2.0              0.0             1.0         1.0         2005   \n",
       "1           3.0              0.0             0.0         1.0         2007   \n",
       "2           4.0              1.0             0.0         1.0         2008   \n",
       "3           NaN              NaN             NaN        10.0          NaT   \n",
       "4           NaN              NaN             NaN       100.0          NaT   \n",
       "\n",
       "   raised_amount_new  \n",
       "0             5250.0  \n",
       "1             9500.0  \n",
       "2            25000.0  \n",
       "3                NaN  \n",
       "4                NaN  \n",
       "\n",
       "[5 rows x 25 columns]"
      ]
     },
     "execution_count": 196,
     "metadata": {},
     "output_type": "execute_result"
    }
   ],
   "source": [
    "#Изучим данные в датасете company_and_rounds\n",
    "company_and_rounds.info()\n",
    "company_and_rounds.head()"
   ]
  },
  {
   "cell_type": "markdown",
   "metadata": {},
   "source": [
    "Скорее всего раньше этот датасет состоял из двух разных таблиц, которые объединили по ключу company ID, но объединение произошло не совсем верно. Отсюда столько пропусков в в данных, относящихся к финансированию. Эту гипотезу подтверждает и наличие двух почти идентичных названия (company ID и company id), которые скорее всего являлись ключами для объединения двух более мелких таблиц."
   ]
  },
  {
   "cell_type": "markdown",
   "metadata": {},
   "source": [
    "<div class=\"alert alert-success\">\n",
    "<h2> Комментарий ревьюера v1 <a class=\"tocSkip\"> </h2>\n",
    "\n",
    "<b>Все супер!👍:</b> Николай, круто, что по названию и структуре ты сразу понял как раньше хранились данные"
   ]
  },
  {
   "cell_type": "code",
   "execution_count": 197,
   "metadata": {},
   "outputs": [],
   "source": [
    "# Разделяем датафрейм на две части\n",
    "# 1. Часть до столбца 'milestones' включительно\n",
    "company = company_and_rounds.loc[:, :'milestones']\n",
    "\n",
    "# 2. Часть после столбца 'funding_round_id' включительно\n",
    "funding_rounds = company_and_rounds.loc[:, 'funding  round  id':]"
   ]
  },
  {
   "cell_type": "code",
   "execution_count": 198,
   "metadata": {
    "id": "SFfUmzron0Tc"
   },
   "outputs": [
    {
     "data": {
      "text/plain": [
       "21220"
      ]
     },
     "execution_count": 198,
     "metadata": {},
     "output_type": "execute_result"
    }
   ],
   "source": [
    "#Ищем явные дубликаты в датафрейме company:\n",
    "company.duplicated().sum()"
   ]
  },
  {
   "cell_type": "code",
   "execution_count": 199,
   "metadata": {},
   "outputs": [],
   "source": [
    "#Удалим явные дубликаты:\n",
    "company = company.drop_duplicates(keep='first')"
   ]
  },
  {
   "cell_type": "code",
   "execution_count": 200,
   "metadata": {},
   "outputs": [
    {
     "data": {
      "text/plain": [
       "0"
      ]
     },
     "execution_count": 200,
     "metadata": {},
     "output_type": "execute_result"
    }
   ],
   "source": [
    "#Также проверим явные дубликаты по столбцу company  ID:\n",
    "company['company  ID'].duplicated().sum()"
   ]
  },
  {
   "cell_type": "code",
   "execution_count": 201,
   "metadata": {},
   "outputs": [
    {
     "name": "stdout",
     "output_type": "stream",
     "text": [
      "<class 'pandas.core.frame.DataFrame'>\n",
      "Int64Index: 196554 entries, 0 to 217472\n",
      "Data columns (total 13 columns):\n",
      " #   Column              Non-Null Count   Dtype         \n",
      "---  ------              --------------   -----         \n",
      " 0   company  ID         196553 non-null  float64       \n",
      " 1   name                196553 non-null  object        \n",
      " 2   category  code      123186 non-null  object        \n",
      " 3   status              196553 non-null  object        \n",
      " 4   founded  at         91227 non-null   datetime64[ns]\n",
      " 5   closed  at          2620 non-null    datetime64[ns]\n",
      " 6   domain              126545 non-null  object        \n",
      " 7   network  username   80591 non-null   object        \n",
      " 8   country  code       87990 non-null   object        \n",
      " 9   investment  rounds  196553 non-null  float64       \n",
      " 10  funding  rounds     196553 non-null  float64       \n",
      " 11  funding  total      196553 non-null  float64       \n",
      " 12  milestones          196553 non-null  float64       \n",
      "dtypes: datetime64[ns](2), float64(5), object(6)\n",
      "memory usage: 21.0+ MB\n"
     ]
    },
    {
     "data": {
      "text/html": [
       "<div>\n",
       "<style scoped>\n",
       "    .dataframe tbody tr th:only-of-type {\n",
       "        vertical-align: middle;\n",
       "    }\n",
       "\n",
       "    .dataframe tbody tr th {\n",
       "        vertical-align: top;\n",
       "    }\n",
       "\n",
       "    .dataframe thead th {\n",
       "        text-align: right;\n",
       "    }\n",
       "</style>\n",
       "<table border=\"1\" class=\"dataframe\">\n",
       "  <thead>\n",
       "    <tr style=\"text-align: right;\">\n",
       "      <th></th>\n",
       "      <th>company  ID</th>\n",
       "      <th>name</th>\n",
       "      <th>category  code</th>\n",
       "      <th>status</th>\n",
       "      <th>founded  at</th>\n",
       "      <th>closed  at</th>\n",
       "      <th>domain</th>\n",
       "      <th>network  username</th>\n",
       "      <th>country  code</th>\n",
       "      <th>investment  rounds</th>\n",
       "      <th>funding  rounds</th>\n",
       "      <th>funding  total</th>\n",
       "      <th>milestones</th>\n",
       "    </tr>\n",
       "  </thead>\n",
       "  <tbody>\n",
       "    <tr>\n",
       "      <th>0</th>\n",
       "      <td>1.0</td>\n",
       "      <td>Wetpaint</td>\n",
       "      <td>web</td>\n",
       "      <td>operating</td>\n",
       "      <td>2005-10-17</td>\n",
       "      <td>NaT</td>\n",
       "      <td>wetpaint-inc.com</td>\n",
       "      <td>BachelrWetpaint</td>\n",
       "      <td>USA</td>\n",
       "      <td>0.0</td>\n",
       "      <td>3.0</td>\n",
       "      <td>39750000.0</td>\n",
       "      <td>5.0</td>\n",
       "    </tr>\n",
       "    <tr>\n",
       "      <th>3</th>\n",
       "      <td>10.0</td>\n",
       "      <td>Flektor</td>\n",
       "      <td>games_video</td>\n",
       "      <td>acquired</td>\n",
       "      <td>NaT</td>\n",
       "      <td>NaT</td>\n",
       "      <td>flektor.com</td>\n",
       "      <td>NaN</td>\n",
       "      <td>USA</td>\n",
       "      <td>0.0</td>\n",
       "      <td>0.0</td>\n",
       "      <td>0.0</td>\n",
       "      <td>0.0</td>\n",
       "    </tr>\n",
       "    <tr>\n",
       "      <th>4</th>\n",
       "      <td>100.0</td>\n",
       "      <td>There</td>\n",
       "      <td>games_video</td>\n",
       "      <td>acquired</td>\n",
       "      <td>NaT</td>\n",
       "      <td>NaT</td>\n",
       "      <td>there.com</td>\n",
       "      <td>NaN</td>\n",
       "      <td>USA</td>\n",
       "      <td>0.0</td>\n",
       "      <td>0.0</td>\n",
       "      <td>0.0</td>\n",
       "      <td>4.0</td>\n",
       "    </tr>\n",
       "    <tr>\n",
       "      <th>5</th>\n",
       "      <td>10000.0</td>\n",
       "      <td>MYWEBBO</td>\n",
       "      <td>network_hosting</td>\n",
       "      <td>operating</td>\n",
       "      <td>2008-07-26</td>\n",
       "      <td>NaT</td>\n",
       "      <td>mywebbo.com</td>\n",
       "      <td>NaN</td>\n",
       "      <td>NaN</td>\n",
       "      <td>0.0</td>\n",
       "      <td>0.0</td>\n",
       "      <td>0.0</td>\n",
       "      <td>0.0</td>\n",
       "    </tr>\n",
       "    <tr>\n",
       "      <th>6</th>\n",
       "      <td>10001.0</td>\n",
       "      <td>THE Movie Streamer</td>\n",
       "      <td>games_video</td>\n",
       "      <td>operating</td>\n",
       "      <td>2008-07-26</td>\n",
       "      <td>NaT</td>\n",
       "      <td>themoviestreamer.com</td>\n",
       "      <td>NaN</td>\n",
       "      <td>NaN</td>\n",
       "      <td>0.0</td>\n",
       "      <td>0.0</td>\n",
       "      <td>0.0</td>\n",
       "      <td>0.0</td>\n",
       "    </tr>\n",
       "  </tbody>\n",
       "</table>\n",
       "</div>"
      ],
      "text/plain": [
       "   company  ID                name   category  code     status founded  at  \\\n",
       "0          1.0            Wetpaint              web  operating  2005-10-17   \n",
       "3         10.0             Flektor      games_video   acquired         NaT   \n",
       "4        100.0               There      games_video   acquired         NaT   \n",
       "5      10000.0             MYWEBBO  network_hosting  operating  2008-07-26   \n",
       "6      10001.0  THE Movie Streamer      games_video  operating  2008-07-26   \n",
       "\n",
       "  closed  at                domain network  username country  code  \\\n",
       "0        NaT      wetpaint-inc.com   BachelrWetpaint           USA   \n",
       "3        NaT           flektor.com               NaN           USA   \n",
       "4        NaT             there.com               NaN           USA   \n",
       "5        NaT           mywebbo.com               NaN           NaN   \n",
       "6        NaT  themoviestreamer.com               NaN           NaN   \n",
       "\n",
       "   investment  rounds  funding  rounds  funding  total  milestones  \n",
       "0                 0.0              3.0      39750000.0         5.0  \n",
       "3                 0.0              0.0             0.0         0.0  \n",
       "4                 0.0              0.0             0.0         4.0  \n",
       "5                 0.0              0.0             0.0         0.0  \n",
       "6                 0.0              0.0             0.0         0.0  "
      ]
     },
     "execution_count": 201,
     "metadata": {},
     "output_type": "execute_result"
    }
   ],
   "source": [
    "#Выведим ифнормацию о новом датасете на экран:\n",
    "company.info()\n",
    "company.head()"
   ]
  },
  {
   "cell_type": "code",
   "execution_count": 202,
   "metadata": {},
   "outputs": [],
   "source": [
    "#Приведем названия столбцов к змеиному регистру:\n",
    "def to_snake_case(text):\n",
    "    return text.lower().replace(' ', '_')\n",
    "company.columns = [to_snake_case(col) for col in company.columns]"
   ]
  },
  {
   "cell_type": "code",
   "execution_count": 203,
   "metadata": {},
   "outputs": [
    {
     "data": {
      "text/plain": [
       "0"
      ]
     },
     "execution_count": 203,
     "metadata": {},
     "output_type": "execute_result"
    }
   ],
   "source": [
    "#Ищем явные дубликаты в датафрейме funding_rounds:\n",
    "funding_rounds.duplicated().sum()"
   ]
  },
  {
   "cell_type": "code",
   "execution_count": 204,
   "metadata": {},
   "outputs": [
    {
     "data": {
      "text/plain": [
       "185834"
      ]
     },
     "execution_count": 204,
     "metadata": {},
     "output_type": "execute_result"
    }
   ],
   "source": [
    "#Также проверим явные дубликаты по столбцу company  id:\n",
    "funding_rounds['company  id'].duplicated().sum()"
   ]
  },
  {
   "cell_type": "code",
   "execution_count": 205,
   "metadata": {},
   "outputs": [],
   "source": [
    "#Удалим явные дубликаты по столбцу company  id:\n",
    "funding_rounds = funding_rounds.drop_duplicates(subset=['company  id'],keep='first')"
   ]
  },
  {
   "cell_type": "code",
   "execution_count": 206,
   "metadata": {},
   "outputs": [
    {
     "name": "stdout",
     "output_type": "stream",
     "text": [
      "<class 'pandas.core.frame.DataFrame'>\n",
      "Int64Index: 31940 entries, 0 to 217773\n",
      "Data columns (total 12 columns):\n",
      " #   Column                 Non-Null Count  Dtype         \n",
      "---  ------                 --------------  -----         \n",
      " 0   funding  round  id     31939 non-null  float64       \n",
      " 1   company  id            31939 non-null  float64       \n",
      " 2   funded  at             31714 non-null  datetime64[ns]\n",
      " 3   funding  round  type   31939 non-null  object        \n",
      " 4   raised  amount         31939 non-null  float64       \n",
      " 5   pre  money  valuation  31939 non-null  float64       \n",
      " 6   participants           31939 non-null  float64       \n",
      " 7   is  first  round       31939 non-null  float64       \n",
      " 8   is  last  round        31939 non-null  float64       \n",
      " 9   company ID             31708 non-null  float64       \n",
      " 10  year_funded            31714 non-null  period[A-DEC] \n",
      " 11  raised_amount_new      31939 non-null  float64       \n",
      "dtypes: datetime64[ns](1), float64(9), object(1), period[A-DEC](1)\n",
      "memory usage: 3.2+ MB\n"
     ]
    },
    {
     "data": {
      "text/html": [
       "<div>\n",
       "<style scoped>\n",
       "    .dataframe tbody tr th:only-of-type {\n",
       "        vertical-align: middle;\n",
       "    }\n",
       "\n",
       "    .dataframe tbody tr th {\n",
       "        vertical-align: top;\n",
       "    }\n",
       "\n",
       "    .dataframe thead th {\n",
       "        text-align: right;\n",
       "    }\n",
       "</style>\n",
       "<table border=\"1\" class=\"dataframe\">\n",
       "  <thead>\n",
       "    <tr style=\"text-align: right;\">\n",
       "      <th></th>\n",
       "      <th>funding  round  id</th>\n",
       "      <th>company  id</th>\n",
       "      <th>funded  at</th>\n",
       "      <th>funding  round  type</th>\n",
       "      <th>raised  amount</th>\n",
       "      <th>pre  money  valuation</th>\n",
       "      <th>participants</th>\n",
       "      <th>is  first  round</th>\n",
       "      <th>is  last  round</th>\n",
       "      <th>company ID</th>\n",
       "      <th>year_funded</th>\n",
       "      <th>raised_amount_new</th>\n",
       "    </tr>\n",
       "  </thead>\n",
       "  <tbody>\n",
       "    <tr>\n",
       "      <th>0</th>\n",
       "      <td>888.0</td>\n",
       "      <td>1.0</td>\n",
       "      <td>2005-10-01</td>\n",
       "      <td>series-a</td>\n",
       "      <td>5250000.0</td>\n",
       "      <td>0.0</td>\n",
       "      <td>2.0</td>\n",
       "      <td>0.0</td>\n",
       "      <td>1.0</td>\n",
       "      <td>1.0</td>\n",
       "      <td>2005</td>\n",
       "      <td>5250.0</td>\n",
       "    </tr>\n",
       "    <tr>\n",
       "      <th>3</th>\n",
       "      <td>NaN</td>\n",
       "      <td>NaN</td>\n",
       "      <td>NaT</td>\n",
       "      <td>NaN</td>\n",
       "      <td>NaN</td>\n",
       "      <td>NaN</td>\n",
       "      <td>NaN</td>\n",
       "      <td>NaN</td>\n",
       "      <td>NaN</td>\n",
       "      <td>10.0</td>\n",
       "      <td>NaT</td>\n",
       "      <td>NaN</td>\n",
       "    </tr>\n",
       "    <tr>\n",
       "      <th>15</th>\n",
       "      <td>1644.0</td>\n",
       "      <td>1001.0</td>\n",
       "      <td>2008-02-26</td>\n",
       "      <td>series-a</td>\n",
       "      <td>5000000.0</td>\n",
       "      <td>0.0</td>\n",
       "      <td>3.0</td>\n",
       "      <td>1.0</td>\n",
       "      <td>1.0</td>\n",
       "      <td>1001.0</td>\n",
       "      <td>2008</td>\n",
       "      <td>5000.0</td>\n",
       "    </tr>\n",
       "    <tr>\n",
       "      <th>20</th>\n",
       "      <td>6682.0</td>\n",
       "      <td>10014.0</td>\n",
       "      <td>2008-09-01</td>\n",
       "      <td>angel</td>\n",
       "      <td>0.0</td>\n",
       "      <td>0.0</td>\n",
       "      <td>1.0</td>\n",
       "      <td>1.0</td>\n",
       "      <td>1.0</td>\n",
       "      <td>10014.0</td>\n",
       "      <td>2008</td>\n",
       "      <td>0.0</td>\n",
       "    </tr>\n",
       "    <tr>\n",
       "      <th>21</th>\n",
       "      <td>3619.0</td>\n",
       "      <td>10015.0</td>\n",
       "      <td>2008-10-10</td>\n",
       "      <td>series-a</td>\n",
       "      <td>2000000.0</td>\n",
       "      <td>0.0</td>\n",
       "      <td>2.0</td>\n",
       "      <td>0.0</td>\n",
       "      <td>1.0</td>\n",
       "      <td>10015.0</td>\n",
       "      <td>2008</td>\n",
       "      <td>2000.0</td>\n",
       "    </tr>\n",
       "  </tbody>\n",
       "</table>\n",
       "</div>"
      ],
      "text/plain": [
       "    funding  round  id  company  id funded  at funding  round  type  \\\n",
       "0                888.0          1.0 2005-10-01             series-a   \n",
       "3                  NaN          NaN        NaT                  NaN   \n",
       "15              1644.0       1001.0 2008-02-26             series-a   \n",
       "20              6682.0      10014.0 2008-09-01                angel   \n",
       "21              3619.0      10015.0 2008-10-10             series-a   \n",
       "\n",
       "    raised  amount  pre  money  valuation  participants  is  first  round  \\\n",
       "0        5250000.0                    0.0           2.0               0.0   \n",
       "3              NaN                    NaN           NaN               NaN   \n",
       "15       5000000.0                    0.0           3.0               1.0   \n",
       "20             0.0                    0.0           1.0               1.0   \n",
       "21       2000000.0                    0.0           2.0               0.0   \n",
       "\n",
       "    is  last  round  company ID year_funded  raised_amount_new  \n",
       "0               1.0         1.0        2005             5250.0  \n",
       "3               NaN        10.0         NaT                NaN  \n",
       "15              1.0      1001.0        2008             5000.0  \n",
       "20              1.0     10014.0        2008                0.0  \n",
       "21              1.0     10015.0        2008             2000.0  "
      ]
     },
     "execution_count": 206,
     "metadata": {},
     "output_type": "execute_result"
    }
   ],
   "source": [
    "#Выведим ифнормацию о новом датасете на экран:\n",
    "funding_rounds.info()\n",
    "funding_rounds.head()"
   ]
  },
  {
   "cell_type": "markdown",
   "metadata": {},
   "source": [
    "В итоге мы разбили большой датасет company_and_rounds на два - company и rounds. Удалили из них явные дубликаты. Теперь с этими новыми датасетами можно работать в будущем."
   ]
  },
  {
   "cell_type": "markdown",
   "metadata": {},
   "source": [
    "<div class=\"alert alert-success\">\n",
    "<h2> Комментарий ревьюера v1 <a class=\"tocSkip\"> </h2>\n",
    "\n",
    "<b>Все супер!👍:</b> И реализовал разделение и подготовку данных ты блестяще! Это поможет не терять данные и качественно решить следуеющие задания.\n",
    "    <div class=\"alert alert-info\"> Можешь приступать к разделам 4 и 5!"
   ]
  },
  {
   "cell_type": "markdown",
   "metadata": {
    "id": "bmVYhphNrJg2"
   },
   "source": [
    "\n",
    "## Шаг 3. Исследовательский анализ объединённых таблиц\n",
    "\n",
    "<big>Приступите к шагу 3 после проверки ревьюера.</big>"
   ]
  },
  {
   "cell_type": "markdown",
   "metadata": {
    "id": "3Di6tCT3rJg2"
   },
   "source": [
    "\n",
    "### 3.1. Объединение данных\n",
    "\n",
    "Объедините данные для ответа на вопросы заказчика, которые касаются интересующих его компаний.\n",
    "\n",
    "В качестве основы для объединённой таблицы возьмите данные из обработанного датасета `company_and_rounds.csv` — выберите только те компании, у которых указаны значения `funding_rounds` или `investment_rounds` больше нуля, или те, у которых в колонке `status` указано `acquired`.\n",
    "\n",
    "Далее работайте только с этими данными."
   ]
  },
  {
   "cell_type": "code",
   "execution_count": 207,
   "metadata": {},
   "outputs": [],
   "source": [
    "#Уберем дубликаты по столбцу company__id в новом датасете company:\n",
    "company = company.drop_duplicates(subset=['company__id'], keep=False)"
   ]
  },
  {
   "cell_type": "code",
   "execution_count": 208,
   "metadata": {
    "id": "mGYqoHS7rJg2"
   },
   "outputs": [],
   "source": [
    "#В датасете company отфильтруем данные по заданным параметрам:\n",
    "company_filtered = company[(company['funding__rounds']>0) | (company['investment__rounds']>0) | (company['status'] == 'acquired')]"
   ]
  },
  {
   "cell_type": "code",
   "execution_count": 209,
   "metadata": {
    "scrolled": true
   },
   "outputs": [
    {
     "name": "stdout",
     "output_type": "stream",
     "text": [
      "<class 'pandas.core.frame.DataFrame'>\n",
      "Int64Index: 40747 entries, 0 to 217469\n",
      "Data columns (total 13 columns):\n",
      " #   Column              Non-Null Count  Dtype         \n",
      "---  ------              --------------  -----         \n",
      " 0   company__id         40747 non-null  float64       \n",
      " 1   name                40747 non-null  object        \n",
      " 2   category__code      35315 non-null  object        \n",
      " 3   status              40747 non-null  object        \n",
      " 4   founded__at         27807 non-null  datetime64[ns]\n",
      " 5   closed__at          2128 non-null   datetime64[ns]\n",
      " 6   domain              35754 non-null  object        \n",
      " 7   network__username   20850 non-null  object        \n",
      " 8   country__code       34742 non-null  object        \n",
      " 9   investment__rounds  40747 non-null  float64       \n",
      " 10  funding__rounds     40747 non-null  float64       \n",
      " 11  funding__total      40747 non-null  float64       \n",
      " 12  milestones          40747 non-null  float64       \n",
      "dtypes: datetime64[ns](2), float64(5), object(6)\n",
      "memory usage: 4.4+ MB\n"
     ]
    },
    {
     "data": {
      "text/html": [
       "<div>\n",
       "<style scoped>\n",
       "    .dataframe tbody tr th:only-of-type {\n",
       "        vertical-align: middle;\n",
       "    }\n",
       "\n",
       "    .dataframe tbody tr th {\n",
       "        vertical-align: top;\n",
       "    }\n",
       "\n",
       "    .dataframe thead th {\n",
       "        text-align: right;\n",
       "    }\n",
       "</style>\n",
       "<table border=\"1\" class=\"dataframe\">\n",
       "  <thead>\n",
       "    <tr style=\"text-align: right;\">\n",
       "      <th></th>\n",
       "      <th>company__id</th>\n",
       "      <th>name</th>\n",
       "      <th>category__code</th>\n",
       "      <th>status</th>\n",
       "      <th>founded__at</th>\n",
       "      <th>closed__at</th>\n",
       "      <th>domain</th>\n",
       "      <th>network__username</th>\n",
       "      <th>country__code</th>\n",
       "      <th>investment__rounds</th>\n",
       "      <th>funding__rounds</th>\n",
       "      <th>funding__total</th>\n",
       "      <th>milestones</th>\n",
       "    </tr>\n",
       "  </thead>\n",
       "  <tbody>\n",
       "    <tr>\n",
       "      <th>0</th>\n",
       "      <td>1.0</td>\n",
       "      <td>Wetpaint</td>\n",
       "      <td>web</td>\n",
       "      <td>operating</td>\n",
       "      <td>2005-10-17</td>\n",
       "      <td>NaT</td>\n",
       "      <td>wetpaint-inc.com</td>\n",
       "      <td>BachelrWetpaint</td>\n",
       "      <td>USA</td>\n",
       "      <td>0.0</td>\n",
       "      <td>3.0</td>\n",
       "      <td>39750000.0</td>\n",
       "      <td>5.0</td>\n",
       "    </tr>\n",
       "    <tr>\n",
       "      <th>3</th>\n",
       "      <td>10.0</td>\n",
       "      <td>Flektor</td>\n",
       "      <td>games_video</td>\n",
       "      <td>acquired</td>\n",
       "      <td>NaT</td>\n",
       "      <td>NaT</td>\n",
       "      <td>flektor.com</td>\n",
       "      <td>NaN</td>\n",
       "      <td>USA</td>\n",
       "      <td>0.0</td>\n",
       "      <td>0.0</td>\n",
       "      <td>0.0</td>\n",
       "      <td>0.0</td>\n",
       "    </tr>\n",
       "    <tr>\n",
       "      <th>4</th>\n",
       "      <td>100.0</td>\n",
       "      <td>There</td>\n",
       "      <td>games_video</td>\n",
       "      <td>acquired</td>\n",
       "      <td>NaT</td>\n",
       "      <td>NaT</td>\n",
       "      <td>there.com</td>\n",
       "      <td>NaN</td>\n",
       "      <td>USA</td>\n",
       "      <td>0.0</td>\n",
       "      <td>0.0</td>\n",
       "      <td>0.0</td>\n",
       "      <td>4.0</td>\n",
       "    </tr>\n",
       "    <tr>\n",
       "      <th>15</th>\n",
       "      <td>1001.0</td>\n",
       "      <td>FriendFeed</td>\n",
       "      <td>web</td>\n",
       "      <td>acquired</td>\n",
       "      <td>2007-10-01</td>\n",
       "      <td>NaT</td>\n",
       "      <td>friendfeed.com</td>\n",
       "      <td>friendfeed</td>\n",
       "      <td>USA</td>\n",
       "      <td>0.0</td>\n",
       "      <td>1.0</td>\n",
       "      <td>5000000.0</td>\n",
       "      <td>3.0</td>\n",
       "    </tr>\n",
       "    <tr>\n",
       "      <th>20</th>\n",
       "      <td>10014.0</td>\n",
       "      <td>Mobclix</td>\n",
       "      <td>mobile</td>\n",
       "      <td>acquired</td>\n",
       "      <td>2008-03-01</td>\n",
       "      <td>NaT</td>\n",
       "      <td>mobclix.com</td>\n",
       "      <td>mobclix</td>\n",
       "      <td>USA</td>\n",
       "      <td>0.0</td>\n",
       "      <td>1.0</td>\n",
       "      <td>0.0</td>\n",
       "      <td>4.0</td>\n",
       "    </tr>\n",
       "  </tbody>\n",
       "</table>\n",
       "</div>"
      ],
      "text/plain": [
       "    company__id        name category__code     status founded__at closed__at  \\\n",
       "0           1.0    Wetpaint            web  operating  2005-10-17        NaT   \n",
       "3          10.0     Flektor    games_video   acquired         NaT        NaT   \n",
       "4         100.0       There    games_video   acquired         NaT        NaT   \n",
       "15       1001.0  FriendFeed            web   acquired  2007-10-01        NaT   \n",
       "20      10014.0     Mobclix         mobile   acquired  2008-03-01        NaT   \n",
       "\n",
       "              domain network__username country__code  investment__rounds  \\\n",
       "0   wetpaint-inc.com   BachelrWetpaint           USA                 0.0   \n",
       "3        flektor.com               NaN           USA                 0.0   \n",
       "4          there.com               NaN           USA                 0.0   \n",
       "15    friendfeed.com        friendfeed           USA                 0.0   \n",
       "20       mobclix.com           mobclix           USA                 0.0   \n",
       "\n",
       "    funding__rounds  funding__total  milestones  \n",
       "0               3.0      39750000.0         5.0  \n",
       "3               0.0             0.0         0.0  \n",
       "4               0.0             0.0         4.0  \n",
       "15              1.0       5000000.0         3.0  \n",
       "20              1.0             0.0         4.0  "
      ]
     },
     "execution_count": 209,
     "metadata": {},
     "output_type": "execute_result"
    }
   ],
   "source": [
    "#Выведим информацию про новый отфильрованный датасет на экран\n",
    "company_filtered.info()\n",
    "company_filtered.head()"
   ]
  },
  {
   "cell_type": "code",
   "execution_count": 210,
   "metadata": {},
   "outputs": [],
   "source": [
    "#Объединим датасет company_filtered с датасетом acquisition:\n",
    "company_and_acquition = company_filtered.merge(acquisition, left_on='company__id', right_on = 'acquired_company_id', how='left')"
   ]
  },
  {
   "cell_type": "code",
   "execution_count": 211,
   "metadata": {},
   "outputs": [
    {
     "name": "stdout",
     "output_type": "stream",
     "text": [
      "<class 'pandas.core.frame.DataFrame'>\n",
      "Int64Index: 40890 entries, 0 to 40889\n",
      "Data columns (total 19 columns):\n",
      " #   Column                Non-Null Count  Dtype         \n",
      "---  ------                --------------  -----         \n",
      " 0   company__id           40890 non-null  float64       \n",
      " 1   name                  40890 non-null  object        \n",
      " 2   category__code        35436 non-null  object        \n",
      " 3   status                40890 non-null  object        \n",
      " 4   founded__at           27911 non-null  datetime64[ns]\n",
      " 5   closed__at            2128 non-null   datetime64[ns]\n",
      " 6   domain                35883 non-null  object        \n",
      " 7   network__username     20938 non-null  object        \n",
      " 8   country__code         34858 non-null  object        \n",
      " 9   investment__rounds    40890 non-null  float64       \n",
      " 10  funding__rounds       40890 non-null  float64       \n",
      " 11  funding__total        40890 non-null  float64       \n",
      " 12  milestones            40890 non-null  float64       \n",
      " 13  id                    9390 non-null   float64       \n",
      " 14  acquiring_company_id  9390 non-null   float64       \n",
      " 15  acquired_company_id   9390 non-null   float64       \n",
      " 16  term_code             1830 non-null   object        \n",
      " 17  price_amount          9390 non-null   float64       \n",
      " 18  acquired_at           9361 non-null   datetime64[ns]\n",
      "dtypes: datetime64[ns](3), float64(9), object(7)\n",
      "memory usage: 6.2+ MB\n"
     ]
    },
    {
     "data": {
      "text/html": [
       "<div>\n",
       "<style scoped>\n",
       "    .dataframe tbody tr th:only-of-type {\n",
       "        vertical-align: middle;\n",
       "    }\n",
       "\n",
       "    .dataframe tbody tr th {\n",
       "        vertical-align: top;\n",
       "    }\n",
       "\n",
       "    .dataframe thead th {\n",
       "        text-align: right;\n",
       "    }\n",
       "</style>\n",
       "<table border=\"1\" class=\"dataframe\">\n",
       "  <thead>\n",
       "    <tr style=\"text-align: right;\">\n",
       "      <th></th>\n",
       "      <th>company__id</th>\n",
       "      <th>name</th>\n",
       "      <th>category__code</th>\n",
       "      <th>status</th>\n",
       "      <th>founded__at</th>\n",
       "      <th>closed__at</th>\n",
       "      <th>domain</th>\n",
       "      <th>network__username</th>\n",
       "      <th>country__code</th>\n",
       "      <th>investment__rounds</th>\n",
       "      <th>funding__rounds</th>\n",
       "      <th>funding__total</th>\n",
       "      <th>milestones</th>\n",
       "      <th>id</th>\n",
       "      <th>acquiring_company_id</th>\n",
       "      <th>acquired_company_id</th>\n",
       "      <th>term_code</th>\n",
       "      <th>price_amount</th>\n",
       "      <th>acquired_at</th>\n",
       "    </tr>\n",
       "  </thead>\n",
       "  <tbody>\n",
       "    <tr>\n",
       "      <th>0</th>\n",
       "      <td>1.0</td>\n",
       "      <td>Wetpaint</td>\n",
       "      <td>web</td>\n",
       "      <td>operating</td>\n",
       "      <td>2005-10-17</td>\n",
       "      <td>NaT</td>\n",
       "      <td>wetpaint-inc.com</td>\n",
       "      <td>BachelrWetpaint</td>\n",
       "      <td>USA</td>\n",
       "      <td>0.0</td>\n",
       "      <td>3.0</td>\n",
       "      <td>39750000.0</td>\n",
       "      <td>5.0</td>\n",
       "      <td>NaN</td>\n",
       "      <td>NaN</td>\n",
       "      <td>NaN</td>\n",
       "      <td>NaN</td>\n",
       "      <td>NaN</td>\n",
       "      <td>NaT</td>\n",
       "    </tr>\n",
       "    <tr>\n",
       "      <th>1</th>\n",
       "      <td>10.0</td>\n",
       "      <td>Flektor</td>\n",
       "      <td>games_video</td>\n",
       "      <td>acquired</td>\n",
       "      <td>NaT</td>\n",
       "      <td>NaT</td>\n",
       "      <td>flektor.com</td>\n",
       "      <td>NaN</td>\n",
       "      <td>USA</td>\n",
       "      <td>0.0</td>\n",
       "      <td>0.0</td>\n",
       "      <td>0.0</td>\n",
       "      <td>0.0</td>\n",
       "      <td>1.0</td>\n",
       "      <td>11.0</td>\n",
       "      <td>10.0</td>\n",
       "      <td>NaN</td>\n",
       "      <td>20000000.0</td>\n",
       "      <td>2007-05-30</td>\n",
       "    </tr>\n",
       "    <tr>\n",
       "      <th>2</th>\n",
       "      <td>100.0</td>\n",
       "      <td>There</td>\n",
       "      <td>games_video</td>\n",
       "      <td>acquired</td>\n",
       "      <td>NaT</td>\n",
       "      <td>NaT</td>\n",
       "      <td>there.com</td>\n",
       "      <td>NaN</td>\n",
       "      <td>USA</td>\n",
       "      <td>0.0</td>\n",
       "      <td>0.0</td>\n",
       "      <td>0.0</td>\n",
       "      <td>4.0</td>\n",
       "      <td>20.0</td>\n",
       "      <td>377.0</td>\n",
       "      <td>100.0</td>\n",
       "      <td>cash</td>\n",
       "      <td>0.0</td>\n",
       "      <td>2005-05-29</td>\n",
       "    </tr>\n",
       "    <tr>\n",
       "      <th>3</th>\n",
       "      <td>1001.0</td>\n",
       "      <td>FriendFeed</td>\n",
       "      <td>web</td>\n",
       "      <td>acquired</td>\n",
       "      <td>2007-10-01</td>\n",
       "      <td>NaT</td>\n",
       "      <td>friendfeed.com</td>\n",
       "      <td>friendfeed</td>\n",
       "      <td>USA</td>\n",
       "      <td>0.0</td>\n",
       "      <td>1.0</td>\n",
       "      <td>5000000.0</td>\n",
       "      <td>3.0</td>\n",
       "      <td>1901.0</td>\n",
       "      <td>5.0</td>\n",
       "      <td>1001.0</td>\n",
       "      <td>cash_and_stock</td>\n",
       "      <td>47500000.0</td>\n",
       "      <td>2009-08-10</td>\n",
       "    </tr>\n",
       "    <tr>\n",
       "      <th>4</th>\n",
       "      <td>10014.0</td>\n",
       "      <td>Mobclix</td>\n",
       "      <td>mobile</td>\n",
       "      <td>acquired</td>\n",
       "      <td>2008-03-01</td>\n",
       "      <td>NaT</td>\n",
       "      <td>mobclix.com</td>\n",
       "      <td>mobclix</td>\n",
       "      <td>USA</td>\n",
       "      <td>0.0</td>\n",
       "      <td>1.0</td>\n",
       "      <td>0.0</td>\n",
       "      <td>4.0</td>\n",
       "      <td>3878.0</td>\n",
       "      <td>23054.0</td>\n",
       "      <td>10014.0</td>\n",
       "      <td>NaN</td>\n",
       "      <td>0.0</td>\n",
       "      <td>2010-09-30</td>\n",
       "    </tr>\n",
       "  </tbody>\n",
       "</table>\n",
       "</div>"
      ],
      "text/plain": [
       "   company__id        name category__code     status founded__at closed__at  \\\n",
       "0          1.0    Wetpaint            web  operating  2005-10-17        NaT   \n",
       "1         10.0     Flektor    games_video   acquired         NaT        NaT   \n",
       "2        100.0       There    games_video   acquired         NaT        NaT   \n",
       "3       1001.0  FriendFeed            web   acquired  2007-10-01        NaT   \n",
       "4      10014.0     Mobclix         mobile   acquired  2008-03-01        NaT   \n",
       "\n",
       "             domain network__username country__code  investment__rounds  \\\n",
       "0  wetpaint-inc.com   BachelrWetpaint           USA                 0.0   \n",
       "1       flektor.com               NaN           USA                 0.0   \n",
       "2         there.com               NaN           USA                 0.0   \n",
       "3    friendfeed.com        friendfeed           USA                 0.0   \n",
       "4       mobclix.com           mobclix           USA                 0.0   \n",
       "\n",
       "   funding__rounds  funding__total  milestones      id  acquiring_company_id  \\\n",
       "0              3.0      39750000.0         5.0     NaN                   NaN   \n",
       "1              0.0             0.0         0.0     1.0                  11.0   \n",
       "2              0.0             0.0         4.0    20.0                 377.0   \n",
       "3              1.0       5000000.0         3.0  1901.0                   5.0   \n",
       "4              1.0             0.0         4.0  3878.0               23054.0   \n",
       "\n",
       "   acquired_company_id       term_code  price_amount acquired_at  \n",
       "0                  NaN             NaN           NaN         NaT  \n",
       "1                 10.0             NaN    20000000.0  2007-05-30  \n",
       "2                100.0            cash           0.0  2005-05-29  \n",
       "3               1001.0  cash_and_stock    47500000.0  2009-08-10  \n",
       "4              10014.0             NaN           0.0  2010-09-30  "
      ]
     },
     "execution_count": 211,
     "metadata": {},
     "output_type": "execute_result"
    }
   ],
   "source": [
    "#Выведим инофрмацию про новый объединенный датасет на экран:\n",
    "company_and_acquition.info()\n",
    "company_and_acquition.head()"
   ]
  },
  {
   "cell_type": "markdown",
   "metadata": {},
   "source": [
    "<div class=\"alert alert-success\">\n",
    "<h2> Комментарий ревьюера v2 <a class=\"tocSkip\"> </h2>\n",
    "\n",
    "<b>Все супер!👍:</b> Условия фильтрации и объединения подобраны правильно, молодец"
   ]
  },
  {
   "cell_type": "markdown",
   "metadata": {
    "id": "DFHINkV3rJg2"
   },
   "source": [
    "\n",
    "### 3.2. Анализ выбросов\n",
    "\n",
    "Заказчика интересует обычный для рассматриваемого периода размер средств, который предоставлялся компаниям.\n",
    "\n",
    "* По предобработанному столбцу `funding_total` графическим способом оцените, какой размер общего финансирования для одной компании будет типичным, а какой — выбивающимся.\n",
    "\n",
    "* В процессе расчёта значений обратите внимание, например, на показатели, возвращаемые методом `.describe()`, — объясните их. Применимы ли к таким данным обычные способы нахождения типичных значений?"
   ]
  },
  {
   "cell_type": "code",
   "execution_count": 212,
   "metadata": {},
   "outputs": [
    {
     "data": {
      "text/plain": [
       "0    39750000.0\n",
       "1           0.0\n",
       "2           0.0\n",
       "3     5000000.0\n",
       "4           0.0\n",
       "Name: funding__total, dtype: float64"
      ]
     },
     "execution_count": 212,
     "metadata": {},
     "output_type": "execute_result"
    }
   ],
   "source": [
    "company_and_acquition['funding__total'].head()"
   ]
  },
  {
   "cell_type": "code",
   "execution_count": 213,
   "metadata": {},
   "outputs": [],
   "source": [
    "#Для удобства разделим данные в столбце funding__total на миллион, чтобы дальше отражать данные в миллионах рублей:\n",
    "company_and_acquition['funding__total_millions'] = company_and_acquition['funding__total']/1000000"
   ]
  },
  {
   "cell_type": "markdown",
   "metadata": {},
   "source": [
    "<div class=\"alert alert-success\">\n",
    "<h2> Комментарий ревьюера v2 <a class=\"tocSkip\"> </h2>\n",
    "\n",
    "<b>Все супер!👍:</b> Интересное решение, глевное не забывать об этом шаге в реальных объемных проектах или составных если будешь работать в команде"
   ]
  },
  {
   "cell_type": "code",
   "execution_count": 214,
   "metadata": {
    "id": "8jm75fKXrJg2"
   },
   "outputs": [
    {
     "data": {
      "text/plain": [
       "count    40890.000000\n",
       "mean        10.135586\n",
       "std         56.412887\n",
       "min          0.000000\n",
       "25%          0.000000\n",
       "50%          0.600000\n",
       "75%          5.631320\n",
       "max       5700.000000\n",
       "Name: funding__total_millions, dtype: float64"
      ]
     },
     "execution_count": 214,
     "metadata": {},
     "output_type": "execute_result"
    }
   ],
   "source": [
    "#Выведим информацию по необходимому параметру методом describe:\n",
    "company_and_acquition['funding__total_millions'].describe()"
   ]
  },
  {
   "cell_type": "markdown",
   "metadata": {},
   "source": [
    "Разница между средним значением (10,1) и медианой (0,6) очень велика, стандартное отклонение равно 56,4, что тоже очень много. Между минимальным (0) и максимальным (5700) значениями тоже очень большая разница. Можно сделать выводы, что разброс данных достаточно велик, а также в данных будет много высоких выбросов. Также видно, что в выборке много нулевых значений. Уберем их для корректности."
   ]
  },
  {
   "cell_type": "markdown",
   "metadata": {},
   "source": [
    "<div class=\"alert alert-success\">\n",
    "<h2> Комментарий ревьюера v2 <a class=\"tocSkip\"> </h2>\n",
    "\n",
    "<b>Все супер!👍:</b> Молодец, что обратил внимание на особенности основных статистик и правильно интерпретировал различия в них"
   ]
  },
  {
   "cell_type": "code",
   "execution_count": 215,
   "metadata": {},
   "outputs": [],
   "source": [
    "company_and_acquition_not_zero_funding = company_and_acquition.loc[company_and_acquition['funding__total_millions']!=0]"
   ]
  },
  {
   "cell_type": "code",
   "execution_count": 216,
   "metadata": {},
   "outputs": [
    {
     "data": {
      "text/plain": [
       "count    27918.000000\n",
       "mean        14.845050\n",
       "std         67.758759\n",
       "min          0.000291\n",
       "25%          0.500000\n",
       "50%          2.573200\n",
       "75%         11.000000\n",
       "max       5700.000000\n",
       "Name: funding__total_millions, dtype: float64"
      ]
     },
     "execution_count": 216,
     "metadata": {},
     "output_type": "execute_result"
    }
   ],
   "source": [
    "company_and_acquition_not_zero_funding['funding__total_millions'].describe()"
   ]
  },
  {
   "cell_type": "code",
   "execution_count": 217,
   "metadata": {},
   "outputs": [
    {
     "data": {
      "text/plain": [
       "Text(0, 0.5, 'Компании')"
      ]
     },
     "execution_count": 217,
     "metadata": {},
     "output_type": "execute_result"
    },
    {
     "data": {
      "image/png": "[encoded data removed]",
      "text/plain": [
       "<Figure size 720x576 with 1 Axes>"
      ]
     },
     "metadata": {
      "needs_background": "light"
     },
     "output_type": "display_data"
    }
   ],
   "source": [
    "company_and_acquition_not_zero_funding['funding__total_millions'].hist(figsize=(10,8), edgecolor='black')\n",
    "plt.title('Распределение размера средств по компаниям')\n",
    "plt.xlabel('Размер средств, млн. руб.') \n",
    "plt.ylabel('Компании')"
   ]
  },
  {
   "cell_type": "code",
   "execution_count": 218,
   "metadata": {
    "id": "dIWqyEomn2MU"
   },
   "outputs": [
    {
     "data": {
      "text/plain": [
       "Text(0, 0.5, 'Компании')"
      ]
     },
     "execution_count": 218,
     "metadata": {},
     "output_type": "execute_result"
    },
    {
     "data": {
      "image/png": "[encoded data removed]",
      "text/plain": [
       "<Figure size 720x576 with 1 Axes>"
      ]
     },
     "metadata": {
      "needs_background": "light"
     },
     "output_type": "display_data"
    }
   ],
   "source": [
    "company_and_acquition_not_zero_funding.boxplot(column='funding__total_millions', figsize=(10,8))\n",
    "plt.title('Распределение размера средств по компаниям')\n",
    "plt.xlabel('Размер средств, млн. руб.') \n",
    "plt.ylabel('Компании')"
   ]
  },
  {
   "cell_type": "markdown",
   "metadata": {},
   "source": [
    "По гистограмме и диаграмме распределения сложно увидеть какую-то определенную картину, так как в выборке очень много высоких выбросов. Для большей наглядности уберем значения меньше 95 процентиля."
   ]
  },
  {
   "cell_type": "code",
   "execution_count": 219,
   "metadata": {},
   "outputs": [],
   "source": [
    "outliers = company_and_acquition_not_zero_funding['funding__total_millions'].quantile(0.95)"
   ]
  },
  {
   "cell_type": "code",
   "execution_count": 220,
   "metadata": {},
   "outputs": [],
   "source": [
    "company_and_acquition_not_zero_funding = company_and_acquition_not_zero_funding.loc[company_and_acquition_not_zero_funding['funding__total_millions']<outliers]"
   ]
  },
  {
   "cell_type": "code",
   "execution_count": 221,
   "metadata": {},
   "outputs": [
    {
     "data": {
      "text/plain": [
       "Text(0, 0.5, 'Компании')"
      ]
     },
     "execution_count": 221,
     "metadata": {},
     "output_type": "execute_result"
    },
    {
     "data": {
      "image/png": "[encoded data removed]",
      "text/plain": [
       "<Figure size 720x576 with 1 Axes>"
      ]
     },
     "metadata": {
      "needs_background": "light"
     },
     "output_type": "display_data"
    }
   ],
   "source": [
    "company_and_acquition_not_zero_funding['funding__total'].hist(figsize=(10,8), edgecolor='black')\n",
    "plt.title('Распределение размера средств по компаниям')\n",
    "plt.xlabel('Размер средств, руб.') \n",
    "plt.ylabel('Компании')"
   ]
  },
  {
   "cell_type": "code",
   "execution_count": 222,
   "metadata": {},
   "outputs": [
    {
     "data": {
      "text/plain": [
       "Text(0, 0.5, 'Компании')"
      ]
     },
     "execution_count": 222,
     "metadata": {},
     "output_type": "execute_result"
    },
    {
     "data": {
      "image/png": "[encoded data removed]",
      "text/plain": [
       "<Figure size 720x576 with 1 Axes>"
      ]
     },
     "metadata": {
      "needs_background": "light"
     },
     "output_type": "display_data"
    }
   ],
   "source": [
    "company_and_acquition_not_zero_funding.boxplot(column='funding__total_millions', figsize=(10,8))\n",
    "plt.title('Распределение размера средств по компаниям')\n",
    "plt.xlabel('Размер средств, млн. руб.') \n",
    "plt.ylabel('Компании')"
   ]
  },
  {
   "cell_type": "markdown",
   "metadata": {},
   "source": [
    "Теперь из графиков видно, что большая часть значений варьируется в пределах от 300 тыс. руб. до 7 млн. Это и будет типичный размер финансирования. Значительная часть объема финансирования варьируется в пределах до 17 млн. руб. То есть размер финансирования более 17 млн. руб. будет считаться выбивающимся."
   ]
  },
  {
   "cell_type": "markdown",
   "metadata": {},
   "source": [
    "<div class=\"alert alert-success\">\n",
    "<h2> Комментарий ревьюера v2 <a class=\"tocSkip\"> </h2>\n",
    "\n",
    "<b>Все супер!👍:</b>  Понятные и полезные выводы для заказчика и удачная визуализация результата, хвалю!"
   ]
  },
  {
   "cell_type": "markdown",
   "metadata": {
    "id": "JqkRAQrIrJg2"
   },
   "source": [
    "\n",
    "### 3.3. Куплены забесплатно?\n",
    "\n",
    "* Исследуйте компании, которые были проданы за ноль или за один доллар, и при этом известно, что у них был ненулевой общий объём финансирования.\n",
    "\n",
    "* Рассчитайте аналитически верхнюю и нижнюю границу выбросов для столбца `funding_total` и укажите, каким процентилям границы соответствуют. Учитывая озвученные выше предпосылки и собственные соображения, сделайте выводы о корректности планируемой заказчиком замены нижней и верхней границы выбросов на значения, рассчитанные по процентилям."
   ]
  },
  {
   "cell_type": "code",
   "execution_count": 223,
   "metadata": {},
   "outputs": [],
   "source": [
    "#Найдем компании с ненулевым общим объёмом финансирования:\n",
    "companies_with_not_zero_funding = company_and_acquition[(company_and_acquition['funding__total'] >0)]"
   ]
  },
  {
   "cell_type": "code",
   "execution_count": 224,
   "metadata": {
    "id": "wJHXCBwwrJg2"
   },
   "outputs": [
    {
     "name": "stderr",
     "output_type": "stream",
     "text": [
      "/tmp/ipykernel_133/3506754950.py:2: UserWarning: Boolean Series key will be reindexed to match DataFrame index.\n",
      "  companies_zero_and_one = companies_with_not_zero_funding[(company_and_acquition['price_amount']==0) |\n"
     ]
    }
   ],
   "source": [
    "#Среди них найдем те, которые были проданы за ноль или за один доллар:\n",
    "companies_zero_and_one = companies_with_not_zero_funding[(company_and_acquition['price_amount']==0) | \n",
    "                                               (company_and_acquition['price_amount']==1)]"
   ]
  },
  {
   "cell_type": "markdown",
   "metadata": {},
   "source": [
    "<div class=\"alert alert-warning\">\n",
    "    <h2> Комментарий ревьюера v2<a class=\"tocSkip\"> </h2>\n",
    "    \n",
    "<b>Небольшие замечания и рекомендации💡:</b>Николай, можно немного оптимизировать код сделав условие <=1. А предупреждение о несовпадении индексов лучше убать. Это не ошибка, но некоторые руководители очень негативно к ним отнотсятся"
   ]
  },
  {
   "cell_type": "code",
   "execution_count": 225,
   "metadata": {
    "id": "-kA4CO27n2ql"
   },
   "outputs": [
    {
     "name": "stdout",
     "output_type": "stream",
     "text": [
      "<class 'pandas.core.frame.DataFrame'>\n",
      "Int64Index: 1618 entries, 25 to 40872\n",
      "Data columns (total 20 columns):\n",
      " #   Column                   Non-Null Count  Dtype         \n",
      "---  ------                   --------------  -----         \n",
      " 0   company__id              1618 non-null   float64       \n",
      " 1   name                     1618 non-null   object        \n",
      " 2   category__code           1553 non-null   object        \n",
      " 3   status                   1618 non-null   object        \n",
      " 4   founded__at              1285 non-null   datetime64[ns]\n",
      " 5   closed__at               13 non-null     datetime64[ns]\n",
      " 6   domain                   1546 non-null   object        \n",
      " 7   network__username        812 non-null    object        \n",
      " 8   country__code            1536 non-null   object        \n",
      " 9   investment__rounds       1618 non-null   float64       \n",
      " 10  funding__rounds          1618 non-null   float64       \n",
      " 11  funding__total           1618 non-null   float64       \n",
      " 12  milestones               1618 non-null   float64       \n",
      " 13  id                       1618 non-null   float64       \n",
      " 14  acquiring_company_id     1618 non-null   float64       \n",
      " 15  acquired_company_id      1618 non-null   float64       \n",
      " 16  term_code                121 non-null    object        \n",
      " 17  price_amount             1618 non-null   float64       \n",
      " 18  acquired_at              1614 non-null   datetime64[ns]\n",
      " 19  funding__total_millions  1618 non-null   float64       \n",
      "dtypes: datetime64[ns](3), float64(10), object(7)\n",
      "memory usage: 265.5+ KB\n"
     ]
    },
    {
     "data": {
      "text/html": [
       "<div>\n",
       "<style scoped>\n",
       "    .dataframe tbody tr th:only-of-type {\n",
       "        vertical-align: middle;\n",
       "    }\n",
       "\n",
       "    .dataframe tbody tr th {\n",
       "        vertical-align: top;\n",
       "    }\n",
       "\n",
       "    .dataframe thead th {\n",
       "        text-align: right;\n",
       "    }\n",
       "</style>\n",
       "<table border=\"1\" class=\"dataframe\">\n",
       "  <thead>\n",
       "    <tr style=\"text-align: right;\">\n",
       "      <th></th>\n",
       "      <th>company__id</th>\n",
       "      <th>name</th>\n",
       "      <th>category__code</th>\n",
       "      <th>status</th>\n",
       "      <th>founded__at</th>\n",
       "      <th>closed__at</th>\n",
       "      <th>domain</th>\n",
       "      <th>network__username</th>\n",
       "      <th>country__code</th>\n",
       "      <th>investment__rounds</th>\n",
       "      <th>funding__rounds</th>\n",
       "      <th>funding__total</th>\n",
       "      <th>milestones</th>\n",
       "      <th>id</th>\n",
       "      <th>acquiring_company_id</th>\n",
       "      <th>acquired_company_id</th>\n",
       "      <th>term_code</th>\n",
       "      <th>price_amount</th>\n",
       "      <th>acquired_at</th>\n",
       "      <th>funding__total_millions</th>\n",
       "    </tr>\n",
       "  </thead>\n",
       "  <tbody>\n",
       "    <tr>\n",
       "      <th>25</th>\n",
       "      <td>10054.0</td>\n",
       "      <td>Jumptap</td>\n",
       "      <td>mobile</td>\n",
       "      <td>acquired</td>\n",
       "      <td>2005-01-01</td>\n",
       "      <td>NaT</td>\n",
       "      <td>jumptap.com</td>\n",
       "      <td>jumptap</td>\n",
       "      <td>USA</td>\n",
       "      <td>0.0</td>\n",
       "      <td>7.0</td>\n",
       "      <td>121500000.0</td>\n",
       "      <td>3.0</td>\n",
       "      <td>9288.0</td>\n",
       "      <td>23283.0</td>\n",
       "      <td>10054.0</td>\n",
       "      <td>cash_and_stock</td>\n",
       "      <td>0.0</td>\n",
       "      <td>2013-08-13</td>\n",
       "      <td>121.500</td>\n",
       "    </tr>\n",
       "    <tr>\n",
       "      <th>63</th>\n",
       "      <td>101312.0</td>\n",
       "      <td>SideTour</td>\n",
       "      <td>web</td>\n",
       "      <td>acquired</td>\n",
       "      <td>2011-06-01</td>\n",
       "      <td>NaT</td>\n",
       "      <td>sidetour.com</td>\n",
       "      <td>sidetour</td>\n",
       "      <td>USA</td>\n",
       "      <td>0.0</td>\n",
       "      <td>3.0</td>\n",
       "      <td>4000000.0</td>\n",
       "      <td>2.0</td>\n",
       "      <td>9653.0</td>\n",
       "      <td>11391.0</td>\n",
       "      <td>101312.0</td>\n",
       "      <td>NaN</td>\n",
       "      <td>0.0</td>\n",
       "      <td>2013-09-18</td>\n",
       "      <td>4.000</td>\n",
       "    </tr>\n",
       "    <tr>\n",
       "      <th>66</th>\n",
       "      <td>101340.0</td>\n",
       "      <td>ChoicePass</td>\n",
       "      <td>enterprise</td>\n",
       "      <td>acquired</td>\n",
       "      <td>2011-07-01</td>\n",
       "      <td>NaT</td>\n",
       "      <td>choicepass.com</td>\n",
       "      <td>choicepass</td>\n",
       "      <td>USA</td>\n",
       "      <td>0.0</td>\n",
       "      <td>1.0</td>\n",
       "      <td>250000.0</td>\n",
       "      <td>1.0</td>\n",
       "      <td>7272.0</td>\n",
       "      <td>1972.0</td>\n",
       "      <td>101340.0</td>\n",
       "      <td>NaN</td>\n",
       "      <td>0.0</td>\n",
       "      <td>2012-06-18</td>\n",
       "      <td>0.250</td>\n",
       "    </tr>\n",
       "    <tr>\n",
       "      <th>67</th>\n",
       "      <td>10137.0</td>\n",
       "      <td>Producteev</td>\n",
       "      <td>software</td>\n",
       "      <td>acquired</td>\n",
       "      <td>2008-07-08</td>\n",
       "      <td>NaT</td>\n",
       "      <td>producteev.com</td>\n",
       "      <td>producteev</td>\n",
       "      <td>USA</td>\n",
       "      <td>0.0</td>\n",
       "      <td>3.0</td>\n",
       "      <td>1310000.0</td>\n",
       "      <td>2.0</td>\n",
       "      <td>8254.0</td>\n",
       "      <td>757.0</td>\n",
       "      <td>10137.0</td>\n",
       "      <td>cash_and_stock</td>\n",
       "      <td>0.0</td>\n",
       "      <td>2012-11-05</td>\n",
       "      <td>1.310</td>\n",
       "    </tr>\n",
       "    <tr>\n",
       "      <th>68</th>\n",
       "      <td>10139.0</td>\n",
       "      <td>TradeCard</td>\n",
       "      <td>enterprise</td>\n",
       "      <td>acquired</td>\n",
       "      <td>1999-01-01</td>\n",
       "      <td>NaT</td>\n",
       "      <td>tradecard.com</td>\n",
       "      <td>TradeCard</td>\n",
       "      <td>USA</td>\n",
       "      <td>0.0</td>\n",
       "      <td>2.0</td>\n",
       "      <td>44925000.0</td>\n",
       "      <td>1.0</td>\n",
       "      <td>9326.0</td>\n",
       "      <td>44008.0</td>\n",
       "      <td>10139.0</td>\n",
       "      <td>NaN</td>\n",
       "      <td>0.0</td>\n",
       "      <td>2013-04-01</td>\n",
       "      <td>44.925</td>\n",
       "    </tr>\n",
       "  </tbody>\n",
       "</table>\n",
       "</div>"
      ],
      "text/plain": [
       "    company__id        name category__code    status founded__at closed__at  \\\n",
       "25      10054.0     Jumptap         mobile  acquired  2005-01-01        NaT   \n",
       "63     101312.0    SideTour            web  acquired  2011-06-01        NaT   \n",
       "66     101340.0  ChoicePass     enterprise  acquired  2011-07-01        NaT   \n",
       "67      10137.0  Producteev       software  acquired  2008-07-08        NaT   \n",
       "68      10139.0   TradeCard     enterprise  acquired  1999-01-01        NaT   \n",
       "\n",
       "            domain network__username country__code  investment__rounds  \\\n",
       "25     jumptap.com           jumptap           USA                 0.0   \n",
       "63    sidetour.com          sidetour           USA                 0.0   \n",
       "66  choicepass.com        choicepass           USA                 0.0   \n",
       "67  producteev.com        producteev           USA                 0.0   \n",
       "68   tradecard.com         TradeCard           USA                 0.0   \n",
       "\n",
       "    funding__rounds  funding__total  milestones      id  acquiring_company_id  \\\n",
       "25              7.0     121500000.0         3.0  9288.0               23283.0   \n",
       "63              3.0       4000000.0         2.0  9653.0               11391.0   \n",
       "66              1.0        250000.0         1.0  7272.0                1972.0   \n",
       "67              3.0       1310000.0         2.0  8254.0                 757.0   \n",
       "68              2.0      44925000.0         1.0  9326.0               44008.0   \n",
       "\n",
       "    acquired_company_id       term_code  price_amount acquired_at  \\\n",
       "25              10054.0  cash_and_stock           0.0  2013-08-13   \n",
       "63             101312.0             NaN           0.0  2013-09-18   \n",
       "66             101340.0             NaN           0.0  2012-06-18   \n",
       "67              10137.0  cash_and_stock           0.0  2012-11-05   \n",
       "68              10139.0             NaN           0.0  2013-04-01   \n",
       "\n",
       "    funding__total_millions  \n",
       "25                  121.500  \n",
       "63                    4.000  \n",
       "66                    0.250  \n",
       "67                    1.310  \n",
       "68                   44.925  "
      ]
     },
     "execution_count": 225,
     "metadata": {},
     "output_type": "execute_result"
    }
   ],
   "source": [
    "#Выгрузим информацию о датасете с такими компаниями:\n",
    "companies_zero_and_one.info()\n",
    "companies_zero_and_one.head()"
   ]
  },
  {
   "cell_type": "code",
   "execution_count": 226,
   "metadata": {},
   "outputs": [
    {
     "data": {
      "text/plain": [
       "<bound method IndexOpsMixin.nunique of 25           Jumptap\n",
       "63          SideTour\n",
       "66        ChoicePass\n",
       "67        Producteev\n",
       "68         TradeCard\n",
       "            ...     \n",
       "40834    Amie Street\n",
       "40836       UBmatrix\n",
       "40840     wunderloop\n",
       "40854         Zimbra\n",
       "40872           Yoke\n",
       "Name: name, Length: 1618, dtype: object>"
      ]
     },
     "execution_count": 226,
     "metadata": {},
     "output_type": "execute_result"
    }
   ],
   "source": [
    "companies_zero_and_one.name.nunique"
   ]
  },
  {
   "cell_type": "markdown",
   "metadata": {},
   "source": [
    "Таких компаний 1463. Они по сути были куплены за бесплатно."
   ]
  },
  {
   "cell_type": "markdown",
   "metadata": {},
   "source": [
    "Для расчета верхней и нижней границы выбросов аналитически, чаще всего используют межквартильный размах (IQR). IQR — это разница между 75-м и 25-м процентилями. Выбросы определяются как значения, лежащие за пределами:\n",
    "\n",
    "•  Нижняя граница: Q1 - 1.5 * IQR\n",
    "•  Верхняя граница: Q3 + 1.5 * IQR"
   ]
  },
  {
   "cell_type": "code",
   "execution_count": 227,
   "metadata": {},
   "outputs": [],
   "source": [
    "#Выводим 25-ый процентиль:\n",
    "Q1 = companies_zero_and_one['funding__total_millions'].quantile(0.25)"
   ]
  },
  {
   "cell_type": "code",
   "execution_count": 228,
   "metadata": {},
   "outputs": [],
   "source": [
    "#Выводим 75-ый процентиль:\n",
    "Q3 = companies_zero_and_one['funding__total_millions'].quantile(0.75)"
   ]
  },
  {
   "cell_type": "code",
   "execution_count": 229,
   "metadata": {},
   "outputs": [],
   "source": [
    "#Считаем межквартальный размах:\n",
    "IQR = Q3 - Q1"
   ]
  },
  {
   "cell_type": "code",
   "execution_count": 230,
   "metadata": {},
   "outputs": [],
   "source": [
    "lower_bound = Q1 - 1.5 * IQR\n",
    "upper_bound = Q3 + 1.5 * IQR "
   ]
  },
  {
   "cell_type": "code",
   "execution_count": 231,
   "metadata": {},
   "outputs": [
    {
     "data": {
      "text/plain": [
       "-18.25"
      ]
     },
     "execution_count": 231,
     "metadata": {},
     "output_type": "execute_result"
    }
   ],
   "source": [
    "#Выводим нижнюю границу:\n",
    "lower_bound"
   ]
  },
  {
   "cell_type": "code",
   "execution_count": 232,
   "metadata": {},
   "outputs": [
    {
     "data": {
      "text/plain": [
       "0"
      ]
     },
     "execution_count": 232,
     "metadata": {},
     "output_type": "execute_result"
    }
   ],
   "source": [
    "#Делаем нижнюю границу неотрицательной:\n",
    "max(0, Q1 - 1.5 * IQR)"
   ]
  },
  {
   "cell_type": "code",
   "execution_count": 233,
   "metadata": {},
   "outputs": [
    {
     "data": {
      "text/plain": [
       "35.75"
      ]
     },
     "execution_count": 233,
     "metadata": {},
     "output_type": "execute_result"
    }
   ],
   "source": [
    "#Выводим верхнюю границу:\n",
    "upper_bound"
   ]
  },
  {
   "cell_type": "markdown",
   "metadata": {},
   "source": [
    "Нижняя граница равна 0. Верхняя граница равна - 35,85 млн. руб. Можно сделать вывод, что корректно заменть верхнюю границы выбросов на значения, рассчитанные по процентилям."
   ]
  },
  {
   "cell_type": "markdown",
   "metadata": {},
   "source": [
    "<div class=\"alert alert-success\">\n",
    "<h2> Комментарий ревьюера v2 <a class=\"tocSkip\"> </h2>\n",
    "\n",
    "<b>Все супер!👍:</b> Задача решена корректно, нижняя граница действительно не может быть отрицательной, когда речь идет о финансовых показателях"
   ]
  },
  {
   "cell_type": "markdown",
   "metadata": {
    "id": "mEiWpROjrJg2"
   },
   "source": [
    "\n",
    "### 3.4. Цены стартапов по категориям\n",
    "\n",
    "Категории стартапов с наибольшими ценами и значительным разбросом цен могут быть наиболее привлекательными для крупных инвесторов, которые готовы к высоким рискам ради потенциально больших доходов. Среди категорий стартапов выделите категории стартапов, характеризующиеся:\n",
    "\n",
    "* наибольшими ценами;\n",
    "* и наибольшим разбросом цен за стартап.\n",
    "\n",
    "Объясните, почему решили составить топ именно из такого числа категорий и почему рассчитывали именно так."
   ]
  },
  {
   "cell_type": "code",
   "execution_count": 234,
   "metadata": {},
   "outputs": [],
   "source": [
    "#Группируем данные по имени компании и их ценам:\n",
    "company_price = company_and_acquition.groupby('name')['price_amount'].sum()"
   ]
  },
  {
   "cell_type": "code",
   "execution_count": 235,
   "metadata": {
    "id": "jQ09dYUWrJg2"
   },
   "outputs": [
    {
     "data": {
      "text/plain": [
       "count    4.074700e+04\n",
       "mean     9.079315e+07\n",
       "std      1.295679e+10\n",
       "min      0.000000e+00\n",
       "25%      0.000000e+00\n",
       "50%      0.000000e+00\n",
       "75%      0.000000e+00\n",
       "max      2.613900e+12\n",
       "Name: price_amount, dtype: float64"
      ]
     },
     "execution_count": 235,
     "metadata": {},
     "output_type": "execute_result"
    }
   ],
   "source": [
    "company_price.describe()"
   ]
  },
  {
   "cell_type": "code",
   "execution_count": 236,
   "metadata": {},
   "outputs": [],
   "source": [
    "#Для удобства переведем цены в млн. руб.:\n",
    "company_and_acquition['price_amount_millions'] = company_and_acquition['price_amount']/1000000"
   ]
  },
  {
   "cell_type": "code",
   "execution_count": 237,
   "metadata": {},
   "outputs": [],
   "source": [
    "#Отфильтруем нулевые значения цен и там, где категория компаний не определена:\n",
    "company_and_acquition_f = company_and_acquition[(company_and_acquition['price_amount']>0) & \n",
    "                                                               (company_and_acquition['category__code']!='other')]"
   ]
  },
  {
   "cell_type": "markdown",
   "metadata": {},
   "source": [
    "Сгруппируем все категории компаний по их числу, медиане и стандартному отклонению и выведим первые значения по медиане. Это будут компании с наибольшими ценами."
   ]
  },
  {
   "cell_type": "code",
   "execution_count": 238,
   "metadata": {},
   "outputs": [],
   "source": [
    "company_category_group_by_price = company_and_acquition_f.groupby(\n",
    "    'category__code')['price_amount_millions'].agg(['count', 'median', 'std']).sort_values(by='median', ascending=False).reset_index()"
   ]
  },
  {
   "cell_type": "code",
   "execution_count": 239,
   "metadata": {},
   "outputs": [
    {
     "data": {
      "text/plain": [
       "count       71.75000\n",
       "median     187.50000\n",
       "std       1290.61845\n",
       "Name: 0.75, dtype: float64"
      ]
     },
     "execution_count": 239,
     "metadata": {},
     "output_type": "execute_result"
    }
   ],
   "source": [
    "#Узнаем 75-ый квантиль, чтобы понять сколько именно топ значений нужно выводить.\n",
    "company_category_group_by_price.quantile(0.75)"
   ]
  },
  {
   "cell_type": "code",
   "execution_count": 240,
   "metadata": {},
   "outputs": [
    {
     "data": {
      "text/html": [
       "<div>\n",
       "<style scoped>\n",
       "    .dataframe tbody tr th:only-of-type {\n",
       "        vertical-align: middle;\n",
       "    }\n",
       "\n",
       "    .dataframe tbody tr th {\n",
       "        vertical-align: top;\n",
       "    }\n",
       "\n",
       "    .dataframe thead th {\n",
       "        text-align: right;\n",
       "    }\n",
       "</style>\n",
       "<table border=\"1\" class=\"dataframe\">\n",
       "  <thead>\n",
       "    <tr style=\"text-align: right;\">\n",
       "      <th></th>\n",
       "      <th>category__code</th>\n",
       "      <th>count</th>\n",
       "      <th>median</th>\n",
       "      <th>std</th>\n",
       "    </tr>\n",
       "  </thead>\n",
       "  <tbody>\n",
       "    <tr>\n",
       "      <th>0</th>\n",
       "      <td>automotive</td>\n",
       "      <td>3</td>\n",
       "      <td>2400.0</td>\n",
       "      <td>2581.669292</td>\n",
       "    </tr>\n",
       "    <tr>\n",
       "      <th>1</th>\n",
       "      <td>sports</td>\n",
       "      <td>2</td>\n",
       "      <td>622.5</td>\n",
       "      <td>512.652416</td>\n",
       "    </tr>\n",
       "    <tr>\n",
       "      <th>2</th>\n",
       "      <td>nanotech</td>\n",
       "      <td>1</td>\n",
       "      <td>584.0</td>\n",
       "      <td>NaN</td>\n",
       "    </tr>\n",
       "    <tr>\n",
       "      <th>3</th>\n",
       "      <td>real_estate</td>\n",
       "      <td>6</td>\n",
       "      <td>400.0</td>\n",
       "      <td>2676.302206</td>\n",
       "    </tr>\n",
       "    <tr>\n",
       "      <th>4</th>\n",
       "      <td>manufacturing</td>\n",
       "      <td>21</td>\n",
       "      <td>351.0</td>\n",
       "      <td>1060.434506</td>\n",
       "    </tr>\n",
       "    <tr>\n",
       "      <th>5</th>\n",
       "      <td>transportation</td>\n",
       "      <td>3</td>\n",
       "      <td>230.0</td>\n",
       "      <td>572.625532</td>\n",
       "    </tr>\n",
       "    <tr>\n",
       "      <th>6</th>\n",
       "      <td>biotech</td>\n",
       "      <td>263</td>\n",
       "      <td>200.0</td>\n",
       "      <td>1968.195264</td>\n",
       "    </tr>\n",
       "    <tr>\n",
       "      <th>7</th>\n",
       "      <td>analytics</td>\n",
       "      <td>3</td>\n",
       "      <td>200.0</td>\n",
       "      <td>92.967736</td>\n",
       "    </tr>\n",
       "    <tr>\n",
       "      <th>8</th>\n",
       "      <td>fashion</td>\n",
       "      <td>3</td>\n",
       "      <td>195.0</td>\n",
       "      <td>86.494219</td>\n",
       "    </tr>\n",
       "  </tbody>\n",
       "</table>\n",
       "</div>"
      ],
      "text/plain": [
       "   category__code  count  median          std\n",
       "0      automotive      3  2400.0  2581.669292\n",
       "1          sports      2   622.5   512.652416\n",
       "2        nanotech      1   584.0          NaN\n",
       "3     real_estate      6   400.0  2676.302206\n",
       "4   manufacturing     21   351.0  1060.434506\n",
       "5  transportation      3   230.0   572.625532\n",
       "6         biotech    263   200.0  1968.195264\n",
       "7       analytics      3   200.0    92.967736\n",
       "8         fashion      3   195.0    86.494219"
      ]
     },
     "execution_count": 240,
     "metadata": {},
     "output_type": "execute_result"
    }
   ],
   "source": [
    "#Выведим топ категорий компаний с наибольшими ценами:\n",
    "company_category_group_by_price.loc[company_category_group_by_price['median']>187.5]"
   ]
  },
  {
   "cell_type": "markdown",
   "metadata": {},
   "source": [
    "Получилось топ 8 категорий компаний значения медианной цены которых больше 75 процентиля."
   ]
  },
  {
   "cell_type": "markdown",
   "metadata": {},
   "source": [
    "Далее выведим топ категорий компаний по стандартному отклонению. Это будут топ категорий компаний с наибольшим разбросом цен за стартап."
   ]
  },
  {
   "cell_type": "code",
   "execution_count": 241,
   "metadata": {},
   "outputs": [],
   "source": [
    "company_category_group_by_std = company_and_acquition_f.groupby(\n",
    "    'category__code')['price_amount_millions'].agg(['count', 'median', 'std']).sort_values(by='std', ascending=False).reset_index()"
   ]
  },
  {
   "cell_type": "code",
   "execution_count": 242,
   "metadata": {},
   "outputs": [
    {
     "data": {
      "text/html": [
       "<div>\n",
       "<style scoped>\n",
       "    .dataframe tbody tr th:only-of-type {\n",
       "        vertical-align: middle;\n",
       "    }\n",
       "\n",
       "    .dataframe tbody tr th {\n",
       "        vertical-align: top;\n",
       "    }\n",
       "\n",
       "    .dataframe thead th {\n",
       "        text-align: right;\n",
       "    }\n",
       "</style>\n",
       "<table border=\"1\" class=\"dataframe\">\n",
       "  <thead>\n",
       "    <tr style=\"text-align: right;\">\n",
       "      <th></th>\n",
       "      <th>category__code</th>\n",
       "      <th>count</th>\n",
       "      <th>median</th>\n",
       "      <th>std</th>\n",
       "    </tr>\n",
       "  </thead>\n",
       "  <tbody>\n",
       "    <tr>\n",
       "      <th>0</th>\n",
       "      <td>enterprise</td>\n",
       "      <td>116</td>\n",
       "      <td>54.75</td>\n",
       "      <td>241358.098251</td>\n",
       "    </tr>\n",
       "    <tr>\n",
       "      <th>1</th>\n",
       "      <td>public_relations</td>\n",
       "      <td>74</td>\n",
       "      <td>110.00</td>\n",
       "      <td>6854.337756</td>\n",
       "    </tr>\n",
       "    <tr>\n",
       "      <th>2</th>\n",
       "      <td>real_estate</td>\n",
       "      <td>6</td>\n",
       "      <td>400.00</td>\n",
       "      <td>2676.302206</td>\n",
       "    </tr>\n",
       "    <tr>\n",
       "      <th>3</th>\n",
       "      <td>automotive</td>\n",
       "      <td>3</td>\n",
       "      <td>2400.00</td>\n",
       "      <td>2581.669292</td>\n",
       "    </tr>\n",
       "    <tr>\n",
       "      <th>4</th>\n",
       "      <td>biotech</td>\n",
       "      <td>263</td>\n",
       "      <td>200.00</td>\n",
       "      <td>1968.195264</td>\n",
       "    </tr>\n",
       "    <tr>\n",
       "      <th>5</th>\n",
       "      <td>health</td>\n",
       "      <td>10</td>\n",
       "      <td>140.00</td>\n",
       "      <td>1927.099525</td>\n",
       "    </tr>\n",
       "    <tr>\n",
       "      <th>6</th>\n",
       "      <td>games_video</td>\n",
       "      <td>88</td>\n",
       "      <td>58.25</td>\n",
       "      <td>1463.477654</td>\n",
       "    </tr>\n",
       "    <tr>\n",
       "      <th>7</th>\n",
       "      <td>security</td>\n",
       "      <td>36</td>\n",
       "      <td>164.50</td>\n",
       "      <td>1378.442023</td>\n",
       "    </tr>\n",
       "    <tr>\n",
       "      <th>8</th>\n",
       "      <td>mobile</td>\n",
       "      <td>117</td>\n",
       "      <td>56.00</td>\n",
       "      <td>1319.471637</td>\n",
       "    </tr>\n",
       "  </tbody>\n",
       "</table>\n",
       "</div>"
      ],
      "text/plain": [
       "     category__code  count   median            std\n",
       "0        enterprise    116    54.75  241358.098251\n",
       "1  public_relations     74   110.00    6854.337756\n",
       "2       real_estate      6   400.00    2676.302206\n",
       "3        automotive      3  2400.00    2581.669292\n",
       "4           biotech    263   200.00    1968.195264\n",
       "5            health     10   140.00    1927.099525\n",
       "6       games_video     88    58.25    1463.477654\n",
       "7          security     36   164.50    1378.442023\n",
       "8            mobile    117    56.00    1319.471637"
      ]
     },
     "execution_count": 242,
     "metadata": {},
     "output_type": "execute_result"
    }
   ],
   "source": [
    "#Выведим топ категорий компаний с наибольшим разбросом цен за стартап:\n",
    "company_category_group_by_std.loc[company_category_group_by_std['std']>1290.61845]"
   ]
  },
  {
   "cell_type": "markdown",
   "metadata": {},
   "source": [
    "Получилось топ 8 категорий компаний значения стандартного отклонения цены которых больше 75 процентиля."
   ]
  },
  {
   "cell_type": "markdown",
   "metadata": {},
   "source": [
    "<div class=\"alert alert-warning\">\n",
    "    <h2> Комментарий ревьюера v2<a class=\"tocSkip\"> </h2>\n",
    "    \n",
    "<b>Небольшие замечания и рекомендации💡:</b>Методы для оценки максимальных цен и разброса подобраны хорошо. В выводах я предлагаю добавить какие категории попали в лидирующие позиции обоих \"Топов\". Это как раз будут лучшие направления для наиболее рискованных инвестиций с целью потенциального получения максимальной прибыли"
   ]
  },
  {
   "cell_type": "markdown",
   "metadata": {
    "id": "ADOfyVY_rJg3"
   },
   "source": [
    "\n",
    "### 3.5. Сколько раундов продержится стартап перед покупкой\n",
    "\n",
    "* Необходимо проанализировать столбец `funding_rounds`. Исследуйте значения столбца. Заказчика интересует типичное значение количества раундов для каждого возможного статуса стартапа.\n",
    "\n",
    "* Постройте график, который отображает, сколько в среднем раундов финансирования проходило для стартапов из каждой группы. Сделайте выводы."
   ]
  },
  {
   "cell_type": "code",
   "execution_count": 243,
   "metadata": {
    "id": "hgXMPC4WrJg3"
   },
   "outputs": [
    {
     "data": {
      "text/plain": [
       "<AxesSubplot:>"
      ]
     },
     "execution_count": 243,
     "metadata": {},
     "output_type": "execute_result"
    },
    {
     "data": {
      "image/png": "[encoded data removed]",
      "text/plain": [
       "<Figure size 720x576 with 1 Axes>"
      ]
     },
     "metadata": {
      "needs_background": "light"
     },
     "output_type": "display_data"
    }
   ],
   "source": [
    "#Построим диаграмму размаха для столбца funding__rounds:\n",
    "company_and_acquition.boxplot(column='funding__rounds', figsize=(10,8))"
   ]
  },
  {
   "cell_type": "code",
   "execution_count": 244,
   "metadata": {},
   "outputs": [
    {
     "data": {
      "text/plain": [
       "count    40890.000000\n",
       "mean         1.289313\n",
       "std          1.264921\n",
       "min          0.000000\n",
       "25%          1.000000\n",
       "50%          1.000000\n",
       "75%          2.000000\n",
       "max         15.000000\n",
       "Name: funding__rounds, dtype: float64"
      ]
     },
     "execution_count": 244,
     "metadata": {},
     "output_type": "execute_result"
    }
   ],
   "source": [
    "company_and_acquition['funding__rounds'].describe()"
   ]
  },
  {
   "cell_type": "markdown",
   "metadata": {},
   "source": [
    "Большая часть значений раундов составляет 1 или 2. Есть также нулевые значения. Значения больше 3-х раундов относятся к выбросам."
   ]
  },
  {
   "cell_type": "code",
   "execution_count": 245,
   "metadata": {},
   "outputs": [],
   "source": [
    "#Уберем нулевые значения раундов:\n",
    "company_and_acquition = company_and_acquition.loc[company_and_acquition['funding__rounds']>0]"
   ]
  },
  {
   "cell_type": "markdown",
   "metadata": {},
   "source": [
    "<div class=\"alert alert-success\">\n",
    "<h2> Комментарий ревьюера v2 <a class=\"tocSkip\"> </h2>\n",
    "\n",
    "<b>Все супер!👍:</b> Практичное решение рассмотреть именно компании получившие финансирование"
   ]
  },
  {
   "cell_type": "code",
   "execution_count": 246,
   "metadata": {},
   "outputs": [],
   "source": [
    "#Сгруппируем среднее количество раундов по статусам компаний:\n",
    "status_groups = company_and_acquition.groupby('status')['funding__rounds'].mean()"
   ]
  },
  {
   "cell_type": "code",
   "execution_count": 247,
   "metadata": {},
   "outputs": [
    {
     "data": {
      "text/plain": [
       "status\n",
       "acquired     1.897766\n",
       "closed       1.383437\n",
       "ipo          2.526531\n",
       "operating    1.642359\n",
       "Name: funding__rounds, dtype: float64"
      ]
     },
     "execution_count": 247,
     "metadata": {},
     "output_type": "execute_result"
    }
   ],
   "source": [
    "status_groups"
   ]
  },
  {
   "cell_type": "code",
   "execution_count": 248,
   "metadata": {},
   "outputs": [
    {
     "data": {
      "text/plain": [
       "<AxesSubplot:title={'center':'Распределение раундов финансирования по статусам компаний'}, xlabel='Статус компании', ylabel='Среднее количество раундов финансирования'>"
      ]
     },
     "execution_count": 248,
     "metadata": {},
     "output_type": "execute_result"
    },
    {
     "data": {
      "image/png": "[encoded data removed]",
      "text/plain": [
       "<Figure size 720x576 with 1 Axes>"
      ]
     },
     "metadata": {
      "needs_background": "light"
     },
     "output_type": "display_data"
    }
   ],
   "source": [
    "#Отобразим это на столбчатой диаграмме:\n",
    "status_groups.plot(kind='bar', figsize=(10,8), title='Распределение раундов финансирования по статусам компаний',\n",
    "                  xlabel='Статус компании', ylabel='Среднее количество раундов финансирования')"
   ]
  },
  {
   "cell_type": "markdown",
   "metadata": {},
   "source": [
    "Наибольшее среднее количество раундов финансирования характерно для статуса ipo и составляет примерно 2,5 раунда. Для статусов acquired и operating характерно примерно одинаковое количество раундов финансирования - чуть менее 2-х. Наименьшее - для closed - 1,4 раунда. Получается, что наиболее перспективные стартапы относятся к статусам ipo."
   ]
  },
  {
   "cell_type": "markdown",
   "metadata": {},
   "source": [
    "<div class=\"alert alert-warning\">\n",
    "    <h2> Комментарий ревьюера v2 <a class=\"tocSkip\"> </h2>\n",
    "    \n",
    "<b>Небольшие замечания и рекомендации💡:</b> Все сделано верно! Можно добавить сортировку рядов данных по убыванию значений, чтбы нагляднее сравнить результаты"
   ]
  },
  {
   "cell_type": "markdown",
   "metadata": {
    "id": "VAFEZ2HBrJg3"
   },
   "source": [
    "\n",
    "## Шаг 4. Итоговый вывод и рекомендации\n",
    "\n",
    "Опишите, что было сделано в проекте, какие были сделаны выводы, подкрепляют ли они друг друга или заставляют сомневаться в полученных результатах."
   ]
  },
  {
   "cell_type": "markdown",
   "metadata": {},
   "source": [
    "По ходу проекта были изучены финансовые данные разных компаний за разные годы для понимания, как войти на инвестиционный рынок с прицелом на покупку, развитие и последующую перепродажу перспективных стартапов.\n",
    "\n",
    "В ходе проекта было выявлено следующее:\n",
    "\n",
    "* 1) по каким столбцам можно объединять данные из разных таблиц; \n",
    "\n",
    "* 2) можно ли доверять данным о сотрудниках стартапов и их образовании; \n",
    "\n",
    "* 3) что значат покупки за 0 или за 1 доллар; \n",
    "\n",
    "* 4) какая цена в зависимости от категории стартапов и количества раундов финансирования перед его покупкой; \n",
    "\n",
    "* 5) как рассчитать и отобразить численные показатели и динамику. \n"
   ]
  },
  {
   "cell_type": "markdown",
   "metadata": {},
   "source": [
    "Подробное описание выводов:\n",
    "\n",
    "В работе были проанализированы раунды финансирования по годам. Были показаны типичный размер средств, выделяемый в рамках одного раунда и общее количество раундов финансирования за этот год. \n",
    "\n",
    "\n",
    "По ходу исследования стало понятно, что в 2005 году типичный размер собранных в рамках одного раунда средств был максимален и составил 5,5 млн. руб. В 2013 году было сильно больше количество раундов по сравнению с предыдущими годами. Однако размер собранных в рамках одного раунда был на весьма низком уровне по сравнению со всей выборкой годов. Хотя в 2013 размер собранных средств в рамках одного раунда был больше чем в предыдущем году, это значение является самым низким за исключением 2012 г.. То есть тенденцию можно вкратце описать так: количество раундов неуклонно растет, а размер средств резко падает с 2005 г. с отметки в 5,5 млн. руб. до 1 млн. руб. в 2012 г. В 2013 г. появился незначительный рост (до 1,2 млн. руб.), но это не означает, что он продолжится дальше.\n",
    "\n",
    "\n",
    "\n",
    "Было проанализировано, зависит ли полнота сведений о сотрудниках (например, об их образовании) от размера компаний. После исследования стало понятно, что что данные весьма неполные. Во всех группах данные об образовании отсутсвуют практически в 60% случаев. Больше всего пропусков для очень больших компаний, меньше всего - для средних.\n",
    "\n",
    "\n",
    "Были проанализированы возможности объединения датасетов по разным параметрам.\n",
    "Объединенный датасет people_education можно объединить с датасетом degrees по индентификатора сторудника/работника (object_id/person_id).\n",
    "Столбец network_username встречается в трех датасетах: company_and_rounds, people и fund. В первом датасете этот столбец означает ник компании, во втором - ник сотрудника, а в третьем - ник фонда. То есть столбцы в разных датасетах с одинковыми названими хранят разные данные, а значит использовать их для объединения нельзя. Далее мы доказали это, используя принципы уникальности, пропущенных значений и примеров значений.\n",
    "\n",
    "\n",
    "Далее мы обратили внимание на датасет company_and_rounds. Было замечено, что датасет состоял из двух разных таблиц, которые объединили по ключу company ID, но объединение произошло не совсем верно. Отсюда столько пропусков в данных, относящихся к финансированию. Эту гипотезу подтверждает и наличие двух почти идентичных названия (company ID и company id), которые скорее всего являлись ключами для объединения двух более мелких таблиц. датафрейм был разделен на две части: часть до столбца 'milestones' включительно (датасет company) и часть после столбца 'funding_round_id' включительно (датасет funding rounds). Далее исследование проводилось только по первому датафрейму (company) из разделенного датафрейма company_and_rounds. \n",
    "\n",
    "\n",
    "Был проанализирован типичный размер финансирования для компаний в объединенном датасете и отфильтрованного по определенным признакам датасете company и датасета acquition. Был сделан вывод, что типичный размер финансирования равен от 300 тыс. руб. до 7 млн. Значительная часть объема финансирования варьируется в пределах до 17 млн. руб. То есть размер финансирования более 17 млн. руб. будет считаться выбивающимся.\n",
    "\n",
    "\n",
    "В выборке встречаются 1463 компании, купленные за бесплатно. Нижняя граница объема финансирования для таких компаний равна 0. Верхняя граница равна - 35,85 млн. руб. Можно сделать вывод, что корректно заменть верхнюю границы выбросов на значения, рассчитанные по процентилям.\n",
    "\n",
    "\n",
    "Были составлены топ категорий стартапов с наибольшими ценами и наибольшим разбросом цен за стартап. В топ 3 категорий стартапов с наибольшими ценами вошли , sports и nanotech. В топ категорий стартапов с наибольшим разбросом цен вошли enterprise, public_relations и real_estate. В топ 8 в группах (с наибольшими ценами и с наибольшим разбросом) вошли real_estate, automotive и biotech. Они и будут наиболее перспективными категориями стартапов.\n",
    "\n",
    "\n",
    "Наибольшее среднее количество раундов финансирования характерно для статуса стартапов ipo и составляет примерно 2,5 раунда. Для статусов acquired и operating характерно примерно одинаковое количество раундов финансирования - чуть менее 2-х. Наименьшее - для closed - 1,4 раунда. Получается, что наиболее перспективные стартапы относятся к статусам ipo."
   ]
  },
  {
   "cell_type": "markdown",
   "metadata": {},
   "source": [
    "Итоговые выводы и важнейшие рекомендации:\n",
    "\n",
    "* Объединение датасетов можно проводить порой по столбцам с абсолютно разным названием, но с одной идеей. Нужно внимательно вчитываться в содержание данных перед объединением. И наоборот, объединять датасеты по столбцам с одинаковым названием иногда нельзя. Выше как раз приводится такой пример.\n",
    "\n",
    "* Было проанализировано, зависит ли полнота сведений о сотрудниках (например, об их образовании) от размера компаний. После исследования стало понятно, что что данные весьма неполные. Во всех группах данные об образовании отсутсвуют практически в 60% случаев. Больше всего пропусков для очень больших компаний, меньше всего - для средних. Это значит, что доверять данным о сотрудниках стартапов и их образовании нельзя.\n",
    "\n",
    "* Типичный размер финансирования компании равен от 300 тыс. руб. до 7 млн. Размер финансирования более 17 млн. руб. будет считаться выбивающимся.\n",
    "\n",
    "* Покупки за 0 или за 1 доллар компаний означают, что они были куплены по сути за бесплатно. В выборке встречаются 1463 таких компании. Нижняя граница объема финансирования для таких компаний равна 0. Верхняя граница равна - 35,85 млн. руб. Можно сделать вывод, что корректно заменть верхнюю границы выбросов на значения, рассчитанные по процентилям.\n",
    "\n",
    "* В топ категорий стартапов с наибольшим разбросом цен вошли enterprise, public_relations и real_estate. В топ 8 в группах (с наибольшими ценами и с наибольшим разбросом) вошли real_estate, automotive и biotech. Они и будут наиболее перспективными категориями стартапов.\n",
    "\n",
    "* Наибольшее среднее количество раундов финансирования характерно для статуса стартапов ipo и составляет примерно 2,5 раунда. Для статусов acquired и operating характерно примерно одинаковое количество раундов финансирования - чуть менее 2-х. Наименьшее - для closed - 1,4 раунда. Получается, что наиболее перспективные стартапы относятся к статусам ipo.\n",
    "\n",
    "* Стоит обратить внимание на стартапы категорий real_estate, automotive и biotech и на статус стартапов ipo. Такие стартапы наиболее перспективны.\n"
   ]
  },
  {
   "cell_type": "markdown",
   "metadata": {},
   "source": [
    "<div class=\"alert alert-success\">\n",
    "<h2> Комментарий ревьюера v2 <a class=\"tocSkip\"> </h2>\n",
    "\n",
    "<b>Все супер!👍:</b>   Николай, итоговый вывод, как и весь проект в целом, выполнен классно! Он структурирован и содержит  наиболее значиные результаты  работы, есть и полезные итоговые рекомендации для бизнеса. Такой подход выгодно подчеркивает твою вовлеченность в работу и анализируемую отрасль, а также показывает полезность результатов для заказчика.\n",
    "        \n",
    "        \n",
    "Итоговые выводы - важная часть работы и в твоих будующих реальных проектах советую уделять ей особое внимание. Бывают ситуации, когда у руководства нет времени вникать в весь проект и оценка твоих действий будет проводиться именно по ним.    \n",
    "        \n"
   ]
  },
  {
   "cell_type": "markdown",
   "metadata": {},
   "source": [
    "<div style=\"border:solid Chocolate 2px; padding: 40px\">\n",
    "    \n",
    "**Общий вывод по проекту ревьювера**:\n",
    "     Спасибо за  проект! Ты приложил много усилий, чтобы довести его до конца, проделана огромная работа, и это видно невооруженным глазом, ты большой молодец! У тебя отлично развиты аналитические способности и владение инструментарием. Если после проекта останутся вопросы по материалам спринта или моим комментариям, обращайся через куратора, буду рад помочь разобраться.\n",
    "    \n",
    "**Отмечу положительные моменты**:\n",
    "    \n",
    "    1. Все разложено по полочкам, всегда понятен ход твоих мыслей, приятно смотреть.\n",
    "    \n",
    "    2. Понятные и логичные выводы на всех этапах работы.\n",
    "    \n",
    "    3. Отличные визуализации.      \n",
    "    \n",
    "    4. Внимание к деталям в анализе\n",
    "    \n",
    "    \n",
    "    \n",
    "**Желаю успешного и интересного продолжения учебы. Поздравляю тебя, увидимся в Практикуме!**\n",
    "    \n",
    "    "
   ]
  },
  {
   "cell_type": "code",
   "execution_count": null,
   "metadata": {},
   "outputs": [],
   "source": []
  }
 ],
 "metadata": {
  "ExecuteTimeLog": [
   {
    "duration": 1391,
    "start_time": "2025-02-18T08:53:30.418Z"
   },
   {
    "duration": 3792,
    "start_time": "2025-02-18T08:53:47.265Z"
   },
   {
    "duration": 60,
    "start_time": "2025-02-18T08:54:04.978Z"
   },
   {
    "duration": 2463,
    "start_time": "2025-02-18T08:58:30.313Z"
   },
   {
    "duration": 142,
    "start_time": "2025-02-18T09:03:32.725Z"
   },
   {
    "duration": 102,
    "start_time": "2025-02-18T09:06:30.249Z"
   },
   {
    "duration": 198,
    "start_time": "2025-02-18T09:19:27.739Z"
   },
   {
    "duration": 98,
    "start_time": "2025-02-18T09:19:40.063Z"
   },
   {
    "duration": 232,
    "start_time": "2025-02-18T09:29:01.931Z"
   },
   {
    "duration": 113,
    "start_time": "2025-02-18T09:29:12.091Z"
   },
   {
    "duration": 47,
    "start_time": "2025-02-18T09:29:22.733Z"
   },
   {
    "duration": 108,
    "start_time": "2025-02-18T09:29:26.955Z"
   },
   {
    "duration": 1703,
    "start_time": "2025-02-18T09:40:42.111Z"
   },
   {
    "duration": 1595,
    "start_time": "2025-02-18T09:41:20.033Z"
   },
   {
    "duration": 1528,
    "start_time": "2025-02-18T09:41:35.414Z"
   },
   {
    "duration": 2949,
    "start_time": "2025-02-18T09:42:30.184Z"
   },
   {
    "duration": 2338,
    "start_time": "2025-02-18T09:42:45.375Z"
   },
   {
    "duration": 1397,
    "start_time": "2025-02-18T09:44:53.486Z"
   },
   {
    "duration": 1650,
    "start_time": "2025-02-18T09:46:05.467Z"
   },
   {
    "duration": 1683,
    "start_time": "2025-02-18T09:48:42.045Z"
   },
   {
    "duration": 1721,
    "start_time": "2025-02-18T09:48:54.989Z"
   },
   {
    "duration": 8,
    "start_time": "2025-02-18T09:49:15.074Z"
   },
   {
    "duration": 1321,
    "start_time": "2025-02-18T09:50:52.375Z"
   },
   {
    "duration": 118,
    "start_time": "2025-02-18T09:51:09.241Z"
   },
   {
    "duration": 8,
    "start_time": "2025-02-18T09:51:29.273Z"
   },
   {
    "duration": 1757,
    "start_time": "2025-02-18T09:55:22.582Z"
   },
   {
    "duration": 1387,
    "start_time": "2025-02-18T09:55:48.421Z"
   },
   {
    "duration": 1632,
    "start_time": "2025-02-18T09:55:58.454Z"
   },
   {
    "duration": 72,
    "start_time": "2025-02-18T09:57:27.829Z"
   },
   {
    "duration": 56,
    "start_time": "2025-02-18T12:27:18.466Z"
   },
   {
    "duration": 1471,
    "start_time": "2025-02-18T12:27:25.539Z"
   },
   {
    "duration": 3883,
    "start_time": "2025-02-18T12:27:28.356Z"
   },
   {
    "duration": 63,
    "start_time": "2025-02-18T12:27:33.967Z"
   },
   {
    "duration": 2847,
    "start_time": "2025-02-18T12:27:35.352Z"
   },
   {
    "duration": 2247,
    "start_time": "2025-02-18T12:34:30.050Z"
   },
   {
    "duration": 144,
    "start_time": "2025-02-18T12:34:38.064Z"
   },
   {
    "duration": 4,
    "start_time": "2025-02-18T12:34:40.625Z"
   },
   {
    "duration": 96,
    "start_time": "2025-02-18T12:34:44.139Z"
   },
   {
    "duration": 4,
    "start_time": "2025-02-18T12:35:09.480Z"
   },
   {
    "duration": 99,
    "start_time": "2025-02-18T12:35:31.595Z"
   },
   {
    "duration": 78,
    "start_time": "2025-02-18T12:35:41.333Z"
   },
   {
    "duration": 21,
    "start_time": "2025-02-18T12:35:48.681Z"
   },
   {
    "duration": 36,
    "start_time": "2025-02-18T12:35:52.538Z"
   },
   {
    "duration": 34,
    "start_time": "2025-02-18T12:36:52.687Z"
   },
   {
    "duration": 11,
    "start_time": "2025-02-18T12:36:54.394Z"
   },
   {
    "duration": 14,
    "start_time": "2025-02-18T12:37:03.631Z"
   },
   {
    "duration": 35,
    "start_time": "2025-02-18T12:37:12.031Z"
   },
   {
    "duration": 59,
    "start_time": "2025-02-18T12:37:18.036Z"
   },
   {
    "duration": 34,
    "start_time": "2025-02-18T12:37:22.251Z"
   },
   {
    "duration": 1282,
    "start_time": "2025-02-18T12:37:38.718Z"
   },
   {
    "duration": 2616,
    "start_time": "2025-02-18T12:37:40.002Z"
   },
   {
    "duration": 57,
    "start_time": "2025-02-18T12:37:42.620Z"
   },
   {
    "duration": 2065,
    "start_time": "2025-02-18T12:37:42.679Z"
   },
   {
    "duration": 137,
    "start_time": "2025-02-18T12:37:44.746Z"
   },
   {
    "duration": 105,
    "start_time": "2025-02-18T12:37:44.885Z"
   },
   {
    "duration": 43,
    "start_time": "2025-02-18T12:37:44.992Z"
   },
   {
    "duration": 200,
    "start_time": "2025-02-18T12:37:45.036Z"
   },
   {
    "duration": 216,
    "start_time": "2025-02-18T12:37:45.237Z"
   },
   {
    "duration": 3,
    "start_time": "2025-02-18T12:37:45.455Z"
   },
   {
    "duration": 2768,
    "start_time": "2025-02-18T12:37:46.093Z"
   },
   {
    "duration": 4,
    "start_time": "2025-02-18T12:37:48.863Z"
   },
   {
    "duration": 2115,
    "start_time": "2025-02-18T12:37:51.953Z"
   },
   {
    "duration": 131,
    "start_time": "2025-02-18T12:37:56.241Z"
   },
   {
    "duration": 95,
    "start_time": "2025-02-18T12:37:57.995Z"
   },
   {
    "duration": 35,
    "start_time": "2025-02-18T12:37:59.781Z"
   },
   {
    "duration": 99,
    "start_time": "2025-02-18T12:38:00.729Z"
   },
   {
    "duration": 186,
    "start_time": "2025-02-18T12:38:02.703Z"
   },
   {
    "duration": 17,
    "start_time": "2025-02-18T14:14:19.933Z"
   },
   {
    "duration": 140,
    "start_time": "2025-02-18T14:20:42.028Z"
   },
   {
    "duration": 6,
    "start_time": "2025-02-18T14:21:19.433Z"
   },
   {
    "duration": 3806,
    "start_time": "2025-02-18T14:25:28.999Z"
   },
   {
    "duration": 20,
    "start_time": "2025-02-18T14:25:51.924Z"
   },
   {
    "duration": 123,
    "start_time": "2025-02-18T14:26:17.145Z"
   },
   {
    "duration": 74,
    "start_time": "2025-02-18T14:26:25.581Z"
   },
   {
    "duration": 31,
    "start_time": "2025-02-18T14:26:27.075Z"
   },
   {
    "duration": 76,
    "start_time": "2025-02-18T14:26:27.725Z"
   },
   {
    "duration": 53,
    "start_time": "2025-02-18T14:26:29.096Z"
   },
   {
    "duration": 18,
    "start_time": "2025-02-18T14:26:29.999Z"
   },
   {
    "duration": 17,
    "start_time": "2025-02-18T14:26:31.582Z"
   },
   {
    "duration": 50,
    "start_time": "2025-02-18T14:27:22.562Z"
   },
   {
    "duration": 18,
    "start_time": "2025-02-18T14:28:42.318Z"
   },
   {
    "duration": 49,
    "start_time": "2025-02-18T14:28:43.536Z"
   },
   {
    "duration": 51,
    "start_time": "2025-02-18T14:34:12.903Z"
   },
   {
    "duration": 22,
    "start_time": "2025-02-18T14:44:51.058Z"
   },
   {
    "duration": 2488,
    "start_time": "2025-02-18T14:47:56.342Z"
   },
   {
    "duration": 12,
    "start_time": "2025-02-18T14:48:09.986Z"
   },
   {
    "duration": 26,
    "start_time": "2025-02-18T14:48:38.679Z"
   },
   {
    "duration": 2046,
    "start_time": "2025-02-18T14:54:11.231Z"
   },
   {
    "duration": 3180,
    "start_time": "2025-02-18T14:55:17.970Z"
   },
   {
    "duration": 27,
    "start_time": "2025-02-18T14:56:03.567Z"
   },
   {
    "duration": 5,
    "start_time": "2025-02-18T14:56:10.487Z"
   },
   {
    "duration": 33,
    "start_time": "2025-02-18T14:56:58.058Z"
   },
   {
    "duration": 17,
    "start_time": "2025-02-18T14:58:31.989Z"
   },
   {
    "duration": 44,
    "start_time": "2025-02-18T14:58:32.878Z"
   },
   {
    "duration": 23,
    "start_time": "2025-02-18T15:02:30.415Z"
   },
   {
    "duration": 7,
    "start_time": "2025-02-18T15:04:50.666Z"
   },
   {
    "duration": 24,
    "start_time": "2025-02-18T15:05:17.053Z"
   },
   {
    "duration": 10,
    "start_time": "2025-02-18T15:08:29.670Z"
   },
   {
    "duration": 13,
    "start_time": "2025-02-18T15:14:15.821Z"
   },
   {
    "duration": 15,
    "start_time": "2025-02-18T15:14:43.947Z"
   },
   {
    "duration": 14,
    "start_time": "2025-02-18T15:17:26.203Z"
   },
   {
    "duration": 104,
    "start_time": "2025-02-18T15:18:09.381Z"
   },
   {
    "duration": 2441,
    "start_time": "2025-02-18T15:26:52.397Z"
   },
   {
    "duration": 12,
    "start_time": "2025-02-18T15:27:02.308Z"
   },
   {
    "duration": 5,
    "start_time": "2025-02-18T15:27:23.870Z"
   },
   {
    "duration": 118,
    "start_time": "2025-02-18T15:32:16.734Z"
   },
   {
    "duration": 11,
    "start_time": "2025-02-18T15:32:32.985Z"
   },
   {
    "duration": 20,
    "start_time": "2025-02-18T15:32:37.733Z"
   },
   {
    "duration": 23,
    "start_time": "2025-02-18T15:33:09.043Z"
   },
   {
    "duration": 16,
    "start_time": "2025-02-18T15:33:27.011Z"
   },
   {
    "duration": 18,
    "start_time": "2025-02-18T15:33:40.026Z"
   },
   {
    "duration": 158,
    "start_time": "2025-02-18T15:34:11.334Z"
   },
   {
    "duration": 36,
    "start_time": "2025-02-18T15:37:14.038Z"
   },
   {
    "duration": 12,
    "start_time": "2025-02-18T15:37:38.228Z"
   },
   {
    "duration": 21,
    "start_time": "2025-02-18T15:37:47.173Z"
   },
   {
    "duration": 25,
    "start_time": "2025-02-18T15:37:53.515Z"
   },
   {
    "duration": 5,
    "start_time": "2025-02-18T15:38:19.198Z"
   },
   {
    "duration": 2092,
    "start_time": "2025-02-18T15:38:53.837Z"
   },
   {
    "duration": 4,
    "start_time": "2025-02-18T15:39:17.320Z"
   },
   {
    "duration": 40,
    "start_time": "2025-02-18T15:39:31.109Z"
   },
   {
    "duration": 4,
    "start_time": "2025-02-18T15:43:05.519Z"
   },
   {
    "duration": 26,
    "start_time": "2025-02-18T15:43:07.424Z"
   },
   {
    "duration": 4,
    "start_time": "2025-02-18T15:47:56.315Z"
   },
   {
    "duration": 23,
    "start_time": "2025-02-18T15:48:19.013Z"
   },
   {
    "duration": 7,
    "start_time": "2025-02-18T15:48:46.769Z"
   },
   {
    "duration": 18,
    "start_time": "2025-02-18T15:51:11.681Z"
   },
   {
    "duration": 10,
    "start_time": "2025-02-18T15:52:22.591Z"
   },
   {
    "duration": 4,
    "start_time": "2025-02-18T15:53:28.131Z"
   },
   {
    "duration": 8,
    "start_time": "2025-02-18T15:53:53.986Z"
   },
   {
    "duration": 10,
    "start_time": "2025-02-18T15:57:16.609Z"
   },
   {
    "duration": 8,
    "start_time": "2025-02-18T15:58:15.023Z"
   },
   {
    "duration": 2373,
    "start_time": "2025-02-18T15:58:32.469Z"
   },
   {
    "duration": 262,
    "start_time": "2025-02-18T15:58:53.415Z"
   },
   {
    "duration": 349,
    "start_time": "2025-02-18T15:59:33.414Z"
   },
   {
    "duration": 11,
    "start_time": "2025-02-18T16:01:07.802Z"
   },
   {
    "duration": 10,
    "start_time": "2025-02-18T16:01:14.525Z"
   },
   {
    "duration": 20,
    "start_time": "2025-02-18T16:01:23.752Z"
   },
   {
    "duration": 13,
    "start_time": "2025-02-18T16:03:13.693Z"
   },
   {
    "duration": 143,
    "start_time": "2025-02-18T16:03:36.210Z"
   },
   {
    "duration": 134,
    "start_time": "2025-02-18T16:04:05.465Z"
   },
   {
    "duration": 136,
    "start_time": "2025-02-18T16:05:17.614Z"
   },
   {
    "duration": 278,
    "start_time": "2025-02-18T16:05:55.355Z"
   },
   {
    "duration": 273,
    "start_time": "2025-02-18T16:06:07.810Z"
   },
   {
    "duration": 9,
    "start_time": "2025-02-18T16:07:52.392Z"
   },
   {
    "duration": 4,
    "start_time": "2025-02-18T16:13:26.205Z"
   },
   {
    "duration": 10,
    "start_time": "2025-02-18T16:13:34.989Z"
   },
   {
    "duration": 4,
    "start_time": "2025-02-18T16:13:51.927Z"
   },
   {
    "duration": 2560,
    "start_time": "2025-02-18T16:14:14.683Z"
   },
   {
    "duration": 300,
    "start_time": "2025-02-18T16:14:32.690Z"
   },
   {
    "duration": 282,
    "start_time": "2025-02-18T16:14:47.715Z"
   },
   {
    "duration": 384,
    "start_time": "2025-02-18T16:16:40.728Z"
   },
   {
    "duration": 303,
    "start_time": "2025-02-18T16:17:00.052Z"
   },
   {
    "duration": 299,
    "start_time": "2025-02-18T16:17:48.539Z"
   },
   {
    "duration": 12,
    "start_time": "2025-02-18T16:21:06.562Z"
   },
   {
    "duration": 8,
    "start_time": "2025-02-18T16:21:20.860Z"
   },
   {
    "duration": 3,
    "start_time": "2025-02-18T16:22:01.300Z"
   },
   {
    "duration": 4,
    "start_time": "2025-02-18T16:22:51.239Z"
   },
   {
    "duration": 219,
    "start_time": "2025-02-18T16:22:59.346Z"
   },
   {
    "duration": 3,
    "start_time": "2025-02-18T16:23:30.024Z"
   },
   {
    "duration": 218,
    "start_time": "2025-02-18T16:23:30.933Z"
   },
   {
    "duration": 146,
    "start_time": "2025-02-18T16:27:40.358Z"
   },
   {
    "duration": 204,
    "start_time": "2025-02-18T16:30:45.340Z"
   },
   {
    "duration": 216,
    "start_time": "2025-02-18T16:30:52.123Z"
   },
   {
    "duration": 1363,
    "start_time": "2025-02-19T08:35:36.914Z"
   },
   {
    "duration": 3550,
    "start_time": "2025-02-19T08:35:38.279Z"
   },
   {
    "duration": 53,
    "start_time": "2025-02-19T08:35:41.831Z"
   },
   {
    "duration": 2342,
    "start_time": "2025-02-19T08:35:45.101Z"
   },
   {
    "duration": 124,
    "start_time": "2025-02-19T08:35:50.849Z"
   },
   {
    "duration": 92,
    "start_time": "2025-02-19T08:35:52.487Z"
   },
   {
    "duration": 44,
    "start_time": "2025-02-19T08:35:54.098Z"
   },
   {
    "duration": 94,
    "start_time": "2025-02-19T08:35:54.835Z"
   },
   {
    "duration": 184,
    "start_time": "2025-02-19T08:35:56.574Z"
   },
   {
    "duration": 18,
    "start_time": "2025-02-19T08:35:58.234Z"
   },
   {
    "duration": 12,
    "start_time": "2025-02-19T08:36:00.499Z"
   },
   {
    "duration": 57,
    "start_time": "2025-02-19T08:36:01.522Z"
   },
   {
    "duration": 46,
    "start_time": "2025-02-19T08:36:03.450Z"
   },
   {
    "duration": 33,
    "start_time": "2025-02-19T08:36:05.146Z"
   },
   {
    "duration": 14,
    "start_time": "2025-02-19T08:36:06.633Z"
   },
   {
    "duration": 28,
    "start_time": "2025-02-19T08:36:07.347Z"
   },
   {
    "duration": 26,
    "start_time": "2025-02-19T08:36:08.785Z"
   },
   {
    "duration": 30,
    "start_time": "2025-02-19T08:36:09.485Z"
   },
   {
    "duration": 20,
    "start_time": "2025-02-19T08:36:10.868Z"
   },
   {
    "duration": 7,
    "start_time": "2025-02-19T08:36:12.148Z"
   },
   {
    "duration": 21,
    "start_time": "2025-02-19T08:36:12.803Z"
   },
   {
    "duration": 13,
    "start_time": "2025-02-19T08:36:14.309Z"
   },
   {
    "duration": 12,
    "start_time": "2025-02-19T08:36:15.597Z"
   },
   {
    "duration": 20,
    "start_time": "2025-02-19T08:36:16.481Z"
   },
   {
    "duration": 14,
    "start_time": "2025-02-19T08:36:17.981Z"
   },
   {
    "duration": 11,
    "start_time": "2025-02-19T08:36:21.707Z"
   },
   {
    "duration": 6,
    "start_time": "2025-02-19T08:36:22.448Z"
   },
   {
    "duration": 4,
    "start_time": "2025-02-19T08:36:25.440Z"
   },
   {
    "duration": 42,
    "start_time": "2025-02-19T08:36:33.395Z"
   },
   {
    "duration": 4,
    "start_time": "2025-02-19T08:36:36.133Z"
   },
   {
    "duration": 9,
    "start_time": "2025-02-19T08:36:38.280Z"
   },
   {
    "duration": 7,
    "start_time": "2025-02-19T08:39:50.677Z"
   },
   {
    "duration": 7,
    "start_time": "2025-02-19T08:39:51.448Z"
   },
   {
    "duration": 3,
    "start_time": "2025-02-19T08:39:52.814Z"
   },
   {
    "duration": 4,
    "start_time": "2025-02-19T08:39:53.582Z"
   },
   {
    "duration": 262,
    "start_time": "2025-02-19T08:39:55.134Z"
   },
   {
    "duration": 8,
    "start_time": "2025-02-19T08:40:25.465Z"
   },
   {
    "duration": 10,
    "start_time": "2025-02-19T08:40:26.212Z"
   },
   {
    "duration": 4,
    "start_time": "2025-02-19T08:40:26.920Z"
   },
   {
    "duration": 4,
    "start_time": "2025-02-19T08:40:27.667Z"
   },
   {
    "duration": 202,
    "start_time": "2025-02-19T08:40:28.808Z"
   },
   {
    "duration": 199,
    "start_time": "2025-02-19T08:41:01.462Z"
   },
   {
    "duration": 99,
    "start_time": "2025-02-19T08:53:25.846Z"
   },
   {
    "duration": 75,
    "start_time": "2025-02-19T08:53:34.493Z"
   },
   {
    "duration": 16,
    "start_time": "2025-02-19T08:53:45.872Z"
   },
   {
    "duration": 18,
    "start_time": "2025-02-19T08:54:03.208Z"
   },
   {
    "duration": 12,
    "start_time": "2025-02-19T08:54:51.670Z"
   },
   {
    "duration": 43,
    "start_time": "2025-02-19T08:59:54.092Z"
   },
   {
    "duration": 119,
    "start_time": "2025-02-19T09:00:18.343Z"
   },
   {
    "duration": 9,
    "start_time": "2025-02-19T09:00:23.169Z"
   },
   {
    "duration": 68,
    "start_time": "2025-02-19T09:00:38.757Z"
   },
   {
    "duration": 43,
    "start_time": "2025-02-19T09:00:53.029Z"
   },
   {
    "duration": 58,
    "start_time": "2025-02-19T09:03:10.079Z"
   },
   {
    "duration": 39,
    "start_time": "2025-02-19T09:05:26.679Z"
   },
   {
    "duration": 1530,
    "start_time": "2025-02-19T09:08:19.241Z"
   },
   {
    "duration": 6,
    "start_time": "2025-02-19T09:08:35.913Z"
   },
   {
    "duration": 82,
    "start_time": "2025-02-19T09:09:01.151Z"
   },
   {
    "duration": 6,
    "start_time": "2025-02-19T09:09:11.090Z"
   },
   {
    "duration": 40,
    "start_time": "2025-02-19T09:09:32.359Z"
   },
   {
    "duration": 2,
    "start_time": "2025-02-19T09:12:34.925Z"
   },
   {
    "duration": 11,
    "start_time": "2025-02-19T09:13:10.943Z"
   },
   {
    "duration": 62,
    "start_time": "2025-02-19T09:14:20.348Z"
   },
   {
    "duration": 40,
    "start_time": "2025-02-19T09:14:33.987Z"
   },
   {
    "duration": 3,
    "start_time": "2025-02-19T09:14:34.685Z"
   },
   {
    "duration": 10,
    "start_time": "2025-02-19T09:14:35.423Z"
   },
   {
    "duration": 38,
    "start_time": "2025-02-19T09:15:46.304Z"
   },
   {
    "duration": 13,
    "start_time": "2025-02-19T09:16:04.941Z"
   },
   {
    "duration": 8,
    "start_time": "2025-02-19T09:16:20.119Z"
   },
   {
    "duration": 15,
    "start_time": "2025-02-19T09:16:58.940Z"
   },
   {
    "duration": 17,
    "start_time": "2025-02-19T09:19:58.185Z"
   },
   {
    "duration": 16,
    "start_time": "2025-02-19T09:22:00.074Z"
   },
   {
    "duration": 107,
    "start_time": "2025-02-19T09:22:12.668Z"
   },
   {
    "duration": 12,
    "start_time": "2025-02-19T09:22:16.939Z"
   },
   {
    "duration": 12,
    "start_time": "2025-02-19T09:22:20.342Z"
   },
   {
    "duration": 55,
    "start_time": "2025-02-19T09:22:43.839Z"
   },
   {
    "duration": 3,
    "start_time": "2025-02-19T09:22:47.284Z"
   },
   {
    "duration": 13,
    "start_time": "2025-02-19T09:22:48.167Z"
   },
   {
    "duration": 15,
    "start_time": "2025-02-19T09:25:23.592Z"
   },
   {
    "duration": 4,
    "start_time": "2025-02-19T09:25:24.340Z"
   },
   {
    "duration": 10,
    "start_time": "2025-02-19T09:25:25.530Z"
   },
   {
    "duration": 6,
    "start_time": "2025-02-19T09:25:39.717Z"
   },
   {
    "duration": 3,
    "start_time": "2025-02-19T09:26:12.250Z"
   },
   {
    "duration": 9,
    "start_time": "2025-02-19T09:26:14.219Z"
   },
   {
    "duration": 1265,
    "start_time": "2025-02-19T09:27:26.624Z"
   },
   {
    "duration": 66,
    "start_time": "2025-02-19T09:27:34.262Z"
   },
   {
    "duration": 8,
    "start_time": "2025-02-19T09:27:35.352Z"
   },
   {
    "duration": 3,
    "start_time": "2025-02-19T09:27:43.979Z"
   },
   {
    "duration": 72,
    "start_time": "2025-02-19T09:27:56.595Z"
   },
   {
    "duration": 78,
    "start_time": "2025-02-19T09:28:38.879Z"
   },
   {
    "duration": 68,
    "start_time": "2025-02-19T09:31:45.570Z"
   },
   {
    "duration": 6,
    "start_time": "2025-02-19T09:31:53.914Z"
   },
   {
    "duration": 4,
    "start_time": "2025-02-19T09:31:58.747Z"
   },
   {
    "duration": 78,
    "start_time": "2025-02-19T09:32:12.390Z"
   },
   {
    "duration": 93,
    "start_time": "2025-02-19T09:33:14.662Z"
   },
   {
    "duration": 3,
    "start_time": "2025-02-19T09:33:20.318Z"
   },
   {
    "duration": 381,
    "start_time": "2025-02-19T09:34:29.553Z"
   },
   {
    "duration": 7,
    "start_time": "2025-02-19T09:34:53.865Z"
   },
   {
    "duration": 321,
    "start_time": "2025-02-19T09:34:54.709Z"
   },
   {
    "duration": 3,
    "start_time": "2025-02-19T09:35:03.070Z"
   },
   {
    "duration": 59,
    "start_time": "2025-02-19T09:35:03.811Z"
   },
   {
    "duration": 16,
    "start_time": "2025-02-19T09:35:19.490Z"
   },
   {
    "duration": 37,
    "start_time": "2025-02-19T09:36:36.102Z"
   },
   {
    "duration": 3,
    "start_time": "2025-02-19T09:36:49.321Z"
   },
   {
    "duration": 87,
    "start_time": "2025-02-19T09:36:50.186Z"
   },
   {
    "duration": 16,
    "start_time": "2025-02-19T09:36:50.916Z"
   },
   {
    "duration": 21,
    "start_time": "2025-02-19T09:36:56.314Z"
   },
   {
    "duration": 5,
    "start_time": "2025-02-19T09:38:10.135Z"
   },
   {
    "duration": 2,
    "start_time": "2025-02-19T09:42:28.225Z"
   },
   {
    "duration": 87,
    "start_time": "2025-02-19T09:42:28.932Z"
   },
   {
    "duration": 18,
    "start_time": "2025-02-19T09:42:29.968Z"
   },
   {
    "duration": 5,
    "start_time": "2025-02-19T09:42:54.580Z"
   },
   {
    "duration": 6,
    "start_time": "2025-02-19T09:43:01.612Z"
   },
   {
    "duration": 3,
    "start_time": "2025-02-19T09:43:28.981Z"
   },
   {
    "duration": 113,
    "start_time": "2025-02-19T09:43:29.873Z"
   },
   {
    "duration": 18,
    "start_time": "2025-02-19T09:43:31.077Z"
   },
   {
    "duration": 6,
    "start_time": "2025-02-19T09:43:34.262Z"
   },
   {
    "duration": 23,
    "start_time": "2025-02-19T09:43:36.227Z"
   },
   {
    "duration": 9,
    "start_time": "2025-02-19T09:45:27.196Z"
   },
   {
    "duration": 8,
    "start_time": "2025-02-19T09:46:15.624Z"
   },
   {
    "duration": 64,
    "start_time": "2025-02-19T09:46:21.701Z"
   },
   {
    "duration": 6,
    "start_time": "2025-02-19T09:46:22.942Z"
   },
   {
    "duration": 15,
    "start_time": "2025-02-19T09:46:39.129Z"
   },
   {
    "duration": 84,
    "start_time": "2025-02-19T09:47:17.643Z"
   },
   {
    "duration": 6,
    "start_time": "2025-02-19T09:47:23.785Z"
   },
   {
    "duration": 5,
    "start_time": "2025-02-19T09:49:29.212Z"
   },
   {
    "duration": 92,
    "start_time": "2025-02-19T09:49:29.962Z"
   },
   {
    "duration": 4,
    "start_time": "2025-02-19T09:49:32.659Z"
   },
   {
    "duration": 147,
    "start_time": "2025-02-19T09:49:33.292Z"
   },
   {
    "duration": 19,
    "start_time": "2025-02-19T09:49:34.100Z"
   },
   {
    "duration": 7,
    "start_time": "2025-02-19T09:49:35.311Z"
   },
   {
    "duration": 21,
    "start_time": "2025-02-19T09:49:39.059Z"
   },
   {
    "duration": 4,
    "start_time": "2025-02-19T09:51:10.593Z"
   },
   {
    "duration": 88,
    "start_time": "2025-02-19T09:51:11.814Z"
   },
   {
    "duration": 3,
    "start_time": "2025-02-19T09:51:12.596Z"
   },
   {
    "duration": 140,
    "start_time": "2025-02-19T09:51:13.497Z"
   },
   {
    "duration": 21,
    "start_time": "2025-02-19T09:51:14.203Z"
   },
   {
    "duration": 9,
    "start_time": "2025-02-19T09:51:15.288Z"
   },
   {
    "duration": 24,
    "start_time": "2025-02-19T09:51:16.992Z"
   },
   {
    "duration": 112,
    "start_time": "2025-02-19T09:52:00.292Z"
   },
   {
    "duration": 18,
    "start_time": "2025-02-19T09:52:00.992Z"
   },
   {
    "duration": 80,
    "start_time": "2025-02-19T09:52:01.860Z"
   },
   {
    "duration": 6,
    "start_time": "2025-02-19T09:52:02.750Z"
   },
   {
    "duration": 7,
    "start_time": "2025-02-19T09:52:03.443Z"
   },
   {
    "duration": 4,
    "start_time": "2025-02-19T09:52:04.133Z"
   },
   {
    "duration": 104,
    "start_time": "2025-02-19T09:52:04.913Z"
   },
   {
    "duration": 2,
    "start_time": "2025-02-19T09:52:05.618Z"
   },
   {
    "duration": 127,
    "start_time": "2025-02-19T09:52:06.331Z"
   },
   {
    "duration": 15,
    "start_time": "2025-02-19T09:52:07.240Z"
   },
   {
    "duration": 9,
    "start_time": "2025-02-19T09:52:08.561Z"
   },
   {
    "duration": 17,
    "start_time": "2025-02-19T09:52:09.552Z"
   },
   {
    "duration": 35,
    "start_time": "2025-02-19T09:52:25.447Z"
   },
   {
    "duration": 36,
    "start_time": "2025-02-19T09:54:29.473Z"
   },
   {
    "duration": 21,
    "start_time": "2025-02-19T09:54:43.102Z"
   },
   {
    "duration": 21,
    "start_time": "2025-02-19T09:55:10.925Z"
   },
   {
    "duration": 650,
    "start_time": "2025-02-19T09:56:13.196Z"
   },
   {
    "duration": 20,
    "start_time": "2025-02-19T09:56:14.068Z"
   },
   {
    "duration": 664,
    "start_time": "2025-02-19T09:56:29.064Z"
   },
   {
    "duration": 137,
    "start_time": "2025-02-19T09:57:31.334Z"
   },
   {
    "duration": 25,
    "start_time": "2025-02-19T09:58:41.683Z"
   },
   {
    "duration": 17,
    "start_time": "2025-02-19T10:00:23.011Z"
   },
   {
    "duration": 23,
    "start_time": "2025-02-19T10:01:07.369Z"
   },
   {
    "duration": 18,
    "start_time": "2025-02-19T10:01:29.197Z"
   },
   {
    "duration": 43,
    "start_time": "2025-02-19T10:08:09.153Z"
   },
   {
    "duration": 35,
    "start_time": "2025-02-19T10:10:13.242Z"
   },
   {
    "duration": 167,
    "start_time": "2025-02-19T10:11:24.480Z"
   },
   {
    "duration": 3,
    "start_time": "2025-02-19T10:12:25.284Z"
   },
   {
    "duration": 120,
    "start_time": "2025-02-19T10:12:26.092Z"
   },
   {
    "duration": 17,
    "start_time": "2025-02-19T10:12:26.842Z"
   },
   {
    "duration": 20,
    "start_time": "2025-02-19T10:12:31.027Z"
   },
   {
    "duration": 57,
    "start_time": "2025-02-19T10:12:33.552Z"
   },
   {
    "duration": 173,
    "start_time": "2025-02-19T10:12:35.307Z"
   },
   {
    "duration": 4,
    "start_time": "2025-02-19T10:15:43.890Z"
   },
   {
    "duration": 202,
    "start_time": "2025-02-19T10:15:49.649Z"
   },
   {
    "duration": 110,
    "start_time": "2025-02-19T10:16:14.513Z"
   },
   {
    "duration": 16,
    "start_time": "2025-02-19T10:16:15.441Z"
   },
   {
    "duration": 21,
    "start_time": "2025-02-19T10:16:16.336Z"
   },
   {
    "duration": 54,
    "start_time": "2025-02-19T10:16:17.231Z"
   },
   {
    "duration": 197,
    "start_time": "2025-02-19T10:16:19.774Z"
   },
   {
    "duration": 150,
    "start_time": "2025-02-19T10:16:23.619Z"
   },
   {
    "duration": 273,
    "start_time": "2025-02-19T10:16:30.332Z"
   },
   {
    "duration": 21,
    "start_time": "2025-02-19T10:16:58.831Z"
   },
   {
    "duration": 63,
    "start_time": "2025-02-19T10:17:08.625Z"
   },
   {
    "duration": 199,
    "start_time": "2025-02-19T10:17:10.979Z"
   },
   {
    "duration": 146,
    "start_time": "2025-02-19T10:17:19.128Z"
   },
   {
    "duration": 19,
    "start_time": "2025-02-19T10:17:20.823Z"
   },
   {
    "duration": 56,
    "start_time": "2025-02-19T10:17:45.399Z"
   },
   {
    "duration": 51,
    "start_time": "2025-02-19T10:18:18.620Z"
   },
   {
    "duration": 205,
    "start_time": "2025-02-19T10:19:10.464Z"
   },
   {
    "duration": 1430,
    "start_time": "2025-02-19T12:20:39.788Z"
   },
   {
    "duration": 14026,
    "start_time": "2025-02-19T12:20:41.221Z"
   },
   {
    "duration": 60,
    "start_time": "2025-02-19T12:20:55.250Z"
   },
   {
    "duration": 2612,
    "start_time": "2025-02-19T12:20:59.530Z"
   },
   {
    "duration": 142,
    "start_time": "2025-02-19T12:21:04.480Z"
   },
   {
    "duration": 99,
    "start_time": "2025-02-19T12:21:06.087Z"
   },
   {
    "duration": 43,
    "start_time": "2025-02-19T12:21:07.535Z"
   },
   {
    "duration": 100,
    "start_time": "2025-02-19T12:21:08.289Z"
   },
   {
    "duration": 209,
    "start_time": "2025-02-19T12:21:09.686Z"
   },
   {
    "duration": 18,
    "start_time": "2025-02-19T12:21:10.544Z"
   },
   {
    "duration": 14,
    "start_time": "2025-02-19T12:21:12.087Z"
   },
   {
    "duration": 50,
    "start_time": "2025-02-19T12:21:12.793Z"
   },
   {
    "duration": 39,
    "start_time": "2025-02-19T12:21:14.279Z"
   },
   {
    "duration": 22,
    "start_time": "2025-02-19T12:21:15.581Z"
   },
   {
    "duration": 14,
    "start_time": "2025-02-19T12:21:16.946Z"
   },
   {
    "duration": 27,
    "start_time": "2025-02-19T12:21:17.598Z"
   },
   {
    "duration": 27,
    "start_time": "2025-02-19T12:21:18.874Z"
   },
   {
    "duration": 30,
    "start_time": "2025-02-19T12:21:19.569Z"
   },
   {
    "duration": 22,
    "start_time": "2025-02-19T12:21:21.002Z"
   },
   {
    "duration": 7,
    "start_time": "2025-02-19T12:21:22.205Z"
   },
   {
    "duration": 21,
    "start_time": "2025-02-19T12:21:22.896Z"
   },
   {
    "duration": 9,
    "start_time": "2025-02-19T12:21:24.363Z"
   },
   {
    "duration": 12,
    "start_time": "2025-02-19T12:21:25.641Z"
   },
   {
    "duration": 15,
    "start_time": "2025-02-19T12:21:26.441Z"
   },
   {
    "duration": 15,
    "start_time": "2025-02-19T12:21:29.707Z"
   },
   {
    "duration": 12,
    "start_time": "2025-02-19T12:21:32.434Z"
   },
   {
    "duration": 7,
    "start_time": "2025-02-19T12:21:33.090Z"
   },
   {
    "duration": 6,
    "start_time": "2025-02-19T12:21:33.873Z"
   },
   {
    "duration": 46,
    "start_time": "2025-02-19T12:21:34.717Z"
   },
   {
    "duration": 4,
    "start_time": "2025-02-19T12:21:35.390Z"
   },
   {
    "duration": 9,
    "start_time": "2025-02-19T12:21:36.045Z"
   },
   {
    "duration": 9,
    "start_time": "2025-02-19T12:21:36.966Z"
   },
   {
    "duration": 8,
    "start_time": "2025-02-19T12:21:37.828Z"
   },
   {
    "duration": 3,
    "start_time": "2025-02-19T12:21:38.490Z"
   },
   {
    "duration": 3,
    "start_time": "2025-02-19T12:21:39.119Z"
   },
   {
    "duration": 207,
    "start_time": "2025-02-19T12:21:39.923Z"
   },
   {
    "duration": 107,
    "start_time": "2025-02-19T12:21:42.584Z"
   },
   {
    "duration": 12,
    "start_time": "2025-02-19T12:21:43.379Z"
   },
   {
    "duration": 73,
    "start_time": "2025-02-19T12:21:44.078Z"
   },
   {
    "duration": 7,
    "start_time": "2025-02-19T12:21:44.788Z"
   },
   {
    "duration": 6,
    "start_time": "2025-02-19T12:21:45.490Z"
   },
   {
    "duration": 4,
    "start_time": "2025-02-19T12:21:46.136Z"
   },
   {
    "duration": 88,
    "start_time": "2025-02-19T12:21:46.763Z"
   },
   {
    "duration": 3,
    "start_time": "2025-02-19T12:21:47.420Z"
   },
   {
    "duration": 125,
    "start_time": "2025-02-19T12:21:48.107Z"
   },
   {
    "duration": 15,
    "start_time": "2025-02-19T12:21:48.825Z"
   },
   {
    "duration": 31,
    "start_time": "2025-02-19T12:21:49.590Z"
   },
   {
    "duration": 68,
    "start_time": "2025-02-19T12:21:50.575Z"
   },
   {
    "duration": 203,
    "start_time": "2025-02-19T12:21:51.358Z"
   },
   {
    "duration": 143,
    "start_time": "2025-02-19T12:21:52.171Z"
   },
   {
    "duration": 20,
    "start_time": "2025-02-19T12:21:53.187Z"
   },
   {
    "duration": 63,
    "start_time": "2025-02-19T12:21:53.956Z"
   },
   {
    "duration": 215,
    "start_time": "2025-02-19T12:21:54.707Z"
   },
   {
    "duration": 106,
    "start_time": "2025-02-19T12:22:58.055Z"
   },
   {
    "duration": 77,
    "start_time": "2025-02-19T12:24:03.623Z"
   },
   {
    "duration": 6,
    "start_time": "2025-02-19T12:24:37.591Z"
   },
   {
    "duration": 119,
    "start_time": "2025-02-19T12:24:51.552Z"
   },
   {
    "duration": 7,
    "start_time": "2025-02-19T12:24:57.372Z"
   },
   {
    "duration": 9,
    "start_time": "2025-02-19T12:25:09.594Z"
   },
   {
    "duration": 9,
    "start_time": "2025-02-19T12:26:21.704Z"
   },
   {
    "duration": 19,
    "start_time": "2025-02-19T12:27:17.654Z"
   },
   {
    "duration": 7,
    "start_time": "2025-02-19T12:27:43.957Z"
   },
   {
    "duration": 11,
    "start_time": "2025-02-19T12:27:51.583Z"
   },
   {
    "duration": 8,
    "start_time": "2025-02-19T12:27:55.984Z"
   },
   {
    "duration": 10,
    "start_time": "2025-02-19T12:28:14.910Z"
   },
   {
    "duration": 160,
    "start_time": "2025-02-19T12:30:02.352Z"
   },
   {
    "duration": 175,
    "start_time": "2025-02-19T12:30:46.051Z"
   },
   {
    "duration": 25,
    "start_time": "2025-02-19T12:32:22.251Z"
   },
   {
    "duration": 3,
    "start_time": "2025-02-19T12:36:12.216Z"
   },
   {
    "duration": 101,
    "start_time": "2025-02-19T12:36:14.999Z"
   },
   {
    "duration": 3,
    "start_time": "2025-02-19T12:36:15.726Z"
   },
   {
    "duration": 124,
    "start_time": "2025-02-19T12:36:17.865Z"
   },
   {
    "duration": 15,
    "start_time": "2025-02-19T12:36:18.873Z"
   },
   {
    "duration": 20,
    "start_time": "2025-02-19T12:36:21.925Z"
   },
   {
    "duration": 65,
    "start_time": "2025-02-19T12:36:23.035Z"
   },
   {
    "duration": 197,
    "start_time": "2025-02-19T12:36:25.498Z"
   },
   {
    "duration": 4,
    "start_time": "2025-02-19T12:36:47.374Z"
   },
   {
    "duration": 95,
    "start_time": "2025-02-19T12:36:48.251Z"
   },
   {
    "duration": 3,
    "start_time": "2025-02-19T12:36:48.944Z"
   },
   {
    "duration": 123,
    "start_time": "2025-02-19T12:36:49.626Z"
   },
   {
    "duration": 23,
    "start_time": "2025-02-19T12:36:50.358Z"
   },
   {
    "duration": 20,
    "start_time": "2025-02-19T12:36:51.106Z"
   },
   {
    "duration": 59,
    "start_time": "2025-02-19T12:36:52.014Z"
   },
   {
    "duration": 208,
    "start_time": "2025-02-19T12:36:52.774Z"
   },
   {
    "duration": 135,
    "start_time": "2025-02-19T12:37:05.217Z"
   },
   {
    "duration": 18,
    "start_time": "2025-02-19T12:37:06.016Z"
   },
   {
    "duration": 58,
    "start_time": "2025-02-19T12:37:06.782Z"
   },
   {
    "duration": 306,
    "start_time": "2025-02-19T12:37:07.884Z"
   },
   {
    "duration": 3,
    "start_time": "2025-02-19T13:42:25.141Z"
   },
   {
    "duration": 112,
    "start_time": "2025-02-19T13:42:38.595Z"
   },
   {
    "duration": 16,
    "start_time": "2025-02-19T13:42:39.662Z"
   },
   {
    "duration": 23,
    "start_time": "2025-02-19T13:42:44.781Z"
   },
   {
    "duration": 58,
    "start_time": "2025-02-19T13:44:09.915Z"
   },
   {
    "duration": 198,
    "start_time": "2025-02-19T13:44:10.724Z"
   },
   {
    "duration": 151,
    "start_time": "2025-02-19T13:45:11.922Z"
   },
   {
    "duration": 16,
    "start_time": "2025-02-19T13:45:12.842Z"
   },
   {
    "duration": 61,
    "start_time": "2025-02-19T13:46:16.763Z"
   },
   {
    "duration": 235,
    "start_time": "2025-02-19T13:46:17.913Z"
   },
   {
    "duration": 1530,
    "start_time": "2025-02-20T09:11:32.548Z"
   },
   {
    "duration": 4610,
    "start_time": "2025-02-20T09:11:34.080Z"
   },
   {
    "duration": 70,
    "start_time": "2025-02-20T09:12:20.104Z"
   },
   {
    "duration": 3552,
    "start_time": "2025-02-20T09:12:20.850Z"
   },
   {
    "duration": 142,
    "start_time": "2025-02-20T09:12:28.212Z"
   },
   {
    "duration": 111,
    "start_time": "2025-02-20T09:12:29.723Z"
   },
   {
    "duration": 41,
    "start_time": "2025-02-20T09:12:31.294Z"
   },
   {
    "duration": 109,
    "start_time": "2025-02-20T09:12:32.098Z"
   },
   {
    "duration": 230,
    "start_time": "2025-02-20T09:12:33.836Z"
   },
   {
    "duration": 28,
    "start_time": "2025-02-20T09:12:34.898Z"
   },
   {
    "duration": 14,
    "start_time": "2025-02-20T09:12:36.794Z"
   },
   {
    "duration": 57,
    "start_time": "2025-02-20T09:12:37.928Z"
   },
   {
    "duration": 46,
    "start_time": "2025-02-20T09:12:39.739Z"
   },
   {
    "duration": 33,
    "start_time": "2025-02-20T09:12:41.237Z"
   },
   {
    "duration": 23,
    "start_time": "2025-02-20T09:12:42.682Z"
   },
   {
    "duration": 44,
    "start_time": "2025-02-20T09:12:43.373Z"
   },
   {
    "duration": 36,
    "start_time": "2025-02-20T09:12:44.966Z"
   },
   {
    "duration": 40,
    "start_time": "2025-02-20T09:12:45.748Z"
   },
   {
    "duration": 22,
    "start_time": "2025-02-20T09:12:47.148Z"
   },
   {
    "duration": 7,
    "start_time": "2025-02-20T09:12:48.447Z"
   },
   {
    "duration": 28,
    "start_time": "2025-02-20T09:12:49.169Z"
   },
   {
    "duration": 10,
    "start_time": "2025-02-20T09:12:50.520Z"
   },
   {
    "duration": 16,
    "start_time": "2025-02-20T09:12:51.767Z"
   },
   {
    "duration": 15,
    "start_time": "2025-02-20T09:12:52.716Z"
   },
   {
    "duration": 18,
    "start_time": "2025-02-20T09:12:54.471Z"
   },
   {
    "duration": 13,
    "start_time": "2025-02-20T09:13:00.494Z"
   },
   {
    "duration": 5,
    "start_time": "2025-02-20T09:13:01.146Z"
   },
   {
    "duration": 4,
    "start_time": "2025-02-20T09:13:01.810Z"
   },
   {
    "duration": 46,
    "start_time": "2025-02-20T09:13:02.484Z"
   },
   {
    "duration": 4,
    "start_time": "2025-02-20T09:13:03.123Z"
   },
   {
    "duration": 10,
    "start_time": "2025-02-20T09:13:03.757Z"
   },
   {
    "duration": 9,
    "start_time": "2025-02-20T09:13:04.484Z"
   },
   {
    "duration": 8,
    "start_time": "2025-02-20T09:13:05.148Z"
   },
   {
    "duration": 3,
    "start_time": "2025-02-20T09:13:05.834Z"
   },
   {
    "duration": 3,
    "start_time": "2025-02-20T09:13:06.427Z"
   },
   {
    "duration": 223,
    "start_time": "2025-02-20T09:13:07.049Z"
   },
   {
    "duration": 99,
    "start_time": "2025-02-20T09:13:09.132Z"
   },
   {
    "duration": 13,
    "start_time": "2025-02-20T09:13:09.743Z"
   },
   {
    "duration": 77,
    "start_time": "2025-02-20T09:13:10.422Z"
   },
   {
    "duration": 9,
    "start_time": "2025-02-20T09:13:11.189Z"
   },
   {
    "duration": 7,
    "start_time": "2025-02-20T09:13:11.915Z"
   },
   {
    "duration": 21,
    "start_time": "2025-02-20T09:13:12.664Z"
   },
   {
    "duration": 20,
    "start_time": "2025-02-20T09:13:13.520Z"
   },
   {
    "duration": 183,
    "start_time": "2025-02-20T09:13:14.300Z"
   },
   {
    "duration": 5,
    "start_time": "2025-02-20T09:13:16.484Z"
   },
   {
    "duration": 104,
    "start_time": "2025-02-20T09:13:17.805Z"
   },
   {
    "duration": 3,
    "start_time": "2025-02-20T09:13:19.258Z"
   },
   {
    "duration": 135,
    "start_time": "2025-02-20T09:13:20.249Z"
   },
   {
    "duration": 18,
    "start_time": "2025-02-20T09:13:21.212Z"
   },
   {
    "duration": 22,
    "start_time": "2025-02-20T09:13:22.239Z"
   },
   {
    "duration": 60,
    "start_time": "2025-02-20T09:13:23.827Z"
   },
   {
    "duration": 4,
    "start_time": "2025-02-20T09:27:54.537Z"
   },
   {
    "duration": 200,
    "start_time": "2025-02-20T09:28:05.096Z"
   },
   {
    "duration": 174,
    "start_time": "2025-02-20T09:28:40.131Z"
   },
   {
    "duration": 182,
    "start_time": "2025-02-20T09:29:16.049Z"
   },
   {
    "duration": 102,
    "start_time": "2025-02-20T09:32:19.211Z"
   },
   {
    "duration": 18,
    "start_time": "2025-02-20T09:32:20.053Z"
   },
   {
    "duration": 24,
    "start_time": "2025-02-20T09:32:26.655Z"
   },
   {
    "duration": 234,
    "start_time": "2025-02-20T09:32:27.713Z"
   },
   {
    "duration": 4,
    "start_time": "2025-02-20T09:33:25.688Z"
   },
   {
    "duration": 230,
    "start_time": "2025-02-20T09:33:31.122Z"
   },
   {
    "duration": 295,
    "start_time": "2025-02-20T09:33:46.999Z"
   },
   {
    "duration": 25,
    "start_time": "2025-02-20T09:33:59.633Z"
   },
   {
    "duration": 238,
    "start_time": "2025-02-20T09:34:00.658Z"
   },
   {
    "duration": 87,
    "start_time": "2025-02-20T09:34:51.555Z"
   },
   {
    "duration": 108,
    "start_time": "2025-02-20T09:35:44.876Z"
   },
   {
    "duration": 3,
    "start_time": "2025-02-20T09:37:43.926Z"
   },
   {
    "duration": 4,
    "start_time": "2025-02-20T09:37:59.709Z"
   },
   {
    "duration": 225,
    "start_time": "2025-02-20T09:38:00.422Z"
   },
   {
    "duration": 197,
    "start_time": "2025-02-20T09:38:18.581Z"
   },
   {
    "duration": 204,
    "start_time": "2025-02-20T09:38:36.442Z"
   },
   {
    "duration": 123,
    "start_time": "2025-02-20T09:52:58.028Z"
   },
   {
    "duration": 22,
    "start_time": "2025-02-20T09:53:51.060Z"
   },
   {
    "duration": 16,
    "start_time": "2025-02-20T09:54:07.489Z"
   },
   {
    "duration": 74,
    "start_time": "2025-02-20T09:54:34.652Z"
   },
   {
    "duration": 1397,
    "start_time": "2025-02-20T09:55:01.267Z"
   },
   {
    "duration": 2934,
    "start_time": "2025-02-20T09:55:02.666Z"
   },
   {
    "duration": 115,
    "start_time": "2025-02-20T09:55:06.620Z"
   },
   {
    "duration": 2711,
    "start_time": "2025-02-20T09:55:07.679Z"
   },
   {
    "duration": 149,
    "start_time": "2025-02-20T09:55:12.129Z"
   },
   {
    "duration": 114,
    "start_time": "2025-02-20T09:55:13.780Z"
   },
   {
    "duration": 50,
    "start_time": "2025-02-20T09:55:15.248Z"
   },
   {
    "duration": 106,
    "start_time": "2025-02-20T09:55:15.993Z"
   },
   {
    "duration": 249,
    "start_time": "2025-02-20T09:55:17.559Z"
   },
   {
    "duration": 31,
    "start_time": "2025-02-20T09:55:18.473Z"
   },
   {
    "duration": 17,
    "start_time": "2025-02-20T09:55:19.985Z"
   },
   {
    "duration": 60,
    "start_time": "2025-02-20T09:55:20.675Z"
   },
   {
    "duration": 67,
    "start_time": "2025-02-20T09:55:21.961Z"
   },
   {
    "duration": 33,
    "start_time": "2025-02-20T09:55:23.197Z"
   },
   {
    "duration": 23,
    "start_time": "2025-02-20T09:55:24.381Z"
   },
   {
    "duration": 47,
    "start_time": "2025-02-20T09:55:24.977Z"
   },
   {
    "duration": 52,
    "start_time": "2025-02-20T09:55:26.258Z"
   },
   {
    "duration": 72,
    "start_time": "2025-02-20T09:55:26.911Z"
   },
   {
    "duration": 40,
    "start_time": "2025-02-20T09:55:28.122Z"
   },
   {
    "duration": 7,
    "start_time": "2025-02-20T09:55:29.316Z"
   },
   {
    "duration": 40,
    "start_time": "2025-02-20T09:55:29.890Z"
   },
   {
    "duration": 15,
    "start_time": "2025-02-20T09:55:31.103Z"
   },
   {
    "duration": 21,
    "start_time": "2025-02-20T09:55:32.278Z"
   },
   {
    "duration": 15,
    "start_time": "2025-02-20T09:55:32.834Z"
   },
   {
    "duration": 22,
    "start_time": "2025-02-20T09:55:34.029Z"
   },
   {
    "duration": 13,
    "start_time": "2025-02-20T09:55:35.658Z"
   },
   {
    "duration": 7,
    "start_time": "2025-02-20T09:55:36.141Z"
   },
   {
    "duration": 6,
    "start_time": "2025-02-20T09:55:36.765Z"
   },
   {
    "duration": 68,
    "start_time": "2025-02-20T09:55:37.279Z"
   },
   {
    "duration": 4,
    "start_time": "2025-02-20T09:55:37.743Z"
   },
   {
    "duration": 15,
    "start_time": "2025-02-20T09:55:38.266Z"
   },
   {
    "duration": 12,
    "start_time": "2025-02-20T09:55:38.748Z"
   },
   {
    "duration": 10,
    "start_time": "2025-02-20T09:55:39.307Z"
   },
   {
    "duration": 4,
    "start_time": "2025-02-20T09:55:39.837Z"
   },
   {
    "duration": 4,
    "start_time": "2025-02-20T09:55:40.317Z"
   },
   {
    "duration": 279,
    "start_time": "2025-02-20T09:55:40.842Z"
   },
   {
    "duration": 111,
    "start_time": "2025-02-20T09:55:42.765Z"
   },
   {
    "duration": 108,
    "start_time": "2025-02-20T09:55:43.322Z"
   },
   {
    "duration": 94,
    "start_time": "2025-02-20T09:55:43.911Z"
   },
   {
    "duration": 7,
    "start_time": "2025-02-20T09:55:44.531Z"
   },
   {
    "duration": 6,
    "start_time": "2025-02-20T09:55:45.123Z"
   },
   {
    "duration": 16,
    "start_time": "2025-02-20T09:55:45.686Z"
   },
   {
    "duration": 37,
    "start_time": "2025-02-20T09:55:46.270Z"
   },
   {
    "duration": 205,
    "start_time": "2025-02-20T09:55:46.813Z"
   },
   {
    "duration": 4,
    "start_time": "2025-02-20T09:55:48.036Z"
   },
   {
    "duration": 125,
    "start_time": "2025-02-20T09:55:48.605Z"
   },
   {
    "duration": 3,
    "start_time": "2025-02-20T09:55:49.213Z"
   },
   {
    "duration": 168,
    "start_time": "2025-02-20T09:55:49.771Z"
   },
   {
    "duration": 32,
    "start_time": "2025-02-20T09:55:50.269Z"
   },
   {
    "duration": 39,
    "start_time": "2025-02-20T09:55:50.783Z"
   },
   {
    "duration": 78,
    "start_time": "2025-02-20T09:55:51.358Z"
   },
   {
    "duration": 9,
    "start_time": "2025-02-20T09:55:51.872Z"
   },
   {
    "duration": 225,
    "start_time": "2025-02-20T09:55:52.384Z"
   },
   {
    "duration": 121,
    "start_time": "2025-02-20T09:55:53.015Z"
   },
   {
    "duration": 114,
    "start_time": "2025-02-20T09:55:53.636Z"
   },
   {
    "duration": 48,
    "start_time": "2025-02-20T09:55:54.281Z"
   },
   {
    "duration": 5,
    "start_time": "2025-02-20T09:55:54.894Z"
   },
   {
    "duration": 256,
    "start_time": "2025-02-20T09:55:55.469Z"
   },
   {
    "duration": 92,
    "start_time": "2025-02-20T09:56:11.210Z"
   },
   {
    "duration": 1375,
    "start_time": "2025-02-20T09:56:19.418Z"
   },
   {
    "duration": 3127,
    "start_time": "2025-02-20T09:56:20.796Z"
   },
   {
    "duration": 82,
    "start_time": "2025-02-20T09:56:23.926Z"
   },
   {
    "duration": 4176,
    "start_time": "2025-02-20T09:56:25.573Z"
   },
   {
    "duration": 170,
    "start_time": "2025-02-20T09:59:28.958Z"
   },
   {
    "duration": 4,
    "start_time": "2025-02-20T09:59:36.886Z"
   },
   {
    "duration": 3140,
    "start_time": "2025-02-20T09:59:38.742Z"
   },
   {
    "duration": 3,
    "start_time": "2025-02-20T09:59:42.954Z"
   },
   {
    "duration": 2850,
    "start_time": "2025-02-20T10:02:35.399Z"
   },
   {
    "duration": 159,
    "start_time": "2025-02-20T10:02:39.670Z"
   },
   {
    "duration": 112,
    "start_time": "2025-02-20T10:02:41.020Z"
   },
   {
    "duration": 44,
    "start_time": "2025-02-20T10:02:42.219Z"
   },
   {
    "duration": 123,
    "start_time": "2025-02-20T10:02:42.901Z"
   },
   {
    "duration": 228,
    "start_time": "2025-02-20T10:02:44.163Z"
   },
   {
    "duration": 19,
    "start_time": "2025-02-20T10:02:44.905Z"
   },
   {
    "duration": 16,
    "start_time": "2025-02-20T10:02:46.363Z"
   },
   {
    "duration": 54,
    "start_time": "2025-02-20T10:02:47.092Z"
   },
   {
    "duration": 57,
    "start_time": "2025-02-20T10:02:48.454Z"
   },
   {
    "duration": 24,
    "start_time": "2025-02-20T10:02:49.727Z"
   },
   {
    "duration": 13,
    "start_time": "2025-02-20T10:02:50.949Z"
   },
   {
    "duration": 30,
    "start_time": "2025-02-20T10:02:51.539Z"
   },
   {
    "duration": 29,
    "start_time": "2025-02-20T10:02:52.733Z"
   },
   {
    "duration": 33,
    "start_time": "2025-02-20T10:02:53.309Z"
   },
   {
    "duration": 22,
    "start_time": "2025-02-20T10:02:54.519Z"
   },
   {
    "duration": 7,
    "start_time": "2025-02-20T10:02:55.744Z"
   },
   {
    "duration": 34,
    "start_time": "2025-02-20T10:02:56.365Z"
   },
   {
    "duration": 14,
    "start_time": "2025-02-20T10:02:57.666Z"
   },
   {
    "duration": 21,
    "start_time": "2025-02-20T10:02:58.952Z"
   },
   {
    "duration": 18,
    "start_time": "2025-02-20T10:02:59.529Z"
   },
   {
    "duration": 17,
    "start_time": "2025-02-20T10:03:00.703Z"
   },
   {
    "duration": 12,
    "start_time": "2025-02-20T10:03:02.610Z"
   },
   {
    "duration": 6,
    "start_time": "2025-02-20T10:03:03.166Z"
   },
   {
    "duration": 7,
    "start_time": "2025-02-20T10:03:03.771Z"
   },
   {
    "duration": 52,
    "start_time": "2025-02-20T10:03:04.235Z"
   },
   {
    "duration": 5,
    "start_time": "2025-02-20T10:03:04.455Z"
   },
   {
    "duration": 10,
    "start_time": "2025-02-20T10:03:04.661Z"
   },
   {
    "duration": 16,
    "start_time": "2025-02-20T10:03:04.866Z"
   },
   {
    "duration": 8,
    "start_time": "2025-02-20T10:03:05.085Z"
   },
   {
    "duration": 4,
    "start_time": "2025-02-20T10:03:05.709Z"
   },
   {
    "duration": 12,
    "start_time": "2025-02-20T10:03:06.173Z"
   },
   {
    "duration": 236,
    "start_time": "2025-02-20T10:03:06.394Z"
   },
   {
    "duration": 113,
    "start_time": "2025-02-20T10:03:07.450Z"
   },
   {
    "duration": 80,
    "start_time": "2025-02-20T10:03:07.789Z"
   },
   {
    "duration": 72,
    "start_time": "2025-02-20T10:03:08.185Z"
   },
   {
    "duration": 7,
    "start_time": "2025-02-20T10:03:08.400Z"
   },
   {
    "duration": 6,
    "start_time": "2025-02-20T10:03:08.606Z"
   },
   {
    "duration": 9,
    "start_time": "2025-02-20T10:03:08.797Z"
   },
   {
    "duration": 27,
    "start_time": "2025-02-20T10:03:09.004Z"
   },
   {
    "duration": 190,
    "start_time": "2025-02-20T10:03:09.204Z"
   },
   {
    "duration": 4,
    "start_time": "2025-02-20T10:03:09.594Z"
   },
   {
    "duration": 122,
    "start_time": "2025-02-20T10:03:09.769Z"
   },
   {
    "duration": 11,
    "start_time": "2025-02-20T10:03:09.976Z"
   },
   {
    "duration": 138,
    "start_time": "2025-02-20T10:03:10.174Z"
   },
   {
    "duration": 22,
    "start_time": "2025-02-20T10:03:10.372Z"
   },
   {
    "duration": 23,
    "start_time": "2025-02-20T10:03:10.584Z"
   },
   {
    "duration": 58,
    "start_time": "2025-02-20T10:03:11.284Z"
   },
   {
    "duration": 4,
    "start_time": "2025-02-20T10:03:11.344Z"
   },
   {
    "duration": 209,
    "start_time": "2025-02-20T10:03:11.349Z"
   },
   {
    "duration": 137,
    "start_time": "2025-02-20T10:03:11.560Z"
   },
   {
    "duration": 85,
    "start_time": "2025-02-20T10:03:12.287Z"
   },
   {
    "duration": 26,
    "start_time": "2025-02-20T10:03:13.089Z"
   },
   {
    "duration": 3,
    "start_time": "2025-02-20T10:03:13.939Z"
   },
   {
    "duration": 203,
    "start_time": "2025-02-20T10:03:14.556Z"
   },
   {
    "duration": 28,
    "start_time": "2025-02-20T10:14:21.824Z"
   },
   {
    "duration": 20,
    "start_time": "2025-02-20T10:14:46.459Z"
   },
   {
    "duration": 118,
    "start_time": "2025-02-20T10:15:00.523Z"
   },
   {
    "duration": 88,
    "start_time": "2025-02-20T10:15:03.677Z"
   },
   {
    "duration": 5,
    "start_time": "2025-02-20T10:26:33.919Z"
   },
   {
    "duration": 1247,
    "start_time": "2025-02-20T10:27:38.038Z"
   },
   {
    "duration": 20,
    "start_time": "2025-02-20T10:32:26.394Z"
   },
   {
    "duration": 26,
    "start_time": "2025-02-20T10:32:34.859Z"
   },
   {
    "duration": 1411,
    "start_time": "2025-02-20T10:34:14.752Z"
   },
   {
    "duration": 3044,
    "start_time": "2025-02-20T10:34:16.165Z"
   },
   {
    "duration": 98,
    "start_time": "2025-02-20T10:34:19.213Z"
   },
   {
    "duration": 2871,
    "start_time": "2025-02-20T10:34:19.337Z"
   },
   {
    "duration": 1524,
    "start_time": "2025-02-20T10:35:04.435Z"
   },
   {
    "duration": 161,
    "start_time": "2025-02-20T10:35:29.655Z"
   },
   {
    "duration": 122,
    "start_time": "2025-02-20T10:35:33.396Z"
   },
   {
    "duration": 46,
    "start_time": "2025-02-20T10:35:35.073Z"
   },
   {
    "duration": 114,
    "start_time": "2025-02-20T10:35:36.036Z"
   },
   {
    "duration": 244,
    "start_time": "2025-02-20T10:35:39.632Z"
   },
   {
    "duration": 26,
    "start_time": "2025-02-20T10:35:40.767Z"
   },
   {
    "duration": 1314,
    "start_time": "2025-02-20T10:36:02.322Z"
   },
   {
    "duration": 2911,
    "start_time": "2025-02-20T10:36:03.638Z"
   },
   {
    "duration": 61,
    "start_time": "2025-02-20T10:36:06.552Z"
   },
   {
    "duration": 3240,
    "start_time": "2025-02-20T10:36:06.616Z"
   },
   {
    "duration": 153,
    "start_time": "2025-02-20T10:36:09.858Z"
   },
   {
    "duration": 122,
    "start_time": "2025-02-20T10:36:10.013Z"
   },
   {
    "duration": 56,
    "start_time": "2025-02-20T10:36:10.137Z"
   },
   {
    "duration": 127,
    "start_time": "2025-02-20T10:36:10.195Z"
   },
   {
    "duration": 258,
    "start_time": "2025-02-20T10:36:10.324Z"
   },
   {
    "duration": 27,
    "start_time": "2025-02-20T10:36:10.585Z"
   },
   {
    "duration": 17,
    "start_time": "2025-02-20T10:36:10.614Z"
   },
   {
    "duration": 90,
    "start_time": "2025-02-20T10:36:10.632Z"
   },
   {
    "duration": 61,
    "start_time": "2025-02-20T10:36:10.724Z"
   },
   {
    "duration": 26,
    "start_time": "2025-02-20T10:36:10.787Z"
   },
   {
    "duration": 16,
    "start_time": "2025-02-20T10:36:10.815Z"
   },
   {
    "duration": 57,
    "start_time": "2025-02-20T10:36:10.833Z"
   },
   {
    "duration": 52,
    "start_time": "2025-02-20T10:36:10.892Z"
   },
   {
    "duration": 47,
    "start_time": "2025-02-20T10:36:10.945Z"
   },
   {
    "duration": 24,
    "start_time": "2025-02-20T10:36:10.994Z"
   },
   {
    "duration": 10,
    "start_time": "2025-02-20T10:36:11.020Z"
   },
   {
    "duration": 64,
    "start_time": "2025-02-20T10:36:11.032Z"
   },
   {
    "duration": 13,
    "start_time": "2025-02-20T10:36:11.099Z"
   },
   {
    "duration": 69,
    "start_time": "2025-02-20T10:36:11.115Z"
   },
   {
    "duration": 31,
    "start_time": "2025-02-20T10:36:11.187Z"
   },
   {
    "duration": 18,
    "start_time": "2025-02-20T10:36:11.220Z"
   },
   {
    "duration": 14,
    "start_time": "2025-02-20T10:36:11.241Z"
   },
   {
    "duration": 15,
    "start_time": "2025-02-20T10:36:11.276Z"
   },
   {
    "duration": 11,
    "start_time": "2025-02-20T10:36:11.297Z"
   },
   {
    "duration": 73,
    "start_time": "2025-02-20T10:36:11.310Z"
   },
   {
    "duration": 5,
    "start_time": "2025-02-20T10:36:11.388Z"
   },
   {
    "duration": 18,
    "start_time": "2025-02-20T10:36:11.395Z"
   },
   {
    "duration": 23,
    "start_time": "2025-02-20T10:36:11.415Z"
   },
   {
    "duration": 16,
    "start_time": "2025-02-20T10:36:11.439Z"
   },
   {
    "duration": 9,
    "start_time": "2025-02-20T10:36:11.457Z"
   },
   {
    "duration": 29,
    "start_time": "2025-02-20T10:36:11.468Z"
   },
   {
    "duration": 241,
    "start_time": "2025-02-20T10:36:11.499Z"
   },
   {
    "duration": 124,
    "start_time": "2025-02-20T10:36:11.741Z"
   },
   {
    "duration": 87,
    "start_time": "2025-02-20T10:36:11.867Z"
   },
   {
    "duration": 84,
    "start_time": "2025-02-20T10:36:11.972Z"
   },
   {
    "duration": 16,
    "start_time": "2025-02-20T10:36:12.058Z"
   },
   {
    "duration": 15,
    "start_time": "2025-02-20T10:36:12.080Z"
   },
   {
    "duration": 10,
    "start_time": "2025-02-20T10:36:12.097Z"
   },
   {
    "duration": 21,
    "start_time": "2025-02-20T10:36:12.109Z"
   },
   {
    "duration": 250,
    "start_time": "2025-02-20T10:36:12.133Z"
   },
   {
    "duration": 4,
    "start_time": "2025-02-20T10:36:12.385Z"
   },
   {
    "duration": 113,
    "start_time": "2025-02-20T10:36:12.391Z"
   },
   {
    "duration": 3,
    "start_time": "2025-02-20T10:36:12.506Z"
   },
   {
    "duration": 142,
    "start_time": "2025-02-20T10:36:12.511Z"
   },
   {
    "duration": 28,
    "start_time": "2025-02-20T10:36:12.655Z"
   },
   {
    "duration": 32,
    "start_time": "2025-02-20T10:36:12.691Z"
   },
   {
    "duration": 70,
    "start_time": "2025-02-20T10:36:12.725Z"
   },
   {
    "duration": 4,
    "start_time": "2025-02-20T10:36:12.797Z"
   },
   {
    "duration": 221,
    "start_time": "2025-02-20T10:36:12.803Z"
   },
   {
    "duration": 123,
    "start_time": "2025-02-20T10:36:13.026Z"
   },
   {
    "duration": 100,
    "start_time": "2025-02-20T10:36:13.151Z"
   },
   {
    "duration": 38,
    "start_time": "2025-02-20T10:36:13.253Z"
   },
   {
    "duration": 5,
    "start_time": "2025-02-20T10:36:13.293Z"
   },
   {
    "duration": 233,
    "start_time": "2025-02-20T10:36:13.299Z"
   },
   {
    "duration": 1330,
    "start_time": "2025-02-20T10:36:13.534Z"
   },
   {
    "duration": 0,
    "start_time": "2025-02-20T10:36:14.865Z"
   },
   {
    "duration": 2865,
    "start_time": "2025-02-20T10:37:50.399Z"
   },
   {
    "duration": 4,
    "start_time": "2025-02-20T10:37:55.912Z"
   },
   {
    "duration": 2887,
    "start_time": "2025-02-20T10:37:59.004Z"
   },
   {
    "duration": 3,
    "start_time": "2025-02-20T10:38:01.894Z"
   },
   {
    "duration": 2952,
    "start_time": "2025-02-20T10:38:02.652Z"
   },
   {
    "duration": 136,
    "start_time": "2025-02-20T10:38:08.125Z"
   },
   {
    "duration": 151,
    "start_time": "2025-02-20T10:38:09.412Z"
   },
   {
    "duration": 36,
    "start_time": "2025-02-20T10:38:10.636Z"
   },
   {
    "duration": 109,
    "start_time": "2025-02-20T10:38:11.258Z"
   },
   {
    "duration": 210,
    "start_time": "2025-02-20T10:38:12.688Z"
   },
   {
    "duration": 29,
    "start_time": "2025-02-20T10:38:14.677Z"
   },
   {
    "duration": 15,
    "start_time": "2025-02-20T10:38:18.802Z"
   },
   {
    "duration": 88,
    "start_time": "2025-02-20T10:38:18.986Z"
   },
   {
    "duration": 41,
    "start_time": "2025-02-20T10:38:19.347Z"
   },
   {
    "duration": 43,
    "start_time": "2025-02-20T10:38:19.727Z"
   },
   {
    "duration": 14,
    "start_time": "2025-02-20T10:38:20.079Z"
   },
   {
    "duration": 28,
    "start_time": "2025-02-20T10:38:20.256Z"
   },
   {
    "duration": 34,
    "start_time": "2025-02-20T10:38:20.611Z"
   },
   {
    "duration": 45,
    "start_time": "2025-02-20T10:38:20.796Z"
   },
   {
    "duration": 30,
    "start_time": "2025-02-20T10:38:21.165Z"
   },
   {
    "duration": 10,
    "start_time": "2025-02-20T10:38:21.547Z"
   },
   {
    "duration": 34,
    "start_time": "2025-02-20T10:38:21.740Z"
   },
   {
    "duration": 10,
    "start_time": "2025-02-20T10:38:22.130Z"
   },
   {
    "duration": 14,
    "start_time": "2025-02-20T10:38:22.526Z"
   },
   {
    "duration": 18,
    "start_time": "2025-02-20T10:38:22.725Z"
   },
   {
    "duration": 20,
    "start_time": "2025-02-20T10:38:23.115Z"
   },
   {
    "duration": 12,
    "start_time": "2025-02-20T10:38:23.727Z"
   },
   {
    "duration": 5,
    "start_time": "2025-02-20T10:38:23.910Z"
   },
   {
    "duration": 5,
    "start_time": "2025-02-20T10:38:24.137Z"
   },
   {
    "duration": 47,
    "start_time": "2025-02-20T10:38:24.337Z"
   },
   {
    "duration": 5,
    "start_time": "2025-02-20T10:38:24.542Z"
   },
   {
    "duration": 14,
    "start_time": "2025-02-20T10:38:24.741Z"
   },
   {
    "duration": 13,
    "start_time": "2025-02-20T10:38:24.940Z"
   },
   {
    "duration": 11,
    "start_time": "2025-02-20T10:38:25.145Z"
   },
   {
    "duration": 4,
    "start_time": "2025-02-20T10:38:25.359Z"
   },
   {
    "duration": 5,
    "start_time": "2025-02-20T10:38:25.551Z"
   },
   {
    "duration": 208,
    "start_time": "2025-02-20T10:38:25.741Z"
   },
   {
    "duration": 102,
    "start_time": "2025-02-20T10:38:26.345Z"
   },
   {
    "duration": 81,
    "start_time": "2025-02-20T10:38:26.536Z"
   },
   {
    "duration": 73,
    "start_time": "2025-02-20T10:38:26.734Z"
   },
   {
    "duration": 7,
    "start_time": "2025-02-20T10:38:26.933Z"
   },
   {
    "duration": 7,
    "start_time": "2025-02-20T10:38:27.139Z"
   },
   {
    "duration": 10,
    "start_time": "2025-02-20T10:38:27.338Z"
   },
   {
    "duration": 26,
    "start_time": "2025-02-20T10:38:27.544Z"
   },
   {
    "duration": 196,
    "start_time": "2025-02-20T10:38:27.750Z"
   },
   {
    "duration": 4,
    "start_time": "2025-02-20T10:38:28.139Z"
   },
   {
    "duration": 118,
    "start_time": "2025-02-20T10:38:28.345Z"
   },
   {
    "duration": 4,
    "start_time": "2025-02-20T10:38:28.567Z"
   },
   {
    "duration": 120,
    "start_time": "2025-02-20T10:38:29.357Z"
   },
   {
    "duration": 17,
    "start_time": "2025-02-20T10:38:29.853Z"
   },
   {
    "duration": 25,
    "start_time": "2025-02-20T10:38:30.286Z"
   },
   {
    "duration": 59,
    "start_time": "2025-02-20T10:38:30.841Z"
   },
   {
    "duration": 3,
    "start_time": "2025-02-20T10:38:31.341Z"
   },
   {
    "duration": 197,
    "start_time": "2025-02-20T10:38:31.524Z"
   },
   {
    "duration": 106,
    "start_time": "2025-02-20T10:38:31.916Z"
   },
   {
    "duration": 86,
    "start_time": "2025-02-20T10:38:32.113Z"
   },
   {
    "duration": 24,
    "start_time": "2025-02-20T10:38:32.319Z"
   },
   {
    "duration": 6,
    "start_time": "2025-02-20T10:38:32.525Z"
   },
   {
    "duration": 347,
    "start_time": "2025-02-20T10:38:32.716Z"
   },
   {
    "duration": 1468,
    "start_time": "2025-02-20T10:38:34.977Z"
   },
   {
    "duration": 33,
    "start_time": "2025-02-20T10:38:53.809Z"
   },
   {
    "duration": 47,
    "start_time": "2025-02-20T10:39:28.367Z"
   },
   {
    "duration": 19,
    "start_time": "2025-02-20T10:39:39.471Z"
   },
   {
    "duration": 5,
    "start_time": "2025-02-20T10:40:10.939Z"
   },
   {
    "duration": 45,
    "start_time": "2025-02-20T10:42:10.262Z"
   },
   {
    "duration": 35,
    "start_time": "2025-02-20T10:42:35.529Z"
   },
   {
    "duration": 13,
    "start_time": "2025-02-20T10:42:36.274Z"
   },
   {
    "duration": 1244,
    "start_time": "2025-02-20T10:43:01.264Z"
   },
   {
    "duration": 1170,
    "start_time": "2025-02-20T10:43:08.593Z"
   },
   {
    "duration": 29,
    "start_time": "2025-02-20T10:43:23.677Z"
   },
   {
    "duration": 4,
    "start_time": "2025-02-20T10:43:42.389Z"
   },
   {
    "duration": 6,
    "start_time": "2025-02-20T10:44:05.915Z"
   },
   {
    "duration": 5,
    "start_time": "2025-02-20T10:44:16.614Z"
   },
   {
    "duration": 15,
    "start_time": "2025-02-20T10:46:05.412Z"
   },
   {
    "duration": 16,
    "start_time": "2025-02-20T10:46:39.110Z"
   },
   {
    "duration": 14,
    "start_time": "2025-02-20T10:47:54.240Z"
   },
   {
    "duration": 9,
    "start_time": "2025-02-20T10:48:13.196Z"
   },
   {
    "duration": 5,
    "start_time": "2025-02-20T10:51:22.009Z"
   },
   {
    "duration": 10,
    "start_time": "2025-02-20T10:51:39.387Z"
   },
   {
    "duration": 4,
    "start_time": "2025-02-20T10:51:43.804Z"
   },
   {
    "duration": 6,
    "start_time": "2025-02-20T10:51:59.298Z"
   },
   {
    "duration": 28,
    "start_time": "2025-02-20T10:52:26.842Z"
   },
   {
    "duration": 24,
    "start_time": "2025-02-20T10:52:34.507Z"
   },
   {
    "duration": 6,
    "start_time": "2025-02-20T10:52:50.509Z"
   },
   {
    "duration": 81,
    "start_time": "2025-02-20T10:53:05.420Z"
   },
   {
    "duration": 27,
    "start_time": "2025-02-20T10:53:13.228Z"
   },
   {
    "duration": 1442,
    "start_time": "2025-02-20T14:35:31.885Z"
   },
   {
    "duration": 28282,
    "start_time": "2025-02-20T14:36:06.948Z"
   },
   {
    "duration": 58,
    "start_time": "2025-02-20T14:36:35.232Z"
   },
   {
    "duration": 2672,
    "start_time": "2025-02-20T14:39:35.524Z"
   },
   {
    "duration": 124,
    "start_time": "2025-02-20T14:39:38.198Z"
   },
   {
    "duration": 94,
    "start_time": "2025-02-20T14:39:43.442Z"
   },
   {
    "duration": 102,
    "start_time": "2025-02-20T14:42:15.960Z"
   },
   {
    "duration": 190,
    "start_time": "2025-02-20T14:43:10.716Z"
   },
   {
    "duration": 21,
    "start_time": "2025-02-20T14:43:11.658Z"
   },
   {
    "duration": 13,
    "start_time": "2025-02-20T14:43:12.873Z"
   },
   {
    "duration": 51,
    "start_time": "2025-02-20T14:43:13.237Z"
   },
   {
    "duration": 38,
    "start_time": "2025-02-20T14:43:13.802Z"
   },
   {
    "duration": 23,
    "start_time": "2025-02-20T14:43:14.174Z"
   },
   {
    "duration": 13,
    "start_time": "2025-02-20T14:43:14.539Z"
   },
   {
    "duration": 27,
    "start_time": "2025-02-20T14:43:14.718Z"
   },
   {
    "duration": 28,
    "start_time": "2025-02-20T14:43:15.107Z"
   },
   {
    "duration": 45,
    "start_time": "2025-02-20T14:43:15.277Z"
   },
   {
    "duration": 22,
    "start_time": "2025-02-20T14:43:15.675Z"
   },
   {
    "duration": 7,
    "start_time": "2025-02-20T14:43:16.063Z"
   },
   {
    "duration": 22,
    "start_time": "2025-02-20T14:43:16.257Z"
   },
   {
    "duration": 10,
    "start_time": "2025-02-20T14:43:16.656Z"
   },
   {
    "duration": 13,
    "start_time": "2025-02-20T14:43:17.601Z"
   },
   {
    "duration": 16,
    "start_time": "2025-02-20T14:43:17.965Z"
   },
   {
    "duration": 15,
    "start_time": "2025-02-20T14:43:18.359Z"
   },
   {
    "duration": 13,
    "start_time": "2025-02-20T14:43:19.003Z"
   },
   {
    "duration": 6,
    "start_time": "2025-02-20T14:43:21.409Z"
   },
   {
    "duration": 4,
    "start_time": "2025-02-20T14:43:22.826Z"
   },
   {
    "duration": 50,
    "start_time": "2025-02-20T14:43:23.709Z"
   },
   {
    "duration": 6,
    "start_time": "2025-02-20T14:43:24.456Z"
   },
   {
    "duration": 9,
    "start_time": "2025-02-20T14:43:25.309Z"
   },
   {
    "duration": 10,
    "start_time": "2025-02-20T14:43:26.477Z"
   },
   {
    "duration": 8,
    "start_time": "2025-02-20T14:43:27.711Z"
   },
   {
    "duration": 4,
    "start_time": "2025-02-20T14:43:28.345Z"
   },
   {
    "duration": 4,
    "start_time": "2025-02-20T14:43:28.965Z"
   },
   {
    "duration": 224,
    "start_time": "2025-02-20T14:43:29.791Z"
   },
   {
    "duration": 106,
    "start_time": "2025-02-20T14:43:32.475Z"
   },
   {
    "duration": 78,
    "start_time": "2025-02-20T14:43:33.316Z"
   },
   {
    "duration": 79,
    "start_time": "2025-02-20T14:43:33.814Z"
   },
   {
    "duration": 6,
    "start_time": "2025-02-20T14:43:33.985Z"
   },
   {
    "duration": 10,
    "start_time": "2025-02-20T14:43:34.170Z"
   },
   {
    "duration": 9,
    "start_time": "2025-02-20T14:43:34.349Z"
   },
   {
    "duration": 20,
    "start_time": "2025-02-20T14:43:34.534Z"
   },
   {
    "duration": 186,
    "start_time": "2025-02-20T14:43:34.720Z"
   },
   {
    "duration": 4,
    "start_time": "2025-02-20T14:43:35.086Z"
   },
   {
    "duration": 96,
    "start_time": "2025-02-20T14:43:35.286Z"
   },
   {
    "duration": 3,
    "start_time": "2025-02-20T14:43:35.457Z"
   },
   {
    "duration": 120,
    "start_time": "2025-02-20T14:43:35.649Z"
   },
   {
    "duration": 18,
    "start_time": "2025-02-20T14:43:35.828Z"
   },
   {
    "duration": 22,
    "start_time": "2025-02-20T14:43:36.007Z"
   },
   {
    "duration": 58,
    "start_time": "2025-02-20T14:43:36.186Z"
   },
   {
    "duration": 5,
    "start_time": "2025-02-20T14:43:36.393Z"
   },
   {
    "duration": 182,
    "start_time": "2025-02-20T14:43:36.593Z"
   },
   {
    "duration": 107,
    "start_time": "2025-02-20T14:43:37.001Z"
   },
   {
    "duration": 87,
    "start_time": "2025-02-20T14:43:37.228Z"
   },
   {
    "duration": 24,
    "start_time": "2025-02-20T14:43:38.251Z"
   },
   {
    "duration": 4,
    "start_time": "2025-02-20T14:43:38.948Z"
   },
   {
    "duration": 194,
    "start_time": "2025-02-20T14:43:39.507Z"
   },
   {
    "duration": 39,
    "start_time": "2025-02-20T14:43:42.966Z"
   },
   {
    "duration": 5,
    "start_time": "2025-02-20T14:43:43.352Z"
   },
   {
    "duration": 21,
    "start_time": "2025-02-20T14:43:43.530Z"
   },
   {
    "duration": 4,
    "start_time": "2025-02-20T14:43:43.723Z"
   },
   {
    "duration": 8,
    "start_time": "2025-02-20T14:43:43.909Z"
   },
   {
    "duration": 6,
    "start_time": "2025-02-20T14:43:44.094Z"
   },
   {
    "duration": 16,
    "start_time": "2025-02-20T14:43:44.710Z"
   },
   {
    "duration": 15,
    "start_time": "2025-02-20T14:43:45.614Z"
   },
   {
    "duration": 6,
    "start_time": "2025-02-20T14:43:46.749Z"
   },
   {
    "duration": 32,
    "start_time": "2025-02-20T14:43:48.631Z"
   },
   {
    "duration": 23,
    "start_time": "2025-02-20T14:43:49.390Z"
   },
   {
    "duration": 6,
    "start_time": "2025-02-20T14:43:50.075Z"
   },
   {
    "duration": 117,
    "start_time": "2025-02-20T14:44:14.579Z"
   },
   {
    "duration": 114,
    "start_time": "2025-02-20T14:47:52.469Z"
   },
   {
    "duration": 819,
    "start_time": "2025-02-20T14:48:03.394Z"
   },
   {
    "duration": 45,
    "start_time": "2025-02-20T14:48:49.410Z"
   },
   {
    "duration": 51,
    "start_time": "2025-02-20T14:49:34.297Z"
   },
   {
    "duration": 605,
    "start_time": "2025-02-20T14:49:48.399Z"
   },
   {
    "duration": 12,
    "start_time": "2025-02-20T14:50:47.804Z"
   },
   {
    "duration": 13,
    "start_time": "2025-02-20T14:51:34.428Z"
   },
   {
    "duration": 124,
    "start_time": "2025-02-20T14:52:31.612Z"
   },
   {
    "duration": 45,
    "start_time": "2025-02-20T14:54:12.329Z"
   },
   {
    "duration": 77,
    "start_time": "2025-02-20T14:54:27.648Z"
   },
   {
    "duration": 36,
    "start_time": "2025-02-20T14:57:36.125Z"
   },
   {
    "duration": 36,
    "start_time": "2025-02-20T14:59:55.942Z"
   },
   {
    "duration": 50,
    "start_time": "2025-02-20T15:01:02.562Z"
   },
   {
    "duration": 37,
    "start_time": "2025-02-20T15:01:03.197Z"
   },
   {
    "duration": 88,
    "start_time": "2025-02-20T15:01:03.788Z"
   },
   {
    "duration": 8,
    "start_time": "2025-02-20T15:04:09.147Z"
   },
   {
    "duration": 26,
    "start_time": "2025-02-20T15:04:36.517Z"
   },
   {
    "duration": 36,
    "start_time": "2025-02-20T15:04:53.780Z"
   },
   {
    "duration": 15,
    "start_time": "2025-02-20T15:06:47.015Z"
   },
   {
    "duration": 6,
    "start_time": "2025-02-20T15:06:59.689Z"
   },
   {
    "duration": 15,
    "start_time": "2025-02-20T15:07:13.426Z"
   },
   {
    "duration": 27,
    "start_time": "2025-02-20T15:07:14.345Z"
   },
   {
    "duration": 53,
    "start_time": "2025-02-20T15:15:28.624Z"
   },
   {
    "duration": 7,
    "start_time": "2025-02-20T15:25:16.344Z"
   },
   {
    "duration": 6,
    "start_time": "2025-02-20T15:33:40.027Z"
   },
   {
    "duration": 13,
    "start_time": "2025-02-20T15:33:53.040Z"
   },
   {
    "duration": 7,
    "start_time": "2025-02-20T15:34:30.668Z"
   },
   {
    "duration": 11,
    "start_time": "2025-02-20T15:36:06.515Z"
   },
   {
    "duration": 1249,
    "start_time": "2025-02-20T15:36:23.629Z"
   },
   {
    "duration": 1170,
    "start_time": "2025-02-20T15:36:54.026Z"
   },
   {
    "duration": 10,
    "start_time": "2025-02-20T15:37:15.950Z"
   },
   {
    "duration": 57,
    "start_time": "2025-02-20T15:37:52.028Z"
   },
   {
    "duration": 24,
    "start_time": "2025-02-20T15:38:30.236Z"
   },
   {
    "duration": 6,
    "start_time": "2025-02-20T15:39:44.465Z"
   },
   {
    "duration": 11,
    "start_time": "2025-02-20T15:40:19.518Z"
   },
   {
    "duration": 51,
    "start_time": "2025-02-20T15:40:21.107Z"
   },
   {
    "duration": 7,
    "start_time": "2025-02-20T15:40:26.930Z"
   },
   {
    "duration": 12,
    "start_time": "2025-02-20T15:40:57.666Z"
   },
   {
    "duration": 1286,
    "start_time": "2025-02-20T15:41:20.316Z"
   },
   {
    "duration": 562,
    "start_time": "2025-02-20T15:41:37.269Z"
   },
   {
    "duration": 22,
    "start_time": "2025-02-20T15:42:31.335Z"
   },
   {
    "duration": 24,
    "start_time": "2025-02-20T15:43:08.659Z"
   },
   {
    "duration": 1283,
    "start_time": "2025-02-20T15:43:49.830Z"
   },
   {
    "duration": 2631,
    "start_time": "2025-02-20T15:43:51.115Z"
   },
   {
    "duration": 55,
    "start_time": "2025-02-20T15:43:53.748Z"
   },
   {
    "duration": 2597,
    "start_time": "2025-02-20T15:43:53.805Z"
   },
   {
    "duration": 134,
    "start_time": "2025-02-20T15:43:56.404Z"
   },
   {
    "duration": 111,
    "start_time": "2025-02-20T15:43:56.540Z"
   },
   {
    "duration": 105,
    "start_time": "2025-02-20T15:43:56.660Z"
   },
   {
    "duration": 192,
    "start_time": "2025-02-20T15:43:56.766Z"
   },
   {
    "duration": 19,
    "start_time": "2025-02-20T15:43:56.959Z"
   },
   {
    "duration": 12,
    "start_time": "2025-02-20T15:43:56.981Z"
   },
   {
    "duration": 68,
    "start_time": "2025-02-20T15:43:56.995Z"
   },
   {
    "duration": 38,
    "start_time": "2025-02-20T15:43:57.065Z"
   },
   {
    "duration": 23,
    "start_time": "2025-02-20T15:43:57.105Z"
   },
   {
    "duration": 41,
    "start_time": "2025-02-20T15:43:57.129Z"
   },
   {
    "duration": 34,
    "start_time": "2025-02-20T15:43:57.172Z"
   },
   {
    "duration": 27,
    "start_time": "2025-02-20T15:43:57.207Z"
   },
   {
    "duration": 51,
    "start_time": "2025-02-20T15:43:57.238Z"
   },
   {
    "duration": 24,
    "start_time": "2025-02-20T15:43:57.291Z"
   },
   {
    "duration": 8,
    "start_time": "2025-02-20T15:43:57.317Z"
   },
   {
    "duration": 53,
    "start_time": "2025-02-20T15:43:57.327Z"
   },
   {
    "duration": 11,
    "start_time": "2025-02-20T15:43:57.381Z"
   },
   {
    "duration": 23,
    "start_time": "2025-02-20T15:43:57.393Z"
   },
   {
    "duration": 15,
    "start_time": "2025-02-20T15:43:57.418Z"
   },
   {
    "duration": 37,
    "start_time": "2025-02-20T15:43:57.434Z"
   },
   {
    "duration": 25,
    "start_time": "2025-02-20T15:43:57.473Z"
   },
   {
    "duration": 21,
    "start_time": "2025-02-20T15:43:57.500Z"
   },
   {
    "duration": 8,
    "start_time": "2025-02-20T15:43:57.522Z"
   },
   {
    "duration": 50,
    "start_time": "2025-02-20T15:43:57.535Z"
   },
   {
    "duration": 4,
    "start_time": "2025-02-20T15:43:57.587Z"
   },
   {
    "duration": 64,
    "start_time": "2025-02-20T15:43:57.593Z"
   },
   {
    "duration": 10,
    "start_time": "2025-02-20T15:43:57.659Z"
   },
   {
    "duration": 9,
    "start_time": "2025-02-20T15:43:57.670Z"
   },
   {
    "duration": 10,
    "start_time": "2025-02-20T15:43:57.681Z"
   },
   {
    "duration": 14,
    "start_time": "2025-02-20T15:43:57.693Z"
   },
   {
    "duration": 218,
    "start_time": "2025-02-20T15:43:57.709Z"
   },
   {
    "duration": 124,
    "start_time": "2025-02-20T15:43:57.929Z"
   },
   {
    "duration": 77,
    "start_time": "2025-02-20T15:43:58.055Z"
   },
   {
    "duration": 93,
    "start_time": "2025-02-20T15:43:58.134Z"
   },
   {
    "duration": 7,
    "start_time": "2025-02-20T15:43:58.229Z"
   },
   {
    "duration": 71,
    "start_time": "2025-02-20T15:43:58.238Z"
   },
   {
    "duration": 33,
    "start_time": "2025-02-20T15:43:58.311Z"
   },
   {
    "duration": 28,
    "start_time": "2025-02-20T15:43:58.346Z"
   },
   {
    "duration": 198,
    "start_time": "2025-02-20T15:43:58.376Z"
   },
   {
    "duration": 4,
    "start_time": "2025-02-20T15:43:58.576Z"
   },
   {
    "duration": 162,
    "start_time": "2025-02-20T15:43:58.581Z"
   },
   {
    "duration": 3,
    "start_time": "2025-02-20T15:43:58.745Z"
   },
   {
    "duration": 135,
    "start_time": "2025-02-20T15:43:58.762Z"
   },
   {
    "duration": 16,
    "start_time": "2025-02-20T15:43:58.899Z"
   },
   {
    "duration": 40,
    "start_time": "2025-02-20T15:43:58.917Z"
   },
   {
    "duration": 81,
    "start_time": "2025-02-20T15:43:58.959Z"
   },
   {
    "duration": 4,
    "start_time": "2025-02-20T15:43:59.042Z"
   },
   {
    "duration": 205,
    "start_time": "2025-02-20T15:43:59.047Z"
   },
   {
    "duration": 121,
    "start_time": "2025-02-20T15:43:59.254Z"
   },
   {
    "duration": 94,
    "start_time": "2025-02-20T15:43:59.378Z"
   },
   {
    "duration": 25,
    "start_time": "2025-02-20T15:43:59.474Z"
   },
   {
    "duration": 23,
    "start_time": "2025-02-20T15:43:59.501Z"
   },
   {
    "duration": 208,
    "start_time": "2025-02-20T15:43:59.526Z"
   },
   {
    "duration": 45,
    "start_time": "2025-02-20T15:43:59.735Z"
   },
   {
    "duration": 50,
    "start_time": "2025-02-20T15:43:59.782Z"
   },
   {
    "duration": 55,
    "start_time": "2025-02-20T15:43:59.834Z"
   },
   {
    "duration": 14,
    "start_time": "2025-02-20T15:43:59.890Z"
   },
   {
    "duration": 22,
    "start_time": "2025-02-20T15:43:59.906Z"
   },
   {
    "duration": 22,
    "start_time": "2025-02-20T15:43:59.929Z"
   },
   {
    "duration": 31,
    "start_time": "2025-02-20T15:43:59.953Z"
   },
   {
    "duration": 32,
    "start_time": "2025-02-20T15:43:59.986Z"
   },
   {
    "duration": 70,
    "start_time": "2025-02-20T15:44:00.020Z"
   },
   {
    "duration": 70,
    "start_time": "2025-02-20T15:44:00.092Z"
   },
   {
    "duration": 44,
    "start_time": "2025-02-20T15:44:00.163Z"
   },
   {
    "duration": 44,
    "start_time": "2025-02-20T15:44:00.209Z"
   },
   {
    "duration": 185,
    "start_time": "2025-02-20T15:44:00.254Z"
   },
   {
    "duration": 36,
    "start_time": "2025-02-20T15:44:00.441Z"
   },
   {
    "duration": 325,
    "start_time": "2025-02-20T15:44:00.479Z"
   },
   {
    "duration": 12,
    "start_time": "2025-02-20T15:44:00.805Z"
   },
   {
    "duration": 57,
    "start_time": "2025-02-20T15:44:00.819Z"
   },
   {
    "duration": 117,
    "start_time": "2025-02-20T15:44:00.877Z"
   },
   {
    "duration": 2,
    "start_time": "2025-02-20T15:44:00.996Z"
   },
   {
    "duration": 2788,
    "start_time": "2025-02-20T15:44:01.000Z"
   },
   {
    "duration": 3,
    "start_time": "2025-02-20T15:44:06.749Z"
   },
   {
    "duration": 2215,
    "start_time": "2025-02-20T15:44:07.888Z"
   },
   {
    "duration": 121,
    "start_time": "2025-02-20T15:44:11.999Z"
   },
   {
    "duration": 94,
    "start_time": "2025-02-20T15:44:13.250Z"
   },
   {
    "duration": 96,
    "start_time": "2025-02-20T15:44:14.578Z"
   },
   {
    "duration": 155,
    "start_time": "2025-02-20T15:44:15.864Z"
   },
   {
    "duration": 18,
    "start_time": "2025-02-20T15:44:16.555Z"
   },
   {
    "duration": 14,
    "start_time": "2025-02-20T15:44:17.938Z"
   },
   {
    "duration": 47,
    "start_time": "2025-02-20T15:44:18.576Z"
   },
   {
    "duration": 36,
    "start_time": "2025-02-20T15:44:19.933Z"
   },
   {
    "duration": 21,
    "start_time": "2025-02-20T15:44:21.219Z"
   },
   {
    "duration": 13,
    "start_time": "2025-02-20T15:44:22.493Z"
   },
   {
    "duration": 26,
    "start_time": "2025-02-20T15:44:23.086Z"
   },
   {
    "duration": 26,
    "start_time": "2025-02-20T15:44:26.362Z"
   },
   {
    "duration": 32,
    "start_time": "2025-02-20T15:44:27.227Z"
   },
   {
    "duration": 21,
    "start_time": "2025-02-20T15:44:28.610Z"
   },
   {
    "duration": 8,
    "start_time": "2025-02-20T15:44:29.936Z"
   },
   {
    "duration": 22,
    "start_time": "2025-02-20T15:44:30.576Z"
   },
   {
    "duration": 10,
    "start_time": "2025-02-20T15:44:31.823Z"
   },
   {
    "duration": 12,
    "start_time": "2025-02-20T15:44:32.959Z"
   },
   {
    "duration": 15,
    "start_time": "2025-02-20T15:44:33.523Z"
   },
   {
    "duration": 13,
    "start_time": "2025-02-20T15:44:34.622Z"
   },
   {
    "duration": 12,
    "start_time": "2025-02-20T15:44:36.417Z"
   },
   {
    "duration": 6,
    "start_time": "2025-02-20T15:44:36.905Z"
   },
   {
    "duration": 5,
    "start_time": "2025-02-20T15:44:37.408Z"
   },
   {
    "duration": 52,
    "start_time": "2025-02-20T15:44:37.896Z"
   },
   {
    "duration": 5,
    "start_time": "2025-02-20T15:44:38.402Z"
   },
   {
    "duration": 9,
    "start_time": "2025-02-20T15:44:38.614Z"
   },
   {
    "duration": 10,
    "start_time": "2025-02-20T15:44:38.977Z"
   },
   {
    "duration": 8,
    "start_time": "2025-02-20T15:44:39.212Z"
   },
   {
    "duration": 4,
    "start_time": "2025-02-20T15:44:39.413Z"
   },
   {
    "duration": 4,
    "start_time": "2025-02-20T15:44:39.620Z"
   },
   {
    "duration": 193,
    "start_time": "2025-02-20T15:44:39.819Z"
   },
   {
    "duration": 106,
    "start_time": "2025-02-20T15:44:40.409Z"
   },
   {
    "duration": 75,
    "start_time": "2025-02-20T15:44:40.628Z"
   },
   {
    "duration": 72,
    "start_time": "2025-02-20T15:44:40.825Z"
   },
   {
    "duration": 7,
    "start_time": "2025-02-20T15:44:41.033Z"
   },
   {
    "duration": 8,
    "start_time": "2025-02-20T15:44:41.259Z"
   },
   {
    "duration": 9,
    "start_time": "2025-02-20T15:44:41.475Z"
   },
   {
    "duration": 25,
    "start_time": "2025-02-20T15:44:41.682Z"
   },
   {
    "duration": 172,
    "start_time": "2025-02-20T15:44:41.898Z"
   },
   {
    "duration": 4,
    "start_time": "2025-02-20T15:44:42.317Z"
   },
   {
    "duration": 92,
    "start_time": "2025-02-20T15:44:42.551Z"
   },
   {
    "duration": 3,
    "start_time": "2025-02-20T15:44:42.751Z"
   },
   {
    "duration": 113,
    "start_time": "2025-02-20T15:44:42.969Z"
   },
   {
    "duration": 16,
    "start_time": "2025-02-20T15:44:43.169Z"
   },
   {
    "duration": 22,
    "start_time": "2025-02-20T15:44:43.371Z"
   },
   {
    "duration": 54,
    "start_time": "2025-02-20T15:44:43.585Z"
   },
   {
    "duration": 4,
    "start_time": "2025-02-20T15:44:43.785Z"
   },
   {
    "duration": 176,
    "start_time": "2025-02-20T15:44:44.000Z"
   },
   {
    "duration": 103,
    "start_time": "2025-02-20T15:44:44.426Z"
   },
   {
    "duration": 84,
    "start_time": "2025-02-20T15:44:44.663Z"
   },
   {
    "duration": 23,
    "start_time": "2025-02-20T15:44:45.491Z"
   },
   {
    "duration": 4,
    "start_time": "2025-02-20T15:44:46.255Z"
   },
   {
    "duration": 280,
    "start_time": "2025-02-20T15:44:46.868Z"
   },
   {
    "duration": 33,
    "start_time": "2025-02-20T15:44:51.275Z"
   },
   {
    "duration": 4,
    "start_time": "2025-02-20T15:44:51.452Z"
   },
   {
    "duration": 23,
    "start_time": "2025-02-20T15:44:51.643Z"
   },
   {
    "duration": 4,
    "start_time": "2025-02-20T15:44:51.843Z"
   },
   {
    "duration": 5,
    "start_time": "2025-02-20T15:44:52.074Z"
   },
   {
    "duration": 4,
    "start_time": "2025-02-20T15:44:52.829Z"
   },
   {
    "duration": 14,
    "start_time": "2025-02-20T15:44:54.187Z"
   },
   {
    "duration": 14,
    "start_time": "2025-02-20T15:44:54.407Z"
   },
   {
    "duration": 6,
    "start_time": "2025-02-20T15:44:55.053Z"
   },
   {
    "duration": 31,
    "start_time": "2025-02-20T15:44:56.749Z"
   },
   {
    "duration": 23,
    "start_time": "2025-02-20T15:44:57.518Z"
   },
   {
    "duration": 6,
    "start_time": "2025-02-20T15:44:58.191Z"
   },
   {
    "duration": 107,
    "start_time": "2025-02-20T15:45:01.748Z"
   },
   {
    "duration": 50,
    "start_time": "2025-02-20T15:45:04.154Z"
   },
   {
    "duration": 296,
    "start_time": "2025-02-20T15:45:06.945Z"
   },
   {
    "duration": 11,
    "start_time": "2025-02-20T15:45:14.214Z"
   },
   {
    "duration": 32,
    "start_time": "2025-02-20T15:45:15.106Z"
   },
   {
    "duration": 93,
    "start_time": "2025-02-20T15:45:17.458Z"
   },
   {
    "duration": 111,
    "start_time": "2025-02-20T15:46:43.297Z"
   },
   {
    "duration": 250,
    "start_time": "2025-02-20T15:46:53.091Z"
   },
   {
    "duration": 11,
    "start_time": "2025-02-20T15:46:54.843Z"
   },
   {
    "duration": 30,
    "start_time": "2025-02-20T15:46:56.365Z"
   },
   {
    "duration": 70,
    "start_time": "2025-02-20T15:47:01.680Z"
   },
   {
    "duration": 11,
    "start_time": "2025-02-20T15:47:53.216Z"
   },
   {
    "duration": 45,
    "start_time": "2025-02-20T15:47:53.863Z"
   },
   {
    "duration": 100,
    "start_time": "2025-02-20T15:48:16.603Z"
   },
   {
    "duration": 80,
    "start_time": "2025-02-20T15:48:52.996Z"
   },
   {
    "duration": 63,
    "start_time": "2025-02-20T15:48:54.434Z"
   },
   {
    "duration": 11,
    "start_time": "2025-02-20T15:49:53.876Z"
   },
   {
    "duration": 62,
    "start_time": "2025-02-20T15:49:54.622Z"
   },
   {
    "duration": 32,
    "start_time": "2025-02-20T15:50:00.072Z"
   },
   {
    "duration": 257,
    "start_time": "2025-02-20T15:50:00.690Z"
   },
   {
    "duration": 258,
    "start_time": "2025-02-20T15:50:01.350Z"
   },
   {
    "duration": 13,
    "start_time": "2025-02-20T15:50:02.034Z"
   },
   {
    "duration": 63,
    "start_time": "2025-02-20T15:50:02.862Z"
   },
   {
    "duration": 219,
    "start_time": "2025-02-20T15:50:27.914Z"
   },
   {
    "duration": 25,
    "start_time": "2025-02-20T15:50:33.211Z"
   },
   {
    "duration": 219,
    "start_time": "2025-02-20T15:50:33.961Z"
   },
   {
    "duration": 238,
    "start_time": "2025-02-20T15:50:35.197Z"
   },
   {
    "duration": 11,
    "start_time": "2025-02-20T15:50:36.556Z"
   },
   {
    "duration": 61,
    "start_time": "2025-02-20T15:50:40.594Z"
   },
   {
    "duration": 313,
    "start_time": "2025-02-20T15:50:57.944Z"
   },
   {
    "duration": 7,
    "start_time": "2025-02-20T15:52:03.019Z"
   },
   {
    "duration": 25,
    "start_time": "2025-02-20T15:52:42.241Z"
   },
   {
    "duration": 71,
    "start_time": "2025-02-20T15:54:02.556Z"
   },
   {
    "duration": 15,
    "start_time": "2025-02-20T15:54:09.885Z"
   },
   {
    "duration": 12,
    "start_time": "2025-02-20T15:54:20.114Z"
   },
   {
    "duration": 78,
    "start_time": "2025-02-20T15:54:59.669Z"
   },
   {
    "duration": 24,
    "start_time": "2025-02-20T15:56:04.666Z"
   },
   {
    "duration": 1228,
    "start_time": "2025-02-20T15:57:40.615Z"
   },
   {
    "duration": 2734,
    "start_time": "2025-02-20T15:57:41.845Z"
   },
   {
    "duration": 59,
    "start_time": "2025-02-20T15:57:44.581Z"
   },
   {
    "duration": 2115,
    "start_time": "2025-02-20T15:57:44.642Z"
   },
   {
    "duration": 146,
    "start_time": "2025-02-20T15:57:46.759Z"
   },
   {
    "duration": 113,
    "start_time": "2025-02-20T15:57:46.908Z"
   },
   {
    "duration": 115,
    "start_time": "2025-02-20T15:57:47.024Z"
   },
   {
    "duration": 193,
    "start_time": "2025-02-20T15:57:47.142Z"
   },
   {
    "duration": 27,
    "start_time": "2025-02-20T15:57:47.337Z"
   },
   {
    "duration": 14,
    "start_time": "2025-02-20T15:57:47.367Z"
   },
   {
    "duration": 51,
    "start_time": "2025-02-20T15:57:47.382Z"
   },
   {
    "duration": 63,
    "start_time": "2025-02-20T15:57:47.435Z"
   },
   {
    "duration": 25,
    "start_time": "2025-02-20T15:57:47.500Z"
   },
   {
    "duration": 17,
    "start_time": "2025-02-20T15:57:47.527Z"
   },
   {
    "duration": 26,
    "start_time": "2025-02-20T15:57:47.561Z"
   },
   {
    "duration": 28,
    "start_time": "2025-02-20T15:57:47.589Z"
   },
   {
    "duration": 53,
    "start_time": "2025-02-20T15:57:47.619Z"
   },
   {
    "duration": 34,
    "start_time": "2025-02-20T15:57:47.673Z"
   },
   {
    "duration": 12,
    "start_time": "2025-02-20T15:57:47.708Z"
   },
   {
    "duration": 22,
    "start_time": "2025-02-20T15:57:47.722Z"
   },
   {
    "duration": 10,
    "start_time": "2025-02-20T15:57:47.762Z"
   },
   {
    "duration": 15,
    "start_time": "2025-02-20T15:57:47.774Z"
   },
   {
    "duration": 17,
    "start_time": "2025-02-20T15:57:47.790Z"
   },
   {
    "duration": 15,
    "start_time": "2025-02-20T15:57:47.809Z"
   },
   {
    "duration": 12,
    "start_time": "2025-02-20T15:57:47.862Z"
   },
   {
    "duration": 6,
    "start_time": "2025-02-20T15:57:47.876Z"
   },
   {
    "duration": 5,
    "start_time": "2025-02-20T15:57:47.883Z"
   },
   {
    "duration": 73,
    "start_time": "2025-02-20T15:57:47.893Z"
   },
   {
    "duration": 4,
    "start_time": "2025-02-20T15:57:47.968Z"
   },
   {
    "duration": 16,
    "start_time": "2025-02-20T15:57:47.974Z"
   },
   {
    "duration": 10,
    "start_time": "2025-02-20T15:57:47.992Z"
   },
   {
    "duration": 8,
    "start_time": "2025-02-20T15:57:48.003Z"
   },
   {
    "duration": 6,
    "start_time": "2025-02-20T15:57:48.013Z"
   },
   {
    "duration": 8,
    "start_time": "2025-02-20T15:57:48.021Z"
   },
   {
    "duration": 242,
    "start_time": "2025-02-20T15:57:48.031Z"
   },
   {
    "duration": 129,
    "start_time": "2025-02-20T15:57:48.275Z"
   },
   {
    "duration": 81,
    "start_time": "2025-02-20T15:57:48.406Z"
   },
   {
    "duration": 92,
    "start_time": "2025-02-20T15:57:48.489Z"
   },
   {
    "duration": 6,
    "start_time": "2025-02-20T15:57:48.583Z"
   },
   {
    "duration": 14,
    "start_time": "2025-02-20T15:57:48.590Z"
   },
   {
    "duration": 9,
    "start_time": "2025-02-20T15:57:48.606Z"
   },
   {
    "duration": 19,
    "start_time": "2025-02-20T15:57:48.617Z"
   },
   {
    "duration": 219,
    "start_time": "2025-02-20T15:57:48.638Z"
   },
   {
    "duration": 4,
    "start_time": "2025-02-20T15:57:48.861Z"
   },
   {
    "duration": 188,
    "start_time": "2025-02-20T15:57:48.867Z"
   },
   {
    "duration": 4,
    "start_time": "2025-02-20T15:57:49.057Z"
   },
   {
    "duration": 136,
    "start_time": "2025-02-20T15:57:49.062Z"
   },
   {
    "duration": 16,
    "start_time": "2025-02-20T15:57:49.200Z"
   },
   {
    "duration": 57,
    "start_time": "2025-02-20T15:57:49.217Z"
   },
   {
    "duration": 58,
    "start_time": "2025-02-20T15:57:49.276Z"
   },
   {
    "duration": 4,
    "start_time": "2025-02-20T15:57:49.336Z"
   },
   {
    "duration": 203,
    "start_time": "2025-02-20T15:57:49.341Z"
   },
   {
    "duration": 117,
    "start_time": "2025-02-20T15:57:49.545Z"
   },
   {
    "duration": 97,
    "start_time": "2025-02-20T15:57:49.664Z"
   },
   {
    "duration": 24,
    "start_time": "2025-02-20T15:57:49.763Z"
   },
   {
    "duration": 5,
    "start_time": "2025-02-20T15:57:49.788Z"
   },
   {
    "duration": 226,
    "start_time": "2025-02-20T15:57:49.795Z"
   },
   {
    "duration": 41,
    "start_time": "2025-02-20T15:57:50.023Z"
   },
   {
    "duration": 5,
    "start_time": "2025-02-20T15:57:50.065Z"
   },
   {
    "duration": 36,
    "start_time": "2025-02-20T15:57:50.072Z"
   },
   {
    "duration": 4,
    "start_time": "2025-02-20T15:57:50.109Z"
   },
   {
    "duration": 15,
    "start_time": "2025-02-20T15:57:50.115Z"
   },
   {
    "duration": 29,
    "start_time": "2025-02-20T15:57:50.132Z"
   },
   {
    "duration": 16,
    "start_time": "2025-02-20T15:57:50.163Z"
   },
   {
    "duration": 22,
    "start_time": "2025-02-20T15:57:50.181Z"
   },
   {
    "duration": 5,
    "start_time": "2025-02-20T15:57:50.206Z"
   },
   {
    "duration": 56,
    "start_time": "2025-02-20T15:57:50.213Z"
   },
   {
    "duration": 34,
    "start_time": "2025-02-20T15:57:50.272Z"
   },
   {
    "duration": 14,
    "start_time": "2025-02-20T15:57:50.308Z"
   },
   {
    "duration": 121,
    "start_time": "2025-02-20T15:57:50.324Z"
   },
   {
    "duration": 46,
    "start_time": "2025-02-20T15:57:50.447Z"
   },
   {
    "duration": 328,
    "start_time": "2025-02-20T15:57:50.495Z"
   },
   {
    "duration": 317,
    "start_time": "2025-02-20T15:57:50.825Z"
   },
   {
    "duration": 20,
    "start_time": "2025-02-20T15:57:51.144Z"
   },
   {
    "duration": 80,
    "start_time": "2025-02-20T15:57:51.166Z"
   },
   {
    "duration": 482,
    "start_time": "2025-02-20T15:57:51.262Z"
   },
   {
    "duration": 15,
    "start_time": "2025-02-20T15:57:51.747Z"
   },
   {
    "duration": 17,
    "start_time": "2025-02-20T15:57:51.764Z"
   },
   {
    "duration": 30,
    "start_time": "2025-02-20T15:57:51.783Z"
   },
   {
    "duration": 3,
    "start_time": "2025-02-20T15:57:51.814Z"
   },
   {
    "duration": 2645,
    "start_time": "2025-02-20T15:57:52.608Z"
   },
   {
    "duration": 3,
    "start_time": "2025-02-20T15:57:55.256Z"
   },
   {
    "duration": 2230,
    "start_time": "2025-02-20T15:57:56.150Z"
   },
   {
    "duration": 125,
    "start_time": "2025-02-20T15:58:00.477Z"
   },
   {
    "duration": 99,
    "start_time": "2025-02-20T15:58:02.688Z"
   },
   {
    "duration": 102,
    "start_time": "2025-02-20T15:58:04.583Z"
   },
   {
    "duration": 163,
    "start_time": "2025-02-20T15:58:06.496Z"
   },
   {
    "duration": 19,
    "start_time": "2025-02-20T15:58:07.560Z"
   },
   {
    "duration": 13,
    "start_time": "2025-02-20T15:58:09.353Z"
   },
   {
    "duration": 51,
    "start_time": "2025-02-20T15:58:10.281Z"
   },
   {
    "duration": 39,
    "start_time": "2025-02-20T15:58:11.838Z"
   },
   {
    "duration": 23,
    "start_time": "2025-02-20T15:58:13.243Z"
   },
   {
    "duration": 13,
    "start_time": "2025-02-20T15:58:14.630Z"
   },
   {
    "duration": 27,
    "start_time": "2025-02-20T15:58:15.267Z"
   },
   {
    "duration": 27,
    "start_time": "2025-02-20T15:58:16.637Z"
   },
   {
    "duration": 38,
    "start_time": "2025-02-20T15:58:17.281Z"
   },
   {
    "duration": 22,
    "start_time": "2025-02-20T15:58:18.602Z"
   },
   {
    "duration": 8,
    "start_time": "2025-02-20T15:58:19.851Z"
   },
   {
    "duration": 23,
    "start_time": "2025-02-20T15:58:20.509Z"
   },
   {
    "duration": 10,
    "start_time": "2025-02-20T15:58:21.949Z"
   },
   {
    "duration": 14,
    "start_time": "2025-02-20T15:58:23.227Z"
   },
   {
    "duration": 17,
    "start_time": "2025-02-20T15:58:23.545Z"
   },
   {
    "duration": 20,
    "start_time": "2025-02-20T15:58:23.908Z"
   },
   {
    "duration": 11,
    "start_time": "2025-02-20T15:58:24.453Z"
   },
   {
    "duration": 6,
    "start_time": "2025-02-20T15:58:24.634Z"
   },
   {
    "duration": 4,
    "start_time": "2025-02-20T15:58:24.816Z"
   },
   {
    "duration": 42,
    "start_time": "2025-02-20T15:58:24.994Z"
   },
   {
    "duration": 5,
    "start_time": "2025-02-20T15:58:25.173Z"
   },
   {
    "duration": 9,
    "start_time": "2025-02-20T15:58:25.352Z"
   },
   {
    "duration": 9,
    "start_time": "2025-02-20T15:58:25.544Z"
   },
   {
    "duration": 7,
    "start_time": "2025-02-20T15:58:25.737Z"
   },
   {
    "duration": 4,
    "start_time": "2025-02-20T15:58:25.926Z"
   },
   {
    "duration": 6,
    "start_time": "2025-02-20T15:58:26.117Z"
   },
   {
    "duration": 196,
    "start_time": "2025-02-20T15:58:26.302Z"
   },
   {
    "duration": 102,
    "start_time": "2025-02-20T15:58:27.604Z"
   },
   {
    "duration": 76,
    "start_time": "2025-02-20T15:58:27.790Z"
   },
   {
    "duration": 68,
    "start_time": "2025-02-20T15:58:28.002Z"
   },
   {
    "duration": 7,
    "start_time": "2025-02-20T15:58:28.193Z"
   },
   {
    "duration": 7,
    "start_time": "2025-02-20T15:58:28.387Z"
   },
   {
    "duration": 11,
    "start_time": "2025-02-20T15:58:28.607Z"
   },
   {
    "duration": 19,
    "start_time": "2025-02-20T15:58:29.425Z"
   },
   {
    "duration": 177,
    "start_time": "2025-02-20T15:58:30.195Z"
   },
   {
    "duration": 4,
    "start_time": "2025-02-20T15:58:31.515Z"
   },
   {
    "duration": 97,
    "start_time": "2025-02-20T15:58:32.175Z"
   },
   {
    "duration": 3,
    "start_time": "2025-02-20T15:58:32.745Z"
   },
   {
    "duration": 123,
    "start_time": "2025-02-20T15:58:33.120Z"
   },
   {
    "duration": 16,
    "start_time": "2025-02-20T15:58:33.298Z"
   },
   {
    "duration": 23,
    "start_time": "2025-02-20T15:58:33.483Z"
   },
   {
    "duration": 59,
    "start_time": "2025-02-20T15:58:33.677Z"
   },
   {
    "duration": 4,
    "start_time": "2025-02-20T15:58:33.874Z"
   },
   {
    "duration": 190,
    "start_time": "2025-02-20T15:58:34.053Z"
   },
   {
    "duration": 107,
    "start_time": "2025-02-20T15:58:34.437Z"
   },
   {
    "duration": 84,
    "start_time": "2025-02-20T15:58:34.670Z"
   },
   {
    "duration": 25,
    "start_time": "2025-02-20T15:58:34.876Z"
   },
   {
    "duration": 4,
    "start_time": "2025-02-20T15:58:35.654Z"
   },
   {
    "duration": 203,
    "start_time": "2025-02-20T15:58:36.016Z"
   },
   {
    "duration": 32,
    "start_time": "2025-02-20T15:58:39.310Z"
   },
   {
    "duration": 4,
    "start_time": "2025-02-20T15:58:39.944Z"
   },
   {
    "duration": 23,
    "start_time": "2025-02-20T15:58:40.525Z"
   },
   {
    "duration": 5,
    "start_time": "2025-02-20T15:58:41.090Z"
   },
   {
    "duration": 7,
    "start_time": "2025-02-20T15:58:41.602Z"
   },
   {
    "duration": 5,
    "start_time": "2025-02-20T15:58:41.790Z"
   },
   {
    "duration": 15,
    "start_time": "2025-02-20T15:58:42.354Z"
   },
   {
    "duration": 14,
    "start_time": "2025-02-20T15:58:42.565Z"
   },
   {
    "duration": 6,
    "start_time": "2025-02-20T15:58:42.751Z"
   },
   {
    "duration": 30,
    "start_time": "2025-02-20T15:58:43.330Z"
   },
   {
    "duration": 23,
    "start_time": "2025-02-20T15:58:43.528Z"
   },
   {
    "duration": 6,
    "start_time": "2025-02-20T15:58:43.742Z"
   },
   {
    "duration": 110,
    "start_time": "2025-02-20T15:58:45.471Z"
   },
   {
    "duration": 35,
    "start_time": "2025-02-20T15:58:47.441Z"
   },
   {
    "duration": 326,
    "start_time": "2025-02-20T15:58:48.098Z"
   },
   {
    "duration": 325,
    "start_time": "2025-02-20T15:58:48.526Z"
   },
   {
    "duration": 16,
    "start_time": "2025-02-20T15:58:48.853Z"
   },
   {
    "duration": 79,
    "start_time": "2025-02-20T15:58:48.990Z"
   },
   {
    "duration": 476,
    "start_time": "2025-02-20T15:58:49.208Z"
   },
   {
    "duration": 8,
    "start_time": "2025-02-20T15:58:50.219Z"
   },
   {
    "duration": 16,
    "start_time": "2025-02-20T15:58:50.983Z"
   },
   {
    "duration": 29,
    "start_time": "2025-02-20T15:58:51.572Z"
   },
   {
    "duration": 86,
    "start_time": "2025-02-23T07:49:08.776Z"
   },
   {
    "duration": 1435,
    "start_time": "2025-02-23T07:49:27.458Z"
   },
   {
    "duration": 3466,
    "start_time": "2025-02-23T07:49:28.895Z"
   },
   {
    "duration": 75,
    "start_time": "2025-02-23T07:49:36.522Z"
   },
   {
    "duration": 2068,
    "start_time": "2025-02-23T07:49:37.598Z"
   },
   {
    "duration": 133,
    "start_time": "2025-02-23T07:53:30.118Z"
   },
   {
    "duration": 99,
    "start_time": "2025-02-23T07:53:33.486Z"
   },
   {
    "duration": 97,
    "start_time": "2025-02-23T07:53:35.205Z"
   },
   {
    "duration": 177,
    "start_time": "2025-02-23T07:53:42.063Z"
   },
   {
    "duration": 17,
    "start_time": "2025-02-23T07:53:43.004Z"
   },
   {
    "duration": 13,
    "start_time": "2025-02-23T07:53:44.935Z"
   },
   {
    "duration": 48,
    "start_time": "2025-02-23T07:53:45.902Z"
   },
   {
    "duration": 38,
    "start_time": "2025-02-23T07:53:47.831Z"
   },
   {
    "duration": 21,
    "start_time": "2025-02-23T07:53:49.281Z"
   },
   {
    "duration": 13,
    "start_time": "2025-02-23T07:53:50.754Z"
   },
   {
    "duration": 28,
    "start_time": "2025-02-23T07:53:51.501Z"
   },
   {
    "duration": 26,
    "start_time": "2025-02-23T07:53:53.195Z"
   },
   {
    "duration": 30,
    "start_time": "2025-02-23T07:53:54.088Z"
   },
   {
    "duration": 21,
    "start_time": "2025-02-23T07:53:55.788Z"
   },
   {
    "duration": 7,
    "start_time": "2025-02-23T07:53:57.299Z"
   },
   {
    "duration": 21,
    "start_time": "2025-02-23T07:53:58.192Z"
   },
   {
    "duration": 10,
    "start_time": "2025-02-23T07:54:00.203Z"
   },
   {
    "duration": 11,
    "start_time": "2025-02-23T07:54:01.962Z"
   },
   {
    "duration": 14,
    "start_time": "2025-02-23T07:54:02.854Z"
   },
   {
    "duration": 14,
    "start_time": "2025-02-23T07:54:08.797Z"
   },
   {
    "duration": 12,
    "start_time": "2025-02-23T07:54:33.397Z"
   },
   {
    "duration": 6,
    "start_time": "2025-02-23T07:54:34.226Z"
   },
   {
    "duration": 4,
    "start_time": "2025-02-23T07:54:35.098Z"
   },
   {
    "duration": 47,
    "start_time": "2025-02-23T07:54:35.847Z"
   },
   {
    "duration": 4,
    "start_time": "2025-02-23T07:54:36.579Z"
   },
   {
    "duration": 9,
    "start_time": "2025-02-23T07:54:37.634Z"
   },
   {
    "duration": 8,
    "start_time": "2025-02-23T07:54:38.502Z"
   },
   {
    "duration": 7,
    "start_time": "2025-02-23T07:54:39.400Z"
   },
   {
    "duration": 4,
    "start_time": "2025-02-23T07:54:40.128Z"
   },
   {
    "duration": 3,
    "start_time": "2025-02-23T07:54:40.894Z"
   },
   {
    "duration": 198,
    "start_time": "2025-02-23T07:54:41.956Z"
   },
   {
    "duration": 102,
    "start_time": "2025-02-23T07:54:46.023Z"
   },
   {
    "duration": 74,
    "start_time": "2025-02-23T07:54:47.917Z"
   },
   {
    "duration": 71,
    "start_time": "2025-02-23T07:54:50.815Z"
   },
   {
    "duration": 8,
    "start_time": "2025-02-23T07:54:51.672Z"
   },
   {
    "duration": 7,
    "start_time": "2025-02-23T07:54:52.503Z"
   },
   {
    "duration": 10,
    "start_time": "2025-02-23T07:54:53.375Z"
   },
   {
    "duration": 17,
    "start_time": "2025-02-23T07:54:54.327Z"
   },
   {
    "duration": 164,
    "start_time": "2025-02-23T07:54:58.470Z"
   },
   {
    "duration": 4,
    "start_time": "2025-02-23T07:55:26.131Z"
   },
   {
    "duration": 90,
    "start_time": "2025-02-23T07:55:27.127Z"
   },
   {
    "duration": 3,
    "start_time": "2025-02-23T07:55:27.955Z"
   },
   {
    "duration": 124,
    "start_time": "2025-02-23T07:55:28.929Z"
   },
   {
    "duration": 16,
    "start_time": "2025-02-23T07:55:30.218Z"
   },
   {
    "duration": 21,
    "start_time": "2025-02-23T07:55:31.410Z"
   },
   {
    "duration": 54,
    "start_time": "2025-02-23T07:55:32.872Z"
   },
   {
    "duration": 3,
    "start_time": "2025-02-23T07:55:33.778Z"
   },
   {
    "duration": 173,
    "start_time": "2025-02-23T07:55:42.982Z"
   },
   {
    "duration": 98,
    "start_time": "2025-02-23T07:55:59.805Z"
   },
   {
    "duration": 80,
    "start_time": "2025-02-23T07:56:02.701Z"
   },
   {
    "duration": 79,
    "start_time": "2025-02-23T07:56:40.636Z"
   },
   {
    "duration": 24,
    "start_time": "2025-02-23T07:56:41.713Z"
   },
   {
    "duration": 4,
    "start_time": "2025-02-23T07:56:43.700Z"
   },
   {
    "duration": 156,
    "start_time": "2025-02-23T07:57:13.752Z"
   },
   {
    "duration": 145,
    "start_time": "2025-02-23T07:57:32.561Z"
   },
   {
    "duration": 69,
    "start_time": "2025-02-23T07:57:33.610Z"
   },
   {
    "duration": 4,
    "start_time": "2025-02-23T07:57:34.658Z"
   },
   {
    "duration": 189,
    "start_time": "2025-02-23T07:57:36.762Z"
   },
   {
    "duration": 673,
    "start_time": "2025-02-23T08:02:05.732Z"
   },
   {
    "duration": 49,
    "start_time": "2025-02-23T08:05:08.460Z"
   },
   {
    "duration": 682,
    "start_time": "2025-02-23T08:05:11.267Z"
   },
   {
    "duration": 42,
    "start_time": "2025-02-23T08:05:28.828Z"
   },
   {
    "duration": 612,
    "start_time": "2025-02-23T08:05:29.670Z"
   },
   {
    "duration": 40,
    "start_time": "2025-02-23T08:05:49.226Z"
   },
   {
    "duration": 749,
    "start_time": "2025-02-23T08:05:52.470Z"
   },
   {
    "duration": 8,
    "start_time": "2025-02-23T08:06:19.282Z"
   },
   {
    "duration": 41,
    "start_time": "2025-02-23T08:06:48.960Z"
   },
   {
    "duration": 53,
    "start_time": "2025-02-23T08:06:55.855Z"
   },
   {
    "duration": 63,
    "start_time": "2025-02-23T08:07:00.329Z"
   },
   {
    "duration": 167,
    "start_time": "2025-02-23T08:09:31.028Z"
   },
   {
    "duration": 161,
    "start_time": "2025-02-23T08:09:33.352Z"
   },
   {
    "duration": 85,
    "start_time": "2025-02-23T08:09:39.943Z"
   },
   {
    "duration": 4,
    "start_time": "2025-02-23T08:09:41.252Z"
   },
   {
    "duration": 186,
    "start_time": "2025-02-23T08:09:42.859Z"
   },
   {
    "duration": 168,
    "start_time": "2025-02-23T08:10:57.351Z"
   },
   {
    "duration": 52,
    "start_time": "2025-02-24T07:43:09.511Z"
   },
   {
    "duration": 1393,
    "start_time": "2025-02-24T07:43:56.041Z"
   },
   {
    "duration": 3580,
    "start_time": "2025-02-24T07:44:00.591Z"
   },
   {
    "duration": 52,
    "start_time": "2025-02-24T07:44:04.726Z"
   },
   {
    "duration": 2381,
    "start_time": "2025-02-24T07:44:05.531Z"
   },
   {
    "duration": 128,
    "start_time": "2025-02-24T07:44:10.398Z"
   },
   {
    "duration": 94,
    "start_time": "2025-02-24T07:44:12.134Z"
   },
   {
    "duration": 98,
    "start_time": "2025-02-24T07:44:13.305Z"
   },
   {
    "duration": 163,
    "start_time": "2025-02-24T07:44:15.056Z"
   },
   {
    "duration": 16,
    "start_time": "2025-02-24T07:44:15.661Z"
   },
   {
    "duration": 12,
    "start_time": "2025-02-24T07:44:16.873Z"
   },
   {
    "duration": 46,
    "start_time": "2025-02-24T07:44:17.464Z"
   },
   {
    "duration": 37,
    "start_time": "2025-02-24T07:44:18.596Z"
   },
   {
    "duration": 21,
    "start_time": "2025-02-24T07:44:19.825Z"
   },
   {
    "duration": 12,
    "start_time": "2025-02-24T07:44:20.885Z"
   },
   {
    "duration": 24,
    "start_time": "2025-02-24T07:44:21.366Z"
   },
   {
    "duration": 26,
    "start_time": "2025-02-24T07:44:22.519Z"
   },
   {
    "duration": 30,
    "start_time": "2025-02-24T07:44:23.099Z"
   },
   {
    "duration": 20,
    "start_time": "2025-02-24T07:44:24.121Z"
   },
   {
    "duration": 49,
    "start_time": "2025-02-24T07:44:25.915Z"
   },
   {
    "duration": 55,
    "start_time": "2025-02-24T07:44:25.966Z"
   },
   {
    "duration": 64,
    "start_time": "2025-02-24T07:44:27.512Z"
   },
   {
    "duration": 20,
    "start_time": "2025-02-24T07:44:28.187Z"
   },
   {
    "duration": 10,
    "start_time": "2025-02-24T07:44:29.975Z"
   },
   {
    "duration": 17,
    "start_time": "2025-02-24T07:44:31.230Z"
   },
   {
    "duration": 15,
    "start_time": "2025-02-24T07:44:31.855Z"
   },
   {
    "duration": 13,
    "start_time": "2025-02-24T07:44:33.713Z"
   },
   {
    "duration": 11,
    "start_time": "2025-02-24T07:44:46.557Z"
   },
   {
    "duration": 6,
    "start_time": "2025-02-24T07:44:47.262Z"
   },
   {
    "duration": 6,
    "start_time": "2025-02-24T07:44:47.901Z"
   },
   {
    "duration": 48,
    "start_time": "2025-02-24T07:44:48.511Z"
   },
   {
    "duration": 4,
    "start_time": "2025-02-24T07:44:49.197Z"
   },
   {
    "duration": 9,
    "start_time": "2025-02-24T07:44:49.808Z"
   },
   {
    "duration": 8,
    "start_time": "2025-02-24T07:44:50.522Z"
   },
   {
    "duration": 8,
    "start_time": "2025-02-24T07:44:51.245Z"
   },
   {
    "duration": 4,
    "start_time": "2025-02-24T07:44:51.901Z"
   },
   {
    "duration": 3,
    "start_time": "2025-02-24T07:44:52.544Z"
   },
   {
    "duration": 207,
    "start_time": "2025-02-24T07:44:53.169Z"
   },
   {
    "duration": 96,
    "start_time": "2025-02-24T07:44:55.806Z"
   },
   {
    "duration": 70,
    "start_time": "2025-02-24T07:44:56.433Z"
   },
   {
    "duration": 67,
    "start_time": "2025-02-24T07:44:57.611Z"
   },
   {
    "duration": 6,
    "start_time": "2025-02-24T07:44:58.194Z"
   },
   {
    "duration": 6,
    "start_time": "2025-02-24T07:44:58.852Z"
   },
   {
    "duration": 9,
    "start_time": "2025-02-24T07:44:59.386Z"
   },
   {
    "duration": 19,
    "start_time": "2025-02-24T07:45:00.026Z"
   },
   {
    "duration": 166,
    "start_time": "2025-02-24T07:45:00.713Z"
   },
   {
    "duration": 3,
    "start_time": "2025-02-24T07:45:02.671Z"
   },
   {
    "duration": 92,
    "start_time": "2025-02-24T07:45:03.297Z"
   },
   {
    "duration": 3,
    "start_time": "2025-02-24T07:45:03.926Z"
   },
   {
    "duration": 110,
    "start_time": "2025-02-24T07:45:04.564Z"
   },
   {
    "duration": 15,
    "start_time": "2025-02-24T07:45:05.174Z"
   },
   {
    "duration": 20,
    "start_time": "2025-02-24T07:45:05.815Z"
   },
   {
    "duration": 53,
    "start_time": "2025-02-24T07:45:06.461Z"
   },
   {
    "duration": 4,
    "start_time": "2025-02-24T07:45:07.054Z"
   },
   {
    "duration": 168,
    "start_time": "2025-02-24T07:45:07.679Z"
   },
   {
    "duration": 160,
    "start_time": "2025-02-24T07:45:09.456Z"
   },
   {
    "duration": 158,
    "start_time": "2025-02-24T07:45:10.132Z"
   },
   {
    "duration": 78,
    "start_time": "2025-02-24T07:45:10.731Z"
   },
   {
    "duration": 3,
    "start_time": "2025-02-24T07:45:11.392Z"
   },
   {
    "duration": 179,
    "start_time": "2025-02-24T07:45:12.064Z"
   },
   {
    "duration": 28,
    "start_time": "2025-02-24T07:45:16.363Z"
   },
   {
    "duration": 3,
    "start_time": "2025-02-24T07:45:17.006Z"
   },
   {
    "duration": 20,
    "start_time": "2025-02-24T07:45:17.677Z"
   },
   {
    "duration": 4,
    "start_time": "2025-02-24T07:45:18.226Z"
   },
   {
    "duration": 6,
    "start_time": "2025-02-24T07:45:18.743Z"
   },
   {
    "duration": 3,
    "start_time": "2025-02-24T07:45:19.196Z"
   },
   {
    "duration": 14,
    "start_time": "2025-02-24T07:45:20.974Z"
   },
   {
    "duration": 12,
    "start_time": "2025-02-24T07:45:21.472Z"
   },
   {
    "duration": 5,
    "start_time": "2025-02-24T07:45:21.990Z"
   },
   {
    "duration": 27,
    "start_time": "2025-02-24T07:45:23.593Z"
   },
   {
    "duration": 20,
    "start_time": "2025-02-24T07:45:24.094Z"
   },
   {
    "duration": 6,
    "start_time": "2025-02-24T07:45:24.580Z"
   },
   {
    "duration": 100,
    "start_time": "2025-02-24T07:45:27.456Z"
   },
   {
    "duration": 27,
    "start_time": "2025-02-24T07:45:29.315Z"
   },
   {
    "duration": 281,
    "start_time": "2025-02-24T07:45:29.945Z"
   },
   {
    "duration": 265,
    "start_time": "2025-02-24T07:45:30.412Z"
   },
   {
    "duration": 12,
    "start_time": "2025-02-24T07:45:30.846Z"
   },
   {
    "duration": 71,
    "start_time": "2025-02-24T07:45:31.396Z"
   },
   {
    "duration": 446,
    "start_time": "2025-02-24T07:45:32.004Z"
   },
   {
    "duration": 8,
    "start_time": "2025-02-24T07:45:32.615Z"
   },
   {
    "duration": 15,
    "start_time": "2025-02-24T07:45:33.120Z"
   },
   {
    "duration": 27,
    "start_time": "2025-02-24T07:45:33.668Z"
   },
   {
    "duration": 1708,
    "start_time": "2025-02-24T07:50:22.939Z"
   },
   {
    "duration": 64,
    "start_time": "2025-02-24T07:50:53.445Z"
   },
   {
    "duration": 14,
    "start_time": "2025-02-24T07:51:04.834Z"
   },
   {
    "duration": 8,
    "start_time": "2025-02-24T07:51:26.454Z"
   },
   {
    "duration": 4,
    "start_time": "2025-02-24T07:51:45.614Z"
   },
   {
    "duration": 1390,
    "start_time": "2025-02-24T07:53:33.609Z"
   },
   {
    "duration": 19,
    "start_time": "2025-02-24T07:57:54.893Z"
   },
   {
    "duration": 49,
    "start_time": "2025-02-24T07:58:14.802Z"
   },
   {
    "duration": 16,
    "start_time": "2025-02-24T08:06:44.540Z"
   },
   {
    "duration": 33,
    "start_time": "2025-02-24T08:06:46.944Z"
   },
   {
    "duration": 1241,
    "start_time": "2025-02-24T08:08:52.507Z"
   },
   {
    "duration": 1303,
    "start_time": "2025-02-24T08:09:05.098Z"
   },
   {
    "duration": 5,
    "start_time": "2025-02-24T08:09:34.121Z"
   },
   {
    "duration": 27,
    "start_time": "2025-02-24T08:26:16.728Z"
   },
   {
    "duration": 4,
    "start_time": "2025-02-24T08:26:33.777Z"
   },
   {
    "duration": 4,
    "start_time": "2025-02-24T08:26:34.588Z"
   },
   {
    "duration": 4,
    "start_time": "2025-02-24T08:26:35.455Z"
   },
   {
    "duration": 24,
    "start_time": "2025-02-24T08:26:36.607Z"
   },
   {
    "duration": 23,
    "start_time": "2025-02-24T08:32:26.938Z"
   },
   {
    "duration": 9,
    "start_time": "2025-02-24T08:35:43.161Z"
   },
   {
    "duration": 9,
    "start_time": "2025-02-24T08:38:14.212Z"
   },
   {
    "duration": 9,
    "start_time": "2025-02-24T08:39:11.607Z"
   },
   {
    "duration": 8,
    "start_time": "2025-02-24T08:39:22.525Z"
   },
   {
    "duration": 32,
    "start_time": "2025-02-24T08:39:34.314Z"
   },
   {
    "duration": 4,
    "start_time": "2025-02-24T08:41:34.488Z"
   },
   {
    "duration": 9,
    "start_time": "2025-02-24T08:41:36.917Z"
   },
   {
    "duration": 30,
    "start_time": "2025-02-24T08:41:38.294Z"
   },
   {
    "duration": 5,
    "start_time": "2025-02-24T08:42:11.485Z"
   },
   {
    "duration": 25,
    "start_time": "2025-02-24T08:42:12.184Z"
   },
   {
    "duration": 5,
    "start_time": "2025-02-24T08:42:26.751Z"
   },
   {
    "duration": 25,
    "start_time": "2025-02-24T08:42:29.679Z"
   },
   {
    "duration": 7,
    "start_time": "2025-02-24T08:42:33.402Z"
   },
   {
    "duration": 36,
    "start_time": "2025-02-24T08:42:34.242Z"
   },
   {
    "duration": 10,
    "start_time": "2025-02-24T08:44:21.479Z"
   },
   {
    "duration": 5,
    "start_time": "2025-02-24T08:47:14.436Z"
   },
   {
    "duration": 25,
    "start_time": "2025-02-24T08:47:23.255Z"
   },
   {
    "duration": 25,
    "start_time": "2025-02-24T08:47:28.062Z"
   },
   {
    "duration": 5,
    "start_time": "2025-02-24T08:47:41.163Z"
   },
   {
    "duration": 24,
    "start_time": "2025-02-24T08:47:42.443Z"
   },
   {
    "duration": 4,
    "start_time": "2025-02-24T08:47:47.329Z"
   },
   {
    "duration": 24,
    "start_time": "2025-02-24T08:47:48.433Z"
   },
   {
    "duration": 9,
    "start_time": "2025-02-24T08:48:16.018Z"
   },
   {
    "duration": 30,
    "start_time": "2025-02-24T08:48:16.748Z"
   },
   {
    "duration": 11,
    "start_time": "2025-02-24T08:48:31.141Z"
   },
   {
    "duration": 5,
    "start_time": "2025-02-24T08:49:23.276Z"
   },
   {
    "duration": 5,
    "start_time": "2025-02-24T08:50:27.881Z"
   },
   {
    "duration": 25,
    "start_time": "2025-02-24T08:50:30.567Z"
   },
   {
    "duration": 6,
    "start_time": "2025-02-24T08:50:57.613Z"
   },
   {
    "duration": 23,
    "start_time": "2025-02-24T08:50:58.446Z"
   },
   {
    "duration": 11,
    "start_time": "2025-02-24T08:51:01.904Z"
   },
   {
    "duration": 36,
    "start_time": "2025-02-24T08:51:02.802Z"
   },
   {
    "duration": 5,
    "start_time": "2025-02-24T08:52:46.381Z"
   },
   {
    "duration": 24,
    "start_time": "2025-02-24T08:52:47.245Z"
   },
   {
    "duration": 7,
    "start_time": "2025-02-24T08:52:48.146Z"
   },
   {
    "duration": 45,
    "start_time": "2025-02-24T08:52:49.011Z"
   },
   {
    "duration": 8,
    "start_time": "2025-02-24T08:52:55.648Z"
   },
   {
    "duration": 142,
    "start_time": "2025-02-24T08:54:15.642Z"
   },
   {
    "duration": 326,
    "start_time": "2025-02-24T09:11:03.589Z"
   },
   {
    "duration": 5,
    "start_time": "2025-02-24T09:11:53.638Z"
   },
   {
    "duration": 28,
    "start_time": "2025-02-24T09:12:23.972Z"
   },
   {
    "duration": 24,
    "start_time": "2025-02-24T09:12:33.551Z"
   },
   {
    "duration": 6,
    "start_time": "2025-02-24T09:16:12.691Z"
   },
   {
    "duration": 6,
    "start_time": "2025-02-24T09:16:45.732Z"
   },
   {
    "duration": 4,
    "start_time": "2025-02-24T09:19:49.793Z"
   },
   {
    "duration": 4,
    "start_time": "2025-02-24T09:19:51.199Z"
   },
   {
    "duration": 3,
    "start_time": "2025-02-24T09:20:20.752Z"
   },
   {
    "duration": 3,
    "start_time": "2025-02-24T09:21:56.110Z"
   },
   {
    "duration": 4,
    "start_time": "2025-02-24T09:22:10.556Z"
   },
   {
    "duration": 4,
    "start_time": "2025-02-24T09:22:19.687Z"
   },
   {
    "duration": 5,
    "start_time": "2025-02-24T09:27:36.326Z"
   },
   {
    "duration": 7,
    "start_time": "2025-02-24T11:33:59.429Z"
   },
   {
    "duration": 129,
    "start_time": "2025-02-24T11:34:04.636Z"
   },
   {
    "duration": 5,
    "start_time": "2025-02-24T11:34:20.278Z"
   },
   {
    "duration": 27,
    "start_time": "2025-02-24T11:34:24.790Z"
   },
   {
    "duration": 5,
    "start_time": "2025-02-24T11:34:43.882Z"
   },
   {
    "duration": 5,
    "start_time": "2025-02-24T11:34:44.582Z"
   },
   {
    "duration": 3,
    "start_time": "2025-02-24T11:34:45.362Z"
   },
   {
    "duration": 3,
    "start_time": "2025-02-24T11:34:46.185Z"
   },
   {
    "duration": 4,
    "start_time": "2025-02-24T11:34:47.290Z"
   },
   {
    "duration": 4,
    "start_time": "2025-02-24T11:34:48.160Z"
   },
   {
    "duration": 10,
    "start_time": "2025-02-24T11:35:45.445Z"
   },
   {
    "duration": 5,
    "start_time": "2025-02-24T11:35:54.432Z"
   },
   {
    "duration": 36,
    "start_time": "2025-02-24T11:35:57.234Z"
   },
   {
    "duration": 5,
    "start_time": "2025-02-24T11:38:49.170Z"
   },
   {
    "duration": 28,
    "start_time": "2025-02-24T11:38:50.426Z"
   },
   {
    "duration": 5,
    "start_time": "2025-02-24T11:39:24.396Z"
   },
   {
    "duration": 35,
    "start_time": "2025-02-24T11:39:25.337Z"
   },
   {
    "duration": 4,
    "start_time": "2025-02-24T11:39:33.556Z"
   },
   {
    "duration": 25,
    "start_time": "2025-02-24T11:39:35.456Z"
   },
   {
    "duration": 115,
    "start_time": "2025-02-24T11:44:34.155Z"
   },
   {
    "duration": 8,
    "start_time": "2025-02-24T11:46:26.844Z"
   },
   {
    "duration": 4,
    "start_time": "2025-02-24T11:55:39.403Z"
   },
   {
    "duration": 5,
    "start_time": "2025-02-24T11:56:06.487Z"
   },
   {
    "duration": 6,
    "start_time": "2025-02-24T11:56:39.663Z"
   },
   {
    "duration": 4,
    "start_time": "2025-02-24T11:58:31.843Z"
   },
   {
    "duration": 74,
    "start_time": "2025-02-24T12:00:02.700Z"
   },
   {
    "duration": 4,
    "start_time": "2025-02-24T12:01:37.416Z"
   },
   {
    "duration": 10,
    "start_time": "2025-02-24T12:01:49.144Z"
   },
   {
    "duration": 127,
    "start_time": "2025-02-24T12:01:57.246Z"
   },
   {
    "duration": 3,
    "start_time": "2025-02-24T12:03:34.005Z"
   },
   {
    "duration": 4,
    "start_time": "2025-02-24T12:03:34.722Z"
   },
   {
    "duration": 4,
    "start_time": "2025-02-24T12:03:35.445Z"
   },
   {
    "duration": 134,
    "start_time": "2025-02-24T12:03:39.509Z"
   },
   {
    "duration": 145,
    "start_time": "2025-02-24T12:04:12.041Z"
   },
   {
    "duration": 5,
    "start_time": "2025-02-24T12:16:03.157Z"
   },
   {
    "duration": 34,
    "start_time": "2025-02-24T12:16:04.121Z"
   },
   {
    "duration": 75,
    "start_time": "2025-02-24T12:17:19.230Z"
   },
   {
    "duration": 8,
    "start_time": "2025-02-24T12:17:26.524Z"
   },
   {
    "duration": 121,
    "start_time": "2025-02-24T12:18:49.775Z"
   },
   {
    "duration": 4,
    "start_time": "2025-02-24T12:19:45.873Z"
   },
   {
    "duration": 4,
    "start_time": "2025-02-24T12:19:59.800Z"
   },
   {
    "duration": 2,
    "start_time": "2025-02-24T12:20:15.558Z"
   },
   {
    "duration": 3,
    "start_time": "2025-02-24T12:20:29.494Z"
   },
   {
    "duration": 4,
    "start_time": "2025-02-24T12:20:49.112Z"
   },
   {
    "duration": 4,
    "start_time": "2025-02-24T12:20:49.751Z"
   },
   {
    "duration": 3,
    "start_time": "2025-02-24T12:20:50.406Z"
   },
   {
    "duration": 4,
    "start_time": "2025-02-24T12:20:51.094Z"
   },
   {
    "duration": 83,
    "start_time": "2025-02-24T12:21:01.732Z"
   },
   {
    "duration": 4,
    "start_time": "2025-02-24T12:21:10.571Z"
   },
   {
    "duration": 4,
    "start_time": "2025-02-24T12:21:18.991Z"
   },
   {
    "duration": 4,
    "start_time": "2025-02-24T12:21:35.984Z"
   },
   {
    "duration": 5,
    "start_time": "2025-02-24T12:21:36.719Z"
   },
   {
    "duration": 3,
    "start_time": "2025-02-24T12:21:37.386Z"
   },
   {
    "duration": 4,
    "start_time": "2025-02-24T12:21:38.016Z"
   },
   {
    "duration": 6,
    "start_time": "2025-02-24T12:22:22.038Z"
   },
   {
    "duration": 2,
    "start_time": "2025-02-24T12:23:06.418Z"
   },
   {
    "duration": 3,
    "start_time": "2025-02-24T12:24:22.808Z"
   },
   {
    "duration": 9,
    "start_time": "2025-02-24T12:25:52.056Z"
   },
   {
    "duration": 4,
    "start_time": "2025-02-24T12:29:39.334Z"
   },
   {
    "duration": 13,
    "start_time": "2025-02-24T12:29:51.342Z"
   },
   {
    "duration": 24,
    "start_time": "2025-02-24T12:30:06.515Z"
   },
   {
    "duration": 6,
    "start_time": "2025-02-24T12:32:09.160Z"
   },
   {
    "duration": 4,
    "start_time": "2025-02-24T12:33:27.593Z"
   },
   {
    "duration": 4,
    "start_time": "2025-02-24T12:34:12.542Z"
   },
   {
    "duration": 88,
    "start_time": "2025-02-24T12:34:20.771Z"
   },
   {
    "duration": 4,
    "start_time": "2025-02-24T12:34:27.838Z"
   },
   {
    "duration": 14,
    "start_time": "2025-02-24T12:34:28.701Z"
   },
   {
    "duration": 4,
    "start_time": "2025-02-24T12:35:04.450Z"
   },
   {
    "duration": 6,
    "start_time": "2025-02-24T12:35:22.139Z"
   },
   {
    "duration": 4,
    "start_time": "2025-02-24T12:36:05.380Z"
   },
   {
    "duration": 20,
    "start_time": "2025-02-24T12:36:06.067Z"
   },
   {
    "duration": 24,
    "start_time": "2025-02-24T12:36:30.597Z"
   },
   {
    "duration": 4,
    "start_time": "2025-02-24T12:37:24.860Z"
   },
   {
    "duration": 7,
    "start_time": "2025-02-24T12:39:08.114Z"
   },
   {
    "duration": 4,
    "start_time": "2025-02-24T12:39:55.197Z"
   },
   {
    "duration": 1433,
    "start_time": "2025-02-24T12:40:13.466Z"
   },
   {
    "duration": 1320,
    "start_time": "2025-02-24T12:40:25.687Z"
   },
   {
    "duration": 4,
    "start_time": "2025-02-24T12:40:49.531Z"
   },
   {
    "duration": 5,
    "start_time": "2025-02-24T12:40:57.234Z"
   },
   {
    "duration": 1487,
    "start_time": "2025-02-24T12:41:13.029Z"
   },
   {
    "duration": 9,
    "start_time": "2025-02-24T12:43:00.266Z"
   },
   {
    "duration": 4,
    "start_time": "2025-02-24T12:43:20.006Z"
   },
   {
    "duration": 9,
    "start_time": "2025-02-24T12:43:31.400Z"
   },
   {
    "duration": 93,
    "start_time": "2025-02-24T12:45:08.282Z"
   },
   {
    "duration": 8,
    "start_time": "2025-02-24T12:46:50.482Z"
   },
   {
    "duration": 4,
    "start_time": "2025-02-24T12:47:35.160Z"
   },
   {
    "duration": 5,
    "start_time": "2025-02-24T12:47:36.294Z"
   },
   {
    "duration": 3,
    "start_time": "2025-02-24T12:47:38.248Z"
   },
   {
    "duration": 3,
    "start_time": "2025-02-24T12:47:39.581Z"
   },
   {
    "duration": 4,
    "start_time": "2025-02-24T12:48:27.225Z"
   },
   {
    "duration": 5,
    "start_time": "2025-02-24T12:48:29.645Z"
   },
   {
    "duration": 6,
    "start_time": "2025-02-24T12:49:10.207Z"
   },
   {
    "duration": 4,
    "start_time": "2025-02-24T12:49:33.543Z"
   },
   {
    "duration": 3,
    "start_time": "2025-02-24T12:50:53.116Z"
   },
   {
    "duration": 3,
    "start_time": "2025-02-24T12:51:04.462Z"
   },
   {
    "duration": 4,
    "start_time": "2025-02-24T12:51:05.182Z"
   },
   {
    "duration": 11,
    "start_time": "2025-02-24T12:51:28.627Z"
   },
   {
    "duration": 4,
    "start_time": "2025-02-24T12:51:50.349Z"
   },
   {
    "duration": 4,
    "start_time": "2025-02-24T12:52:04.572Z"
   },
   {
    "duration": 3,
    "start_time": "2025-02-24T12:52:05.260Z"
   },
   {
    "duration": 4,
    "start_time": "2025-02-24T12:52:05.903Z"
   },
   {
    "duration": 3,
    "start_time": "2025-02-24T12:52:40.194Z"
   },
   {
    "duration": 5,
    "start_time": "2025-02-24T12:52:41.791Z"
   },
   {
    "duration": 2,
    "start_time": "2025-02-24T12:53:33.550Z"
   },
   {
    "duration": 3,
    "start_time": "2025-02-24T12:53:36.622Z"
   },
   {
    "duration": 6,
    "start_time": "2025-02-24T12:53:37.676Z"
   },
   {
    "duration": 4,
    "start_time": "2025-02-24T12:54:26.449Z"
   },
   {
    "duration": 3,
    "start_time": "2025-02-24T12:54:57.718Z"
   },
   {
    "duration": 5,
    "start_time": "2025-02-24T12:54:59.053Z"
   },
   {
    "duration": 5,
    "start_time": "2025-02-24T14:09:04.541Z"
   },
   {
    "duration": 4,
    "start_time": "2025-02-24T14:09:28.452Z"
   },
   {
    "duration": 4,
    "start_time": "2025-02-24T14:09:44.301Z"
   },
   {
    "duration": 10,
    "start_time": "2025-02-24T14:24:18.495Z"
   },
   {
    "duration": 4,
    "start_time": "2025-02-24T14:24:30.327Z"
   },
   {
    "duration": 15,
    "start_time": "2025-02-24T14:24:31.707Z"
   },
   {
    "duration": 7,
    "start_time": "2025-02-24T14:24:48.246Z"
   },
   {
    "duration": 28,
    "start_time": "2025-02-24T14:24:50.254Z"
   },
   {
    "duration": 1589,
    "start_time": "2025-02-24T14:24:58.826Z"
   },
   {
    "duration": 9,
    "start_time": "2025-02-24T14:25:28.766Z"
   },
   {
    "duration": 164,
    "start_time": "2025-02-24T14:25:36.040Z"
   },
   {
    "duration": 6,
    "start_time": "2025-02-24T14:25:44.785Z"
   },
   {
    "duration": 31,
    "start_time": "2025-02-24T14:25:45.884Z"
   },
   {
    "duration": 4,
    "start_time": "2025-02-24T14:25:52.898Z"
   },
   {
    "duration": 5,
    "start_time": "2025-02-24T14:25:58.227Z"
   },
   {
    "duration": 2,
    "start_time": "2025-02-24T14:25:59.115Z"
   },
   {
    "duration": 3,
    "start_time": "2025-02-24T14:25:59.925Z"
   },
   {
    "duration": 4,
    "start_time": "2025-02-24T14:26:02.200Z"
   },
   {
    "duration": 4,
    "start_time": "2025-02-24T14:26:02.883Z"
   },
   {
    "duration": 5,
    "start_time": "2025-02-24T14:26:09.735Z"
   },
   {
    "duration": 8,
    "start_time": "2025-02-24T14:26:10.486Z"
   },
   {
    "duration": 6,
    "start_time": "2025-02-24T14:26:15.088Z"
   },
   {
    "duration": 4,
    "start_time": "2025-02-24T14:26:15.841Z"
   },
   {
    "duration": 3,
    "start_time": "2025-02-24T14:26:18.291Z"
   },
   {
    "duration": 3,
    "start_time": "2025-02-24T14:26:19.622Z"
   },
   {
    "duration": 4,
    "start_time": "2025-02-24T14:26:20.832Z"
   },
   {
    "duration": 3,
    "start_time": "2025-02-24T14:26:23.141Z"
   },
   {
    "duration": 4,
    "start_time": "2025-02-24T14:26:25.808Z"
   },
   {
    "duration": 4,
    "start_time": "2025-02-24T14:26:36.559Z"
   },
   {
    "duration": 3,
    "start_time": "2025-02-24T14:26:38.184Z"
   },
   {
    "duration": 5,
    "start_time": "2025-02-24T14:26:42.188Z"
   },
   {
    "duration": 118,
    "start_time": "2025-02-24T14:26:52.777Z"
   },
   {
    "duration": 8,
    "start_time": "2025-02-24T14:27:21.813Z"
   },
   {
    "duration": 4,
    "start_time": "2025-02-24T14:27:25.486Z"
   },
   {
    "duration": 4,
    "start_time": "2025-02-24T14:27:30.689Z"
   },
   {
    "duration": 4,
    "start_time": "2025-02-24T14:27:35.963Z"
   },
   {
    "duration": 152,
    "start_time": "2025-02-24T14:27:39.430Z"
   },
   {
    "duration": 1416,
    "start_time": "2025-02-24T14:28:58.412Z"
   },
   {
    "duration": 5,
    "start_time": "2025-02-24T14:29:14.352Z"
   },
   {
    "duration": 5,
    "start_time": "2025-02-24T14:30:16.219Z"
   },
   {
    "duration": 26,
    "start_time": "2025-02-24T14:30:24.555Z"
   },
   {
    "duration": 3,
    "start_time": "2025-02-24T14:30:44.377Z"
   },
   {
    "duration": 24,
    "start_time": "2025-02-24T14:30:55.055Z"
   },
   {
    "duration": 8,
    "start_time": "2025-02-24T14:31:50.619Z"
   },
   {
    "duration": 27,
    "start_time": "2025-02-24T14:32:11.363Z"
   },
   {
    "duration": 8,
    "start_time": "2025-02-24T14:32:59.650Z"
   },
   {
    "duration": 5,
    "start_time": "2025-02-24T14:34:11.324Z"
   },
   {
    "duration": 5,
    "start_time": "2025-02-24T14:34:17.447Z"
   },
   {
    "duration": 4,
    "start_time": "2025-02-24T14:35:10.365Z"
   },
   {
    "duration": 8,
    "start_time": "2025-02-24T14:35:17.316Z"
   },
   {
    "duration": 118,
    "start_time": "2025-02-24T14:39:54.066Z"
   },
   {
    "duration": 143,
    "start_time": "2025-02-24T14:41:05.045Z"
   },
   {
    "duration": 156,
    "start_time": "2025-02-24T14:44:07.084Z"
   },
   {
    "duration": 139,
    "start_time": "2025-02-24T14:45:01.239Z"
   },
   {
    "duration": 143,
    "start_time": "2025-02-24T14:45:19.166Z"
   },
   {
    "duration": 125,
    "start_time": "2025-02-24T14:46:51.027Z"
   },
   {
    "duration": 122,
    "start_time": "2025-02-24T14:47:09.448Z"
   },
   {
    "duration": 149,
    "start_time": "2025-02-24T14:47:25.988Z"
   },
   {
    "duration": 167,
    "start_time": "2025-02-24T14:49:52.296Z"
   },
   {
    "duration": 253,
    "start_time": "2025-02-24T14:50:41.060Z"
   },
   {
    "duration": 125,
    "start_time": "2025-02-24T14:51:04.851Z"
   },
   {
    "duration": 141,
    "start_time": "2025-02-24T14:52:42.311Z"
   },
   {
    "duration": 123,
    "start_time": "2025-02-24T14:52:54.320Z"
   },
   {
    "duration": 149,
    "start_time": "2025-02-24T14:57:46.506Z"
   },
   {
    "duration": 3,
    "start_time": "2025-02-24T14:58:54.995Z"
   },
   {
    "duration": 4,
    "start_time": "2025-02-24T15:02:12.329Z"
   },
   {
    "duration": 297,
    "start_time": "2025-02-24T15:02:20.822Z"
   },
   {
    "duration": 8,
    "start_time": "2025-02-24T15:02:56.587Z"
   },
   {
    "duration": 147,
    "start_time": "2025-02-24T15:03:00.730Z"
   },
   {
    "duration": 124,
    "start_time": "2025-02-24T15:03:33.118Z"
   },
   {
    "duration": 144,
    "start_time": "2025-02-24T15:03:57.403Z"
   },
   {
    "duration": 8,
    "start_time": "2025-02-24T15:04:31.340Z"
   },
   {
    "duration": 179,
    "start_time": "2025-02-24T15:04:36.571Z"
   },
   {
    "duration": 176,
    "start_time": "2025-02-24T15:04:46.003Z"
   },
   {
    "duration": 147,
    "start_time": "2025-02-24T15:05:41.243Z"
   },
   {
    "duration": 144,
    "start_time": "2025-02-24T15:05:49.427Z"
   },
   {
    "duration": 136,
    "start_time": "2025-02-24T15:05:54.408Z"
   },
   {
    "duration": 3,
    "start_time": "2025-02-24T15:06:15.286Z"
   },
   {
    "duration": 150,
    "start_time": "2025-02-24T15:06:20.217Z"
   },
   {
    "duration": 128,
    "start_time": "2025-02-24T15:06:26.233Z"
   },
   {
    "duration": 6,
    "start_time": "2025-02-24T15:07:01.958Z"
   },
   {
    "duration": 256,
    "start_time": "2025-02-24T15:07:03.350Z"
   },
   {
    "duration": 125,
    "start_time": "2025-02-24T15:07:11.457Z"
   },
   {
    "duration": 145,
    "start_time": "2025-02-24T15:07:18.825Z"
   },
   {
    "duration": 143,
    "start_time": "2025-02-24T15:07:27.116Z"
   },
   {
    "duration": 3,
    "start_time": "2025-02-24T15:07:47.418Z"
   },
   {
    "duration": 140,
    "start_time": "2025-02-24T15:07:51.746Z"
   },
   {
    "duration": 126,
    "start_time": "2025-02-24T15:07:54.692Z"
   },
   {
    "duration": 5,
    "start_time": "2025-02-24T15:11:59.103Z"
   },
   {
    "duration": 4,
    "start_time": "2025-02-24T15:21:29.227Z"
   },
   {
    "duration": 4,
    "start_time": "2025-02-24T15:21:30.021Z"
   },
   {
    "duration": 3,
    "start_time": "2025-02-24T15:21:30.868Z"
   },
   {
    "duration": 3,
    "start_time": "2025-02-24T15:21:33.403Z"
   },
   {
    "duration": 4,
    "start_time": "2025-02-24T15:21:34.073Z"
   },
   {
    "duration": 4,
    "start_time": "2025-02-24T15:21:34.950Z"
   },
   {
    "duration": 358,
    "start_time": "2025-02-24T15:25:37.080Z"
   },
   {
    "duration": 11,
    "start_time": "2025-02-24T15:26:20.902Z"
   },
   {
    "duration": 5,
    "start_time": "2025-02-24T15:26:29.265Z"
   },
   {
    "duration": 5,
    "start_time": "2025-02-24T15:27:03.759Z"
   },
   {
    "duration": 8,
    "start_time": "2025-02-24T15:27:40.428Z"
   },
   {
    "duration": 4,
    "start_time": "2025-02-24T15:29:05.298Z"
   },
   {
    "duration": 9,
    "start_time": "2025-02-24T15:29:11.443Z"
   },
   {
    "duration": 3,
    "start_time": "2025-02-24T15:29:50.545Z"
   },
   {
    "duration": 1090,
    "start_time": "2025-02-24T15:30:07.932Z"
   },
   {
    "duration": 6,
    "start_time": "2025-02-24T15:30:28.445Z"
   },
   {
    "duration": 4,
    "start_time": "2025-02-24T15:31:08.893Z"
   },
   {
    "duration": 5,
    "start_time": "2025-02-24T15:31:10.834Z"
   },
   {
    "duration": 5,
    "start_time": "2025-02-24T15:31:16.244Z"
   },
   {
    "duration": 5,
    "start_time": "2025-02-24T15:32:23.485Z"
   },
   {
    "duration": 4,
    "start_time": "2025-02-24T15:32:41.452Z"
   },
   {
    "duration": 4,
    "start_time": "2025-02-24T15:33:32.645Z"
   },
   {
    "duration": 4,
    "start_time": "2025-02-24T15:33:50.746Z"
   },
   {
    "duration": 4,
    "start_time": "2025-02-24T15:38:24.165Z"
   },
   {
    "duration": 148,
    "start_time": "2025-02-24T15:38:32.449Z"
   },
   {
    "duration": 128,
    "start_time": "2025-02-24T15:38:41.197Z"
   },
   {
    "duration": 7,
    "start_time": "2025-02-24T15:40:03.682Z"
   },
   {
    "duration": 3,
    "start_time": "2025-02-24T15:40:33.056Z"
   },
   {
    "duration": 8,
    "start_time": "2025-02-24T15:40:34.038Z"
   },
   {
    "duration": 1721,
    "start_time": "2025-02-24T16:22:02.429Z"
   },
   {
    "duration": 13,
    "start_time": "2025-02-24T16:22:36.177Z"
   },
   {
    "duration": 6,
    "start_time": "2025-02-24T16:22:46.245Z"
   },
   {
    "duration": 104,
    "start_time": "2025-02-24T16:27:03.148Z"
   },
   {
    "duration": 19,
    "start_time": "2025-02-24T16:28:03.174Z"
   },
   {
    "duration": 7,
    "start_time": "2025-02-24T16:29:38.995Z"
   },
   {
    "duration": 12,
    "start_time": "2025-02-24T16:29:49.203Z"
   },
   {
    "duration": 10,
    "start_time": "2025-02-24T16:30:06.113Z"
   },
   {
    "duration": 7,
    "start_time": "2025-02-24T16:30:56.076Z"
   },
   {
    "duration": 8,
    "start_time": "2025-02-24T16:30:57.146Z"
   },
   {
    "duration": 9,
    "start_time": "2025-02-24T16:30:58.472Z"
   },
   {
    "duration": 4,
    "start_time": "2025-02-24T16:31:30.433Z"
   },
   {
    "duration": 5,
    "start_time": "2025-02-24T16:31:31.261Z"
   },
   {
    "duration": 7,
    "start_time": "2025-02-24T16:31:32.087Z"
   },
   {
    "duration": 9,
    "start_time": "2025-02-24T16:31:33.495Z"
   },
   {
    "duration": 24,
    "start_time": "2025-02-24T16:35:48.044Z"
   },
   {
    "duration": 1287,
    "start_time": "2025-02-24T16:36:46.879Z"
   },
   {
    "duration": 2480,
    "start_time": "2025-02-24T16:36:48.168Z"
   },
   {
    "duration": 55,
    "start_time": "2025-02-24T16:36:50.650Z"
   },
   {
    "duration": 2441,
    "start_time": "2025-02-24T16:36:50.707Z"
   },
   {
    "duration": 124,
    "start_time": "2025-02-24T16:36:53.149Z"
   },
   {
    "duration": 107,
    "start_time": "2025-02-24T16:36:53.274Z"
   },
   {
    "duration": 98,
    "start_time": "2025-02-24T16:36:53.382Z"
   },
   {
    "duration": 181,
    "start_time": "2025-02-24T16:36:53.481Z"
   },
   {
    "duration": 16,
    "start_time": "2025-02-24T16:36:53.664Z"
   },
   {
    "duration": 97,
    "start_time": "2025-02-24T16:36:53.682Z"
   },
   {
    "duration": 80,
    "start_time": "2025-02-24T16:36:53.780Z"
   },
   {
    "duration": 41,
    "start_time": "2025-02-24T16:36:53.862Z"
   },
   {
    "duration": 31,
    "start_time": "2025-02-24T16:36:53.904Z"
   },
   {
    "duration": 17,
    "start_time": "2025-02-24T16:36:53.937Z"
   },
   {
    "duration": 47,
    "start_time": "2025-02-24T16:36:53.956Z"
   },
   {
    "duration": 26,
    "start_time": "2025-02-24T16:36:54.005Z"
   },
   {
    "duration": 29,
    "start_time": "2025-02-24T16:36:54.033Z"
   },
   {
    "duration": 110,
    "start_time": "2025-02-24T16:36:54.063Z"
   },
   {
    "duration": 143,
    "start_time": "2025-02-24T16:36:54.174Z"
   },
   {
    "duration": 50,
    "start_time": "2025-02-24T16:36:54.319Z"
   },
   {
    "duration": 75,
    "start_time": "2025-02-24T16:36:54.370Z"
   },
   {
    "duration": 19,
    "start_time": "2025-02-24T16:36:54.447Z"
   },
   {
    "duration": 9,
    "start_time": "2025-02-24T16:36:54.467Z"
   },
   {
    "duration": 29,
    "start_time": "2025-02-24T16:36:54.478Z"
   },
   {
    "duration": 98,
    "start_time": "2025-02-24T16:36:54.509Z"
   },
   {
    "duration": 34,
    "start_time": "2025-02-24T16:36:54.609Z"
   },
   {
    "duration": 29,
    "start_time": "2025-02-24T16:36:54.645Z"
   },
   {
    "duration": 19,
    "start_time": "2025-02-24T16:36:54.679Z"
   },
   {
    "duration": 17,
    "start_time": "2025-02-24T16:36:54.699Z"
   },
   {
    "duration": 44,
    "start_time": "2025-02-24T16:36:54.718Z"
   },
   {
    "duration": 3,
    "start_time": "2025-02-24T16:36:54.764Z"
   },
   {
    "duration": 45,
    "start_time": "2025-02-24T16:36:54.769Z"
   },
   {
    "duration": 14,
    "start_time": "2025-02-24T16:36:54.816Z"
   },
   {
    "duration": 7,
    "start_time": "2025-02-24T16:36:54.831Z"
   },
   {
    "duration": 13,
    "start_time": "2025-02-24T16:36:54.839Z"
   },
   {
    "duration": 16,
    "start_time": "2025-02-24T16:36:54.854Z"
   },
   {
    "duration": 203,
    "start_time": "2025-02-24T16:36:54.871Z"
   },
   {
    "duration": 103,
    "start_time": "2025-02-24T16:36:55.076Z"
   },
   {
    "duration": 84,
    "start_time": "2025-02-24T16:36:55.181Z"
   },
   {
    "duration": 75,
    "start_time": "2025-02-24T16:36:55.266Z"
   },
   {
    "duration": 6,
    "start_time": "2025-02-24T16:36:55.343Z"
   },
   {
    "duration": 44,
    "start_time": "2025-02-24T16:36:55.350Z"
   },
   {
    "duration": 16,
    "start_time": "2025-02-24T16:36:55.396Z"
   },
   {
    "duration": 19,
    "start_time": "2025-02-24T16:36:55.413Z"
   },
   {
    "duration": 178,
    "start_time": "2025-02-24T16:36:55.434Z"
   },
   {
    "duration": 3,
    "start_time": "2025-02-24T16:36:55.614Z"
   },
   {
    "duration": 237,
    "start_time": "2025-02-24T16:36:55.619Z"
   },
   {
    "duration": 3,
    "start_time": "2025-02-24T16:36:55.858Z"
   },
   {
    "duration": 113,
    "start_time": "2025-02-24T16:36:55.862Z"
   },
   {
    "duration": 14,
    "start_time": "2025-02-24T16:36:55.977Z"
   },
   {
    "duration": 29,
    "start_time": "2025-02-24T16:36:55.993Z"
   },
   {
    "duration": 82,
    "start_time": "2025-02-24T16:36:56.023Z"
   },
   {
    "duration": 5,
    "start_time": "2025-02-24T16:36:56.107Z"
   },
   {
    "duration": 204,
    "start_time": "2025-02-24T16:36:56.114Z"
   },
   {
    "duration": 166,
    "start_time": "2025-02-24T16:36:56.319Z"
   },
   {
    "duration": 164,
    "start_time": "2025-02-24T16:36:56.486Z"
   },
   {
    "duration": 86,
    "start_time": "2025-02-24T16:36:56.652Z"
   },
   {
    "duration": 4,
    "start_time": "2025-02-24T16:36:56.739Z"
   },
   {
    "duration": 190,
    "start_time": "2025-02-24T16:36:56.745Z"
   },
   {
    "duration": 28,
    "start_time": "2025-02-24T16:36:56.937Z"
   },
   {
    "duration": 35,
    "start_time": "2025-02-24T16:36:56.966Z"
   },
   {
    "duration": 35,
    "start_time": "2025-02-24T16:36:57.003Z"
   },
   {
    "duration": 35,
    "start_time": "2025-02-24T16:36:57.040Z"
   },
   {
    "duration": 15,
    "start_time": "2025-02-24T16:36:57.076Z"
   },
   {
    "duration": 26,
    "start_time": "2025-02-24T16:36:57.093Z"
   },
   {
    "duration": 24,
    "start_time": "2025-02-24T16:36:57.120Z"
   },
   {
    "duration": 12,
    "start_time": "2025-02-24T16:36:57.146Z"
   },
   {
    "duration": 20,
    "start_time": "2025-02-24T16:36:57.160Z"
   },
   {
    "duration": 38,
    "start_time": "2025-02-24T16:36:57.182Z"
   },
   {
    "duration": 27,
    "start_time": "2025-02-24T16:36:57.222Z"
   },
   {
    "duration": 7,
    "start_time": "2025-02-24T16:36:57.251Z"
   },
   {
    "duration": 110,
    "start_time": "2025-02-24T16:36:57.259Z"
   },
   {
    "duration": 33,
    "start_time": "2025-02-24T16:36:57.371Z"
   },
   {
    "duration": 291,
    "start_time": "2025-02-24T16:36:57.406Z"
   },
   {
    "duration": 269,
    "start_time": "2025-02-24T16:36:57.699Z"
   },
   {
    "duration": 10,
    "start_time": "2025-02-24T16:36:57.970Z"
   },
   {
    "duration": 80,
    "start_time": "2025-02-24T16:36:57.982Z"
   },
   {
    "duration": 3,
    "start_time": "2025-02-24T16:36:58.064Z"
   },
   {
    "duration": 484,
    "start_time": "2025-02-24T16:36:58.069Z"
   },
   {
    "duration": 7,
    "start_time": "2025-02-24T16:36:58.555Z"
   },
   {
    "duration": 62,
    "start_time": "2025-02-24T16:36:58.564Z"
   },
   {
    "duration": 27,
    "start_time": "2025-02-24T16:36:58.632Z"
   },
   {
    "duration": 22,
    "start_time": "2025-02-24T16:36:58.661Z"
   },
   {
    "duration": 38,
    "start_time": "2025-02-24T16:36:58.685Z"
   },
   {
    "duration": 121,
    "start_time": "2025-02-24T16:36:58.724Z"
   },
   {
    "duration": 0,
    "start_time": "2025-02-24T16:36:58.847Z"
   },
   {
    "duration": 0,
    "start_time": "2025-02-24T16:36:58.848Z"
   },
   {
    "duration": 0,
    "start_time": "2025-02-24T16:36:58.849Z"
   },
   {
    "duration": 0,
    "start_time": "2025-02-24T16:36:58.850Z"
   },
   {
    "duration": 0,
    "start_time": "2025-02-24T16:36:58.851Z"
   },
   {
    "duration": 0,
    "start_time": "2025-02-24T16:36:58.852Z"
   },
   {
    "duration": 0,
    "start_time": "2025-02-24T16:36:58.853Z"
   },
   {
    "duration": 0,
    "start_time": "2025-02-24T16:36:58.854Z"
   },
   {
    "duration": 0,
    "start_time": "2025-02-24T16:36:58.856Z"
   },
   {
    "duration": 0,
    "start_time": "2025-02-24T16:36:58.857Z"
   },
   {
    "duration": 0,
    "start_time": "2025-02-24T16:36:58.858Z"
   },
   {
    "duration": 0,
    "start_time": "2025-02-24T16:36:58.859Z"
   },
   {
    "duration": 0,
    "start_time": "2025-02-24T16:36:58.860Z"
   },
   {
    "duration": 0,
    "start_time": "2025-02-24T16:36:58.862Z"
   },
   {
    "duration": 0,
    "start_time": "2025-02-24T16:36:58.863Z"
   },
   {
    "duration": 0,
    "start_time": "2025-02-24T16:36:58.864Z"
   },
   {
    "duration": 0,
    "start_time": "2025-02-24T16:36:58.865Z"
   },
   {
    "duration": 0,
    "start_time": "2025-02-24T16:36:58.902Z"
   },
   {
    "duration": 0,
    "start_time": "2025-02-24T16:36:58.903Z"
   },
   {
    "duration": 0,
    "start_time": "2025-02-24T16:36:58.904Z"
   },
   {
    "duration": 0,
    "start_time": "2025-02-24T16:36:58.905Z"
   },
   {
    "duration": 0,
    "start_time": "2025-02-24T16:36:58.906Z"
   },
   {
    "duration": 0,
    "start_time": "2025-02-24T16:36:58.907Z"
   },
   {
    "duration": 0,
    "start_time": "2025-02-24T16:36:58.908Z"
   },
   {
    "duration": 0,
    "start_time": "2025-02-24T16:36:58.909Z"
   },
   {
    "duration": 0,
    "start_time": "2025-02-24T16:36:58.910Z"
   },
   {
    "duration": 0,
    "start_time": "2025-02-24T16:36:58.911Z"
   },
   {
    "duration": 0,
    "start_time": "2025-02-24T16:36:58.912Z"
   },
   {
    "duration": 0,
    "start_time": "2025-02-24T16:36:58.913Z"
   },
   {
    "duration": 0,
    "start_time": "2025-02-24T16:36:58.914Z"
   },
   {
    "duration": 0,
    "start_time": "2025-02-24T16:36:58.915Z"
   },
   {
    "duration": 0,
    "start_time": "2025-02-24T16:36:58.916Z"
   },
   {
    "duration": 0,
    "start_time": "2025-02-24T16:36:58.917Z"
   },
   {
    "duration": 0,
    "start_time": "2025-02-24T16:36:58.918Z"
   },
   {
    "duration": 0,
    "start_time": "2025-02-24T16:36:58.919Z"
   },
   {
    "duration": 0,
    "start_time": "2025-02-24T16:36:58.920Z"
   },
   {
    "duration": 3,
    "start_time": "2025-02-24T16:37:04.193Z"
   },
   {
    "duration": 2563,
    "start_time": "2025-02-24T16:37:04.801Z"
   },
   {
    "duration": 3,
    "start_time": "2025-02-24T16:37:07.367Z"
   },
   {
    "duration": 2243,
    "start_time": "2025-02-24T16:37:08.286Z"
   },
   {
    "duration": 124,
    "start_time": "2025-02-24T16:37:12.425Z"
   },
   {
    "duration": 93,
    "start_time": "2025-02-24T16:37:13.669Z"
   },
   {
    "duration": 107,
    "start_time": "2025-02-24T16:37:15.247Z"
   },
   {
    "duration": 149,
    "start_time": "2025-02-24T16:37:17.357Z"
   },
   {
    "duration": 17,
    "start_time": "2025-02-24T16:37:17.924Z"
   },
   {
    "duration": 12,
    "start_time": "2025-02-24T16:37:19.000Z"
   },
   {
    "duration": 47,
    "start_time": "2025-02-24T16:37:19.704Z"
   },
   {
    "duration": 34,
    "start_time": "2025-02-24T16:37:20.983Z"
   },
   {
    "duration": 21,
    "start_time": "2025-02-24T16:37:22.128Z"
   },
   {
    "duration": 13,
    "start_time": "2025-02-24T16:37:23.282Z"
   },
   {
    "duration": 23,
    "start_time": "2025-02-24T16:37:23.859Z"
   },
   {
    "duration": 34,
    "start_time": "2025-02-24T16:37:25.082Z"
   },
   {
    "duration": 30,
    "start_time": "2025-02-24T16:37:25.697Z"
   },
   {
    "duration": 20,
    "start_time": "2025-02-24T16:37:26.959Z"
   },
   {
    "duration": 53,
    "start_time": "2025-02-24T16:37:28.323Z"
   },
   {
    "duration": 53,
    "start_time": "2025-02-24T16:37:29.031Z"
   },
   {
    "duration": 62,
    "start_time": "2025-02-24T16:37:29.765Z"
   },
   {
    "duration": 21,
    "start_time": "2025-02-24T16:37:30.879Z"
   },
   {
    "duration": 10,
    "start_time": "2025-02-24T16:37:36.005Z"
   },
   {
    "duration": 12,
    "start_time": "2025-02-24T16:37:37.300Z"
   },
   {
    "duration": 14,
    "start_time": "2025-02-24T16:37:37.908Z"
   },
   {
    "duration": 13,
    "start_time": "2025-02-24T16:37:39.174Z"
   },
   {
    "duration": 11,
    "start_time": "2025-02-24T16:37:52.077Z"
   },
   {
    "duration": 6,
    "start_time": "2025-02-24T16:37:52.730Z"
   },
   {
    "duration": 5,
    "start_time": "2025-02-24T16:37:53.469Z"
   },
   {
    "duration": 45,
    "start_time": "2025-02-24T16:37:54.197Z"
   },
   {
    "duration": 4,
    "start_time": "2025-02-24T16:37:54.744Z"
   },
   {
    "duration": 8,
    "start_time": "2025-02-24T16:37:55.385Z"
   },
   {
    "duration": 9,
    "start_time": "2025-02-24T16:37:56.027Z"
   },
   {
    "duration": 9,
    "start_time": "2025-02-24T16:37:56.527Z"
   },
   {
    "duration": 4,
    "start_time": "2025-02-24T16:37:57.007Z"
   },
   {
    "duration": 4,
    "start_time": "2025-02-24T16:37:57.367Z"
   },
   {
    "duration": 179,
    "start_time": "2025-02-24T16:37:57.836Z"
   },
   {
    "duration": 93,
    "start_time": "2025-02-24T16:38:00.136Z"
   },
   {
    "duration": 72,
    "start_time": "2025-02-24T16:38:00.682Z"
   },
   {
    "duration": 66,
    "start_time": "2025-02-24T16:38:01.914Z"
   },
   {
    "duration": 6,
    "start_time": "2025-02-24T16:38:02.447Z"
   },
   {
    "duration": 6,
    "start_time": "2025-02-24T16:38:03.179Z"
   },
   {
    "duration": 9,
    "start_time": "2025-02-24T16:38:03.727Z"
   },
   {
    "duration": 17,
    "start_time": "2025-02-24T16:38:04.318Z"
   },
   {
    "duration": 159,
    "start_time": "2025-02-24T16:38:04.850Z"
   },
   {
    "duration": 3,
    "start_time": "2025-02-24T16:38:06.920Z"
   },
   {
    "duration": 89,
    "start_time": "2025-02-24T16:38:13.980Z"
   },
   {
    "duration": 3,
    "start_time": "2025-02-24T16:38:14.576Z"
   },
   {
    "duration": 112,
    "start_time": "2025-02-24T16:38:15.056Z"
   },
   {
    "duration": 16,
    "start_time": "2025-02-24T16:38:15.540Z"
   },
   {
    "duration": 22,
    "start_time": "2025-02-24T16:38:15.941Z"
   },
   {
    "duration": 53,
    "start_time": "2025-02-24T16:38:16.416Z"
   },
   {
    "duration": 4,
    "start_time": "2025-02-24T16:38:16.854Z"
   },
   {
    "duration": 180,
    "start_time": "2025-02-24T16:38:17.186Z"
   },
   {
    "duration": 152,
    "start_time": "2025-02-24T16:38:17.800Z"
   },
   {
    "duration": 159,
    "start_time": "2025-02-24T16:38:18.305Z"
   },
   {
    "duration": 77,
    "start_time": "2025-02-24T16:38:18.724Z"
   },
   {
    "duration": 4,
    "start_time": "2025-02-24T16:38:19.131Z"
   },
   {
    "duration": 182,
    "start_time": "2025-02-24T16:38:19.568Z"
   },
   {
    "duration": 30,
    "start_time": "2025-02-24T16:38:22.799Z"
   },
   {
    "duration": 4,
    "start_time": "2025-02-24T16:38:23.861Z"
   },
   {
    "duration": 20,
    "start_time": "2025-02-24T16:38:25.034Z"
   },
   {
    "duration": 4,
    "start_time": "2025-02-24T16:38:25.249Z"
   },
   {
    "duration": 7,
    "start_time": "2025-02-24T16:38:25.581Z"
   },
   {
    "duration": 3,
    "start_time": "2025-02-24T16:38:25.768Z"
   },
   {
    "duration": 13,
    "start_time": "2025-02-24T16:38:27.231Z"
   },
   {
    "duration": 13,
    "start_time": "2025-02-24T16:38:27.458Z"
   },
   {
    "duration": 5,
    "start_time": "2025-02-24T16:38:27.947Z"
   },
   {
    "duration": 27,
    "start_time": "2025-02-24T16:38:29.852Z"
   },
   {
    "duration": 21,
    "start_time": "2025-02-24T16:38:30.559Z"
   },
   {
    "duration": 5,
    "start_time": "2025-02-24T16:38:31.169Z"
   },
   {
    "duration": 107,
    "start_time": "2025-02-24T16:38:34.103Z"
   },
   {
    "duration": 28,
    "start_time": "2025-02-24T16:38:36.486Z"
   },
   {
    "duration": 287,
    "start_time": "2025-02-24T16:38:37.177Z"
   },
   {
    "duration": 284,
    "start_time": "2025-02-24T16:38:37.832Z"
   },
   {
    "duration": 10,
    "start_time": "2025-02-24T16:38:38.443Z"
   },
   {
    "duration": 74,
    "start_time": "2025-02-24T16:38:39.179Z"
   },
   {
    "duration": 4,
    "start_time": "2025-02-24T16:38:39.894Z"
   },
   {
    "duration": 442,
    "start_time": "2025-02-24T16:38:40.504Z"
   },
   {
    "duration": 8,
    "start_time": "2025-02-24T16:38:41.112Z"
   },
   {
    "duration": 15,
    "start_time": "2025-02-24T16:38:43.660Z"
   },
   {
    "duration": 30,
    "start_time": "2025-02-24T16:38:44.626Z"
   },
   {
    "duration": 22,
    "start_time": "2025-02-24T16:38:49.002Z"
   },
   {
    "duration": 36,
    "start_time": "2025-02-24T16:38:55.978Z"
   },
   {
    "duration": 15,
    "start_time": "2025-02-24T16:39:16.511Z"
   },
   {
    "duration": 34,
    "start_time": "2025-02-24T16:39:32.688Z"
   },
   {
    "duration": 45,
    "start_time": "2025-02-24T16:39:34.324Z"
   },
   {
    "duration": 5,
    "start_time": "2025-02-24T16:39:39.424Z"
   },
   {
    "duration": 5,
    "start_time": "2025-02-24T16:39:50.398Z"
   },
   {
    "duration": 10,
    "start_time": "2025-02-24T16:39:51.744Z"
   },
   {
    "duration": 15,
    "start_time": "2025-02-24T16:40:54.038Z"
   },
   {
    "duration": 9,
    "start_time": "2025-02-24T16:40:55.007Z"
   },
   {
    "duration": 154,
    "start_time": "2025-02-24T16:41:00.963Z"
   },
   {
    "duration": 134,
    "start_time": "2025-02-24T16:41:12.211Z"
   },
   {
    "duration": 160,
    "start_time": "2025-02-24T16:41:57.413Z"
   },
   {
    "duration": 161,
    "start_time": "2025-02-24T16:42:03.768Z"
   },
   {
    "duration": 5,
    "start_time": "2025-02-24T16:46:33.599Z"
   },
   {
    "duration": 10,
    "start_time": "2025-02-24T16:47:30.910Z"
   },
   {
    "duration": 175,
    "start_time": "2025-02-24T16:47:49.105Z"
   },
   {
    "duration": 172,
    "start_time": "2025-02-24T16:48:07.707Z"
   },
   {
    "duration": 7,
    "start_time": "2025-02-24T16:51:05.065Z"
   },
   {
    "duration": 43,
    "start_time": "2025-02-24T16:51:06.461Z"
   },
   {
    "duration": 31,
    "start_time": "2025-02-24T16:51:25.529Z"
   },
   {
    "duration": 4,
    "start_time": "2025-02-24T16:51:30.571Z"
   },
   {
    "duration": 4,
    "start_time": "2025-02-24T16:51:31.288Z"
   },
   {
    "duration": 2,
    "start_time": "2025-02-24T16:51:31.993Z"
   },
   {
    "duration": 3,
    "start_time": "2025-02-24T16:51:32.695Z"
   },
   {
    "duration": 4,
    "start_time": "2025-02-24T16:51:34.914Z"
   },
   {
    "duration": 4,
    "start_time": "2025-02-24T16:51:35.711Z"
   },
   {
    "duration": 7,
    "start_time": "2025-02-24T16:52:25.298Z"
   },
   {
    "duration": 46,
    "start_time": "2025-02-24T16:52:26.017Z"
   },
   {
    "duration": 5,
    "start_time": "2025-02-24T16:52:52.054Z"
   },
   {
    "duration": 5,
    "start_time": "2025-02-24T16:52:52.646Z"
   },
   {
    "duration": 2,
    "start_time": "2025-02-24T16:52:53.101Z"
   },
   {
    "duration": 3,
    "start_time": "2025-02-24T16:52:53.511Z"
   },
   {
    "duration": 5,
    "start_time": "2025-02-24T16:52:53.962Z"
   },
   {
    "duration": 4,
    "start_time": "2025-02-24T16:52:54.541Z"
   },
   {
    "duration": 60,
    "start_time": "2025-02-24T16:52:58.636Z"
   },
   {
    "duration": 9,
    "start_time": "2025-02-24T16:52:59.498Z"
   },
   {
    "duration": 9,
    "start_time": "2025-02-24T16:53:04.229Z"
   },
   {
    "duration": 9,
    "start_time": "2025-02-24T16:53:04.952Z"
   },
   {
    "duration": 10,
    "start_time": "2025-02-24T16:53:18.633Z"
   },
   {
    "duration": 9,
    "start_time": "2025-02-24T16:53:19.259Z"
   },
   {
    "duration": 4,
    "start_time": "2025-02-24T16:53:21.666Z"
   },
   {
    "duration": 4,
    "start_time": "2025-02-24T16:53:22.428Z"
   },
   {
    "duration": 9,
    "start_time": "2025-02-24T16:53:23.131Z"
   },
   {
    "duration": 13,
    "start_time": "2025-02-24T16:53:23.924Z"
   },
   {
    "duration": 14,
    "start_time": "2025-02-24T16:53:24.704Z"
   },
   {
    "duration": 8,
    "start_time": "2025-02-24T16:53:52.286Z"
   },
   {
    "duration": 12,
    "start_time": "2025-02-24T16:53:56.658Z"
   },
   {
    "duration": 16,
    "start_time": "2025-02-24T16:54:50.802Z"
   },
   {
    "duration": 16,
    "start_time": "2025-02-24T16:55:06.847Z"
   },
   {
    "duration": 173,
    "start_time": "2025-02-24T16:55:56.032Z"
   },
   {
    "duration": 12,
    "start_time": "2025-02-24T16:56:01.595Z"
   },
   {
    "duration": 3,
    "start_time": "2025-02-24T16:57:55.419Z"
   },
   {
    "duration": 13,
    "start_time": "2025-02-24T16:57:58.452Z"
   },
   {
    "duration": 7,
    "start_time": "2025-02-24T16:57:59.973Z"
   },
   {
    "duration": 151,
    "start_time": "2025-02-24T16:58:01.024Z"
   },
   {
    "duration": 9,
    "start_time": "2025-02-24T17:05:37.663Z"
   },
   {
    "duration": 6,
    "start_time": "2025-02-24T17:06:02.162Z"
   },
   {
    "duration": 218,
    "start_time": "2025-02-24T17:06:19.217Z"
   },
   {
    "duration": 15,
    "start_time": "2025-02-24T17:08:31.655Z"
   },
   {
    "duration": 6,
    "start_time": "2025-02-24T17:08:34.151Z"
   },
   {
    "duration": 124,
    "start_time": "2025-02-24T17:08:35.319Z"
   },
   {
    "duration": 9,
    "start_time": "2025-02-24T17:08:58.908Z"
   },
   {
    "duration": 5,
    "start_time": "2025-02-24T17:09:00.768Z"
   },
   {
    "duration": 140,
    "start_time": "2025-02-24T17:09:01.696Z"
   },
   {
    "duration": 6,
    "start_time": "2025-02-24T17:10:13.084Z"
   },
   {
    "duration": 165,
    "start_time": "2025-02-24T17:10:13.893Z"
   },
   {
    "duration": 5,
    "start_time": "2025-02-24T17:10:53.478Z"
   },
   {
    "duration": 145,
    "start_time": "2025-02-24T17:10:54.181Z"
   },
   {
    "duration": 6,
    "start_time": "2025-02-24T17:11:19.665Z"
   },
   {
    "duration": 126,
    "start_time": "2025-02-24T17:11:20.465Z"
   },
   {
    "duration": 6,
    "start_time": "2025-02-24T17:11:29.898Z"
   },
   {
    "duration": 139,
    "start_time": "2025-02-24T17:11:30.523Z"
   },
   {
    "duration": 11,
    "start_time": "2025-02-24T17:15:59.199Z"
   },
   {
    "duration": 6,
    "start_time": "2025-02-24T17:15:59.922Z"
   },
   {
    "duration": 141,
    "start_time": "2025-02-24T17:16:00.671Z"
   },
   {
    "duration": 10,
    "start_time": "2025-02-24T17:16:19.689Z"
   },
   {
    "duration": 6,
    "start_time": "2025-02-24T17:16:20.405Z"
   },
   {
    "duration": 140,
    "start_time": "2025-02-24T17:16:21.265Z"
   },
   {
    "duration": 5,
    "start_time": "2025-02-24T17:16:39.403Z"
   },
   {
    "duration": 141,
    "start_time": "2025-02-24T17:16:40.120Z"
   },
   {
    "duration": 8,
    "start_time": "2025-02-24T17:17:15.451Z"
   },
   {
    "duration": 13,
    "start_time": "2025-02-24T17:17:26.660Z"
   },
   {
    "duration": 10,
    "start_time": "2025-02-24T17:17:36.712Z"
   },
   {
    "duration": 9,
    "start_time": "2025-02-24T17:17:48.368Z"
   },
   {
    "duration": 8,
    "start_time": "2025-02-24T17:18:16.789Z"
   },
   {
    "duration": 8,
    "start_time": "2025-02-24T17:18:27.510Z"
   },
   {
    "duration": 14,
    "start_time": "2025-02-24T17:18:31.239Z"
   },
   {
    "duration": 7,
    "start_time": "2025-02-24T18:37:17.655Z"
   },
   {
    "duration": 130,
    "start_time": "2025-02-24T18:37:20.850Z"
   },
   {
    "duration": 6,
    "start_time": "2025-02-24T18:37:27.070Z"
   },
   {
    "duration": 144,
    "start_time": "2025-02-24T18:37:27.914Z"
   },
   {
    "duration": 5,
    "start_time": "2025-02-24T18:37:43.745Z"
   },
   {
    "duration": 150,
    "start_time": "2025-02-24T18:37:44.795Z"
   },
   {
    "duration": 9,
    "start_time": "2025-02-24T18:37:55.142Z"
   },
   {
    "duration": 5,
    "start_time": "2025-02-24T18:37:55.840Z"
   },
   {
    "duration": 144,
    "start_time": "2025-02-24T18:37:56.529Z"
   },
   {
    "duration": 9,
    "start_time": "2025-02-24T18:40:43.118Z"
   },
   {
    "duration": 9,
    "start_time": "2025-02-24T18:40:59.002Z"
   },
   {
    "duration": 37,
    "start_time": "2025-02-24T18:41:05.508Z"
   },
   {
    "duration": 5,
    "start_time": "2025-02-24T18:41:44.475Z"
   },
   {
    "duration": 5,
    "start_time": "2025-02-24T18:41:45.178Z"
   },
   {
    "duration": 3,
    "start_time": "2025-02-24T18:41:48.012Z"
   },
   {
    "duration": 3,
    "start_time": "2025-02-24T18:41:48.680Z"
   },
   {
    "duration": 4,
    "start_time": "2025-02-24T18:41:49.320Z"
   },
   {
    "duration": 4,
    "start_time": "2025-02-24T18:41:50.114Z"
   },
   {
    "duration": 5,
    "start_time": "2025-02-24T18:43:55.566Z"
   },
   {
    "duration": 8,
    "start_time": "2025-02-24T18:44:17.958Z"
   },
   {
    "duration": 6,
    "start_time": "2025-02-24T18:44:18.566Z"
   },
   {
    "duration": 13,
    "start_time": "2025-02-24T18:44:27.126Z"
   },
   {
    "duration": 10,
    "start_time": "2025-02-24T18:44:27.676Z"
   },
   {
    "duration": 6,
    "start_time": "2025-02-24T18:44:28.298Z"
   },
   {
    "duration": 157,
    "start_time": "2025-02-24T18:44:29.441Z"
   },
   {
    "duration": 25,
    "start_time": "2025-02-24T19:27:05.116Z"
   },
   {
    "duration": 14,
    "start_time": "2025-02-24T19:54:47.297Z"
   },
   {
    "duration": 14,
    "start_time": "2025-02-24T19:55:15.166Z"
   },
   {
    "duration": 5,
    "start_time": "2025-02-24T19:56:50.684Z"
   },
   {
    "duration": 8,
    "start_time": "2025-02-24T19:56:51.747Z"
   },
   {
    "duration": 9,
    "start_time": "2025-02-24T19:56:54.113Z"
   },
   {
    "duration": 5,
    "start_time": "2025-02-24T19:56:55.044Z"
   },
   {
    "duration": 38,
    "start_time": "2025-02-24T19:59:46.872Z"
   },
   {
    "duration": 29,
    "start_time": "2025-02-24T19:59:48.617Z"
   },
   {
    "duration": 38,
    "start_time": "2025-02-24T19:59:49.767Z"
   },
   {
    "duration": 64,
    "start_time": "2025-02-24T19:59:56.049Z"
   },
   {
    "duration": 156,
    "start_time": "2025-02-24T19:59:58.216Z"
   },
   {
    "duration": 25,
    "start_time": "2025-02-24T20:00:14.326Z"
   },
   {
    "duration": 5,
    "start_time": "2025-02-24T20:00:15.063Z"
   },
   {
    "duration": 6,
    "start_time": "2025-02-24T20:00:17.506Z"
   },
   {
    "duration": 132,
    "start_time": "2025-02-24T20:00:23.151Z"
   },
   {
    "duration": 48,
    "start_time": "2025-02-24T20:42:25.347Z"
   },
   {
    "duration": 24,
    "start_time": "2025-02-24T20:42:26.241Z"
   },
   {
    "duration": 40,
    "start_time": "2025-02-24T20:42:28.553Z"
   },
   {
    "duration": 37,
    "start_time": "2025-02-24T20:42:29.562Z"
   },
   {
    "duration": 46,
    "start_time": "2025-02-24T20:42:30.561Z"
   },
   {
    "duration": 6,
    "start_time": "2025-02-24T20:42:32.351Z"
   },
   {
    "duration": 5,
    "start_time": "2025-02-24T20:42:33.363Z"
   },
   {
    "duration": 13,
    "start_time": "2025-02-24T20:42:34.192Z"
   },
   {
    "duration": 21,
    "start_time": "2025-02-24T20:42:35.819Z"
   },
   {
    "duration": 12,
    "start_time": "2025-02-24T20:42:36.601Z"
   },
   {
    "duration": 186,
    "start_time": "2025-02-24T20:42:38.196Z"
   },
   {
    "duration": 153,
    "start_time": "2025-02-24T20:42:41.644Z"
   },
   {
    "duration": 5,
    "start_time": "2025-02-24T20:42:43.397Z"
   },
   {
    "duration": 4,
    "start_time": "2025-02-24T20:42:49.954Z"
   },
   {
    "duration": 9,
    "start_time": "2025-02-24T20:42:50.674Z"
   },
   {
    "duration": 200,
    "start_time": "2025-02-24T20:42:52.221Z"
   },
   {
    "duration": 163,
    "start_time": "2025-02-24T20:42:54.939Z"
   },
   {
    "duration": 5,
    "start_time": "2025-02-24T20:43:33.651Z"
   },
   {
    "duration": 9,
    "start_time": "2025-02-24T20:43:34.472Z"
   },
   {
    "duration": 208,
    "start_time": "2025-02-24T20:43:37.168Z"
   },
   {
    "duration": 218,
    "start_time": "2025-02-24T20:43:46.535Z"
   },
   {
    "duration": 188,
    "start_time": "2025-02-24T20:43:59.384Z"
   },
   {
    "duration": 165,
    "start_time": "2025-02-24T20:44:04.375Z"
   },
   {
    "duration": 8,
    "start_time": "2025-02-24T20:45:54.929Z"
   },
   {
    "duration": 47,
    "start_time": "2025-02-24T20:46:33.502Z"
   },
   {
    "duration": 7,
    "start_time": "2025-02-24T20:47:00.868Z"
   },
   {
    "duration": 5,
    "start_time": "2025-02-24T20:49:41.055Z"
   },
   {
    "duration": 2,
    "start_time": "2025-02-24T20:50:13.035Z"
   },
   {
    "duration": 3,
    "start_time": "2025-02-24T20:50:16.987Z"
   },
   {
    "duration": 5,
    "start_time": "2025-02-24T20:51:08.116Z"
   },
   {
    "duration": 5,
    "start_time": "2025-02-24T20:51:56.709Z"
   },
   {
    "duration": 5,
    "start_time": "2025-02-24T20:52:20.479Z"
   },
   {
    "duration": 4,
    "start_time": "2025-02-24T20:52:41.588Z"
   },
   {
    "duration": 4,
    "start_time": "2025-02-24T20:52:53.274Z"
   },
   {
    "duration": 72,
    "start_time": "2025-02-24T20:55:54.815Z"
   },
   {
    "duration": 11,
    "start_time": "2025-02-24T20:55:56.884Z"
   },
   {
    "duration": 7,
    "start_time": "2025-02-24T20:56:38.931Z"
   },
   {
    "duration": 4,
    "start_time": "2025-02-24T20:56:51.198Z"
   },
   {
    "duration": 4,
    "start_time": "2025-02-24T20:57:38.568Z"
   },
   {
    "duration": 14,
    "start_time": "2025-02-24T20:58:17.133Z"
   },
   {
    "duration": 7,
    "start_time": "2025-02-24T20:59:15.463Z"
   },
   {
    "duration": 8,
    "start_time": "2025-02-24T21:00:56.543Z"
   },
   {
    "duration": 7,
    "start_time": "2025-02-24T21:01:31.962Z"
   },
   {
    "duration": 5,
    "start_time": "2025-02-24T21:01:48.141Z"
   },
   {
    "duration": 6,
    "start_time": "2025-02-24T21:01:54.795Z"
   },
   {
    "duration": 8,
    "start_time": "2025-02-24T21:02:27.263Z"
   },
   {
    "duration": 12,
    "start_time": "2025-02-24T21:02:28.058Z"
   },
   {
    "duration": 8,
    "start_time": "2025-02-24T21:02:55.434Z"
   },
   {
    "duration": 10,
    "start_time": "2025-02-24T21:03:46.919Z"
   },
   {
    "duration": 15,
    "start_time": "2025-02-24T21:04:52.516Z"
   },
   {
    "duration": 9,
    "start_time": "2025-02-24T21:06:27.454Z"
   },
   {
    "duration": 9,
    "start_time": "2025-02-24T21:07:26.650Z"
   },
   {
    "duration": 10,
    "start_time": "2025-02-24T21:08:36.961Z"
   },
   {
    "duration": 150,
    "start_time": "2025-02-24T21:10:00.713Z"
   },
   {
    "duration": 10,
    "start_time": "2025-02-24T21:10:07.558Z"
   },
   {
    "duration": 12,
    "start_time": "2025-02-24T21:11:40.980Z"
   },
   {
    "duration": 8,
    "start_time": "2025-02-24T21:12:14.139Z"
   },
   {
    "duration": 7,
    "start_time": "2025-02-24T21:12:17.259Z"
   },
   {
    "duration": 126,
    "start_time": "2025-02-24T21:12:46.141Z"
   },
   {
    "duration": 143,
    "start_time": "2025-02-24T21:14:52.417Z"
   },
   {
    "duration": 160,
    "start_time": "2025-02-24T21:15:15.402Z"
   },
   {
    "duration": 55,
    "start_time": "2025-02-25T07:41:15.058Z"
   },
   {
    "duration": 1255,
    "start_time": "2025-02-25T07:41:30.676Z"
   },
   {
    "duration": 2835,
    "start_time": "2025-02-25T07:41:33.887Z"
   },
   {
    "duration": 58,
    "start_time": "2025-02-25T07:41:39.277Z"
   },
   {
    "duration": 2665,
    "start_time": "2025-02-25T07:41:40.139Z"
   },
   {
    "duration": 140,
    "start_time": "2025-02-25T07:41:44.969Z"
   },
   {
    "duration": 101,
    "start_time": "2025-02-25T07:41:46.595Z"
   },
   {
    "duration": 107,
    "start_time": "2025-02-25T07:41:47.839Z"
   },
   {
    "duration": 191,
    "start_time": "2025-02-25T07:41:49.617Z"
   },
   {
    "duration": 20,
    "start_time": "2025-02-25T07:41:50.368Z"
   },
   {
    "duration": 14,
    "start_time": "2025-02-25T07:41:51.881Z"
   },
   {
    "duration": 50,
    "start_time": "2025-02-25T07:41:52.664Z"
   },
   {
    "duration": 40,
    "start_time": "2025-02-25T07:41:54.136Z"
   },
   {
    "duration": 23,
    "start_time": "2025-02-25T07:41:55.484Z"
   },
   {
    "duration": 14,
    "start_time": "2025-02-25T07:41:56.815Z"
   },
   {
    "duration": 27,
    "start_time": "2025-02-25T07:41:57.410Z"
   },
   {
    "duration": 27,
    "start_time": "2025-02-25T07:41:58.705Z"
   },
   {
    "duration": 33,
    "start_time": "2025-02-25T07:41:59.364Z"
   },
   {
    "duration": 22,
    "start_time": "2025-02-25T07:42:00.620Z"
   },
   {
    "duration": 54,
    "start_time": "2025-02-25T07:42:01.808Z"
   },
   {
    "duration": 56,
    "start_time": "2025-02-25T07:42:02.448Z"
   },
   {
    "duration": 65,
    "start_time": "2025-02-25T07:42:03.123Z"
   },
   {
    "duration": 23,
    "start_time": "2025-02-25T07:42:03.777Z"
   },
   {
    "duration": 12,
    "start_time": "2025-02-25T07:42:05.072Z"
   },
   {
    "duration": 14,
    "start_time": "2025-02-25T07:42:06.233Z"
   },
   {
    "duration": 14,
    "start_time": "2025-02-25T07:42:06.829Z"
   },
   {
    "duration": 15,
    "start_time": "2025-02-25T07:42:08.207Z"
   },
   {
    "duration": 13,
    "start_time": "2025-02-25T07:42:11.996Z"
   },
   {
    "duration": 6,
    "start_time": "2025-02-25T07:42:12.226Z"
   },
   {
    "duration": 4,
    "start_time": "2025-02-25T07:42:12.542Z"
   },
   {
    "duration": 49,
    "start_time": "2025-02-25T07:42:12.799Z"
   },
   {
    "duration": 4,
    "start_time": "2025-02-25T07:42:13.016Z"
   },
   {
    "duration": 9,
    "start_time": "2025-02-25T07:42:13.224Z"
   },
   {
    "duration": 9,
    "start_time": "2025-02-25T07:42:13.427Z"
   },
   {
    "duration": 8,
    "start_time": "2025-02-25T07:42:13.628Z"
   },
   {
    "duration": 4,
    "start_time": "2025-02-25T07:42:13.858Z"
   },
   {
    "duration": 4,
    "start_time": "2025-02-25T07:42:14.134Z"
   },
   {
    "duration": 211,
    "start_time": "2025-02-25T07:42:14.318Z"
   },
   {
    "duration": 106,
    "start_time": "2025-02-25T07:42:15.368Z"
   },
   {
    "duration": 77,
    "start_time": "2025-02-25T07:42:15.826Z"
   },
   {
    "duration": 74,
    "start_time": "2025-02-25T07:42:16.379Z"
   },
   {
    "duration": 7,
    "start_time": "2025-02-25T07:42:16.849Z"
   },
   {
    "duration": 7,
    "start_time": "2025-02-25T07:42:17.242Z"
   },
   {
    "duration": 10,
    "start_time": "2025-02-25T07:42:17.649Z"
   },
   {
    "duration": 20,
    "start_time": "2025-02-25T07:42:18.164Z"
   },
   {
    "duration": 185,
    "start_time": "2025-02-25T07:42:18.823Z"
   },
   {
    "duration": 4,
    "start_time": "2025-02-25T07:42:23.130Z"
   },
   {
    "duration": 98,
    "start_time": "2025-02-25T07:42:23.816Z"
   },
   {
    "duration": 3,
    "start_time": "2025-02-25T07:42:24.413Z"
   },
   {
    "duration": 131,
    "start_time": "2025-02-25T07:42:25.066Z"
   },
   {
    "duration": 18,
    "start_time": "2025-02-25T07:42:25.758Z"
   },
   {
    "duration": 22,
    "start_time": "2025-02-25T07:42:26.398Z"
   },
   {
    "duration": 66,
    "start_time": "2025-02-25T07:42:26.959Z"
   },
   {
    "duration": 4,
    "start_time": "2025-02-25T07:42:27.506Z"
   },
   {
    "duration": 176,
    "start_time": "2025-02-25T07:42:28.007Z"
   },
   {
    "duration": 178,
    "start_time": "2025-02-25T07:42:30.285Z"
   },
   {
    "duration": 171,
    "start_time": "2025-02-25T07:42:31.008Z"
   },
   {
    "duration": 88,
    "start_time": "2025-02-25T07:42:31.617Z"
   },
   {
    "duration": 4,
    "start_time": "2025-02-25T07:42:32.215Z"
   },
   {
    "duration": 202,
    "start_time": "2025-02-25T07:42:32.852Z"
   },
   {
    "duration": 36,
    "start_time": "2025-02-25T07:42:36.505Z"
   },
   {
    "duration": 5,
    "start_time": "2025-02-25T07:42:37.088Z"
   },
   {
    "duration": 22,
    "start_time": "2025-02-25T07:42:37.665Z"
   },
   {
    "duration": 4,
    "start_time": "2025-02-25T07:42:38.088Z"
   },
   {
    "duration": 6,
    "start_time": "2025-02-25T07:42:38.274Z"
   },
   {
    "duration": 4,
    "start_time": "2025-02-25T07:42:38.489Z"
   },
   {
    "duration": 15,
    "start_time": "2025-02-25T07:42:40.427Z"
   },
   {
    "duration": 23,
    "start_time": "2025-02-25T07:42:40.444Z"
   },
   {
    "duration": 6,
    "start_time": "2025-02-25T07:42:41.426Z"
   },
   {
    "duration": 31,
    "start_time": "2025-02-25T07:42:43.076Z"
   },
   {
    "duration": 22,
    "start_time": "2025-02-25T07:42:43.575Z"
   },
   {
    "duration": 5,
    "start_time": "2025-02-25T07:42:44.124Z"
   },
   {
    "duration": 111,
    "start_time": "2025-02-25T07:42:46.741Z"
   },
   {
    "duration": 27,
    "start_time": "2025-02-25T07:42:48.268Z"
   },
   {
    "duration": 337,
    "start_time": "2025-02-25T07:42:48.876Z"
   },
   {
    "duration": 307,
    "start_time": "2025-02-25T07:42:49.442Z"
   },
   {
    "duration": 11,
    "start_time": "2025-02-25T07:42:50.083Z"
   },
   {
    "duration": 81,
    "start_time": "2025-02-25T07:42:50.755Z"
   },
   {
    "duration": 4,
    "start_time": "2025-02-25T07:42:51.364Z"
   },
   {
    "duration": 450,
    "start_time": "2025-02-25T07:42:51.913Z"
   },
   {
    "duration": 8,
    "start_time": "2025-02-25T07:42:52.490Z"
   },
   {
    "duration": 14,
    "start_time": "2025-02-25T07:42:53.009Z"
   },
   {
    "duration": 28,
    "start_time": "2025-02-25T07:42:53.575Z"
   },
   {
    "duration": 36,
    "start_time": "2025-02-25T07:42:56.676Z"
   },
   {
    "duration": 24,
    "start_time": "2025-02-25T07:42:57.301Z"
   },
   {
    "duration": 41,
    "start_time": "2025-02-25T07:42:58.116Z"
   },
   {
    "duration": 42,
    "start_time": "2025-02-25T07:42:58.919Z"
   },
   {
    "duration": 50,
    "start_time": "2025-02-25T07:42:59.562Z"
   },
   {
    "duration": 6,
    "start_time": "2025-02-25T07:43:01.062Z"
   },
   {
    "duration": 4,
    "start_time": "2025-02-25T07:43:01.782Z"
   },
   {
    "duration": 10,
    "start_time": "2025-02-25T07:43:02.404Z"
   },
   {
    "duration": 16,
    "start_time": "2025-02-25T07:43:03.807Z"
   },
   {
    "duration": 9,
    "start_time": "2025-02-25T07:43:04.436Z"
   },
   {
    "duration": 183,
    "start_time": "2025-02-25T07:43:05.514Z"
   },
   {
    "duration": 171,
    "start_time": "2025-02-25T07:43:06.184Z"
   },
   {
    "duration": 6,
    "start_time": "2025-02-25T07:43:07.603Z"
   },
   {
    "duration": 10,
    "start_time": "2025-02-25T07:43:08.229Z"
   },
   {
    "duration": 219,
    "start_time": "2025-02-25T07:43:08.884Z"
   },
   {
    "duration": 178,
    "start_time": "2025-02-25T07:43:09.668Z"
   },
   {
    "duration": 10,
    "start_time": "2025-02-25T07:43:12.200Z"
   },
   {
    "duration": 8,
    "start_time": "2025-02-25T07:43:12.880Z"
   },
   {
    "duration": 34,
    "start_time": "2025-02-25T07:43:14.063Z"
   },
   {
    "duration": 6,
    "start_time": "2025-02-25T07:43:14.949Z"
   },
   {
    "duration": 5,
    "start_time": "2025-02-25T07:43:20.955Z"
   },
   {
    "duration": 5,
    "start_time": "2025-02-25T07:43:22.852Z"
   },
   {
    "duration": 3,
    "start_time": "2025-02-25T07:43:23.661Z"
   },
   {
    "duration": 3,
    "start_time": "2025-02-25T07:43:25.125Z"
   },
   {
    "duration": 4,
    "start_time": "2025-02-25T07:43:27.808Z"
   },
   {
    "duration": 5,
    "start_time": "2025-02-25T07:43:29.059Z"
   },
   {
    "duration": 4,
    "start_time": "2025-02-25T07:43:31.811Z"
   },
   {
    "duration": 76,
    "start_time": "2025-02-25T07:45:17.629Z"
   },
   {
    "duration": 9,
    "start_time": "2025-02-25T07:45:18.817Z"
   },
   {
    "duration": 4,
    "start_time": "2025-02-25T07:45:22.360Z"
   },
   {
    "duration": 11,
    "start_time": "2025-02-25T07:45:23.050Z"
   },
   {
    "duration": 10,
    "start_time": "2025-02-25T07:45:27.202Z"
   },
   {
    "duration": 7,
    "start_time": "2025-02-25T07:45:28.409Z"
   },
   {
    "duration": 12,
    "start_time": "2025-02-25T07:45:32.935Z"
   },
   {
    "duration": 8,
    "start_time": "2025-02-25T07:45:38.519Z"
   },
   {
    "duration": 11,
    "start_time": "2025-02-25T07:45:39.397Z"
   },
   {
    "duration": 1359,
    "start_time": "2025-02-25T08:03:28.037Z"
   },
   {
    "duration": 2731,
    "start_time": "2025-02-25T08:03:29.398Z"
   },
   {
    "duration": 58,
    "start_time": "2025-02-25T08:03:32.132Z"
   },
   {
    "duration": 2523,
    "start_time": "2025-02-25T08:03:32.193Z"
   },
   {
    "duration": 142,
    "start_time": "2025-02-25T08:03:34.718Z"
   },
   {
    "duration": 113,
    "start_time": "2025-02-25T08:03:34.862Z"
   },
   {
    "duration": 119,
    "start_time": "2025-02-25T08:03:34.977Z"
   },
   {
    "duration": 212,
    "start_time": "2025-02-25T08:03:35.098Z"
   },
   {
    "duration": 21,
    "start_time": "2025-02-25T08:03:35.312Z"
   },
   {
    "duration": 41,
    "start_time": "2025-02-25T08:03:35.336Z"
   },
   {
    "duration": 55,
    "start_time": "2025-02-25T08:03:35.379Z"
   },
   {
    "duration": 58,
    "start_time": "2025-02-25T08:03:35.436Z"
   },
   {
    "duration": 69,
    "start_time": "2025-02-25T08:03:35.496Z"
   },
   {
    "duration": 30,
    "start_time": "2025-02-25T08:03:35.567Z"
   },
   {
    "duration": 32,
    "start_time": "2025-02-25T08:03:35.599Z"
   },
   {
    "duration": 47,
    "start_time": "2025-02-25T08:03:35.634Z"
   },
   {
    "duration": 34,
    "start_time": "2025-02-25T08:03:35.683Z"
   },
   {
    "duration": 133,
    "start_time": "2025-02-25T08:03:35.719Z"
   },
   {
    "duration": 92,
    "start_time": "2025-02-25T08:03:35.854Z"
   },
   {
    "duration": 55,
    "start_time": "2025-02-25T08:03:35.947Z"
   },
   {
    "duration": 69,
    "start_time": "2025-02-25T08:03:36.004Z"
   },
   {
    "duration": 22,
    "start_time": "2025-02-25T08:03:36.075Z"
   },
   {
    "duration": 10,
    "start_time": "2025-02-25T08:03:36.099Z"
   },
   {
    "duration": 19,
    "start_time": "2025-02-25T08:03:36.111Z"
   },
   {
    "duration": 48,
    "start_time": "2025-02-25T08:03:36.131Z"
   },
   {
    "duration": 14,
    "start_time": "2025-02-25T08:03:36.182Z"
   },
   {
    "duration": 11,
    "start_time": "2025-02-25T08:03:36.198Z"
   },
   {
    "duration": 10,
    "start_time": "2025-02-25T08:03:36.214Z"
   },
   {
    "duration": 7,
    "start_time": "2025-02-25T08:03:36.226Z"
   },
   {
    "duration": 81,
    "start_time": "2025-02-25T08:03:36.235Z"
   },
   {
    "duration": 5,
    "start_time": "2025-02-25T08:03:36.318Z"
   },
   {
    "duration": 66,
    "start_time": "2025-02-25T08:03:36.325Z"
   },
   {
    "duration": 33,
    "start_time": "2025-02-25T08:03:36.393Z"
   },
   {
    "duration": 7,
    "start_time": "2025-02-25T08:03:36.428Z"
   },
   {
    "duration": 24,
    "start_time": "2025-02-25T08:03:36.437Z"
   },
   {
    "duration": 46,
    "start_time": "2025-02-25T08:03:36.463Z"
   },
   {
    "duration": 222,
    "start_time": "2025-02-25T08:03:36.511Z"
   },
   {
    "duration": 118,
    "start_time": "2025-02-25T08:03:36.735Z"
   },
   {
    "duration": 84,
    "start_time": "2025-02-25T08:03:36.855Z"
   },
   {
    "duration": 101,
    "start_time": "2025-02-25T08:03:36.941Z"
   },
   {
    "duration": 6,
    "start_time": "2025-02-25T08:03:37.044Z"
   },
   {
    "duration": 30,
    "start_time": "2025-02-25T08:03:37.052Z"
   },
   {
    "duration": 13,
    "start_time": "2025-02-25T08:03:37.083Z"
   },
   {
    "duration": 25,
    "start_time": "2025-02-25T08:03:37.098Z"
   },
   {
    "duration": 218,
    "start_time": "2025-02-25T08:03:37.125Z"
   },
   {
    "duration": 4,
    "start_time": "2025-02-25T08:03:37.345Z"
   },
   {
    "duration": 133,
    "start_time": "2025-02-25T08:03:37.351Z"
   },
   {
    "duration": 4,
    "start_time": "2025-02-25T08:03:37.486Z"
   },
   {
    "duration": 140,
    "start_time": "2025-02-25T08:03:37.492Z"
   },
   {
    "duration": 16,
    "start_time": "2025-02-25T08:03:37.634Z"
   },
   {
    "duration": 41,
    "start_time": "2025-02-25T08:03:37.652Z"
   },
   {
    "duration": 78,
    "start_time": "2025-02-25T08:03:37.695Z"
   },
   {
    "duration": 10,
    "start_time": "2025-02-25T08:03:37.775Z"
   },
   {
    "duration": 253,
    "start_time": "2025-02-25T08:03:37.787Z"
   },
   {
    "duration": 188,
    "start_time": "2025-02-25T08:03:38.041Z"
   },
   {
    "duration": 188,
    "start_time": "2025-02-25T08:03:38.231Z"
   },
   {
    "duration": 98,
    "start_time": "2025-02-25T08:03:38.421Z"
   },
   {
    "duration": 4,
    "start_time": "2025-02-25T08:03:38.521Z"
   },
   {
    "duration": 209,
    "start_time": "2025-02-25T08:03:38.527Z"
   },
   {
    "duration": 45,
    "start_time": "2025-02-25T08:03:38.738Z"
   },
   {
    "duration": 4,
    "start_time": "2025-02-25T08:03:38.785Z"
   },
   {
    "duration": 24,
    "start_time": "2025-02-25T08:03:38.791Z"
   },
   {
    "duration": 4,
    "start_time": "2025-02-25T08:03:38.817Z"
   },
   {
    "duration": 9,
    "start_time": "2025-02-25T08:03:38.822Z"
   },
   {
    "duration": 41,
    "start_time": "2025-02-25T08:03:38.832Z"
   },
   {
    "duration": 15,
    "start_time": "2025-02-25T08:03:38.875Z"
   },
   {
    "duration": 16,
    "start_time": "2025-02-25T08:03:38.892Z"
   },
   {
    "duration": 6,
    "start_time": "2025-02-25T08:03:38.910Z"
   },
   {
    "duration": 72,
    "start_time": "2025-02-25T08:03:38.918Z"
   },
   {
    "duration": 35,
    "start_time": "2025-02-25T08:03:38.992Z"
   },
   {
    "duration": 7,
    "start_time": "2025-02-25T08:03:39.029Z"
   },
   {
    "duration": 148,
    "start_time": "2025-02-25T08:03:39.038Z"
   },
   {
    "duration": 27,
    "start_time": "2025-02-25T08:03:39.188Z"
   },
   {
    "duration": 330,
    "start_time": "2025-02-25T08:03:39.217Z"
   },
   {
    "duration": 322,
    "start_time": "2025-02-25T08:03:39.548Z"
   },
   {
    "duration": 11,
    "start_time": "2025-02-25T08:03:39.872Z"
   },
   {
    "duration": 100,
    "start_time": "2025-02-25T08:03:39.885Z"
   },
   {
    "duration": 5,
    "start_time": "2025-02-25T08:03:39.986Z"
   },
   {
    "duration": 519,
    "start_time": "2025-02-25T08:03:39.993Z"
   },
   {
    "duration": 10,
    "start_time": "2025-02-25T08:03:40.515Z"
   },
   {
    "duration": 45,
    "start_time": "2025-02-25T08:03:40.527Z"
   },
   {
    "duration": 29,
    "start_time": "2025-02-25T08:03:40.580Z"
   },
   {
    "duration": 36,
    "start_time": "2025-02-25T08:03:40.611Z"
   },
   {
    "duration": 25,
    "start_time": "2025-02-25T08:03:40.671Z"
   },
   {
    "duration": 44,
    "start_time": "2025-02-25T08:03:40.697Z"
   },
   {
    "duration": 64,
    "start_time": "2025-02-25T08:03:40.742Z"
   },
   {
    "duration": 65,
    "start_time": "2025-02-25T08:03:40.808Z"
   },
   {
    "duration": 6,
    "start_time": "2025-02-25T08:03:40.875Z"
   },
   {
    "duration": 14,
    "start_time": "2025-02-25T08:03:40.882Z"
   },
   {
    "duration": 13,
    "start_time": "2025-02-25T08:03:40.898Z"
   },
   {
    "duration": 23,
    "start_time": "2025-02-25T08:03:40.913Z"
   },
   {
    "duration": 41,
    "start_time": "2025-02-25T08:03:40.938Z"
   },
   {
    "duration": 203,
    "start_time": "2025-02-25T08:03:40.981Z"
   },
   {
    "duration": 210,
    "start_time": "2025-02-25T08:03:41.186Z"
   },
   {
    "duration": 6,
    "start_time": "2025-02-25T08:03:41.398Z"
   },
   {
    "duration": 12,
    "start_time": "2025-02-25T08:03:41.406Z"
   },
   {
    "duration": 224,
    "start_time": "2025-02-25T08:03:41.420Z"
   },
   {
    "duration": 183,
    "start_time": "2025-02-25T08:03:41.646Z"
   },
   {
    "duration": 9,
    "start_time": "2025-02-25T08:03:41.830Z"
   },
   {
    "duration": 9,
    "start_time": "2025-02-25T08:03:41.841Z"
   },
   {
    "duration": 35,
    "start_time": "2025-02-25T08:03:41.872Z"
   },
   {
    "duration": 5,
    "start_time": "2025-02-25T08:03:41.909Z"
   },
   {
    "duration": 11,
    "start_time": "2025-02-25T08:03:41.916Z"
   },
   {
    "duration": 5,
    "start_time": "2025-02-25T08:03:41.928Z"
   },
   {
    "duration": 37,
    "start_time": "2025-02-25T08:03:41.935Z"
   },
   {
    "duration": 4,
    "start_time": "2025-02-25T08:03:41.974Z"
   },
   {
    "duration": 9,
    "start_time": "2025-02-25T08:03:41.980Z"
   },
   {
    "duration": 8,
    "start_time": "2025-02-25T08:03:41.991Z"
   },
   {
    "duration": 7,
    "start_time": "2025-02-25T08:03:42.001Z"
   },
   {
    "duration": 108,
    "start_time": "2025-02-25T08:03:42.010Z"
   },
   {
    "duration": 10,
    "start_time": "2025-02-25T08:03:42.119Z"
   },
   {
    "duration": 12,
    "start_time": "2025-02-25T08:03:42.131Z"
   },
   {
    "duration": 27,
    "start_time": "2025-02-25T08:03:42.145Z"
   },
   {
    "duration": 9,
    "start_time": "2025-02-25T08:03:42.174Z"
   },
   {
    "duration": 7,
    "start_time": "2025-02-25T08:03:42.185Z"
   },
   {
    "duration": 11,
    "start_time": "2025-02-25T08:03:42.194Z"
   },
   {
    "duration": 9,
    "start_time": "2025-02-25T08:03:42.207Z"
   },
   {
    "duration": 15,
    "start_time": "2025-02-25T08:03:42.218Z"
   },
   {
    "duration": 174,
    "start_time": "2025-02-25T08:03:42.271Z"
   },
   {
    "duration": 9,
    "start_time": "2025-02-25T08:03:42.447Z"
   },
   {
    "duration": 25,
    "start_time": "2025-02-25T08:03:42.458Z"
   },
   {
    "duration": 9,
    "start_time": "2025-02-25T08:03:42.485Z"
   },
   {
    "duration": 20,
    "start_time": "2025-02-25T08:03:42.496Z"
   },
   {
    "duration": 185,
    "start_time": "2025-02-25T08:03:42.518Z"
   },
   {
    "duration": 3,
    "start_time": "2025-02-25T08:03:42.704Z"
   },
   {
    "duration": 2747,
    "start_time": "2025-02-25T08:03:42.709Z"
   },
   {
    "duration": 4,
    "start_time": "2025-02-25T08:03:49.203Z"
   },
   {
    "duration": 2440,
    "start_time": "2025-02-25T08:03:50.134Z"
   },
   {
    "duration": 131,
    "start_time": "2025-02-25T08:03:55.227Z"
   },
   {
    "duration": 104,
    "start_time": "2025-02-25T08:03:56.973Z"
   },
   {
    "duration": 102,
    "start_time": "2025-02-25T08:03:59.325Z"
   },
   {
    "duration": 195,
    "start_time": "2025-02-25T08:04:01.905Z"
   },
   {
    "duration": 19,
    "start_time": "2025-02-25T08:04:02.887Z"
   },
   {
    "duration": 13,
    "start_time": "2025-02-25T08:04:04.356Z"
   },
   {
    "duration": 52,
    "start_time": "2025-02-25T08:04:05.170Z"
   },
   {
    "duration": 39,
    "start_time": "2025-02-25T08:04:06.690Z"
   },
   {
    "duration": 23,
    "start_time": "2025-02-25T08:04:08.150Z"
   },
   {
    "duration": 14,
    "start_time": "2025-02-25T08:04:09.444Z"
   },
   {
    "duration": 28,
    "start_time": "2025-02-25T08:04:10.024Z"
   },
   {
    "duration": 28,
    "start_time": "2025-02-25T08:04:11.258Z"
   },
   {
    "duration": 33,
    "start_time": "2025-02-25T08:04:11.887Z"
   },
   {
    "duration": 22,
    "start_time": "2025-02-25T08:04:13.152Z"
   },
   {
    "duration": 55,
    "start_time": "2025-02-25T08:04:14.241Z"
   },
   {
    "duration": 57,
    "start_time": "2025-02-25T08:04:14.863Z"
   },
   {
    "duration": 82,
    "start_time": "2025-02-25T08:04:15.460Z"
   },
   {
    "duration": 23,
    "start_time": "2025-02-25T08:04:16.072Z"
   },
   {
    "duration": 11,
    "start_time": "2025-02-25T08:04:17.274Z"
   },
   {
    "duration": 16,
    "start_time": "2025-02-25T08:04:18.426Z"
   },
   {
    "duration": 23,
    "start_time": "2025-02-25T08:04:19.024Z"
   },
   {
    "duration": 16,
    "start_time": "2025-02-25T08:04:20.259Z"
   },
   {
    "duration": 12,
    "start_time": "2025-02-25T08:04:26.541Z"
   },
   {
    "duration": 6,
    "start_time": "2025-02-25T08:04:27.073Z"
   },
   {
    "duration": 4,
    "start_time": "2025-02-25T08:04:27.686Z"
   },
   {
    "duration": 45,
    "start_time": "2025-02-25T08:04:28.251Z"
   },
   {
    "duration": 5,
    "start_time": "2025-02-25T08:04:28.803Z"
   },
   {
    "duration": 9,
    "start_time": "2025-02-25T08:04:29.322Z"
   },
   {
    "duration": 9,
    "start_time": "2025-02-25T08:04:29.952Z"
   },
   {
    "duration": 8,
    "start_time": "2025-02-25T08:04:30.560Z"
   },
   {
    "duration": 4,
    "start_time": "2025-02-25T08:04:31.139Z"
   },
   {
    "duration": 4,
    "start_time": "2025-02-25T08:04:31.688Z"
   },
   {
    "duration": 197,
    "start_time": "2025-02-25T08:04:32.249Z"
   },
   {
    "duration": 101,
    "start_time": "2025-02-25T08:04:34.900Z"
   },
   {
    "duration": 78,
    "start_time": "2025-02-25T08:04:35.434Z"
   },
   {
    "duration": 72,
    "start_time": "2025-02-25T08:04:36.528Z"
   },
   {
    "duration": 7,
    "start_time": "2025-02-25T08:04:37.077Z"
   },
   {
    "duration": 8,
    "start_time": "2025-02-25T08:04:37.674Z"
   },
   {
    "duration": 12,
    "start_time": "2025-02-25T08:04:38.176Z"
   },
   {
    "duration": 21,
    "start_time": "2025-02-25T08:04:38.722Z"
   },
   {
    "duration": 172,
    "start_time": "2025-02-25T08:04:39.204Z"
   },
   {
    "duration": 4,
    "start_time": "2025-02-25T08:04:41.492Z"
   },
   {
    "duration": 101,
    "start_time": "2025-02-25T08:04:42.185Z"
   },
   {
    "duration": 3,
    "start_time": "2025-02-25T08:04:42.781Z"
   },
   {
    "duration": 120,
    "start_time": "2025-02-25T08:04:43.394Z"
   },
   {
    "duration": 15,
    "start_time": "2025-02-25T08:04:43.957Z"
   },
   {
    "duration": 22,
    "start_time": "2025-02-25T08:04:44.583Z"
   },
   {
    "duration": 58,
    "start_time": "2025-02-25T08:04:45.150Z"
   },
   {
    "duration": 5,
    "start_time": "2025-02-25T08:04:45.745Z"
   },
   {
    "duration": 302,
    "start_time": "2025-02-25T08:04:46.310Z"
   },
   {
    "duration": 179,
    "start_time": "2025-02-25T08:04:48.226Z"
   },
   {
    "duration": 210,
    "start_time": "2025-02-25T08:04:48.826Z"
   },
   {
    "duration": 82,
    "start_time": "2025-02-25T08:04:49.423Z"
   },
   {
    "duration": 4,
    "start_time": "2025-02-25T08:04:49.983Z"
   },
   {
    "duration": 211,
    "start_time": "2025-02-25T08:04:50.576Z"
   },
   {
    "duration": 32,
    "start_time": "2025-02-25T08:04:54.160Z"
   },
   {
    "duration": 5,
    "start_time": "2025-02-25T08:04:54.696Z"
   },
   {
    "duration": 21,
    "start_time": "2025-02-25T08:04:55.245Z"
   },
   {
    "duration": 4,
    "start_time": "2025-02-25T08:04:55.806Z"
   },
   {
    "duration": 8,
    "start_time": "2025-02-25T08:04:56.346Z"
   },
   {
    "duration": 4,
    "start_time": "2025-02-25T08:04:56.847Z"
   },
   {
    "duration": 15,
    "start_time": "2025-02-25T08:04:58.387Z"
   },
   {
    "duration": 13,
    "start_time": "2025-02-25T08:04:58.885Z"
   },
   {
    "duration": 6,
    "start_time": "2025-02-25T08:04:59.448Z"
   },
   {
    "duration": 31,
    "start_time": "2025-02-25T08:05:00.983Z"
   },
   {
    "duration": 23,
    "start_time": "2025-02-25T08:05:01.518Z"
   },
   {
    "duration": 6,
    "start_time": "2025-02-25T08:05:01.985Z"
   },
   {
    "duration": 109,
    "start_time": "2025-02-25T08:05:04.617Z"
   },
   {
    "duration": 45,
    "start_time": "2025-02-25T08:05:06.329Z"
   },
   {
    "duration": 316,
    "start_time": "2025-02-25T08:05:06.876Z"
   },
   {
    "duration": 310,
    "start_time": "2025-02-25T08:05:07.390Z"
   },
   {
    "duration": 11,
    "start_time": "2025-02-25T08:05:07.877Z"
   },
   {
    "duration": 80,
    "start_time": "2025-02-25T08:05:08.364Z"
   },
   {
    "duration": 3,
    "start_time": "2025-02-25T08:05:08.971Z"
   },
   {
    "duration": 381,
    "start_time": "2025-02-25T08:05:09.521Z"
   },
   {
    "duration": 8,
    "start_time": "2025-02-25T08:05:10.028Z"
   },
   {
    "duration": 15,
    "start_time": "2025-02-25T08:05:10.573Z"
   },
   {
    "duration": 31,
    "start_time": "2025-02-25T08:05:11.105Z"
   },
   {
    "duration": 38,
    "start_time": "2025-02-25T08:05:20.820Z"
   },
   {
    "duration": 23,
    "start_time": "2025-02-25T08:05:21.404Z"
   },
   {
    "duration": 43,
    "start_time": "2025-02-25T08:05:21.901Z"
   },
   {
    "duration": 45,
    "start_time": "2025-02-25T08:05:22.388Z"
   },
   {
    "duration": 49,
    "start_time": "2025-02-25T08:05:22.985Z"
   },
   {
    "duration": 5,
    "start_time": "2025-02-25T08:05:24.157Z"
   },
   {
    "duration": 5,
    "start_time": "2025-02-25T08:05:24.693Z"
   },
   {
    "duration": 12,
    "start_time": "2025-02-25T08:05:25.201Z"
   },
   {
    "duration": 22,
    "start_time": "2025-02-25T08:05:26.271Z"
   },
   {
    "duration": 11,
    "start_time": "2025-02-25T08:05:26.792Z"
   },
   {
    "duration": 174,
    "start_time": "2025-02-25T08:05:27.336Z"
   },
   {
    "duration": 172,
    "start_time": "2025-02-25T08:05:27.887Z"
   },
   {
    "duration": 4,
    "start_time": "2025-02-25T08:05:29.789Z"
   },
   {
    "duration": 10,
    "start_time": "2025-02-25T08:05:30.448Z"
   },
   {
    "duration": 204,
    "start_time": "2025-02-25T08:05:31.001Z"
   },
   {
    "duration": 271,
    "start_time": "2025-02-25T08:05:31.617Z"
   },
   {
    "duration": 12,
    "start_time": "2025-02-25T08:05:33.962Z"
   },
   {
    "duration": 9,
    "start_time": "2025-02-25T08:05:34.750Z"
   },
   {
    "duration": 40,
    "start_time": "2025-02-25T08:05:35.648Z"
   },
   {
    "duration": 6,
    "start_time": "2025-02-25T08:05:36.313Z"
   },
   {
    "duration": 5,
    "start_time": "2025-02-25T08:05:38.341Z"
   },
   {
    "duration": 4,
    "start_time": "2025-02-25T08:05:39.200Z"
   },
   {
    "duration": 3,
    "start_time": "2025-02-25T08:05:39.962Z"
   },
   {
    "duration": 3,
    "start_time": "2025-02-25T08:05:40.712Z"
   },
   {
    "duration": 4,
    "start_time": "2025-02-25T08:05:41.774Z"
   },
   {
    "duration": 4,
    "start_time": "2025-02-25T08:05:42.700Z"
   },
   {
    "duration": 4,
    "start_time": "2025-02-25T08:05:43.634Z"
   },
   {
    "duration": 78,
    "start_time": "2025-02-25T08:05:51.498Z"
   },
   {
    "duration": 11,
    "start_time": "2025-02-25T08:05:52.629Z"
   },
   {
    "duration": 4,
    "start_time": "2025-02-25T08:05:53.523Z"
   },
   {
    "duration": 11,
    "start_time": "2025-02-25T08:05:59.928Z"
   },
   {
    "duration": 8,
    "start_time": "2025-02-25T08:06:02.372Z"
   },
   {
    "duration": 7,
    "start_time": "2025-02-25T08:06:24.468Z"
   },
   {
    "duration": 11,
    "start_time": "2025-02-25T08:06:25.265Z"
   },
   {
    "duration": 8,
    "start_time": "2025-02-25T08:06:27.247Z"
   },
   {
    "duration": 11,
    "start_time": "2025-02-25T08:06:27.876Z"
   },
   {
    "duration": 163,
    "start_time": "2025-02-25T08:06:29.825Z"
   },
   {
    "duration": 13,
    "start_time": "2025-02-25T08:06:30.447Z"
   },
   {
    "duration": 12,
    "start_time": "2025-02-25T08:06:31.807Z"
   },
   {
    "duration": 7,
    "start_time": "2025-02-25T08:06:32.714Z"
   },
   {
    "duration": 6,
    "start_time": "2025-02-25T08:06:33.403Z"
   },
   {
    "duration": 168,
    "start_time": "2025-02-25T08:06:34.212Z"
   }
  ],
  "colab": {
   "provenance": []
  },
  "kernelspec": {
   "display_name": "Python 3 (ipykernel)",
   "language": "python",
   "name": "python3"
  },
  "language_info": {
   "codemirror_mode": {
    "name": "ipython",
    "version": 3
   },
   "file_extension": ".py",
   "mimetype": "text/x-python",
   "name": "python",
   "nbconvert_exporter": "python",
   "pygments_lexer": "ipython3",
   "version": "3.9.5"
  },
  "toc": {
   "base_numbering": 1,
   "nav_menu": {},
   "number_sections": true,
   "sideBar": true,
   "skip_h1_title": true,
   "title_cell": "Table of Contents",
   "title_sidebar": "Contents",
   "toc_cell": false,
   "toc_position": {},
   "toc_section_display": true,
   "toc_window_display": false
  }
 },
 "nbformat": 4,
 "nbformat_minor": 1
}
