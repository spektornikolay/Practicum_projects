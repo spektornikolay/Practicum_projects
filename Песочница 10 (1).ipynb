{
 "cells": [
  {
   "cell_type": "code",
   "execution_count": 81,
   "id": "7d27bc01",
   "metadata": {},
   "outputs": [],
   "source": [
    "import pandas as pd"
   ]
  },
  {
   "cell_type": "code",
   "execution_count": 82,
   "id": "48439f79",
   "metadata": {},
   "outputs": [],
   "source": [
    "df_hotel = pd.read_csv('https://code.s3.yandex.net/datasets/hotel.csv', sep=';')\n",
    "df_count_person_hotel = pd.read_csv('https://code.s3.yandex.net/datasets/count_person_hotel.csv', sep=';')\n",
    "df_tour_firm = pd.read_csv('https://code.s3.yandex.net/datasets/tour_firm.csv', sep=';')\n",
    "tour_cost_2023 = pd.read_csv('https://code.s3.yandex.net/datasets/tour_cost_2023.csv', sep=';')"
   ]
  },
  {
   "cell_type": "code",
   "execution_count": 83,
   "id": "575dd220",
   "metadata": {},
   "outputs": [
    {
     "data": {
      "text/plain": [
       "Index(['Субъект', 'Число гостиниц, 2018', 'Число гостиниц, 2019',\n",
       "       'Число гостиниц, 2020', 'Число гостиниц, 2021', 'Число гостиниц, 2022',\n",
       "       'Число гостиниц, 2023', 'Число мест в гостиницах, 2018',\n",
       "       'Число мест в гостиницах, 2019', 'Число мест в гостиницах, 2020',\n",
       "       'Число мест в гостиницах, 2021', 'Число мест в гостиницах, 2022',\n",
       "       'Число мест в гостиницах, 2023', 'Число хостелов, 2018',\n",
       "       'Число хостелов, 2019', 'Число хостелов, 2020', 'Число хостелов, 2021',\n",
       "       'Число хостелов, 2022', 'Число хостелов, 2023',\n",
       "       'Число мест в хостелах, 2018', 'Число мест в хостелах, 2019',\n",
       "       'Число мест в хостелах, 2020', 'Число мест в хостелах, 2021',\n",
       "       'Число мест в хостелах, 2022', 'Число мест в хостелах, 2023',\n",
       "       'Число санаторно-курортных организаций, 2018',\n",
       "       'Число санаторно-курортных организаций, 2019',\n",
       "       'Число санаторно-курортных организаций, 2020',\n",
       "       'Число санаторно-курортных организаций, 2021',\n",
       "       'Число санаторно-курортных организаций, 2022',\n",
       "       'Число санаторно-курортных организаций, 2023',\n",
       "       'Число мест в санаторно-курортных организациях, 2018',\n",
       "       'Число мест в санаторно-курортных организациях, 2019',\n",
       "       'Число мест в санаторно-курортных организациях, 2020',\n",
       "       'Число мест в санаторно-курортных организациях, 2021',\n",
       "       'Число мест в санаторно-курортных организациях, 2022',\n",
       "       'Число мест в санаторно-курортных организациях, 2023'],\n",
       "      dtype='object')"
      ]
     },
     "execution_count": 83,
     "metadata": {},
     "output_type": "execute_result"
    }
   ],
   "source": [
    "#изучим название столбцов в каждом датафрейме:\n",
    "df_hotel.columns"
   ]
  },
  {
   "cell_type": "code",
   "execution_count": 84,
   "id": "735d4766",
   "metadata": {},
   "outputs": [
    {
     "data": {
      "text/plain": [
       "Index(['Субъект', 'Численность лиц, размещенных в гостиницах в 2023 году',\n",
       "       'Численность граждан России, размещенных в гостиницах в 2023 году',\n",
       "       'Численность иностранных граждан, размещенных в гостиницах в 2023 году'],\n",
       "      dtype='object')"
      ]
     },
     "execution_count": 84,
     "metadata": {},
     "output_type": "execute_result"
    }
   ],
   "source": [
    "df_count_person_hotel.columns"
   ]
  },
  {
   "cell_type": "code",
   "execution_count": 85,
   "id": "25802325",
   "metadata": {},
   "outputs": [
    {
     "data": {
      "text/plain": [
       "Index(['Субъект', 'Общее число турпакетов, реализованных населению, 2018',\n",
       "       'Общее число турпакетов, реализованных гражданам России по территории России, 2018',\n",
       "       'Общее число турпакетов, реализованных гражданам России по другим странам, 2018',\n",
       "       'Общее число турпакетов, реализованных гражданам других стран по территории России, 2018',\n",
       "       'Общее число турпакетов, реализованных населению, 2019',\n",
       "       'Общее число турпакетов, реализованных гражданам России по территории России, 2019',\n",
       "       'Общее число турпакетов, реализованных гражданам России по другим странам, 2019',\n",
       "       'Общее число турпакетов, реализованных гражданам других стран по территории России, 2019',\n",
       "       'Общее число турпакетов, реализованных населению, 2020',\n",
       "       'Общее число турпакетов, реализованных гражданам России по территории России, 2020',\n",
       "       'Общее число турпакетов, реализованных гражданам России по другим странам, 2020',\n",
       "       'Общее число турпакетов, реализованных гражданам других стран по территории России, 2020',\n",
       "       'Общее число турпакетов, реализованных населению, 2021',\n",
       "       'Общее число турпакетов, реализованных гражданам России по территории России, 2021',\n",
       "       'Общее число турпакетов, реализованных гражданам России по другим странам, 2021',\n",
       "       'Общее число турпакетов, реализованных гражданам других стран по территории России, 2021',\n",
       "       'Общее число турпакетов, реализованных населению, 2022',\n",
       "       'Общее число турпакетов, реализованных гражданам России по территории России, 2022',\n",
       "       'Общее число турпакетов, реализованных гражданам России по другим странам, 2022',\n",
       "       'Общее число турпакетов, реализованных гражданам других стран по территории России, 2022',\n",
       "       'Общее число турпакетов, реализованных населению, 2023',\n",
       "       'Общее число турпакетов, реализованных гражданам России по территории России, 2023',\n",
       "       'Общее число турпакетов, реализованных гражданам России по другим странам, 2023',\n",
       "       'Общее число турпакетов, реализованных гражданам других стран по территории России, 2023'],\n",
       "      dtype='object')"
      ]
     },
     "execution_count": 85,
     "metadata": {},
     "output_type": "execute_result"
    }
   ],
   "source": [
    "df_tour_firm.columns"
   ]
  },
  {
   "cell_type": "code",
   "execution_count": 86,
   "id": "ef7d4bac",
   "metadata": {},
   "outputs": [
    {
     "data": {
      "text/plain": [
       "Index(['Субъект', 'Стоимость реализованных турпакетов в 2023 году, млн руб.',\n",
       "       'Стоимость турпакетов  реализованных гражданам России по территории России в 2023 году, млн руб.',\n",
       "       'Стоимость турпакетов  реализованных гражданам России по другим странам в 2023 году, млн руб.'],\n",
       "      dtype='object')"
      ]
     },
     "execution_count": 86,
     "metadata": {},
     "output_type": "execute_result"
    }
   ],
   "source": [
    "tour_cost_2023.columns"
   ]
  },
  {
   "cell_type": "code",
   "execution_count": 87,
   "id": "289746f3",
   "metadata": {},
   "outputs": [],
   "source": [
    "#Заменим названия столбцов в каждом датафрейме на более подходящие:\n",
    "column_names_hotel = [\n",
    "    \"region\", \"hotels_2018\", \"hotels_2019\", \"hotels_2020\", \"hotels_2021\",\n",
    "    \"hotels_2022\", \"hotels_2023\", \"beds_hotels_2018\", \"beds_hotels_2019\",\n",
    "    \"beds_hotels_2020\", \"beds_hotels_2021\", \"beds_hotels_2022\", \"beds_hotels_2023\",\n",
    "    \"hostels_2018\", \"hostels_2019\", \"hostels_2020\", \"hostels_2021\", \"hostels_2022\", \"hostels_2023\",\n",
    "    \"beds_hostels_2018\", \"beds_hostels_2019\", \"beds_hostels_2020\", \"beds_hostels_2021\", \"beds_hostels_2022\",\n",
    "    \"beds_hostels_2023\", \"spa_orgs_2018\", \"spa_orgs_2019\", \"spa_orgs_2020\", \"spa_orgs_2021\", \"spa_orgs_2022\", \"spa_orgs_2023\",\n",
    "    \"beds_spa_2018\", \"beds_spa_2019\", \"beds_spa_2020\", \"beds_spa_2021\", \"beds_spa_2022\", \"beds_spa_2023\"\n",
    "]"
   ]
  },
  {
   "cell_type": "code",
   "execution_count": 88,
   "id": "96c558fe",
   "metadata": {},
   "outputs": [],
   "source": [
    "df_hotel.columns = column_names_hotel"
   ]
  },
  {
   "cell_type": "code",
   "execution_count": 89,
   "id": "1e6f3934",
   "metadata": {},
   "outputs": [],
   "source": [
    "column_person_hotel = [\n",
    "    \"region\",\n",
    "    \"total_guests_2023\",\n",
    "    \"russian_guests_2023\",\n",
    "    \"foreign_guests_2023\"\n",
    "]"
   ]
  },
  {
   "cell_type": "code",
   "execution_count": 90,
   "id": "acca30b2",
   "metadata": {},
   "outputs": [],
   "source": [
    "df_count_person_hotel.columns = column_person_hotel"
   ]
  },
  {
   "cell_type": "code",
   "execution_count": 91,
   "id": "d652a924",
   "metadata": {},
   "outputs": [],
   "source": [
    "column_tour_firm = [\n",
    "    \"region\",\n",
    "    \"total_tour_packages_2018\", \"domestic_russia_2018\", \"international_russia_2018\", \"foreign_in_russia_2018\",\n",
    "    \"total_tour_packages_2019\", \"domestic_russia_2019\", \"international_russia_2019\", \"foreign_in_russia_2019\",\n",
    "    \"total_tour_packages_2020\", \"domestic_russia_2020\", \"international_russia_2020\", \"foreign_in_russia_2020\",\n",
    "    \"total_tour_packages_2021\", \"domestic_russia_2021\", \"international_russia_2021\", \"foreign_in_russia_2021\",\n",
    "    \"total_tour_packages_2022\", \"domestic_russia_2022\", \"international_russia_2022\", \"foreign_in_russia_2022\",\n",
    "    \"total_tour_packages_2023\", \"domestic_russia_2023\", \"international_russia_2023\", \"foreign_in_russia_2023\"\n",
    "]"
   ]
  },
  {
   "cell_type": "code",
   "execution_count": 92,
   "id": "451f12e2",
   "metadata": {},
   "outputs": [],
   "source": [
    "df_tour_firm.columns = column_tour_firm"
   ]
  },
  {
   "cell_type": "code",
   "execution_count": 93,
   "id": "5a03dcc8",
   "metadata": {},
   "outputs": [],
   "source": [
    "column_tour_cost = [\n",
    "    \"region\",\n",
    "    \"total_tour_cost_million_2023\",\n",
    "    \"domestic_tour_package_cost_million_2023\",\n",
    "    \"international_tour_package_cost_million_2023\"\n",
    "]"
   ]
  },
  {
   "cell_type": "code",
   "execution_count": 94,
   "id": "13ca541c",
   "metadata": {},
   "outputs": [],
   "source": [
    "tour_cost_2023.columns = column_tour_cost "
   ]
  },
  {
   "cell_type": "code",
   "execution_count": 95,
   "id": "a1791d54",
   "metadata": {},
   "outputs": [
    {
     "data": {
      "text/plain": [
       "region               object\n",
       "hotels_2018           int64\n",
       "hotels_2019           int64\n",
       "hotels_2020           int64\n",
       "hotels_2021           int64\n",
       "hotels_2022           int64\n",
       "hotels_2023           int64\n",
       "beds_hotels_2018      int64\n",
       "beds_hotels_2019      int64\n",
       "beds_hotels_2020      int64\n",
       "beds_hotels_2021      int64\n",
       "beds_hotels_2022      int64\n",
       "beds_hotels_2023      int64\n",
       "hostels_2018          int64\n",
       "hostels_2019          int64\n",
       "hostels_2020          int64\n",
       "hostels_2021          int64\n",
       "hostels_2022          int64\n",
       "hostels_2023          int64\n",
       "beds_hostels_2018    object\n",
       "beds_hostels_2019    object\n",
       "beds_hostels_2020    object\n",
       "beds_hostels_2021    object\n",
       "beds_hostels_2022    object\n",
       "beds_hostels_2023    object\n",
       "spa_orgs_2018         int64\n",
       "spa_orgs_2019         int64\n",
       "spa_orgs_2020         int64\n",
       "spa_orgs_2021         int64\n",
       "spa_orgs_2022         int64\n",
       "spa_orgs_2023         int64\n",
       "beds_spa_2018        object\n",
       "beds_spa_2019        object\n",
       "beds_spa_2020        object\n",
       "beds_spa_2021        object\n",
       "beds_spa_2022        object\n",
       "beds_spa_2023        object\n",
       "dtype: object"
      ]
     },
     "execution_count": 95,
     "metadata": {},
     "output_type": "execute_result"
    }
   ],
   "source": [
    "#Изучим типы данных в каждом датафрейме:\n",
    "df_hotel.dtypes"
   ]
  },
  {
   "cell_type": "code",
   "execution_count": 96,
   "id": "21c640f2",
   "metadata": {},
   "outputs": [
    {
     "data": {
      "text/plain": [
       "region                 object\n",
       "total_guests_2023       int64\n",
       "russian_guests_2023     int64\n",
       "foreign_guests_2023     int64\n",
       "dtype: object"
      ]
     },
     "execution_count": 96,
     "metadata": {},
     "output_type": "execute_result"
    }
   ],
   "source": [
    "df_count_person_hotel.dtypes"
   ]
  },
  {
   "cell_type": "code",
   "execution_count": 97,
   "id": "021f84d0",
   "metadata": {},
   "outputs": [
    {
     "data": {
      "text/plain": [
       "region                        object\n",
       "total_tour_packages_2018      object\n",
       "domestic_russia_2018          object\n",
       "international_russia_2018     object\n",
       "foreign_in_russia_2018       float64\n",
       "total_tour_packages_2019      object\n",
       "domestic_russia_2019          object\n",
       "international_russia_2019     object\n",
       "foreign_in_russia_2019        object\n",
       "total_tour_packages_2020      object\n",
       "domestic_russia_2020          object\n",
       "international_russia_2020     object\n",
       "foreign_in_russia_2020       float64\n",
       "total_tour_packages_2021      object\n",
       "domestic_russia_2021          object\n",
       "international_russia_2021    float64\n",
       "foreign_in_russia_2021        object\n",
       "total_tour_packages_2022      object\n",
       "domestic_russia_2022          object\n",
       "international_russia_2022     object\n",
       "foreign_in_russia_2022       float64\n",
       "total_tour_packages_2023      object\n",
       "domestic_russia_2023          object\n",
       "international_russia_2023    float64\n",
       "foreign_in_russia_2023       float64\n",
       "dtype: object"
      ]
     },
     "execution_count": 97,
     "metadata": {},
     "output_type": "execute_result"
    }
   ],
   "source": [
    "df_tour_firm.dtypes"
   ]
  },
  {
   "cell_type": "code",
   "execution_count": 98,
   "id": "903e77aa",
   "metadata": {},
   "outputs": [
    {
     "data": {
      "text/plain": [
       "region                                          object\n",
       "total_tour_cost_million_2023                    object\n",
       "domestic_tour_package_cost_million_2023         object\n",
       "international_tour_package_cost_million_2023    object\n",
       "dtype: object"
      ]
     },
     "execution_count": 98,
     "metadata": {},
     "output_type": "execute_result"
    }
   ],
   "source": [
    "tour_cost_2023.dtypes"
   ]
  },
  {
   "cell_type": "markdown",
   "id": "8d25cd30",
   "metadata": {},
   "source": [
    "В 3-х датафреймах df_hotel, df_tour_firm и tour_cost_2023) есть объектные типы данных, которые нужно заменить на числовые."
   ]
  },
  {
   "cell_type": "code",
   "execution_count": 103,
   "id": "104bd486",
   "metadata": {},
   "outputs": [
    {
     "name": "stdout",
     "output_type": "stream",
     "text": [
      "<class 'pandas.core.frame.DataFrame'>\n",
      "RangeIndex: 81 entries, 0 to 80\n",
      "Data columns (total 37 columns):\n",
      " #   Column             Non-Null Count  Dtype \n",
      "---  ------             --------------  ----- \n",
      " 0   region             81 non-null     object\n",
      " 1   hotels_2018        81 non-null     int64 \n",
      " 2   hotels_2019        81 non-null     int64 \n",
      " 3   hotels_2020        81 non-null     int64 \n",
      " 4   hotels_2021        81 non-null     int64 \n",
      " 5   hotels_2022        81 non-null     int64 \n",
      " 6   hotels_2023        81 non-null     int64 \n",
      " 7   beds_hotels_2018   81 non-null     int64 \n",
      " 8   beds_hotels_2019   81 non-null     int64 \n",
      " 9   beds_hotels_2020   81 non-null     int64 \n",
      " 10  beds_hotels_2021   81 non-null     int64 \n",
      " 11  beds_hotels_2022   81 non-null     int64 \n",
      " 12  beds_hotels_2023   81 non-null     int64 \n",
      " 13  hostels_2018       81 non-null     int64 \n",
      " 14  hostels_2019       81 non-null     int64 \n",
      " 15  hostels_2020       81 non-null     int64 \n",
      " 16  hostels_2021       81 non-null     int64 \n",
      " 17  hostels_2022       81 non-null     int64 \n",
      " 18  hostels_2023       81 non-null     int64 \n",
      " 19  beds_hostels_2018  81 non-null     object\n",
      " 20  beds_hostels_2019  81 non-null     object\n",
      " 21  beds_hostels_2020  81 non-null     object\n",
      " 22  beds_hostels_2021  81 non-null     object\n",
      " 23  beds_hostels_2022  81 non-null     object\n",
      " 24  beds_hostels_2023  81 non-null     object\n",
      " 25  spa_orgs_2018      81 non-null     int64 \n",
      " 26  spa_orgs_2019      81 non-null     int64 \n",
      " 27  spa_orgs_2020      81 non-null     int64 \n",
      " 28  spa_orgs_2021      81 non-null     int64 \n",
      " 29  spa_orgs_2022      81 non-null     int64 \n",
      " 30  spa_orgs_2023      81 non-null     int64 \n",
      " 31  beds_spa_2018      81 non-null     object\n",
      " 32  beds_spa_2019      81 non-null     object\n",
      " 33  beds_spa_2020      81 non-null     object\n",
      " 34  beds_spa_2021      81 non-null     object\n",
      " 35  beds_spa_2022      81 non-null     object\n",
      " 36  beds_spa_2023      81 non-null     object\n",
      "dtypes: int64(24), object(13)\n",
      "memory usage: 23.5+ KB\n"
     ]
    },
    {
     "data": {
      "text/html": [
       "<div>\n",
       "<style scoped>\n",
       "    .dataframe tbody tr th:only-of-type {\n",
       "        vertical-align: middle;\n",
       "    }\n",
       "\n",
       "    .dataframe tbody tr th {\n",
       "        vertical-align: top;\n",
       "    }\n",
       "\n",
       "    .dataframe thead th {\n",
       "        text-align: right;\n",
       "    }\n",
       "</style>\n",
       "<table border=\"1\" class=\"dataframe\">\n",
       "  <thead>\n",
       "    <tr style=\"text-align: right;\">\n",
       "      <th></th>\n",
       "      <th>region</th>\n",
       "      <th>hotels_2018</th>\n",
       "      <th>hotels_2019</th>\n",
       "      <th>hotels_2020</th>\n",
       "      <th>hotels_2021</th>\n",
       "      <th>hotels_2022</th>\n",
       "      <th>hotels_2023</th>\n",
       "      <th>beds_hotels_2018</th>\n",
       "      <th>beds_hotels_2019</th>\n",
       "      <th>beds_hotels_2020</th>\n",
       "      <th>...</th>\n",
       "      <th>spa_orgs_2020</th>\n",
       "      <th>spa_orgs_2021</th>\n",
       "      <th>spa_orgs_2022</th>\n",
       "      <th>spa_orgs_2023</th>\n",
       "      <th>beds_spa_2018</th>\n",
       "      <th>beds_spa_2019</th>\n",
       "      <th>beds_spa_2020</th>\n",
       "      <th>beds_spa_2021</th>\n",
       "      <th>beds_spa_2022</th>\n",
       "      <th>beds_spa_2023</th>\n",
       "    </tr>\n",
       "  </thead>\n",
       "  <tbody>\n",
       "    <tr>\n",
       "      <th>0</th>\n",
       "      <td>Белгородская область</td>\n",
       "      <td>97</td>\n",
       "      <td>101</td>\n",
       "      <td>103</td>\n",
       "      <td>100</td>\n",
       "      <td>101</td>\n",
       "      <td>99</td>\n",
       "      <td>4753</td>\n",
       "      <td>5144</td>\n",
       "      <td>5390</td>\n",
       "      <td>...</td>\n",
       "      <td>11</td>\n",
       "      <td>11</td>\n",
       "      <td>11</td>\n",
       "      <td>11</td>\n",
       "      <td>1969</td>\n",
       "      <td>1938</td>\n",
       "      <td>1969</td>\n",
       "      <td>1969</td>\n",
       "      <td>2212</td>\n",
       "      <td>1999</td>\n",
       "    </tr>\n",
       "    <tr>\n",
       "      <th>1</th>\n",
       "      <td>Брянская область</td>\n",
       "      <td>74</td>\n",
       "      <td>78</td>\n",
       "      <td>86</td>\n",
       "      <td>92</td>\n",
       "      <td>91</td>\n",
       "      <td>93</td>\n",
       "      <td>3436</td>\n",
       "      <td>3507</td>\n",
       "      <td>3782</td>\n",
       "      <td>...</td>\n",
       "      <td>14</td>\n",
       "      <td>14</td>\n",
       "      <td>14</td>\n",
       "      <td>13</td>\n",
       "      <td>2953</td>\n",
       "      <td>2829</td>\n",
       "      <td>2430</td>\n",
       "      <td>2837</td>\n",
       "      <td>2672</td>\n",
       "      <td>2937</td>\n",
       "    </tr>\n",
       "    <tr>\n",
       "      <th>2</th>\n",
       "      <td>Владимирская область</td>\n",
       "      <td>100</td>\n",
       "      <td>100</td>\n",
       "      <td>114</td>\n",
       "      <td>119</td>\n",
       "      <td>121</td>\n",
       "      <td>125</td>\n",
       "      <td>7679</td>\n",
       "      <td>8059</td>\n",
       "      <td>8815</td>\n",
       "      <td>...</td>\n",
       "      <td>6</td>\n",
       "      <td>8</td>\n",
       "      <td>9</td>\n",
       "      <td>8</td>\n",
       "      <td>1220</td>\n",
       "      <td>1324</td>\n",
       "      <td>1205</td>\n",
       "      <td>1530</td>\n",
       "      <td>1542</td>\n",
       "      <td>1328</td>\n",
       "    </tr>\n",
       "    <tr>\n",
       "      <th>3</th>\n",
       "      <td>Воронежская область</td>\n",
       "      <td>141</td>\n",
       "      <td>147</td>\n",
       "      <td>151</td>\n",
       "      <td>163</td>\n",
       "      <td>170</td>\n",
       "      <td>179</td>\n",
       "      <td>9605</td>\n",
       "      <td>10419</td>\n",
       "      <td>10040</td>\n",
       "      <td>...</td>\n",
       "      <td>15</td>\n",
       "      <td>15</td>\n",
       "      <td>14</td>\n",
       "      <td>14</td>\n",
       "      <td>3241</td>\n",
       "      <td>3302</td>\n",
       "      <td>3320</td>\n",
       "      <td>3320</td>\n",
       "      <td>3243</td>\n",
       "      <td>3337</td>\n",
       "    </tr>\n",
       "    <tr>\n",
       "      <th>4</th>\n",
       "      <td>Ивановская область</td>\n",
       "      <td>48</td>\n",
       "      <td>52</td>\n",
       "      <td>55</td>\n",
       "      <td>74</td>\n",
       "      <td>64</td>\n",
       "      <td>59</td>\n",
       "      <td>2774</td>\n",
       "      <td>2998</td>\n",
       "      <td>3009</td>\n",
       "      <td>...</td>\n",
       "      <td>14</td>\n",
       "      <td>17</td>\n",
       "      <td>15</td>\n",
       "      <td>15</td>\n",
       "      <td>4347</td>\n",
       "      <td>4341</td>\n",
       "      <td>4485</td>\n",
       "      <td>4616</td>\n",
       "      <td>4396</td>\n",
       "      <td>4293</td>\n",
       "    </tr>\n",
       "  </tbody>\n",
       "</table>\n",
       "<p>5 rows × 37 columns</p>\n",
       "</div>"
      ],
      "text/plain": [
       "                 region  hotels_2018  hotels_2019  hotels_2020  hotels_2021  \\\n",
       "0  Белгородская область           97          101          103          100   \n",
       "1      Брянская область           74           78           86           92   \n",
       "2  Владимирская область          100          100          114          119   \n",
       "3   Воронежская область          141          147          151          163   \n",
       "4    Ивановская область           48           52           55           74   \n",
       "\n",
       "   hotels_2022  hotels_2023  beds_hotels_2018  beds_hotels_2019  \\\n",
       "0          101           99              4753              5144   \n",
       "1           91           93              3436              3507   \n",
       "2          121          125              7679              8059   \n",
       "3          170          179              9605             10419   \n",
       "4           64           59              2774              2998   \n",
       "\n",
       "   beds_hotels_2020  ...  spa_orgs_2020  spa_orgs_2021  spa_orgs_2022  \\\n",
       "0              5390  ...             11             11             11   \n",
       "1              3782  ...             14             14             14   \n",
       "2              8815  ...              6              8              9   \n",
       "3             10040  ...             15             15             14   \n",
       "4              3009  ...             14             17             15   \n",
       "\n",
       "   spa_orgs_2023  beds_spa_2018  beds_spa_2019  beds_spa_2020  beds_spa_2021  \\\n",
       "0             11           1969           1938           1969           1969   \n",
       "1             13           2953           2829           2430           2837   \n",
       "2              8           1220           1324           1205           1530   \n",
       "3             14           3241           3302           3320           3320   \n",
       "4             15           4347           4341           4485           4616   \n",
       "\n",
       "   beds_spa_2022 beds_spa_2023  \n",
       "0           2212          1999  \n",
       "1           2672          2937  \n",
       "2           1542          1328  \n",
       "3           3243          3337  \n",
       "4           4396          4293  \n",
       "\n",
       "[5 rows x 37 columns]"
      ]
     },
     "execution_count": 103,
     "metadata": {},
     "output_type": "execute_result"
    }
   ],
   "source": [
    "#Изучим сами данные:\n",
    "df_hotel.info()\n",
    "df_hotel.head()"
   ]
  },
  {
   "cell_type": "code",
   "execution_count": 104,
   "id": "4fdc3665",
   "metadata": {},
   "outputs": [
    {
     "name": "stdout",
     "output_type": "stream",
     "text": [
      "<class 'pandas.core.frame.DataFrame'>\n",
      "RangeIndex: 82 entries, 0 to 81\n",
      "Data columns (total 4 columns):\n",
      " #   Column               Non-Null Count  Dtype \n",
      "---  ------               --------------  ----- \n",
      " 0   region               82 non-null     object\n",
      " 1   total_guests_2023    82 non-null     int64 \n",
      " 2   russian_guests_2023  82 non-null     int64 \n",
      " 3   foreign_guests_2023  82 non-null     int64 \n",
      "dtypes: int64(3), object(1)\n",
      "memory usage: 2.7+ KB\n"
     ]
    },
    {
     "data": {
      "text/html": [
       "<div>\n",
       "<style scoped>\n",
       "    .dataframe tbody tr th:only-of-type {\n",
       "        vertical-align: middle;\n",
       "    }\n",
       "\n",
       "    .dataframe tbody tr th {\n",
       "        vertical-align: top;\n",
       "    }\n",
       "\n",
       "    .dataframe thead th {\n",
       "        text-align: right;\n",
       "    }\n",
       "</style>\n",
       "<table border=\"1\" class=\"dataframe\">\n",
       "  <thead>\n",
       "    <tr style=\"text-align: right;\">\n",
       "      <th></th>\n",
       "      <th>region</th>\n",
       "      <th>total_guests_2023</th>\n",
       "      <th>russian_guests_2023</th>\n",
       "      <th>foreign_guests_2023</th>\n",
       "    </tr>\n",
       "  </thead>\n",
       "  <tbody>\n",
       "    <tr>\n",
       "      <th>0</th>\n",
       "      <td>Белгородская область</td>\n",
       "      <td>180442</td>\n",
       "      <td>177536</td>\n",
       "      <td>2906</td>\n",
       "    </tr>\n",
       "    <tr>\n",
       "      <th>1</th>\n",
       "      <td>Брянская область</td>\n",
       "      <td>182217</td>\n",
       "      <td>173980</td>\n",
       "      <td>8237</td>\n",
       "    </tr>\n",
       "    <tr>\n",
       "      <th>2</th>\n",
       "      <td>Владимирская область</td>\n",
       "      <td>526768</td>\n",
       "      <td>517456</td>\n",
       "      <td>9312</td>\n",
       "    </tr>\n",
       "    <tr>\n",
       "      <th>3</th>\n",
       "      <td>Воронежская область</td>\n",
       "      <td>760489</td>\n",
       "      <td>732562</td>\n",
       "      <td>27927</td>\n",
       "    </tr>\n",
       "    <tr>\n",
       "      <th>4</th>\n",
       "      <td>Ивановская область</td>\n",
       "      <td>227632</td>\n",
       "      <td>225030</td>\n",
       "      <td>2602</td>\n",
       "    </tr>\n",
       "  </tbody>\n",
       "</table>\n",
       "</div>"
      ],
      "text/plain": [
       "                 region  total_guests_2023  russian_guests_2023  \\\n",
       "0  Белгородская область             180442               177536   \n",
       "1      Брянская область             182217               173980   \n",
       "2  Владимирская область             526768               517456   \n",
       "3   Воронежская область             760489               732562   \n",
       "4    Ивановская область             227632               225030   \n",
       "\n",
       "   foreign_guests_2023  \n",
       "0                 2906  \n",
       "1                 8237  \n",
       "2                 9312  \n",
       "3                27927  \n",
       "4                 2602  "
      ]
     },
     "execution_count": 104,
     "metadata": {},
     "output_type": "execute_result"
    }
   ],
   "source": [
    "df_count_person_hotel.info()\n",
    "df_count_person_hotel.head()"
   ]
  },
  {
   "cell_type": "code",
   "execution_count": 105,
   "id": "d1f25f23",
   "metadata": {},
   "outputs": [
    {
     "name": "stdout",
     "output_type": "stream",
     "text": [
      "<class 'pandas.core.frame.DataFrame'>\n",
      "RangeIndex: 82 entries, 0 to 81\n",
      "Data columns (total 25 columns):\n",
      " #   Column                     Non-Null Count  Dtype  \n",
      "---  ------                     --------------  -----  \n",
      " 0   region                     82 non-null     object \n",
      " 1   total_tour_packages_2018   82 non-null     object \n",
      " 2   domestic_russia_2018       82 non-null     object \n",
      " 3   international_russia_2018  81 non-null     object \n",
      " 4   foreign_in_russia_2018     62 non-null     float64\n",
      " 5   total_tour_packages_2019   82 non-null     object \n",
      " 6   domestic_russia_2019       82 non-null     object \n",
      " 7   international_russia_2019  82 non-null     object \n",
      " 8   foreign_in_russia_2019     63 non-null     object \n",
      " 9   total_tour_packages_2020   82 non-null     object \n",
      " 10  domestic_russia_2020       82 non-null     object \n",
      " 11  international_russia_2020  82 non-null     object \n",
      " 12  foreign_in_russia_2020     43 non-null     float64\n",
      " 13  total_tour_packages_2021   81 non-null     object \n",
      " 14  domestic_russia_2021       81 non-null     object \n",
      " 15  international_russia_2021  80 non-null     float64\n",
      " 16  foreign_in_russia_2021     45 non-null     object \n",
      " 17  total_tour_packages_2022   82 non-null     object \n",
      " 18  domestic_russia_2022       82 non-null     object \n",
      " 19  international_russia_2022  81 non-null     object \n",
      " 20  foreign_in_russia_2022     42 non-null     float64\n",
      " 21  total_tour_packages_2023   82 non-null     object \n",
      " 22  domestic_russia_2023       82 non-null     object \n",
      " 23  international_russia_2023  81 non-null     float64\n",
      " 24  foreign_in_russia_2023     43 non-null     float64\n",
      "dtypes: float64(6), object(19)\n",
      "memory usage: 16.1+ KB\n"
     ]
    },
    {
     "data": {
      "text/html": [
       "<div>\n",
       "<style scoped>\n",
       "    .dataframe tbody tr th:only-of-type {\n",
       "        vertical-align: middle;\n",
       "    }\n",
       "\n",
       "    .dataframe tbody tr th {\n",
       "        vertical-align: top;\n",
       "    }\n",
       "\n",
       "    .dataframe thead th {\n",
       "        text-align: right;\n",
       "    }\n",
       "</style>\n",
       "<table border=\"1\" class=\"dataframe\">\n",
       "  <thead>\n",
       "    <tr style=\"text-align: right;\">\n",
       "      <th></th>\n",
       "      <th>region</th>\n",
       "      <th>total_tour_packages_2018</th>\n",
       "      <th>domestic_russia_2018</th>\n",
       "      <th>international_russia_2018</th>\n",
       "      <th>foreign_in_russia_2018</th>\n",
       "      <th>total_tour_packages_2019</th>\n",
       "      <th>domestic_russia_2019</th>\n",
       "      <th>international_russia_2019</th>\n",
       "      <th>foreign_in_russia_2019</th>\n",
       "      <th>total_tour_packages_2020</th>\n",
       "      <th>...</th>\n",
       "      <th>international_russia_2021</th>\n",
       "      <th>foreign_in_russia_2021</th>\n",
       "      <th>total_tour_packages_2022</th>\n",
       "      <th>domestic_russia_2022</th>\n",
       "      <th>international_russia_2022</th>\n",
       "      <th>foreign_in_russia_2022</th>\n",
       "      <th>total_tour_packages_2023</th>\n",
       "      <th>domestic_russia_2023</th>\n",
       "      <th>international_russia_2023</th>\n",
       "      <th>foreign_in_russia_2023</th>\n",
       "    </tr>\n",
       "  </thead>\n",
       "  <tbody>\n",
       "    <tr>\n",
       "      <th>0</th>\n",
       "      <td>Белгородская область</td>\n",
       "      <td>14138</td>\n",
       "      <td>4333</td>\n",
       "      <td>9805</td>\n",
       "      <td>NaN</td>\n",
       "      <td>20646</td>\n",
       "      <td>4772</td>\n",
       "      <td>15874</td>\n",
       "      <td>NaN</td>\n",
       "      <td>9694</td>\n",
       "      <td>...</td>\n",
       "      <td>9239.0</td>\n",
       "      <td>NaN</td>\n",
       "      <td>15222</td>\n",
       "      <td>8887</td>\n",
       "      <td>6165</td>\n",
       "      <td>170.0</td>\n",
       "      <td>17733</td>\n",
       "      <td>11803</td>\n",
       "      <td>5930.0</td>\n",
       "      <td>NaN</td>\n",
       "    </tr>\n",
       "    <tr>\n",
       "      <th>1</th>\n",
       "      <td>Брянская область</td>\n",
       "      <td>9444</td>\n",
       "      <td>4438</td>\n",
       "      <td>5004</td>\n",
       "      <td>2.0</td>\n",
       "      <td>10459</td>\n",
       "      <td>4966</td>\n",
       "      <td>5492</td>\n",
       "      <td>1</td>\n",
       "      <td>3435</td>\n",
       "      <td>...</td>\n",
       "      <td>3479.0</td>\n",
       "      <td>NaN</td>\n",
       "      <td>11591</td>\n",
       "      <td>8265</td>\n",
       "      <td>3326</td>\n",
       "      <td>NaN</td>\n",
       "      <td>10165</td>\n",
       "      <td>5377</td>\n",
       "      <td>4788.0</td>\n",
       "      <td>NaN</td>\n",
       "    </tr>\n",
       "    <tr>\n",
       "      <th>2</th>\n",
       "      <td>Владимирская область</td>\n",
       "      <td>23900</td>\n",
       "      <td>12294</td>\n",
       "      <td>11243</td>\n",
       "      <td>363.0</td>\n",
       "      <td>23065</td>\n",
       "      <td>11558</td>\n",
       "      <td>10394</td>\n",
       "      <td>1113</td>\n",
       "      <td>7334</td>\n",
       "      <td>...</td>\n",
       "      <td>6426.0</td>\n",
       "      <td>7</td>\n",
       "      <td>18288</td>\n",
       "      <td>11359</td>\n",
       "      <td>6924</td>\n",
       "      <td>5.0</td>\n",
       "      <td>22334</td>\n",
       "      <td>13588</td>\n",
       "      <td>8737.0</td>\n",
       "      <td>9.0</td>\n",
       "    </tr>\n",
       "    <tr>\n",
       "      <th>3</th>\n",
       "      <td>Воронежская область</td>\n",
       "      <td>14554</td>\n",
       "      <td>8124</td>\n",
       "      <td>6430</td>\n",
       "      <td>NaN</td>\n",
       "      <td>14464</td>\n",
       "      <td>4613</td>\n",
       "      <td>9851</td>\n",
       "      <td>NaN</td>\n",
       "      <td>6681</td>\n",
       "      <td>...</td>\n",
       "      <td>7923.0</td>\n",
       "      <td>NaN</td>\n",
       "      <td>20958</td>\n",
       "      <td>13608</td>\n",
       "      <td>7350</td>\n",
       "      <td>NaN</td>\n",
       "      <td>24993</td>\n",
       "      <td>14781</td>\n",
       "      <td>10212.0</td>\n",
       "      <td>NaN</td>\n",
       "    </tr>\n",
       "    <tr>\n",
       "      <th>4</th>\n",
       "      <td>Ивановская область</td>\n",
       "      <td>17049</td>\n",
       "      <td>6592</td>\n",
       "      <td>10457</td>\n",
       "      <td>NaN</td>\n",
       "      <td>17019</td>\n",
       "      <td>8327</td>\n",
       "      <td>8692</td>\n",
       "      <td>NaN</td>\n",
       "      <td>6477</td>\n",
       "      <td>...</td>\n",
       "      <td>4445.0</td>\n",
       "      <td>NaN</td>\n",
       "      <td>13637</td>\n",
       "      <td>8575</td>\n",
       "      <td>5062</td>\n",
       "      <td>NaN</td>\n",
       "      <td>18904</td>\n",
       "      <td>11002</td>\n",
       "      <td>7902.0</td>\n",
       "      <td>NaN</td>\n",
       "    </tr>\n",
       "  </tbody>\n",
       "</table>\n",
       "<p>5 rows × 25 columns</p>\n",
       "</div>"
      ],
      "text/plain": [
       "                 region total_tour_packages_2018 domestic_russia_2018  \\\n",
       "0  Белгородская область                    14138                 4333   \n",
       "1      Брянская область                     9444                 4438   \n",
       "2  Владимирская область                    23900                12294   \n",
       "3   Воронежская область                    14554                 8124   \n",
       "4    Ивановская область                    17049                 6592   \n",
       "\n",
       "  international_russia_2018  foreign_in_russia_2018 total_tour_packages_2019  \\\n",
       "0                      9805                     NaN                    20646   \n",
       "1                      5004                     2.0                    10459   \n",
       "2                     11243                   363.0                    23065   \n",
       "3                      6430                     NaN                    14464   \n",
       "4                     10457                     NaN                    17019   \n",
       "\n",
       "  domestic_russia_2019 international_russia_2019 foreign_in_russia_2019  \\\n",
       "0                 4772                     15874                    NaN   \n",
       "1                 4966                      5492                      1   \n",
       "2                11558                     10394                   1113   \n",
       "3                 4613                      9851                    NaN   \n",
       "4                 8327                      8692                    NaN   \n",
       "\n",
       "  total_tour_packages_2020  ... international_russia_2021  \\\n",
       "0                     9694  ...                    9239.0   \n",
       "1                     3435  ...                    3479.0   \n",
       "2                     7334  ...                    6426.0   \n",
       "3                     6681  ...                    7923.0   \n",
       "4                     6477  ...                    4445.0   \n",
       "\n",
       "  foreign_in_russia_2021  total_tour_packages_2022 domestic_russia_2022  \\\n",
       "0                    NaN                     15222                 8887   \n",
       "1                    NaN                     11591                 8265   \n",
       "2                      7                     18288                11359   \n",
       "3                    NaN                     20958                13608   \n",
       "4                    NaN                     13637                 8575   \n",
       "\n",
       "  international_russia_2022  foreign_in_russia_2022 total_tour_packages_2023  \\\n",
       "0                      6165                   170.0                    17733   \n",
       "1                      3326                     NaN                    10165   \n",
       "2                      6924                     5.0                    22334   \n",
       "3                      7350                     NaN                    24993   \n",
       "4                      5062                     NaN                    18904   \n",
       "\n",
       "  domestic_russia_2023 international_russia_2023 foreign_in_russia_2023  \n",
       "0                11803                    5930.0                    NaN  \n",
       "1                 5377                    4788.0                    NaN  \n",
       "2                13588                    8737.0                    9.0  \n",
       "3                14781                   10212.0                    NaN  \n",
       "4                11002                    7902.0                    NaN  \n",
       "\n",
       "[5 rows x 25 columns]"
      ]
     },
     "execution_count": 105,
     "metadata": {},
     "output_type": "execute_result"
    }
   ],
   "source": [
    "df_tour_firm.info()\n",
    "df_tour_firm.head()"
   ]
  },
  {
   "cell_type": "code",
   "execution_count": 106,
   "id": "759b5302",
   "metadata": {},
   "outputs": [
    {
     "name": "stdout",
     "output_type": "stream",
     "text": [
      "<class 'pandas.core.frame.DataFrame'>\n",
      "RangeIndex: 87 entries, 0 to 86\n",
      "Data columns (total 4 columns):\n",
      " #   Column                                        Non-Null Count  Dtype \n",
      "---  ------                                        --------------  ----- \n",
      " 0   region                                        87 non-null     object\n",
      " 1   total_tour_cost_million_2023                  87 non-null     object\n",
      " 2   domestic_tour_package_cost_million_2023       87 non-null     object\n",
      " 3   international_tour_package_cost_million_2023  87 non-null     object\n",
      "dtypes: object(4)\n",
      "memory usage: 2.8+ KB\n"
     ]
    },
    {
     "data": {
      "text/html": [
       "<div>\n",
       "<style scoped>\n",
       "    .dataframe tbody tr th:only-of-type {\n",
       "        vertical-align: middle;\n",
       "    }\n",
       "\n",
       "    .dataframe tbody tr th {\n",
       "        vertical-align: top;\n",
       "    }\n",
       "\n",
       "    .dataframe thead th {\n",
       "        text-align: right;\n",
       "    }\n",
       "</style>\n",
       "<table border=\"1\" class=\"dataframe\">\n",
       "  <thead>\n",
       "    <tr style=\"text-align: right;\">\n",
       "      <th></th>\n",
       "      <th>region</th>\n",
       "      <th>total_tour_cost_million_2023</th>\n",
       "      <th>domestic_tour_package_cost_million_2023</th>\n",
       "      <th>international_tour_package_cost_million_2023</th>\n",
       "    </tr>\n",
       "  </thead>\n",
       "  <tbody>\n",
       "    <tr>\n",
       "      <th>0</th>\n",
       "      <td>Белгородская область</td>\n",
       "      <td>1731.9856000000002</td>\n",
       "      <td>451.745</td>\n",
       "      <td>1280.2406</td>\n",
       "    </tr>\n",
       "    <tr>\n",
       "      <th>1</th>\n",
       "      <td>Брянская область</td>\n",
       "      <td>1409.2361</td>\n",
       "      <td>455.8798</td>\n",
       "      <td>953.3563</td>\n",
       "    </tr>\n",
       "    <tr>\n",
       "      <th>2</th>\n",
       "      <td>Владимирская область</td>\n",
       "      <td>2619.7022</td>\n",
       "      <td>912.2325</td>\n",
       "      <td>1706.2733999999998</td>\n",
       "    </tr>\n",
       "    <tr>\n",
       "      <th>3</th>\n",
       "      <td>Воронежская область</td>\n",
       "      <td>2877.2381</td>\n",
       "      <td>688.3641</td>\n",
       "      <td>2188.874</td>\n",
       "    </tr>\n",
       "    <tr>\n",
       "      <th>4</th>\n",
       "      <td>Ивановская область</td>\n",
       "      <td>1906.7206999999999</td>\n",
       "      <td>612.5177</td>\n",
       "      <td>1294.203</td>\n",
       "    </tr>\n",
       "  </tbody>\n",
       "</table>\n",
       "</div>"
      ],
      "text/plain": [
       "                 region total_tour_cost_million_2023  \\\n",
       "0  Белгородская область           1731.9856000000002   \n",
       "1      Брянская область                    1409.2361   \n",
       "2  Владимирская область                    2619.7022   \n",
       "3   Воронежская область                    2877.2381   \n",
       "4    Ивановская область           1906.7206999999999   \n",
       "\n",
       "  domestic_tour_package_cost_million_2023  \\\n",
       "0                                 451.745   \n",
       "1                                455.8798   \n",
       "2                                912.2325   \n",
       "3                                688.3641   \n",
       "4                                612.5177   \n",
       "\n",
       "  international_tour_package_cost_million_2023  \n",
       "0                                    1280.2406  \n",
       "1                                     953.3563  \n",
       "2                           1706.2733999999998  \n",
       "3                                     2188.874  \n",
       "4                                     1294.203  "
      ]
     },
     "execution_count": 106,
     "metadata": {},
     "output_type": "execute_result"
    }
   ],
   "source": [
    "tour_cost_2023.info()\n",
    "tour_cost_2023.head()"
   ]
  },
  {
   "cell_type": "markdown",
   "id": "9114bab3",
   "metadata": {},
   "source": [
    "Значение '…1' в датафреймах df_hotel и df_tour_firm не позволяет интерпретировать данные как числа. В дальнейшем заменим '…1' на 0 в этих датафреймах. Для этого воспользуемся df.replace(<значение, которое заменяем>, <значение, на которое заменяем>)."
   ]
  },
  {
   "cell_type": "code",
   "execution_count": 114,
   "id": "784993b8",
   "metadata": {},
   "outputs": [
    {
     "data": {
      "text/plain": [
       "region               0\n",
       "hotels_2018          0\n",
       "hotels_2019          0\n",
       "hotels_2020          0\n",
       "hotels_2021          0\n",
       "hotels_2022          0\n",
       "hotels_2023          0\n",
       "beds_hotels_2018     0\n",
       "beds_hotels_2019     0\n",
       "beds_hotels_2020     0\n",
       "beds_hotels_2021     0\n",
       "beds_hotels_2022     0\n",
       "beds_hotels_2023     0\n",
       "hostels_2018         0\n",
       "hostels_2019         0\n",
       "hostels_2020         0\n",
       "hostels_2021         0\n",
       "hostels_2022         0\n",
       "hostels_2023         0\n",
       "beds_hostels_2018    0\n",
       "beds_hostels_2019    0\n",
       "beds_hostels_2020    0\n",
       "beds_hostels_2021    0\n",
       "beds_hostels_2022    0\n",
       "beds_hostels_2023    0\n",
       "spa_orgs_2018        0\n",
       "spa_orgs_2019        0\n",
       "spa_orgs_2020        0\n",
       "spa_orgs_2021        0\n",
       "spa_orgs_2022        0\n",
       "spa_orgs_2023        0\n",
       "beds_spa_2018        0\n",
       "beds_spa_2019        0\n",
       "beds_spa_2020        0\n",
       "beds_spa_2021        0\n",
       "beds_spa_2022        0\n",
       "beds_spa_2023        0\n",
       "dtype: int64"
      ]
     },
     "execution_count": 114,
     "metadata": {},
     "output_type": "execute_result"
    }
   ],
   "source": [
    "#Изучим пропуски во всех датафреймах:\n",
    "df_hotel.isnull().sum()"
   ]
  },
  {
   "cell_type": "code",
   "execution_count": 115,
   "id": "4270a904",
   "metadata": {},
   "outputs": [
    {
     "data": {
      "text/plain": [
       "region                 0\n",
       "total_guests_2023      0\n",
       "russian_guests_2023    0\n",
       "foreign_guests_2023    0\n",
       "dtype: int64"
      ]
     },
     "execution_count": 115,
     "metadata": {},
     "output_type": "execute_result"
    }
   ],
   "source": [
    "df_count_person_hotel.isnull().sum()"
   ]
  },
  {
   "cell_type": "code",
   "execution_count": 116,
   "id": "95863143",
   "metadata": {},
   "outputs": [
    {
     "data": {
      "text/plain": [
       "region                        0\n",
       "total_tour_packages_2018      0\n",
       "domestic_russia_2018          0\n",
       "international_russia_2018     1\n",
       "foreign_in_russia_2018       20\n",
       "total_tour_packages_2019      0\n",
       "domestic_russia_2019          0\n",
       "international_russia_2019     0\n",
       "foreign_in_russia_2019       19\n",
       "total_tour_packages_2020      0\n",
       "domestic_russia_2020          0\n",
       "international_russia_2020     0\n",
       "foreign_in_russia_2020       39\n",
       "total_tour_packages_2021      1\n",
       "domestic_russia_2021          1\n",
       "international_russia_2021     2\n",
       "foreign_in_russia_2021       37\n",
       "total_tour_packages_2022      0\n",
       "domestic_russia_2022          0\n",
       "international_russia_2022     1\n",
       "foreign_in_russia_2022       40\n",
       "total_tour_packages_2023      0\n",
       "domestic_russia_2023          0\n",
       "international_russia_2023     1\n",
       "foreign_in_russia_2023       39\n",
       "dtype: int64"
      ]
     },
     "execution_count": 116,
     "metadata": {},
     "output_type": "execute_result"
    }
   ],
   "source": [
    "df_tour_firm.isnull().sum()"
   ]
  },
  {
   "cell_type": "code",
   "execution_count": 117,
   "id": "36fc97b7",
   "metadata": {},
   "outputs": [
    {
     "data": {
      "text/plain": [
       "region                                          0\n",
       "total_tour_cost_million_2023                    0\n",
       "domestic_tour_package_cost_million_2023         0\n",
       "international_tour_package_cost_million_2023    0\n",
       "dtype: int64"
      ]
     },
     "execution_count": 117,
     "metadata": {},
     "output_type": "execute_result"
    }
   ],
   "source": [
    "tour_cost_2023.isnull().sum()"
   ]
  },
  {
   "cell_type": "markdown",
   "id": "f1c74fcc",
   "metadata": {},
   "source": [
    "Пропуски есть только в датафрейме df_tour_firm, но их немного. Скорее всего они связаны с отсутствием данных в этих категориях. Заменим пропуски на нули."
   ]
  },
  {
   "cell_type": "code",
   "execution_count": 118,
   "id": "9ed65844",
   "metadata": {},
   "outputs": [
    {
     "data": {
      "text/html": [
       "<div>\n",
       "<style scoped>\n",
       "    .dataframe tbody tr th:only-of-type {\n",
       "        vertical-align: middle;\n",
       "    }\n",
       "\n",
       "    .dataframe tbody tr th {\n",
       "        vertical-align: top;\n",
       "    }\n",
       "\n",
       "    .dataframe thead th {\n",
       "        text-align: right;\n",
       "    }\n",
       "</style>\n",
       "<table border=\"1\" class=\"dataframe\">\n",
       "  <thead>\n",
       "    <tr style=\"text-align: right;\">\n",
       "      <th></th>\n",
       "      <th>region</th>\n",
       "      <th>total_tour_packages_2018</th>\n",
       "      <th>domestic_russia_2018</th>\n",
       "      <th>international_russia_2018</th>\n",
       "      <th>foreign_in_russia_2018</th>\n",
       "      <th>total_tour_packages_2019</th>\n",
       "      <th>domestic_russia_2019</th>\n",
       "      <th>international_russia_2019</th>\n",
       "      <th>foreign_in_russia_2019</th>\n",
       "      <th>total_tour_packages_2020</th>\n",
       "      <th>...</th>\n",
       "      <th>international_russia_2021</th>\n",
       "      <th>foreign_in_russia_2021</th>\n",
       "      <th>total_tour_packages_2022</th>\n",
       "      <th>domestic_russia_2022</th>\n",
       "      <th>international_russia_2022</th>\n",
       "      <th>foreign_in_russia_2022</th>\n",
       "      <th>total_tour_packages_2023</th>\n",
       "      <th>domestic_russia_2023</th>\n",
       "      <th>international_russia_2023</th>\n",
       "      <th>foreign_in_russia_2023</th>\n",
       "    </tr>\n",
       "  </thead>\n",
       "  <tbody>\n",
       "    <tr>\n",
       "      <th>0</th>\n",
       "      <td>Белгородская область</td>\n",
       "      <td>14138</td>\n",
       "      <td>4333</td>\n",
       "      <td>9805</td>\n",
       "      <td>0.0</td>\n",
       "      <td>20646</td>\n",
       "      <td>4772</td>\n",
       "      <td>15874</td>\n",
       "      <td>0</td>\n",
       "      <td>9694</td>\n",
       "      <td>...</td>\n",
       "      <td>9239.0</td>\n",
       "      <td>0</td>\n",
       "      <td>15222</td>\n",
       "      <td>8887</td>\n",
       "      <td>6165</td>\n",
       "      <td>170.0</td>\n",
       "      <td>17733</td>\n",
       "      <td>11803</td>\n",
       "      <td>5930.0</td>\n",
       "      <td>0.0</td>\n",
       "    </tr>\n",
       "    <tr>\n",
       "      <th>1</th>\n",
       "      <td>Брянская область</td>\n",
       "      <td>9444</td>\n",
       "      <td>4438</td>\n",
       "      <td>5004</td>\n",
       "      <td>2.0</td>\n",
       "      <td>10459</td>\n",
       "      <td>4966</td>\n",
       "      <td>5492</td>\n",
       "      <td>1</td>\n",
       "      <td>3435</td>\n",
       "      <td>...</td>\n",
       "      <td>3479.0</td>\n",
       "      <td>0</td>\n",
       "      <td>11591</td>\n",
       "      <td>8265</td>\n",
       "      <td>3326</td>\n",
       "      <td>0.0</td>\n",
       "      <td>10165</td>\n",
       "      <td>5377</td>\n",
       "      <td>4788.0</td>\n",
       "      <td>0.0</td>\n",
       "    </tr>\n",
       "    <tr>\n",
       "      <th>2</th>\n",
       "      <td>Владимирская область</td>\n",
       "      <td>23900</td>\n",
       "      <td>12294</td>\n",
       "      <td>11243</td>\n",
       "      <td>363.0</td>\n",
       "      <td>23065</td>\n",
       "      <td>11558</td>\n",
       "      <td>10394</td>\n",
       "      <td>1113</td>\n",
       "      <td>7334</td>\n",
       "      <td>...</td>\n",
       "      <td>6426.0</td>\n",
       "      <td>7</td>\n",
       "      <td>18288</td>\n",
       "      <td>11359</td>\n",
       "      <td>6924</td>\n",
       "      <td>5.0</td>\n",
       "      <td>22334</td>\n",
       "      <td>13588</td>\n",
       "      <td>8737.0</td>\n",
       "      <td>9.0</td>\n",
       "    </tr>\n",
       "    <tr>\n",
       "      <th>3</th>\n",
       "      <td>Воронежская область</td>\n",
       "      <td>14554</td>\n",
       "      <td>8124</td>\n",
       "      <td>6430</td>\n",
       "      <td>0.0</td>\n",
       "      <td>14464</td>\n",
       "      <td>4613</td>\n",
       "      <td>9851</td>\n",
       "      <td>0</td>\n",
       "      <td>6681</td>\n",
       "      <td>...</td>\n",
       "      <td>7923.0</td>\n",
       "      <td>0</td>\n",
       "      <td>20958</td>\n",
       "      <td>13608</td>\n",
       "      <td>7350</td>\n",
       "      <td>0.0</td>\n",
       "      <td>24993</td>\n",
       "      <td>14781</td>\n",
       "      <td>10212.0</td>\n",
       "      <td>0.0</td>\n",
       "    </tr>\n",
       "    <tr>\n",
       "      <th>4</th>\n",
       "      <td>Ивановская область</td>\n",
       "      <td>17049</td>\n",
       "      <td>6592</td>\n",
       "      <td>10457</td>\n",
       "      <td>0.0</td>\n",
       "      <td>17019</td>\n",
       "      <td>8327</td>\n",
       "      <td>8692</td>\n",
       "      <td>0</td>\n",
       "      <td>6477</td>\n",
       "      <td>...</td>\n",
       "      <td>4445.0</td>\n",
       "      <td>0</td>\n",
       "      <td>13637</td>\n",
       "      <td>8575</td>\n",
       "      <td>5062</td>\n",
       "      <td>0.0</td>\n",
       "      <td>18904</td>\n",
       "      <td>11002</td>\n",
       "      <td>7902.0</td>\n",
       "      <td>0.0</td>\n",
       "    </tr>\n",
       "    <tr>\n",
       "      <th>...</th>\n",
       "      <td>...</td>\n",
       "      <td>...</td>\n",
       "      <td>...</td>\n",
       "      <td>...</td>\n",
       "      <td>...</td>\n",
       "      <td>...</td>\n",
       "      <td>...</td>\n",
       "      <td>...</td>\n",
       "      <td>...</td>\n",
       "      <td>...</td>\n",
       "      <td>...</td>\n",
       "      <td>...</td>\n",
       "      <td>...</td>\n",
       "      <td>...</td>\n",
       "      <td>...</td>\n",
       "      <td>...</td>\n",
       "      <td>...</td>\n",
       "      <td>...</td>\n",
       "      <td>...</td>\n",
       "      <td>...</td>\n",
       "      <td>...</td>\n",
       "    </tr>\n",
       "    <tr>\n",
       "      <th>77</th>\n",
       "      <td>Амурская область</td>\n",
       "      <td>55028</td>\n",
       "      <td>1505</td>\n",
       "      <td>19161</td>\n",
       "      <td>34362.0</td>\n",
       "      <td>44717</td>\n",
       "      <td>1762</td>\n",
       "      <td>16686</td>\n",
       "      <td>26269</td>\n",
       "      <td>4228</td>\n",
       "      <td>...</td>\n",
       "      <td>2368.0</td>\n",
       "      <td>0</td>\n",
       "      <td>6966</td>\n",
       "      <td>2972</td>\n",
       "      <td>3994</td>\n",
       "      <td>0.0</td>\n",
       "      <td>16607</td>\n",
       "      <td>2963</td>\n",
       "      <td>12771.0</td>\n",
       "      <td>873.0</td>\n",
       "    </tr>\n",
       "    <tr>\n",
       "      <th>78</th>\n",
       "      <td>Магаданская область</td>\n",
       "      <td>2832</td>\n",
       "      <td>275</td>\n",
       "      <td>2555</td>\n",
       "      <td>2.0</td>\n",
       "      <td>3103</td>\n",
       "      <td>263</td>\n",
       "      <td>2820</td>\n",
       "      <td>20</td>\n",
       "      <td>646</td>\n",
       "      <td>...</td>\n",
       "      <td>714.0</td>\n",
       "      <td>0</td>\n",
       "      <td>1007</td>\n",
       "      <td>162</td>\n",
       "      <td>845</td>\n",
       "      <td>0.0</td>\n",
       "      <td>900</td>\n",
       "      <td>157</td>\n",
       "      <td>742.0</td>\n",
       "      <td>1.0</td>\n",
       "    </tr>\n",
       "    <tr>\n",
       "      <th>79</th>\n",
       "      <td>Сахалинская область</td>\n",
       "      <td>8455</td>\n",
       "      <td>663</td>\n",
       "      <td>6641</td>\n",
       "      <td>1151.0</td>\n",
       "      <td>15464</td>\n",
       "      <td>846</td>\n",
       "      <td>11203</td>\n",
       "      <td>3415</td>\n",
       "      <td>3411</td>\n",
       "      <td>...</td>\n",
       "      <td>1709.0</td>\n",
       "      <td>18</td>\n",
       "      <td>5522</td>\n",
       "      <td>3883</td>\n",
       "      <td>1634</td>\n",
       "      <td>5.0</td>\n",
       "      <td>9386</td>\n",
       "      <td>6773</td>\n",
       "      <td>2607.0</td>\n",
       "      <td>6.0</td>\n",
       "    </tr>\n",
       "    <tr>\n",
       "      <th>80</th>\n",
       "      <td>Еврейская автономная область</td>\n",
       "      <td>0</td>\n",
       "      <td>0</td>\n",
       "      <td>0</td>\n",
       "      <td>636.0</td>\n",
       "      <td>0</td>\n",
       "      <td>0</td>\n",
       "      <td>0</td>\n",
       "      <td>0</td>\n",
       "      <td>0</td>\n",
       "      <td>...</td>\n",
       "      <td>424.0</td>\n",
       "      <td>0</td>\n",
       "      <td>0</td>\n",
       "      <td>0</td>\n",
       "      <td>276</td>\n",
       "      <td>0.0</td>\n",
       "      <td>0</td>\n",
       "      <td>0</td>\n",
       "      <td>439.0</td>\n",
       "      <td>0.0</td>\n",
       "    </tr>\n",
       "    <tr>\n",
       "      <th>81</th>\n",
       "      <td>Чукотский автономный округ</td>\n",
       "      <td>0</td>\n",
       "      <td>0</td>\n",
       "      <td>0</td>\n",
       "      <td>0.0</td>\n",
       "      <td>0</td>\n",
       "      <td>0</td>\n",
       "      <td>0</td>\n",
       "      <td>0</td>\n",
       "      <td>0</td>\n",
       "      <td>...</td>\n",
       "      <td>0.0</td>\n",
       "      <td>0</td>\n",
       "      <td>0</td>\n",
       "      <td>0</td>\n",
       "      <td>0</td>\n",
       "      <td>0.0</td>\n",
       "      <td>0</td>\n",
       "      <td>0</td>\n",
       "      <td>0.0</td>\n",
       "      <td>0.0</td>\n",
       "    </tr>\n",
       "  </tbody>\n",
       "</table>\n",
       "<p>82 rows × 25 columns</p>\n",
       "</div>"
      ],
      "text/plain": [
       "                          region total_tour_packages_2018  \\\n",
       "0           Белгородская область                    14138   \n",
       "1               Брянская область                     9444   \n",
       "2           Владимирская область                    23900   \n",
       "3            Воронежская область                    14554   \n",
       "4             Ивановская область                    17049   \n",
       "..                           ...                      ...   \n",
       "77              Амурская область                    55028   \n",
       "78           Магаданская область                     2832   \n",
       "79           Сахалинская область                     8455   \n",
       "80  Еврейская автономная область                        0   \n",
       "81    Чукотский автономный округ                        0   \n",
       "\n",
       "   domestic_russia_2018 international_russia_2018  foreign_in_russia_2018  \\\n",
       "0                  4333                      9805                     0.0   \n",
       "1                  4438                      5004                     2.0   \n",
       "2                 12294                     11243                   363.0   \n",
       "3                  8124                      6430                     0.0   \n",
       "4                  6592                     10457                     0.0   \n",
       "..                  ...                       ...                     ...   \n",
       "77                 1505                     19161                 34362.0   \n",
       "78                  275                      2555                     2.0   \n",
       "79                  663                      6641                  1151.0   \n",
       "80                    0                         0                   636.0   \n",
       "81                    0                         0                     0.0   \n",
       "\n",
       "   total_tour_packages_2019 domestic_russia_2019 international_russia_2019  \\\n",
       "0                     20646                 4772                     15874   \n",
       "1                     10459                 4966                      5492   \n",
       "2                     23065                11558                     10394   \n",
       "3                     14464                 4613                      9851   \n",
       "4                     17019                 8327                      8692   \n",
       "..                      ...                  ...                       ...   \n",
       "77                    44717                 1762                     16686   \n",
       "78                     3103                  263                      2820   \n",
       "79                    15464                  846                     11203   \n",
       "80                        0                    0                         0   \n",
       "81                        0                    0                         0   \n",
       "\n",
       "   foreign_in_russia_2019 total_tour_packages_2020  ...  \\\n",
       "0                       0                     9694  ...   \n",
       "1                       1                     3435  ...   \n",
       "2                    1113                     7334  ...   \n",
       "3                       0                     6681  ...   \n",
       "4                       0                     6477  ...   \n",
       "..                    ...                      ...  ...   \n",
       "77                  26269                     4228  ...   \n",
       "78                     20                      646  ...   \n",
       "79                   3415                     3411  ...   \n",
       "80                      0                        0  ...   \n",
       "81                      0                        0  ...   \n",
       "\n",
       "   international_russia_2021 foreign_in_russia_2021  total_tour_packages_2022  \\\n",
       "0                     9239.0                      0                     15222   \n",
       "1                     3479.0                      0                     11591   \n",
       "2                     6426.0                      7                     18288   \n",
       "3                     7923.0                      0                     20958   \n",
       "4                     4445.0                      0                     13637   \n",
       "..                       ...                    ...                       ...   \n",
       "77                    2368.0                      0                      6966   \n",
       "78                     714.0                      0                      1007   \n",
       "79                    1709.0                     18                      5522   \n",
       "80                     424.0                      0                         0   \n",
       "81                       0.0                      0                         0   \n",
       "\n",
       "   domestic_russia_2022 international_russia_2022  foreign_in_russia_2022  \\\n",
       "0                  8887                      6165                   170.0   \n",
       "1                  8265                      3326                     0.0   \n",
       "2                 11359                      6924                     5.0   \n",
       "3                 13608                      7350                     0.0   \n",
       "4                  8575                      5062                     0.0   \n",
       "..                  ...                       ...                     ...   \n",
       "77                 2972                      3994                     0.0   \n",
       "78                  162                       845                     0.0   \n",
       "79                 3883                      1634                     5.0   \n",
       "80                    0                       276                     0.0   \n",
       "81                    0                         0                     0.0   \n",
       "\n",
       "   total_tour_packages_2023 domestic_russia_2023 international_russia_2023  \\\n",
       "0                     17733                11803                    5930.0   \n",
       "1                     10165                 5377                    4788.0   \n",
       "2                     22334                13588                    8737.0   \n",
       "3                     24993                14781                   10212.0   \n",
       "4                     18904                11002                    7902.0   \n",
       "..                      ...                  ...                       ...   \n",
       "77                    16607                 2963                   12771.0   \n",
       "78                      900                  157                     742.0   \n",
       "79                     9386                 6773                    2607.0   \n",
       "80                        0                    0                     439.0   \n",
       "81                        0                    0                       0.0   \n",
       "\n",
       "   foreign_in_russia_2023  \n",
       "0                     0.0  \n",
       "1                     0.0  \n",
       "2                     9.0  \n",
       "3                     0.0  \n",
       "4                     0.0  \n",
       "..                    ...  \n",
       "77                  873.0  \n",
       "78                    1.0  \n",
       "79                    6.0  \n",
       "80                    0.0  \n",
       "81                    0.0  \n",
       "\n",
       "[82 rows x 25 columns]"
      ]
     },
     "execution_count": 118,
     "metadata": {},
     "output_type": "execute_result"
    }
   ],
   "source": [
    "df_tour_firm.fillna(0)"
   ]
  },
  {
   "cell_type": "code",
   "execution_count": 120,
   "id": "35bb439c",
   "metadata": {},
   "outputs": [],
   "source": [
    "#Заменим '…1' на 0 в датафреймах df_hotel и df_tour_firm. Для этого воспользуемся df.replace(<значение, которое заменяем>, <значение, на которое заменяем>).\n",
    "df_hotel = df_hotel.replace(\"…1\", 0)\n",
    "df_tour_firm = df_tour_firm.replace(\"…1\", 0)"
   ]
  },
  {
   "cell_type": "code",
   "execution_count": 121,
   "id": "ce1f1a6f",
   "metadata": {},
   "outputs": [],
   "source": [
    "#Заменим некоторые объектные значения на числовые в датафреймах df_hotel, df_tour_firm и tour_cost_2023:\n",
    "\n",
    "dfs = [df_hotel, df_tour_firm, tour_cost_2023]\n",
    "\n",
    "for df in dfs:\n",
    "\n",
    "    cols_to_convert = df.select_dtypes(include=['object']).columns.difference(['region'])\n",
    "    df[cols_to_convert] = df[cols_to_convert].apply(pd.to_numeric, errors='coerce')"
   ]
  },
  {
   "cell_type": "code",
   "execution_count": 122,
   "id": "50e845e5",
   "metadata": {},
   "outputs": [],
   "source": [
    "import matplotlib.pyplot as plt"
   ]
  },
  {
   "cell_type": "code",
   "execution_count": 125,
   "id": "ece2e9e8",
   "metadata": {},
   "outputs": [
    {
     "data": {
      "text/plain": [
       "Text(0, 0.5, 'Количество отелей')"
      ]
     },
     "execution_count": 125,
     "metadata": {},
     "output_type": "execute_result"
    },
    {
     "data": {
      "image/png": "[encoded data removed]",
      "text/plain": [
       "<Figure size 1080x864 with 1 Axes>"
      ]
     },
     "metadata": {
      "needs_background": "light"
     },
     "output_type": "display_data"
    }
   ],
   "source": [
    "#Построим \"ящики с усами\" для количества отелей, хостелов и санитарно-курортных организаций:\n",
    "\n",
    "hotel_by_year = df_hotel.boxplot([\"hotels_2018\", \"hotels_2019\", \"hotels_2020\", \"hotels_2021\",\n",
    "    \"hotels_2022\", \"hotels_2023\"], figsize=(15,12))\n",
    "plt.title(\"Распределение количества отелей по регионам (2018–2023)\")\n",
    "plt.xlabel(\"Годы\")\n",
    "plt.ylabel(\"Количество отелей\")"
   ]
  },
  {
   "cell_type": "markdown",
   "id": "60c32d71",
   "metadata": {},
   "source": [
    "Количество отелей по годам распределено неравномерно. В каждом году много выбросов. В основном значения варьируются от 50 до 150. С 2021 года идет увеличение отелей."
   ]
  },
  {
   "cell_type": "code",
   "execution_count": 126,
   "id": "e50ee857",
   "metadata": {},
   "outputs": [
    {
     "data": {
      "text/plain": [
       "Text(0, 0.5, 'Количество хостелов')"
      ]
     },
     "execution_count": 126,
     "metadata": {},
     "output_type": "execute_result"
    },
    {
     "data": {
      "image/png": "[encoded data removed]",
      "text/plain": [
       "<Figure size 1080x864 with 1 Axes>"
      ]
     },
     "metadata": {
      "needs_background": "light"
     },
     "output_type": "display_data"
    }
   ],
   "source": [
    "hostels_by_year = df_hotel.boxplot([\"hostels_2018\", \"hostels_2019\", \n",
    "                                    \"hostels_2020\", \"hostels_2021\", \"hostels_2022\", \"hostels_2023\"], figsize=(15,12))\n",
    "plt.title(\"Распределение количества хостелов по регионам (2018–2023)\")\n",
    "plt.xlabel(\"Годы\")\n",
    "plt.ylabel(\"Количество хостелов\")"
   ]
  },
  {
   "cell_type": "markdown",
   "id": "9bb6d9bd",
   "metadata": {},
   "source": [
    "Количество хостелов по годам распределено неравномерно. В каждом году много выбросов, но гораздо меньше чем для отелей. В основном значения варьируются от 1 до 20. С 2021 года идет увеличение хостелов."
   ]
  },
  {
   "cell_type": "code",
   "execution_count": 30,
   "id": "51ff4104",
   "metadata": {},
   "outputs": [
    {
     "data": {
      "text/plain": [
       "Text(0, 0.5, 'Количество санитарно-курортных организаций')"
      ]
     },
     "execution_count": 30,
     "metadata": {},
     "output_type": "execute_result"
    },
    {
     "data": {
      "image/png": "[encoded data removed]",
      "text/plain": [
       "<Figure size 1080x864 with 1 Axes>"
      ]
     },
     "metadata": {
      "needs_background": "light"
     },
     "output_type": "display_data"
    }
   ],
   "source": [
    "Spa_orgs_by_year = df_hotel.boxplot([\"spa_orgs_2018\", \"spa_orgs_2019\", \"spa_orgs_2020\", \"spa_orgs_2021\", \n",
    "                                     \"spa_orgs_2022\", \"spa_orgs_2023\"], figsize=(15,12))\n",
    "plt.title(\"Распределение количества санитарно-курортных организаций по регионам (2018–2023)\")\n",
    "plt.xlabel(\"Годы\")\n",
    "plt.ylabel(\"Количество санитарно-курортных организаций\")"
   ]
  },
  {
   "cell_type": "markdown",
   "id": "a195bd25",
   "metadata": {},
   "source": [
    "Количество санитарно-курортных организаций по годам распределено неравномерно. В каждом году много выбросов, примерно как и у хостелов, но меньше чем у отелей. В основном значения варьируются от 10 до 30. Среднее количество стабильно по годам, нет увеличения или снижения санитарно-курортных организаций."
   ]
  },
  {
   "cell_type": "code",
   "execution_count": 136,
   "id": "8d30bb77",
   "metadata": {},
   "outputs": [],
   "source": [
    "#Найдем топ-10 регионов с с наибольшей стоимостью турпакетов в 2023:\n",
    "\n",
    "most_expensive_regions = tour_cost_2023.sort_values(by=\"total_tour_cost_million_2023\", ascending=False).head(10)"
   ]
  },
  {
   "cell_type": "code",
   "execution_count": 137,
   "id": "c7591921",
   "metadata": {},
   "outputs": [
    {
     "data": {
      "text/html": [
       "<div>\n",
       "<style scoped>\n",
       "    .dataframe tbody tr th:only-of-type {\n",
       "        vertical-align: middle;\n",
       "    }\n",
       "\n",
       "    .dataframe tbody tr th {\n",
       "        vertical-align: top;\n",
       "    }\n",
       "\n",
       "    .dataframe thead th {\n",
       "        text-align: right;\n",
       "    }\n",
       "</style>\n",
       "<table border=\"1\" class=\"dataframe\">\n",
       "  <thead>\n",
       "    <tr style=\"text-align: right;\">\n",
       "      <th></th>\n",
       "      <th>region</th>\n",
       "      <th>total_tour_cost_million_2023</th>\n",
       "      <th>domestic_tour_package_cost_million_2023</th>\n",
       "      <th>international_tour_package_cost_million_2023</th>\n",
       "    </tr>\n",
       "  </thead>\n",
       "  <tbody>\n",
       "    <tr>\n",
       "      <th>17</th>\n",
       "      <td>г. Москва</td>\n",
       "      <td>388215.5477</td>\n",
       "      <td>61611.1085</td>\n",
       "      <td>325476.7008</td>\n",
       "    </tr>\n",
       "    <tr>\n",
       "      <th>9</th>\n",
       "      <td>Московская область</td>\n",
       "      <td>27151.9902</td>\n",
       "      <td>5059.5491</td>\n",
       "      <td>22081.5946</td>\n",
       "    </tr>\n",
       "    <tr>\n",
       "      <th>29</th>\n",
       "      <td>г. Санкт-Петербург</td>\n",
       "      <td>23785.7731</td>\n",
       "      <td>10176.0073</td>\n",
       "      <td>13211.9414</td>\n",
       "    </tr>\n",
       "    <tr>\n",
       "      <th>61</th>\n",
       "      <td>Тюменская область</td>\n",
       "      <td>14332.6665</td>\n",
       "      <td>2852.9022</td>\n",
       "      <td>11478.4233</td>\n",
       "    </tr>\n",
       "    <tr>\n",
       "      <th>60</th>\n",
       "      <td>Свердловская область</td>\n",
       "      <td>14271.0682</td>\n",
       "      <td>5029.2558</td>\n",
       "      <td>9230.5944</td>\n",
       "    </tr>\n",
       "    <tr>\n",
       "      <th>33</th>\n",
       "      <td>Краснодарский край</td>\n",
       "      <td>14250.5485</td>\n",
       "      <td>5754.7161</td>\n",
       "      <td>8464.1645</td>\n",
       "    </tr>\n",
       "    <tr>\n",
       "      <th>48</th>\n",
       "      <td>Республика Татарстан</td>\n",
       "      <td>13768.8762</td>\n",
       "      <td>3334.2739</td>\n",
       "      <td>10431.1633</td>\n",
       "    </tr>\n",
       "    <tr>\n",
       "      <th>51</th>\n",
       "      <td>Пермский край</td>\n",
       "      <td>12592.6389</td>\n",
       "      <td>5128.5544</td>\n",
       "      <td>7464.0845</td>\n",
       "    </tr>\n",
       "    <tr>\n",
       "      <th>53</th>\n",
       "      <td>Нижегородская область</td>\n",
       "      <td>11545.6481</td>\n",
       "      <td>5255.3996</td>\n",
       "      <td>6290.2485</td>\n",
       "    </tr>\n",
       "    <tr>\n",
       "      <th>73</th>\n",
       "      <td>Новосибирская область</td>\n",
       "      <td>10433.0335</td>\n",
       "      <td>2031.2164</td>\n",
       "      <td>8399.3291</td>\n",
       "    </tr>\n",
       "  </tbody>\n",
       "</table>\n",
       "</div>"
      ],
      "text/plain": [
       "                   region  total_tour_cost_million_2023  \\\n",
       "17              г. Москва                   388215.5477   \n",
       "9      Московская область                    27151.9902   \n",
       "29     г. Санкт-Петербург                    23785.7731   \n",
       "61      Тюменская область                    14332.6665   \n",
       "60   Свердловская область                    14271.0682   \n",
       "33     Краснодарский край                    14250.5485   \n",
       "48   Республика Татарстан                    13768.8762   \n",
       "51          Пермский край                    12592.6389   \n",
       "53  Нижегородская область                    11545.6481   \n",
       "73  Новосибирская область                    10433.0335   \n",
       "\n",
       "    domestic_tour_package_cost_million_2023  \\\n",
       "17                               61611.1085   \n",
       "9                                 5059.5491   \n",
       "29                               10176.0073   \n",
       "61                                2852.9022   \n",
       "60                                5029.2558   \n",
       "33                                5754.7161   \n",
       "48                                3334.2739   \n",
       "51                                5128.5544   \n",
       "53                                5255.3996   \n",
       "73                                2031.2164   \n",
       "\n",
       "    international_tour_package_cost_million_2023  \n",
       "17                                   325476.7008  \n",
       "9                                     22081.5946  \n",
       "29                                    13211.9414  \n",
       "61                                    11478.4233  \n",
       "60                                     9230.5944  \n",
       "33                                     8464.1645  \n",
       "48                                    10431.1633  \n",
       "51                                     7464.0845  \n",
       "53                                     6290.2485  \n",
       "73                                     8399.3291  "
      ]
     },
     "execution_count": 137,
     "metadata": {},
     "output_type": "execute_result"
    }
   ],
   "source": [
    "most_expensive_regions"
   ]
  },
  {
   "cell_type": "code",
   "execution_count": 140,
   "id": "89fd9419",
   "metadata": {},
   "outputs": [
    {
     "data": {
      "text/plain": [
       "Text(0, 0.5, 'Регион')"
      ]
     },
     "execution_count": 140,
     "metadata": {},
     "output_type": "execute_result"
    },
    {
     "data": {
      "image/png": "[encoded data removed]",
      "text/plain": [
       "<Figure size 720x432 with 1 Axes>"
      ]
     },
     "metadata": {
      "needs_background": "light"
     },
     "output_type": "display_data"
    }
   ],
   "source": [
    "#Построим график для этих регионов:\n",
    "\n",
    "most_expensive_regions.plot(kind='barh', x='region', y='total_tour_cost_million_2023', figsize=(10,6), legend=False)\n",
    "plt.title('Топ-10 регионов России с наибольшей стоимостью турпакетов в 2023 году')\n",
    "plt.xlabel('Стоимость турпакета')\n",
    "plt.ylabel('Регион')"
   ]
  },
  {
   "cell_type": "markdown",
   "id": "c6676a5a",
   "metadata": {},
   "source": [
    "С большим отрывом лидирует город Москва, затем идет Москвская область, Санкт-Петербург и Тюменская область. В этих регионах стоиомость тур пакетов оказалась дороже всего по сравнению с другими регионами."
   ]
  },
  {
   "cell_type": "code",
   "execution_count": 141,
   "id": "5f95cd08",
   "metadata": {},
   "outputs": [
    {
     "data": {
      "text/html": [
       "<div>\n",
       "<style scoped>\n",
       "    .dataframe tbody tr th:only-of-type {\n",
       "        vertical-align: middle;\n",
       "    }\n",
       "\n",
       "    .dataframe tbody tr th {\n",
       "        vertical-align: top;\n",
       "    }\n",
       "\n",
       "    .dataframe thead th {\n",
       "        text-align: right;\n",
       "    }\n",
       "</style>\n",
       "<table border=\"1\" class=\"dataframe\">\n",
       "  <thead>\n",
       "    <tr style=\"text-align: right;\">\n",
       "      <th></th>\n",
       "      <th>region</th>\n",
       "      <th>total_tour_packages_2018</th>\n",
       "      <th>domestic_russia_2018</th>\n",
       "      <th>international_russia_2018</th>\n",
       "      <th>foreign_in_russia_2018</th>\n",
       "      <th>total_tour_packages_2019</th>\n",
       "      <th>domestic_russia_2019</th>\n",
       "      <th>international_russia_2019</th>\n",
       "      <th>foreign_in_russia_2019</th>\n",
       "      <th>total_tour_packages_2020</th>\n",
       "      <th>...</th>\n",
       "      <th>international_russia_2021</th>\n",
       "      <th>foreign_in_russia_2021</th>\n",
       "      <th>total_tour_packages_2022</th>\n",
       "      <th>domestic_russia_2022</th>\n",
       "      <th>international_russia_2022</th>\n",
       "      <th>foreign_in_russia_2022</th>\n",
       "      <th>total_tour_packages_2023</th>\n",
       "      <th>domestic_russia_2023</th>\n",
       "      <th>international_russia_2023</th>\n",
       "      <th>foreign_in_russia_2023</th>\n",
       "    </tr>\n",
       "  </thead>\n",
       "  <tbody>\n",
       "    <tr>\n",
       "      <th>0</th>\n",
       "      <td>Белгородская область</td>\n",
       "      <td>14138</td>\n",
       "      <td>4333</td>\n",
       "      <td>9805.0</td>\n",
       "      <td>NaN</td>\n",
       "      <td>20646</td>\n",
       "      <td>4772</td>\n",
       "      <td>15874</td>\n",
       "      <td>NaN</td>\n",
       "      <td>9694</td>\n",
       "      <td>...</td>\n",
       "      <td>9239.0</td>\n",
       "      <td>NaN</td>\n",
       "      <td>15222</td>\n",
       "      <td>8887</td>\n",
       "      <td>6165.0</td>\n",
       "      <td>170.0</td>\n",
       "      <td>17733</td>\n",
       "      <td>11803</td>\n",
       "      <td>5930.0</td>\n",
       "      <td>NaN</td>\n",
       "    </tr>\n",
       "    <tr>\n",
       "      <th>1</th>\n",
       "      <td>Брянская область</td>\n",
       "      <td>9444</td>\n",
       "      <td>4438</td>\n",
       "      <td>5004.0</td>\n",
       "      <td>2.0</td>\n",
       "      <td>10459</td>\n",
       "      <td>4966</td>\n",
       "      <td>5492</td>\n",
       "      <td>1.0</td>\n",
       "      <td>3435</td>\n",
       "      <td>...</td>\n",
       "      <td>3479.0</td>\n",
       "      <td>NaN</td>\n",
       "      <td>11591</td>\n",
       "      <td>8265</td>\n",
       "      <td>3326.0</td>\n",
       "      <td>NaN</td>\n",
       "      <td>10165</td>\n",
       "      <td>5377</td>\n",
       "      <td>4788.0</td>\n",
       "      <td>NaN</td>\n",
       "    </tr>\n",
       "    <tr>\n",
       "      <th>2</th>\n",
       "      <td>Владимирская область</td>\n",
       "      <td>23900</td>\n",
       "      <td>12294</td>\n",
       "      <td>11243.0</td>\n",
       "      <td>363.0</td>\n",
       "      <td>23065</td>\n",
       "      <td>11558</td>\n",
       "      <td>10394</td>\n",
       "      <td>1113.0</td>\n",
       "      <td>7334</td>\n",
       "      <td>...</td>\n",
       "      <td>6426.0</td>\n",
       "      <td>7.0</td>\n",
       "      <td>18288</td>\n",
       "      <td>11359</td>\n",
       "      <td>6924.0</td>\n",
       "      <td>5.0</td>\n",
       "      <td>22334</td>\n",
       "      <td>13588</td>\n",
       "      <td>8737.0</td>\n",
       "      <td>9.0</td>\n",
       "    </tr>\n",
       "    <tr>\n",
       "      <th>3</th>\n",
       "      <td>Воронежская область</td>\n",
       "      <td>14554</td>\n",
       "      <td>8124</td>\n",
       "      <td>6430.0</td>\n",
       "      <td>NaN</td>\n",
       "      <td>14464</td>\n",
       "      <td>4613</td>\n",
       "      <td>9851</td>\n",
       "      <td>NaN</td>\n",
       "      <td>6681</td>\n",
       "      <td>...</td>\n",
       "      <td>7923.0</td>\n",
       "      <td>NaN</td>\n",
       "      <td>20958</td>\n",
       "      <td>13608</td>\n",
       "      <td>7350.0</td>\n",
       "      <td>NaN</td>\n",
       "      <td>24993</td>\n",
       "      <td>14781</td>\n",
       "      <td>10212.0</td>\n",
       "      <td>NaN</td>\n",
       "    </tr>\n",
       "    <tr>\n",
       "      <th>4</th>\n",
       "      <td>Ивановская область</td>\n",
       "      <td>17049</td>\n",
       "      <td>6592</td>\n",
       "      <td>10457.0</td>\n",
       "      <td>NaN</td>\n",
       "      <td>17019</td>\n",
       "      <td>8327</td>\n",
       "      <td>8692</td>\n",
       "      <td>NaN</td>\n",
       "      <td>6477</td>\n",
       "      <td>...</td>\n",
       "      <td>4445.0</td>\n",
       "      <td>NaN</td>\n",
       "      <td>13637</td>\n",
       "      <td>8575</td>\n",
       "      <td>5062.0</td>\n",
       "      <td>NaN</td>\n",
       "      <td>18904</td>\n",
       "      <td>11002</td>\n",
       "      <td>7902.0</td>\n",
       "      <td>NaN</td>\n",
       "    </tr>\n",
       "  </tbody>\n",
       "</table>\n",
       "<p>5 rows × 25 columns</p>\n",
       "</div>"
      ],
      "text/plain": [
       "                 region  total_tour_packages_2018  domestic_russia_2018  \\\n",
       "0  Белгородская область                     14138                  4333   \n",
       "1      Брянская область                      9444                  4438   \n",
       "2  Владимирская область                     23900                 12294   \n",
       "3   Воронежская область                     14554                  8124   \n",
       "4    Ивановская область                     17049                  6592   \n",
       "\n",
       "   international_russia_2018  foreign_in_russia_2018  \\\n",
       "0                     9805.0                     NaN   \n",
       "1                     5004.0                     2.0   \n",
       "2                    11243.0                   363.0   \n",
       "3                     6430.0                     NaN   \n",
       "4                    10457.0                     NaN   \n",
       "\n",
       "   total_tour_packages_2019  domestic_russia_2019  international_russia_2019  \\\n",
       "0                     20646                  4772                      15874   \n",
       "1                     10459                  4966                       5492   \n",
       "2                     23065                 11558                      10394   \n",
       "3                     14464                  4613                       9851   \n",
       "4                     17019                  8327                       8692   \n",
       "\n",
       "   foreign_in_russia_2019  total_tour_packages_2020  ...  \\\n",
       "0                     NaN                      9694  ...   \n",
       "1                     1.0                      3435  ...   \n",
       "2                  1113.0                      7334  ...   \n",
       "3                     NaN                      6681  ...   \n",
       "4                     NaN                      6477  ...   \n",
       "\n",
       "   international_russia_2021  foreign_in_russia_2021  \\\n",
       "0                     9239.0                     NaN   \n",
       "1                     3479.0                     NaN   \n",
       "2                     6426.0                     7.0   \n",
       "3                     7923.0                     NaN   \n",
       "4                     4445.0                     NaN   \n",
       "\n",
       "   total_tour_packages_2022  domestic_russia_2022  international_russia_2022  \\\n",
       "0                     15222                  8887                     6165.0   \n",
       "1                     11591                  8265                     3326.0   \n",
       "2                     18288                 11359                     6924.0   \n",
       "3                     20958                 13608                     7350.0   \n",
       "4                     13637                  8575                     5062.0   \n",
       "\n",
       "   foreign_in_russia_2022  total_tour_packages_2023  domestic_russia_2023  \\\n",
       "0                   170.0                     17733                 11803   \n",
       "1                     NaN                     10165                  5377   \n",
       "2                     5.0                     22334                 13588   \n",
       "3                     NaN                     24993                 14781   \n",
       "4                     NaN                     18904                 11002   \n",
       "\n",
       "   international_russia_2023  foreign_in_russia_2023  \n",
       "0                     5930.0                     NaN  \n",
       "1                     4788.0                     NaN  \n",
       "2                     8737.0                     9.0  \n",
       "3                    10212.0                     NaN  \n",
       "4                     7902.0                     NaN  \n",
       "\n",
       "[5 rows x 25 columns]"
      ]
     },
     "execution_count": 141,
     "metadata": {},
     "output_type": "execute_result"
    }
   ],
   "source": [
    "#Построим линейный график, который покажет изменения среднего количества турпакетов в России по категориям с 2018 по 2023 год.\n",
    "\n",
    "#Для удовства сначала выведим информацию по датафрейм df_tour_firm на экран.\n",
    "\n",
    "df_tour_firm.head()"
   ]
  },
  {
   "cell_type": "code",
   "execution_count": 142,
   "id": "8a21d61e",
   "metadata": {},
   "outputs": [],
   "source": [
    "#Создадим словарь для использования его в дальнейшей визуализации:\n",
    "\n",
    "average_values = {\n",
    "    'Year': ['2018','2019','2020', '2021', '2022','2023'],\n",
    "    'Общее количество туров': [\n",
    "        df_tour_firm['total_tour_packages_2018'].mean(),\n",
    "        df_tour_firm['total_tour_packages_2019'].mean(),\n",
    "        df_tour_firm['total_tour_packages_2020'].mean(),\n",
    "        df_tour_firm['total_tour_packages_2021'].mean(),\n",
    "        df_tour_firm['total_tour_packages_2022'].mean(),\n",
    "        df_tour_firm['total_tour_packages_2023'].mean()\n",
    "    ],\n",
    "    'Внутренний туризм':[\n",
    "        df_tour_firm['domestic_russia_2018'].mean(),\n",
    "        df_tour_firm['domestic_russia_2019'].mean(),\n",
    "        df_tour_firm['domestic_russia_2020'].mean(),\n",
    "        df_tour_firm['domestic_russia_2021'].mean(),\n",
    "        df_tour_firm['domestic_russia_2022'].mean(),\n",
    "        df_tour_firm['domestic_russia_2023'].mean()\n",
    "    ],\n",
    "    'Международный туризм':[\n",
    "        df_tour_firm['international_russia_2018'].mean(),\n",
    "        df_tour_firm['international_russia_2019'].mean(),\n",
    "        df_tour_firm['international_russia_2020'].mean(),\n",
    "        df_tour_firm['international_russia_2021'].mean(),\n",
    "        df_tour_firm['international_russia_2022'].mean(),\n",
    "        df_tour_firm['international_russia_2023'].mean()\n",
    "    ],\n",
    "    'Иностранные туристы в России':[\n",
    "        df_tour_firm['foreign_in_russia_2018'].mean(),\n",
    "        df_tour_firm['foreign_in_russia_2019'].mean(),\n",
    "        df_tour_firm['foreign_in_russia_2020'].mean(),\n",
    "        df_tour_firm['foreign_in_russia_2021'].mean(),\n",
    "        df_tour_firm['foreign_in_russia_2022'].mean(),\n",
    "        df_tour_firm['foreign_in_russia_2023'].mean(),\n",
    "    ]\n",
    "    \n",
    "}"
   ]
  },
  {
   "cell_type": "code",
   "execution_count": 143,
   "id": "b541b1a3",
   "metadata": {},
   "outputs": [],
   "source": [
    "#Создадим новый датафрейм из словаря:\n",
    "\n",
    "df_avg = pd.DataFrame(average_values)"
   ]
  },
  {
   "cell_type": "code",
   "execution_count": 144,
   "id": "93d4d03d",
   "metadata": {},
   "outputs": [
    {
     "data": {
      "image/png": "[encoded data removed]",
      "text/plain": [
       "<Figure size 1080x864 with 1 Axes>"
      ]
     },
     "metadata": {
      "needs_background": "light"
     },
     "output_type": "display_data"
    }
   ],
   "source": [
    "#Потсроим линейный график:\n",
    "\n",
    "df_avg.plot(kind='line', x='Year',figsize=(15,12))\n",
    "plt.title('Изменения среднего количества турпакетов в России по категориям с 2018 по 2023 год')\n",
    "plt.xlabel('Годы')\n",
    "plt.ylabel('Количество туров')\n",
    "plt.grid(True)"
   ]
  },
  {
   "cell_type": "markdown",
   "id": "d9bb9fcf",
   "metadata": {},
   "source": [
    "Наблюдается резкое снижение всех видов туров кроме внутреннего туризма в 2020 г. Это связано с глобальной пандемией. Далее наблюдается рост всех видов туров кроме иностранного туризма в России, там наблюдается стагнация. На уровень 2019 г. в 2022 выходит общее количество туров, а в 2023 - международный туризм и продолжают свой дальнейший рост. Внутренний туризм продолжает свой стремительный рост с 2020 г."
   ]
  },
  {
   "cell_type": "code",
   "execution_count": 50,
   "id": "35572bfb",
   "metadata": {},
   "outputs": [],
   "source": [
    "from scipy import stats as st\n",
    "import numpy as np"
   ]
  },
  {
   "cell_type": "code",
   "execution_count": 145,
   "id": "e2c9f874",
   "metadata": {},
   "outputs": [],
   "source": [
    "#Проверим гипотезу, что показатель средней стоимости реализованных турпакетов в 2023 году по утверждению некоторых СМИ \n",
    "#(800 млн рублей.) может быть выше:\n",
    "\n",
    "tour_cost_mean_2023 = tour_cost_2023[\"total_tour_cost_million_2023\"]"
   ]
  },
  {
   "cell_type": "code",
   "execution_count": 146,
   "id": "ba11edf6",
   "metadata": {},
   "outputs": [],
   "source": [
    "expected_tour_cost_2023 = 800"
   ]
  },
  {
   "cell_type": "code",
   "execution_count": 147,
   "id": "3d1a356d",
   "metadata": {},
   "outputs": [],
   "source": [
    "alpha = 0.05"
   ]
  },
  {
   "cell_type": "code",
   "execution_count": 148,
   "id": "affc8d17",
   "metadata": {},
   "outputs": [],
   "source": [
    "results = st.ttest_1samp(tour_cost_mean_2023, expected_tour_cost_2023, alternative='greater')"
   ]
  },
  {
   "cell_type": "code",
   "execution_count": 63,
   "id": "51145edd",
   "metadata": {},
   "outputs": [
    {
     "name": "stdout",
     "output_type": "stream",
     "text": [
      "p-значение: nan\n",
      "Не получилось отвергнуть Н0\n"
     ]
    }
   ],
   "source": [
    "print ('p-значение:', results.pvalue)\n",
    "if results.pvalue<alpha:\n",
    "    print('Отвергаем Н0')\n",
    "else:\n",
    "    print('Не получилось отвергнуть Н0')"
   ]
  },
  {
   "cell_type": "markdown",
   "id": "95de54ba",
   "metadata": {},
   "source": [
    "Нулевую гипотезу отвергнуть не получилось. Значит показатель средней стоимости реализованных турпакетов в 2023 году с большой вероятностью может быть выше 800 млн. руб."
   ]
  },
  {
   "cell_type": "code",
   "execution_count": 154,
   "id": "2353ea13",
   "metadata": {},
   "outputs": [],
   "source": [
    "#Проверим гипотезу, что в 2023 году, по сравнению с 2022, россияне стали чаще ездить по стране и оформлять турпакеты. \n",
    "\n",
    "total_domestic_2022 = df_tour_firm['domestic_russia_2022']"
   ]
  },
  {
   "cell_type": "code",
   "execution_count": 150,
   "id": "bce0ad36",
   "metadata": {},
   "outputs": [],
   "source": [
    "total_domestic_2023 = df_tour_firm['domestic_russia_2023']"
   ]
  },
  {
   "cell_type": "code",
   "execution_count": 151,
   "id": "36f4b346",
   "metadata": {},
   "outputs": [],
   "source": [
    "alpha = 0.05"
   ]
  },
  {
   "cell_type": "code",
   "execution_count": 152,
   "id": "956d2fe3",
   "metadata": {},
   "outputs": [],
   "source": [
    "results_2 =  st.ttest_ind(total_domestic_2022, total_domestic_2023, alternative = 'less')"
   ]
  },
  {
   "cell_type": "code",
   "execution_count": 153,
   "id": "9306f732",
   "metadata": {},
   "outputs": [
    {
     "name": "stdout",
     "output_type": "stream",
     "text": [
      "p-значение: 0.43088448306931165\n",
      "Не получилось отвергнуть Н0\n"
     ]
    }
   ],
   "source": [
    "print('p-значение:', results_2.pvalue)\n",
    "if results_2.pvalue<alpha:\n",
    "    print('Отвергаем Н0')\n",
    "else:\n",
    "    print('Не получилось отвергнуть Н0')"
   ]
  },
  {
   "cell_type": "markdown",
   "id": "3ce56d38",
   "metadata": {},
   "source": [
    "Нулевую гипотезу отвергнуть не получилось. Значит что с большой вероятностью в 2023 году, по сравнению с 2022, россияне стали чаще ездить по стране и оформлять турпакеты."
   ]
  },
  {
   "cell_type": "markdown",
   "id": "3c77c79c",
   "metadata": {},
   "source": [
    "Был проанализирован рынок туристической индустрии в России с 2018 по 2023 гг. В ходе анализа можно сделать следующие основные выводы:\n",
    "\n",
    "1) Количество отелей, хостелов и санаторно-лечебных организаций по годам распределено неравномерно. В каждом году много выбросов, но среди отелей выбросов значительно больше чем среди хостелов и санаторно-лечебных организаций. В основном значения количества отелей варьируются от 50 до 150. С 2021 года идет увеличение отелей. По хостелам значения варьируются от 1 до 20. С 2021 года идет увеличение хостелов. По санитарно-курортным организациям значения варьируются от 10 до 30. Среднее количество стабильно по годам, нет увеличения или снижения санитарно-курортных организаций.\n",
    "\n",
    "2) По регионам с наибольшей стоиомстью тур пакетов с большим отрывом лидирует город Москва, затем идет Московская область, Санкт-Петербург и Тюменская область. Также в топ-10 регионов входят Свердловская область, Краснодарский край, Республика Татарстан, Пермский край, Нижегородская и Новосибирская области.\n",
    "\n",
    "3) Наблюдается резкое снижение всех видов туров кроме внутреннего туризма в 2020 г. по сравнению с 2018 и 2019 гг. Это связано с глобальной пандемией. Далее наблюдается рост всех видов туров кроме иностранного туризма в России, там наблюдается стагнация. На уровень 2019 г. в 2022 выходит общее количество туров, а в 2023 - международный туризм и продолжают свой дальнейший рост. Внутренний туризм продолжает свой стремительный рост с 2020 г.\n",
    "\n",
    "4) Показатель средней стоимости реализованных турпакетов в 2023 году с большой вероятностью может быть выше 800 млн. руб.\n",
    "\n",
    "5) С большой вероятностью в 2023 году, по сравнению с 2022, россияне стали чаще ездить по стране и оформлять турпакеты.\n",
    "\n",
    "Основные рекомендации заказчику:\n",
    "\n",
    "1) Сосредоточиться на внутреннем туризме больше чем на международном.\n",
    "\n",
    "2) Продавать туры в регионы с большей стоимостью тур пакетов (Москва, Московская область, Санкт-Петербург и Тюменская область)."
   ]
  }
 ],
 "metadata": {
  "ExecuteTimeLog": [
   {
    "duration": 404,
    "start_time": "2025-04-01T08:49:39.156Z"
   },
   {
    "duration": 100,
    "start_time": "2025-04-01T09:11:24.059Z"
   },
   {
    "duration": 59,
    "start_time": "2025-04-01T09:11:38.663Z"
   },
   {
    "duration": 285,
    "start_time": "2025-04-01T09:14:20.401Z"
   },
   {
    "duration": 7,
    "start_time": "2025-04-01T09:14:52.258Z"
   },
   {
    "duration": 14,
    "start_time": "2025-04-01T09:15:06.056Z"
   },
   {
    "duration": 5,
    "start_time": "2025-04-01T09:23:44.075Z"
   },
   {
    "duration": 49,
    "start_time": "2025-04-01T13:30:02.793Z"
   },
   {
    "duration": 381,
    "start_time": "2025-04-01T13:30:08.598Z"
   },
   {
    "duration": 241,
    "start_time": "2025-04-01T13:30:09.336Z"
   },
   {
    "duration": 9,
    "start_time": "2025-04-01T13:30:10.302Z"
   },
   {
    "duration": 4,
    "start_time": "2025-04-01T13:30:10.944Z"
   },
   {
    "duration": 4,
    "start_time": "2025-04-01T13:30:11.899Z"
   },
   {
    "duration": 4,
    "start_time": "2025-04-01T13:30:29.731Z"
   },
   {
    "duration": 30,
    "start_time": "2025-04-01T13:31:22.355Z"
   },
   {
    "duration": 7,
    "start_time": "2025-04-01T13:31:36.486Z"
   },
   {
    "duration": 5,
    "start_time": "2025-04-01T13:33:08.181Z"
   },
   {
    "duration": 6,
    "start_time": "2025-04-01T13:35:43.884Z"
   },
   {
    "duration": 6,
    "start_time": "2025-04-01T13:41:24.990Z"
   },
   {
    "duration": 58,
    "start_time": "2025-04-02T09:32:35.381Z"
   },
   {
    "duration": 6,
    "start_time": "2025-04-02T09:32:39.980Z"
   },
   {
    "duration": 6,
    "start_time": "2025-04-02T09:32:59.580Z"
   },
   {
    "duration": 6,
    "start_time": "2025-04-02T09:33:21.819Z"
   },
   {
    "duration": 397,
    "start_time": "2025-04-02T09:33:27.402Z"
   },
   {
    "duration": 304,
    "start_time": "2025-04-02T09:33:28.022Z"
   },
   {
    "duration": 9,
    "start_time": "2025-04-02T09:33:28.807Z"
   },
   {
    "duration": 4,
    "start_time": "2025-04-02T09:33:29.472Z"
   },
   {
    "duration": 4,
    "start_time": "2025-04-02T09:33:30.219Z"
   },
   {
    "duration": 4,
    "start_time": "2025-04-02T09:33:30.857Z"
   },
   {
    "duration": 6,
    "start_time": "2025-04-02T09:33:31.610Z"
   },
   {
    "duration": 5,
    "start_time": "2025-04-02T09:33:32.332Z"
   },
   {
    "duration": 6,
    "start_time": "2025-04-02T09:33:33.038Z"
   },
   {
    "duration": 6,
    "start_time": "2025-04-02T09:33:33.857Z"
   },
   {
    "duration": 7,
    "start_time": "2025-04-02T09:33:34.843Z"
   },
   {
    "duration": 6,
    "start_time": "2025-04-02T09:34:28.320Z"
   },
   {
    "duration": 453,
    "start_time": "2025-04-02T14:22:56.417Z"
   },
   {
    "duration": 404,
    "start_time": "2025-04-02T14:22:57.086Z"
   },
   {
    "duration": 11,
    "start_time": "2025-04-02T14:22:57.926Z"
   },
   {
    "duration": 4,
    "start_time": "2025-04-02T14:22:58.482Z"
   },
   {
    "duration": 4,
    "start_time": "2025-04-02T14:22:58.898Z"
   },
   {
    "duration": 4,
    "start_time": "2025-04-02T14:22:59.068Z"
   },
   {
    "duration": 9,
    "start_time": "2025-04-02T14:22:59.247Z"
   },
   {
    "duration": 5,
    "start_time": "2025-04-02T14:22:59.419Z"
   },
   {
    "duration": 15,
    "start_time": "2025-04-02T14:22:59.640Z"
   },
   {
    "duration": 5,
    "start_time": "2025-04-02T14:23:00.382Z"
   },
   {
    "duration": 7,
    "start_time": "2025-04-02T14:23:01.076Z"
   },
   {
    "duration": 8,
    "start_time": "2025-04-02T14:23:04.182Z"
   },
   {
    "duration": 2,
    "start_time": "2025-04-02T14:23:22.117Z"
   },
   {
    "duration": 113,
    "start_time": "2025-04-02T14:23:22.763Z"
   },
   {
    "duration": 5,
    "start_time": "2025-04-02T14:23:23.417Z"
   },
   {
    "duration": 3,
    "start_time": "2025-04-02T14:23:24.018Z"
   },
   {
    "duration": 7,
    "start_time": "2025-04-02T14:23:24.651Z"
   },
   {
    "duration": 4,
    "start_time": "2025-04-02T14:23:25.221Z"
   },
   {
    "duration": 6,
    "start_time": "2025-04-02T14:23:25.917Z"
   },
   {
    "duration": 9,
    "start_time": "2025-04-02T14:23:26.851Z"
   },
   {
    "duration": 6,
    "start_time": "2025-04-02T14:23:27.603Z"
   },
   {
    "duration": 5,
    "start_time": "2025-04-02T14:23:28.523Z"
   },
   {
    "duration": 7,
    "start_time": "2025-04-02T14:23:29.318Z"
   },
   {
    "duration": 6,
    "start_time": "2025-04-02T14:23:30.370Z"
   },
   {
    "duration": 7,
    "start_time": "2025-04-02T14:23:56.959Z"
   },
   {
    "duration": 10,
    "start_time": "2025-04-02T14:54:56.946Z"
   },
   {
    "duration": 5,
    "start_time": "2025-04-02T14:55:20.651Z"
   },
   {
    "duration": 95,
    "start_time": "2025-04-02T14:58:03.079Z"
   },
   {
    "duration": 3,
    "start_time": "2025-04-02T14:58:08.600Z"
   },
   {
    "duration": 123,
    "start_time": "2025-04-02T14:58:09.057Z"
   },
   {
    "duration": 9,
    "start_time": "2025-04-02T14:58:09.244Z"
   },
   {
    "duration": 4,
    "start_time": "2025-04-02T14:58:09.418Z"
   },
   {
    "duration": 4,
    "start_time": "2025-04-02T14:58:09.594Z"
   },
   {
    "duration": 5,
    "start_time": "2025-04-02T14:58:09.758Z"
   },
   {
    "duration": 8,
    "start_time": "2025-04-02T14:58:09.938Z"
   },
   {
    "duration": 5,
    "start_time": "2025-04-02T14:58:10.091Z"
   },
   {
    "duration": 6,
    "start_time": "2025-04-02T14:58:10.302Z"
   },
   {
    "duration": 6,
    "start_time": "2025-04-02T14:58:10.486Z"
   },
   {
    "duration": 8,
    "start_time": "2025-04-02T14:58:10.678Z"
   },
   {
    "duration": 8,
    "start_time": "2025-04-02T14:58:10.867Z"
   },
   {
    "duration": 8,
    "start_time": "2025-04-02T14:58:11.059Z"
   },
   {
    "duration": 11,
    "start_time": "2025-04-02T14:58:11.245Z"
   },
   {
    "duration": 19,
    "start_time": "2025-04-02T14:58:11.437Z"
   },
   {
    "duration": 52,
    "start_time": "2025-04-02T14:58:20.581Z"
   },
   {
    "duration": 539,
    "start_time": "2025-04-02T15:06:43.854Z"
   },
   {
    "duration": 62,
    "start_time": "2025-04-02T15:11:06.649Z"
   },
   {
    "duration": 150,
    "start_time": "2025-04-02T15:11:13.966Z"
   },
   {
    "duration": 280,
    "start_time": "2025-04-02T15:13:56.168Z"
   },
   {
    "duration": 395,
    "start_time": "2025-04-02T15:14:53.511Z"
   },
   {
    "duration": 326,
    "start_time": "2025-04-02T15:16:01.714Z"
   },
   {
    "duration": 4,
    "start_time": "2025-04-02T15:19:38.747Z"
   },
   {
    "duration": 3,
    "start_time": "2025-04-02T15:20:03.256Z"
   },
   {
    "duration": 228,
    "start_time": "2025-04-02T15:20:33.299Z"
   },
   {
    "duration": 392,
    "start_time": "2025-04-03T08:03:48.083Z"
   },
   {
    "duration": 198,
    "start_time": "2025-04-03T08:03:48.768Z"
   },
   {
    "duration": 9,
    "start_time": "2025-04-03T08:03:49.603Z"
   },
   {
    "duration": 4,
    "start_time": "2025-04-03T08:03:50.400Z"
   },
   {
    "duration": 5,
    "start_time": "2025-04-03T08:03:51.067Z"
   },
   {
    "duration": 4,
    "start_time": "2025-04-03T08:03:51.663Z"
   },
   {
    "duration": 3,
    "start_time": "2025-04-03T08:04:29.680Z"
   },
   {
    "duration": 3,
    "start_time": "2025-04-03T08:05:01.467Z"
   },
   {
    "duration": 3,
    "start_time": "2025-04-03T08:06:20.836Z"
   },
   {
    "duration": 3,
    "start_time": "2025-04-03T08:06:25.477Z"
   },
   {
    "duration": 3,
    "start_time": "2025-04-03T08:07:41.251Z"
   },
   {
    "duration": 4,
    "start_time": "2025-04-03T08:07:42.133Z"
   },
   {
    "duration": 5,
    "start_time": "2025-04-03T08:07:43.209Z"
   },
   {
    "duration": 5,
    "start_time": "2025-04-03T08:07:44.003Z"
   },
   {
    "duration": 5,
    "start_time": "2025-04-03T08:07:44.203Z"
   },
   {
    "duration": 5,
    "start_time": "2025-04-03T08:07:44.407Z"
   },
   {
    "duration": 6,
    "start_time": "2025-04-03T08:07:44.612Z"
   },
   {
    "duration": 7,
    "start_time": "2025-04-03T08:07:45.392Z"
   },
   {
    "duration": 6,
    "start_time": "2025-04-03T08:07:46.727Z"
   },
   {
    "duration": 6,
    "start_time": "2025-04-03T08:07:47.527Z"
   },
   {
    "duration": 37,
    "start_time": "2025-04-03T08:07:48.500Z"
   },
   {
    "duration": 405,
    "start_time": "2025-04-03T08:07:49.494Z"
   },
   {
    "duration": 235,
    "start_time": "2025-04-03T08:07:50.309Z"
   },
   {
    "duration": 2,
    "start_time": "2025-04-03T08:08:02.701Z"
   },
   {
    "duration": 173,
    "start_time": "2025-04-03T08:08:03.447Z"
   },
   {
    "duration": 150,
    "start_time": "2025-04-03T08:08:49.313Z"
   },
   {
    "duration": 3,
    "start_time": "2025-04-03T08:08:53.783Z"
   },
   {
    "duration": 152,
    "start_time": "2025-04-03T08:08:54.813Z"
   },
   {
    "duration": 199,
    "start_time": "2025-04-03T08:17:55.427Z"
   },
   {
    "duration": 3,
    "start_time": "2025-04-03T08:18:04.073Z"
   },
   {
    "duration": 104,
    "start_time": "2025-04-03T08:18:04.775Z"
   },
   {
    "duration": 4,
    "start_time": "2025-04-03T08:18:05.590Z"
   },
   {
    "duration": 4,
    "start_time": "2025-04-03T08:18:06.273Z"
   },
   {
    "duration": 4,
    "start_time": "2025-04-03T08:18:06.566Z"
   },
   {
    "duration": 4,
    "start_time": "2025-04-03T08:18:06.756Z"
   },
   {
    "duration": 4,
    "start_time": "2025-04-03T08:18:06.957Z"
   },
   {
    "duration": 3,
    "start_time": "2025-04-03T08:18:07.140Z"
   },
   {
    "duration": 3,
    "start_time": "2025-04-03T08:18:07.319Z"
   },
   {
    "duration": 4,
    "start_time": "2025-04-03T08:18:07.513Z"
   },
   {
    "duration": 3,
    "start_time": "2025-04-03T08:18:07.700Z"
   },
   {
    "duration": 2,
    "start_time": "2025-04-03T08:18:07.897Z"
   },
   {
    "duration": 2,
    "start_time": "2025-04-03T08:18:08.101Z"
   },
   {
    "duration": 4,
    "start_time": "2025-04-03T08:18:08.291Z"
   },
   {
    "duration": 6,
    "start_time": "2025-04-03T08:18:08.499Z"
   },
   {
    "duration": 5,
    "start_time": "2025-04-03T08:18:08.700Z"
   },
   {
    "duration": 25,
    "start_time": "2025-04-03T08:18:08.898Z"
   },
   {
    "duration": 5,
    "start_time": "2025-04-03T08:18:09.096Z"
   },
   {
    "duration": 7,
    "start_time": "2025-04-03T08:18:09.295Z"
   },
   {
    "duration": 6,
    "start_time": "2025-04-03T08:18:09.494Z"
   },
   {
    "duration": 6,
    "start_time": "2025-04-03T08:18:09.699Z"
   },
   {
    "duration": 6,
    "start_time": "2025-04-03T08:18:09.881Z"
   },
   {
    "duration": 35,
    "start_time": "2025-04-03T08:18:10.088Z"
   },
   {
    "duration": 2,
    "start_time": "2025-04-03T08:18:10.278Z"
   },
   {
    "duration": 151,
    "start_time": "2025-04-03T08:18:10.489Z"
   },
   {
    "duration": 175,
    "start_time": "2025-04-03T08:18:22.031Z"
   },
   {
    "duration": 17,
    "start_time": "2025-04-03T08:19:20.529Z"
   },
   {
    "duration": 217,
    "start_time": "2025-04-03T08:20:03.486Z"
   },
   {
    "duration": 235,
    "start_time": "2025-04-03T08:22:17.877Z"
   },
   {
    "duration": 244,
    "start_time": "2025-04-03T08:23:01.374Z"
   },
   {
    "duration": 253,
    "start_time": "2025-04-03T08:25:24.453Z"
   },
   {
    "duration": 238,
    "start_time": "2025-04-03T08:25:38.993Z"
   },
   {
    "duration": 236,
    "start_time": "2025-04-03T08:25:58.031Z"
   },
   {
    "duration": 271,
    "start_time": "2025-04-03T08:31:43.722Z"
   },
   {
    "duration": 10,
    "start_time": "2025-04-03T08:31:56.638Z"
   },
   {
    "duration": 239,
    "start_time": "2025-04-03T08:32:32.525Z"
   },
   {
    "duration": 12,
    "start_time": "2025-04-03T08:39:42.701Z"
   },
   {
    "duration": 10,
    "start_time": "2025-04-03T08:39:50.603Z"
   },
   {
    "duration": 2,
    "start_time": "2025-04-03T08:40:19.943Z"
   },
   {
    "duration": 3,
    "start_time": "2025-04-03T08:40:49.131Z"
   },
   {
    "duration": 4,
    "start_time": "2025-04-03T08:40:49.865Z"
   },
   {
    "duration": 4,
    "start_time": "2025-04-03T08:41:26.855Z"
   },
   {
    "duration": 4,
    "start_time": "2025-04-03T08:41:27.574Z"
   },
   {
    "duration": 4,
    "start_time": "2025-04-03T08:41:28.198Z"
   },
   {
    "duration": 3,
    "start_time": "2025-04-03T08:41:29.355Z"
   },
   {
    "duration": 2,
    "start_time": "2025-04-03T08:41:30.486Z"
   },
   {
    "duration": 3,
    "start_time": "2025-04-03T08:41:33.180Z"
   },
   {
    "duration": 16,
    "start_time": "2025-04-03T08:41:39.978Z"
   },
   {
    "duration": 16,
    "start_time": "2025-04-03T08:42:43.050Z"
   },
   {
    "duration": 11,
    "start_time": "2025-04-03T08:48:11.163Z"
   },
   {
    "duration": 3,
    "start_time": "2025-04-03T08:55:53.115Z"
   },
   {
    "duration": 87,
    "start_time": "2025-04-03T08:56:37.162Z"
   },
   {
    "duration": 9,
    "start_time": "2025-04-03T08:57:00.379Z"
   },
   {
    "duration": 156,
    "start_time": "2025-04-03T08:57:28.587Z"
   },
   {
    "duration": 13,
    "start_time": "2025-04-03T08:59:56.766Z"
   },
   {
    "duration": 13,
    "start_time": "2025-04-03T09:00:12.018Z"
   },
   {
    "duration": 5,
    "start_time": "2025-04-03T09:04:21.863Z"
   },
   {
    "duration": 4,
    "start_time": "2025-04-03T09:05:39.134Z"
   },
   {
    "duration": 154,
    "start_time": "2025-04-03T09:05:42.221Z"
   },
   {
    "duration": 204,
    "start_time": "2025-04-03T09:09:34.281Z"
   },
   {
    "duration": 199,
    "start_time": "2025-04-03T09:09:52.267Z"
   },
   {
    "duration": 177,
    "start_time": "2025-04-03T09:10:03.172Z"
   },
   {
    "duration": 198,
    "start_time": "2025-04-03T09:11:14.406Z"
   },
   {
    "duration": 191,
    "start_time": "2025-04-03T09:11:50.095Z"
   },
   {
    "duration": 201,
    "start_time": "2025-04-03T09:12:06.414Z"
   },
   {
    "duration": 25,
    "start_time": "2025-04-03T09:20:42.182Z"
   },
   {
    "duration": 71,
    "start_time": "2025-04-03T09:33:57.710Z"
   },
   {
    "duration": 24,
    "start_time": "2025-04-03T09:34:06.397Z"
   },
   {
    "duration": 6,
    "start_time": "2025-04-03T09:34:36.430Z"
   },
   {
    "duration": 82,
    "start_time": "2025-04-03T09:36:42.506Z"
   },
   {
    "duration": 1315,
    "start_time": "2025-04-03T09:37:14.013Z"
   },
   {
    "duration": 672,
    "start_time": "2025-04-03T09:38:46.268Z"
   },
   {
    "duration": 553,
    "start_time": "2025-04-03T09:39:13.331Z"
   },
   {
    "duration": 401,
    "start_time": "2025-04-03T12:04:48.436Z"
   },
   {
    "duration": 314,
    "start_time": "2025-04-03T12:04:49.175Z"
   },
   {
    "duration": 8,
    "start_time": "2025-04-03T12:04:50.289Z"
   },
   {
    "duration": 4,
    "start_time": "2025-04-03T12:04:53.187Z"
   },
   {
    "duration": 4,
    "start_time": "2025-04-03T12:04:54.609Z"
   },
   {
    "duration": 4,
    "start_time": "2025-04-03T12:05:00.045Z"
   },
   {
    "duration": 4,
    "start_time": "2025-04-03T12:05:00.792Z"
   },
   {
    "duration": 3,
    "start_time": "2025-04-03T12:05:01.807Z"
   },
   {
    "duration": 3,
    "start_time": "2025-04-03T12:05:04.690Z"
   },
   {
    "duration": 3,
    "start_time": "2025-04-03T12:05:05.839Z"
   },
   {
    "duration": 4,
    "start_time": "2025-04-03T12:05:06.643Z"
   },
   {
    "duration": 4,
    "start_time": "2025-04-03T12:05:08.144Z"
   },
   {
    "duration": 3,
    "start_time": "2025-04-03T12:05:10.746Z"
   },
   {
    "duration": 3,
    "start_time": "2025-04-03T12:05:12.000Z"
   },
   {
    "duration": 2,
    "start_time": "2025-04-03T12:05:13.349Z"
   },
   {
    "duration": 6,
    "start_time": "2025-04-03T12:05:15.432Z"
   },
   {
    "duration": 5,
    "start_time": "2025-04-03T12:05:19.395Z"
   },
   {
    "duration": 5,
    "start_time": "2025-04-03T12:05:27.811Z"
   },
   {
    "duration": 66,
    "start_time": "2025-04-03T12:06:07.410Z"
   },
   {
    "duration": 878,
    "start_time": "2025-04-03T12:06:36.539Z"
   },
   {
    "duration": 799,
    "start_time": "2025-04-03T12:07:01.759Z"
   },
   {
    "duration": 912,
    "start_time": "2025-04-03T12:07:15.399Z"
   },
   {
    "duration": 6,
    "start_time": "2025-04-03T12:09:21.520Z"
   },
   {
    "duration": 5,
    "start_time": "2025-04-03T12:09:22.338Z"
   },
   {
    "duration": 6,
    "start_time": "2025-04-03T12:09:23.011Z"
   },
   {
    "duration": 5,
    "start_time": "2025-04-03T12:09:23.771Z"
   },
   {
    "duration": 6,
    "start_time": "2025-04-03T12:09:26.677Z"
   },
   {
    "duration": 5,
    "start_time": "2025-04-03T12:09:27.537Z"
   },
   {
    "duration": 34,
    "start_time": "2025-04-03T12:09:30.888Z"
   },
   {
    "duration": 80,
    "start_time": "2025-04-03T12:10:13.865Z"
   },
   {
    "duration": 656,
    "start_time": "2025-04-03T12:10:35.970Z"
   },
   {
    "duration": 5,
    "start_time": "2025-04-03T12:13:37.644Z"
   },
   {
    "duration": 67,
    "start_time": "2025-04-03T12:13:40.609Z"
   },
   {
    "duration": 4,
    "start_time": "2025-04-03T12:13:44.373Z"
   },
   {
    "duration": 3,
    "start_time": "2025-04-03T12:14:18.694Z"
   },
   {
    "duration": 1172,
    "start_time": "2025-04-03T12:15:04.951Z"
   },
   {
    "duration": 63,
    "start_time": "2025-04-03T12:15:26.270Z"
   },
   {
    "duration": 68,
    "start_time": "2025-04-03T12:15:34.609Z"
   },
   {
    "duration": 71,
    "start_time": "2025-04-03T12:17:44.894Z"
   },
   {
    "duration": 76,
    "start_time": "2025-04-03T12:17:59.024Z"
   },
   {
    "duration": 5,
    "start_time": "2025-04-03T12:18:29.434Z"
   },
   {
    "duration": 5,
    "start_time": "2025-04-03T12:18:38.622Z"
   },
   {
    "duration": 7,
    "start_time": "2025-04-03T12:18:59.884Z"
   },
   {
    "duration": 25,
    "start_time": "2025-04-03T12:19:15.377Z"
   },
   {
    "duration": 427,
    "start_time": "2025-04-03T12:19:24.164Z"
   },
   {
    "duration": 250,
    "start_time": "2025-04-03T12:19:24.964Z"
   },
   {
    "duration": 257,
    "start_time": "2025-04-03T12:19:26.598Z"
   },
   {
    "duration": 226,
    "start_time": "2025-04-03T12:19:29.465Z"
   },
   {
    "duration": 4,
    "start_time": "2025-04-03T12:19:32.268Z"
   },
   {
    "duration": 10,
    "start_time": "2025-04-03T12:19:33.400Z"
   },
   {
    "duration": 6,
    "start_time": "2025-04-03T12:19:34.088Z"
   },
   {
    "duration": 5,
    "start_time": "2025-04-03T12:19:39.348Z"
   },
   {
    "duration": 247,
    "start_time": "2025-04-03T12:19:40.345Z"
   },
   {
    "duration": 4,
    "start_time": "2025-04-03T12:19:48.422Z"
   },
   {
    "duration": 197,
    "start_time": "2025-04-03T12:19:49.267Z"
   },
   {
    "duration": 24,
    "start_time": "2025-04-03T12:19:50.567Z"
   },
   {
    "duration": 11,
    "start_time": "2025-04-03T12:20:02.460Z"
   },
   {
    "duration": 15,
    "start_time": "2025-04-03T12:21:07.576Z"
   },
   {
    "duration": 62,
    "start_time": "2025-04-03T12:26:26.325Z"
   },
   {
    "duration": 7,
    "start_time": "2025-04-03T12:26:33.790Z"
   },
   {
    "duration": 10,
    "start_time": "2025-04-03T12:28:08.668Z"
   },
   {
    "duration": 8,
    "start_time": "2025-04-03T12:28:47.195Z"
   },
   {
    "duration": 10,
    "start_time": "2025-04-03T12:28:52.494Z"
   },
   {
    "duration": 7,
    "start_time": "2025-04-03T12:29:53.463Z"
   },
   {
    "duration": 3,
    "start_time": "2025-04-03T12:29:55.811Z"
   },
   {
    "duration": 213,
    "start_time": "2025-04-03T12:30:13.117Z"
   },
   {
    "duration": 385,
    "start_time": "2025-04-03T14:32:32.292Z"
   },
   {
    "duration": 213,
    "start_time": "2025-04-03T14:32:32.679Z"
   },
   {
    "duration": 8,
    "start_time": "2025-04-03T14:32:32.894Z"
   },
   {
    "duration": 6,
    "start_time": "2025-04-03T14:32:32.903Z"
   },
   {
    "duration": 4,
    "start_time": "2025-04-03T14:32:33.068Z"
   },
   {
    "duration": 4,
    "start_time": "2025-04-03T14:32:33.252Z"
   },
   {
    "duration": 3,
    "start_time": "2025-04-03T14:32:33.459Z"
   },
   {
    "duration": 3,
    "start_time": "2025-04-03T14:32:33.659Z"
   },
   {
    "duration": 3,
    "start_time": "2025-04-03T14:32:33.859Z"
   },
   {
    "duration": 3,
    "start_time": "2025-04-03T14:32:34.066Z"
   },
   {
    "duration": 3,
    "start_time": "2025-04-03T14:32:34.259Z"
   },
   {
    "duration": 3,
    "start_time": "2025-04-03T14:32:34.555Z"
   },
   {
    "duration": 3,
    "start_time": "2025-04-03T14:32:34.671Z"
   },
   {
    "duration": 2,
    "start_time": "2025-04-03T14:32:34.907Z"
   },
   {
    "duration": 3,
    "start_time": "2025-04-03T14:32:35.120Z"
   },
   {
    "duration": 6,
    "start_time": "2025-04-03T14:32:35.322Z"
   },
   {
    "duration": 5,
    "start_time": "2025-04-03T14:32:35.532Z"
   },
   {
    "duration": 5,
    "start_time": "2025-04-03T14:32:35.748Z"
   },
   {
    "duration": 6,
    "start_time": "2025-04-03T14:32:35.954Z"
   },
   {
    "duration": 7,
    "start_time": "2025-04-03T14:32:36.159Z"
   },
   {
    "duration": 9,
    "start_time": "2025-04-03T14:32:36.362Z"
   },
   {
    "duration": 6,
    "start_time": "2025-04-03T14:32:36.574Z"
   },
   {
    "duration": 5,
    "start_time": "2025-04-03T14:32:36.761Z"
   },
   {
    "duration": 37,
    "start_time": "2025-04-03T14:32:36.967Z"
   },
   {
    "duration": 5,
    "start_time": "2025-04-03T14:32:37.187Z"
   },
   {
    "duration": 26,
    "start_time": "2025-04-03T14:32:37.387Z"
   },
   {
    "duration": 403,
    "start_time": "2025-04-03T14:32:37.592Z"
   },
   {
    "duration": 267,
    "start_time": "2025-04-03T14:32:37.997Z"
   },
   {
    "duration": 267,
    "start_time": "2025-04-03T14:32:38.265Z"
   },
   {
    "duration": 251,
    "start_time": "2025-04-03T14:32:38.535Z"
   },
   {
    "duration": 5,
    "start_time": "2025-04-03T14:32:38.789Z"
   },
   {
    "duration": 11,
    "start_time": "2025-04-03T14:32:38.862Z"
   },
   {
    "duration": 5,
    "start_time": "2025-04-03T14:32:39.656Z"
   },
   {
    "duration": 262,
    "start_time": "2025-04-03T14:32:39.863Z"
   },
   {
    "duration": 32,
    "start_time": "2025-04-03T14:32:40.127Z"
   },
   {
    "duration": 10,
    "start_time": "2025-04-03T14:32:41.104Z"
   },
   {
    "duration": 3,
    "start_time": "2025-04-03T14:32:43.553Z"
   },
   {
    "duration": 277,
    "start_time": "2025-04-03T14:34:29.966Z"
   },
   {
    "duration": 256,
    "start_time": "2025-04-03T14:36:15.349Z"
   },
   {
    "duration": 59,
    "start_time": "2025-04-03T14:36:46.347Z"
   },
   {
    "duration": 247,
    "start_time": "2025-04-03T14:36:53.279Z"
   },
   {
    "duration": 247,
    "start_time": "2025-04-03T14:37:12.089Z"
   },
   {
    "duration": 256,
    "start_time": "2025-04-03T14:37:42.273Z"
   },
   {
    "duration": 319,
    "start_time": "2025-04-03T14:40:15.186Z"
   },
   {
    "duration": 247,
    "start_time": "2025-04-03T14:40:25.015Z"
   },
   {
    "duration": 8,
    "start_time": "2025-04-03T14:40:44.826Z"
   },
   {
    "duration": 8,
    "start_time": "2025-04-03T14:41:34.501Z"
   },
   {
    "duration": 4,
    "start_time": "2025-04-03T14:41:35.190Z"
   },
   {
    "duration": 255,
    "start_time": "2025-04-03T14:41:35.940Z"
   },
   {
    "duration": 467,
    "start_time": "2025-04-03T15:30:04.196Z"
   },
   {
    "duration": 3,
    "start_time": "2025-04-03T15:31:58.428Z"
   },
   {
    "duration": 3,
    "start_time": "2025-04-03T15:32:27.065Z"
   },
   {
    "duration": 2,
    "start_time": "2025-04-03T15:32:36.871Z"
   },
   {
    "duration": 6,
    "start_time": "2025-04-03T15:35:30.043Z"
   },
   {
    "duration": 33,
    "start_time": "2025-04-03T15:36:05.592Z"
   },
   {
    "duration": 4,
    "start_time": "2025-04-03T15:36:17.646Z"
   },
   {
    "duration": 3,
    "start_time": "2025-04-03T15:38:33.964Z"
   },
   {
    "duration": 4,
    "start_time": "2025-04-03T15:38:51.615Z"
   },
   {
    "duration": 3,
    "start_time": "2025-04-03T15:39:03.072Z"
   },
   {
    "duration": 2,
    "start_time": "2025-04-03T15:39:03.838Z"
   },
   {
    "duration": 2,
    "start_time": "2025-04-03T15:39:04.564Z"
   },
   {
    "duration": 3,
    "start_time": "2025-04-03T15:39:05.220Z"
   },
   {
    "duration": 4,
    "start_time": "2025-04-03T15:39:06.253Z"
   },
   {
    "duration": 4,
    "start_time": "2025-04-03T15:39:17.392Z"
   },
   {
    "duration": 4,
    "start_time": "2025-04-03T15:40:02.735Z"
   },
   {
    "duration": 4,
    "start_time": "2025-04-03T15:40:10.578Z"
   },
   {
    "duration": 4,
    "start_time": "2025-04-03T15:40:14.521Z"
   },
   {
    "duration": 3,
    "start_time": "2025-04-03T15:42:28.340Z"
   },
   {
    "duration": 3,
    "start_time": "2025-04-03T15:42:40.591Z"
   },
   {
    "duration": 2,
    "start_time": "2025-04-03T15:43:52.389Z"
   },
   {
    "duration": 2,
    "start_time": "2025-04-03T15:43:53.079Z"
   },
   {
    "duration": 2,
    "start_time": "2025-04-03T15:47:35.289Z"
   },
   {
    "duration": 3,
    "start_time": "2025-04-03T15:47:50.421Z"
   },
   {
    "duration": 3,
    "start_time": "2025-04-03T15:48:40.255Z"
   },
   {
    "duration": 3,
    "start_time": "2025-04-03T15:49:03.358Z"
   },
   {
    "duration": 8,
    "start_time": "2025-04-03T15:50:20.446Z"
   },
   {
    "duration": 2,
    "start_time": "2025-04-03T15:50:39.666Z"
   },
   {
    "duration": 3,
    "start_time": "2025-04-03T15:50:45.404Z"
   },
   {
    "duration": 3,
    "start_time": "2025-04-03T15:51:15.160Z"
   },
   {
    "duration": 5,
    "start_time": "2025-04-03T15:56:16.929Z"
   },
   {
    "duration": 3,
    "start_time": "2025-04-03T15:56:19.424Z"
   },
   {
    "duration": 284,
    "start_time": "2025-04-03T15:56:20.070Z"
   },
   {
    "duration": 4,
    "start_time": "2025-04-03T15:56:20.739Z"
   },
   {
    "duration": 4,
    "start_time": "2025-04-03T15:56:24.010Z"
   },
   {
    "duration": 5,
    "start_time": "2025-04-03T15:56:24.856Z"
   },
   {
    "duration": 4,
    "start_time": "2025-04-03T15:56:28.457Z"
   },
   {
    "duration": 4,
    "start_time": "2025-04-03T15:57:05.927Z"
   },
   {
    "duration": 3,
    "start_time": "2025-04-03T15:57:08.550Z"
   },
   {
    "duration": 3,
    "start_time": "2025-04-03T15:57:09.083Z"
   },
   {
    "duration": 3,
    "start_time": "2025-04-03T15:57:10.135Z"
   },
   {
    "duration": 3,
    "start_time": "2025-04-03T15:57:12.219Z"
   },
   {
    "duration": 2,
    "start_time": "2025-04-03T15:57:12.836Z"
   },
   {
    "duration": 2,
    "start_time": "2025-04-03T15:57:13.980Z"
   },
   {
    "duration": 2,
    "start_time": "2025-04-03T15:57:18.072Z"
   },
   {
    "duration": 6,
    "start_time": "2025-04-03T15:57:46.145Z"
   },
   {
    "duration": 5,
    "start_time": "2025-04-03T15:57:49.871Z"
   },
   {
    "duration": 5,
    "start_time": "2025-04-03T15:57:58.381Z"
   },
   {
    "duration": 5,
    "start_time": "2025-04-03T15:58:04.486Z"
   },
   {
    "duration": 6,
    "start_time": "2025-04-03T15:59:23.176Z"
   },
   {
    "duration": 6,
    "start_time": "2025-04-03T15:59:26.358Z"
   },
   {
    "duration": 6,
    "start_time": "2025-04-03T15:59:27.219Z"
   },
   {
    "duration": 5,
    "start_time": "2025-04-03T15:59:30.422Z"
   },
   {
    "duration": 24,
    "start_time": "2025-04-03T16:01:43.538Z"
   },
   {
    "duration": 14,
    "start_time": "2025-04-03T16:02:19.582Z"
   },
   {
    "duration": 30,
    "start_time": "2025-04-03T16:02:53.892Z"
   },
   {
    "duration": 14,
    "start_time": "2025-04-03T16:07:44.727Z"
   },
   {
    "duration": 7,
    "start_time": "2025-04-03T16:10:37.790Z"
   },
   {
    "duration": 5,
    "start_time": "2025-04-03T16:10:38.475Z"
   },
   {
    "duration": 6,
    "start_time": "2025-04-03T16:10:39.161Z"
   },
   {
    "duration": 5,
    "start_time": "2025-04-03T16:10:39.926Z"
   },
   {
    "duration": 33,
    "start_time": "2025-04-03T16:10:42.980Z"
   },
   {
    "duration": 5,
    "start_time": "2025-04-03T16:10:46.005Z"
   },
   {
    "duration": 4,
    "start_time": "2025-04-03T16:11:35.910Z"
   },
   {
    "duration": 6,
    "start_time": "2025-04-03T16:12:03.553Z"
   },
   {
    "duration": 6,
    "start_time": "2025-04-03T16:12:03.965Z"
   },
   {
    "duration": 7,
    "start_time": "2025-04-03T16:12:04.141Z"
   },
   {
    "duration": 6,
    "start_time": "2025-04-03T16:12:04.368Z"
   },
   {
    "duration": 34,
    "start_time": "2025-04-03T16:12:06.785Z"
   },
   {
    "duration": 6,
    "start_time": "2025-04-03T16:12:07.966Z"
   },
   {
    "duration": 4,
    "start_time": "2025-04-03T16:12:38.141Z"
   },
   {
    "duration": 27,
    "start_time": "2025-04-03T16:13:40.225Z"
   },
   {
    "duration": 3,
    "start_time": "2025-04-03T16:14:31.466Z"
   },
   {
    "duration": 245,
    "start_time": "2025-04-03T16:17:07.811Z"
   },
   {
    "duration": 244,
    "start_time": "2025-04-03T16:18:37.849Z"
   },
   {
    "duration": 244,
    "start_time": "2025-04-03T16:19:10.359Z"
   },
   {
    "duration": 235,
    "start_time": "2025-04-03T16:20:27.330Z"
   },
   {
    "duration": 4,
    "start_time": "2025-04-03T16:23:04.090Z"
   },
   {
    "duration": 9,
    "start_time": "2025-04-03T16:23:04.781Z"
   },
   {
    "duration": 201,
    "start_time": "2025-04-03T16:23:45.213Z"
   },
   {
    "duration": 3,
    "start_time": "2025-04-03T16:24:57.495Z"
   },
   {
    "duration": 10,
    "start_time": "2025-04-03T16:24:58.351Z"
   },
   {
    "duration": 208,
    "start_time": "2025-04-03T16:25:03.250Z"
   },
   {
    "duration": 4,
    "start_time": "2025-04-03T16:25:30.883Z"
   },
   {
    "duration": 9,
    "start_time": "2025-04-03T16:25:31.525Z"
   },
   {
    "duration": 4,
    "start_time": "2025-04-03T16:25:42.536Z"
   },
   {
    "duration": 3,
    "start_time": "2025-04-03T16:26:09.616Z"
   },
   {
    "duration": 10,
    "start_time": "2025-04-03T16:26:10.347Z"
   },
   {
    "duration": 204,
    "start_time": "2025-04-03T16:26:12.452Z"
   },
   {
    "duration": 218,
    "start_time": "2025-04-03T16:26:51.310Z"
   },
   {
    "duration": 205,
    "start_time": "2025-04-03T16:26:58.482Z"
   },
   {
    "duration": 24,
    "start_time": "2025-04-03T16:29:59.280Z"
   },
   {
    "duration": 10,
    "start_time": "2025-04-03T16:30:24.078Z"
   },
   {
    "duration": 3,
    "start_time": "2025-04-03T16:47:29.861Z"
   },
   {
    "duration": 258,
    "start_time": "2025-04-03T16:47:48.250Z"
   },
   {
    "duration": 3,
    "start_time": "2025-04-03T16:53:29.103Z"
   },
   {
    "duration": 2,
    "start_time": "2025-04-03T16:53:29.758Z"
   },
   {
    "duration": 2,
    "start_time": "2025-04-03T16:53:30.457Z"
   },
   {
    "duration": 4,
    "start_time": "2025-04-03T16:53:31.628Z"
   },
   {
    "duration": 2,
    "start_time": "2025-04-03T16:55:19.865Z"
   },
   {
    "duration": 3,
    "start_time": "2025-04-03T16:55:20.773Z"
   },
   {
    "duration": 3,
    "start_time": "2025-04-03T16:55:23.025Z"
   },
   {
    "duration": 4,
    "start_time": "2025-04-03T16:55:23.860Z"
   },
   {
    "duration": 3,
    "start_time": "2025-04-03T16:55:27.820Z"
   },
   {
    "duration": 3,
    "start_time": "2025-04-03T16:55:50.784Z"
   }
  ],
  "kernelspec": {
   "display_name": "Python 3 (ipykernel)",
   "language": "python",
   "name": "python3"
  },
  "language_info": {
   "codemirror_mode": {
    "name": "ipython",
    "version": 3
   },
   "file_extension": ".py",
   "mimetype": "text/x-python",
   "name": "python",
   "nbconvert_exporter": "python",
   "pygments_lexer": "ipython3",
   "version": "3.9.5"
  },
  "toc": {
   "base_numbering": 1,
   "nav_menu": {},
   "number_sections": true,
   "sideBar": true,
   "skip_h1_title": true,
   "title_cell": "Table of Contents",
   "title_sidebar": "Contents",
   "toc_cell": false,
   "toc_position": {},
   "toc_section_display": true,
   "toc_window_display": false
  }
 },
 "nbformat": 4,
 "nbformat_minor": 5
}
