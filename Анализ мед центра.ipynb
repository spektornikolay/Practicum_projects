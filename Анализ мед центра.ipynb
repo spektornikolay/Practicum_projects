{
 "cells": [
  {
   "cell_type": "markdown",
   "id": "16e82e59",
   "metadata": {},
   "source": [
    "# Проект \"Анализ данных федерального медицинского центра ФГБОУ ВО СПбГПМУ\""
   ]
  },
  {
   "cell_type": "markdown",
   "id": "92df9b15",
   "metadata": {},
   "source": [
    "Цель: узнать, какие факторы влияют на время, которое занимает процесс от выдачи направления до поступления в медицинский центр.\n",
    "\n",
    "Задачи: \n",
    "Проанализировать распределние пациентов по количеству дней госпитализации; проанализировать отделения по длительности госпитализации пациентов и выявить лидеров; проанализировать количество поступивших пациентов по годам; проверить гипотезу, что  средняя длительность госпитализации пациентов отличается от стандартного семидневного срока и гипотезу, отличается ли средняя длительность лечения в стационаре между плановыми и экстренными пациентами."
   ]
  },
  {
   "cell_type": "code",
   "execution_count": 30,
   "id": "bce03fe2",
   "metadata": {},
   "outputs": [],
   "source": [
    "import pandas as pd"
   ]
  },
  {
   "cell_type": "code",
   "execution_count": 31,
   "id": "f4586fa6",
   "metadata": {},
   "outputs": [],
   "source": [
    "df = pd.read_csv('https://code.s3.yandex.net/datasets/hospital.csv')"
   ]
  },
  {
   "cell_type": "code",
   "execution_count": 32,
   "id": "a83c4e96",
   "metadata": {},
   "outputs": [
    {
     "name": "stdout",
     "output_type": "stream",
     "text": [
      "<class 'pandas.core.frame.DataFrame'>\n",
      "RangeIndex: 125261 entries, 0 to 125260\n",
      "Data columns (total 14 columns):\n",
      " #   Column                   Non-Null Count   Dtype  \n",
      "---  ------                   --------------   -----  \n",
      " 0   ДАТА_ПОСТУПЛЕНИЯ         125261 non-null  object \n",
      " 1   ДАТА_ВЫПИСКИ             125261 non-null  object \n",
      " 2   УНИКАЛЬНЫЙ_ID            125261 non-null  int64  \n",
      " 3   НОМЕР_ИБ                 125261 non-null  int64  \n",
      " 4   ШИФР                     125261 non-null  object \n",
      " 5   РЕГИОН                   56391 non-null   object \n",
      " 6   ПЛАТЕЛЬЩИК               125261 non-null  object \n",
      " 7   ИСТОЧНИК_ФИНАНСИРОВАНИЯ  125261 non-null  object \n",
      " 8   ОТДЕЛЕНИЕ                125261 non-null  object \n",
      " 9   ПРОФИЛЬ                  125261 non-null  object \n",
      " 10  КОЙКО_ДНИ                125261 non-null  float64\n",
      " 11  ПЛАНОВО_ЭКСТРЕННО        125261 non-null  object \n",
      " 12  КОД_МКБ_ПРИ_ПОСТУПЛЕНИИ  125253 non-null  object \n",
      " 13  КОД_МКБ_ПРИ_ВЫПИСКЕ      125257 non-null  object \n",
      "dtypes: float64(1), int64(2), object(11)\n",
      "memory usage: 13.4+ MB\n"
     ]
    },
    {
     "data": {
      "text/html": [
       "<div>\n",
       "<style scoped>\n",
       "    .dataframe tbody tr th:only-of-type {\n",
       "        vertical-align: middle;\n",
       "    }\n",
       "\n",
       "    .dataframe tbody tr th {\n",
       "        vertical-align: top;\n",
       "    }\n",
       "\n",
       "    .dataframe thead th {\n",
       "        text-align: right;\n",
       "    }\n",
       "</style>\n",
       "<table border=\"1\" class=\"dataframe\">\n",
       "  <thead>\n",
       "    <tr style=\"text-align: right;\">\n",
       "      <th></th>\n",
       "      <th>ДАТА_ПОСТУПЛЕНИЯ</th>\n",
       "      <th>ДАТА_ВЫПИСКИ</th>\n",
       "      <th>УНИКАЛЬНЫЙ_ID</th>\n",
       "      <th>НОМЕР_ИБ</th>\n",
       "      <th>ШИФР</th>\n",
       "      <th>РЕГИОН</th>\n",
       "      <th>ПЛАТЕЛЬЩИК</th>\n",
       "      <th>ИСТОЧНИК_ФИНАНСИРОВАНИЯ</th>\n",
       "      <th>ОТДЕЛЕНИЕ</th>\n",
       "      <th>ПРОФИЛЬ</th>\n",
       "      <th>КОЙКО_ДНИ</th>\n",
       "      <th>ПЛАНОВО_ЭКСТРЕННО</th>\n",
       "      <th>КОД_МКБ_ПРИ_ПОСТУПЛЕНИИ</th>\n",
       "      <th>КОД_МКБ_ПРИ_ВЫПИСКЕ</th>\n",
       "    </tr>\n",
       "  </thead>\n",
       "  <tbody>\n",
       "    <tr>\n",
       "      <th>0</th>\n",
       "      <td>01.01.2019</td>\n",
       "      <td>10.01.2019</td>\n",
       "      <td>858042000</td>\n",
       "      <td>1</td>\n",
       "      <td>5.4.1</td>\n",
       "      <td>NaN</td>\n",
       "      <td>ОАО \"ГСМК\" СПб</td>\n",
       "      <td>ОМС</td>\n",
       "      <td>Микрохирургическое отделение</td>\n",
       "      <td>Сосудистой хирургии</td>\n",
       "      <td>10.0</td>\n",
       "      <td>Экстренная</td>\n",
       "      <td>S61.7</td>\n",
       "      <td>S66.4</td>\n",
       "    </tr>\n",
       "    <tr>\n",
       "      <th>1</th>\n",
       "      <td>01.01.2019</td>\n",
       "      <td>01.01.2019</td>\n",
       "      <td>993109000</td>\n",
       "      <td>3</td>\n",
       "      <td>5.13.1</td>\n",
       "      <td>NaN</td>\n",
       "      <td>СПб филиал ООО \"СМК РЕСО - Мед\"</td>\n",
       "      <td>ОМС</td>\n",
       "      <td>Хирургическое отделение №3</td>\n",
       "      <td>Гнойные хирургические</td>\n",
       "      <td>1.0</td>\n",
       "      <td>Экстренная</td>\n",
       "      <td>K37</td>\n",
       "      <td>K63.8</td>\n",
       "    </tr>\n",
       "    <tr>\n",
       "      <th>2</th>\n",
       "      <td>01.01.2019</td>\n",
       "      <td>01.01.2019</td>\n",
       "      <td>993111000</td>\n",
       "      <td>4</td>\n",
       "      <td>5.12.1</td>\n",
       "      <td>NaN</td>\n",
       "      <td>ООО \"Капитал Медицинское Страхование\"</td>\n",
       "      <td>ОМС</td>\n",
       "      <td>Хирургическое отделение №3</td>\n",
       "      <td>Гнойные хирургические</td>\n",
       "      <td>1.0</td>\n",
       "      <td>Экстренная</td>\n",
       "      <td>K37</td>\n",
       "      <td>K63.8</td>\n",
       "    </tr>\n",
       "    <tr>\n",
       "      <th>3</th>\n",
       "      <td>01.01.2019</td>\n",
       "      <td>07.01.2019</td>\n",
       "      <td>993110000</td>\n",
       "      <td>2</td>\n",
       "      <td>5.4.1</td>\n",
       "      <td>NaN</td>\n",
       "      <td>ОАО \"ГСМК\" СПб</td>\n",
       "      <td>ОМС</td>\n",
       "      <td>Инфекционное отделение №1</td>\n",
       "      <td>Инфекционные</td>\n",
       "      <td>7.0</td>\n",
       "      <td>Экстренная</td>\n",
       "      <td>B27.9</td>\n",
       "      <td>J03.9</td>\n",
       "    </tr>\n",
       "    <tr>\n",
       "      <th>4</th>\n",
       "      <td>01.01.2019</td>\n",
       "      <td>05.01.2019</td>\n",
       "      <td>987185000</td>\n",
       "      <td>5</td>\n",
       "      <td>1.1.1</td>\n",
       "      <td>NaN</td>\n",
       "      <td>Коммерческие</td>\n",
       "      <td>Наличный расчет</td>\n",
       "      <td>ПЦ Акушерское физиологическое отделение</td>\n",
       "      <td>Для беременных и рожениц</td>\n",
       "      <td>5.0</td>\n",
       "      <td>Плановая</td>\n",
       "      <td>O42.9</td>\n",
       "      <td>O82.1</td>\n",
       "    </tr>\n",
       "  </tbody>\n",
       "</table>\n",
       "</div>"
      ],
      "text/plain": [
       "  ДАТА_ПОСТУПЛЕНИЯ ДАТА_ВЫПИСКИ  УНИКАЛЬНЫЙ_ID  НОМЕР_ИБ    ШИФР РЕГИОН  \\\n",
       "0       01.01.2019   10.01.2019      858042000         1   5.4.1    NaN   \n",
       "1       01.01.2019   01.01.2019      993109000         3  5.13.1    NaN   \n",
       "2       01.01.2019   01.01.2019      993111000         4  5.12.1    NaN   \n",
       "3       01.01.2019   07.01.2019      993110000         2   5.4.1    NaN   \n",
       "4       01.01.2019   05.01.2019      987185000         5   1.1.1    NaN   \n",
       "\n",
       "                              ПЛАТЕЛЬЩИК ИСТОЧНИК_ФИНАНСИРОВАНИЯ  \\\n",
       "0                         ОАО \"ГСМК\" СПб                     ОМС   \n",
       "1        СПб филиал ООО \"СМК РЕСО - Мед\"                     ОМС   \n",
       "2  ООО \"Капитал Медицинское Страхование\"                     ОМС   \n",
       "3                         ОАО \"ГСМК\" СПб                     ОМС   \n",
       "4                           Коммерческие         Наличный расчет   \n",
       "\n",
       "                                 ОТДЕЛЕНИЕ                   ПРОФИЛЬ  \\\n",
       "0             Микрохирургическое отделение       Сосудистой хирургии   \n",
       "1               Хирургическое отделение №3     Гнойные хирургические   \n",
       "2               Хирургическое отделение №3     Гнойные хирургические   \n",
       "3                Инфекционное отделение №1              Инфекционные   \n",
       "4  ПЦ Акушерское физиологическое отделение  Для беременных и рожениц   \n",
       "\n",
       "   КОЙКО_ДНИ ПЛАНОВО_ЭКСТРЕННО КОД_МКБ_ПРИ_ПОСТУПЛЕНИИ КОД_МКБ_ПРИ_ВЫПИСКЕ  \n",
       "0       10.0        Экстренная                   S61.7               S66.4  \n",
       "1        1.0        Экстренная                     K37               K63.8  \n",
       "2        1.0        Экстренная                     K37               K63.8  \n",
       "3        7.0        Экстренная                   B27.9               J03.9  \n",
       "4        5.0          Плановая                   O42.9               O82.1  "
      ]
     },
     "execution_count": 32,
     "metadata": {},
     "output_type": "execute_result"
    }
   ],
   "source": [
    "#Изучим датафрейм:\n",
    "\n",
    "df.info()\n",
    "df.head()"
   ]
  },
  {
   "cell_type": "markdown",
   "id": "e493d62c",
   "metadata": {},
   "source": [
    "Столбцы с датой поступления и датой выписки нужно поменять на тип \"дата\"."
   ]
  },
  {
   "cell_type": "code",
   "execution_count": 33,
   "id": "8300c0a6",
   "metadata": {},
   "outputs": [],
   "source": [
    "df['ДАТА_ПОСТУПЛЕНИЯ'] = pd.to_datetime(df['ДАТА_ПОСТУПЛЕНИЯ'])"
   ]
  },
  {
   "cell_type": "code",
   "execution_count": 34,
   "id": "9f4bab34",
   "metadata": {},
   "outputs": [],
   "source": [
    "df['ДАТА_ВЫПИСКИ'] = pd.to_datetime(df['ДАТА_ВЫПИСКИ'])"
   ]
  },
  {
   "cell_type": "code",
   "execution_count": 35,
   "id": "224dc851",
   "metadata": {},
   "outputs": [
    {
     "data": {
      "text/plain": [
       "ДАТА_ПОСТУПЛЕНИЯ               0\n",
       "ДАТА_ВЫПИСКИ                   0\n",
       "УНИКАЛЬНЫЙ_ID                  0\n",
       "НОМЕР_ИБ                       0\n",
       "ШИФР                           0\n",
       "РЕГИОН                     68870\n",
       "ПЛАТЕЛЬЩИК                     0\n",
       "ИСТОЧНИК_ФИНАНСИРОВАНИЯ        0\n",
       "ОТДЕЛЕНИЕ                      0\n",
       "ПРОФИЛЬ                        0\n",
       "КОЙКО_ДНИ                      0\n",
       "ПЛАНОВО_ЭКСТРЕННО              0\n",
       "КОД_МКБ_ПРИ_ПОСТУПЛЕНИИ        8\n",
       "КОД_МКБ_ПРИ_ВЫПИСКЕ            4\n",
       "dtype: int64"
      ]
     },
     "execution_count": 35,
     "metadata": {},
     "output_type": "execute_result"
    }
   ],
   "source": [
    "#Изучим пропуски:\n",
    "\n",
    "df.isnull().sum()"
   ]
  },
  {
   "cell_type": "markdown",
   "id": "e6420684",
   "metadata": {},
   "source": [
    "Пропуски встечаются в основном в строке \"Регион\". Скорее всего эта информация отсутсвует в базе данных. Не будем ничего исправлять в этих пропусках. Также незначительное количество пропусков есть в строках \"КОД_МКБ_ПРИ_ПОСТУПЛЕНИИ\" и \"КОД_МКБ_ПРИ_ВЫПИСКЕ\". Но эти данные в исследовании нам не пригодятся. Так что тоже их менять не будем."
   ]
  },
  {
   "cell_type": "code",
   "execution_count": 36,
   "id": "5e1d9855",
   "metadata": {},
   "outputs": [
    {
     "data": {
      "text/plain": [
       "77019"
      ]
     },
     "execution_count": 36,
     "metadata": {},
     "output_type": "execute_result"
    }
   ],
   "source": [
    "#Посмотрим наличие дубликаов в строке \"УНИКАЛЬНЫЙ_ID\". Для этого проверим количесто уникальных значений по этому параметру:\n",
    "df['УНИКАЛЬНЫЙ_ID'].nunique()"
   ]
  },
  {
   "cell_type": "markdown",
   "id": "96b41cc5",
   "metadata": {},
   "source": [
    "Количество уникальных значений в строке \"УНИКАЛЬНЫЙ_ID\" гораздо меньше чем количество строк. Избавимся от дубликатов в строке \"УНИКАЛЬНЫЙ_ID\"."
   ]
  },
  {
   "cell_type": "code",
   "execution_count": 37,
   "id": "784ba0a4",
   "metadata": {},
   "outputs": [
    {
     "data": {
      "text/html": [
       "<div>\n",
       "<style scoped>\n",
       "    .dataframe tbody tr th:only-of-type {\n",
       "        vertical-align: middle;\n",
       "    }\n",
       "\n",
       "    .dataframe tbody tr th {\n",
       "        vertical-align: top;\n",
       "    }\n",
       "\n",
       "    .dataframe thead th {\n",
       "        text-align: right;\n",
       "    }\n",
       "</style>\n",
       "<table border=\"1\" class=\"dataframe\">\n",
       "  <thead>\n",
       "    <tr style=\"text-align: right;\">\n",
       "      <th></th>\n",
       "      <th>ДАТА_ПОСТУПЛЕНИЯ</th>\n",
       "      <th>ДАТА_ВЫПИСКИ</th>\n",
       "      <th>УНИКАЛЬНЫЙ_ID</th>\n",
       "      <th>НОМЕР_ИБ</th>\n",
       "      <th>ШИФР</th>\n",
       "      <th>РЕГИОН</th>\n",
       "      <th>ПЛАТЕЛЬЩИК</th>\n",
       "      <th>ИСТОЧНИК_ФИНАНСИРОВАНИЯ</th>\n",
       "      <th>ОТДЕЛЕНИЕ</th>\n",
       "      <th>ПРОФИЛЬ</th>\n",
       "      <th>КОЙКО_ДНИ</th>\n",
       "      <th>ПЛАНОВО_ЭКСТРЕННО</th>\n",
       "      <th>КОД_МКБ_ПРИ_ПОСТУПЛЕНИИ</th>\n",
       "      <th>КОД_МКБ_ПРИ_ВЫПИСКЕ</th>\n",
       "    </tr>\n",
       "  </thead>\n",
       "  <tbody>\n",
       "    <tr>\n",
       "      <th>0</th>\n",
       "      <td>2019-01-01</td>\n",
       "      <td>2019-10-01</td>\n",
       "      <td>858042000</td>\n",
       "      <td>1</td>\n",
       "      <td>5.4.1</td>\n",
       "      <td>NaN</td>\n",
       "      <td>ОАО \"ГСМК\" СПб</td>\n",
       "      <td>ОМС</td>\n",
       "      <td>Микрохирургическое отделение</td>\n",
       "      <td>Сосудистой хирургии</td>\n",
       "      <td>10.0</td>\n",
       "      <td>Экстренная</td>\n",
       "      <td>S61.7</td>\n",
       "      <td>S66.4</td>\n",
       "    </tr>\n",
       "    <tr>\n",
       "      <th>1</th>\n",
       "      <td>2019-01-01</td>\n",
       "      <td>2019-01-01</td>\n",
       "      <td>993109000</td>\n",
       "      <td>3</td>\n",
       "      <td>5.13.1</td>\n",
       "      <td>NaN</td>\n",
       "      <td>СПб филиал ООО \"СМК РЕСО - Мед\"</td>\n",
       "      <td>ОМС</td>\n",
       "      <td>Хирургическое отделение №3</td>\n",
       "      <td>Гнойные хирургические</td>\n",
       "      <td>1.0</td>\n",
       "      <td>Экстренная</td>\n",
       "      <td>K37</td>\n",
       "      <td>K63.8</td>\n",
       "    </tr>\n",
       "    <tr>\n",
       "      <th>2</th>\n",
       "      <td>2019-01-01</td>\n",
       "      <td>2019-01-01</td>\n",
       "      <td>993111000</td>\n",
       "      <td>4</td>\n",
       "      <td>5.12.1</td>\n",
       "      <td>NaN</td>\n",
       "      <td>ООО \"Капитал Медицинское Страхование\"</td>\n",
       "      <td>ОМС</td>\n",
       "      <td>Хирургическое отделение №3</td>\n",
       "      <td>Гнойные хирургические</td>\n",
       "      <td>1.0</td>\n",
       "      <td>Экстренная</td>\n",
       "      <td>K37</td>\n",
       "      <td>K63.8</td>\n",
       "    </tr>\n",
       "    <tr>\n",
       "      <th>3</th>\n",
       "      <td>2019-01-01</td>\n",
       "      <td>2019-07-01</td>\n",
       "      <td>993110000</td>\n",
       "      <td>2</td>\n",
       "      <td>5.4.1</td>\n",
       "      <td>NaN</td>\n",
       "      <td>ОАО \"ГСМК\" СПб</td>\n",
       "      <td>ОМС</td>\n",
       "      <td>Инфекционное отделение №1</td>\n",
       "      <td>Инфекционные</td>\n",
       "      <td>7.0</td>\n",
       "      <td>Экстренная</td>\n",
       "      <td>B27.9</td>\n",
       "      <td>J03.9</td>\n",
       "    </tr>\n",
       "    <tr>\n",
       "      <th>4</th>\n",
       "      <td>2019-01-01</td>\n",
       "      <td>2019-05-01</td>\n",
       "      <td>987185000</td>\n",
       "      <td>5</td>\n",
       "      <td>1.1.1</td>\n",
       "      <td>NaN</td>\n",
       "      <td>Коммерческие</td>\n",
       "      <td>Наличный расчет</td>\n",
       "      <td>ПЦ Акушерское физиологическое отделение</td>\n",
       "      <td>Для беременных и рожениц</td>\n",
       "      <td>5.0</td>\n",
       "      <td>Плановая</td>\n",
       "      <td>O42.9</td>\n",
       "      <td>O82.1</td>\n",
       "    </tr>\n",
       "    <tr>\n",
       "      <th>...</th>\n",
       "      <td>...</td>\n",
       "      <td>...</td>\n",
       "      <td>...</td>\n",
       "      <td>...</td>\n",
       "      <td>...</td>\n",
       "      <td>...</td>\n",
       "      <td>...</td>\n",
       "      <td>...</td>\n",
       "      <td>...</td>\n",
       "      <td>...</td>\n",
       "      <td>...</td>\n",
       "      <td>...</td>\n",
       "      <td>...</td>\n",
       "      <td>...</td>\n",
       "    </tr>\n",
       "    <tr>\n",
       "      <th>125255</th>\n",
       "      <td>2023-12-30</td>\n",
       "      <td>2024-02-01</td>\n",
       "      <td>1258804000</td>\n",
       "      <td>10385561</td>\n",
       "      <td>9.2.0</td>\n",
       "      <td>NaN</td>\n",
       "      <td>Новорожденные в ПЦ</td>\n",
       "      <td>не определен</td>\n",
       "      <td>ПЦ Отделение физиологии новорожденных</td>\n",
       "      <td>Для новорожденных</td>\n",
       "      <td>4.0</td>\n",
       "      <td>Плановая</td>\n",
       "      <td>Z38.0</td>\n",
       "      <td>Z38.0</td>\n",
       "    </tr>\n",
       "    <tr>\n",
       "      <th>125257</th>\n",
       "      <td>2023-12-30</td>\n",
       "      <td>2024-06-01</td>\n",
       "      <td>1258807000</td>\n",
       "      <td>38558</td>\n",
       "      <td>5.12.1</td>\n",
       "      <td>Ульяновская обл.</td>\n",
       "      <td>ООО \"Капитал Медицинское Страхование\"</td>\n",
       "      <td>ОМС</td>\n",
       "      <td>Инфекционное отделение №1</td>\n",
       "      <td>Инфекционные</td>\n",
       "      <td>8.0</td>\n",
       "      <td>Экстренная</td>\n",
       "      <td>J01.9</td>\n",
       "      <td>J06.8</td>\n",
       "    </tr>\n",
       "    <tr>\n",
       "      <th>125258</th>\n",
       "      <td>2023-12-30</td>\n",
       "      <td>2024-01-26</td>\n",
       "      <td>1258810000</td>\n",
       "      <td>38560</td>\n",
       "      <td>5.666.1</td>\n",
       "      <td>NaN</td>\n",
       "      <td>ОМС 86 Регион</td>\n",
       "      <td>ОМС</td>\n",
       "      <td>Гастроэнтерологическое отделение</td>\n",
       "      <td>Гастроэнтерологические</td>\n",
       "      <td>28.0</td>\n",
       "      <td>Плановая</td>\n",
       "      <td>K75.4</td>\n",
       "      <td>K73.2</td>\n",
       "    </tr>\n",
       "    <tr>\n",
       "      <th>125259</th>\n",
       "      <td>2023-12-30</td>\n",
       "      <td>2023-12-30</td>\n",
       "      <td>1258811000</td>\n",
       "      <td>38561</td>\n",
       "      <td>5.666.0</td>\n",
       "      <td>NaN</td>\n",
       "      <td>ОМС 86 Регион</td>\n",
       "      <td>ОМС</td>\n",
       "      <td>ПЭМП ДПО</td>\n",
       "      <td>Хирургические для детей</td>\n",
       "      <td>1.0</td>\n",
       "      <td>Экстренная</td>\n",
       "      <td>K59.0</td>\n",
       "      <td>K59.0</td>\n",
       "    </tr>\n",
       "    <tr>\n",
       "      <th>125260</th>\n",
       "      <td>2023-12-30</td>\n",
       "      <td>2023-12-30</td>\n",
       "      <td>1258820000</td>\n",
       "      <td>10385641</td>\n",
       "      <td>5.666.0</td>\n",
       "      <td>Ленинградская обл.</td>\n",
       "      <td>ОМС 86 Регион</td>\n",
       "      <td>ОМС</td>\n",
       "      <td>ПЦ Отделение физиологии новорожденных</td>\n",
       "      <td>Для новорожденных</td>\n",
       "      <td>1.0</td>\n",
       "      <td>Плановая</td>\n",
       "      <td>P22.0</td>\n",
       "      <td>P22.0</td>\n",
       "    </tr>\n",
       "  </tbody>\n",
       "</table>\n",
       "<p>77019 rows × 14 columns</p>\n",
       "</div>"
      ],
      "text/plain": [
       "       ДАТА_ПОСТУПЛЕНИЯ ДАТА_ВЫПИСКИ  УНИКАЛЬНЫЙ_ID  НОМЕР_ИБ     ШИФР  \\\n",
       "0            2019-01-01   2019-10-01      858042000         1    5.4.1   \n",
       "1            2019-01-01   2019-01-01      993109000         3   5.13.1   \n",
       "2            2019-01-01   2019-01-01      993111000         4   5.12.1   \n",
       "3            2019-01-01   2019-07-01      993110000         2    5.4.1   \n",
       "4            2019-01-01   2019-05-01      987185000         5    1.1.1   \n",
       "...                 ...          ...            ...       ...      ...   \n",
       "125255       2023-12-30   2024-02-01     1258804000  10385561    9.2.0   \n",
       "125257       2023-12-30   2024-06-01     1258807000     38558   5.12.1   \n",
       "125258       2023-12-30   2024-01-26     1258810000     38560  5.666.1   \n",
       "125259       2023-12-30   2023-12-30     1258811000     38561  5.666.0   \n",
       "125260       2023-12-30   2023-12-30     1258820000  10385641  5.666.0   \n",
       "\n",
       "                    РЕГИОН                             ПЛАТЕЛЬЩИК  \\\n",
       "0                      NaN                         ОАО \"ГСМК\" СПб   \n",
       "1                      NaN        СПб филиал ООО \"СМК РЕСО - Мед\"   \n",
       "2                      NaN  ООО \"Капитал Медицинское Страхование\"   \n",
       "3                      NaN                         ОАО \"ГСМК\" СПб   \n",
       "4                      NaN                           Коммерческие   \n",
       "...                    ...                                    ...   \n",
       "125255                 NaN                     Новорожденные в ПЦ   \n",
       "125257    Ульяновская обл.  ООО \"Капитал Медицинское Страхование\"   \n",
       "125258                 NaN                          ОМС 86 Регион   \n",
       "125259                 NaN                          ОМС 86 Регион   \n",
       "125260  Ленинградская обл.                          ОМС 86 Регион   \n",
       "\n",
       "       ИСТОЧНИК_ФИНАНСИРОВАНИЯ                                ОТДЕЛЕНИЕ  \\\n",
       "0                          ОМС             Микрохирургическое отделение   \n",
       "1                          ОМС               Хирургическое отделение №3   \n",
       "2                          ОМС               Хирургическое отделение №3   \n",
       "3                          ОМС                Инфекционное отделение №1   \n",
       "4              Наличный расчет  ПЦ Акушерское физиологическое отделение   \n",
       "...                        ...                                      ...   \n",
       "125255            не определен    ПЦ Отделение физиологии новорожденных   \n",
       "125257                     ОМС                Инфекционное отделение №1   \n",
       "125258                     ОМС         Гастроэнтерологическое отделение   \n",
       "125259                     ОМС                                 ПЭМП ДПО   \n",
       "125260                     ОМС    ПЦ Отделение физиологии новорожденных   \n",
       "\n",
       "                         ПРОФИЛЬ  КОЙКО_ДНИ ПЛАНОВО_ЭКСТРЕННО  \\\n",
       "0            Сосудистой хирургии       10.0        Экстренная   \n",
       "1          Гнойные хирургические        1.0        Экстренная   \n",
       "2          Гнойные хирургические        1.0        Экстренная   \n",
       "3                   Инфекционные        7.0        Экстренная   \n",
       "4       Для беременных и рожениц        5.0          Плановая   \n",
       "...                          ...        ...               ...   \n",
       "125255         Для новорожденных        4.0          Плановая   \n",
       "125257              Инфекционные        8.0        Экстренная   \n",
       "125258    Гастроэнтерологические       28.0          Плановая   \n",
       "125259   Хирургические для детей        1.0        Экстренная   \n",
       "125260         Для новорожденных        1.0          Плановая   \n",
       "\n",
       "       КОД_МКБ_ПРИ_ПОСТУПЛЕНИИ КОД_МКБ_ПРИ_ВЫПИСКЕ  \n",
       "0                        S61.7               S66.4  \n",
       "1                          K37               K63.8  \n",
       "2                          K37               K63.8  \n",
       "3                        B27.9               J03.9  \n",
       "4                        O42.9               O82.1  \n",
       "...                        ...                 ...  \n",
       "125255                   Z38.0               Z38.0  \n",
       "125257                   J01.9               J06.8  \n",
       "125258                   K75.4               K73.2  \n",
       "125259                   K59.0               K59.0  \n",
       "125260                   P22.0               P22.0  \n",
       "\n",
       "[77019 rows x 14 columns]"
      ]
     },
     "execution_count": 37,
     "metadata": {},
     "output_type": "execute_result"
    }
   ],
   "source": [
    "df.drop_duplicates(subset=['УНИКАЛЬНЫЙ_ID'])"
   ]
  },
  {
   "cell_type": "code",
   "execution_count": 38,
   "id": "dae18bff",
   "metadata": {},
   "outputs": [],
   "source": [
    "import matplotlib.pyplot as plt"
   ]
  },
  {
   "cell_type": "code",
   "execution_count": 39,
   "id": "acc506f1",
   "metadata": {},
   "outputs": [
    {
     "data": {
      "text/plain": [
       "Text(0, 0.5, 'Количество пациентов')"
      ]
     },
     "execution_count": 39,
     "metadata": {},
     "output_type": "execute_result"
    },
    {
     "data": {
      "image/png": "[encoded data removed]",
      "text/plain": [
       "<Figure size 1080x720 with 1 Axes>"
      ]
     },
     "metadata": {
      "needs_background": "light"
     },
     "output_type": "display_data"
    }
   ],
   "source": [
    "#Построим гистограмму распределения длительности госпитализации пациентов:\n",
    "\n",
    "df['КОЙКО_ДНИ'].hist(figsize=(15,10), bins=30, edgecolor='black')\n",
    "plt.title('Распределение длительности госпитализации пациентов')\n",
    "plt.xlabel('Количество дней госпитализации')\n",
    "plt.ylabel('Количество пациентов')"
   ]
  },
  {
   "cell_type": "markdown",
   "id": "7ef8f6e2",
   "metadata": {},
   "source": [
    "По количеству дней госпитализации основная масса пациентов задерживается в больнице до 20 дней. А большая часть - до 10."
   ]
  },
  {
   "cell_type": "code",
   "execution_count": 40,
   "id": "1b20eb2c",
   "metadata": {},
   "outputs": [],
   "source": [
    "#Построим диаграмму для топ 10 отделений по наибольшей длительности госпитализации пациентов. Для этого сначала найдем топ 10 отделений:\n",
    "\n",
    "df_days_by_sub = df.groupby('ОТДЕЛЕНИЕ')['КОЙКО_ДНИ'].mean().sort_values(ascending = False).head(10)"
   ]
  },
  {
   "cell_type": "code",
   "execution_count": 41,
   "id": "4f80fc7f",
   "metadata": {},
   "outputs": [
    {
     "data": {
      "text/plain": [
       "Text(0, 0.5, 'Отделение')"
      ]
     },
     "execution_count": 41,
     "metadata": {},
     "output_type": "execute_result"
    },
    {
     "data": {
      "image/png": "[encoded data removed]",
      "text/plain": [
       "<Figure size 1080x864 with 1 Axes>"
      ]
     },
     "metadata": {
      "needs_background": "light"
     },
     "output_type": "display_data"
    }
   ],
   "source": [
    "df_days_by_sub.plot(kind='barh', x='ОТДЕЛЕНИЕ', y='КОЙКО_ДНИ', figsize=(15,12))\n",
    "plt.title('Топ 10 отделений по наибольшей длительности госпитализации пациентов')\n",
    "plt.xlabel('Количество дней госпитализации')\n",
    "plt.ylabel('Отделение')"
   ]
  },
  {
   "cell_type": "markdown",
   "id": "5d2c7581",
   "metadata": {},
   "source": [
    "По длительности госпитализации пациентов с большим отрывом лидирует отделение анестезиологии-реанимации.Второе место занимает ПЦ ОАРИТН №1, а на третьем - ПЦ отделение Анестезиологии Реанимации для детей с кардиохирургической патологией."
   ]
  },
  {
   "cell_type": "code",
   "execution_count": 42,
   "id": "89b45988",
   "metadata": {},
   "outputs": [],
   "source": [
    "#Построим график динамику количества поступивших пациентов в разные месяцы. Для этого выудим месяцы из даты поступления:\n",
    "\n",
    "df['МЕСЯЦ_ПОСТУПЛЕНИЯ'] = df['ДАТА_ПОСТУПЛЕНИЯ'].dt.to_period('M')"
   ]
  },
  {
   "cell_type": "code",
   "execution_count": 43,
   "id": "abe6770d",
   "metadata": {},
   "outputs": [],
   "source": [
    "#Сгруппируем всех поступивших по месяцу поступления:\n",
    "\n",
    "hospitalisation_per_month = df.groupby('МЕСЯЦ_ПОСТУПЛЕНИЯ')['УНИКАЛЬНЫЙ_ID'].nunique()"
   ]
  },
  {
   "cell_type": "code",
   "execution_count": 44,
   "id": "5278f776",
   "metadata": {},
   "outputs": [
    {
     "data": {
      "text/plain": [
       "Text(0, 0.5, 'Количество поступивших пациентов')"
      ]
     },
     "execution_count": 44,
     "metadata": {},
     "output_type": "execute_result"
    },
    {
     "data": {
      "image/png": "[encoded data removed]",
      "text/plain": [
       "<Figure size 1080x864 with 1 Axes>"
      ]
     },
     "metadata": {
      "needs_background": "light"
     },
     "output_type": "display_data"
    }
   ],
   "source": [
    "hospitalisation_per_month.plot(kind='line', figsize=(15,12))\n",
    "plt.title('Динамика количества поступивших пациентов в разные месяцы')\n",
    "plt.xlabel('Месяц поступления')\n",
    "plt.ylabel('Количество поступивших пациентов')"
   ]
  },
  {
   "cell_type": "markdown",
   "id": "819362d5",
   "metadata": {},
   "source": [
    "Больше всего поступивших в конце 2019, в начале и в конце 2023. Меньше всего - в середине 2019 и в начале 2020. График скачащий, без явных тенденций на увеличение или снижение. С середины 2020 идет плавное увеличение поступивших пациентов, но график при этом все равно остается скачащим."
   ]
  },
  {
   "cell_type": "code",
   "execution_count": 45,
   "id": "e577dd8f",
   "metadata": {},
   "outputs": [],
   "source": [
    "#Проверим гипотезу, отличается ли средняя длительность госпитализации пациентов от стандартного семидневного срока. \n",
    "from scipy import stats as st\n",
    "import numpy as np"
   ]
  },
  {
   "cell_type": "code",
   "execution_count": 46,
   "id": "8fea528f",
   "metadata": {},
   "outputs": [],
   "source": [
    "avg_hospitalization = df['КОЙКО_ДНИ']"
   ]
  },
  {
   "cell_type": "code",
   "execution_count": 47,
   "id": "85a85334",
   "metadata": {},
   "outputs": [],
   "source": [
    "std_hospitalization = 7"
   ]
  },
  {
   "cell_type": "code",
   "execution_count": 48,
   "id": "f3d1e2b7",
   "metadata": {},
   "outputs": [],
   "source": [
    "alpha = 0.05"
   ]
  },
  {
   "cell_type": "code",
   "execution_count": 49,
   "id": "9e1e87ae",
   "metadata": {},
   "outputs": [],
   "source": [
    "results = st.ttest_1samp(avg_hospitalization, std_hospitalization)"
   ]
  },
  {
   "cell_type": "code",
   "execution_count": 50,
   "id": "bea1ca4b",
   "metadata": {},
   "outputs": [
    {
     "name": "stdout",
     "output_type": "stream",
     "text": [
      "p-value: 0.0\n",
      "Отвергаем Н0\n"
     ]
    }
   ],
   "source": [
    "print('p-value:', results.pvalue)\n",
    "if results.pvalue < alpha:\n",
    "    print('Отвергаем Н0')\n",
    "else:\n",
    "    print('Не получилось отвергнуть Н0')"
   ]
  },
  {
   "cell_type": "markdown",
   "id": "8862071e",
   "metadata": {},
   "source": [
    "Нулевая гипотеза отвергнута. Значит, что с большой долей вероятности средняя длительность госпитализации пациентов отличается от стандартного семидневного срока. "
   ]
  },
  {
   "cell_type": "code",
   "execution_count": 51,
   "id": "dd714a95",
   "metadata": {},
   "outputs": [],
   "source": [
    "#Проверим гипотезу, превышает ли средняя длительность госпитализации пациентов 10 дней.\n",
    "\n",
    "ten_dayys_hospitalization = 10"
   ]
  },
  {
   "cell_type": "code",
   "execution_count": 52,
   "id": "d459c571",
   "metadata": {},
   "outputs": [],
   "source": [
    "results_ten = st.ttest_1samp(avg_hospitalization, ten_dayys_hospitalization, alternative='greater')"
   ]
  },
  {
   "cell_type": "code",
   "execution_count": 53,
   "id": "827c43aa",
   "metadata": {},
   "outputs": [
    {
     "name": "stdout",
     "output_type": "stream",
     "text": [
      "p-value: 1.0\n",
      "Не получилось отвергнуть Н0\n"
     ]
    }
   ],
   "source": [
    "print('p-value:', results_ten.pvalue)\n",
    "if results_ten.pvalue < alpha:\n",
    "    print('Отвергаем Н0')\n",
    "else:\n",
    "    print('Не получилось отвергнуть Н0')"
   ]
  },
  {
   "cell_type": "markdown",
   "id": "04d1cfc7",
   "metadata": {},
   "source": [
    "Не получилось отвергнуть нулевую гипотезу. Значит, что с большой долей вероятности средняя длительность госпитализации пациентов превышает 10 дней."
   ]
  },
  {
   "cell_type": "code",
   "execution_count": 54,
   "id": "f8baf300",
   "metadata": {},
   "outputs": [
    {
     "data": {
      "text/plain": [
       "array(['Экстренная', 'Плановая'], dtype=object)"
      ]
     },
     "execution_count": 54,
     "metadata": {},
     "output_type": "execute_result"
    }
   ],
   "source": [
    "#Проверим гипотезу, отличается ли средняя длительность лечения в стационаре между плановыми и экстренными пациентами.\n",
    "\n",
    "df['ПЛАНОВО_ЭКСТРЕННО'].unique()"
   ]
  },
  {
   "cell_type": "code",
   "execution_count": 55,
   "id": "52a3b6c2",
   "metadata": {},
   "outputs": [],
   "source": [
    "avg_hospitalization_plan = df['КОЙКО_ДНИ'][df['ПЛАНОВО_ЭКСТРЕННО'] == 'Плановая']"
   ]
  },
  {
   "cell_type": "code",
   "execution_count": 56,
   "id": "1a2e22e2",
   "metadata": {},
   "outputs": [],
   "source": [
    "avg_hospitalization_extra = df['КОЙКО_ДНИ'][df['ПЛАНОВО_ЭКСТРЕННО'] == 'Экстренная']"
   ]
  },
  {
   "cell_type": "code",
   "execution_count": 57,
   "id": "507874c4",
   "metadata": {},
   "outputs": [],
   "source": [
    "results_plan_ex = st.ttest_ind(avg_hospitalization_plan, avg_hospitalization_extra)"
   ]
  },
  {
   "cell_type": "code",
   "execution_count": 58,
   "id": "f109318a",
   "metadata": {},
   "outputs": [
    {
     "name": "stdout",
     "output_type": "stream",
     "text": [
      "p-value: 0.0\n",
      "Отвергаем Н0\n"
     ]
    }
   ],
   "source": [
    "print('p-value:', results_plan_ex.pvalue)\n",
    "if results_plan_ex.pvalue < alpha:\n",
    "    print ('Отвергаем Н0')\n",
    "else:   \n",
    "    print('Не удалось отвергнуть Н0')"
   ]
  },
  {
   "cell_type": "markdown",
   "id": "686b0dea",
   "metadata": {},
   "source": [
    "Нулевая гипотеза отвергнута. Значит, что с большой долей вероятности средняя длительность лечения в стационаре между плановыми и экстренными пациентами отличается."
   ]
  },
  {
   "cell_type": "markdown",
   "id": "c2a7fcaf",
   "metadata": {},
   "source": []
  },
  {
   "cell_type": "markdown",
   "id": "9da136eb",
   "metadata": {},
   "source": [
    "# Выводы."
   ]
  },
  {
   "cell_type": "markdown",
   "id": "07d1a5ee",
   "metadata": {},
   "source": [
    "В проекте были проанализированы данные федерального медицинского центра ФГБОУ ВО СПбГПМУ. В ходе анализа можно сделать следующие выводы:\n",
    "\n",
    "1) По количеству дней госпитализации основная масса пациентов задерживается в больнице до 20 дней. А большая часть - до 10.\n",
    "\n",
    "2) По длительности госпитализации пациентов с большим отрывом лидирует отделение анестезиологии-реанимации. Второе место занимает ПЦ ОАРИТН №1, а на третьем - ПЦ отделение Анестезиологии Реанимации для детей с кардиохирургической патологией.\n",
    "\n",
    "3) Больше всего поступивших в конце 2019, в начале и в конце 2023. Меньше всего - в середине 2019 и в начале 2020. График скачащий, без явных тенденций на увеличение или снижение. С середины 2020 идет плавное увеличение поступивших пациентов, но график при этом все равно остается скачащим.\n",
    "\n",
    "4) Средняя длительность госпитализации пациентов отличается от стандартного семидневного срока и превышает 10 дней.\n",
    "\n",
    "5) С большой долей вероятности средняя длительность лечения в стационаре между плановыми и экстренными пациентами отличается.\n",
    "\n",
    "Получается, что стационары особо не перегружены, а длительность лечения у плановых и экстренных пациентов различны. Данные постоянно меняются по месяцам в течение 4-х лет. Наблюдается небольшая тенденция на общее увеличение пациентов."
   ]
  }
 ],
 "metadata": {
  "ExecuteTimeLog": [
   {
    "duration": 404,
    "start_time": "2025-04-04T07:47:47.091Z"
   },
   {
    "duration": 1202,
    "start_time": "2025-04-04T07:49:29.642Z"
   },
   {
    "duration": 83,
    "start_time": "2025-04-04T07:51:45.152Z"
   },
   {
    "duration": 23,
    "start_time": "2025-04-04T07:59:42.924Z"
   },
   {
    "duration": 63,
    "start_time": "2025-04-04T07:59:58.894Z"
   },
   {
    "duration": 29,
    "start_time": "2025-04-04T08:13:35.512Z"
   },
   {
    "duration": 10,
    "start_time": "2025-04-04T08:13:54.601Z"
   },
   {
    "duration": 31,
    "start_time": "2025-04-04T08:16:54.667Z"
   },
   {
    "duration": 52,
    "start_time": "2025-04-04T08:16:56.129Z"
   },
   {
    "duration": 53,
    "start_time": "2025-04-04T08:16:58.622Z"
   },
   {
    "duration": 11,
    "start_time": "2025-04-04T08:17:01.847Z"
   },
   {
    "duration": 33,
    "start_time": "2025-04-04T08:17:59.882Z"
   },
   {
    "duration": 6,
    "start_time": "2025-04-04T08:20:38.955Z"
   },
   {
    "duration": 6,
    "start_time": "2025-04-04T08:20:44.150Z"
   },
   {
    "duration": 15,
    "start_time": "2025-04-04T08:21:05.573Z"
   },
   {
    "duration": 59,
    "start_time": "2025-04-04T08:21:17.150Z"
   },
   {
    "duration": 15,
    "start_time": "2025-04-04T08:21:35.401Z"
   },
   {
    "duration": 6,
    "start_time": "2025-04-04T08:21:45.531Z"
   },
   {
    "duration": 15,
    "start_time": "2025-04-04T08:21:46.331Z"
   },
   {
    "duration": 588,
    "start_time": "2025-04-04T08:29:14.354Z"
   },
   {
    "duration": 4,
    "start_time": "2025-04-04T08:30:16.670Z"
   },
   {
    "duration": 178,
    "start_time": "2025-04-04T08:30:20.971Z"
   },
   {
    "duration": 7,
    "start_time": "2025-04-04T08:30:43.244Z"
   },
   {
    "duration": 16,
    "start_time": "2025-04-04T08:30:54.013Z"
   },
   {
    "duration": 5,
    "start_time": "2025-04-04T08:31:06.898Z"
   },
   {
    "duration": 15,
    "start_time": "2025-04-04T08:31:07.685Z"
   },
   {
    "duration": 177,
    "start_time": "2025-04-04T08:31:32.058Z"
   },
   {
    "duration": 173,
    "start_time": "2025-04-04T08:32:26.337Z"
   },
   {
    "duration": 151,
    "start_time": "2025-04-04T08:32:45.340Z"
   },
   {
    "duration": 228,
    "start_time": "2025-04-04T08:35:25.251Z"
   },
   {
    "duration": 172,
    "start_time": "2025-04-04T08:37:25.582Z"
   },
   {
    "duration": 173,
    "start_time": "2025-04-04T08:37:45.086Z"
   },
   {
    "duration": 216,
    "start_time": "2025-04-04T08:38:19.961Z"
   },
   {
    "duration": 193,
    "start_time": "2025-04-04T08:38:33.931Z"
   },
   {
    "duration": 10,
    "start_time": "2025-04-04T08:42:09.830Z"
   },
   {
    "duration": 59,
    "start_time": "2025-04-04T08:42:18.145Z"
   },
   {
    "duration": 42,
    "start_time": "2025-04-04T08:43:28.746Z"
   },
   {
    "duration": 286,
    "start_time": "2025-04-04T08:44:44.529Z"
   },
   {
    "duration": 17,
    "start_time": "2025-04-04T08:47:25.555Z"
   },
   {
    "duration": 257,
    "start_time": "2025-04-04T08:47:26.920Z"
   },
   {
    "duration": 256,
    "start_time": "2025-04-04T08:49:28.820Z"
   },
   {
    "duration": 248,
    "start_time": "2025-04-04T08:49:37.919Z"
   },
   {
    "duration": 272,
    "start_time": "2025-04-04T08:51:31.101Z"
   },
   {
    "duration": 197,
    "start_time": "2025-04-04T08:53:22.279Z"
   },
   {
    "duration": 195,
    "start_time": "2025-04-04T08:53:33.145Z"
   },
   {
    "duration": 244,
    "start_time": "2025-04-04T08:53:41.366Z"
   },
   {
    "duration": 15,
    "start_time": "2025-04-04T08:56:47.979Z"
   },
   {
    "duration": 13,
    "start_time": "2025-04-04T08:57:27.623Z"
   },
   {
    "duration": 214,
    "start_time": "2025-04-04T08:58:47.444Z"
   },
   {
    "duration": 366,
    "start_time": "2025-04-04T09:12:47.816Z"
   },
   {
    "duration": 1150,
    "start_time": "2025-04-04T09:12:49.766Z"
   },
   {
    "duration": 87,
    "start_time": "2025-04-04T09:12:50.917Z"
   },
   {
    "duration": 406,
    "start_time": "2025-04-04T11:13:47.663Z"
   },
   {
    "duration": 1430,
    "start_time": "2025-04-04T11:13:49.033Z"
   },
   {
    "duration": 92,
    "start_time": "2025-04-04T11:13:50.466Z"
   },
   {
    "duration": 24,
    "start_time": "2025-04-04T11:13:50.559Z"
   },
   {
    "duration": 59,
    "start_time": "2025-04-04T11:13:50.586Z"
   },
   {
    "duration": 54,
    "start_time": "2025-04-04T11:13:51.791Z"
   },
   {
    "duration": 10,
    "start_time": "2025-04-04T11:13:52.508Z"
   },
   {
    "duration": 41,
    "start_time": "2025-04-04T11:13:53.275Z"
   },
   {
    "duration": 5,
    "start_time": "2025-04-04T11:13:53.958Z"
   },
   {
    "duration": 710,
    "start_time": "2025-04-04T11:13:54.672Z"
   },
   {
    "duration": 20,
    "start_time": "2025-04-04T11:13:55.602Z"
   },
   {
    "duration": 275,
    "start_time": "2025-04-04T11:13:56.657Z"
   },
   {
    "duration": 15,
    "start_time": "2025-04-04T11:13:57.937Z"
   },
   {
    "duration": 23,
    "start_time": "2025-04-04T11:13:58.779Z"
   },
   {
    "duration": 202,
    "start_time": "2025-04-04T11:15:11.412Z"
   },
   {
    "duration": 15,
    "start_time": "2025-04-04T11:16:11.881Z"
   },
   {
    "duration": 23,
    "start_time": "2025-04-04T11:16:12.800Z"
   },
   {
    "duration": 1098,
    "start_time": "2025-04-04T11:16:13.724Z"
   },
   {
    "duration": 258,
    "start_time": "2025-04-04T11:16:23.436Z"
   },
   {
    "duration": 316,
    "start_time": "2025-04-04T11:18:10.088Z"
   },
   {
    "duration": 254,
    "start_time": "2025-04-04T11:19:16.791Z"
   },
   {
    "duration": 250,
    "start_time": "2025-04-04T11:19:56.933Z"
   },
   {
    "duration": 254,
    "start_time": "2025-04-04T11:20:01.988Z"
   },
   {
    "duration": 3,
    "start_time": "2025-04-04T11:21:21.296Z"
   },
   {
    "duration": 235,
    "start_time": "2025-04-04T11:29:49.259Z"
   },
   {
    "duration": 22,
    "start_time": "2025-04-04T11:29:54.226Z"
   },
   {
    "duration": 291,
    "start_time": "2025-04-04T11:30:31.582Z"
   },
   {
    "duration": 16,
    "start_time": "2025-04-04T11:30:45.375Z"
   },
   {
    "duration": 24,
    "start_time": "2025-04-04T11:30:46.076Z"
   },
   {
    "duration": 307,
    "start_time": "2025-04-04T11:31:14.915Z"
   },
   {
    "duration": 15,
    "start_time": "2025-04-04T11:31:20.927Z"
   },
   {
    "duration": 22,
    "start_time": "2025-04-04T11:31:22.632Z"
   },
   {
    "duration": 252,
    "start_time": "2025-04-04T11:32:17.426Z"
   },
   {
    "duration": 535,
    "start_time": "2025-04-04T11:45:52.336Z"
   },
   {
    "duration": 3,
    "start_time": "2025-04-04T11:50:24.942Z"
   },
   {
    "duration": 2,
    "start_time": "2025-04-04T11:50:44.216Z"
   },
   {
    "duration": 5,
    "start_time": "2025-04-04T11:52:11.588Z"
   },
   {
    "duration": 98,
    "start_time": "2025-04-04T11:52:52.777Z"
   },
   {
    "duration": 72,
    "start_time": "2025-04-04T11:53:04.649Z"
   },
   {
    "duration": 3,
    "start_time": "2025-04-04T11:53:18.595Z"
   },
   {
    "duration": 65,
    "start_time": "2025-04-04T11:55:29.420Z"
   },
   {
    "duration": 37,
    "start_time": "2025-04-04T11:55:44.254Z"
   },
   {
    "duration": 11,
    "start_time": "2025-04-04T11:56:26.250Z"
   },
   {
    "duration": 3,
    "start_time": "2025-04-04T11:56:34.833Z"
   },
   {
    "duration": 5,
    "start_time": "2025-04-04T11:56:35.715Z"
   },
   {
    "duration": 4,
    "start_time": "2025-04-04T11:56:36.487Z"
   },
   {
    "duration": 3,
    "start_time": "2025-04-04T11:57:33.498Z"
   },
   {
    "duration": 4,
    "start_time": "2025-04-04T11:58:17.485Z"
   },
   {
    "duration": 4,
    "start_time": "2025-04-04T11:58:36.910Z"
   },
   {
    "duration": 13,
    "start_time": "2025-04-04T11:59:29.262Z"
   },
   {
    "duration": 69,
    "start_time": "2025-04-04T12:00:16.493Z"
   },
   {
    "duration": 13,
    "start_time": "2025-04-04T12:05:19.822Z"
   },
   {
    "duration": 13,
    "start_time": "2025-04-04T12:05:42.637Z"
   },
   {
    "duration": 6,
    "start_time": "2025-04-04T12:08:31.747Z"
   },
   {
    "duration": 4,
    "start_time": "2025-04-04T12:10:46.824Z"
   },
   {
    "duration": 13,
    "start_time": "2025-04-04T12:11:15.779Z"
   },
   {
    "duration": 13,
    "start_time": "2025-04-04T12:11:21.578Z"
   },
   {
    "duration": 6,
    "start_time": "2025-04-04T12:11:22.515Z"
   },
   {
    "duration": 3,
    "start_time": "2025-04-04T12:11:27.904Z"
   },
   {
    "duration": 16,
    "start_time": "2025-04-04T12:11:39.485Z"
   },
   {
    "duration": 12,
    "start_time": "2025-04-04T12:11:40.754Z"
   },
   {
    "duration": 4,
    "start_time": "2025-04-04T12:12:05.620Z"
   },
   {
    "duration": 3,
    "start_time": "2025-04-04T12:12:06.341Z"
   },
   {
    "duration": 74,
    "start_time": "2025-04-04T12:13:28.058Z"
   },
   {
    "duration": 3,
    "start_time": "2025-04-04T12:13:31.042Z"
   },
   {
    "duration": 1365,
    "start_time": "2025-04-04T12:13:31.599Z"
   },
   {
    "duration": 94,
    "start_time": "2025-04-04T12:13:32.966Z"
   },
   {
    "duration": 30,
    "start_time": "2025-04-04T12:14:24.745Z"
   },
   {
    "duration": 31,
    "start_time": "2025-04-04T12:14:25.614Z"
   },
   {
    "duration": 55,
    "start_time": "2025-04-04T12:14:42.085Z"
   },
   {
    "duration": 11,
    "start_time": "2025-04-04T12:17:56.183Z"
   },
   {
    "duration": 36,
    "start_time": "2025-04-04T12:19:27.644Z"
   },
   {
    "duration": 3,
    "start_time": "2025-04-04T12:19:39.726Z"
   },
   {
    "duration": 247,
    "start_time": "2025-04-04T12:20:36.733Z"
   },
   {
    "duration": 19,
    "start_time": "2025-04-04T12:23:33.721Z"
   },
   {
    "duration": 283,
    "start_time": "2025-04-04T12:23:37.714Z"
   },
   {
    "duration": 15,
    "start_time": "2025-04-04T12:32:04.640Z"
   },
   {
    "duration": 23,
    "start_time": "2025-04-04T12:32:36.111Z"
   },
   {
    "duration": 254,
    "start_time": "2025-04-04T12:32:37.738Z"
   },
   {
    "duration": 3,
    "start_time": "2025-04-04T12:35:54.795Z"
   },
   {
    "duration": 3,
    "start_time": "2025-04-04T12:35:55.545Z"
   },
   {
    "duration": 4,
    "start_time": "2025-04-04T12:35:57.164Z"
   },
   {
    "duration": 2,
    "start_time": "2025-04-04T12:35:59.333Z"
   },
   {
    "duration": 5,
    "start_time": "2025-04-04T12:35:59.998Z"
   },
   {
    "duration": 4,
    "start_time": "2025-04-04T12:36:00.671Z"
   },
   {
    "duration": 3,
    "start_time": "2025-04-04T12:37:30.365Z"
   },
   {
    "duration": 5,
    "start_time": "2025-04-04T12:37:31.020Z"
   },
   {
    "duration": 4,
    "start_time": "2025-04-04T12:37:33.189Z"
   },
   {
    "duration": 3,
    "start_time": "2025-04-04T12:38:34.322Z"
   },
   {
    "duration": 6,
    "start_time": "2025-04-04T12:38:34.937Z"
   },
   {
    "duration": 5,
    "start_time": "2025-04-04T12:38:35.904Z"
   },
   {
    "duration": 11,
    "start_time": "2025-04-04T12:38:52.023Z"
   },
   {
    "duration": 12,
    "start_time": "2025-04-04T12:38:52.758Z"
   },
   {
    "duration": 12,
    "start_time": "2025-04-04T12:38:53.375Z"
   },
   {
    "duration": 4,
    "start_time": "2025-04-04T12:38:54.128Z"
   },
   {
    "duration": 440,
    "start_time": "2025-04-04T15:42:09.934Z"
   },
   {
    "duration": 1445,
    "start_time": "2025-04-04T15:42:10.583Z"
   },
   {
    "duration": 90,
    "start_time": "2025-04-04T15:42:12.030Z"
   },
   {
    "duration": 22,
    "start_time": "2025-04-04T15:42:12.121Z"
   },
   {
    "duration": 35,
    "start_time": "2025-04-04T15:42:12.157Z"
   },
   {
    "duration": 65,
    "start_time": "2025-04-04T15:42:12.193Z"
   },
   {
    "duration": 9,
    "start_time": "2025-04-04T15:42:12.537Z"
   },
   {
    "duration": 36,
    "start_time": "2025-04-04T15:42:12.936Z"
   },
   {
    "duration": 413,
    "start_time": "2025-04-04T15:42:13.121Z"
   },
   {
    "duration": 256,
    "start_time": "2025-04-04T15:42:13.536Z"
   },
   {
    "duration": 19,
    "start_time": "2025-04-04T15:42:13.794Z"
   },
   {
    "duration": 275,
    "start_time": "2025-04-04T15:42:13.901Z"
   },
   {
    "duration": 14,
    "start_time": "2025-04-04T15:42:14.293Z"
   },
   {
    "duration": 21,
    "start_time": "2025-04-04T15:42:14.510Z"
   },
   {
    "duration": 246,
    "start_time": "2025-04-04T15:42:14.724Z"
   },
   {
    "duration": 451,
    "start_time": "2025-04-04T15:42:15.109Z"
   },
   {
    "duration": 2,
    "start_time": "2025-04-04T15:42:15.563Z"
   },
   {
    "duration": 11,
    "start_time": "2025-04-04T15:42:15.566Z"
   },
   {
    "duration": 3,
    "start_time": "2025-04-04T15:42:15.689Z"
   },
   {
    "duration": 5,
    "start_time": "2025-04-04T15:42:15.896Z"
   },
   {
    "duration": 5,
    "start_time": "2025-04-04T15:42:16.111Z"
   },
   {
    "duration": 2,
    "start_time": "2025-04-04T15:42:16.508Z"
   },
   {
    "duration": 4,
    "start_time": "2025-04-04T15:42:16.700Z"
   },
   {
    "duration": 4,
    "start_time": "2025-04-04T15:42:16.909Z"
   },
   {
    "duration": 11,
    "start_time": "2025-04-04T15:42:17.308Z"
   },
   {
    "duration": 11,
    "start_time": "2025-04-04T15:42:17.504Z"
   },
   {
    "duration": 12,
    "start_time": "2025-04-04T15:42:17.709Z"
   },
   {
    "duration": 5,
    "start_time": "2025-04-04T15:42:17.923Z"
   },
   {
    "duration": 4,
    "start_time": "2025-04-04T15:42:18.136Z"
   },
   {
    "duration": 398,
    "start_time": "2025-06-03T14:35:35.988Z"
   },
   {
    "duration": 1245,
    "start_time": "2025-06-03T14:35:36.387Z"
   },
   {
    "duration": 84,
    "start_time": "2025-06-03T14:35:37.634Z"
   },
   {
    "duration": 38,
    "start_time": "2025-06-03T14:35:37.719Z"
   },
   {
    "duration": 38,
    "start_time": "2025-06-03T14:35:37.759Z"
   },
   {
    "duration": 71,
    "start_time": "2025-06-03T14:35:37.799Z"
   },
   {
    "duration": 10,
    "start_time": "2025-06-03T14:35:37.871Z"
   },
   {
    "duration": 71,
    "start_time": "2025-06-03T14:35:37.882Z"
   },
   {
    "duration": 298,
    "start_time": "2025-06-03T14:35:37.955Z"
   },
   {
    "duration": 250,
    "start_time": "2025-06-03T14:35:38.255Z"
   },
   {
    "duration": 19,
    "start_time": "2025-06-03T14:35:38.506Z"
   },
   {
    "duration": 289,
    "start_time": "2025-06-03T14:35:38.537Z"
   },
   {
    "duration": 15,
    "start_time": "2025-06-03T14:35:38.827Z"
   },
   {
    "duration": 32,
    "start_time": "2025-06-03T14:35:38.845Z"
   },
   {
    "duration": 250,
    "start_time": "2025-06-03T14:35:38.878Z"
   },
   {
    "duration": 465,
    "start_time": "2025-06-03T14:35:39.137Z"
   },
   {
    "duration": 2,
    "start_time": "2025-06-03T14:35:39.604Z"
   },
   {
    "duration": 5,
    "start_time": "2025-06-03T14:35:39.608Z"
   },
   {
    "duration": 3,
    "start_time": "2025-06-03T14:35:39.615Z"
   },
   {
    "duration": 17,
    "start_time": "2025-06-03T14:35:39.620Z"
   },
   {
    "duration": 4,
    "start_time": "2025-06-03T14:35:39.639Z"
   },
   {
    "duration": 22,
    "start_time": "2025-06-03T14:35:39.644Z"
   },
   {
    "duration": 4,
    "start_time": "2025-06-03T14:35:39.668Z"
   },
   {
    "duration": 4,
    "start_time": "2025-06-03T14:35:39.674Z"
   },
   {
    "duration": 17,
    "start_time": "2025-06-03T14:35:39.680Z"
   },
   {
    "duration": 12,
    "start_time": "2025-06-03T14:35:39.700Z"
   },
   {
    "duration": 29,
    "start_time": "2025-06-03T14:35:39.714Z"
   },
   {
    "duration": 11,
    "start_time": "2025-06-03T14:35:39.744Z"
   },
   {
    "duration": 5,
    "start_time": "2025-06-03T14:35:39.757Z"
   },
   {
    "duration": 3,
    "start_time": "2025-06-03T14:35:45.428Z"
   },
   {
    "duration": 1561,
    "start_time": "2025-06-03T14:35:46.033Z"
   },
   {
    "duration": 86,
    "start_time": "2025-06-03T14:35:47.595Z"
   },
   {
    "duration": 23,
    "start_time": "2025-06-03T14:35:47.751Z"
   },
   {
    "duration": 29,
    "start_time": "2025-06-03T14:35:48.679Z"
   },
   {
    "duration": 53,
    "start_time": "2025-06-03T14:35:49.342Z"
   },
   {
    "duration": 9,
    "start_time": "2025-06-03T14:35:50.470Z"
   },
   {
    "duration": 36,
    "start_time": "2025-06-03T14:35:50.847Z"
   },
   {
    "duration": 3,
    "start_time": "2025-06-03T14:35:51.039Z"
   },
   {
    "duration": 237,
    "start_time": "2025-06-03T14:35:51.233Z"
   },
   {
    "duration": 18,
    "start_time": "2025-06-03T14:35:51.604Z"
   },
   {
    "duration": 272,
    "start_time": "2025-06-03T14:35:51.790Z"
   },
   {
    "duration": 15,
    "start_time": "2025-06-03T14:35:52.174Z"
   },
   {
    "duration": 23,
    "start_time": "2025-06-03T14:35:52.361Z"
   },
   {
    "duration": 233,
    "start_time": "2025-06-03T14:35:52.547Z"
   },
   {
    "duration": 3,
    "start_time": "2025-06-03T14:35:52.925Z"
   },
   {
    "duration": 2,
    "start_time": "2025-06-03T14:35:53.111Z"
   },
   {
    "duration": 2,
    "start_time": "2025-06-03T14:35:53.304Z"
   },
   {
    "duration": 3,
    "start_time": "2025-06-03T14:35:53.497Z"
   },
   {
    "duration": 4,
    "start_time": "2025-06-03T14:35:53.675Z"
   },
   {
    "duration": 4,
    "start_time": "2025-06-03T14:35:53.860Z"
   },
   {
    "duration": 3,
    "start_time": "2025-06-03T14:35:54.232Z"
   },
   {
    "duration": 4,
    "start_time": "2025-06-03T14:35:54.425Z"
   },
   {
    "duration": 3,
    "start_time": "2025-06-03T14:35:54.611Z"
   },
   {
    "duration": 12,
    "start_time": "2025-06-03T14:35:54.982Z"
   },
   {
    "duration": 13,
    "start_time": "2025-06-03T14:35:55.161Z"
   },
   {
    "duration": 11,
    "start_time": "2025-06-03T14:35:55.347Z"
   },
   {
    "duration": 5,
    "start_time": "2025-06-03T14:35:55.532Z"
   },
   {
    "duration": 4,
    "start_time": "2025-06-03T14:35:55.719Z"
   }
  ],
  "kernelspec": {
   "display_name": "Python 3 (ipykernel)",
   "language": "python",
   "name": "python3"
  },
  "language_info": {
   "codemirror_mode": {
    "name": "ipython",
    "version": 3
   },
   "file_extension": ".py",
   "mimetype": "text/x-python",
   "name": "python",
   "nbconvert_exporter": "python",
   "pygments_lexer": "ipython3",
   "version": "3.9.5"
  },
  "toc": {
   "base_numbering": 1,
   "nav_menu": {},
   "number_sections": true,
   "sideBar": true,
   "skip_h1_title": true,
   "title_cell": "Table of Contents",
   "title_sidebar": "Contents",
   "toc_cell": false,
   "toc_position": {},
   "toc_section_display": true,
   "toc_window_display": false
  }
 },
 "nbformat": 4,
 "nbformat_minor": 5
}
