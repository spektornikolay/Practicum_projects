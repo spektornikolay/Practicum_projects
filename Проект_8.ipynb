{
 "cells": [
  {
   "cell_type": "markdown",
   "id": "9b293986",
   "metadata": {},
   "source": [
    "<div class=\"alert alert-info\">\n",
    "<font size=\"5\"><b>Комментарий ревьюера</b></font>\n",
    "\n",
    "Привет Николай! Меня зовут Марат, и я буду твоим ревьюером. Спешу сообщить что все ключевые этапы в работе выполнены,  с задачей тебе удалось справиться. По поводу обращения - в IT сфере принято общаться на «ты» :) Но, если привычней на «вы», дай знать. Как ревьюера моя задача помочь тебе в развитии, дав хорошие советы. Я внимательно посмотрю твой код, ознакомлюсь с твоими выводами и оставлю комментарии. Где то могу предложить небольшие исправление в коде, но ненавязчиво. Где потребуются уточнения, я оставлю много наводящих вопросов. Они помогут тебя с поиском верного решения.\n",
    "\n",
    "Все мои комментарии размечены по цветам, для лучшего восприятия. \n",
    "    \n",
    "<div class=\"alert alert-success\">Зеленым цветом и словом «Успех» отмечены особо удачные и элегантные решения, которыми ты можешь гордиться. </div>\n",
    "        \n",
    "<div class=\"alert alert-warning\">Желтым и значком словом «Совет», помечены решения у которых есть альтернативные решения, более оптимальные. Ты можешь найти их сразу и доработать проект, или отложить это на потом, для будущих проектах. Проект будет принят и без их доработки. </div>\n",
    "        \n",
    "<div class=\"alert alert-danger\"> Красным цветом и значком словом «Ошибка» помечу твои решения, на которые стоит обратить внимание прежде всего. После их доработки проект будет принят. </div>\n",
    "        \n",
    "Залог успеха - работа сообща, взаимное уважение и работа в диалоге. Поэтому, помечай свои ответные комментарии на мои реплики заметным цветом или курсивом, так мне будет легче их отслеживать. Пожалуйста, не изменяй и не удаляй мои комментарии. Все это поможет выполнить повторную проверку быстрей.\n",
    "\n",
    "</div>\n",
    "\n",
    "\n",
    "\n",
    "---\n",
    "    \n",
    "Для лучшей коммуникации будет лучше если ты будешь оставлять ответные комментарий (cвои комментарии к исправлениям, вопросы), так результат будет лучше.  А чтобы ревьюры их не теряли, лучше их подсвечивать цветом (можешь выбрать свой, а можешь использовать   тот который я предложил ниже). И чтобы не возникло путаницы лучше оставлять указание на номер версии комментария по итерация:  \n",
    "\n",
    "1 итерация\n",
    "\n",
    "<div class=\"alert alert-info\"> <b>Комментарии студентаV1:</b> Привет Марат!.</div>\n",
    "\n",
    "\n",
    "2 итерация\n",
    "\n",
    "<div class=\"alert alert-info\"> <b>Комментарии студентаV2:</b> Исправлено.... </div>\n",
    "    \n",
    "    \n",
    "И лучше подсвечивать свои комментарии цветом, для этого достаточно в ячейку markdown добавить: \n",
    "\n",
    "```html\n",
    "<div class=\"alert alert-info\"> <b>Комментарии студентаV2:</b> Исправлено.... </div>    \n",
    "\n",
    "```    \n",
    "    \n",
    "Хорошая коммуникация залог успеха! )\n",
    "    \n",
    "---\n",
    " "
   ]
  },
  {
   "cell_type": "markdown",
   "id": "e06910dd",
   "metadata": {
    "id": "e06910dd"
   },
   "source": [
    "# Проект. \"Исследовательский анализ рынка заведений общественного питания Москвы.\"\n",
    "\n",
    "- Автор: Спектор Н.Ю.\n",
    "- Дата: 09.02.2025"
   ]
  },
  {
   "cell_type": "markdown",
   "id": "4149134c",
   "metadata": {
    "id": "4149134c"
   },
   "source": [
    "### Цели и задачи проекта\n",
    "\n",
    "<font color='#777778'>В этом блоке перечислите цель проекта и те задачи, которые вы решаете. Можно использовать описания проекта, но будет полезно, если вы сформулируете основную цель проекта самостоятельно.</font>\n",
    "\n",
    "Цель: провести исследовательский анализ рынка заведений общественного питания Москвы.\n",
    "\n",
    "Задачи:выявить наиболее популярные типы заведений, наилучшее расположение и подходящую ценовую категорию исходя из имеющихся данных. На основе этого анализа дать рекомендации заказчику, какой тип заведения, местоположение и ценовую категорию им выбрать для заведения общественного питания."
   ]
  },
  {
   "cell_type": "markdown",
   "id": "4fa51203",
   "metadata": {},
   "source": [
    "\n",
    "<div class=\"alert alert-success\">\n",
    "<font size=\"5\"><b>Комментарий ревьюера</b></font>\n",
    "\n",
    "\n",
    "\n",
    "Успех 👍:\n",
    "\n",
    "\n",
    "\n",
    "Цели расписаны\n",
    "\n",
    " "
   ]
  },
  {
   "cell_type": "markdown",
   "id": "728986ea",
   "metadata": {
    "id": "728986ea"
   },
   "source": [
    "### Описание данных\n",
    "\n",
    "<font color='#777778'>Здесь приведите описание данных.</font>"
   ]
  },
  {
   "cell_type": "markdown",
   "id": "4fecaf95",
   "metadata": {
    "id": "4fecaf95"
   },
   "source": [
    "### Содержимое проекта\n",
    "\n",
    "<font color='#777778'>Перечислите основные шаги проекта или напишите оглавление. Используйте описание проекта, чтобы зафиксировать основные шаги.</font>\n",
    "\n",
    "---\n",
    "1) Проверить данные на корректность и объединить 2 датасета;\n",
    "\n",
    "\n",
    "\n",
    "2) Предобработать данные: привести названия столбцов к \"змеиному регистру\", обнаружить и предобработать пропуски, сделать корректными типы данных, проверить данные на явные и неявные дубликаты.\n",
    "\n",
    "\n",
    "3) Провести исследовательский анализ данных:\n",
    "\n",
    "\n",
    "- Исследовать количество объектов по каждой категории;\n",
    "\n",
    "- Исследовать распределение количества заведений по административным районам Москвы, а также отдельно распределение заведений каждой категории в Центральном административном округе Москвы. \n",
    "\n",
    "- Изучить соотношение сетевых и несетевых заведений в целом по всем данным и в разрезе категорий заведения.\n",
    "\n",
    "- Исследовать количество посадочных мест в заведениях.\n",
    "\n",
    "- Исследовать рейтинг заведений.\n",
    "\n",
    "- Построить матрицу корреляции рейтинга заведения с разными данными и выявить, какие из этих данных наибольшим образом влияют на рейтинг.\n",
    "\n",
    "- Найти топ-15 популярных сетей в Москве.\n",
    "\n",
    "- Изучить вариацию среднего чека заведения в зависимости от района Москвы.\n",
    "\n",
    "\n",
    "4) Сформировать итоговый вывод и рекомендации.\n",
    "\n",
    "\n",
    "5) Перезапустить ядро и выполнить все ячейки кода с помощью команд Kernel → Restart & Run All. Убедиться, что все ячейки корректно отработали."
   ]
  },
  {
   "cell_type": "markdown",
   "id": "2d8f86c4",
   "metadata": {},
   "source": [
    " \n",
    "\n",
    "<div class=\"alert alert-success\">\n",
    "<font size=\"5\"><b>Комментарий ревьюера</b></font>\n",
    "\n",
    "Успех:\n",
    "\n",
    "\n",
    " \n",
    "- Вступление в работу очень важно, так человек, который смотрит твой проект (а возможно потенциальный работодатель или заказчик будет просматривать твой проект если ты его выложишь на Github) будет сразу введен в курс дела\n",
    "\n",
    "    \n",
    " \n",
    "    \n",
    "<div class=\"alert alert-warning\">\n",
    "\n",
    "\n",
    "Совет 🤔:\n",
    "\n",
    "\n",
    "\n",
    "- Кстати по описанию уже можно кое-что заметить: avg_bill содержит информацию по Средний счёт или Цена чашки капучино или Цена бокала пива, но столбцы с ценами была создана только  по первым двум, а вот столбца \"средняя цена пива\" нет  \n",
    " "
   ]
  },
  {
   "cell_type": "markdown",
   "id": "6f7d21d6",
   "metadata": {
    "id": "6f7d21d6"
   },
   "source": [
    "## 1. Загрузка данных и знакомство с ними\n",
    "\n",
    "- Загрузите данные о заведениях общественного питания Москвы. Путь к файлам: `/datasets/rest_info.csv` и `/datasets/rest_price.csv`."
   ]
  },
  {
   "cell_type": "markdown",
   "id": "1236168b",
   "metadata": {},
   "source": []
  },
  {
   "cell_type": "code",
   "execution_count": 2,
   "id": "05faf34b",
   "metadata": {
    "id": "05faf34b"
   },
   "outputs": [],
   "source": [
    "# Пустые ячейки после каждого задания — примерное пространство для работы.\n",
    "# Вы можете свободно добавлять или удалять ячейки по своему усмотрению в зависимости от логики и объёма работы.\n",
    "\n",
    "import pandas as pd"
   ]
  },
  {
   "cell_type": "code",
   "execution_count": 3,
   "id": "ce87c1db",
   "metadata": {
    "id": "ce87c1db"
   },
   "outputs": [],
   "source": [
    "# Используйте ячейки типа Code для вашего кода\n",
    "\n",
    "import matplotlib.pyplot as plt "
   ]
  },
  {
   "cell_type": "code",
   "execution_count": 4,
   "id": "90fee493",
   "metadata": {
    "id": "90fee493"
   },
   "outputs": [],
   "source": [
    "# При необходимости добавьте новые ячейки для кода или удалите пустые\n",
    "import seaborn as sns"
   ]
  },
  {
   "cell_type": "markdown",
   "id": "18b5dfff",
   "metadata": {
    "id": "18b5dfff"
   },
   "source": [
    "- Познакомьтесь с данными и изучите общую информацию о них."
   ]
  },
  {
   "cell_type": "code",
   "execution_count": 5,
   "id": "a0d14230",
   "metadata": {},
   "outputs": [
    {
     "name": "stdout",
     "output_type": "stream",
     "text": [
      "Note: you may need to restart the kernel to use updated packages.\n"
     ]
    }
   ],
   "source": [
    "pip install phik -q"
   ]
  },
  {
   "cell_type": "markdown",
   "id": "1c65cdfc",
   "metadata": {},
   "source": [
    "<div class=\"alert alert-warning\">\n",
    "<font size=\"5\"><b>Комментарий ревьюераV2</b></font>\n",
    "\n",
    "\n",
    "\n",
    "Совет 🤔:\n",
    "\n",
    "\n",
    "pip install phik - q -------> pip install phik -q"
   ]
  },
  {
   "cell_type": "markdown",
   "id": "192be396",
   "metadata": {},
   "source": [
    " \n",
    "<div class=\"alert alert-warning\">\n",
    "<font size=\"5\"><b>Комментарий ревьюера</b></font>\n",
    "\n",
    "Совет:\n",
    " \n",
    "\n",
    "- Тут можно добавить ключик - q:\n",
    "\n",
    "\n",
    "\n",
    "\t!pip install phik - q\t\n",
    "    \n",
    "    \n",
    "Чтобы не выводились   зависимости (они нам пока не нужны) \n",
    "\n",
    "\n",
    "\n",
    "     "
   ]
  },
  {
   "cell_type": "code",
   "execution_count": 6,
   "id": "f68a7419",
   "metadata": {
    "id": "f68a7419"
   },
   "outputs": [],
   "source": [
    "from phik import phik_matrix"
   ]
  },
  {
   "cell_type": "markdown",
   "id": "9d5b6f72",
   "metadata": {},
   "source": [
    " \n",
    "<div class=\"alert alert-warning\">\n",
    "<font size=\"5\"><b>Комментарий ревьюера</b></font>\n",
    "\n",
    "\n",
    "Совет:\n",
    "\n",
    "   \n",
    "\n",
    "- есть рекомендации PEP-8 при написании кода, в том числе и для импортов. Если интересно можешь почитать [тут](https://pythonworld.ru/osnovy/pep-8-rukovodstvo-po-napisaniyu-koda-na-python.html).  В частности Я бы советовал тебе собрать все импорты в одну ячейку (Причём самый конец поставить from phik import phik_matrix)\n"
   ]
  },
  {
   "cell_type": "code",
   "execution_count": 7,
   "id": "dd415c80",
   "metadata": {
    "id": "dd415c80"
   },
   "outputs": [],
   "source": [
    "rest_info = pd.read_csv('https://code.s3.yandex.net/datasets/rest_info.csv')"
   ]
  },
  {
   "cell_type": "code",
   "execution_count": 8,
   "id": "3158ad37",
   "metadata": {
    "id": "3158ad37"
   },
   "outputs": [],
   "source": [
    "rest_price = pd.read_csv('https://code.s3.yandex.net/datasets/rest_price.csv')"
   ]
  },
  {
   "cell_type": "markdown",
   "id": "2c614a62",
   "metadata": {
    "id": "2c614a62"
   },
   "source": [
    "---\n",
    "\n",
    "### Промежуточный вывод\n",
    "\n",
    "Сделайте промежуточный вывод о полученных данных: данные какого объёма вам предоставили, соответствуют ли данные описанию, встречаются ли в них пропуски, используются ли верные типы данных. Отметьте другие особенности данных, которые вы обнаружите на этой стадии и на которые стоит обратить внимание при предобработке."
   ]
  },
  {
   "cell_type": "code",
   "execution_count": 9,
   "id": "3593b7d5",
   "metadata": {
    "id": "3593b7d5"
   },
   "outputs": [
    {
     "name": "stdout",
     "output_type": "stream",
     "text": [
      "<class 'pandas.core.frame.DataFrame'>\n",
      "RangeIndex: 8406 entries, 0 to 8405\n",
      "Data columns (total 9 columns):\n",
      " #   Column    Non-Null Count  Dtype  \n",
      "---  ------    --------------  -----  \n",
      " 0   id        8406 non-null   object \n",
      " 1   name      8406 non-null   object \n",
      " 2   category  8406 non-null   object \n",
      " 3   address   8406 non-null   object \n",
      " 4   district  8406 non-null   object \n",
      " 5   hours     7870 non-null   object \n",
      " 6   rating    8406 non-null   float64\n",
      " 7   chain     8406 non-null   int64  \n",
      " 8   seats     4795 non-null   float64\n",
      "dtypes: float64(2), int64(1), object(6)\n",
      "memory usage: 591.2+ KB\n"
     ]
    },
    {
     "data": {
      "text/html": [
       "<div>\n",
       "<style scoped>\n",
       "    .dataframe tbody tr th:only-of-type {\n",
       "        vertical-align: middle;\n",
       "    }\n",
       "\n",
       "    .dataframe tbody tr th {\n",
       "        vertical-align: top;\n",
       "    }\n",
       "\n",
       "    .dataframe thead th {\n",
       "        text-align: right;\n",
       "    }\n",
       "</style>\n",
       "<table border=\"1\" class=\"dataframe\">\n",
       "  <thead>\n",
       "    <tr style=\"text-align: right;\">\n",
       "      <th></th>\n",
       "      <th>id</th>\n",
       "      <th>name</th>\n",
       "      <th>category</th>\n",
       "      <th>address</th>\n",
       "      <th>district</th>\n",
       "      <th>hours</th>\n",
       "      <th>rating</th>\n",
       "      <th>chain</th>\n",
       "      <th>seats</th>\n",
       "    </tr>\n",
       "  </thead>\n",
       "  <tbody>\n",
       "    <tr>\n",
       "      <th>0</th>\n",
       "      <td>0c3e3439a8c64ea5bf6ecd6ca6ae19f0</td>\n",
       "      <td>WoWфли</td>\n",
       "      <td>кафе</td>\n",
       "      <td>Москва, улица Дыбенко, 7/1</td>\n",
       "      <td>Северный административный округ</td>\n",
       "      <td>ежедневно, 10:00–22:00</td>\n",
       "      <td>5.0</td>\n",
       "      <td>0</td>\n",
       "      <td>NaN</td>\n",
       "    </tr>\n",
       "    <tr>\n",
       "      <th>1</th>\n",
       "      <td>045780ada3474c57a2112e505d74b633</td>\n",
       "      <td>Четыре комнаты</td>\n",
       "      <td>ресторан</td>\n",
       "      <td>Москва, улица Дыбенко, 36, корп. 1</td>\n",
       "      <td>Северный административный округ</td>\n",
       "      <td>ежедневно, 10:00–22:00</td>\n",
       "      <td>4.5</td>\n",
       "      <td>0</td>\n",
       "      <td>4.0</td>\n",
       "    </tr>\n",
       "    <tr>\n",
       "      <th>2</th>\n",
       "      <td>1070b6b59144425896c65889347fcff6</td>\n",
       "      <td>Хазри</td>\n",
       "      <td>кафе</td>\n",
       "      <td>Москва, Клязьминская улица, 15</td>\n",
       "      <td>Северный административный округ</td>\n",
       "      <td>пн-чт 11:00–02:00; пт,сб 11:00–05:00; вс 11:00...</td>\n",
       "      <td>4.6</td>\n",
       "      <td>0</td>\n",
       "      <td>45.0</td>\n",
       "    </tr>\n",
       "    <tr>\n",
       "      <th>3</th>\n",
       "      <td>03ac7cd772104f65b58b349dc59f03ee</td>\n",
       "      <td>Dormouse Coffee Shop</td>\n",
       "      <td>кофейня</td>\n",
       "      <td>Москва, улица Маршала Федоренко, 12</td>\n",
       "      <td>Северный административный округ</td>\n",
       "      <td>ежедневно, 09:00–22:00</td>\n",
       "      <td>5.0</td>\n",
       "      <td>0</td>\n",
       "      <td>NaN</td>\n",
       "    </tr>\n",
       "    <tr>\n",
       "      <th>4</th>\n",
       "      <td>a163aada139c4c7f87b0b1c0b466a50f</td>\n",
       "      <td>Иль Марко</td>\n",
       "      <td>пиццерия</td>\n",
       "      <td>Москва, Правобережная улица, 1Б</td>\n",
       "      <td>Северный административный округ</td>\n",
       "      <td>ежедневно, 10:00–22:00</td>\n",
       "      <td>5.0</td>\n",
       "      <td>1</td>\n",
       "      <td>148.0</td>\n",
       "    </tr>\n",
       "  </tbody>\n",
       "</table>\n",
       "</div>"
      ],
      "text/plain": [
       "                                 id                  name  category  \\\n",
       "0  0c3e3439a8c64ea5bf6ecd6ca6ae19f0                WoWфли      кафе   \n",
       "1  045780ada3474c57a2112e505d74b633        Четыре комнаты  ресторан   \n",
       "2  1070b6b59144425896c65889347fcff6                 Хазри      кафе   \n",
       "3  03ac7cd772104f65b58b349dc59f03ee  Dormouse Coffee Shop   кофейня   \n",
       "4  a163aada139c4c7f87b0b1c0b466a50f             Иль Марко  пиццерия   \n",
       "\n",
       "                               address                         district  \\\n",
       "0           Москва, улица Дыбенко, 7/1  Северный административный округ   \n",
       "1   Москва, улица Дыбенко, 36, корп. 1  Северный административный округ   \n",
       "2       Москва, Клязьминская улица, 15  Северный административный округ   \n",
       "3  Москва, улица Маршала Федоренко, 12  Северный административный округ   \n",
       "4      Москва, Правобережная улица, 1Б  Северный административный округ   \n",
       "\n",
       "                                               hours  rating  chain  seats  \n",
       "0                             ежедневно, 10:00–22:00     5.0      0    NaN  \n",
       "1                             ежедневно, 10:00–22:00     4.5      0    4.0  \n",
       "2  пн-чт 11:00–02:00; пт,сб 11:00–05:00; вс 11:00...     4.6      0   45.0  \n",
       "3                             ежедневно, 09:00–22:00     5.0      0    NaN  \n",
       "4                             ежедневно, 10:00–22:00     5.0      1  148.0  "
      ]
     },
     "execution_count": 9,
     "metadata": {},
     "output_type": "execute_result"
    }
   ],
   "source": [
    "rest_info.info()\n",
    "\n",
    "rest_info.head()"
   ]
  },
  {
   "cell_type": "code",
   "execution_count": 10,
   "id": "c2cc7f38",
   "metadata": {
    "id": "c2cc7f38"
   },
   "outputs": [
    {
     "name": "stdout",
     "output_type": "stream",
     "text": [
      "<class 'pandas.core.frame.DataFrame'>\n",
      "RangeIndex: 4058 entries, 0 to 4057\n",
      "Data columns (total 5 columns):\n",
      " #   Column             Non-Null Count  Dtype  \n",
      "---  ------             --------------  -----  \n",
      " 0   id                 4058 non-null   object \n",
      " 1   price              3315 non-null   object \n",
      " 2   avg_bill           3816 non-null   object \n",
      " 3   middle_avg_bill    3149 non-null   float64\n",
      " 4   middle_coffee_cup  535 non-null    float64\n",
      "dtypes: float64(2), object(3)\n",
      "memory usage: 158.6+ KB\n"
     ]
    },
    {
     "data": {
      "text/html": [
       "<div>\n",
       "<style scoped>\n",
       "    .dataframe tbody tr th:only-of-type {\n",
       "        vertical-align: middle;\n",
       "    }\n",
       "\n",
       "    .dataframe tbody tr th {\n",
       "        vertical-align: top;\n",
       "    }\n",
       "\n",
       "    .dataframe thead th {\n",
       "        text-align: right;\n",
       "    }\n",
       "</style>\n",
       "<table border=\"1\" class=\"dataframe\">\n",
       "  <thead>\n",
       "    <tr style=\"text-align: right;\">\n",
       "      <th></th>\n",
       "      <th>id</th>\n",
       "      <th>price</th>\n",
       "      <th>avg_bill</th>\n",
       "      <th>middle_avg_bill</th>\n",
       "      <th>middle_coffee_cup</th>\n",
       "    </tr>\n",
       "  </thead>\n",
       "  <tbody>\n",
       "    <tr>\n",
       "      <th>0</th>\n",
       "      <td>045780ada3474c57a2112e505d74b633</td>\n",
       "      <td>выше среднего</td>\n",
       "      <td>Средний счёт:1500–1600 ₽</td>\n",
       "      <td>1550.0</td>\n",
       "      <td>NaN</td>\n",
       "    </tr>\n",
       "    <tr>\n",
       "      <th>1</th>\n",
       "      <td>1070b6b59144425896c65889347fcff6</td>\n",
       "      <td>средние</td>\n",
       "      <td>Средний счёт:от 1000 ₽</td>\n",
       "      <td>1000.0</td>\n",
       "      <td>NaN</td>\n",
       "    </tr>\n",
       "    <tr>\n",
       "      <th>2</th>\n",
       "      <td>03ac7cd772104f65b58b349dc59f03ee</td>\n",
       "      <td>NaN</td>\n",
       "      <td>Цена чашки капучино:155–185 ₽</td>\n",
       "      <td>NaN</td>\n",
       "      <td>170.0</td>\n",
       "    </tr>\n",
       "    <tr>\n",
       "      <th>3</th>\n",
       "      <td>a163aada139c4c7f87b0b1c0b466a50f</td>\n",
       "      <td>средние</td>\n",
       "      <td>Средний счёт:400–600 ₽</td>\n",
       "      <td>500.0</td>\n",
       "      <td>NaN</td>\n",
       "    </tr>\n",
       "    <tr>\n",
       "      <th>4</th>\n",
       "      <td>8a343546b24e4a499ad96eb7d0797a8a</td>\n",
       "      <td>средние</td>\n",
       "      <td>NaN</td>\n",
       "      <td>NaN</td>\n",
       "      <td>NaN</td>\n",
       "    </tr>\n",
       "  </tbody>\n",
       "</table>\n",
       "</div>"
      ],
      "text/plain": [
       "                                 id          price  \\\n",
       "0  045780ada3474c57a2112e505d74b633  выше среднего   \n",
       "1  1070b6b59144425896c65889347fcff6        средние   \n",
       "2  03ac7cd772104f65b58b349dc59f03ee            NaN   \n",
       "3  a163aada139c4c7f87b0b1c0b466a50f        средние   \n",
       "4  8a343546b24e4a499ad96eb7d0797a8a        средние   \n",
       "\n",
       "                        avg_bill  middle_avg_bill  middle_coffee_cup  \n",
       "0       Средний счёт:1500–1600 ₽           1550.0                NaN  \n",
       "1         Средний счёт:от 1000 ₽           1000.0                NaN  \n",
       "2  Цена чашки капучино:155–185 ₽              NaN              170.0  \n",
       "3         Средний счёт:400–600 ₽            500.0                NaN  \n",
       "4                            NaN              NaN                NaN  "
      ]
     },
     "execution_count": 10,
     "metadata": {},
     "output_type": "execute_result"
    }
   ],
   "source": [
    "rest_price.info()\n",
    "rest_price.head()"
   ]
  },
  {
   "cell_type": "markdown",
   "id": "d7ef3e07",
   "metadata": {
    "id": "84e2bdab"
   },
   "source": [
    "# Промежуточный вывод\n",
    "\n",
    "\n",
    "Датасет rest_info содержит информацию с 9 столбцами и 8406 колонками. 6 столбцов объектного типа и 3 - числового. Все типы столбцов соответствуют своим названиям. Названия столбцов уже написаны в \"змеином формате\". Пропуски присутсвиуют в двух столбцах - часы и сидинья. При чем если в часах пропусков относительно немного, то в сиденьях их почти половина.\n",
    "\n",
    "Датасет rest_price содержит информацию с 5 столбцами и 4058 колонками. 3 столбца объектного типа и 2 - числового. Все типы столбцов соответствуют своим названиям. Названия столбцов уже написаны в \"змеином формате\". Пропуски присутсвиуют во всех столбцах кроме id. Особенно много пропусков в столбце с оценкой одной чашки капуччино. В остальных столбцах пропусков относительно немного. "
   ]
  },
  {
   "cell_type": "markdown",
   "id": "b8f4a39f",
   "metadata": {},
   "source": [
    "\n",
    "<div class=\"alert alert-success\">\n",
    "<font size=\"5\"><b>Комментарий ревьюера</b></font>\n",
    "\n",
    "Успех:\n",
    "\n",
    "\n",
    "- Предварительный обзор данных сделан\n",
    "\n",
    "\n",
    "- Выводы сделаны\n",
    "\n",
    " "
   ]
  },
  {
   "cell_type": "markdown",
   "id": "8a8d1491",
   "metadata": {
    "id": "8a8d1491"
   },
   "source": [
    "### Подготовка единого датафрейма\n",
    "\n",
    "- Объедините данные двух датасетов в один, с которым вы и продолжите работу."
   ]
  },
  {
   "cell_type": "code",
   "execution_count": 11,
   "id": "b71d5c15",
   "metadata": {},
   "outputs": [
    {
     "data": {
      "text/plain": [
       "id                      0\n",
       "price                 743\n",
       "avg_bill              242\n",
       "middle_avg_bill       909\n",
       "middle_coffee_cup    3523\n",
       "dtype: int64"
      ]
     },
     "execution_count": 11,
     "metadata": {},
     "output_type": "execute_result"
    }
   ],
   "source": [
    "#Для начала проверим данные в датасете rest_price:\n",
    "\n",
    "rest_price.isna().sum()"
   ]
  },
  {
   "cell_type": "code",
   "execution_count": 12,
   "id": "60a7a5a3",
   "metadata": {},
   "outputs": [
    {
     "data": {
      "text/plain": [
       "id                   0.000000\n",
       "price                0.183095\n",
       "avg_bill             0.059635\n",
       "middle_avg_bill      0.224002\n",
       "middle_coffee_cup    0.868162\n",
       "dtype: float64"
      ]
     },
     "execution_count": 12,
     "metadata": {},
     "output_type": "execute_result"
    }
   ],
   "source": [
    "rest_price.isna().sum()/rest_price.shape[0]"
   ]
  },
  {
   "cell_type": "markdown",
   "id": "548ee379",
   "metadata": {},
   "source": [
    "Пропусков во втором датасете не так уж много (кроме middle_coffee_cup) относительно этого датасета и скорее всего связаны с остутсвием информации. Все данные можно оставить как есть, не удаляя и не заменяя пропуски."
   ]
  },
  {
   "cell_type": "markdown",
   "id": "bd4b1b05",
   "metadata": {},
   "source": [
    "<div class=\"alert alert-danger\">\n",
    "<font size=\"5\"><b>Комментарий ревьюера</b></font>\n",
    "\n",
    "\n",
    "\n",
    "Ошибка ❌:\n",
    "\n",
    "\n",
    "- Молодец что пробуешь заполнить пропуски, но   предложил оставить пропуски как есть. Вряд ли тут можно найти хороший вариант для заполнения пропусков без сильного искажения данных \n",
    " \n",
    "  \n",
    " <div class=\"alert alert-warning\">\n",
    "\n",
    "\n",
    "\n",
    "Совет 🤔:\n",
    "\n",
    "\n",
    "И кстати можно было короче\n",
    "     \n",
    "     \n",
    "     \n",
    "     rest_price['middle_avg_bill'].fillna('median')\n",
    "    \n",
    "    "
   ]
  },
  {
   "cell_type": "code",
   "execution_count": 13,
   "id": "3408e303",
   "metadata": {
    "id": "3408e303"
   },
   "outputs": [],
   "source": [
    "#Теперь можно объединить датасеты:\n",
    "df = rest_info.merge(rest_price, on='id', how='left')"
   ]
  },
  {
   "cell_type": "code",
   "execution_count": 14,
   "id": "5695950b",
   "metadata": {
    "id": "5695950b"
   },
   "outputs": [
    {
     "name": "stdout",
     "output_type": "stream",
     "text": [
      "<class 'pandas.core.frame.DataFrame'>\n",
      "Int64Index: 8406 entries, 0 to 8405\n",
      "Data columns (total 13 columns):\n",
      " #   Column             Non-Null Count  Dtype  \n",
      "---  ------             --------------  -----  \n",
      " 0   id                 8406 non-null   object \n",
      " 1   name               8406 non-null   object \n",
      " 2   category           8406 non-null   object \n",
      " 3   address            8406 non-null   object \n",
      " 4   district           8406 non-null   object \n",
      " 5   hours              7870 non-null   object \n",
      " 6   rating             8406 non-null   float64\n",
      " 7   chain              8406 non-null   int64  \n",
      " 8   seats              4795 non-null   float64\n",
      " 9   price              3315 non-null   object \n",
      " 10  avg_bill           3816 non-null   object \n",
      " 11  middle_avg_bill    3149 non-null   float64\n",
      " 12  middle_coffee_cup  535 non-null    float64\n",
      "dtypes: float64(4), int64(1), object(8)\n",
      "memory usage: 919.4+ KB\n"
     ]
    }
   ],
   "source": [
    "df.info()"
   ]
  },
  {
   "cell_type": "code",
   "execution_count": 15,
   "id": "6577c71c",
   "metadata": {
    "id": "6577c71c"
   },
   "outputs": [
    {
     "data": {
      "text/html": [
       "<div>\n",
       "<style scoped>\n",
       "    .dataframe tbody tr th:only-of-type {\n",
       "        vertical-align: middle;\n",
       "    }\n",
       "\n",
       "    .dataframe tbody tr th {\n",
       "        vertical-align: top;\n",
       "    }\n",
       "\n",
       "    .dataframe thead th {\n",
       "        text-align: right;\n",
       "    }\n",
       "</style>\n",
       "<table border=\"1\" class=\"dataframe\">\n",
       "  <thead>\n",
       "    <tr style=\"text-align: right;\">\n",
       "      <th></th>\n",
       "      <th>id</th>\n",
       "      <th>name</th>\n",
       "      <th>category</th>\n",
       "      <th>address</th>\n",
       "      <th>district</th>\n",
       "      <th>hours</th>\n",
       "      <th>rating</th>\n",
       "      <th>chain</th>\n",
       "      <th>seats</th>\n",
       "      <th>price</th>\n",
       "      <th>avg_bill</th>\n",
       "      <th>middle_avg_bill</th>\n",
       "      <th>middle_coffee_cup</th>\n",
       "    </tr>\n",
       "  </thead>\n",
       "  <tbody>\n",
       "    <tr>\n",
       "      <th>0</th>\n",
       "      <td>0c3e3439a8c64ea5bf6ecd6ca6ae19f0</td>\n",
       "      <td>WoWфли</td>\n",
       "      <td>кафе</td>\n",
       "      <td>Москва, улица Дыбенко, 7/1</td>\n",
       "      <td>Северный административный округ</td>\n",
       "      <td>ежедневно, 10:00–22:00</td>\n",
       "      <td>5.0</td>\n",
       "      <td>0</td>\n",
       "      <td>NaN</td>\n",
       "      <td>NaN</td>\n",
       "      <td>NaN</td>\n",
       "      <td>NaN</td>\n",
       "      <td>NaN</td>\n",
       "    </tr>\n",
       "    <tr>\n",
       "      <th>1</th>\n",
       "      <td>045780ada3474c57a2112e505d74b633</td>\n",
       "      <td>Четыре комнаты</td>\n",
       "      <td>ресторан</td>\n",
       "      <td>Москва, улица Дыбенко, 36, корп. 1</td>\n",
       "      <td>Северный административный округ</td>\n",
       "      <td>ежедневно, 10:00–22:00</td>\n",
       "      <td>4.5</td>\n",
       "      <td>0</td>\n",
       "      <td>4.0</td>\n",
       "      <td>выше среднего</td>\n",
       "      <td>Средний счёт:1500–1600 ₽</td>\n",
       "      <td>1550.0</td>\n",
       "      <td>NaN</td>\n",
       "    </tr>\n",
       "    <tr>\n",
       "      <th>2</th>\n",
       "      <td>1070b6b59144425896c65889347fcff6</td>\n",
       "      <td>Хазри</td>\n",
       "      <td>кафе</td>\n",
       "      <td>Москва, Клязьминская улица, 15</td>\n",
       "      <td>Северный административный округ</td>\n",
       "      <td>пн-чт 11:00–02:00; пт,сб 11:00–05:00; вс 11:00...</td>\n",
       "      <td>4.6</td>\n",
       "      <td>0</td>\n",
       "      <td>45.0</td>\n",
       "      <td>средние</td>\n",
       "      <td>Средний счёт:от 1000 ₽</td>\n",
       "      <td>1000.0</td>\n",
       "      <td>NaN</td>\n",
       "    </tr>\n",
       "    <tr>\n",
       "      <th>3</th>\n",
       "      <td>03ac7cd772104f65b58b349dc59f03ee</td>\n",
       "      <td>Dormouse Coffee Shop</td>\n",
       "      <td>кофейня</td>\n",
       "      <td>Москва, улица Маршала Федоренко, 12</td>\n",
       "      <td>Северный административный округ</td>\n",
       "      <td>ежедневно, 09:00–22:00</td>\n",
       "      <td>5.0</td>\n",
       "      <td>0</td>\n",
       "      <td>NaN</td>\n",
       "      <td>NaN</td>\n",
       "      <td>Цена чашки капучино:155–185 ₽</td>\n",
       "      <td>NaN</td>\n",
       "      <td>170.0</td>\n",
       "    </tr>\n",
       "    <tr>\n",
       "      <th>4</th>\n",
       "      <td>a163aada139c4c7f87b0b1c0b466a50f</td>\n",
       "      <td>Иль Марко</td>\n",
       "      <td>пиццерия</td>\n",
       "      <td>Москва, Правобережная улица, 1Б</td>\n",
       "      <td>Северный административный округ</td>\n",
       "      <td>ежедневно, 10:00–22:00</td>\n",
       "      <td>5.0</td>\n",
       "      <td>1</td>\n",
       "      <td>148.0</td>\n",
       "      <td>средние</td>\n",
       "      <td>Средний счёт:400–600 ₽</td>\n",
       "      <td>500.0</td>\n",
       "      <td>NaN</td>\n",
       "    </tr>\n",
       "  </tbody>\n",
       "</table>\n",
       "</div>"
      ],
      "text/plain": [
       "                                 id                  name  category  \\\n",
       "0  0c3e3439a8c64ea5bf6ecd6ca6ae19f0                WoWфли      кафе   \n",
       "1  045780ada3474c57a2112e505d74b633        Четыре комнаты  ресторан   \n",
       "2  1070b6b59144425896c65889347fcff6                 Хазри      кафе   \n",
       "3  03ac7cd772104f65b58b349dc59f03ee  Dormouse Coffee Shop   кофейня   \n",
       "4  a163aada139c4c7f87b0b1c0b466a50f             Иль Марко  пиццерия   \n",
       "\n",
       "                               address                         district  \\\n",
       "0           Москва, улица Дыбенко, 7/1  Северный административный округ   \n",
       "1   Москва, улица Дыбенко, 36, корп. 1  Северный административный округ   \n",
       "2       Москва, Клязьминская улица, 15  Северный административный округ   \n",
       "3  Москва, улица Маршала Федоренко, 12  Северный административный округ   \n",
       "4      Москва, Правобережная улица, 1Б  Северный административный округ   \n",
       "\n",
       "                                               hours  rating  chain  seats  \\\n",
       "0                             ежедневно, 10:00–22:00     5.0      0    NaN   \n",
       "1                             ежедневно, 10:00–22:00     4.5      0    4.0   \n",
       "2  пн-чт 11:00–02:00; пт,сб 11:00–05:00; вс 11:00...     4.6      0   45.0   \n",
       "3                             ежедневно, 09:00–22:00     5.0      0    NaN   \n",
       "4                             ежедневно, 10:00–22:00     5.0      1  148.0   \n",
       "\n",
       "           price                       avg_bill  middle_avg_bill  \\\n",
       "0            NaN                            NaN              NaN   \n",
       "1  выше среднего       Средний счёт:1500–1600 ₽           1550.0   \n",
       "2        средние         Средний счёт:от 1000 ₽           1000.0   \n",
       "3            NaN  Цена чашки капучино:155–185 ₽              NaN   \n",
       "4        средние         Средний счёт:400–600 ₽            500.0   \n",
       "\n",
       "   middle_coffee_cup  \n",
       "0                NaN  \n",
       "1                NaN  \n",
       "2                NaN  \n",
       "3              170.0  \n",
       "4                NaN  "
      ]
     },
     "execution_count": 15,
     "metadata": {},
     "output_type": "execute_result"
    }
   ],
   "source": [
    "df.head()"
   ]
  },
  {
   "cell_type": "markdown",
   "id": "5883051f",
   "metadata": {},
   "source": [
    "<div class=\"alert alert-success\">\n",
    "<font size=\"5\"><b>Комментарий ревьюера</b></font>\n",
    "\n",
    "\n",
    "\n",
    "Успех 👍:\n",
    "\n",
    "\n",
    "\n",
    "\n",
    "Объединение правильное\n",
    "\n",
    "Плюс за проверку\n",
    "\n",
    " "
   ]
  },
  {
   "cell_type": "markdown",
   "id": "956e82e2",
   "metadata": {
    "id": "956e82e2"
   },
   "source": [
    "## 2. Предобработка данных\n",
    "\n",
    "Подготовьте данные к исследовательскому анализу:\n",
    "\n",
    "- Изучите корректность типов данных и при необходимости проведите их преобразование."
   ]
  },
  {
   "cell_type": "markdown",
   "id": "e79f32da",
   "metadata": {
    "id": "67956690"
   },
   "source": [
    "В целом данные представлены корректно. Можно лишь преобразовать целочисленные типы данных, чтобы они не занимали слишком много места. Такие данные есть только в столбце 'chain'. Также можно преобразовать к целочисленному типу данных столбце 'seats'."
   ]
  },
  {
   "cell_type": "code",
   "execution_count": 16,
   "id": "b5f2a94d",
   "metadata": {
    "id": "b5f2a94d"
   },
   "outputs": [],
   "source": [
    "df['chain'] = pd.to_numeric(df['chain'], downcast = 'integer')"
   ]
  },
  {
   "cell_type": "code",
   "execution_count": 17,
   "id": "620d2f08",
   "metadata": {
    "id": "620d2f08"
   },
   "outputs": [],
   "source": [
    "df['seats'] = pd.to_numeric(df['seats'], downcast = 'integer')"
   ]
  },
  {
   "cell_type": "markdown",
   "id": "f237b699",
   "metadata": {},
   "source": [
    "<div class=\"alert alert-success\">\n",
    "<font size=\"5\"><b>Комментарий ревьюера</b></font>\n",
    "\n",
    "\n",
    "\n",
    "Успех 👍:\n",
    "\n",
    "\n",
    "Здорово что обращаешь внимание на такие моменты \n",
    "\n",
    "\n",
    "<div class=\"alert alert-warning\">\n",
    "\n",
    "\n",
    "\n",
    "\n",
    "\n",
    "Совет 🤔:\n",
    "\n",
    "\n",
    "\n",
    "На просторах интернета можно найти  функцию для такого рода работы в автоматическом режиме, он подойдёт когда у нас будет большой датасет, и встанет вопрос как бы сэкономить ресурсы (Но попрактиковаться можно и сейчас) \n",
    "\n",
    "\n",
    "\t# Оптимизация числовых типов данных\n",
    "    def optimize_memory_usage(df: pd.DataFrame, print_size: bool=True) -> pd.DataFrame:\n",
    "        '''\n",
    "        Function optimizes memory usage in dataframe\n",
    "        df: pd.DataFrame - data table\n",
    "        print_size: bool - display of optimization results\n",
    "        return pd.DataFrame - amount of optimized memory\n",
    "        '''\n",
    "        numerics = ['int16', 'int32', 'int64', 'float16', 'float32', 'float64'] # Типы, которые будем проверять на оптимизацию\n",
    "        # Размер занимаемой памяти до оптимизации (в Мб)\n",
    "        before_size = df.memory_usage().sum() / 1024**2    \n",
    "        for column in df.columns:\n",
    "            column_type = df[column].dtypes\n",
    "            if column_type in numerics:\n",
    "                column_min = df[column].min()\n",
    "                column_max = df[column].max()\n",
    "                if str(column_type).startswith('int'):\n",
    "                    if column_min > np.iinfo(np.int8).min and column_max < np.iinfo(np.int8).max:\n",
    "                        df[column] = df[column].astype(np.int8)\n",
    "                    elif column_min > np.iinfo(np.int16).min and column_max < np.iinfo(np.int16).max:\n",
    "                        df[column] = df[column].astype(np.int16)\n",
    "                    elif column_min > np.iinfo(np.int32).min and column_max < np.iinfo(np.int32).max:\n",
    "                        df[column] = df[column].astype(np.int32)\n",
    "                    elif column_min > np.iinfo(np.int64).min and column_max < np.iinfo(np.int64).max:\n",
    "                        df[column] = df[column].astype(np.int64)  \n",
    "                else:\n",
    "                    if column_min > np.finfo(np.float32).min and column_max < np.finfo(np.float32).max:\n",
    "                        df[column] = df[column].astype(np.float32)\n",
    "                    else:\n",
    "                        df[column] = df[column].astype(np.float64)    \n",
    "        # Размер занимаемой памяти после оптимизации (в Мб)\n",
    "        after_size = df.memory_usage().sum() / 1024**2\n",
    "        if print_size: print('Размер использования памяти: до {:5.2f} Mb - после {:5.2f} Mb ({:.1f}%)'\n",
    "                             .format(before_size, after_size, 100 * (before_size - after_size) / before_size))\n",
    "        return df\n",
    "                                                                                                   \n",
    "                                                                                                   \n",
    "Проверяет минимальное и максимальное значения в столбце. Если значения могут уместиться в типе данных меньшего размера (например, np.int8 вместо np.int16), столбец конвертируется в более компактный тип данных. И для оценки стоило всё это начинать, подсчитывается размер занимаемой памяти DataFrame до и после оптимизации и выводит разницу в процентах\n",
    "                                                                                                   "
   ]
  },
  {
   "cell_type": "markdown",
   "id": "4b7ee469",
   "metadata": {
    "id": "4b7ee469"
   },
   "source": [
    "- Изучите пропущенные значения в данных: посчитайте их количество в каждом столбце датафрейме, изучите данные с пропущенными значениями и предположите гипотезы их появления. Проведите обработку пропущенных значений: вы можете заменить пропуски на определённое значение, удалить строки с пропусками или оставить их как есть."
   ]
  },
  {
   "cell_type": "code",
   "execution_count": 18,
   "id": "3d8840ca",
   "metadata": {
    "id": "3d8840ca"
   },
   "outputs": [
    {
     "data": {
      "text/plain": [
       "id                      0\n",
       "name                    0\n",
       "category                0\n",
       "address                 0\n",
       "district                0\n",
       "hours                 536\n",
       "rating                  0\n",
       "chain                   0\n",
       "seats                3611\n",
       "price                5091\n",
       "avg_bill             4590\n",
       "middle_avg_bill      5257\n",
       "middle_coffee_cup    7871\n",
       "dtype: int64"
      ]
     },
     "execution_count": 18,
     "metadata": {},
     "output_type": "execute_result"
    }
   ],
   "source": [
    "df.isna().sum()"
   ]
  },
  {
   "cell_type": "code",
   "execution_count": 19,
   "id": "2ea145ca",
   "metadata": {
    "id": "2ea145ca"
   },
   "outputs": [
    {
     "data": {
      "text/plain": [
       "id                   0.000000\n",
       "name                 0.000000\n",
       "category             0.000000\n",
       "address              0.000000\n",
       "district             0.000000\n",
       "hours                0.063764\n",
       "rating               0.000000\n",
       "chain                0.000000\n",
       "seats                0.429574\n",
       "price                0.605639\n",
       "avg_bill             0.546039\n",
       "middle_avg_bill      0.625387\n",
       "middle_coffee_cup    0.936355\n",
       "dtype: float64"
      ]
     },
     "execution_count": 19,
     "metadata": {},
     "output_type": "execute_result"
    }
   ],
   "source": [
    "df.isna().sum()/df.shape[0]"
   ]
  },
  {
   "cell_type": "markdown",
   "id": "ab1d6f08",
   "metadata": {},
   "source": [
    "Из первого датафрейма пропуски встречаются в двух столбцах - hours и seats. Пропуски в hours незначительны и составляют всего 6%. Скорее всего владельцы просто не указали часы работы данных заведений, поэтому можно их оставить как есть. Пропуски в seats могут быть связаны с тем, что в этих заведениях есть летние вернады и поэтому количество посадочных мест там менятеся в зависимости от сезонности. Пропуски в этой категории также лучше оставить как есть.\n",
    "\n",
    "Причину пропусков в middle_avg_bill/middle_coffee_cup можно связать с тем, что это результат парсинга столбца avg_bill.\n",
    "\n",
    "Для понимания количества пропусков в столбцах построим сотрировку данных."
   ]
  },
  {
   "cell_type": "code",
   "execution_count": 20,
   "id": "eb74ed1e",
   "metadata": {},
   "outputs": [
    {
     "data": {
      "text/html": [
       "<style  type=\"text/css\" >\n",
       "#T_51be4_row0_col0,#T_51be4_row1_col0,#T_51be4_row2_col0,#T_51be4_row3_col0,#T_51be4_row4_col0,#T_51be4_row6_col0,#T_51be4_row7_col0{\n",
       "            background-color:  #3b4cc0;\n",
       "            color:  #f1f1f1;\n",
       "        }#T_51be4_row5_col0{\n",
       "            background-color:  #4f69d9;\n",
       "            color:  #000000;\n",
       "        }#T_51be4_row8_col0{\n",
       "            background-color:  #d2dbe8;\n",
       "            color:  #000000;\n",
       "        }#T_51be4_row9_col0{\n",
       "            background-color:  #f6bea4;\n",
       "            color:  #000000;\n",
       "        }#T_51be4_row10_col0{\n",
       "            background-color:  #efcebd;\n",
       "            color:  #000000;\n",
       "        }#T_51be4_row11_col0{\n",
       "            background-color:  #f7b89c;\n",
       "            color:  #000000;\n",
       "        }#T_51be4_row12_col0{\n",
       "            background-color:  #b40426;\n",
       "            color:  #f1f1f1;\n",
       "        }</style><table id=\"T_51be4_\" ><thead>    <tr>        <th class=\"blank level0\" ></th>        <th class=\"col_heading level0 col0\" >0</th>    </tr></thead><tbody>\n",
       "                <tr>\n",
       "                        <th id=\"T_51be4_level0_row0\" class=\"row_heading level0 row0\" >id</th>\n",
       "                        <td id=\"T_51be4_row0_col0\" class=\"data row0 col0\" >0.000000</td>\n",
       "            </tr>\n",
       "            <tr>\n",
       "                        <th id=\"T_51be4_level0_row1\" class=\"row_heading level0 row1\" >name</th>\n",
       "                        <td id=\"T_51be4_row1_col0\" class=\"data row1 col0\" >0.000000</td>\n",
       "            </tr>\n",
       "            <tr>\n",
       "                        <th id=\"T_51be4_level0_row2\" class=\"row_heading level0 row2\" >category</th>\n",
       "                        <td id=\"T_51be4_row2_col0\" class=\"data row2 col0\" >0.000000</td>\n",
       "            </tr>\n",
       "            <tr>\n",
       "                        <th id=\"T_51be4_level0_row3\" class=\"row_heading level0 row3\" >address</th>\n",
       "                        <td id=\"T_51be4_row3_col0\" class=\"data row3 col0\" >0.000000</td>\n",
       "            </tr>\n",
       "            <tr>\n",
       "                        <th id=\"T_51be4_level0_row4\" class=\"row_heading level0 row4\" >district</th>\n",
       "                        <td id=\"T_51be4_row4_col0\" class=\"data row4 col0\" >0.000000</td>\n",
       "            </tr>\n",
       "            <tr>\n",
       "                        <th id=\"T_51be4_level0_row5\" class=\"row_heading level0 row5\" >hours</th>\n",
       "                        <td id=\"T_51be4_row5_col0\" class=\"data row5 col0\" >0.063764</td>\n",
       "            </tr>\n",
       "            <tr>\n",
       "                        <th id=\"T_51be4_level0_row6\" class=\"row_heading level0 row6\" >rating</th>\n",
       "                        <td id=\"T_51be4_row6_col0\" class=\"data row6 col0\" >0.000000</td>\n",
       "            </tr>\n",
       "            <tr>\n",
       "                        <th id=\"T_51be4_level0_row7\" class=\"row_heading level0 row7\" >chain</th>\n",
       "                        <td id=\"T_51be4_row7_col0\" class=\"data row7 col0\" >0.000000</td>\n",
       "            </tr>\n",
       "            <tr>\n",
       "                        <th id=\"T_51be4_level0_row8\" class=\"row_heading level0 row8\" >seats</th>\n",
       "                        <td id=\"T_51be4_row8_col0\" class=\"data row8 col0\" >0.429574</td>\n",
       "            </tr>\n",
       "            <tr>\n",
       "                        <th id=\"T_51be4_level0_row9\" class=\"row_heading level0 row9\" >price</th>\n",
       "                        <td id=\"T_51be4_row9_col0\" class=\"data row9 col0\" >0.605639</td>\n",
       "            </tr>\n",
       "            <tr>\n",
       "                        <th id=\"T_51be4_level0_row10\" class=\"row_heading level0 row10\" >avg_bill</th>\n",
       "                        <td id=\"T_51be4_row10_col0\" class=\"data row10 col0\" >0.546039</td>\n",
       "            </tr>\n",
       "            <tr>\n",
       "                        <th id=\"T_51be4_level0_row11\" class=\"row_heading level0 row11\" >middle_avg_bill</th>\n",
       "                        <td id=\"T_51be4_row11_col0\" class=\"data row11 col0\" >0.625387</td>\n",
       "            </tr>\n",
       "            <tr>\n",
       "                        <th id=\"T_51be4_level0_row12\" class=\"row_heading level0 row12\" >middle_coffee_cup</th>\n",
       "                        <td id=\"T_51be4_row12_col0\" class=\"data row12 col0\" >0.936355</td>\n",
       "            </tr>\n",
       "    </tbody></table>"
      ],
      "text/plain": [
       "<pandas.io.formats.style.Styler at 0x7f631ad59fd0>"
      ]
     },
     "execution_count": 20,
     "metadata": {},
     "output_type": "execute_result"
    }
   ],
   "source": [
    "pd.DataFrame(df.isna().sum()/df.shape[0]).style.background_gradient(cmap='coolwarm', axis=0)"
   ]
  },
  {
   "cell_type": "markdown",
   "id": "9474dce2",
   "metadata": {},
   "source": [
    "<div class=\"alert alert-warning\">\n",
    "<font size=\"5\"><b>Комментарий ревьюераV3</b></font>\n",
    "\n",
    "\n",
    "\n",
    "Совет 🤔:\n",
    "\n",
    "Вот что я рекомендовал\n",
    "    \n",
    "    \n",
    "    pd.DataFrame(df.isna().sum()/df.shape[0]).style.background_gradient(cmap='coolwarm', axis=0)\n",
    "    \n",
    "    \n",
    " "
   ]
  },
  {
   "cell_type": "markdown",
   "id": "c92d4e53",
   "metadata": {},
   "source": []
  },
  {
   "cell_type": "markdown",
   "id": "3c80c148",
   "metadata": {},
   "source": [
    "\n",
    "<div class=\"alert alert-success\">\n",
    "<font size=\"5\"><b>Комментарий ревьюера</b></font>\n",
    "\n",
    "\n",
    "\n",
    "Успех 👍:\n",
    "\n",
    "\n",
    "\n",
    "- Информация о пропусках в абсолютных и относительных значениях выведена, молодец\n",
    "\n",
    "- Есть описание возможных причин их появления,  это важно,  потому что поможет в будущем собирать лучше информацию,  а также для решения   пунктов проекта ниже   \n",
    "\n",
    " \n",
    "\n",
    "\n",
    "<div class=\"alert alert-warning\">\n",
    " \n",
    "    \n",
    "Совет:\n",
    "\n",
    "    \n",
    "\n",
    "-  Причину пропусков в middle_avg_bill/middle_coffee_cup, cтоит связать с тем что это результат парсинга столбца    avg_bill\n",
    "        \n",
    "\n",
    " \n",
    "- Немножко теории о пропусках и как мы можем с ними работать, можешь почитать [тут](https://loginom.ru/blog/missing)    \n",
    "    \n",
    " \n",
    "\n",
    "- Возможно проще было воспринимать информацию, если сделать сортировочку, а вот так можно   раскрасить (+ округлить до сотых)\n",
    "\n",
    "        \n",
    "     .style.background_gradient(cmap='coolwarm', axis=1).set_precision(2)\n",
    "\n",
    "\n",
    "    \n",
    " Чем больше число тем краснее, чем меньше тем больше синего.  Конечно это будет полезнее когда у нас будет таблица с большим количеством цифр, но сейчас можно начать практиковаться\n",
    "       \n",
    "\t "
   ]
  },
  {
   "cell_type": "markdown",
   "id": "1cb5fbe8",
   "metadata": {},
   "source": [
    "<div class=\"alert alert-warning\">\n",
    "<font size=\"5\"><b>Комментарий ревьюера</b></font>\n",
    "\n",
    "\n",
    "\n",
    "Совет 🤔:\n",
    "\n",
    "\n",
    " Этот код можно убрать"
   ]
  },
  {
   "cell_type": "markdown",
   "id": "c4d5f04d",
   "metadata": {
    "id": "c4d5f04d"
   },
   "source": [
    "- Проверьте данные на явные и неявные дубликаты, например поля с названием и адресом заведения. Для оптимизации проверки нормализуйте данные в текстовых столбцах, например с названием заведения."
   ]
  },
  {
   "cell_type": "code",
   "execution_count": 25,
   "id": "0769b681",
   "metadata": {
    "id": "0769b681"
   },
   "outputs": [
    {
     "data": {
      "text/plain": [
       "0"
      ]
     },
     "execution_count": 25,
     "metadata": {},
     "output_type": "execute_result"
    }
   ],
   "source": [
    " df.duplicated().sum()"
   ]
  },
  {
   "cell_type": "markdown",
   "id": "27065911",
   "metadata": {
    "id": "95b15cd0"
   },
   "source": [
    "Явные дубликаты отсутствуют."
   ]
  },
  {
   "cell_type": "code",
   "execution_count": 26,
   "id": "efa6547b",
   "metadata": {},
   "outputs": [],
   "source": [
    "#Чтобы проверть неявные дубликаты в имене и адресах приведем их нижнему регистру\n",
    "df['name'] = df['name'].str.lower()\n",
    "df['address'] = df['address'].str.lower()"
   ]
  },
  {
   "cell_type": "code",
   "execution_count": 27,
   "id": "5c552c80",
   "metadata": {},
   "outputs": [
    {
     "data": {
      "text/plain": [
       "4"
      ]
     },
     "execution_count": 27,
     "metadata": {},
     "output_type": "execute_result"
    }
   ],
   "source": [
    "#Проверим дубликаты по этим двум значениям:\n",
    "df[['address', 'name']].duplicated().sum()"
   ]
  },
  {
   "cell_type": "markdown",
   "id": "cca5bb6e",
   "metadata": {},
   "source": [
    "<div class=\"alert alert-warning\">\n",
    "<font size=\"5\"><b>Комментарий ревьюераV2</b></font>\n",
    "\n",
    "\n",
    "\n",
    "Совет 🤔:\n",
    "\n",
    "\n",
    " Неработающий код стоила как минимум закомментировать.  Ниже написал как вывести. Обрати внимание на \n",
    "    \n",
    "    \n",
    "    keep=False\n",
    "    \n",
    "    \n",
    ", именно с его помощью выводится полный список дубликатов (По умолчанию выводится только первые значение)    "
   ]
  },
  {
   "cell_type": "code",
   "execution_count": 28,
   "id": "be9289c6",
   "metadata": {},
   "outputs": [
    {
     "data": {
      "text/html": [
       "<div>\n",
       "<style scoped>\n",
       "    .dataframe tbody tr th:only-of-type {\n",
       "        vertical-align: middle;\n",
       "    }\n",
       "\n",
       "    .dataframe tbody tr th {\n",
       "        vertical-align: top;\n",
       "    }\n",
       "\n",
       "    .dataframe thead th {\n",
       "        text-align: right;\n",
       "    }\n",
       "</style>\n",
       "<table border=\"1\" class=\"dataframe\">\n",
       "  <thead>\n",
       "    <tr style=\"text-align: right;\">\n",
       "      <th></th>\n",
       "      <th>id</th>\n",
       "      <th>name</th>\n",
       "      <th>category</th>\n",
       "      <th>address</th>\n",
       "      <th>district</th>\n",
       "      <th>hours</th>\n",
       "      <th>rating</th>\n",
       "      <th>chain</th>\n",
       "      <th>seats</th>\n",
       "      <th>price</th>\n",
       "      <th>avg_bill</th>\n",
       "      <th>middle_avg_bill</th>\n",
       "      <th>middle_coffee_cup</th>\n",
       "    </tr>\n",
       "  </thead>\n",
       "  <tbody>\n",
       "    <tr>\n",
       "      <th>189</th>\n",
       "      <td>072032ce16dc47bfbc63b672c75bd371</td>\n",
       "      <td>кафе</td>\n",
       "      <td>кафе</td>\n",
       "      <td>москва, парк ангарские пруды</td>\n",
       "      <td>Северный административный округ</td>\n",
       "      <td>ежедневно, 09:00–23:00</td>\n",
       "      <td>3.2</td>\n",
       "      <td>0</td>\n",
       "      <td>NaN</td>\n",
       "      <td>NaN</td>\n",
       "      <td>NaN</td>\n",
       "      <td>NaN</td>\n",
       "      <td>NaN</td>\n",
       "    </tr>\n",
       "    <tr>\n",
       "      <th>215</th>\n",
       "      <td>897ddbc6746c4388b19dc8a9fcdbb488</td>\n",
       "      <td>кафе</td>\n",
       "      <td>кафе</td>\n",
       "      <td>москва, парк ангарские пруды</td>\n",
       "      <td>Северный административный округ</td>\n",
       "      <td>ежедневно, 10:00–22:00</td>\n",
       "      <td>3.2</td>\n",
       "      <td>0</td>\n",
       "      <td>NaN</td>\n",
       "      <td>NaN</td>\n",
       "      <td>NaN</td>\n",
       "      <td>NaN</td>\n",
       "      <td>NaN</td>\n",
       "    </tr>\n",
       "    <tr>\n",
       "      <th>1430</th>\n",
       "      <td>62608690e9cc464fbcd980cfd552e334</td>\n",
       "      <td>more poke</td>\n",
       "      <td>ресторан</td>\n",
       "      <td>москва, волоколамское шоссе, 11, стр. 2</td>\n",
       "      <td>Северный административный округ</td>\n",
       "      <td>ежедневно, 09:00–21:00</td>\n",
       "      <td>4.2</td>\n",
       "      <td>0</td>\n",
       "      <td>188.0</td>\n",
       "      <td>NaN</td>\n",
       "      <td>NaN</td>\n",
       "      <td>NaN</td>\n",
       "      <td>NaN</td>\n",
       "    </tr>\n",
       "    <tr>\n",
       "      <th>1511</th>\n",
       "      <td>a69f018d5c064873a3b491b0121bc1b4</td>\n",
       "      <td>more poke</td>\n",
       "      <td>ресторан</td>\n",
       "      <td>москва, волоколамское шоссе, 11, стр. 2</td>\n",
       "      <td>Северный административный округ</td>\n",
       "      <td>пн-чт 09:00–18:00; пт,сб 09:00–21:00; вс 09:00...</td>\n",
       "      <td>4.2</td>\n",
       "      <td>1</td>\n",
       "      <td>188.0</td>\n",
       "      <td>NaN</td>\n",
       "      <td>NaN</td>\n",
       "      <td>NaN</td>\n",
       "      <td>NaN</td>\n",
       "    </tr>\n",
       "    <tr>\n",
       "      <th>2211</th>\n",
       "      <td>c6ef39ae8a8c483d8f9a6531bc386a2c</td>\n",
       "      <td>раковарня клешни и хвосты</td>\n",
       "      <td>ресторан</td>\n",
       "      <td>москва, проспект мира, 118</td>\n",
       "      <td>Северо-Восточный административный округ</td>\n",
       "      <td>ежедневно, 12:00–00:00</td>\n",
       "      <td>4.4</td>\n",
       "      <td>0</td>\n",
       "      <td>150.0</td>\n",
       "      <td>NaN</td>\n",
       "      <td>NaN</td>\n",
       "      <td>NaN</td>\n",
       "      <td>NaN</td>\n",
       "    </tr>\n",
       "    <tr>\n",
       "      <th>2420</th>\n",
       "      <td>aba1de7ad7d64ac0a3f8684bda29d905</td>\n",
       "      <td>раковарня клешни и хвосты</td>\n",
       "      <td>бар,паб</td>\n",
       "      <td>москва, проспект мира, 118</td>\n",
       "      <td>Северо-Восточный административный округ</td>\n",
       "      <td>пн-чт 12:00–00:00; пт,сб 12:00–01:00; вс 12:00...</td>\n",
       "      <td>4.4</td>\n",
       "      <td>1</td>\n",
       "      <td>150.0</td>\n",
       "      <td>NaN</td>\n",
       "      <td>NaN</td>\n",
       "      <td>NaN</td>\n",
       "      <td>NaN</td>\n",
       "    </tr>\n",
       "    <tr>\n",
       "      <th>3091</th>\n",
       "      <td>3c2a73ea79a04be48858fab3685f2f37</td>\n",
       "      <td>хлеб да выпечка</td>\n",
       "      <td>булочная</td>\n",
       "      <td>москва, ярцевская улица, 19</td>\n",
       "      <td>Западный административный округ</td>\n",
       "      <td>ежедневно, 09:00–22:00</td>\n",
       "      <td>4.1</td>\n",
       "      <td>1</td>\n",
       "      <td>276.0</td>\n",
       "      <td>NaN</td>\n",
       "      <td>NaN</td>\n",
       "      <td>NaN</td>\n",
       "      <td>NaN</td>\n",
       "    </tr>\n",
       "    <tr>\n",
       "      <th>3109</th>\n",
       "      <td>d3116844e4e048f99614eb30be3214e0</td>\n",
       "      <td>хлеб да выпечка</td>\n",
       "      <td>кафе</td>\n",
       "      <td>москва, ярцевская улица, 19</td>\n",
       "      <td>Западный административный округ</td>\n",
       "      <td>NaN</td>\n",
       "      <td>4.1</td>\n",
       "      <td>0</td>\n",
       "      <td>276.0</td>\n",
       "      <td>NaN</td>\n",
       "      <td>NaN</td>\n",
       "      <td>NaN</td>\n",
       "      <td>NaN</td>\n",
       "    </tr>\n",
       "  </tbody>\n",
       "</table>\n",
       "</div>"
      ],
      "text/plain": [
       "                                    id                       name  category  \\\n",
       "189   072032ce16dc47bfbc63b672c75bd371                       кафе      кафе   \n",
       "215   897ddbc6746c4388b19dc8a9fcdbb488                       кафе      кафе   \n",
       "1430  62608690e9cc464fbcd980cfd552e334                  more poke  ресторан   \n",
       "1511  a69f018d5c064873a3b491b0121bc1b4                  more poke  ресторан   \n",
       "2211  c6ef39ae8a8c483d8f9a6531bc386a2c  раковарня клешни и хвосты  ресторан   \n",
       "2420  aba1de7ad7d64ac0a3f8684bda29d905  раковарня клешни и хвосты   бар,паб   \n",
       "3091  3c2a73ea79a04be48858fab3685f2f37            хлеб да выпечка  булочная   \n",
       "3109  d3116844e4e048f99614eb30be3214e0            хлеб да выпечка      кафе   \n",
       "\n",
       "                                      address  \\\n",
       "189              москва, парк ангарские пруды   \n",
       "215              москва, парк ангарские пруды   \n",
       "1430  москва, волоколамское шоссе, 11, стр. 2   \n",
       "1511  москва, волоколамское шоссе, 11, стр. 2   \n",
       "2211               москва, проспект мира, 118   \n",
       "2420               москва, проспект мира, 118   \n",
       "3091              москва, ярцевская улица, 19   \n",
       "3109              москва, ярцевская улица, 19   \n",
       "\n",
       "                                     district  \\\n",
       "189           Северный административный округ   \n",
       "215           Северный административный округ   \n",
       "1430          Северный административный округ   \n",
       "1511          Северный административный округ   \n",
       "2211  Северо-Восточный административный округ   \n",
       "2420  Северо-Восточный административный округ   \n",
       "3091          Западный административный округ   \n",
       "3109          Западный административный округ   \n",
       "\n",
       "                                                  hours  rating  chain  seats  \\\n",
       "189                              ежедневно, 09:00–23:00     3.2      0    NaN   \n",
       "215                              ежедневно, 10:00–22:00     3.2      0    NaN   \n",
       "1430                             ежедневно, 09:00–21:00     4.2      0  188.0   \n",
       "1511  пн-чт 09:00–18:00; пт,сб 09:00–21:00; вс 09:00...     4.2      1  188.0   \n",
       "2211                             ежедневно, 12:00–00:00     4.4      0  150.0   \n",
       "2420  пн-чт 12:00–00:00; пт,сб 12:00–01:00; вс 12:00...     4.4      1  150.0   \n",
       "3091                             ежедневно, 09:00–22:00     4.1      1  276.0   \n",
       "3109                                                NaN     4.1      0  276.0   \n",
       "\n",
       "     price avg_bill  middle_avg_bill  middle_coffee_cup  \n",
       "189    NaN      NaN              NaN                NaN  \n",
       "215    NaN      NaN              NaN                NaN  \n",
       "1430   NaN      NaN              NaN                NaN  \n",
       "1511   NaN      NaN              NaN                NaN  \n",
       "2211   NaN      NaN              NaN                NaN  \n",
       "2420   NaN      NaN              NaN                NaN  \n",
       "3091   NaN      NaN              NaN                NaN  \n",
       "3109   NaN      NaN              NaN                NaN  "
      ]
     },
     "execution_count": 28,
     "metadata": {},
     "output_type": "execute_result"
    }
   ],
   "source": [
    "# код ревьюера\n",
    "df[df[['address', 'name']].duplicated(keep=False)]"
   ]
  },
  {
   "cell_type": "code",
   "execution_count": 29,
   "id": "46fdc947",
   "metadata": {},
   "outputs": [],
   "source": [
    "#Уудаляем дубликаты и создаем для этого новый датасет\n",
    "df_new = df.drop_duplicates(subset=['address', 'name'],keep='first')"
   ]
  },
  {
   "cell_type": "markdown",
   "id": "2840a7ec",
   "metadata": {},
   "source": [
    "<div class=\"alert alert-warning\">\n",
    "<font size=\"5\"><b>Комментарий ревьюера</b></font>\n",
    "\n",
    "\n",
    "\n",
    "Совет 🤔:\n",
    "\n",
    "\n",
    "Предварительно можно было вывести на печать что это за дубликаты такие (Может это и не дубликаты) "
   ]
  },
  {
   "cell_type": "markdown",
   "id": "4c0563f2",
   "metadata": {
    "id": "4c0563f2"
   },
   "source": [
    "- Для дальнейшей работы создайте столбец `is_24_7` с обозначением того, что заведение работает ежедневно и круглосуточно, то есть 24/7:\n",
    "  - логическое значение `True` — если заведение работает ежедневно и круглосуточно;\n",
    "  - логическое значение `False` — в противоположном случае."
   ]
  },
  {
   "cell_type": "code",
   "execution_count": 30,
   "id": "a9ce1adc",
   "metadata": {},
   "outputs": [],
   "source": [
    "def  full_time_job(x):\n",
    "    if x=='ежедневно, круглосуточно':\n",
    "        return True\n",
    "    else: \n",
    "        return False  "
   ]
  },
  {
   "cell_type": "markdown",
   "id": "6aa0edb0",
   "metadata": {},
   "source": [
    " \n",
    "\n",
    "<div class=\"alert alert-danger\">\n",
    "<font size=\"5\"><b>Комментарий ревьюера</b></font>\n",
    "\n",
    "\n",
    "\n",
    "Ошибка ❌:\n",
    "\n",
    "\n",
    "24/7 это еще и  \"ежедневно\"\n",
    "    \n",
    "    \n",
    "<div class=\"alert alert-warning\">\n",
    "\n",
    "\n",
    "\n",
    "Совет 🤔:\n",
    "\n",
    " \n",
    "- apply не самый эффективное решение, ведь пандас может проводить векторные операции. Допустим мы хотим возвести квадрат все значения в столбце seats, делаем это просто как\n",
    "    \n",
    "    \n",
    "    df['seats']**2\n",
    "    \n",
    "    \n",
    "Вот это и есть пример векторных операций, то есть нам не надо заходить на каждую строчку столбца  seats, и возводить каждое число в квадрат   \n",
    "  "
   ]
  },
  {
   "cell_type": "code",
   "execution_count": 31,
   "id": "53e40cb0",
   "metadata": {},
   "outputs": [
    {
     "name": "stderr",
     "output_type": "stream",
     "text": [
      "/tmp/ipykernel_31/1788505925.py:1: SettingWithCopyWarning: \n",
      "A value is trying to be set on a copy of a slice from a DataFrame.\n",
      "Try using .loc[row_indexer,col_indexer] = value instead\n",
      "\n",
      "See the caveats in the documentation: https://pandas.pydata.org/pandas-docs/stable/user_guide/indexing.html#returning-a-view-versus-a-copy\n",
      "  df_new['is_24_7'] = df_new['hours'].apply(full_time_job)\n"
     ]
    },
    {
     "data": {
      "text/html": [
       "<div>\n",
       "<style scoped>\n",
       "    .dataframe tbody tr th:only-of-type {\n",
       "        vertical-align: middle;\n",
       "    }\n",
       "\n",
       "    .dataframe tbody tr th {\n",
       "        vertical-align: top;\n",
       "    }\n",
       "\n",
       "    .dataframe thead th {\n",
       "        text-align: right;\n",
       "    }\n",
       "</style>\n",
       "<table border=\"1\" class=\"dataframe\">\n",
       "  <thead>\n",
       "    <tr style=\"text-align: right;\">\n",
       "      <th></th>\n",
       "      <th>id</th>\n",
       "      <th>name</th>\n",
       "      <th>category</th>\n",
       "      <th>address</th>\n",
       "      <th>district</th>\n",
       "      <th>hours</th>\n",
       "      <th>rating</th>\n",
       "      <th>chain</th>\n",
       "      <th>seats</th>\n",
       "      <th>price</th>\n",
       "      <th>avg_bill</th>\n",
       "      <th>middle_avg_bill</th>\n",
       "      <th>middle_coffee_cup</th>\n",
       "      <th>is_24_7</th>\n",
       "    </tr>\n",
       "  </thead>\n",
       "  <tbody>\n",
       "    <tr>\n",
       "      <th>0</th>\n",
       "      <td>0c3e3439a8c64ea5bf6ecd6ca6ae19f0</td>\n",
       "      <td>wowфли</td>\n",
       "      <td>кафе</td>\n",
       "      <td>москва, улица дыбенко, 7/1</td>\n",
       "      <td>Северный административный округ</td>\n",
       "      <td>ежедневно, 10:00–22:00</td>\n",
       "      <td>5.0</td>\n",
       "      <td>0</td>\n",
       "      <td>NaN</td>\n",
       "      <td>NaN</td>\n",
       "      <td>NaN</td>\n",
       "      <td>NaN</td>\n",
       "      <td>NaN</td>\n",
       "      <td>False</td>\n",
       "    </tr>\n",
       "    <tr>\n",
       "      <th>1</th>\n",
       "      <td>045780ada3474c57a2112e505d74b633</td>\n",
       "      <td>четыре комнаты</td>\n",
       "      <td>ресторан</td>\n",
       "      <td>москва, улица дыбенко, 36, корп. 1</td>\n",
       "      <td>Северный административный округ</td>\n",
       "      <td>ежедневно, 10:00–22:00</td>\n",
       "      <td>4.5</td>\n",
       "      <td>0</td>\n",
       "      <td>4.0</td>\n",
       "      <td>выше среднего</td>\n",
       "      <td>Средний счёт:1500–1600 ₽</td>\n",
       "      <td>1550.0</td>\n",
       "      <td>NaN</td>\n",
       "      <td>False</td>\n",
       "    </tr>\n",
       "    <tr>\n",
       "      <th>2</th>\n",
       "      <td>1070b6b59144425896c65889347fcff6</td>\n",
       "      <td>хазри</td>\n",
       "      <td>кафе</td>\n",
       "      <td>москва, клязьминская улица, 15</td>\n",
       "      <td>Северный административный округ</td>\n",
       "      <td>пн-чт 11:00–02:00; пт,сб 11:00–05:00; вс 11:00...</td>\n",
       "      <td>4.6</td>\n",
       "      <td>0</td>\n",
       "      <td>45.0</td>\n",
       "      <td>средние</td>\n",
       "      <td>Средний счёт:от 1000 ₽</td>\n",
       "      <td>1000.0</td>\n",
       "      <td>NaN</td>\n",
       "      <td>False</td>\n",
       "    </tr>\n",
       "    <tr>\n",
       "      <th>3</th>\n",
       "      <td>03ac7cd772104f65b58b349dc59f03ee</td>\n",
       "      <td>dormouse coffee shop</td>\n",
       "      <td>кофейня</td>\n",
       "      <td>москва, улица маршала федоренко, 12</td>\n",
       "      <td>Северный административный округ</td>\n",
       "      <td>ежедневно, 09:00–22:00</td>\n",
       "      <td>5.0</td>\n",
       "      <td>0</td>\n",
       "      <td>NaN</td>\n",
       "      <td>NaN</td>\n",
       "      <td>Цена чашки капучино:155–185 ₽</td>\n",
       "      <td>NaN</td>\n",
       "      <td>170.0</td>\n",
       "      <td>False</td>\n",
       "    </tr>\n",
       "    <tr>\n",
       "      <th>4</th>\n",
       "      <td>a163aada139c4c7f87b0b1c0b466a50f</td>\n",
       "      <td>иль марко</td>\n",
       "      <td>пиццерия</td>\n",
       "      <td>москва, правобережная улица, 1б</td>\n",
       "      <td>Северный административный округ</td>\n",
       "      <td>ежедневно, 10:00–22:00</td>\n",
       "      <td>5.0</td>\n",
       "      <td>1</td>\n",
       "      <td>148.0</td>\n",
       "      <td>средние</td>\n",
       "      <td>Средний счёт:400–600 ₽</td>\n",
       "      <td>500.0</td>\n",
       "      <td>NaN</td>\n",
       "      <td>False</td>\n",
       "    </tr>\n",
       "  </tbody>\n",
       "</table>\n",
       "</div>"
      ],
      "text/plain": [
       "                                 id                  name  category  \\\n",
       "0  0c3e3439a8c64ea5bf6ecd6ca6ae19f0                wowфли      кафе   \n",
       "1  045780ada3474c57a2112e505d74b633        четыре комнаты  ресторан   \n",
       "2  1070b6b59144425896c65889347fcff6                 хазри      кафе   \n",
       "3  03ac7cd772104f65b58b349dc59f03ee  dormouse coffee shop   кофейня   \n",
       "4  a163aada139c4c7f87b0b1c0b466a50f             иль марко  пиццерия   \n",
       "\n",
       "                               address                         district  \\\n",
       "0           москва, улица дыбенко, 7/1  Северный административный округ   \n",
       "1   москва, улица дыбенко, 36, корп. 1  Северный административный округ   \n",
       "2       москва, клязьминская улица, 15  Северный административный округ   \n",
       "3  москва, улица маршала федоренко, 12  Северный административный округ   \n",
       "4      москва, правобережная улица, 1б  Северный административный округ   \n",
       "\n",
       "                                               hours  rating  chain  seats  \\\n",
       "0                             ежедневно, 10:00–22:00     5.0      0    NaN   \n",
       "1                             ежедневно, 10:00–22:00     4.5      0    4.0   \n",
       "2  пн-чт 11:00–02:00; пт,сб 11:00–05:00; вс 11:00...     4.6      0   45.0   \n",
       "3                             ежедневно, 09:00–22:00     5.0      0    NaN   \n",
       "4                             ежедневно, 10:00–22:00     5.0      1  148.0   \n",
       "\n",
       "           price                       avg_bill  middle_avg_bill  \\\n",
       "0            NaN                            NaN              NaN   \n",
       "1  выше среднего       Средний счёт:1500–1600 ₽           1550.0   \n",
       "2        средние         Средний счёт:от 1000 ₽           1000.0   \n",
       "3            NaN  Цена чашки капучино:155–185 ₽              NaN   \n",
       "4        средние         Средний счёт:400–600 ₽            500.0   \n",
       "\n",
       "   middle_coffee_cup  is_24_7  \n",
       "0                NaN    False  \n",
       "1                NaN    False  \n",
       "2                NaN    False  \n",
       "3              170.0    False  \n",
       "4                NaN    False  "
      ]
     },
     "execution_count": 31,
     "metadata": {},
     "output_type": "execute_result"
    }
   ],
   "source": [
    "df_new['is_24_7'] = df_new['hours'].apply(full_time_job)\n",
    "df_new.head()"
   ]
  },
  {
   "cell_type": "code",
   "execution_count": 32,
   "id": "61304e83",
   "metadata": {
    "id": "61304e83"
   },
   "outputs": [
    {
     "data": {
      "text/plain": [
       "False    7672\n",
       "True      730\n",
       "Name: is_24_7, dtype: int64"
      ]
     },
     "metadata": {},
     "output_type": "display_data"
    }
   ],
   "source": [
    "display(df_new['is_24_7'].value_counts())"
   ]
  },
  {
   "cell_type": "markdown",
   "id": "a976955f",
   "metadata": {},
   "source": [
    "Как мы видим, круглосуточных заведений примерно 10% из всей выборки."
   ]
  },
  {
   "cell_type": "markdown",
   "id": "f651d4c9",
   "metadata": {},
   "source": [
    "<div class=\"alert alert-success\">\n",
    "<font size=\"5\"><b>Комментарий ревьюераV2</b></font>\n",
    "\n",
    "\n",
    "\n",
    "Успех 👍:\n",
    "\n",
    "\n",
    "\n",
    "👍 \n",
    "\n",
    "\n",
    " "
   ]
  },
  {
   "cell_type": "markdown",
   "id": "562f30ab",
   "metadata": {
    "id": "562f30ab"
   },
   "source": [
    "---\n",
    "\n",
    "### Промежуточный вывод\n",
    "\n",
    "После предобработки данных напишите промежуточный вывод о проведённой работе. Отразите количество или долю отфильтрованных данных, если вы что-то удаляли."
   ]
  },
  {
   "cell_type": "code",
   "execution_count": 33,
   "id": "4e587ce1",
   "metadata": {
    "id": "4e587ce1"
   },
   "outputs": [],
   "source": [
    "df = df.reset_index()"
   ]
  },
  {
   "cell_type": "code",
   "execution_count": 34,
   "id": "e3388762",
   "metadata": {
    "id": "e3388762"
   },
   "outputs": [
    {
     "data": {
      "text/plain": [
       "4"
      ]
     },
     "execution_count": 34,
     "metadata": {},
     "output_type": "execute_result"
    }
   ],
   "source": [
    "df.shape[0] - df_new.shape[0]"
   ]
  },
  {
   "cell_type": "code",
   "execution_count": 35,
   "id": "b55c46cb",
   "metadata": {
    "id": "b55c46cb"
   },
   "outputs": [
    {
     "data": {
      "text/plain": [
       "0.0475850582917019"
      ]
     },
     "execution_count": 35,
     "metadata": {},
     "output_type": "execute_result"
    }
   ],
   "source": [
    "100 - (df_new.shape[0]/df.shape[0]*100)"
   ]
  },
  {
   "cell_type": "markdown",
   "id": "d5db51fd",
   "metadata": {},
   "source": [
    "В ходе поисков дубликатов было найдено 4 неявных дубликатов по адресу и названию. Это чуть меньше 0,05% от всего массива данных. Также были заменены пропуски в столбцах \"middle_avg_bill\" и \"hours\" на медианные значения. Данные в столбце \"chain\" были приведены к менее массивным данным. А в столбце 'seats' - к целочисленным данным."
   ]
  },
  {
   "cell_type": "markdown",
   "id": "1bdf0295",
   "metadata": {},
   "source": [
    "<div class=\"alert alert-success\">\n",
    "<font size=\"5\"><b>Комментарий ревьюера</b></font>\n",
    "\n",
    "\n",
    "\n",
    "Успех 👍:\n",
    "\n",
    "\n",
    "\n",
    "👍Не забываешь писать промежуточные выводы , плюс за контроль на сколько изменился размер выборки"
   ]
  },
  {
   "cell_type": "markdown",
   "id": "6953e84c",
   "metadata": {
    "id": "6953e84c"
   },
   "source": [
    "## 3. Исследовательский анализ данных\n",
    "Проведите исследовательский анализ исходных данных.\n",
    "\n",
    "При исследовании данных используйте визуализации. Проверьте, что для каждого случая подобран оптимальный тип визуализации с корректным оформлением. У графика должен быть заголовок, понятные подписи по осям, при необходимости легенда, а его размер является оптимальным для изучения.\n",
    "\n",
    "После исследования каждого пункта оставляйте небольшой комментарий с выводом или обсуждением результата. В конце шага обобщите результаты, выделив, по вашему мнению, самые важные."
   ]
  },
  {
   "cell_type": "markdown",
   "id": "c8147787",
   "metadata": {},
   "source": []
  },
  {
   "cell_type": "markdown",
   "id": "8555d840",
   "metadata": {
    "id": "8555d840"
   },
   "source": [
    "---\n",
    "\n",
    "### Задача 1\n",
    "\n",
    "Какие категории заведений представлены в данных? Исследуйте количество объектов общественного питания по каждой категории. Результат сопроводите подходящей визуализацией."
   ]
  },
  {
   "cell_type": "markdown",
   "id": "33636f10",
   "metadata": {},
   "source": []
  },
  {
   "cell_type": "code",
   "execution_count": 36,
   "id": "ef2bffe9",
   "metadata": {
    "id": "ef2bffe9"
   },
   "outputs": [],
   "source": [
    "category_groups = df_new.groupby('category')['id'].count()"
   ]
  },
  {
   "cell_type": "code",
   "execution_count": 37,
   "id": "71ab5e91",
   "metadata": {
    "id": "71ab5e91"
   },
   "outputs": [
    {
     "data": {
      "text/plain": [
       "<AxesSubplot:title={'center':'Количество объектов общественного питания по категориям'}, xlabel='Категория', ylabel='Количество'>"
      ]
     },
     "execution_count": 37,
     "metadata": {},
     "output_type": "execute_result"
    },
    {
     "data": {
      "image/png": "[encoded data removed]",
      "text/plain": [
       "<Figure size 720x576 with 1 Axes>"
      ]
     },
     "metadata": {
      "needs_background": "light"
     },
     "output_type": "display_data"
    }
   ],
   "source": [
    "category_groups.plot(kind='bar', figsize=(10,8), title='Количество объектов общественного питания по категориям', edgecolor='black', \n",
    "                     xlabel='Категория', ylabel='Количество', rot=45)"
   ]
  },
  {
   "cell_type": "markdown",
   "id": "99bc45e7",
   "metadata": {
    "id": "63360b97"
   },
   "source": [
    "В Москве больше всего кафе и ресторанов. И того и другого более 2000. Меньше всего столовых и булочных. Их меньше 500 на каждую категорию. На третьем месте по популярности выделяются кофейни. Их чуть менее 1500 штук."
   ]
  },
  {
   "cell_type": "code",
   "execution_count": 38,
   "id": "b1f46bd7",
   "metadata": {},
   "outputs": [],
   "source": [
    "#Пробуем вычислить долю по значениям, но код почему-то не работает\n",
    "category_groups_procent = df_new['category'].value_counts(normalize=True)"
   ]
  },
  {
   "cell_type": "markdown",
   "id": "35575593",
   "metadata": {},
   "source": [
    "<div class=\"alert alert-danger\">\n",
    "<font size=\"5\"><b>Комментарий ревьюераV2</b></font>\n",
    "\n",
    "\n",
    "\n",
    "Ошибка ❌:\n",
    "\n",
    "\n",
    "\n",
    "\n",
    "Что значит почему-то не работает? Потому что у тебя транскрипция неверная\n",
    "    \n",
    "    \n",
    "    \n",
    "    df_new['category'].value_counts(normalize=True)\n",
    "    \n",
    "    \n",
    "И зачем оставлять неработающий код? "
   ]
  },
  {
   "cell_type": "code",
   "execution_count": 39,
   "id": "bc614475",
   "metadata": {},
   "outputs": [
    {
     "data": {
      "text/plain": [
       "<AxesSubplot:title={'center':'Процент объектов общественного питания по категориям'}, xlabel='Категория', ylabel='Процент'>"
      ]
     },
     "execution_count": 39,
     "metadata": {},
     "output_type": "execute_result"
    },
    {
     "data": {
      "image/png": "[encoded data removed]",
      "text/plain": [
       "<Figure size 720x576 with 1 Axes>"
      ]
     },
     "metadata": {
      "needs_background": "light"
     },
     "output_type": "display_data"
    }
   ],
   "source": [
    "category_groups_procent.plot(kind='bar', figsize=(10,8), title='Процент объектов общественного питания по категориям', edgecolor='black', \n",
    "                     xlabel='Категория', ylabel='Процент', rot=45)"
   ]
  },
  {
   "cell_type": "markdown",
   "id": "48c75f11",
   "metadata": {},
   "source": [
    "\n",
    "<div class=\"alert alert-success\">\n",
    "<font size=\"5\"><b>Комментарий ревьюера</b></font>\n",
    "\n",
    "\n",
    "\n",
    "Успех 👍:\n",
    "\n",
    "\n",
    "\n",
    "Твой первый график оформлен отлично.  Заголовок, подписи по осям присутствуют\n",
    "\n",
    "\n",
    "\n",
    "<div class=\"alert alert-warning\">\n",
    "\n",
    "\n",
    "\n",
    "Совет 🤔:\n",
    "\n",
    " \n",
    " \n",
    "Было бы неплохо вывести и  относительные значениям (normalize=True), в долях/процентах\n",
    "\n",
    "\n",
    "\n"
   ]
  },
  {
   "cell_type": "markdown",
   "id": "6821e1d0",
   "metadata": {
    "id": "6821e1d0"
   },
   "source": [
    "---\n",
    "\n",
    "### Задача 2\n",
    "\n",
    "Какие административные районы Москвы присутствуют в данных? Исследуйте распределение количества заведений по административным районам Москвы, а также отдельно распределение заведений каждой категории в Центральном административном округе Москвы. Результат сопроводите подходящими визуализациями."
   ]
  },
  {
   "cell_type": "code",
   "execution_count": 40,
   "id": "e62f31be",
   "metadata": {
    "id": "e62f31be"
   },
   "outputs": [],
   "source": [
    "district_groups = df_new.groupby('district')['id'].count()"
   ]
  },
  {
   "cell_type": "code",
   "execution_count": 41,
   "id": "0a290cd1",
   "metadata": {
    "id": "0a290cd1"
   },
   "outputs": [
    {
     "data": {
      "text/plain": [
       "<AxesSubplot:title={'center':'количество объектов общественного питания по округам'}, ylabel='округ'>"
      ]
     },
     "execution_count": 41,
     "metadata": {},
     "output_type": "execute_result"
    },
    {
     "data": {
      "image/png": "[encoded data removed]",
      "text/plain": [
       "<Figure size 720x576 with 1 Axes>"
      ]
     },
     "metadata": {
      "needs_background": "light"
     },
     "output_type": "display_data"
    }
   ],
   "source": [
    "district_groups.plot(kind='barh', figsize=(10,8), title='количество объектов общественного питания по округам', edgecolor='black', \n",
    "                     xlabel='округ', ylabel='количество', rot=0)"
   ]
  },
  {
   "cell_type": "markdown",
   "id": "4e226b64",
   "metadata": {
    "id": "41f1654a"
   },
   "source": [
    "Судя по графику по количеству объектов общественного питания по округам явно лидирует Центральный. Там их более 2000. Значительно меньше в сравнении с остальными округами количество заведений в Северо-западном округе. Их там около 500. Распределение по остальным округам достаточно равномерное и находится в пределах от 750 до 1000."
   ]
  },
  {
   "cell_type": "code",
   "execution_count": 42,
   "id": "bf934a05",
   "metadata": {},
   "outputs": [],
   "source": [
    "central_district = df_new[df_new['district']=='Центральный административный округ']"
   ]
  },
  {
   "cell_type": "code",
   "execution_count": 43,
   "id": "c65a09a2",
   "metadata": {},
   "outputs": [],
   "source": [
    "central_district_categories = central_district['category'].value_counts()"
   ]
  },
  {
   "cell_type": "code",
   "execution_count": 44,
   "id": "a17a25a1",
   "metadata": {},
   "outputs": [
    {
     "data": {
      "text/plain": [
       "<AxesSubplot:title={'center':'Количество объектов общественного питания по категориям в ЦАО'}, xlabel='Категория', ylabel='Количество'>"
      ]
     },
     "execution_count": 44,
     "metadata": {},
     "output_type": "execute_result"
    },
    {
     "data": {
      "image/png": "[encoded data removed]",
      "text/plain": [
       "<Figure size 720x576 with 1 Axes>"
      ]
     },
     "metadata": {
      "needs_background": "light"
     },
     "output_type": "display_data"
    }
   ],
   "source": [
    "central_district_categories.plot(kind='bar', figsize=(10,8),\n",
    "                                 title='Количество объектов общественного питания по категориям в ЦАО', \n",
    "                                 edgecolor='black', xlabel='Категория', ylabel='Количество', rot=0)"
   ]
  },
  {
   "cell_type": "markdown",
   "id": "3ac4de61",
   "metadata": {},
   "source": [
    "Проанализировав распредление по категориям в самом популярном по числу заведений Центральном округе, сделаем вывод, что самая популярная категория в этом округе - рестораны. Их здесь более 650. Меньше всего здесь булочных и столовых - около 50 на каждую категорию. Заведений быстрого питания и пиццерий тоже немного - около 100 на каждую категорию. Количество заведений по остальным категориям в ЦАО варьируются от 350 до 450 штук внутри каждой категории.\n",
    "\n",
    "Для лучшего сравнения выведим аналогичные результаты, но по всем округам кроме ЦАО."
   ]
  },
  {
   "cell_type": "code",
   "execution_count": 45,
   "id": "9eb1bd5b",
   "metadata": {},
   "outputs": [],
   "source": [
    "not_central_district = df_new[df_new['district']!='Центральный административный округ']"
   ]
  },
  {
   "cell_type": "code",
   "execution_count": 46,
   "id": "8a91ca39",
   "metadata": {},
   "outputs": [],
   "source": [
    "not_central_district_categories = not_central_district['category'].value_counts()"
   ]
  },
  {
   "cell_type": "markdown",
   "id": "545741e4",
   "metadata": {},
   "source": [
    "<div class=\"alert alert-danger\">\n",
    "<font size=\"5\"><b>Комментарий ревьюераV3</b></font>\n",
    "\n",
    "\n",
    "\n",
    "Ошибка ❌:\n",
    "\n",
    "\n",
    "Это уже третья ошибка исполнения кода. Дальше не проверяю\n",
    "\n"
   ]
  },
  {
   "cell_type": "code",
   "execution_count": 47,
   "id": "8f7d781e",
   "metadata": {},
   "outputs": [
    {
     "data": {
      "text/plain": [
       "<AxesSubplot:title={'center':'Количество объектов общественного питания по категориям без ЦАО'}, xlabel='Категория', ylabel='Количество'>"
      ]
     },
     "execution_count": 47,
     "metadata": {},
     "output_type": "execute_result"
    },
    {
     "data": {
      "image/png": "[encoded data removed]",
      "text/plain": [
       "<Figure size 720x576 with 1 Axes>"
      ]
     },
     "metadata": {
      "needs_background": "light"
     },
     "output_type": "display_data"
    }
   ],
   "source": [
    "not_central_district_categories.plot(kind='bar', figsize=(10,8),\n",
    "                                    title='Количество объектов общественного питания по категориям без ЦАО', \n",
    "                                    xlabel='Категория', ylabel='Количество')"
   ]
  },
  {
   "cell_type": "markdown",
   "id": "33a06b1a",
   "metadata": {},
   "source": [
    "По сравнению с ЦАО самая популярная категория в остальных округах - кафе, которая лидирует со значительным отрывом от сотальных. На втором месте - рестораны. Но на последних тоже булочные и столовые."
   ]
  },
  {
   "cell_type": "markdown",
   "id": "9a38ad5f",
   "metadata": {},
   "source": [
    "\n",
    "\n",
    "<div class=\"alert alert-success\">\n",
    "<font size=\"5\"><b>Комментарий ревьюера</b></font>\n",
    "\n",
    "\n",
    "\n",
    "Успех 👍:\n",
    "\n",
    "\n",
    "\n",
    "Верно обращено внимание на особенности\n",
    "\n",
    "    \n",
    "    \n",
    "<div class=\"alert alert-warning\">\n",
    "\n",
    "\n",
    "\n",
    "Совет 🤔:\n",
    "\n",
    "\n",
    "- хорошо бы сравнить различия в распределении в центральном округе и по всей Москве, причем для чистоты сравнения по всей Москвы стоило бы исключить данные Центрального округа. И сделать выводы. И для удобства сравнения можно было графики построить на одной оси чтобы проще было сравнивать различия\n",
    "\n",
    "\n",
    " \n",
    " "
   ]
  },
  {
   "cell_type": "markdown",
   "id": "7c824f58",
   "metadata": {
    "id": "7c824f58"
   },
   "source": [
    "---\n",
    "\n",
    "### Задача 3\n",
    "\n",
    "Изучите соотношение сетевых и несетевых заведений в целом по всем данным и в разрезе категорий заведения. Каких заведений больше — сетевых или несетевых? Какие категории заведений чаще являются сетевыми? Исследуйте данные, ответьте на вопросы и постройте необходимые визуализации."
   ]
  },
  {
   "cell_type": "code",
   "execution_count": 51,
   "id": "01a799b8",
   "metadata": {},
   "outputs": [],
   "source": [
    "df_new['chain_new']=df_new['chain'].replace({1:'Сетевые', 0: 'Несетевые'})"
   ]
  },
  {
   "cell_type": "code",
   "execution_count": 52,
   "id": "ef442d1a",
   "metadata": {
    "id": "ef442d1a"
   },
   "outputs": [],
   "source": [
    "df_unstack = df_new.groupby('category')['chain_new'].value_counts(normalize=True).unstack(fill_value=0)"
   ]
  },
  {
   "cell_type": "code",
   "execution_count": 57,
   "id": "0de29fa2",
   "metadata": {
    "id": "0de29fa2"
   },
   "outputs": [
    {
     "data": {
      "image/png": "[encoded data removed]",
      "text/plain": [
       "<Figure size 720x576 with 1 Axes>"
      ]
     },
     "metadata": {
      "needs_background": "light"
     },
     "output_type": "display_data"
    }
   ],
   "source": [
    "ax = df_unstack.plot(kind='bar', figsize=(10,8), title='Соотношение сетевых и несетевых заведений по категориям',\n",
    "                xlabel='Категория', ylabel='Доля')"
   ]
  },
  {
   "cell_type": "markdown",
   "id": "1d52e8c9",
   "metadata": {
    "id": "a139bd72"
   },
   "source": [
    "Распределение несетевых заведений по категориям гораздо больше. За исключением пиццерий и кофейн, где эти соотношения примерно равны, но доля сетевых чуть больше и в булочных, где доля сетевых значительно выше.\n",
    "\n",
    "P.S. Не получается нанести цифры на график. Метод annot=True не работает. Вместо единички и нуля на легенде не получается вывести сетевой/несетевой (не знаю, как это сделать)."
   ]
  },
  {
   "cell_type": "markdown",
   "id": "40f78399",
   "metadata": {},
   "source": [
    "<div class=\"alert alert-warning\">\n",
    "<font size=\"5\"><b>Комментарий ревьюераV3</b></font>\n",
    "\n",
    "\n",
    "\n",
    "Совет 🤔:\n",
    "\n",
    "   \n",
    "    \n",
    "    P.S. Не получается нанести цифры на график. Метод annot=True не работает. Вместо единички и нуля на легенде не получается вывести сетевой/несетевой (не знаю, как это сделать). \n",
    "    \n",
    "    \n",
    "\n",
    "    \n",
    "В первым своем комментарии я тебе советовал подкрашивать свои комментарии цветом.  Иначе многие твои комментарии просто окажутся незамеченными     \n",
    "    \n",
    "ниже написал на игрушечном примере.     \n",
    "    \n",
    "    \n",
    "    \n",
    "     Вместо единички и нуля на легенде не получается вывести сетевой/несетевой (не знаю, как это сделать).\n",
    "    \n",
    "    \n",
    "Можешь переименовать значение чтобы там вместо нуля и единицы был текст"
   ]
  },
  {
   "cell_type": "raw",
   "id": "11b6e1d9",
   "metadata": {},
   "source": [
    "# код ревьюера\n",
    "\n",
    "# Пример данных (замените на свои)\n",
    "data = {'Категория': ['Кафе', 'Ресторан', 'Столовая'],\n",
    "        'Сетевые': [100, 50, 25],\n",
    "        'Несетевые': [200, 100, 50]}\n",
    "df = pd.DataFrame(data)\n",
    "df_unstack = df.set_index('Категория').unstack()\n",
    "\n",
    "# Построение графика\n",
    "ax = df_unstack.plot(kind='bar', figsize=(10,8), title='Соотношение сетевых и несетевых заведений по категориям',\n",
    "                xlabel='Категория', ylabel='Количество') #Заменил \"Доля\" на \"Количество\", так как мы отображаем абсолютные значения\n",
    "\n",
    "# Добавление цифр на столбцы\n",
    "for p in ax.patches:\n",
    "    ax.annotate(str(int(p.get_height())),  # Преобразуем высоту в строку и int, чтобы убрать десятичные знаки\n",
    "                (p.get_x() + p.get_width()/2., p.get_height()), # Координаты для размещения цифр\n",
    "                ha='center', va='center',\n",
    "                xytext=(0, 10),  # Смещение по вертикали (можно настроить)\n",
    "                textcoords='offset points')\n",
    "\n",
    "plt.show()"
   ]
  },
  {
   "cell_type": "markdown",
   "id": "6478718a",
   "metadata": {},
   "source": [
    " \n",
    "\n",
    "<div class=\"alert alert-danger\">\n",
    "<font size=\"5\"><b>Комментарий ревьюера</b></font>\n",
    "\n",
    "\n",
    "\n",
    "Ошибка ❌:\n",
    "\n",
    " \n",
    "\n",
    "Николай всё верно, но в таком виде не совсем понятно где доля сетевых  выше, нам в голове приходится соотносить разную высоту столбиков и прикидывать насколько для какой категории соотношение столбиков больше, для какой меньше - что не очень удобно, поэтому лучше  использовать доли сетевых заведений по категории заведения, и сделать по ним сортировку\n",
    "    \n",
    "    \n",
    "<div class=\"alert alert-warning\">\n",
    "\n",
    "\n",
    "Совет 🤔:\n",
    "\n",
    "\n",
    "- Рекомендую использовать   normalize=True чтобы нормализовать данные \n",
    "    \n",
    "    \n",
    "- Можно попробовать stacked=True для стекирования (чтобы данные помещались в одном столбце а не в двух -  два столбца это избыточной информации)  и sort_values для сортировки\n",
    "    \n",
    "    \n",
    "    \n",
    "- Если легенда некрасиво налезет на график, то рекомендую  воспользоваться параметрами bbox_to_anchor в методе legend(),  чтобы Легенда находилась в отдельной области, и мы полностью видели информацию на графике   \n",
    "    \n",
    "    \n",
    "    \n",
    "    \n",
    "- Кстати на график можно нанести цифры,  будет удобнее анализировать \n",
    "    \n",
    "  \n",
    "    \n",
    "- Вместо единички и нуля на легенде лучше вывести  сетевой/несетевой (Не надо будет дополнительно выяснять что стоит за 0 и 1)  \n",
    "\n",
    " "
   ]
  },
  {
   "cell_type": "markdown",
   "id": "5913c3e3",
   "metadata": {
    "id": "5913c3e3"
   },
   "source": [
    "---\n",
    "\n",
    "### Задача 4\n",
    "\n",
    "Исследуйте количество посадочных мест в заведениях. Встречаются ли в данных аномальные значения или выбросы? Если да, то с чем они могут быть связаны? Приведите для каждой категории заведений наиболее типичное для него количество посадочных мест. Результат сопроводите подходящими визуализациями.\n"
   ]
  },
  {
   "cell_type": "markdown",
   "id": "5403f635",
   "metadata": {},
   "source": []
  },
  {
   "cell_type": "code",
   "execution_count": 53,
   "id": "6cb238d2",
   "metadata": {
    "id": "6cb238d2"
   },
   "outputs": [
    {
     "data": {
      "text/plain": [
       "Text(0.5, 1.0, 'Распределение количества посадочных мест в заведениях')"
      ]
     },
     "execution_count": 53,
     "metadata": {},
     "output_type": "execute_result"
    },
    {
     "data": {
      "image/png": "[encoded data removed]",
      "text/plain": [
       "<Figure size 720x576 with 1 Axes>"
      ]
     },
     "metadata": {
      "needs_background": "light"
     },
     "output_type": "display_data"
    }
   ],
   "source": [
    "df_new.hist(column='seats', bins=16, edgecolor='black', figsize=(10,8))\n",
    "plt.xlabel('Количество посадочных мест')\n",
    "plt.ylabel('Количество заведений')\n",
    "plt.title('Распределение количества посадочных мест в заведениях')"
   ]
  },
  {
   "cell_type": "markdown",
   "id": "4b80af93",
   "metadata": {},
   "source": [
    "<div class=\"alert alert-danger\">\n",
    "<font size=\"5\"><b>Комментарий ревьюера</b></font>\n",
    "\n",
    "\n",
    "\n",
    "Ошибка ❌:\n",
    "\n",
    "\n",
    "\n",
    "Не забываем наносить название осей\n"
   ]
  },
  {
   "cell_type": "markdown",
   "id": "363e5aa2",
   "metadata": {},
   "source": [
    "По гистограмме видно крайне неравномерное распределение сидячих мест по ресторанам и сильное смещение в область с низкими значениями."
   ]
  },
  {
   "cell_type": "code",
   "execution_count": 54,
   "id": "062b55d8",
   "metadata": {
    "id": "062b55d8"
   },
   "outputs": [
    {
     "data": {
      "text/plain": [
       "Text(0, 0.5, 'Посадочные места')"
      ]
     },
     "execution_count": 54,
     "metadata": {},
     "output_type": "execute_result"
    },
    {
     "data": {
      "image/png": "[encoded data removed]",
      "text/plain": [
       "<Figure size 720x576 with 1 Axes>"
      ]
     },
     "metadata": {
      "needs_background": "light"
     },
     "output_type": "display_data"
    }
   ],
   "source": [
    "df_new.boxplot(column='seats', figsize=(10,8))\n",
    "plt.title('Распределение посадочных мест по заведениям')\n",
    "plt.xlabel('Количество заведений') \n",
    "plt.ylabel('Посадочные места')"
   ]
  },
  {
   "cell_type": "markdown",
   "id": "2f864855",
   "metadata": {},
   "source": [
    "Диаграмма размаха говорит о том, что большая часть заведений располагает посадочными местами в диапазоне от 50 до 100 мест, а основная часть варьируется в промежутке от 0 до 300 посадочных мест. Также в выборке очень много выбросов с высокими значениями. Самый высокий из которых имеет значение более 1300."
   ]
  },
  {
   "cell_type": "code",
   "execution_count": 55,
   "id": "eb1b5a80",
   "metadata": {
    "scrolled": true
   },
   "outputs": [
    {
     "data": {
      "text/plain": [
       "seats\n",
       "0.0    136\n",
       "Name: count, dtype: int64"
      ]
     },
     "execution_count": 55,
     "metadata": {},
     "output_type": "execute_result"
    }
   ],
   "source": [
    "#Проверяем нулевые значения в выборке:\n",
    "df_new.loc[df_new['seats']==0]['seats'].value_counts()"
   ]
  },
  {
   "cell_type": "markdown",
   "id": "1a42df22",
   "metadata": {},
   "source": [
    "Нулевых значений аж целых 136. Есть гипотеза, что это не ошибка. Просто подобные заведения работают только навынос."
   ]
  },
  {
   "cell_type": "markdown",
   "id": "bec3e2a0",
   "metadata": {},
   "source": [
    "<div class=\"alert alert-success\">\n",
    "<font size=\"5\"><b>Комментарий ревьюера</b></font>\n",
    "\n",
    "\n",
    "\n",
    "Успех 👍:\n",
    "\n",
    "\n",
    "\n",
    "👍Вполне возможно\n",
    "\n",
    "\n",
    " "
   ]
  },
  {
   "cell_type": "code",
   "execution_count": 56,
   "id": "708543e1",
   "metadata": {},
   "outputs": [
    {
     "data": {
      "text/plain": [
       "seats\n",
       "1288.0    11\n",
       "1040.0     4\n",
       "920.0      2\n",
       "1200.0     1\n",
       "760.0      1\n",
       "Name: count, dtype: int64"
      ]
     },
     "execution_count": 56,
     "metadata": {},
     "output_type": "execute_result"
    }
   ],
   "source": [
    "#Проверяем значения на более чем 750 посадочных мест в выборке:\n",
    "df_new.loc[df_new['seats']>750]['seats'].value_counts()"
   ]
  },
  {
   "cell_type": "markdown",
   "id": "8960397c",
   "metadata": {},
   "source": [
    "Подобных заведений не так много. Делаем предположение, что эти данные так же не ошибочны."
   ]
  },
  {
   "cell_type": "code",
   "execution_count": 57,
   "id": "d1effd9e",
   "metadata": {},
   "outputs": [
    {
     "data": {
      "text/plain": [
       "count    4792.000000\n",
       "mean      108.361436\n",
       "std       122.841130\n",
       "min         0.000000\n",
       "25%        40.000000\n",
       "50%        75.000000\n",
       "75%       140.000000\n",
       "max      1288.000000\n",
       "Name: seats, dtype: float64"
      ]
     },
     "execution_count": 57,
     "metadata": {},
     "output_type": "execute_result"
    }
   ],
   "source": [
    "df_new['seats'].describe()"
   ]
  },
  {
   "cell_type": "markdown",
   "id": "22373c21",
   "metadata": {},
   "source": [
    "По первичному анализу видно, что данные крайне неравномерны. Среднее значение (108) и медиана (75) сильно различаются, что может свидетельствовать о большом количестве выбросов. Стандартное отклонение также велико. Так как в данных присутствует явные выбросы, то стоит использовать медиану для визуализации. Для начала построим диаграмму распределения для лучшего понимания ситуации."
   ]
  },
  {
   "cell_type": "code",
   "execution_count": 58,
   "id": "bb87a48a",
   "metadata": {},
   "outputs": [
    {
     "ename": "ValueError",
     "evalue": "Could not interpret value `category` for `x`. An entry with this name does not appear in `data`.",
     "output_type": "error",
     "traceback": [
      "\u001b[0;31m---------------------------------------------------------------------------\u001b[0m",
      "\u001b[0;31mValueError\u001b[0m                                Traceback (most recent call last)",
      "Cell \u001b[0;32mIn[58], line 5\u001b[0m\n\u001b[1;32m      1\u001b[0m \u001b[38;5;28;01mimport\u001b[39;00m \u001b[38;5;21;01mseaborn\u001b[39;00m \u001b[38;5;28;01mas\u001b[39;00m \u001b[38;5;21;01msns\u001b[39;00m\n\u001b[1;32m      3\u001b[0m plt\u001b[38;5;241m.\u001b[39mfigure(figsize\u001b[38;5;241m=\u001b[39m(\u001b[38;5;241m10\u001b[39m, \u001b[38;5;241m6\u001b[39m))\n\u001b[0;32m----> 5\u001b[0m \u001b[43msns\u001b[49m\u001b[38;5;241;43m.\u001b[39;49m\u001b[43mboxplot\u001b[49m\u001b[43m(\u001b[49m\u001b[43mdata\u001b[49m\u001b[38;5;241;43m=\u001b[39;49m\u001b[43mdf\u001b[49m\u001b[43m,\u001b[49m\u001b[43m \u001b[49m\u001b[43mx\u001b[49m\u001b[38;5;241;43m=\u001b[39;49m\u001b[38;5;124;43m'\u001b[39;49m\u001b[38;5;124;43mcategory\u001b[39;49m\u001b[38;5;124;43m'\u001b[39;49m\u001b[43m,\u001b[49m\u001b[43m \u001b[49m\u001b[43my\u001b[49m\u001b[38;5;241;43m=\u001b[39;49m\u001b[38;5;124;43m'\u001b[39;49m\u001b[38;5;124;43mseats\u001b[39;49m\u001b[38;5;124;43m'\u001b[39;49m\u001b[43m,\u001b[49m\u001b[43m \u001b[49m\u001b[43mhue\u001b[49m\u001b[38;5;241;43m=\u001b[39;49m\u001b[38;5;124;43m'\u001b[39;49m\u001b[38;5;124;43mcategory\u001b[39;49m\u001b[38;5;124;43m'\u001b[39;49m\u001b[43m,\u001b[49m\u001b[43m \u001b[49m\u001b[43mpalette\u001b[49m\u001b[38;5;241;43m=\u001b[39;49m\u001b[38;5;124;43m'\u001b[39;49m\u001b[38;5;124;43mSet2\u001b[39;49m\u001b[38;5;124;43m'\u001b[39;49m\u001b[43m)\u001b[49m\n\u001b[1;32m      6\u001b[0m plt\u001b[38;5;241m.\u001b[39mtitle(\u001b[38;5;124m'\u001b[39m\u001b[38;5;124mРазбивка посадочных мест по категория\u001b[39m\u001b[38;5;124m'\u001b[39m)\n\u001b[1;32m      7\u001b[0m plt\u001b[38;5;241m.\u001b[39mxlabel(\u001b[38;5;124m'\u001b[39m\u001b[38;5;124mПосадочные места\u001b[39m\u001b[38;5;124m'\u001b[39m) \n",
      "File \u001b[0;32m/opt/conda/lib/python3.9/site-packages/seaborn/categorical.py:1597\u001b[0m, in \u001b[0;36mboxplot\u001b[0;34m(data, x, y, hue, order, hue_order, orient, color, palette, saturation, fill, dodge, width, gap, whis, linecolor, linewidth, fliersize, hue_norm, native_scale, log_scale, formatter, legend, ax, **kwargs)\u001b[0m\n\u001b[1;32m   1589\u001b[0m \u001b[38;5;28;01mdef\u001b[39;00m \u001b[38;5;21mboxplot\u001b[39m(\n\u001b[1;32m   1590\u001b[0m     data\u001b[38;5;241m=\u001b[39m\u001b[38;5;28;01mNone\u001b[39;00m, \u001b[38;5;241m*\u001b[39m, x\u001b[38;5;241m=\u001b[39m\u001b[38;5;28;01mNone\u001b[39;00m, y\u001b[38;5;241m=\u001b[39m\u001b[38;5;28;01mNone\u001b[39;00m, hue\u001b[38;5;241m=\u001b[39m\u001b[38;5;28;01mNone\u001b[39;00m, order\u001b[38;5;241m=\u001b[39m\u001b[38;5;28;01mNone\u001b[39;00m, hue_order\u001b[38;5;241m=\u001b[39m\u001b[38;5;28;01mNone\u001b[39;00m,\n\u001b[1;32m   1591\u001b[0m     orient\u001b[38;5;241m=\u001b[39m\u001b[38;5;28;01mNone\u001b[39;00m, color\u001b[38;5;241m=\u001b[39m\u001b[38;5;28;01mNone\u001b[39;00m, palette\u001b[38;5;241m=\u001b[39m\u001b[38;5;28;01mNone\u001b[39;00m, saturation\u001b[38;5;241m=\u001b[39m\u001b[38;5;241m.75\u001b[39m, fill\u001b[38;5;241m=\u001b[39m\u001b[38;5;28;01mTrue\u001b[39;00m,\n\u001b[0;32m   (...)\u001b[0m\n\u001b[1;32m   1594\u001b[0m     legend\u001b[38;5;241m=\u001b[39m\u001b[38;5;124m\"\u001b[39m\u001b[38;5;124mauto\u001b[39m\u001b[38;5;124m\"\u001b[39m, ax\u001b[38;5;241m=\u001b[39m\u001b[38;5;28;01mNone\u001b[39;00m, \u001b[38;5;241m*\u001b[39m\u001b[38;5;241m*\u001b[39mkwargs\n\u001b[1;32m   1595\u001b[0m ):\n\u001b[0;32m-> 1597\u001b[0m     p \u001b[38;5;241m=\u001b[39m \u001b[43m_CategoricalPlotter\u001b[49m\u001b[43m(\u001b[49m\n\u001b[1;32m   1598\u001b[0m \u001b[43m        \u001b[49m\u001b[43mdata\u001b[49m\u001b[38;5;241;43m=\u001b[39;49m\u001b[43mdata\u001b[49m\u001b[43m,\u001b[49m\n\u001b[1;32m   1599\u001b[0m \u001b[43m        \u001b[49m\u001b[43mvariables\u001b[49m\u001b[38;5;241;43m=\u001b[39;49m\u001b[38;5;28;43mdict\u001b[39;49m\u001b[43m(\u001b[49m\u001b[43mx\u001b[49m\u001b[38;5;241;43m=\u001b[39;49m\u001b[43mx\u001b[49m\u001b[43m,\u001b[49m\u001b[43m \u001b[49m\u001b[43my\u001b[49m\u001b[38;5;241;43m=\u001b[39;49m\u001b[43my\u001b[49m\u001b[43m,\u001b[49m\u001b[43m \u001b[49m\u001b[43mhue\u001b[49m\u001b[38;5;241;43m=\u001b[39;49m\u001b[43mhue\u001b[49m\u001b[43m)\u001b[49m\u001b[43m,\u001b[49m\n\u001b[1;32m   1600\u001b[0m \u001b[43m        \u001b[49m\u001b[43morder\u001b[49m\u001b[38;5;241;43m=\u001b[39;49m\u001b[43morder\u001b[49m\u001b[43m,\u001b[49m\n\u001b[1;32m   1601\u001b[0m \u001b[43m        \u001b[49m\u001b[43morient\u001b[49m\u001b[38;5;241;43m=\u001b[39;49m\u001b[43morient\u001b[49m\u001b[43m,\u001b[49m\n\u001b[1;32m   1602\u001b[0m \u001b[43m        \u001b[49m\u001b[43mcolor\u001b[49m\u001b[38;5;241;43m=\u001b[39;49m\u001b[43mcolor\u001b[49m\u001b[43m,\u001b[49m\n\u001b[1;32m   1603\u001b[0m \u001b[43m        \u001b[49m\u001b[43mlegend\u001b[49m\u001b[38;5;241;43m=\u001b[39;49m\u001b[43mlegend\u001b[49m\u001b[43m,\u001b[49m\n\u001b[1;32m   1604\u001b[0m \u001b[43m    \u001b[49m\u001b[43m)\u001b[49m\n\u001b[1;32m   1606\u001b[0m     \u001b[38;5;28;01mif\u001b[39;00m ax \u001b[38;5;129;01mis\u001b[39;00m \u001b[38;5;28;01mNone\u001b[39;00m:\n\u001b[1;32m   1607\u001b[0m         ax \u001b[38;5;241m=\u001b[39m plt\u001b[38;5;241m.\u001b[39mgca()\n",
      "File \u001b[0;32m/opt/conda/lib/python3.9/site-packages/seaborn/categorical.py:67\u001b[0m, in \u001b[0;36m_CategoricalPlotter.__init__\u001b[0;34m(self, data, variables, order, orient, require_numeric, color, legend)\u001b[0m\n\u001b[1;32m     56\u001b[0m \u001b[38;5;28;01mdef\u001b[39;00m \u001b[38;5;21m__init__\u001b[39m(\n\u001b[1;32m     57\u001b[0m     \u001b[38;5;28mself\u001b[39m,\n\u001b[1;32m     58\u001b[0m     data\u001b[38;5;241m=\u001b[39m\u001b[38;5;28;01mNone\u001b[39;00m,\n\u001b[0;32m   (...)\u001b[0m\n\u001b[1;32m     64\u001b[0m     legend\u001b[38;5;241m=\u001b[39m\u001b[38;5;124m\"\u001b[39m\u001b[38;5;124mauto\u001b[39m\u001b[38;5;124m\"\u001b[39m,\n\u001b[1;32m     65\u001b[0m ):\n\u001b[0;32m---> 67\u001b[0m     \u001b[38;5;28;43msuper\u001b[39;49m\u001b[43m(\u001b[49m\u001b[43m)\u001b[49m\u001b[38;5;241;43m.\u001b[39;49m\u001b[38;5;21;43m__init__\u001b[39;49m\u001b[43m(\u001b[49m\u001b[43mdata\u001b[49m\u001b[38;5;241;43m=\u001b[39;49m\u001b[43mdata\u001b[49m\u001b[43m,\u001b[49m\u001b[43m \u001b[49m\u001b[43mvariables\u001b[49m\u001b[38;5;241;43m=\u001b[39;49m\u001b[43mvariables\u001b[49m\u001b[43m)\u001b[49m\n\u001b[1;32m     69\u001b[0m     \u001b[38;5;66;03m# This method takes care of some bookkeeping that is necessary because the\u001b[39;00m\n\u001b[1;32m     70\u001b[0m     \u001b[38;5;66;03m# original categorical plots (prior to the 2021 refactor) had some rules that\u001b[39;00m\n\u001b[1;32m     71\u001b[0m     \u001b[38;5;66;03m# don't fit exactly into VectorPlotter logic. It may be wise to have a second\u001b[39;00m\n\u001b[0;32m   (...)\u001b[0m\n\u001b[1;32m     76\u001b[0m     \u001b[38;5;66;03m# default VectorPlotter rules. If we do decide to make orient part of the\u001b[39;00m\n\u001b[1;32m     77\u001b[0m     \u001b[38;5;66;03m# _base variable assignment, we'll want to figure out how to express that.\u001b[39;00m\n\u001b[1;32m     78\u001b[0m     \u001b[38;5;28;01mif\u001b[39;00m \u001b[38;5;28mself\u001b[39m\u001b[38;5;241m.\u001b[39minput_format \u001b[38;5;241m==\u001b[39m \u001b[38;5;124m\"\u001b[39m\u001b[38;5;124mwide\u001b[39m\u001b[38;5;124m\"\u001b[39m \u001b[38;5;129;01mand\u001b[39;00m orient \u001b[38;5;129;01min\u001b[39;00m [\u001b[38;5;124m\"\u001b[39m\u001b[38;5;124mh\u001b[39m\u001b[38;5;124m\"\u001b[39m, \u001b[38;5;124m\"\u001b[39m\u001b[38;5;124my\u001b[39m\u001b[38;5;124m\"\u001b[39m]:\n",
      "File \u001b[0;32m/opt/conda/lib/python3.9/site-packages/seaborn/_base.py:634\u001b[0m, in \u001b[0;36mVectorPlotter.__init__\u001b[0;34m(self, data, variables)\u001b[0m\n\u001b[1;32m    629\u001b[0m \u001b[38;5;66;03m# var_ordered is relevant only for categorical axis variables, and may\u001b[39;00m\n\u001b[1;32m    630\u001b[0m \u001b[38;5;66;03m# be better handled by an internal axis information object that tracks\u001b[39;00m\n\u001b[1;32m    631\u001b[0m \u001b[38;5;66;03m# such information and is set up by the scale_* methods. The analogous\u001b[39;00m\n\u001b[1;32m    632\u001b[0m \u001b[38;5;66;03m# information for numeric axes would be information about log scales.\u001b[39;00m\n\u001b[1;32m    633\u001b[0m \u001b[38;5;28mself\u001b[39m\u001b[38;5;241m.\u001b[39m_var_ordered \u001b[38;5;241m=\u001b[39m {\u001b[38;5;124m\"\u001b[39m\u001b[38;5;124mx\u001b[39m\u001b[38;5;124m\"\u001b[39m: \u001b[38;5;28;01mFalse\u001b[39;00m, \u001b[38;5;124m\"\u001b[39m\u001b[38;5;124my\u001b[39m\u001b[38;5;124m\"\u001b[39m: \u001b[38;5;28;01mFalse\u001b[39;00m}  \u001b[38;5;66;03m# alt., used DefaultDict\u001b[39;00m\n\u001b[0;32m--> 634\u001b[0m \u001b[38;5;28;43mself\u001b[39;49m\u001b[38;5;241;43m.\u001b[39;49m\u001b[43massign_variables\u001b[49m\u001b[43m(\u001b[49m\u001b[43mdata\u001b[49m\u001b[43m,\u001b[49m\u001b[43m \u001b[49m\u001b[43mvariables\u001b[49m\u001b[43m)\u001b[49m\n\u001b[1;32m    636\u001b[0m \u001b[38;5;66;03m# TODO Lots of tests assume that these are called to initialize the\u001b[39;00m\n\u001b[1;32m    637\u001b[0m \u001b[38;5;66;03m# mappings to default values on class initialization. I'd prefer to\u001b[39;00m\n\u001b[1;32m    638\u001b[0m \u001b[38;5;66;03m# move away from that and only have a mapping when explicitly called.\u001b[39;00m\n\u001b[1;32m    639\u001b[0m \u001b[38;5;28;01mfor\u001b[39;00m var \u001b[38;5;129;01min\u001b[39;00m [\u001b[38;5;124m\"\u001b[39m\u001b[38;5;124mhue\u001b[39m\u001b[38;5;124m\"\u001b[39m, \u001b[38;5;124m\"\u001b[39m\u001b[38;5;124msize\u001b[39m\u001b[38;5;124m\"\u001b[39m, \u001b[38;5;124m\"\u001b[39m\u001b[38;5;124mstyle\u001b[39m\u001b[38;5;124m\"\u001b[39m]:\n",
      "File \u001b[0;32m/opt/conda/lib/python3.9/site-packages/seaborn/_base.py:679\u001b[0m, in \u001b[0;36mVectorPlotter.assign_variables\u001b[0;34m(self, data, variables)\u001b[0m\n\u001b[1;32m    674\u001b[0m \u001b[38;5;28;01melse\u001b[39;00m:\n\u001b[1;32m    675\u001b[0m     \u001b[38;5;66;03m# When dealing with long-form input, use the newer PlotData\u001b[39;00m\n\u001b[1;32m    676\u001b[0m     \u001b[38;5;66;03m# object (internal but introduced for the objects interface)\u001b[39;00m\n\u001b[1;32m    677\u001b[0m     \u001b[38;5;66;03m# to centralize / standardize data consumption logic.\u001b[39;00m\n\u001b[1;32m    678\u001b[0m     \u001b[38;5;28mself\u001b[39m\u001b[38;5;241m.\u001b[39minput_format \u001b[38;5;241m=\u001b[39m \u001b[38;5;124m\"\u001b[39m\u001b[38;5;124mlong\u001b[39m\u001b[38;5;124m\"\u001b[39m\n\u001b[0;32m--> 679\u001b[0m     plot_data \u001b[38;5;241m=\u001b[39m \u001b[43mPlotData\u001b[49m\u001b[43m(\u001b[49m\u001b[43mdata\u001b[49m\u001b[43m,\u001b[49m\u001b[43m \u001b[49m\u001b[43mvariables\u001b[49m\u001b[43m)\u001b[49m\n\u001b[1;32m    680\u001b[0m     frame \u001b[38;5;241m=\u001b[39m plot_data\u001b[38;5;241m.\u001b[39mframe\n\u001b[1;32m    681\u001b[0m     names \u001b[38;5;241m=\u001b[39m plot_data\u001b[38;5;241m.\u001b[39mnames\n",
      "File \u001b[0;32m/opt/conda/lib/python3.9/site-packages/seaborn/_core/data.py:58\u001b[0m, in \u001b[0;36mPlotData.__init__\u001b[0;34m(self, data, variables)\u001b[0m\n\u001b[1;32m     51\u001b[0m \u001b[38;5;28;01mdef\u001b[39;00m \u001b[38;5;21m__init__\u001b[39m(\n\u001b[1;32m     52\u001b[0m     \u001b[38;5;28mself\u001b[39m,\n\u001b[1;32m     53\u001b[0m     data: DataSource,\n\u001b[1;32m     54\u001b[0m     variables: \u001b[38;5;28mdict\u001b[39m[\u001b[38;5;28mstr\u001b[39m, VariableSpec],\n\u001b[1;32m     55\u001b[0m ):\n\u001b[1;32m     57\u001b[0m     data \u001b[38;5;241m=\u001b[39m handle_data_source(data)\n\u001b[0;32m---> 58\u001b[0m     frame, names, ids \u001b[38;5;241m=\u001b[39m \u001b[38;5;28;43mself\u001b[39;49m\u001b[38;5;241;43m.\u001b[39;49m\u001b[43m_assign_variables\u001b[49m\u001b[43m(\u001b[49m\u001b[43mdata\u001b[49m\u001b[43m,\u001b[49m\u001b[43m \u001b[49m\u001b[43mvariables\u001b[49m\u001b[43m)\u001b[49m\n\u001b[1;32m     60\u001b[0m     \u001b[38;5;28mself\u001b[39m\u001b[38;5;241m.\u001b[39mframe \u001b[38;5;241m=\u001b[39m frame\n\u001b[1;32m     61\u001b[0m     \u001b[38;5;28mself\u001b[39m\u001b[38;5;241m.\u001b[39mnames \u001b[38;5;241m=\u001b[39m names\n",
      "File \u001b[0;32m/opt/conda/lib/python3.9/site-packages/seaborn/_core/data.py:232\u001b[0m, in \u001b[0;36mPlotData._assign_variables\u001b[0;34m(self, data, variables)\u001b[0m\n\u001b[1;32m    230\u001b[0m     \u001b[38;5;28;01melse\u001b[39;00m:\n\u001b[1;32m    231\u001b[0m         err \u001b[38;5;241m+\u001b[39m\u001b[38;5;241m=\u001b[39m \u001b[38;5;124m\"\u001b[39m\u001b[38;5;124mAn entry with this name does not appear in `data`.\u001b[39m\u001b[38;5;124m\"\u001b[39m\n\u001b[0;32m--> 232\u001b[0m     \u001b[38;5;28;01mraise\u001b[39;00m \u001b[38;5;167;01mValueError\u001b[39;00m(err)\n\u001b[1;32m    234\u001b[0m \u001b[38;5;28;01melse\u001b[39;00m:\n\u001b[1;32m    235\u001b[0m \n\u001b[1;32m    236\u001b[0m     \u001b[38;5;66;03m# Otherwise, assume the value somehow represents data\u001b[39;00m\n\u001b[1;32m    237\u001b[0m \n\u001b[1;32m    238\u001b[0m     \u001b[38;5;66;03m# Ignore empty data structures\u001b[39;00m\n\u001b[1;32m    239\u001b[0m     \u001b[38;5;28;01mif\u001b[39;00m \u001b[38;5;28misinstance\u001b[39m(val, Sized) \u001b[38;5;129;01mand\u001b[39;00m \u001b[38;5;28mlen\u001b[39m(val) \u001b[38;5;241m==\u001b[39m \u001b[38;5;241m0\u001b[39m:\n",
      "\u001b[0;31mValueError\u001b[0m: Could not interpret value `category` for `x`. An entry with this name does not appear in `data`."
     ]
    },
    {
     "data": {
      "text/plain": [
       "<Figure size 720x432 with 0 Axes>"
      ]
     },
     "metadata": {},
     "output_type": "display_data"
    }
   ],
   "source": [
    "import seaborn as sns\n",
    "\n",
    "plt.figure(figsize=(10, 6))\n",
    "\n",
    "sns.boxplot(data=df, x='category', y='seats', hue='category', palette='Set2')\n",
    "plt.title('Разбивка посадочных мест по категория')\n",
    "plt.xlabel('Посадочные места') \n",
    "plt.ylabel('Категории заведений')"
   ]
  },
  {
   "cell_type": "markdown",
   "id": "2e3b8ad7",
   "metadata": {},
   "source": [
    "По диаграмме распределения видно, что выбросы по количеству посадочных мест встречаются во всех категориях заведений. Особенно существенны они в кафе и барах. Меньшие значения присутствуют в заведениях быстрого питания, пиццериях и булочных. Но самих выбросов много везде."
   ]
  },
  {
   "cell_type": "code",
   "execution_count": 59,
   "id": "ceadf25b",
   "metadata": {
    "id": "ceadf25b"
   },
   "outputs": [],
   "source": [
    "category_by_seats = df_new.groupby('category')['seats'].median()"
   ]
  },
  {
   "cell_type": "code",
   "execution_count": 60,
   "id": "79f7eb01",
   "metadata": {},
   "outputs": [
    {
     "data": {
      "text/plain": [
       "<Axes: title={'center': 'Распределение количества посадочных мест по категориям'}, xlabel='Категория', ylabel='Количество посадочных мест'>"
      ]
     },
     "execution_count": 60,
     "metadata": {},
     "output_type": "execute_result"
    },
    {
     "data": {
      "image/png": "[encoded data removed]",
      "text/plain": [
       "<Figure size 720x576 with 1 Axes>"
      ]
     },
     "metadata": {
      "needs_background": "light"
     },
     "output_type": "display_data"
    }
   ],
   "source": [
    "category_by_seats.plot(kind='bar', edgecolor='black', figsize=(10,8),\n",
    "                       title='Распределение количества посадочных мест по категориям',\n",
    "                       xlabel='Категория',\n",
    "                       ylabel='Количество посадочных мест')"
   ]
  },
  {
   "cell_type": "markdown",
   "id": "818c9926",
   "metadata": {},
   "source": [
    "По распределению посадочных мест по категориям видна довольно ровная картина. Больше всего посадочных мест у ресторанов - более 80, примерно столько же у баров. Меньше всего у булочных и пиццерий - порядка 50 на каждую категорию."
   ]
  },
  {
   "cell_type": "markdown",
   "id": "16df45b4",
   "metadata": {},
   "source": [
    " \n",
    "\n",
    "<div class=\"alert alert-danger\">\n",
    "<font size=\"5\"><b>Комментарий ревьюера</b></font>\n",
    "\n",
    " \n",
    "\n",
    "Ошибка ❌:\n",
    "\n",
    "\n",
    "\n",
    "- перед тем как использовать mean, нужно оценить насколько корректно её использовать. Если у нас данных присутствует явные выбросы (О которых ты кстати пишешь), то стоит использовать median, либо построить графики и сделать анализ по средней, без учёта выбросов\n",
    "    \n",
    "    \n",
    "\n",
    "    \n",
    "<div class=\"alert alert-warning\">\n",
    "\n",
    "\n",
    "Совет 🤔:\n",
    "\n",
    "\n",
    "-  Было бы неплохо начать с анализа describe, он позволяет собрать основные статистики (и сразу сделать вывод о наличии выбросов)  \n",
    "\n",
    "- Тут я бы посоветовал построить boxplot для seats в разбивке по категория. Это очень просто сделать с помощью библиотеки seaborn, и выглядеть будет отлично. Вот шаблончик (его конечно стоит доработать,  добавить заголовок, название по осям Если понадобится...)\n",
    "    \n",
    "    \n",
    "    import seaborn as sns\n",
    "    sns.boxplot(data=df, x='category', y='seats', hue='category', palette='Set2')\n",
    "    \n",
    "    \n",
    "И тогда мы сразу получим кучу информации о seats в разбивке по категориям заведений. И всё одной строчкой кода     \n",
    "       \n",
    "    "
   ]
  },
  {
   "cell_type": "markdown",
   "id": "7fc85ee1",
   "metadata": {},
   "source": [
    "<div class=\"alert alert-success\">\n",
    "<font size=\"5\"><b>Комментарий ревьюераV3</b></font>\n",
    "\n",
    "\n",
    "\n",
    "Успех 👍:\n",
    "\n",
    "\n",
    "\n",
    "👍Исправлено\n",
    "\n",
    "\n",
    " "
   ]
  },
  {
   "cell_type": "markdown",
   "id": "8ed065ea",
   "metadata": {
    "id": "8ed065ea"
   },
   "source": [
    "---\n",
    "\n",
    "### Задача 5\n",
    "\n",
    "Исследуйте рейтинг заведений. Визуализируйте распределение средних рейтингов по категориям заведений. Сильно ли различаются усреднённые рейтинги для разных типов общепита?"
   ]
  },
  {
   "cell_type": "markdown",
   "id": "fe3a28f9",
   "metadata": {},
   "source": []
  },
  {
   "cell_type": "code",
   "execution_count": 61,
   "id": "cc5206f8",
   "metadata": {
    "id": "cc5206f8"
   },
   "outputs": [],
   "source": [
    "rating_by_category = df_new.groupby('category')['rating'].mean()"
   ]
  },
  {
   "cell_type": "code",
   "execution_count": 62,
   "id": "3e0ec5d7",
   "metadata": {
    "id": "3e0ec5d7"
   },
   "outputs": [
    {
     "data": {
      "text/plain": [
       "(4.0, 4.5)"
      ]
     },
     "execution_count": 62,
     "metadata": {},
     "output_type": "execute_result"
    },
    {
     "data": {
      "image/png": "[encoded data removed]",
      "text/plain": [
       "<Figure size 720x576 with 1 Axes>"
      ]
     },
     "metadata": {
      "needs_background": "light"
     },
     "output_type": "display_data"
    }
   ],
   "source": [
    "#При визуализации сделаем пороговые параметры оси y от 4 до 4,5, чтобы лучше было видно распределение:\n",
    "rating_by_category.plot(kind='bar', edgecolor='black', figsize=(10,8), title='Рейтинги заведений по категориям',\n",
    "                        xlabel='Рейтинг', ylabel='Категория')\n",
    "\n",
    "plt.ylim(4, 4.5)"
   ]
  },
  {
   "cell_type": "markdown",
   "id": "4653c4a6",
   "metadata": {
    "id": "766c86cb"
   },
   "source": [
    "В целом рейтинги внутри категорий варьируются в не особо больших амплитудах - от примерно 4,05 до примерно 4,38. Самый высокий рейтинг у баров - 4,38. Это логично, ведь там люди выпивают и в хорошем расположении духа охотнее ставят заведению высокую оценку. Самый низкий у заведений быстрого питания (4,05) и у кафе (4,12). Что тоже логично, ведь подобные заведения относятся к более дешевым и, следовательно, их качество значительно уступает. Людям свойственно критическое отношение несмотря на желание сэкономить. У остальных категорий заведений рейтинг примерно одинаковый и варьируется в пределах от 4,22 до 4,3.\n",
    "\n",
    "Раз ничего интересного мы тут не нашли, то добавим дополнительную группировку в разбивке по округам."
   ]
  },
  {
   "cell_type": "code",
   "execution_count": 63,
   "id": "753413fc",
   "metadata": {},
   "outputs": [
    {
     "data": {
      "text/plain": [
       "district\n",
       "Восточный административный округ           4.174185\n",
       "Западный административный округ            4.181647\n",
       "Северный административный округ            4.240980\n",
       "Северо-Восточный административный округ    4.147978\n",
       "Северо-Западный административный округ     4.208802\n",
       "Центральный административный округ         4.377520\n",
       "Юго-Восточный административный округ       4.101120\n",
       "Юго-Западный административный округ        4.172920\n",
       "Южный административный округ               4.184417\n",
       "Name: rating, dtype: float64"
      ]
     },
     "execution_count": 63,
     "metadata": {},
     "output_type": "execute_result"
    }
   ],
   "source": [
    "df_new.groupby('district')['rating'].mean()"
   ]
  },
  {
   "cell_type": "markdown",
   "id": "5b7fd838",
   "metadata": {},
   "source": [
    "Как видно, здесь тоже разбивка несущественна. Разве что в ЦАО оценки явно чуть выше, но незначительно."
   ]
  },
  {
   "cell_type": "markdown",
   "id": "58f9221e",
   "metadata": {},
   "source": [
    "<div class=\"alert alert-success\">\n",
    "<font size=\"5\"><b>Комментарий ревьюера</b></font>\n",
    "\n",
    "\n",
    "\n",
    "Успех 👍:\n",
    "\n",
    "\n",
    "\n",
    "Так и есть, видимо в каждой категории   есть свои и хорошие и плохие, а в среднем примерно одинаково\n",
    "\n",
    "\n",
    "<div class=\"alert alert-warning\">\n",
    "\n",
    "\n",
    "Совет 🤔:\n",
    " \n",
    "\n",
    "Раз ничего интересного мы тут не нашли, то возможно стоило добавить дополнительные группировки, возможно в разбивке по округам будет какие-то различия "
   ]
  },
  {
   "cell_type": "markdown",
   "id": "dd9702d9",
   "metadata": {
    "id": "dd9702d9"
   },
   "source": [
    "---\n",
    "\n",
    "### Задача 6\n",
    "\n",
    "Изучите, с какими данными показывают самую сильную корреляцию рейтинги заведений? Постройте и визуализируйте матрицу корреляции рейтинга заведения с разными данными: его категория, положение (административный район Москвы), статус сетевого заведения, количество мест, ценовая категория и признак, является ли заведения круглосуточным. Выберите самую сильную связь и проверьте её."
   ]
  },
  {
   "cell_type": "markdown",
   "id": "fecd42fb",
   "metadata": {},
   "source": [
    "Подобный код почему-то не работает. Оставил его в формате Markdown, чтобы не было не работающих кодов.\n",
    "\n",
    "price_order = pd.CategoricalDtype(  \n",
    "    categories=['выше среднего', 'средние', 'высокие', 'низкие'],   \n",
    "    ordered=True  \n",
    ")  \n",
    "df['price_level'] = df['price_level'].astype(price_order)"
   ]
  },
  {
   "cell_type": "code",
   "execution_count": 64,
   "id": "1bece38c",
   "metadata": {},
   "outputs": [],
   "source": [
    "price_order = pd.CategoricalDtype(  \n",
    "    categories=['выше среднего', 'средние', 'высокие', 'низкие'],   \n",
    "    ordered=True  \n",
    ") "
   ]
  },
  {
   "cell_type": "code",
   "execution_count": 65,
   "id": "15400eb9",
   "metadata": {
    "id": "15400eb9"
   },
   "outputs": [
    {
     "name": "stdout",
     "output_type": "stream",
     "text": [
      "interval columns not set, guessing: ['chain', 'seats', 'rating']\n"
     ]
    }
   ],
   "source": [
    "correlation_matrix = df_new[['category', 'district', 'chain','seats','price','is_24_7','rating']].phik_matrix()"
   ]
  },
  {
   "cell_type": "code",
   "execution_count": 66,
   "id": "8f0379af",
   "metadata": {
    "id": "8f0379af"
   },
   "outputs": [
    {
     "data": {
      "text/html": [
       "<div>\n",
       "<style scoped>\n",
       "    .dataframe tbody tr th:only-of-type {\n",
       "        vertical-align: middle;\n",
       "    }\n",
       "\n",
       "    .dataframe tbody tr th {\n",
       "        vertical-align: top;\n",
       "    }\n",
       "\n",
       "    .dataframe thead th {\n",
       "        text-align: right;\n",
       "    }\n",
       "</style>\n",
       "<table border=\"1\" class=\"dataframe\">\n",
       "  <thead>\n",
       "    <tr style=\"text-align: right;\">\n",
       "      <th></th>\n",
       "      <th>rating</th>\n",
       "    </tr>\n",
       "  </thead>\n",
       "  <tbody>\n",
       "    <tr>\n",
       "      <th>price</th>\n",
       "      <td>0.220295</td>\n",
       "    </tr>\n",
       "    <tr>\n",
       "      <th>district</th>\n",
       "      <td>0.200761</td>\n",
       "    </tr>\n",
       "    <tr>\n",
       "      <th>category</th>\n",
       "      <td>0.189716</td>\n",
       "    </tr>\n",
       "    <tr>\n",
       "      <th>is_24_7</th>\n",
       "      <td>0.150365</td>\n",
       "    </tr>\n",
       "    <tr>\n",
       "      <th>chain</th>\n",
       "      <td>0.107833</td>\n",
       "    </tr>\n",
       "    <tr>\n",
       "      <th>seats</th>\n",
       "      <td>0.000000</td>\n",
       "    </tr>\n",
       "  </tbody>\n",
       "</table>\n",
       "</div>"
      ],
      "text/plain": [
       "            rating\n",
       "price     0.220295\n",
       "district  0.200761\n",
       "category  0.189716\n",
       "is_24_7   0.150365\n",
       "chain     0.107833\n",
       "seats     0.000000"
      ]
     },
     "execution_count": 66,
     "metadata": {},
     "output_type": "execute_result"
    }
   ],
   "source": [
    "correlation_matrix.loc[correlation_matrix.index!='rating'][['rating']].sort_values(by='rating', ascending=False)"
   ]
  },
  {
   "cell_type": "markdown",
   "id": "7533e89d",
   "metadata": {},
   "source": [
    "<div class=\"alert alert-success\">\n",
    "<font size=\"5\"><b>Комментарий ревьюера</b></font>\n",
    "\n",
    "\n",
    "\n",
    "Успех 👍:\n",
    "\n",
    "\n",
    "- здорово что использован phik, это позволяет тебе не обращать внимание на ограничения Пирсона (только количественные и нормально распределённый) или Спирмена (только количественные)\n",
    "\n",
    "     \n",
    "\n",
    "<div class=\"alert alert-warning\">\n",
    "\n",
    "\n",
    "Совет: \n",
    " \n",
    " \n",
    "- используя phik  лучше вручную указать столбцы с количественными признаками через  [interval_cols](https://dzen.ru/a/ZEtcuc4K2RX_Jstr)  \n",
    "    \n",
    "    \n",
    "Самостоятельно phik определил    \n",
    "    \n",
    "    interval columns not set, guessing: ['chain', 'seats', 'rating']\n",
    "    \n",
    "    \n",
    ", и ошибся, потому что некоторые столбцы явно содержат дискретные значения (то есть они только формально цифры, а на самом деле это категориальные значения)\n",
    " \n",
    "\n",
    "\n",
    "- В price у нас содержится явный порядок: высокие > выше среднего > средние >  низкие\n",
    "\n",
    "Стоило это указать, иначе phik решить что это номинальные значения. Это можно сделать с помощью следующего кода    \n",
    "    \n",
    "    \n",
    "    \n",
    "    # Указываем порядок уровней цен  \n",
    "    price_order = pd.CategoricalDtype(  \n",
    "        categories=['выше среднего', 'средние', 'высокие', 'низкие'],   \n",
    "        ordered=True  \n",
    "    )  \n",
    "    df['price_level'] = df['price_level'].astype(price_order) \n",
    "    \n",
    "    \n",
    ", теперь у нас     price_level Имею тип    данных Categorical с определённым порядком значений \n",
    "\n",
    "\n",
    "(правда от этого результат не меняется) "
   ]
  },
  {
   "cell_type": "markdown",
   "id": "7856a68d",
   "metadata": {
    "id": "1a65a84d"
   },
   "source": [
    "В целом мы наблюдаем довольно низкую взаимосвязь между рейтингами и прочими рассмотренными категориями. Наибольшую зависимость рейтинга показывают такие параметры как категория цены, район и категория заведения (коэффициент корреляции - от 0,19 до 0,22). Наименьшую - количество посадочных мест. Здесь коэффициент корреляции близок к нулю. Отразим это на тепловой карте для лучшей цифровизации."
   ]
  },
  {
   "cell_type": "code",
   "execution_count": 67,
   "id": "087776b3",
   "metadata": {},
   "outputs": [],
   "source": [
    "data_heatmap = correlation_matrix.loc[correlation_matrix.index!='rating'][['rating']].sort_values(by='rating', ascending=False)"
   ]
  },
  {
   "cell_type": "code",
   "execution_count": 68,
   "id": "eadf7f8c",
   "metadata": {},
   "outputs": [
    {
     "data": {
      "image/png": "[encoded data removed]",
      "text/plain": [
       "<Figure size 432x288 with 1 Axes>"
      ]
     },
     "metadata": {
      "needs_background": "light"
     },
     "output_type": "display_data"
    }
   ],
   "source": [
    "sns.heatmap(data_heatmap,\n",
    "            annot=True, \n",
    "            fmt='.2f',\n",
    "            cmap='coolwarm',\n",
    "            linewidths=0.5,\n",
    "            cbar=False\n",
    "           )\n",
    "plt.show()"
   ]
  },
  {
   "cell_type": "markdown",
   "id": "836368d7",
   "metadata": {},
   "source": [
    "<div class=\"alert alert-warning\">\n",
    "<font size=\"5\"><b>Комментарий ревьюера</b></font>\n",
    "\n",
    "Совет 🤔:\n",
    "\n",
    "\n",
    "- Если хочешь убрать AxesSubp   то ставь в конце `;` или пропиши plt.show()\n",
    "\n",
    " "
   ]
  },
  {
   "cell_type": "markdown",
   "id": "2f6788a6",
   "metadata": {},
   "source": [
    "Для проверки низкого уровня взаимосвязи проверим одну из сильнейших связей - месторапсоложение с помощью диаграммы рассеяния."
   ]
  },
  {
   "cell_type": "code",
   "execution_count": 69,
   "id": "165868f2",
   "metadata": {},
   "outputs": [
    {
     "data": {
      "image/png": "[encoded data removed]",
      "text/plain": [
       "<Figure size 720x288 with 1 Axes>"
      ]
     },
     "metadata": {
      "needs_background": "light"
     },
     "output_type": "display_data"
    }
   ],
   "source": [
    "plt.figure(figsize=(10, 4))\n",
    "\n",
    "# Строим линейный график\n",
    "plt.plot(df_new['rating'],\n",
    "         df_new['district'],\n",
    "         marker='o', \n",
    "         linestyle='',\n",
    "         alpha=0.7)\n",
    "\n",
    "# Добавляем заголовок и метки осей\n",
    "plt.title('Взаимосвязь между рейтингом и округом')\n",
    "plt.xlabel('Рейтинг')\n",
    "plt.ylabel('Округ')\n",
    "plt.grid()"
   ]
  },
  {
   "cell_type": "markdown",
   "id": "3ea666ab",
   "metadata": {},
   "source": [
    "На диаграмме рассеяния видно, что эти 2 категории данных практически не связаны друг с другом."
   ]
  },
  {
   "cell_type": "markdown",
   "id": "164f30a3",
   "metadata": {},
   "source": [
    "Однако самая высокая связь у нас с price. Построим гистограмму для количества посадочных мест из, сделав разбивку по уровню цен.\n"
   ]
  },
  {
   "cell_type": "code",
   "execution_count": 70,
   "id": "cedc7d2f",
   "metadata": {
    "scrolled": true
   },
   "outputs": [
    {
     "data": {
      "text/plain": [
       "Text(0, 0.5, 'Количество заведений')"
      ]
     },
     "execution_count": 70,
     "metadata": {},
     "output_type": "execute_result"
    },
    {
     "data": {
      "image/png": "[encoded data removed]",
      "text/plain": [
       "<Figure size 432x288 with 1 Axes>"
      ]
     },
     "metadata": {
      "needs_background": "light"
     },
     "output_type": "display_data"
    }
   ],
   "source": [
    "import seaborn as sns\n",
    "\n",
    "sns.histplot(data=df_new, x='seats', hue='price', bins=16)\n",
    "plt.title('Взаимосвязь между уровнем цены, количеством заведений и количеством посадочных мест')\n",
    "plt.xlabel('Посадочные места')\n",
    "plt.ylabel('Количество заведений')"
   ]
  },
  {
   "cell_type": "markdown",
   "id": "29960eaf",
   "metadata": {},
   "source": [
    "<div class=\"alert alert-warning\">\n",
    "<font size=\"5\"><b>Комментарий ревьюераV3</b></font>\n",
    "\n",
    "\n",
    "\n",
    "Совет 🤔:\n",
    "\n",
    "У тебя по всему проекту разбросаны\n",
    "    \n",
    "    import seaborn as sns \n",
    "    \n",
    ", а импорт библиотеки делаем только один, и все импорты собираем в самом верху в одной ячейке - так будет легче контролировать   "
   ]
  },
  {
   "cell_type": "markdown",
   "id": "61df5885",
   "metadata": {},
   "source": [
    "График не имеет особой смысловой нагрузки. Разве что видно, что количество завдений со среднем уровнем цены явно выше во всех заведениях вне зависимости от количества посадочных мест."
   ]
  },
  {
   "cell_type": "markdown",
   "id": "40831d26",
   "metadata": {},
   "source": [
    "<div class=\"alert alert-danger\">\n",
    "<font size=\"5\"><b>Комментарий ревьюера</b></font>\n",
    "\n",
    "\n",
    "\n",
    "Ошибка ❌:\n",
    "\n",
    " \n",
    "    \n",
    "Самая высокая связь у нас с price,  да и трудно звать такой график информативным    \n",
    "     \n",
    "    \n",
    "<div class=\"alert alert-warning\">\n",
    " \n",
    " \n",
    "\n",
    "Совет 🤔:\n",
    "\n",
    "\n",
    "- можно построить обычный barplot, но можешь поробовать использовать гистограммы (Это интереснее, потому что  на гистограмме содержится больше информации чем на barplot) для seats из библиотеки seaborn,  сделав разбивку по price, с помощью аргумента [hue](https://www.statology.org/seaborn-histogram-hue/). Хотя из-за того что цена сильное влияние не оказываеи, графики не получится такими интересными как могли бы (но можно попробовать \"позумить\" ось X) \n",
    "    \n",
    "    \n",
    "- А ещё можно закодировать price в цифры, и посчитать корреляцию Спирмена/Кендалла. phik имеет много преимуществ, но не показывает направление связи, а так мы сможем оценить положительная связь между ценой и рейтингом или отрицательная    "
   ]
  },
  {
   "cell_type": "markdown",
   "id": "370de703",
   "metadata": {
    "id": "370de703"
   },
   "source": [
    "---\n",
    "\n",
    "### Задача 7\n",
    "\n",
    "Сгруппируйте данные по названиям заведений и найдите топ-15 популярных сетей в Москве. Для них посчитайте значения среднего рейтинга. Под популярностью понимается количество заведений этой сети в регионе. К какой категории заведений они относятся? Результат сопроводите подходящими визуализациями."
   ]
  },
  {
   "cell_type": "markdown",
   "id": "9c779b4a",
   "metadata": {},
   "source": [
    "<div class=\"alert alert-danger\">\n",
    "<font size=\"5\"><b>Комментарий ревьюера</b></font>\n",
    "\n",
    "\n",
    "\n",
    "Ошибка ❌:\n",
    "\n",
    "\n",
    "\n",
    "здесь нас интересует только сетевые заведения\n"
   ]
  },
  {
   "cell_type": "code",
   "execution_count": 71,
   "id": "d8ecd943",
   "metadata": {},
   "outputs": [],
   "source": [
    "df_new_new = df_new.loc[df_new['chain']==True]"
   ]
  },
  {
   "cell_type": "markdown",
   "id": "7c863af7",
   "metadata": {},
   "source": [
    "<div class=\"alert alert-success\">\n",
    "<font size=\"5\"><b>Комментарий ревьюераV3</b></font>\n",
    "\n",
    "\n",
    "\n",
    "Успех 👍:\n",
    "\n",
    "\n",
    "\n",
    "👍\n",
    "\n",
    "\n",
    " "
   ]
  },
  {
   "cell_type": "code",
   "execution_count": 73,
   "id": "d013c598",
   "metadata": {
    "id": "d013c598"
   },
   "outputs": [],
   "source": [
    "#Выберем топ-15 заведений по заданным параметрам. Также оставим их категории и средние значения рейтингов.\n",
    "top_15 = df_new_new.groupby(['name', 'category']).agg(\n",
    "    {'rating': 'mean', 'chain': 'sum'}\n",
    ").sort_values(by='chain', ascending=False).head(15)"
   ]
  },
  {
   "cell_type": "code",
   "execution_count": 74,
   "id": "774348d5",
   "metadata": {
    "id": "774348d5"
   },
   "outputs": [
    {
     "data": {
      "text/plain": [
       "<Axes: title={'center': 'Топ-15 популярных сетей в Москве'}, xlabel='Название', ylabel='Количество заведений'>"
      ]
     },
     "execution_count": 74,
     "metadata": {},
     "output_type": "execute_result"
    },
    {
     "data": {
      "image/png": "[encoded data removed]",
      "text/plain": [
       "<Figure size 720x576 with 1 Axes>"
      ]
     },
     "metadata": {
      "needs_background": "light"
     },
     "output_type": "display_data"
    }
   ],
   "source": [
    "top_15.plot(kind='barh', figsize=(10,8), title='Топ-15 популярных сетей в Москве', \n",
    "            y='chain', xlabel='Название', ylabel='Количество заведений')"
   ]
  },
  {
   "cell_type": "markdown",
   "id": "0590c7dd",
   "metadata": {},
   "source": [
    "<div class=\"alert alert-warning\">\n",
    "<font size=\"5\"><b>Комментарий ревьюера</b></font>\n",
    "\n",
    "\n",
    "\n",
    "Совет 🤔:\n",
    "\n",
    "В таких случаях обычно делают сортировку по убыванию\n",
    " "
   ]
  },
  {
   "cell_type": "markdown",
   "id": "d36ddcec",
   "metadata": {},
   "source": [
    "Самое популярное сетевое заведение в выборке - Шоколадница, относящееся к категории кофейня. Число таких заведений сильно лидирует на фоне остальных. Их в Москве чуть меньше 120. Тогда как второе заведение в списке топ-15 - пиццерия \"Домино'с пицца\" насчитывает менее 80 мест. В целом большинство мест из списка относятся к категориям кофейн или ресторанов. Присутствует пара пиццерий, 3 кафе и одна булочная."
   ]
  },
  {
   "cell_type": "code",
   "execution_count": 75,
   "id": "1791a83a",
   "metadata": {
    "scrolled": true
   },
   "outputs": [
    {
     "data": {
      "image/png": "[encoded data removed]",
      "text/plain": [
       "<Figure size 720x576 with 1 Axes>"
      ]
     },
     "metadata": {
      "needs_background": "light"
     },
     "output_type": "display_data"
    }
   ],
   "source": [
    "# Сортировка DataFrame по убыванию значений столбца 'rating'\n",
    "top_15_sorted = top_15.sort_values(by='rating', ascending=False)\n",
    "\n",
    "# Построение графика на основе отсортированных данных\n",
    "top_15_sorted.plot(kind='barh', figsize=(10,8), y='rating')\n",
    "plt.xlabel('Рейтинг')\n",
    "plt.ylabel('Название сети')\n",
    "plt.title('Топ-15 сетей по рейтингу')\n",
    "plt.xlim(3.7, 4.5)\n",
    "plt.show()"
   ]
  },
  {
   "cell_type": "markdown",
   "id": "6a02b3e8",
   "metadata": {},
   "source": [
    "Рейтинг топ-15 сетевых заведений варьируется в значениях от 3,9 до примерно 4,4. Явный лидер здесь как и в количестве заведений - Кофемания (4,4). Также более высокие рейтинги на фоне остальных показывают булочная \"Буханка\" и кафе \"Кулинарная лавка братьев Караваевых\" (тоже примерно 4,4). Самый низкие рейтинги у кафе Чайхана\" (4) и у ресторана \"Яндекс лавка\" (3,9) (кстати, странно, что \"Яндекс лавка\" попала в категорию ресторанов, когда логичнее было бы ее отнести к заведениям быстрого питания)."
   ]
  },
  {
   "cell_type": "markdown",
   "id": "85a90a94",
   "metadata": {
    "id": "85a90a94"
   },
   "source": [
    "---\n",
    "\n",
    "### Задача 8\n",
    "\n",
    "Изучите вариацию среднего чека заведения (столбец `middle_avg_bill`) в зависимости от района Москвы. Проанализируйте цены в Центральном административном округе и других. Как удалённость от центра влияет на цены в заведениях? Результат сопроводите подходящими визуализациями.\n"
   ]
  },
  {
   "cell_type": "code",
   "execution_count": 76,
   "id": "77c7cb45",
   "metadata": {},
   "outputs": [
    {
     "data": {
      "text/plain": [
       "count     3149.000000\n",
       "mean       958.053668\n",
       "std       1009.732845\n",
       "min          0.000000\n",
       "25%        375.000000\n",
       "50%        750.000000\n",
       "75%       1250.000000\n",
       "max      35000.000000\n",
       "Name: middle_avg_bill, dtype: float64"
      ]
     },
     "execution_count": 76,
     "metadata": {},
     "output_type": "execute_result"
    }
   ],
   "source": [
    "#Изучим данные столбца 'middle_avg_bill' на выбросы\n",
    "df_new['middle_avg_bill'].describe()"
   ]
  },
  {
   "cell_type": "markdown",
   "id": "31ef1571",
   "metadata": {},
   "source": [
    "Расзождения в медиане и в среднем значении очень велико, также велико значение стандартного отклонения. Значит в выборке много выбросов. Изучим, где именно присутствует выбросы. Для этого построим диаграммы размаха."
   ]
  },
  {
   "cell_type": "code",
   "execution_count": 77,
   "id": "129fd80b",
   "metadata": {},
   "outputs": [
    {
     "data": {
      "text/plain": [
       "Text(0.5, 1.0, 'Распределение среднего чека')"
      ]
     },
     "execution_count": 77,
     "metadata": {},
     "output_type": "execute_result"
    },
    {
     "data": {
      "image/png": "[encoded data removed]",
      "text/plain": [
       "<Figure size 720x576 with 1 Axes>"
      ]
     },
     "metadata": {
      "needs_background": "light"
     },
     "output_type": "display_data"
    }
   ],
   "source": [
    "df_new.boxplot(column='middle_avg_bill', figsize=(10,8))\n",
    "plt.xlabel('Количество значений')\n",
    "plt.ylabel('Средний чек, руб.')\n",
    "plt.title('Распределение среднего чека')"
   ]
  },
  {
   "cell_type": "markdown",
   "id": "072b0614",
   "metadata": {},
   "source": [
    "Видно, что выбросов очень много, но за пределами значений после 10000 выбросов немного. Значит можно убрать выбросы, чтобы значения для анализа среднего чека по округам."
   ]
  },
  {
   "cell_type": "code",
   "execution_count": 78,
   "id": "9f4ac3fa",
   "metadata": {},
   "outputs": [
    {
     "name": "stderr",
     "output_type": "stream",
     "text": [
      "/tmp/ipykernel_459/2096210399.py:1: SettingWithCopyWarning: \n",
      "A value is trying to be set on a copy of a slice from a DataFrame.\n",
      "Try using .loc[row_indexer,col_indexer] = value instead\n",
      "\n",
      "See the caveats in the documentation: https://pandas.pydata.org/pandas-docs/stable/user_guide/indexing.html#returning-a-view-versus-a-copy\n",
      "  df_new['district_new']=df_new['district'].str.replace('административный округ', ' ')\n"
     ]
    }
   ],
   "source": [
    "df_new['district_new']=df_new['district'].str.replace('административный округ', ' ')"
   ]
  },
  {
   "cell_type": "code",
   "execution_count": 79,
   "id": "e416c165",
   "metadata": {
    "scrolled": false
   },
   "outputs": [
    {
     "data": {
      "text/plain": [
       "Text(0, 0.5, 'Посадочные места')"
      ]
     },
     "execution_count": 79,
     "metadata": {},
     "output_type": "execute_result"
    },
    {
     "data": {
      "image/png": "[encoded data removed]",
      "text/plain": [
       "<Figure size 1080x864 with 1 Axes>"
      ]
     },
     "metadata": {
      "needs_background": "light"
     },
     "output_type": "display_data"
    }
   ],
   "source": [
    "import seaborn as sns\n",
    "\n",
    "plt.figure(figsize=(15, 12))\n",
    "\n",
    "sns.boxplot(data=df_new, x='district_new', y='middle_avg_bill', hue='district', palette='Set2')\n",
    "plt.title('Разбивка среднего чека по округам')\n",
    "plt.xlabel('Округа')\n",
    "plt.ylabel('Посадочные места')"
   ]
  },
  {
   "cell_type": "markdown",
   "id": "a0877c2f",
   "metadata": {},
   "source": [
    "Наиболее значимые выбросы относятся к САО, ВАО и ЮАО. В ЦАО выбросов больше всего."
   ]
  },
  {
   "cell_type": "code",
   "execution_count": 80,
   "id": "2434d389",
   "metadata": {},
   "outputs": [
    {
     "data": {
      "text/html": [
       "<div>\n",
       "<style scoped>\n",
       "    .dataframe tbody tr th:only-of-type {\n",
       "        vertical-align: middle;\n",
       "    }\n",
       "\n",
       "    .dataframe tbody tr th {\n",
       "        vertical-align: top;\n",
       "    }\n",
       "\n",
       "    .dataframe thead th {\n",
       "        text-align: right;\n",
       "    }\n",
       "</style>\n",
       "<table border=\"1\" class=\"dataframe\">\n",
       "  <thead>\n",
       "    <tr style=\"text-align: right;\">\n",
       "      <th>name</th>\n",
       "      <th>кафе</th>\n",
       "      <th>андерсон</th>\n",
       "      <th>чойхона</th>\n",
       "      <th>тануки</th>\n",
       "      <th>гости</th>\n",
       "      <th>vasilchukí chaihona №1</th>\n",
       "      <th>хинкальная</th>\n",
       "      <th>поминальные обеды</th>\n",
       "      <th>чайка</th>\n",
       "      <th>чайхона №1</th>\n",
       "      <th>...</th>\n",
       "      <th>kafin</th>\n",
       "      <th>star hit cafe</th>\n",
       "      <th>московские пышки</th>\n",
       "      <th>кафе соляночка</th>\n",
       "      <th>буфет-столовая южный порт</th>\n",
       "      <th>бобс кофе</th>\n",
       "      <th>french bakery</th>\n",
       "      <th>бургер mix</th>\n",
       "      <th>монастырская чайная</th>\n",
       "      <th>шаурмян у арена</th>\n",
       "    </tr>\n",
       "    <tr>\n",
       "      <th>district</th>\n",
       "      <th></th>\n",
       "      <th></th>\n",
       "      <th></th>\n",
       "      <th></th>\n",
       "      <th></th>\n",
       "      <th></th>\n",
       "      <th></th>\n",
       "      <th></th>\n",
       "      <th></th>\n",
       "      <th></th>\n",
       "      <th></th>\n",
       "      <th></th>\n",
       "      <th></th>\n",
       "      <th></th>\n",
       "      <th></th>\n",
       "      <th></th>\n",
       "      <th></th>\n",
       "      <th></th>\n",
       "      <th></th>\n",
       "      <th></th>\n",
       "      <th></th>\n",
       "    </tr>\n",
       "  </thead>\n",
       "  <tbody>\n",
       "    <tr>\n",
       "      <th>Восточный административный округ</th>\n",
       "      <td>393.75</td>\n",
       "      <td>1750.000000</td>\n",
       "      <td>NaN</td>\n",
       "      <td>1250.000000</td>\n",
       "      <td>10000.0</td>\n",
       "      <td>NaN</td>\n",
       "      <td>1106.250000</td>\n",
       "      <td>2000.0</td>\n",
       "      <td>NaN</td>\n",
       "      <td>NaN</td>\n",
       "      <td>...</td>\n",
       "      <td>NaN</td>\n",
       "      <td>NaN</td>\n",
       "      <td>NaN</td>\n",
       "      <td>NaN</td>\n",
       "      <td>NaN</td>\n",
       "      <td>NaN</td>\n",
       "      <td>NaN</td>\n",
       "      <td>NaN</td>\n",
       "      <td>NaN</td>\n",
       "      <td>NaN</td>\n",
       "    </tr>\n",
       "    <tr>\n",
       "      <th>Западный административный округ</th>\n",
       "      <td>600.00</td>\n",
       "      <td>1375.000000</td>\n",
       "      <td>NaN</td>\n",
       "      <td>1416.666667</td>\n",
       "      <td>NaN</td>\n",
       "      <td>1500.0</td>\n",
       "      <td>1750.000000</td>\n",
       "      <td>1625.0</td>\n",
       "      <td>NaN</td>\n",
       "      <td>1750.0</td>\n",
       "      <td>...</td>\n",
       "      <td>NaN</td>\n",
       "      <td>NaN</td>\n",
       "      <td>NaN</td>\n",
       "      <td>NaN</td>\n",
       "      <td>NaN</td>\n",
       "      <td>NaN</td>\n",
       "      <td>NaN</td>\n",
       "      <td>NaN</td>\n",
       "      <td>NaN</td>\n",
       "      <td>NaN</td>\n",
       "    </tr>\n",
       "    <tr>\n",
       "      <th>Северный административный округ</th>\n",
       "      <td>175.00</td>\n",
       "      <td>1750.000000</td>\n",
       "      <td>11000.0</td>\n",
       "      <td>1250.000000</td>\n",
       "      <td>NaN</td>\n",
       "      <td>1500.0</td>\n",
       "      <td>900.000000</td>\n",
       "      <td>NaN</td>\n",
       "      <td>NaN</td>\n",
       "      <td>NaN</td>\n",
       "      <td>...</td>\n",
       "      <td>NaN</td>\n",
       "      <td>NaN</td>\n",
       "      <td>NaN</td>\n",
       "      <td>NaN</td>\n",
       "      <td>NaN</td>\n",
       "      <td>NaN</td>\n",
       "      <td>NaN</td>\n",
       "      <td>NaN</td>\n",
       "      <td>NaN</td>\n",
       "      <td>NaN</td>\n",
       "    </tr>\n",
       "    <tr>\n",
       "      <th>Северо-Восточный административный округ</th>\n",
       "      <td>NaN</td>\n",
       "      <td>1500.000000</td>\n",
       "      <td>NaN</td>\n",
       "      <td>1250.000000</td>\n",
       "      <td>NaN</td>\n",
       "      <td>NaN</td>\n",
       "      <td>NaN</td>\n",
       "      <td>NaN</td>\n",
       "      <td>NaN</td>\n",
       "      <td>1750.0</td>\n",
       "      <td>...</td>\n",
       "      <td>NaN</td>\n",
       "      <td>120.0</td>\n",
       "      <td>NaN</td>\n",
       "      <td>NaN</td>\n",
       "      <td>NaN</td>\n",
       "      <td>100.0</td>\n",
       "      <td>NaN</td>\n",
       "      <td>NaN</td>\n",
       "      <td>NaN</td>\n",
       "      <td>NaN</td>\n",
       "    </tr>\n",
       "    <tr>\n",
       "      <th>Северо-Западный административный округ</th>\n",
       "      <td>NaN</td>\n",
       "      <td>1500.000000</td>\n",
       "      <td>NaN</td>\n",
       "      <td>1125.000000</td>\n",
       "      <td>NaN</td>\n",
       "      <td>1500.0</td>\n",
       "      <td>712.500000</td>\n",
       "      <td>2000.0</td>\n",
       "      <td>NaN</td>\n",
       "      <td>NaN</td>\n",
       "      <td>...</td>\n",
       "      <td>NaN</td>\n",
       "      <td>NaN</td>\n",
       "      <td>NaN</td>\n",
       "      <td>NaN</td>\n",
       "      <td>NaN</td>\n",
       "      <td>NaN</td>\n",
       "      <td>NaN</td>\n",
       "      <td>NaN</td>\n",
       "      <td>NaN</td>\n",
       "      <td>NaN</td>\n",
       "    </tr>\n",
       "    <tr>\n",
       "      <th>Центральный административный округ</th>\n",
       "      <td>NaN</td>\n",
       "      <td>1166.666667</td>\n",
       "      <td>NaN</td>\n",
       "      <td>1250.000000</td>\n",
       "      <td>NaN</td>\n",
       "      <td>1500.0</td>\n",
       "      <td>1064.285714</td>\n",
       "      <td>NaN</td>\n",
       "      <td>6500.0</td>\n",
       "      <td>2000.0</td>\n",
       "      <td>...</td>\n",
       "      <td>120.0</td>\n",
       "      <td>NaN</td>\n",
       "      <td>120.0</td>\n",
       "      <td>110.0</td>\n",
       "      <td>NaN</td>\n",
       "      <td>NaN</td>\n",
       "      <td>NaN</td>\n",
       "      <td>NaN</td>\n",
       "      <td>67.0</td>\n",
       "      <td>NaN</td>\n",
       "    </tr>\n",
       "    <tr>\n",
       "      <th>Юго-Восточный административный округ</th>\n",
       "      <td>260.00</td>\n",
       "      <td>NaN</td>\n",
       "      <td>NaN</td>\n",
       "      <td>1250.000000</td>\n",
       "      <td>NaN</td>\n",
       "      <td>NaN</td>\n",
       "      <td>300.000000</td>\n",
       "      <td>NaN</td>\n",
       "      <td>NaN</td>\n",
       "      <td>NaN</td>\n",
       "      <td>...</td>\n",
       "      <td>NaN</td>\n",
       "      <td>NaN</td>\n",
       "      <td>NaN</td>\n",
       "      <td>NaN</td>\n",
       "      <td>107.0</td>\n",
       "      <td>NaN</td>\n",
       "      <td>NaN</td>\n",
       "      <td>90.0</td>\n",
       "      <td>NaN</td>\n",
       "      <td>30.0</td>\n",
       "    </tr>\n",
       "    <tr>\n",
       "      <th>Юго-Западный административный округ</th>\n",
       "      <td>350.00</td>\n",
       "      <td>1375.000000</td>\n",
       "      <td>NaN</td>\n",
       "      <td>900.000000</td>\n",
       "      <td>NaN</td>\n",
       "      <td>1500.0</td>\n",
       "      <td>875.000000</td>\n",
       "      <td>2000.0</td>\n",
       "      <td>1100.0</td>\n",
       "      <td>1750.0</td>\n",
       "      <td>...</td>\n",
       "      <td>NaN</td>\n",
       "      <td>NaN</td>\n",
       "      <td>NaN</td>\n",
       "      <td>NaN</td>\n",
       "      <td>NaN</td>\n",
       "      <td>NaN</td>\n",
       "      <td>100.0</td>\n",
       "      <td>NaN</td>\n",
       "      <td>NaN</td>\n",
       "      <td>NaN</td>\n",
       "    </tr>\n",
       "    <tr>\n",
       "      <th>Южный административный округ</th>\n",
       "      <td>17600.00</td>\n",
       "      <td>1325.000000</td>\n",
       "      <td>NaN</td>\n",
       "      <td>1250.000000</td>\n",
       "      <td>NaN</td>\n",
       "      <td>1500.0</td>\n",
       "      <td>1100.000000</td>\n",
       "      <td>NaN</td>\n",
       "      <td>NaN</td>\n",
       "      <td>NaN</td>\n",
       "      <td>...</td>\n",
       "      <td>NaN</td>\n",
       "      <td>NaN</td>\n",
       "      <td>NaN</td>\n",
       "      <td>NaN</td>\n",
       "      <td>NaN</td>\n",
       "      <td>NaN</td>\n",
       "      <td>NaN</td>\n",
       "      <td>NaN</td>\n",
       "      <td>NaN</td>\n",
       "      <td>NaN</td>\n",
       "    </tr>\n",
       "  </tbody>\n",
       "</table>\n",
       "<p>9 rows × 2338 columns</p>\n",
       "</div>"
      ],
      "text/plain": [
       "name                                         кафе     андерсон  чойхона  \\\n",
       "district                                                                  \n",
       "Восточный административный округ           393.75  1750.000000      NaN   \n",
       "Западный административный округ            600.00  1375.000000      NaN   \n",
       "Северный административный округ            175.00  1750.000000  11000.0   \n",
       "Северо-Восточный административный округ       NaN  1500.000000      NaN   \n",
       "Северо-Западный административный округ        NaN  1500.000000      NaN   \n",
       "Центральный административный округ            NaN  1166.666667      NaN   \n",
       "Юго-Восточный административный округ       260.00          NaN      NaN   \n",
       "Юго-Западный административный округ        350.00  1375.000000      NaN   \n",
       "Южный административный округ             17600.00  1325.000000      NaN   \n",
       "\n",
       "name                                          тануки    гости  \\\n",
       "district                                                        \n",
       "Восточный административный округ         1250.000000  10000.0   \n",
       "Западный административный округ          1416.666667      NaN   \n",
       "Северный административный округ          1250.000000      NaN   \n",
       "Северо-Восточный административный округ  1250.000000      NaN   \n",
       "Северо-Западный административный округ   1125.000000      NaN   \n",
       "Центральный административный округ       1250.000000      NaN   \n",
       "Юго-Восточный административный округ     1250.000000      NaN   \n",
       "Юго-Западный административный округ       900.000000      NaN   \n",
       "Южный административный округ             1250.000000      NaN   \n",
       "\n",
       "name                                     vasilchukí chaihona №1   хинкальная  \\\n",
       "district                                                                       \n",
       "Восточный административный округ                            NaN  1106.250000   \n",
       "Западный административный округ                          1500.0  1750.000000   \n",
       "Северный административный округ                          1500.0   900.000000   \n",
       "Северо-Восточный административный округ                     NaN          NaN   \n",
       "Северо-Западный административный округ                   1500.0   712.500000   \n",
       "Центральный административный округ                       1500.0  1064.285714   \n",
       "Юго-Восточный административный округ                        NaN   300.000000   \n",
       "Юго-Западный административный округ                      1500.0   875.000000   \n",
       "Южный административный округ                             1500.0  1100.000000   \n",
       "\n",
       "name                                     поминальные обеды   чайка  \\\n",
       "district                                                             \n",
       "Восточный административный округ                    2000.0     NaN   \n",
       "Западный административный округ                     1625.0     NaN   \n",
       "Северный административный округ                        NaN     NaN   \n",
       "Северо-Восточный административный округ                NaN     NaN   \n",
       "Северо-Западный административный округ              2000.0     NaN   \n",
       "Центральный административный округ                     NaN  6500.0   \n",
       "Юго-Восточный административный округ                   NaN     NaN   \n",
       "Юго-Западный административный округ                 2000.0  1100.0   \n",
       "Южный административный округ                           NaN     NaN   \n",
       "\n",
       "name                                     чайхона №1  ...  kafin  \\\n",
       "district                                             ...          \n",
       "Восточный административный округ                NaN  ...    NaN   \n",
       "Западный административный округ              1750.0  ...    NaN   \n",
       "Северный административный округ                 NaN  ...    NaN   \n",
       "Северо-Восточный административный округ      1750.0  ...    NaN   \n",
       "Северо-Западный административный округ          NaN  ...    NaN   \n",
       "Центральный административный округ           2000.0  ...  120.0   \n",
       "Юго-Восточный административный округ            NaN  ...    NaN   \n",
       "Юго-Западный административный округ          1750.0  ...    NaN   \n",
       "Южный административный округ                    NaN  ...    NaN   \n",
       "\n",
       "name                                     star hit cafe  московские пышки  \\\n",
       "district                                                                   \n",
       "Восточный административный округ                   NaN               NaN   \n",
       "Западный административный округ                    NaN               NaN   \n",
       "Северный административный округ                    NaN               NaN   \n",
       "Северо-Восточный административный округ          120.0               NaN   \n",
       "Северо-Западный административный округ             NaN               NaN   \n",
       "Центральный административный округ                 NaN             120.0   \n",
       "Юго-Восточный административный округ               NaN               NaN   \n",
       "Юго-Западный административный округ                NaN               NaN   \n",
       "Южный административный округ                       NaN               NaN   \n",
       "\n",
       "name                                     кафе соляночка  \\\n",
       "district                                                  \n",
       "Восточный административный округ                    NaN   \n",
       "Западный административный округ                     NaN   \n",
       "Северный административный округ                     NaN   \n",
       "Северо-Восточный административный округ             NaN   \n",
       "Северо-Западный административный округ              NaN   \n",
       "Центральный административный округ                110.0   \n",
       "Юго-Восточный административный округ                NaN   \n",
       "Юго-Западный административный округ                 NaN   \n",
       "Южный административный округ                        NaN   \n",
       "\n",
       "name                                     буфет-столовая южный порт  бобс кофе  \\\n",
       "district                                                                        \n",
       "Восточный административный округ                               NaN        NaN   \n",
       "Западный административный округ                                NaN        NaN   \n",
       "Северный административный округ                                NaN        NaN   \n",
       "Северо-Восточный административный округ                        NaN      100.0   \n",
       "Северо-Западный административный округ                         NaN        NaN   \n",
       "Центральный административный округ                             NaN        NaN   \n",
       "Юго-Восточный административный округ                         107.0        NaN   \n",
       "Юго-Западный административный округ                            NaN        NaN   \n",
       "Южный административный округ                                   NaN        NaN   \n",
       "\n",
       "name                                     french bakery  бургер mix  \\\n",
       "district                                                             \n",
       "Восточный административный округ                   NaN         NaN   \n",
       "Западный административный округ                    NaN         NaN   \n",
       "Северный административный округ                    NaN         NaN   \n",
       "Северо-Восточный административный округ            NaN         NaN   \n",
       "Северо-Западный административный округ             NaN         NaN   \n",
       "Центральный административный округ                 NaN         NaN   \n",
       "Юго-Восточный административный округ               NaN        90.0   \n",
       "Юго-Западный административный округ              100.0         NaN   \n",
       "Южный административный округ                       NaN         NaN   \n",
       "\n",
       "name                                     монастырская чайная  шаурмян у арена  \n",
       "district                                                                       \n",
       "Восточный административный округ                         NaN              NaN  \n",
       "Западный административный округ                          NaN              NaN  \n",
       "Северный административный округ                          NaN              NaN  \n",
       "Северо-Восточный административный округ                  NaN              NaN  \n",
       "Северо-Западный административный округ                   NaN              NaN  \n",
       "Центральный административный округ                      67.0              NaN  \n",
       "Юго-Восточный административный округ                     NaN             30.0  \n",
       "Юго-Западный административный округ                      NaN              NaN  \n",
       "Южный административный округ                             NaN              NaN  \n",
       "\n",
       "[9 rows x 2338 columns]"
      ]
     },
     "execution_count": 80,
     "metadata": {},
     "output_type": "execute_result"
    }
   ],
   "source": [
    "pivot_table = pd.pivot_table(df_new,\n",
    "                             index='district',\n",
    "                             columns='name',\n",
    "                             values='middle_avg_bill',\n",
    "                             aggfunc='mean')\n",
    "\n",
    "\n",
    "# Вычисление суммы значений по столбцам (названиям)\n",
    "total_by_name = pivot_table.sum(axis=0)\n",
    "\n",
    "# Сортировка столбцов по убыванию суммы\n",
    "\n",
    "pivot_table_sorted = pivot_table[total_by_name.sort_values(ascending=False).index]\n",
    "\n",
    "# Вывод отсортированной сводной таблицы\n",
    "pivot_table_sorted.head(15)"
   ]
  },
  {
   "cell_type": "markdown",
   "id": "f7fc12df",
   "metadata": {},
   "source": [
    "Здесь я попробовал построить сводную таблицу, о которой ты писал в совете. Но что-то не то получилось. Скажи, пожалуйста, что именно тут нужно сделать."
   ]
  },
  {
   "cell_type": "code",
   "execution_count": 85,
   "id": "cfe93e88",
   "metadata": {},
   "outputs": [
    {
     "data": {
      "text/html": [
       "<div>\n",
       "<style scoped>\n",
       "    .dataframe tbody tr th:only-of-type {\n",
       "        vertical-align: middle;\n",
       "    }\n",
       "\n",
       "    .dataframe tbody tr th {\n",
       "        vertical-align: top;\n",
       "    }\n",
       "\n",
       "    .dataframe thead th {\n",
       "        text-align: right;\n",
       "    }\n",
       "</style>\n",
       "<table border=\"1\" class=\"dataframe\">\n",
       "  <thead>\n",
       "    <tr style=\"text-align: right;\">\n",
       "      <th></th>\n",
       "      <th>id</th>\n",
       "      <th>name</th>\n",
       "      <th>category</th>\n",
       "      <th>address</th>\n",
       "      <th>district</th>\n",
       "      <th>hours</th>\n",
       "      <th>rating</th>\n",
       "      <th>chain</th>\n",
       "      <th>seats</th>\n",
       "      <th>price</th>\n",
       "      <th>avg_bill</th>\n",
       "      <th>middle_avg_bill</th>\n",
       "      <th>middle_coffee_cup</th>\n",
       "      <th>is_24_7</th>\n",
       "      <th>district_new</th>\n",
       "    </tr>\n",
       "  </thead>\n",
       "  <tbody>\n",
       "    <tr>\n",
       "      <th>0</th>\n",
       "      <td>0c3e3439a8c64ea5bf6ecd6ca6ae19f0</td>\n",
       "      <td>wowфли</td>\n",
       "      <td>кафе</td>\n",
       "      <td>москва, улица дыбенко, 7/1</td>\n",
       "      <td>Северный административный округ</td>\n",
       "      <td>ежедневно, 10:00–22:00</td>\n",
       "      <td>5.0</td>\n",
       "      <td>0</td>\n",
       "      <td>NaN</td>\n",
       "      <td>NaN</td>\n",
       "      <td>NaN</td>\n",
       "      <td>NaN</td>\n",
       "      <td>NaN</td>\n",
       "      <td>False</td>\n",
       "      <td>Северный</td>\n",
       "    </tr>\n",
       "    <tr>\n",
       "      <th>1</th>\n",
       "      <td>045780ada3474c57a2112e505d74b633</td>\n",
       "      <td>четыре комнаты</td>\n",
       "      <td>ресторан</td>\n",
       "      <td>москва, улица дыбенко, 36, корп. 1</td>\n",
       "      <td>Северный административный округ</td>\n",
       "      <td>ежедневно, 10:00–22:00</td>\n",
       "      <td>4.5</td>\n",
       "      <td>0</td>\n",
       "      <td>4.0</td>\n",
       "      <td>выше среднего</td>\n",
       "      <td>Средний счёт:1500–1600 ₽</td>\n",
       "      <td>1550.0</td>\n",
       "      <td>NaN</td>\n",
       "      <td>False</td>\n",
       "      <td>Северный</td>\n",
       "    </tr>\n",
       "    <tr>\n",
       "      <th>2</th>\n",
       "      <td>1070b6b59144425896c65889347fcff6</td>\n",
       "      <td>хазри</td>\n",
       "      <td>кафе</td>\n",
       "      <td>москва, клязьминская улица, 15</td>\n",
       "      <td>Северный административный округ</td>\n",
       "      <td>пн-чт 11:00–02:00; пт,сб 11:00–05:00; вс 11:00...</td>\n",
       "      <td>4.6</td>\n",
       "      <td>0</td>\n",
       "      <td>45.0</td>\n",
       "      <td>средние</td>\n",
       "      <td>Средний счёт:от 1000 ₽</td>\n",
       "      <td>1000.0</td>\n",
       "      <td>NaN</td>\n",
       "      <td>False</td>\n",
       "      <td>Северный</td>\n",
       "    </tr>\n",
       "    <tr>\n",
       "      <th>3</th>\n",
       "      <td>03ac7cd772104f65b58b349dc59f03ee</td>\n",
       "      <td>dormouse coffee shop</td>\n",
       "      <td>кофейня</td>\n",
       "      <td>москва, улица маршала федоренко, 12</td>\n",
       "      <td>Северный административный округ</td>\n",
       "      <td>ежедневно, 09:00–22:00</td>\n",
       "      <td>5.0</td>\n",
       "      <td>0</td>\n",
       "      <td>NaN</td>\n",
       "      <td>NaN</td>\n",
       "      <td>Цена чашки капучино:155–185 ₽</td>\n",
       "      <td>NaN</td>\n",
       "      <td>170.0</td>\n",
       "      <td>False</td>\n",
       "      <td>Северный</td>\n",
       "    </tr>\n",
       "    <tr>\n",
       "      <th>4</th>\n",
       "      <td>a163aada139c4c7f87b0b1c0b466a50f</td>\n",
       "      <td>иль марко</td>\n",
       "      <td>пиццерия</td>\n",
       "      <td>москва, правобережная улица, 1б</td>\n",
       "      <td>Северный административный округ</td>\n",
       "      <td>ежедневно, 10:00–22:00</td>\n",
       "      <td>5.0</td>\n",
       "      <td>1</td>\n",
       "      <td>148.0</td>\n",
       "      <td>средние</td>\n",
       "      <td>Средний счёт:400–600 ₽</td>\n",
       "      <td>500.0</td>\n",
       "      <td>NaN</td>\n",
       "      <td>False</td>\n",
       "      <td>Северный</td>\n",
       "    </tr>\n",
       "    <tr>\n",
       "      <th>...</th>\n",
       "      <td>...</td>\n",
       "      <td>...</td>\n",
       "      <td>...</td>\n",
       "      <td>...</td>\n",
       "      <td>...</td>\n",
       "      <td>...</td>\n",
       "      <td>...</td>\n",
       "      <td>...</td>\n",
       "      <td>...</td>\n",
       "      <td>...</td>\n",
       "      <td>...</td>\n",
       "      <td>...</td>\n",
       "      <td>...</td>\n",
       "      <td>...</td>\n",
       "      <td>...</td>\n",
       "    </tr>\n",
       "    <tr>\n",
       "      <th>8401</th>\n",
       "      <td>0342ad1a45ed41ba89dcba246a8267e5</td>\n",
       "      <td>суши мания</td>\n",
       "      <td>кафе</td>\n",
       "      <td>москва, профсоюзная улица, 56</td>\n",
       "      <td>Юго-Западный административный округ</td>\n",
       "      <td>ежедневно, 09:00–02:00</td>\n",
       "      <td>4.4</td>\n",
       "      <td>0</td>\n",
       "      <td>86.0</td>\n",
       "      <td>NaN</td>\n",
       "      <td>NaN</td>\n",
       "      <td>NaN</td>\n",
       "      <td>NaN</td>\n",
       "      <td>False</td>\n",
       "      <td>Юго-Западный</td>\n",
       "    </tr>\n",
       "    <tr>\n",
       "      <th>8402</th>\n",
       "      <td>ee6bb7c3650e47bd8186fca08eda1091</td>\n",
       "      <td>миславнес</td>\n",
       "      <td>кафе</td>\n",
       "      <td>москва, пролетарский проспект, 19, корп. 1</td>\n",
       "      <td>Южный административный округ</td>\n",
       "      <td>ежедневно, 08:00–22:00</td>\n",
       "      <td>4.8</td>\n",
       "      <td>0</td>\n",
       "      <td>150.0</td>\n",
       "      <td>NaN</td>\n",
       "      <td>NaN</td>\n",
       "      <td>NaN</td>\n",
       "      <td>NaN</td>\n",
       "      <td>False</td>\n",
       "      <td>Южный</td>\n",
       "    </tr>\n",
       "    <tr>\n",
       "      <th>8403</th>\n",
       "      <td>62e8c64d4c89467aba608e39ef87616b</td>\n",
       "      <td>самовар</td>\n",
       "      <td>кафе</td>\n",
       "      <td>москва, люблинская улица, 112а, стр. 1</td>\n",
       "      <td>Юго-Восточный административный округ</td>\n",
       "      <td>ежедневно, круглосуточно</td>\n",
       "      <td>3.9</td>\n",
       "      <td>0</td>\n",
       "      <td>150.0</td>\n",
       "      <td>NaN</td>\n",
       "      <td>Средний счёт:от 150 ₽</td>\n",
       "      <td>150.0</td>\n",
       "      <td>NaN</td>\n",
       "      <td>True</td>\n",
       "      <td>Юго-Восточный</td>\n",
       "    </tr>\n",
       "    <tr>\n",
       "      <th>8404</th>\n",
       "      <td>06a0db5ecd4842d48cd6350aa923e297</td>\n",
       "      <td>чайхана sabr</td>\n",
       "      <td>кафе</td>\n",
       "      <td>москва, люблинская улица, 112а, стр. 1</td>\n",
       "      <td>Юго-Восточный административный округ</td>\n",
       "      <td>ежедневно, круглосуточно</td>\n",
       "      <td>4.2</td>\n",
       "      <td>1</td>\n",
       "      <td>150.0</td>\n",
       "      <td>NaN</td>\n",
       "      <td>NaN</td>\n",
       "      <td>NaN</td>\n",
       "      <td>NaN</td>\n",
       "      <td>True</td>\n",
       "      <td>Юго-Восточный</td>\n",
       "    </tr>\n",
       "    <tr>\n",
       "      <th>8405</th>\n",
       "      <td>9d56f8f7a7f74df1a925bc0fd2de8aae</td>\n",
       "      <td>kebab time</td>\n",
       "      <td>кафе</td>\n",
       "      <td>москва, россошанский проезд, 6</td>\n",
       "      <td>Южный административный округ</td>\n",
       "      <td>ежедневно, круглосуточно</td>\n",
       "      <td>3.9</td>\n",
       "      <td>0</td>\n",
       "      <td>12.0</td>\n",
       "      <td>NaN</td>\n",
       "      <td>NaN</td>\n",
       "      <td>NaN</td>\n",
       "      <td>NaN</td>\n",
       "      <td>True</td>\n",
       "      <td>Южный</td>\n",
       "    </tr>\n",
       "  </tbody>\n",
       "</table>\n",
       "<p>8402 rows × 15 columns</p>\n",
       "</div>"
      ],
      "text/plain": [
       "                                    id                  name  category  \\\n",
       "0     0c3e3439a8c64ea5bf6ecd6ca6ae19f0                wowфли      кафе   \n",
       "1     045780ada3474c57a2112e505d74b633        четыре комнаты  ресторан   \n",
       "2     1070b6b59144425896c65889347fcff6                 хазри      кафе   \n",
       "3     03ac7cd772104f65b58b349dc59f03ee  dormouse coffee shop   кофейня   \n",
       "4     a163aada139c4c7f87b0b1c0b466a50f             иль марко  пиццерия   \n",
       "...                                ...                   ...       ...   \n",
       "8401  0342ad1a45ed41ba89dcba246a8267e5            суши мания      кафе   \n",
       "8402  ee6bb7c3650e47bd8186fca08eda1091             миславнес      кафе   \n",
       "8403  62e8c64d4c89467aba608e39ef87616b               самовар      кафе   \n",
       "8404  06a0db5ecd4842d48cd6350aa923e297          чайхана sabr      кафе   \n",
       "8405  9d56f8f7a7f74df1a925bc0fd2de8aae            kebab time      кафе   \n",
       "\n",
       "                                         address  \\\n",
       "0                     москва, улица дыбенко, 7/1   \n",
       "1             москва, улица дыбенко, 36, корп. 1   \n",
       "2                 москва, клязьминская улица, 15   \n",
       "3            москва, улица маршала федоренко, 12   \n",
       "4                москва, правобережная улица, 1б   \n",
       "...                                          ...   \n",
       "8401               москва, профсоюзная улица, 56   \n",
       "8402  москва, пролетарский проспект, 19, корп. 1   \n",
       "8403      москва, люблинская улица, 112а, стр. 1   \n",
       "8404      москва, люблинская улица, 112а, стр. 1   \n",
       "8405              москва, россошанский проезд, 6   \n",
       "\n",
       "                                  district  \\\n",
       "0          Северный административный округ   \n",
       "1          Северный административный округ   \n",
       "2          Северный административный округ   \n",
       "3          Северный административный округ   \n",
       "4          Северный административный округ   \n",
       "...                                    ...   \n",
       "8401   Юго-Западный административный округ   \n",
       "8402          Южный административный округ   \n",
       "8403  Юго-Восточный административный округ   \n",
       "8404  Юго-Восточный административный округ   \n",
       "8405          Южный административный округ   \n",
       "\n",
       "                                                  hours  rating  chain  seats  \\\n",
       "0                                ежедневно, 10:00–22:00     5.0      0    NaN   \n",
       "1                                ежедневно, 10:00–22:00     4.5      0    4.0   \n",
       "2     пн-чт 11:00–02:00; пт,сб 11:00–05:00; вс 11:00...     4.6      0   45.0   \n",
       "3                                ежедневно, 09:00–22:00     5.0      0    NaN   \n",
       "4                                ежедневно, 10:00–22:00     5.0      1  148.0   \n",
       "...                                                 ...     ...    ...    ...   \n",
       "8401                             ежедневно, 09:00–02:00     4.4      0   86.0   \n",
       "8402                             ежедневно, 08:00–22:00     4.8      0  150.0   \n",
       "8403                           ежедневно, круглосуточно     3.9      0  150.0   \n",
       "8404                           ежедневно, круглосуточно     4.2      1  150.0   \n",
       "8405                           ежедневно, круглосуточно     3.9      0   12.0   \n",
       "\n",
       "              price                       avg_bill  middle_avg_bill  \\\n",
       "0               NaN                            NaN              NaN   \n",
       "1     выше среднего       Средний счёт:1500–1600 ₽           1550.0   \n",
       "2           средние         Средний счёт:от 1000 ₽           1000.0   \n",
       "3               NaN  Цена чашки капучино:155–185 ₽              NaN   \n",
       "4           средние         Средний счёт:400–600 ₽            500.0   \n",
       "...             ...                            ...              ...   \n",
       "8401            NaN                            NaN              NaN   \n",
       "8402            NaN                            NaN              NaN   \n",
       "8403            NaN          Средний счёт:от 150 ₽            150.0   \n",
       "8404            NaN                            NaN              NaN   \n",
       "8405            NaN                            NaN              NaN   \n",
       "\n",
       "      middle_coffee_cup  is_24_7     district_new  \n",
       "0                   NaN    False       Северный    \n",
       "1                   NaN    False       Северный    \n",
       "2                   NaN    False       Северный    \n",
       "3                 170.0    False       Северный    \n",
       "4                   NaN    False       Северный    \n",
       "...                 ...      ...              ...  \n",
       "8401                NaN    False   Юго-Западный    \n",
       "8402                NaN    False          Южный    \n",
       "8403                NaN     True  Юго-Восточный    \n",
       "8404                NaN     True  Юго-Восточный    \n",
       "8405                NaN     True          Южный    \n",
       "\n",
       "[8402 rows x 15 columns]"
      ]
     },
     "execution_count": 85,
     "metadata": {},
     "output_type": "execute_result"
    }
   ],
   "source": [
    "df_new"
   ]
  },
  {
   "cell_type": "markdown",
   "id": "a4da66ac",
   "metadata": {},
   "source": [
    "<div class=\"alert alert-warning\">\n",
    "<font size=\"5\"><b>Комментарий ревьюераV3</b></font>\n",
    "\n",
    "\n",
    "\n",
    "Совет 🤔:\n",
    "\n",
    "\n",
    "Опять к вопросу что нужно свои комментарии подсвечивать.  Делать разбивку по именам неинтересно, ведь это уникальные значения, интересно получить какой-то агрегированный показатель.  Ниже использовал категорию\n",
    "С помощью цветов легче можем разбирать в каком округе находится самые дорогие рестораны... Самые дорогие бары...итд"
   ]
  },
  {
   "cell_type": "raw",
   "id": "d607bd0d",
   "metadata": {},
   "source": [
    "# код ревьюера\n",
    "pd.pivot_table(df_new, index='district',\n",
    "                             columns='category',\n",
    "                             values='middle_avg_bill',\n",
    "                             aggfunc='mean') .style.background_gradient(cmap='coolwarm', axis=0)"
   ]
  },
  {
   "cell_type": "code",
   "execution_count": 81,
   "id": "6e6a793d",
   "metadata": {},
   "outputs": [],
   "source": [
    "df_avg_bill = df_new.loc[df_new['middle_avg_bill']<1000]"
   ]
  },
  {
   "cell_type": "code",
   "execution_count": 82,
   "id": "0045d458",
   "metadata": {},
   "outputs": [],
   "source": [
    "avg_bill_by_district_cleaned = df_avg_bill.groupby('district')['middle_avg_bill'].mean()"
   ]
  },
  {
   "cell_type": "code",
   "execution_count": 83,
   "id": "27566a2c",
   "metadata": {},
   "outputs": [
    {
     "data": {
      "text/plain": [
       "<Axes: title={'center': 'Вариация среднего чека заведения в зависимости от района Москвы'}, xlabel='Район', ylabel='Средний чек, руб.'>"
      ]
     },
     "execution_count": 83,
     "metadata": {},
     "output_type": "execute_result"
    },
    {
     "data": {
      "image/png": "[encoded data removed]",
      "text/plain": [
       "<Figure size 720x576 with 1 Axes>"
      ]
     },
     "metadata": {
      "needs_background": "light"
     },
     "output_type": "display_data"
    }
   ],
   "source": [
    "avg_bill_by_district_cleaned.plot(kind='barh', figsize=(10,8), title='Вариация среднего чека заведения в зависимости от района Москвы',\n",
    "                         xlabel='Район', ylabel='Средний чек, руб.')"
   ]
  },
  {
   "cell_type": "markdown",
   "id": "6c988ad3",
   "metadata": {
    "id": "9b5e00a5"
   },
   "source": [
    "Средний чек по административным округам Москвы варьируется в диапазонах от 500 до 600 рублей. Самый высокий он, как и предполагалось, в ЦАО (600 руб.). На втором месте САО и ЗАО - 570 рублей. Самый низкий средний чек в ЮВАО - 500 рублей."
   ]
  },
  {
   "cell_type": "markdown",
   "id": "7651aca2",
   "metadata": {},
   "source": [
    "<div class=\"alert alert-danger\">\n",
    "<font size=\"5\"><b>Комментарий ревьюера</b></font>\n",
    "\n",
    "\n",
    "\n",
    "Ошибка ❌:\n",
    "\n",
    "\n",
    "\n",
    " \n",
    "- Верно Николай, но не хватило предварительного изучения данных на выбросы, это важно в сулчаи использования  mean, который   чувствителен к выбросам.  Так что тут стоило использовать либо медиану (или и медиану и среднюю для наглядности), либо предварительно провести изучение на выбросы, выбрать наиболее типичные значения, и построить графики и сделать выводы без их учёта. А так есть риск что мы получили искажённые данные    \n",
    "    \n",
    "     \n",
    "<div class=\"alert alert-warning\">\n",
    " \n",
    "\n",
    "\n",
    "Совет 🤔:\n",
    "\n",
    "\n",
    "- Было бы хорошо построить графики boxplot, в разбивке по округам, и   мы бы сразу увидели наличие выбросов и где именно они присутствуют, и приняли решение - а не стоит ли использовать медиану, или предварительно убрать выбросы чтобы средняя была корректной. Или \"и так сойдет\"    \n",
    "\n",
    "\n",
    "- Можно построить табличку в двойной разбивке - по округам и заведениям,  тогда мы сможем увидеть в каких округах самые дорогие рестораны, а в каком кафе итд... И для лучшего восприятия всё это раскрасить воспользовавшись  \n",
    "    \n",
    "    \n",
    "    .style.background_gradient(cmap='coolwarm', axis=1)\n",
    "\n",
    "    \n",
    "Поподробнее о [style](https://pandas.pydata.org/pandas-docs/stable/user_guide/style.html)    \n",
    "\n",
    "\n"
   ]
  },
  {
   "cell_type": "markdown",
   "id": "c150bd4f",
   "metadata": {
    "id": "c150bd4f"
   },
   "source": [
    "---\n",
    "\n",
    "### Задача 9\n",
    "\n",
    " При необходимости проведите исследования других данных и их взаимосвязи. Например, часы работы заведений или стоимость чашки кофе в зависимости от расположения или типа заведения.\n"
   ]
  },
  {
   "cell_type": "code",
   "execution_count": 88,
   "id": "5ee8b279",
   "metadata": {
    "id": "5ee8b279"
   },
   "outputs": [],
   "source": [
    "avg_coffee_by_district = df_new.groupby('district')['middle_coffee_cup'].mean()"
   ]
  },
  {
   "cell_type": "code",
   "execution_count": 89,
   "id": "c6a666d9",
   "metadata": {
    "id": "c6a666d9"
   },
   "outputs": [
    {
     "data": {
      "text/plain": [
       "<Axes: title={'center': 'Cтоимость чашки кофе в зависимости от расположения'}, xlabel='Регион', ylabel='Средняя стоимость чашки кофе, руб.'>"
      ]
     },
     "execution_count": 89,
     "metadata": {},
     "output_type": "execute_result"
    },
    {
     "data": {
      "image/png": "[encoded data removed]",
      "text/plain": [
       "<Figure size 720x576 with 1 Axes>"
      ]
     },
     "metadata": {
      "needs_background": "light"
     },
     "output_type": "display_data"
    }
   ],
   "source": [
    "avg_coffee_by_district.plot(kind='barh', figsize=(10,8), title='Cтоимость чашки кофе в зависимости от расположения',\n",
    "                           xlabel='Регион', ylabel='Средняя стоимость чашки кофе, руб.')"
   ]
  },
  {
   "cell_type": "markdown",
   "id": "46367b44",
   "metadata": {},
   "source": [
    "По данным стоимости чашки кофе в зависимости от расположения распределение уже более плавное (от 150 до 200 рублей). Хотя, как мы помним из предобработки данных, в этом столбце было очень много пропусков (порядка 90%). Поэтому подобный показетель не особо релевантен в исследовании. Тем не менее, самый дорогой кофе в ЦАО, ЗАО и ЮЗАО - 200 рублей. А самый дешевый в ЮВАО - 150 рублей."
   ]
  },
  {
   "cell_type": "code",
   "execution_count": 90,
   "id": "618096b5",
   "metadata": {
    "id": "618096b5"
   },
   "outputs": [],
   "source": [
    "places_24_7 = df_new.groupby('district')['is_24_7'].sum()"
   ]
  },
  {
   "cell_type": "code",
   "execution_count": 91,
   "id": "868db36e",
   "metadata": {},
   "outputs": [
    {
     "data": {
      "text/plain": [
       "<Axes: title={'center': 'Распределение круглосуточных заведений по регионам'}, xlabel='Регион', ylabel='Количество круглосуточных заведений'>"
      ]
     },
     "execution_count": 91,
     "metadata": {},
     "output_type": "execute_result"
    },
    {
     "data": {
      "image/png": "[encoded data removed]",
      "text/plain": [
       "<Figure size 720x576 with 1 Axes>"
      ]
     },
     "metadata": {
      "needs_background": "light"
     },
     "output_type": "display_data"
    }
   ],
   "source": [
    "places_24_7.plot(kind='barh', figsize=(10,8), title='Распределение круглосуточных заведений по регионам',\n",
    "                           xlabel='Регион', ylabel='Количество круглосуточных заведений')"
   ]
  },
  {
   "cell_type": "markdown",
   "id": "cf502cee",
   "metadata": {},
   "source": [
    "Количество круглосуточных заведений по регионам варьируется от 50 до 150. Наибольшее количество такивых заведений - в ЦАО (150). Второе место делят ЮВАО и ВАО - по 100 мест. Наименьшее число круглосуточных заведений в СЗАО - 50."
   ]
  },
  {
   "cell_type": "markdown",
   "id": "77afcdd0",
   "metadata": {},
   "source": [
    "P.S. Постараюсь учесть твои советы и провести анализ после того как сдам проект."
   ]
  },
  {
   "cell_type": "code",
   "execution_count": 60,
   "id": "dad31751",
   "metadata": {},
   "outputs": [],
   "source": [
    "df_new_pizza=df_new.loc[df_new['category']=='пиццерия']"
   ]
  },
  {
   "cell_type": "code",
   "execution_count": 62,
   "id": "34ddfdd5",
   "metadata": {},
   "outputs": [],
   "source": [
    "pizza_by_district = df_new_pizza.groupby('district')['id'].count()"
   ]
  },
  {
   "cell_type": "code",
   "execution_count": 65,
   "id": "d469b5b5",
   "metadata": {},
   "outputs": [
    {
     "data": {
      "text/plain": [
       "<AxesSubplot:title={'center':'Распределение пиццерий по регионам'}, ylabel='Регион'>"
      ]
     },
     "execution_count": 65,
     "metadata": {},
     "output_type": "execute_result"
    },
    {
     "data": {
      "image/png": "[encoded data removed]",
      "text/plain": [
       "<Figure size 720x576 with 1 Axes>"
      ]
     },
     "metadata": {
      "needs_background": "light"
     },
     "output_type": "display_data"
    }
   ],
   "source": [
    "pizza_by_district.plot(kind='barh', figsize=(10,8), title='Распределение пиццерий по регионам',\n",
    "                           xlabel='Регион', ylabel='Количество пиццерий')"
   ]
  },
  {
   "cell_type": "markdown",
   "id": "1ec1cb1a",
   "metadata": {},
   "source": [
    "  \n",
    "<div class=\"alert alert-success\">\n",
    "<font size=\"5\"><b>Комментарий ревьюера</b></font>\n",
    "\n",
    "\n",
    "\n",
    "Успех 👍:\n",
    "\n",
    "\n",
    "\n",
    " \n",
    "- плюс за дополнительное задание   \n",
    "    \n",
    "\n",
    "    \n",
    "    \n",
    "<div class=\"alert alert-warning\">\n",
    "\n",
    "\n",
    "\n",
    "Совет 🤔: \n",
    "\n",
    "\n",
    "\n",
    "какие ещё варианты можно было сделать:   \n",
    "    \n",
    "    \n",
    "- Можно было провести подробный анализ пиццерии, в частности обратив внимание где их доля в общем количество заведений по округам максимальная, а где минимальная.  Дать ему этому объяснение и дать   бизнес - предложения \n",
    "\n",
    "    \n",
    "- Писал об этом выше.  Можно заметить что  avg_bill содержит информацию  начинающую с \"Цена бокала пива\", но столбцы с   \"средняя цена пива\" нет. Можно его создать, и   провести анализ с ним (в этом случае будет больше не анализа а умение парсить данные - но это тоже полезно)    \n",
    "    \n",
    "    \n",
    "- Можно сделать проверку корректности столбца price,  насколько правильно там сделана разбивка, сделав сравнение с данными из    middle_avg_bill\tmiddle_coffee_cup     \n",
    "    \n",
    "    \n",
    "- Можно распарсить столбец hour.  Если сделать разбивку по ;,  то чем сложнее график работы (Сложно это когда для каждого дня недели   расписанные свои часы работы), тем больше будет создано столбцов. Можно потом будет посмотреть на зависимости между сложностью графика работы и другими показателями    (вряд ли тут будет что-то интересное, но можно попробовать)\n",
    "    "
   ]
  },
  {
   "cell_type": "markdown",
   "id": "f2c54e9a",
   "metadata": {
    "id": "f2c54e9a"
   },
   "source": [
    "---\n",
    "\n",
    "### Промежуточный вывод\n",
    "\n",
    "Обобщите полученные результаты, выделив, по вашему мнению, самые важные."
   ]
  },
  {
   "cell_type": "markdown",
   "id": "43ed6a79",
   "metadata": {
    "id": "8bc2e63d"
   },
   "source": [
    "1) Самые популярные категории - кафе и рестораны, наименее популярные - столовые и булочные.\n",
    "\n",
    "\n",
    "2) Самый популярный округ по количеству заведений - ЦАО, наименее популярный - СЗАО.\n",
    "\n",
    "\n",
    "3) Распределение несетевых заведений по категориям гораздо больше. За исключением пиццерий и кофейн, где эти соотношения примерно равны, но доля сетевых чуть больше и в булочных, где доля сетевых значительно выше.\n",
    "\n",
    "\n",
    "4) Большая часть заведений располагает посадочными местами в диапазоне от 50 до 100 мест, а основная часть варьируется в промежутке от 0 до 300 посадочных мест.\n",
    "\n",
    "\n",
    "5) В целом рейтинги внутри категорий варьируются в не особо больших амплитудах - от 4 до 4,4. Самый высокий рейтинг у баров. Самый низкий у заведений быстрого питания и у кафе.\n",
    "\n",
    "\n",
    "6) В целом наблюдается довольно низкая корреляция между рейтингами и прочими рассмотренными категориями.\n",
    "\n",
    "\n",
    "7) Среди топ-15 самых популярных сетевых заведений самое популярное - Шоколадница. В целом большинство мест из списка относятся к категориям кофейн или ресторанов. Рейтинг топ-15 сетевых заведений варьируется в значениях от 3,9 до примерно 4,4. \n",
    "\n",
    "\n",
    "8) Средний чек по административным округам Москвы варьируется в диапазонах от 500 до 700 рублей. Самый высокий он в ЦАО. Самый низкий средний чек в ЮВАО.\n",
    "\n",
    "\n",
    "9) Количество круглосуточных заведений по регионам варьируется от 50 до 150. Наибольшее количество их - в ЦАО. Наименьшее - в СЗАО."
   ]
  },
  {
   "cell_type": "markdown",
   "id": "480f3422",
   "metadata": {
    "id": "480f3422"
   },
   "source": [
    "## 4. Итоговый вывод и рекомендации\n",
    "\n",
    "По результатам проведённого исследовательского анализа данных сформулируйте итоговый вывод и рекомендации для заказчика. Старайтесь акцентировать внимание на ключевых моментах исследования.\n",
    "\n",
    "При составлении вывода придерживайтесь такой структуры:\n",
    "\n",
    "1. Общий обзор проделанной работы.\n",
    "2. Ответы на исследовательские вопросы, или главные выводы.\n",
    "3. Рекомендации на основе анализа данных."
   ]
  },
  {
   "cell_type": "markdown",
   "id": "04090d29",
   "metadata": {},
   "source": [
    "I) Общий обзор проделанной работы.\n",
    "\n",
    "Был проведен исследовательский анализ рынка заведений общественного питания Москвы. \n",
    "\n",
    "Для этого были проделаны следующие шаги:\n",
    "\n",
    "1) Были проверены данные на корректность и были объединены 2 датасета;\n",
    "\n",
    "2) Проведена предобработотка данных: обнаружены и предобработаны пропуски, сделаны корректными типы данных, проверены данные на явные и неявные дубликаты.\n",
    "\n",
    "Все пропуски было решено оставить как есть.\n",
    "\n",
    "\n",
    "В ходе поисков дубликатов было найдено 4 неявных дубликатов по адресу и названию. Это чуть меньше 0,05% от всего массива данных. Также были заменены пропуски в столбцах \"middle_avg_bill\" и \"hours\" на медианные значения. Данные в столбце \"chain\" были приведены к менее массивным данным. А в столбце 'seats' - к целочисленным данным.\n",
    "\n",
    "Также был создан столбец is_24_7 с обозначением того, что заведение работает ежедневно и круглосуточно, то есть 24/7.\n",
    "\n",
    "3) Был проведен исследовательский анализ данных:\n",
    "\n",
    "Исследовано количество объектов по каждой категории. \n",
    "\n",
    "Исследовано распределение количества заведений по административным районам Москвы, а также отдельно распределение заведений каждой категории в Центральном административном округе Москвы.\n",
    "\n",
    "Изучено соотношение сетевых и несетевых заведений в целом по всем данным и в разрезе категорий заведения.\n",
    "\n",
    "Исследовано количество посадочных мест в заведениях.\n",
    "\n",
    "Исследован рейтинг заведений.\n",
    "\n",
    "Построена матрица корреляции рейтинга заведения с разными данными и выявлено, какие из этих данных наибольшим образом влияют на рейтинг.\n",
    "\n",
    "Найдено топ-15 популярных сетей в Москве.\n",
    "\n",
    "Изучена вариация среднего чека заведения в зависимости от района Москвы."
   ]
  },
  {
   "cell_type": "markdown",
   "id": "9d7a6fd9",
   "metadata": {},
   "source": [
    "II) Ответы на исследовательские вопросы, или главные выводы.\n",
    "\n",
    "1) В Москве больше всего кафе и ресторанов. И того и другого более 2000. Меньше всего столовых и булочных. Их меньше 500 на каждую категорию. На третьем месте по популярности выделяются кофейни. Их чуть менее 1500 штук.\n",
    "\n",
    "2) По количеству объектов общественного питания по округам явно лидирует Центральный. Там их более 2000. Значительно меньше в сравнении с остальными округами количество заведений в Северо-западном округе. Их там около 500. Распределение по остальным округам достаточно равномерное и находится в пределах от 750 до 1000.\n",
    "\n",
    "3) Самая популярная категория в ЦАО - рестораны. Их здесь более 650. Меньше всего здесь булочных и столовых - около 50 на каждую категорию. Заведений быстрого питания и пиццерий тоже немного - около 100 на каждую категорию. Количество заведений по остальным категориям в ЦАО варьируются от 350 до 450 штук внутри каждой категории.\n",
    "\n",
    "4) Распределение несетевых заведений по категориям гораздо больше. За исключением пиццерий и кофейн, где эти соотношения примерно равны, но доля сетевых чуть больше и в булочных, где доля сетевых значительно выше.\n",
    "\n",
    "5) Видно крайне неравномерное распределение сидячих мест по ресторанам и сильное смещение в область с низкими значениями. Большая часть заведений располагает посадочными местами в диапазоне от 50 до 100 мест, а основная часть варьируется в промежутке от 0 до 300 посадочных мест. Также в выборке очень много выбросов с высокими значениями. Самый высокий из которых имеет значение более 1300.\n",
    "\n",
    "6) По распределению посадочных мест по категориям видна довольно ровная картина. Больше всего посадочных мест у баров - более 120, примерно столько же у ресторанов. Меньше всего у булочных и пиццерий - порядка 90 на каждую категорию.\n",
    "\n",
    "7) В целом рейтинги внутри категорий варьируются в не особо больших амплитудах - от примерно 4,05 до примерно 4,38. Самый высокий рейтинг у баров - 4,38. Это логично, ведь там люди выпивают и в хорошем расположении духа охотнее ставят заведению высокую оценку. Самый низкий у заведений быстрого питания (4,05) и у кафе (4,12). Что тоже логично, ведь подобные заведения относятся к более дешевым и, следовательно, их качество значительно уступает. Людям свойственно критическое отношение несмотря на желание сэкономить. У остальных категорий заведений рейтинг примерно одинаковый и варьируется в пределах от 4,22 до 4,3.\n",
    "\n",
    "8) В целом наблюдается довольно низкая взаимосвязь между рейтингами и прочими рассмотренными категориями (категория, положение (административный район Москвы), статус сетевого заведения, количество мест, ценовая категория и признак, является ли заведения круглосуточным). Наибольшую зависимость рейтинга показывают такие параметры как категория цены, район и категория заведения (коэффициент корреляции - от 0,19 до 0,22). Наименьшую - количество посадочных мест. Здесь коэффициент корреляции близок к нулю.\n",
    "\n",
    "9) Среди топ-15 самых популярных сетевых заведений самое популярное - Шоколадница, относящееся к категории кофейня. Число таких заведений сильно лидирует на фоне остальных. Их в Москве чуть меньше 120. Тогда как второе заведение в списке топ-15 - пиццерия \"Домино'с пицца\" насчитывает менее 80 мест. В целом большинство мест из списка относятся к категориям кофейн или ресторанов. Присутствует пара пиццерий, 3 кафе и одна булочная.\n",
    "\n",
    "10) Рейтинг топ-15 сетевых заведений варьируется в значениях от 3,9 до примерно 4,4. Явный лидер здесь как и в количестве заведений - Кофемания (4,4). Также более высокие рейтинги на фоне остальных показывают булочная \"Буханка\" и кафе \"Кулинарная лавка братьев Караваевых\" (тоже примерно 4,4). Самые низкие рейтинг у кафе Чайхана\" (4) и у ресторана \"Яндекс лавка\" (3,9) (кстати, странно, что \"Яндекс лавка\" попала в категорию ресторанов, когда логичнее было бы ее отнести к заведениям быстрого питания).\n",
    "\n",
    "11) Средний чек по административным округам Москвы варьируется в диапазонах от 500 до 700 рублей. Самый высокий он, как и предполагалось, в ЦАО (700 руб.). Самый низкий средний чек в ЮВАО - 500 рублей.\n",
    "\n",
    "12) По данным стоимости чашки кофе в зависимости от расположения распределение уже более плавное (от 150 до 200 рублей). Хотя, как мы помним из предобработки данных, в этом столбце было очень много пропусков (порядка 90%). Поэтому подобный показетель не особо релевантен в исследовании. Тем не менее, самый дорогой кофе в ЦАО, ЗАО и ЮЗАО - 200 рублей. А самый дешевый в ЮВАО - 150 рублей.\n",
    "\n",
    "13) Количество круглосуточных заведений по регионам варьируется от 50 до 150. Наибольшее количество таковых заведений - в ЦАО (150). Второе место делят ЮВАО и ВАО - по 100 мест. Наименьшее число круглосуточных заведений в СЗАО - 50."
   ]
  },
  {
   "cell_type": "markdown",
   "id": "f047df2a",
   "metadata": {},
   "source": [
    "III) Рекомендации на основе анализа данных.\n",
    "\n",
    "1) Категория заведения. Судя по анализу самые популярные заведения - рестораны и кафе. То есть их уже довольно много, и в этой категории может быть большая конкуренция. В свою очередь баров довольно мало. У этой категории в среднем самый высокий рейтинг. В этой категории мало сетевых точек, а значит здесь ниже мнополия. Так что на основе проделанного анализа будет рекомендация - октрывать заведение в категории бар.\n",
    "\n",
    "\n",
    "2) Местоположение. Наименьшее количество заведений расположено в СЗАО. Соответвенно, там меньше конкуренция. Так же средний чек там не слишком высок и не слишком низок. Можно будет \"прощупать\" свою аудиторию на будущую платежеспособность. К тому же СЗАО считается довольно благополучным округом Москвы. В анализе не было множества данных вроде стоимости аренды помещений, средней заработной платы по округам и прочих факторов, которые также могут повляить на финальное решение. Но на основе имеющийся информации рекомендовано разместить новое заведение в СЗАО.\n",
    "\n",
    "\n",
    "3) Цены. Как видно из анализа средний чек в целом по заведениям невысок и находится в не слишком больших расзбросах по округам. Рекомендовано на первых порах сделать чек в заведении ниже среднего.\n",
    "\n",
    "\n",
    "4) Количество сидячих мест. Большая часть заведений в выборке располагает посадочными местами в диапазоне от 50 до 100 мест. Рекомнедовано придерживаться данных величин либо меньше."
   ]
  },
  {
   "cell_type": "markdown",
   "id": "bb6a9a43",
   "metadata": {},
   "source": [
    "\n",
    "<div class=\"alert alert-success\">\n",
    "<font size=\"5\"><b>Комментарий ревьюера</b></font>\n",
    "\n",
    "\n",
    "\n",
    "Успех 👍:\n",
    "\n",
    "\n",
    "\n",
    "Здорово что оценены переспективы открытия заведений с точки зрения популярности, среднего чека,  местоположения, уровня конкуренции,  категории.  \n",
    "\n",
    "Ещё можно было посмотреть на матрицу корреляций, какие именно параметры важны для высокого рейтинга.  Судя по нему количество мест никак не связано с рейтингом\n",
    " "
   ]
  },
  {
   "cell_type": "markdown",
   "id": "f27999ae",
   "metadata": {},
   "source": [
    "\n",
    "<div class=\"alert alert-info\">\n",
    "<font size=\"5\"><b>Комментарий ревьюера</b></font>\n",
    "\n",
    "\n",
    "Николай, у тебя старательно выполненная работа, все четко, осмысленно. Выводы присутствуют, они четкие и подробные, графики оформлены аккуратно. \n",
    "\n",
    " \n",
    "\n",
    "Нет проблем с комментированием кода, тем кто  будет работать с твоим кодом, будет понятен ход твоих мыслей и логика\n",
    "    \n",
    "\n",
    "Хорошая работа с данными, поддерживаю что не стал использовать заглушку где не нужно\n",
    "\n",
    "    \n",
    "\n",
    "\n",
    "Плюс за выполнение задания 9  \n",
    "       \n",
    "     \n",
    "Я оставил небольшие советы (если есть время и желание можешь воспользоваться) \n",
    "    \n",
    "\n",
    "Обязательное к исправлению:\n",
    "\n",
    "       \n",
    "- Допускаешь очень сильное искажение данных путём заполнения пропусков \n",
    "    \n",
    "    \n",
    "    \n",
    "- В пункте is_24_7, ещё учитываем 'Ежедневно'\n",
    "\n",
    "\n",
    "- У нас строгие критерии оформления графиков: должны присутствовать надписи по Осям, загаловки, легенды (если надо)    \n",
    "\n",
    "    \n",
    "    \n",
    "- Когда нас спросят оценить долю сетевых, стоит предварительно нормализовать данные, и сделать сортировку.  И тогда мы сразу сможем сказать  где доля выше, а где ниже\n",
    "    \n",
    "\n",
    " \n",
    "- В задание нас просят проанализировать признак который имеет самую высокую корреляцию  с рейтингом, а это price\n",
    "    \n",
    "    \n",
    "  \n",
    "- Нас просят найти топ-15 популярных сетевых,  и для них посмотреть рейтинг (Не забываем предварительно отфильтровать данные по сеть = TRUE)\n",
    "       \n",
    "    \n",
    "    \n",
    "- Если у нас в данных явные выбросы, стоит воздерживаться от подсчёта средней. Стоит посчитать медиану, или посчитать среднюю без учёта выбросов    \n",
    "    \n",
    " \n",
    "    \n",
    "    \n",
    "Жду исправлений, для принятия проекта. Если какие то вопросы, то сразу спрашивай ) \n",
    "\n",
    "\n",
    "</div>\n"
   ]
  },
  {
   "cell_type": "markdown",
   "id": "ef22317e",
   "metadata": {},
   "source": [
    "\n",
    "<div class=\"alert alert-info\">\n",
    "<font size=\"5\"><b>Комментарий ревьюераV2</b></font>\n",
    "\n",
    "Спасибо за работу!    \n",
    " \n",
    "    \n",
    "Жду проект который полностью отработает от начала до конца.  Проект исполнение которого прерывается, присылать не стоит    "
   ]
  },
  {
   "cell_type": "markdown",
   "id": "d2883832",
   "metadata": {},
   "source": [
    "\n",
    "<div class=\"alert alert-info\">\n",
    "<font size=\"5\"><b>Комментарий ревьюераV3</b></font>\n",
    "\n",
    "Спасибо за работу!    Постарался ответить на твои вопросы (те что нашёл)\n",
    "\n",
    "    \n",
    "Красное исправлено. Надеюсь мои советы и вопросики были полезны и в копилочку знаний упало что то новое, а проект стал лучше, и симпатичней.\n",
    "\n",
    "\n",
    " \n",
    "  \n",
    "Отличная работа  Николай. Желаю успехов в дальнейшей учебе!\n",
    "\n",
    " \n",
    "\n",
    "</div>"
   ]
  },
  {
   "cell_type": "code",
   "execution_count": null,
   "id": "1102798d",
   "metadata": {},
   "outputs": [],
   "source": []
  }
 ],
 "metadata": {
  "ExecuteTimeLog": [
   {
    "duration": 49,
    "start_time": "2025-02-09T11:18:21.272Z"
   },
   {
    "duration": 6,
    "start_time": "2025-02-09T11:18:43.830Z"
   },
   {
    "duration": 19,
    "start_time": "2025-02-09T11:18:53.443Z"
   },
   {
    "duration": 6,
    "start_time": "2025-02-09T11:19:04.576Z"
   },
   {
    "duration": 6,
    "start_time": "2025-02-09T11:19:19.210Z"
   },
   {
    "duration": 6,
    "start_time": "2025-02-09T11:19:25.417Z"
   },
   {
    "duration": 6,
    "start_time": "2025-02-09T11:19:40.862Z"
   },
   {
    "duration": 6,
    "start_time": "2025-02-09T11:19:44.306Z"
   },
   {
    "duration": 7,
    "start_time": "2025-02-09T11:20:10.509Z"
   },
   {
    "duration": 6,
    "start_time": "2025-02-09T11:21:20.107Z"
   },
   {
    "duration": 6,
    "start_time": "2025-02-09T11:21:57.928Z"
   },
   {
    "duration": 6,
    "start_time": "2025-02-09T11:22:18.115Z"
   },
   {
    "duration": 5,
    "start_time": "2025-02-09T11:24:42.822Z"
   },
   {
    "duration": 6,
    "start_time": "2025-02-09T11:24:47.467Z"
   },
   {
    "duration": 6,
    "start_time": "2025-02-09T11:24:47.696Z"
   },
   {
    "duration": 8,
    "start_time": "2025-02-09T11:24:51.495Z"
   },
   {
    "duration": 7,
    "start_time": "2025-02-09T11:24:57.700Z"
   },
   {
    "duration": 9,
    "start_time": "2025-02-09T11:39:39.385Z"
   },
   {
    "duration": 6,
    "start_time": "2025-02-09T11:39:56.608Z"
   },
   {
    "duration": 452,
    "start_time": "2025-02-09T11:39:59.365Z"
   },
   {
    "duration": 143,
    "start_time": "2025-02-09T11:40:03.847Z"
   },
   {
    "duration": 56,
    "start_time": "2025-02-09T11:40:06.823Z"
   },
   {
    "duration": 25,
    "start_time": "2025-02-09T11:40:09.746Z"
   },
   {
    "duration": 465,
    "start_time": "2025-02-09T11:41:06.300Z"
   },
   {
    "duration": 565,
    "start_time": "2025-02-09T11:41:09.163Z"
   },
   {
    "duration": 74,
    "start_time": "2025-02-09T11:41:11.941Z"
   },
   {
    "duration": 180,
    "start_time": "2025-02-09T11:41:16.145Z"
   },
   {
    "duration": 63,
    "start_time": "2025-02-09T11:41:19.024Z"
   },
   {
    "duration": 15,
    "start_time": "2025-02-09T11:41:22.379Z"
   },
   {
    "duration": 17,
    "start_time": "2025-02-09T11:41:25.413Z"
   },
   {
    "duration": 24,
    "start_time": "2025-02-09T11:41:40.185Z"
   },
   {
    "duration": 20,
    "start_time": "2025-02-09T11:42:04.962Z"
   },
   {
    "duration": 9,
    "start_time": "2025-02-09T13:13:44.553Z"
   },
   {
    "duration": 12,
    "start_time": "2025-02-09T13:14:03.000Z"
   },
   {
    "duration": 17,
    "start_time": "2025-02-09T13:14:21.178Z"
   },
   {
    "duration": 15,
    "start_time": "2025-02-09T13:14:49.361Z"
   },
   {
    "duration": 5,
    "start_time": "2025-02-09T13:24:36.487Z"
   },
   {
    "duration": 8,
    "start_time": "2025-02-09T13:24:53.304Z"
   },
   {
    "duration": 4,
    "start_time": "2025-02-09T13:26:30.145Z"
   },
   {
    "duration": 21,
    "start_time": "2025-02-09T13:27:21.014Z"
   },
   {
    "duration": 4,
    "start_time": "2025-02-09T13:27:29.269Z"
   },
   {
    "duration": 9,
    "start_time": "2025-02-09T13:28:00.834Z"
   },
   {
    "duration": 10,
    "start_time": "2025-02-09T13:28:12.475Z"
   },
   {
    "duration": 13,
    "start_time": "2025-02-09T13:29:01.166Z"
   },
   {
    "duration": 18,
    "start_time": "2025-02-09T13:29:36.657Z"
   },
   {
    "duration": 16,
    "start_time": "2025-02-09T13:29:43.650Z"
   },
   {
    "duration": 16,
    "start_time": "2025-02-09T13:29:47.688Z"
   },
   {
    "duration": 11,
    "start_time": "2025-02-09T13:29:56.361Z"
   },
   {
    "duration": 11,
    "start_time": "2025-02-09T13:29:58.518Z"
   },
   {
    "duration": 11,
    "start_time": "2025-02-09T14:07:26.269Z"
   },
   {
    "duration": 17,
    "start_time": "2025-02-09T14:08:28.046Z"
   },
   {
    "duration": 9,
    "start_time": "2025-02-09T14:08:53.060Z"
   },
   {
    "duration": 48,
    "start_time": "2025-02-10T07:44:41.347Z"
   },
   {
    "duration": 6,
    "start_time": "2025-02-10T07:44:50.345Z"
   },
   {
    "duration": 410,
    "start_time": "2025-02-10T07:44:58.178Z"
   },
   {
    "duration": 405,
    "start_time": "2025-02-10T07:44:59.072Z"
   },
   {
    "duration": 570,
    "start_time": "2025-02-10T07:44:59.839Z"
   },
   {
    "duration": 60,
    "start_time": "2025-02-10T07:45:02.352Z"
   },
   {
    "duration": 147,
    "start_time": "2025-02-10T07:45:05.011Z"
   },
   {
    "duration": 73,
    "start_time": "2025-02-10T07:45:05.698Z"
   },
   {
    "duration": 31,
    "start_time": "2025-02-10T07:45:08.935Z"
   },
   {
    "duration": 20,
    "start_time": "2025-02-10T07:45:10.058Z"
   },
   {
    "duration": 12,
    "start_time": "2025-02-10T07:45:12.973Z"
   },
   {
    "duration": 16,
    "start_time": "2025-02-10T07:45:14.011Z"
   },
   {
    "duration": 17,
    "start_time": "2025-02-10T07:45:15.090Z"
   },
   {
    "duration": 5,
    "start_time": "2025-02-10T07:45:17.695Z"
   },
   {
    "duration": 7,
    "start_time": "2025-02-10T07:45:20.245Z"
   },
   {
    "duration": 8,
    "start_time": "2025-02-10T07:45:42.222Z"
   },
   {
    "duration": 5,
    "start_time": "2025-02-10T07:57:29.302Z"
   },
   {
    "duration": 6,
    "start_time": "2025-02-10T07:57:46.028Z"
   },
   {
    "duration": 6,
    "start_time": "2025-02-10T07:58:06.237Z"
   },
   {
    "duration": 4,
    "start_time": "2025-02-10T07:58:11.356Z"
   },
   {
    "duration": 10,
    "start_time": "2025-02-10T07:58:15.739Z"
   },
   {
    "duration": 10,
    "start_time": "2025-02-10T07:58:57.763Z"
   },
   {
    "duration": 1235,
    "start_time": "2025-02-10T08:00:44.101Z"
   },
   {
    "duration": 1013,
    "start_time": "2025-02-10T08:00:52.598Z"
   },
   {
    "duration": 5,
    "start_time": "2025-02-10T08:01:07.190Z"
   },
   {
    "duration": 7,
    "start_time": "2025-02-10T08:01:17.216Z"
   },
   {
    "duration": 6,
    "start_time": "2025-02-10T08:01:38.823Z"
   },
   {
    "duration": 10,
    "start_time": "2025-02-10T08:02:04.807Z"
   },
   {
    "duration": 4,
    "start_time": "2025-02-10T08:02:53.262Z"
   },
   {
    "duration": 11,
    "start_time": "2025-02-10T08:02:57.039Z"
   },
   {
    "duration": 15,
    "start_time": "2025-02-10T08:02:58.588Z"
   },
   {
    "duration": 7,
    "start_time": "2025-02-10T08:03:29.724Z"
   },
   {
    "duration": 8,
    "start_time": "2025-02-10T08:03:44.279Z"
   },
   {
    "duration": 4,
    "start_time": "2025-02-10T08:04:09.054Z"
   },
   {
    "duration": 13,
    "start_time": "2025-02-10T08:04:10.246Z"
   },
   {
    "duration": 14,
    "start_time": "2025-02-10T08:04:37.578Z"
   },
   {
    "duration": 17,
    "start_time": "2025-02-10T08:04:38.484Z"
   },
   {
    "duration": 4,
    "start_time": "2025-02-10T08:04:44.517Z"
   },
   {
    "duration": 4,
    "start_time": "2025-02-10T08:05:54.951Z"
   },
   {
    "duration": 11,
    "start_time": "2025-02-10T08:06:17.700Z"
   },
   {
    "duration": 10,
    "start_time": "2025-02-10T08:06:51.987Z"
   },
   {
    "duration": 10,
    "start_time": "2025-02-10T08:06:57.020Z"
   },
   {
    "duration": 4,
    "start_time": "2025-02-10T08:07:01.719Z"
   },
   {
    "duration": 10,
    "start_time": "2025-02-10T08:07:04.807Z"
   },
   {
    "duration": 19,
    "start_time": "2025-02-10T08:11:21.850Z"
   },
   {
    "duration": 11,
    "start_time": "2025-02-10T08:16:47.706Z"
   },
   {
    "duration": 10,
    "start_time": "2025-02-10T08:16:53.692Z"
   },
   {
    "duration": 8,
    "start_time": "2025-02-10T08:18:38.593Z"
   },
   {
    "duration": 15,
    "start_time": "2025-02-10T08:19:21.890Z"
   },
   {
    "duration": 15,
    "start_time": "2025-02-10T08:19:36.283Z"
   },
   {
    "duration": 6,
    "start_time": "2025-02-10T08:21:30.833Z"
   },
   {
    "duration": 9,
    "start_time": "2025-02-10T08:22:40.947Z"
   },
   {
    "duration": 28,
    "start_time": "2025-02-10T08:22:55.746Z"
   },
   {
    "duration": 5,
    "start_time": "2025-02-10T08:23:25.340Z"
   },
   {
    "duration": 14,
    "start_time": "2025-02-10T08:24:21.410Z"
   },
   {
    "duration": 5,
    "start_time": "2025-02-10T08:24:26.325Z"
   },
   {
    "duration": 5,
    "start_time": "2025-02-10T08:24:31.005Z"
   },
   {
    "duration": 11,
    "start_time": "2025-02-10T08:24:32.368Z"
   },
   {
    "duration": 1276,
    "start_time": "2025-02-10T08:25:05.569Z"
   },
   {
    "duration": 6,
    "start_time": "2025-02-10T08:25:20.893Z"
   },
   {
    "duration": 1026,
    "start_time": "2025-02-10T08:25:37.535Z"
   },
   {
    "duration": 11,
    "start_time": "2025-02-10T08:25:47.947Z"
   },
   {
    "duration": 30,
    "start_time": "2025-02-10T08:26:17.599Z"
   },
   {
    "duration": 10,
    "start_time": "2025-02-10T08:26:27.970Z"
   },
   {
    "duration": 9,
    "start_time": "2025-02-10T08:26:41.452Z"
   },
   {
    "duration": 6,
    "start_time": "2025-02-10T08:26:43.650Z"
   },
   {
    "duration": 4,
    "start_time": "2025-02-10T08:26:46.839Z"
   },
   {
    "duration": 8,
    "start_time": "2025-02-10T08:26:50.456Z"
   },
   {
    "duration": 5,
    "start_time": "2025-02-10T08:26:58.995Z"
   },
   {
    "duration": 10,
    "start_time": "2025-02-10T08:27:03.509Z"
   },
   {
    "duration": 10,
    "start_time": "2025-02-10T08:27:07.643Z"
   },
   {
    "duration": 16,
    "start_time": "2025-02-10T08:27:21.408Z"
   },
   {
    "duration": 9,
    "start_time": "2025-02-10T08:28:24.429Z"
   },
   {
    "duration": 8,
    "start_time": "2025-02-10T08:28:28.500Z"
   },
   {
    "duration": 6,
    "start_time": "2025-02-10T08:35:52.839Z"
   },
   {
    "duration": 54,
    "start_time": "2025-02-10T08:37:56.568Z"
   },
   {
    "duration": 62,
    "start_time": "2025-02-10T08:38:21.766Z"
   },
   {
    "duration": 55,
    "start_time": "2025-02-10T08:38:34.464Z"
   },
   {
    "duration": 9,
    "start_time": "2025-02-10T08:44:26.898Z"
   },
   {
    "duration": 11,
    "start_time": "2025-02-10T08:44:45.601Z"
   },
   {
    "duration": 63,
    "start_time": "2025-02-10T08:45:11.936Z"
   },
   {
    "duration": 52,
    "start_time": "2025-02-10T08:45:46.185Z"
   },
   {
    "duration": 52,
    "start_time": "2025-02-10T08:47:24.198Z"
   },
   {
    "duration": 67,
    "start_time": "2025-02-10T08:48:06.948Z"
   },
   {
    "duration": 63,
    "start_time": "2025-02-10T08:48:25.452Z"
   },
   {
    "duration": 50,
    "start_time": "2025-02-10T08:48:28.463Z"
   },
   {
    "duration": 3,
    "start_time": "2025-02-10T08:48:45.411Z"
   },
   {
    "duration": 50,
    "start_time": "2025-02-10T08:48:51.860Z"
   },
   {
    "duration": 925,
    "start_time": "2025-02-10T08:49:01.128Z"
   },
   {
    "duration": 1142,
    "start_time": "2025-02-10T08:49:44.639Z"
   },
   {
    "duration": 1390,
    "start_time": "2025-02-10T08:50:03.915Z"
   },
   {
    "duration": 698,
    "start_time": "2025-02-10T08:54:45.856Z"
   },
   {
    "duration": 683,
    "start_time": "2025-02-10T08:55:16.070Z"
   },
   {
    "duration": 5,
    "start_time": "2025-02-10T08:56:28.268Z"
   },
   {
    "duration": 4,
    "start_time": "2025-02-10T08:56:56.433Z"
   },
   {
    "duration": 4,
    "start_time": "2025-02-10T08:57:07.360Z"
   },
   {
    "duration": 10,
    "start_time": "2025-02-10T09:09:36.220Z"
   },
   {
    "duration": 13,
    "start_time": "2025-02-10T09:13:07.955Z"
   },
   {
    "duration": 428,
    "start_time": "2025-02-10T09:13:29.640Z"
   },
   {
    "duration": 265,
    "start_time": "2025-02-10T09:13:30.070Z"
   },
   {
    "duration": 585,
    "start_time": "2025-02-10T09:13:30.337Z"
   },
   {
    "duration": 109,
    "start_time": "2025-02-10T09:13:30.924Z"
   },
   {
    "duration": 0,
    "start_time": "2025-02-10T09:13:31.035Z"
   },
   {
    "duration": 0,
    "start_time": "2025-02-10T09:13:31.036Z"
   },
   {
    "duration": 0,
    "start_time": "2025-02-10T09:13:31.037Z"
   },
   {
    "duration": 0,
    "start_time": "2025-02-10T09:13:31.038Z"
   },
   {
    "duration": 0,
    "start_time": "2025-02-10T09:13:31.040Z"
   },
   {
    "duration": 0,
    "start_time": "2025-02-10T09:13:31.041Z"
   },
   {
    "duration": 0,
    "start_time": "2025-02-10T09:13:31.042Z"
   },
   {
    "duration": 0,
    "start_time": "2025-02-10T09:13:31.044Z"
   },
   {
    "duration": 0,
    "start_time": "2025-02-10T09:13:31.045Z"
   },
   {
    "duration": 0,
    "start_time": "2025-02-10T09:13:31.046Z"
   },
   {
    "duration": 0,
    "start_time": "2025-02-10T09:13:31.047Z"
   },
   {
    "duration": 0,
    "start_time": "2025-02-10T09:13:31.048Z"
   },
   {
    "duration": 0,
    "start_time": "2025-02-10T09:13:31.049Z"
   },
   {
    "duration": 0,
    "start_time": "2025-02-10T09:13:31.075Z"
   },
   {
    "duration": 0,
    "start_time": "2025-02-10T09:13:31.076Z"
   },
   {
    "duration": 0,
    "start_time": "2025-02-10T09:13:31.077Z"
   },
   {
    "duration": 1,
    "start_time": "2025-02-10T09:13:31.078Z"
   },
   {
    "duration": 0,
    "start_time": "2025-02-10T09:13:31.079Z"
   },
   {
    "duration": 0,
    "start_time": "2025-02-10T09:13:31.080Z"
   },
   {
    "duration": 0,
    "start_time": "2025-02-10T09:13:31.081Z"
   },
   {
    "duration": 0,
    "start_time": "2025-02-10T09:13:31.082Z"
   },
   {
    "duration": 0,
    "start_time": "2025-02-10T09:13:31.084Z"
   },
   {
    "duration": 0,
    "start_time": "2025-02-10T09:13:31.085Z"
   },
   {
    "duration": 0,
    "start_time": "2025-02-10T09:13:31.086Z"
   },
   {
    "duration": 0,
    "start_time": "2025-02-10T09:13:31.087Z"
   },
   {
    "duration": 2,
    "start_time": "2025-02-10T09:13:36.331Z"
   },
   {
    "duration": 3,
    "start_time": "2025-02-10T09:13:37.001Z"
   },
   {
    "duration": 3,
    "start_time": "2025-02-10T09:13:37.641Z"
   },
   {
    "duration": 9,
    "start_time": "2025-02-10T09:13:39.611Z"
   },
   {
    "duration": 140,
    "start_time": "2025-02-10T09:13:43.779Z"
   },
   {
    "duration": 86,
    "start_time": "2025-02-10T09:13:44.449Z"
   },
   {
    "duration": 29,
    "start_time": "2025-02-10T09:13:45.876Z"
   },
   {
    "duration": 21,
    "start_time": "2025-02-10T09:13:46.630Z"
   },
   {
    "duration": 6,
    "start_time": "2025-02-10T09:13:50.659Z"
   },
   {
    "duration": 8,
    "start_time": "2025-02-10T09:13:51.601Z"
   },
   {
    "duration": 5,
    "start_time": "2025-02-10T09:13:53.906Z"
   },
   {
    "duration": 11,
    "start_time": "2025-02-10T09:13:54.815Z"
   },
   {
    "duration": 15,
    "start_time": "2025-02-10T09:13:56.076Z"
   },
   {
    "duration": 17,
    "start_time": "2025-02-10T09:13:56.898Z"
   },
   {
    "duration": 4,
    "start_time": "2025-02-10T09:13:59.876Z"
   },
   {
    "duration": 10,
    "start_time": "2025-02-10T09:14:02.137Z"
   },
   {
    "duration": 12,
    "start_time": "2025-02-10T09:14:03.230Z"
   },
   {
    "duration": 4,
    "start_time": "2025-02-10T09:14:05.248Z"
   },
   {
    "duration": 10,
    "start_time": "2025-02-10T09:14:06.653Z"
   },
   {
    "duration": 17,
    "start_time": "2025-02-10T09:14:09.300Z"
   },
   {
    "duration": 15,
    "start_time": "2025-02-10T09:14:10.896Z"
   },
   {
    "duration": 14,
    "start_time": "2025-02-10T09:14:11.979Z"
   },
   {
    "duration": 9,
    "start_time": "2025-02-10T09:14:13.397Z"
   },
   {
    "duration": 3,
    "start_time": "2025-02-10T09:14:23.518Z"
   },
   {
    "duration": 808,
    "start_time": "2025-02-10T09:14:24.302Z"
   },
   {
    "duration": 5,
    "start_time": "2025-02-10T09:14:28.387Z"
   },
   {
    "duration": 4,
    "start_time": "2025-02-10T09:14:30.276Z"
   },
   {
    "duration": 5,
    "start_time": "2025-02-10T09:14:32.410Z"
   },
   {
    "duration": 702,
    "start_time": "2025-02-10T09:16:29.161Z"
   },
   {
    "duration": 803,
    "start_time": "2025-02-10T09:16:42.500Z"
   },
   {
    "duration": 703,
    "start_time": "2025-02-10T09:16:49.725Z"
   },
   {
    "duration": 743,
    "start_time": "2025-02-10T09:17:04.030Z"
   },
   {
    "duration": 729,
    "start_time": "2025-02-10T09:17:14.440Z"
   },
   {
    "duration": 7,
    "start_time": "2025-02-10T09:19:19.564Z"
   },
   {
    "duration": 9,
    "start_time": "2025-02-10T09:22:45.891Z"
   },
   {
    "duration": 6,
    "start_time": "2025-02-10T09:22:56.295Z"
   },
   {
    "duration": 177,
    "start_time": "2025-02-10T09:22:59.271Z"
   },
   {
    "duration": 145,
    "start_time": "2025-02-10T09:23:20.112Z"
   },
   {
    "duration": 120,
    "start_time": "2025-02-10T09:23:53.957Z"
   },
   {
    "duration": 150,
    "start_time": "2025-02-10T09:24:11.854Z"
   },
   {
    "duration": 4,
    "start_time": "2025-02-10T09:24:46.672Z"
   },
   {
    "duration": 6,
    "start_time": "2025-02-10T09:28:09.685Z"
   },
   {
    "duration": 17,
    "start_time": "2025-02-10T09:28:24.762Z"
   },
   {
    "duration": 4,
    "start_time": "2025-02-10T09:29:37.396Z"
   },
   {
    "duration": 47,
    "start_time": "2025-02-10T09:33:33.746Z"
   },
   {
    "duration": 116,
    "start_time": "2025-02-10T09:33:50.019Z"
   },
   {
    "duration": 156,
    "start_time": "2025-02-10T09:34:06.192Z"
   },
   {
    "duration": 52,
    "start_time": "2025-02-10T09:34:23.556Z"
   },
   {
    "duration": 174,
    "start_time": "2025-02-10T09:34:33.894Z"
   },
   {
    "duration": 12,
    "start_time": "2025-02-10T11:11:30.033Z"
   },
   {
    "duration": 420,
    "start_time": "2025-02-10T11:12:25.784Z"
   },
   {
    "duration": 251,
    "start_time": "2025-02-10T11:12:26.206Z"
   },
   {
    "duration": 529,
    "start_time": "2025-02-10T11:12:26.458Z"
   },
   {
    "duration": 97,
    "start_time": "2025-02-10T11:12:26.989Z"
   },
   {
    "duration": 0,
    "start_time": "2025-02-10T11:12:27.088Z"
   },
   {
    "duration": 0,
    "start_time": "2025-02-10T11:12:27.089Z"
   },
   {
    "duration": 0,
    "start_time": "2025-02-10T11:12:27.091Z"
   },
   {
    "duration": 0,
    "start_time": "2025-02-10T11:12:27.092Z"
   },
   {
    "duration": 0,
    "start_time": "2025-02-10T11:12:27.093Z"
   },
   {
    "duration": 0,
    "start_time": "2025-02-10T11:12:27.094Z"
   },
   {
    "duration": 0,
    "start_time": "2025-02-10T11:12:27.096Z"
   },
   {
    "duration": 0,
    "start_time": "2025-02-10T11:12:27.097Z"
   },
   {
    "duration": 0,
    "start_time": "2025-02-10T11:12:27.098Z"
   },
   {
    "duration": 0,
    "start_time": "2025-02-10T11:12:27.099Z"
   },
   {
    "duration": 0,
    "start_time": "2025-02-10T11:12:27.100Z"
   },
   {
    "duration": 0,
    "start_time": "2025-02-10T11:12:27.101Z"
   },
   {
    "duration": 0,
    "start_time": "2025-02-10T11:12:27.101Z"
   },
   {
    "duration": 0,
    "start_time": "2025-02-10T11:12:27.102Z"
   },
   {
    "duration": 0,
    "start_time": "2025-02-10T11:12:27.103Z"
   },
   {
    "duration": 0,
    "start_time": "2025-02-10T11:12:27.104Z"
   },
   {
    "duration": 0,
    "start_time": "2025-02-10T11:12:27.106Z"
   },
   {
    "duration": 1,
    "start_time": "2025-02-10T11:12:27.106Z"
   },
   {
    "duration": 0,
    "start_time": "2025-02-10T11:12:27.107Z"
   },
   {
    "duration": 0,
    "start_time": "2025-02-10T11:12:27.109Z"
   },
   {
    "duration": 0,
    "start_time": "2025-02-10T11:12:27.110Z"
   },
   {
    "duration": 0,
    "start_time": "2025-02-10T11:12:27.111Z"
   },
   {
    "duration": 0,
    "start_time": "2025-02-10T11:12:27.112Z"
   },
   {
    "duration": 0,
    "start_time": "2025-02-10T11:12:27.113Z"
   },
   {
    "duration": 0,
    "start_time": "2025-02-10T11:12:27.114Z"
   },
   {
    "duration": 0,
    "start_time": "2025-02-10T11:12:27.115Z"
   },
   {
    "duration": 9,
    "start_time": "2025-02-10T11:12:37.910Z"
   },
   {
    "duration": 2,
    "start_time": "2025-02-10T11:12:45.862Z"
   },
   {
    "duration": 2,
    "start_time": "2025-02-10T11:12:46.538Z"
   },
   {
    "duration": 2,
    "start_time": "2025-02-10T11:12:47.227Z"
   },
   {
    "duration": 9,
    "start_time": "2025-02-10T11:12:48.477Z"
   },
   {
    "duration": 117,
    "start_time": "2025-02-10T11:12:49.118Z"
   },
   {
    "duration": 43,
    "start_time": "2025-02-10T11:12:49.873Z"
   },
   {
    "duration": 26,
    "start_time": "2025-02-10T11:12:51.156Z"
   },
   {
    "duration": 19,
    "start_time": "2025-02-10T11:12:51.815Z"
   },
   {
    "duration": 399,
    "start_time": "2025-02-10T11:13:02.992Z"
   },
   {
    "duration": 245,
    "start_time": "2025-02-10T11:13:03.393Z"
   },
   {
    "duration": 552,
    "start_time": "2025-02-10T11:13:03.640Z"
   },
   {
    "duration": 99,
    "start_time": "2025-02-10T11:13:04.194Z"
   },
   {
    "duration": 0,
    "start_time": "2025-02-10T11:13:04.295Z"
   },
   {
    "duration": 0,
    "start_time": "2025-02-10T11:13:04.297Z"
   },
   {
    "duration": 0,
    "start_time": "2025-02-10T11:13:04.298Z"
   },
   {
    "duration": 0,
    "start_time": "2025-02-10T11:13:04.299Z"
   },
   {
    "duration": 1,
    "start_time": "2025-02-10T11:13:04.300Z"
   },
   {
    "duration": 0,
    "start_time": "2025-02-10T11:13:04.302Z"
   },
   {
    "duration": 0,
    "start_time": "2025-02-10T11:13:04.304Z"
   },
   {
    "duration": 0,
    "start_time": "2025-02-10T11:13:04.305Z"
   },
   {
    "duration": 0,
    "start_time": "2025-02-10T11:13:04.306Z"
   },
   {
    "duration": 0,
    "start_time": "2025-02-10T11:13:04.308Z"
   },
   {
    "duration": 0,
    "start_time": "2025-02-10T11:13:04.309Z"
   },
   {
    "duration": 0,
    "start_time": "2025-02-10T11:13:04.311Z"
   },
   {
    "duration": 0,
    "start_time": "2025-02-10T11:13:04.312Z"
   },
   {
    "duration": 0,
    "start_time": "2025-02-10T11:13:04.313Z"
   },
   {
    "duration": 0,
    "start_time": "2025-02-10T11:13:04.315Z"
   },
   {
    "duration": 0,
    "start_time": "2025-02-10T11:13:04.316Z"
   },
   {
    "duration": 0,
    "start_time": "2025-02-10T11:13:04.318Z"
   },
   {
    "duration": 0,
    "start_time": "2025-02-10T11:13:04.319Z"
   },
   {
    "duration": 0,
    "start_time": "2025-02-10T11:13:04.320Z"
   },
   {
    "duration": 0,
    "start_time": "2025-02-10T11:13:04.320Z"
   },
   {
    "duration": 0,
    "start_time": "2025-02-10T11:13:04.321Z"
   },
   {
    "duration": 0,
    "start_time": "2025-02-10T11:13:04.322Z"
   },
   {
    "duration": 0,
    "start_time": "2025-02-10T11:13:04.323Z"
   },
   {
    "duration": 0,
    "start_time": "2025-02-10T11:13:04.324Z"
   },
   {
    "duration": 0,
    "start_time": "2025-02-10T11:13:04.325Z"
   },
   {
    "duration": 0,
    "start_time": "2025-02-10T11:13:04.374Z"
   },
   {
    "duration": 3,
    "start_time": "2025-02-10T11:13:11.403Z"
   },
   {
    "duration": 2,
    "start_time": "2025-02-10T11:13:18.497Z"
   },
   {
    "duration": 2,
    "start_time": "2025-02-10T11:13:19.128Z"
   },
   {
    "duration": 2,
    "start_time": "2025-02-10T11:13:19.712Z"
   },
   {
    "duration": 10,
    "start_time": "2025-02-10T11:13:20.937Z"
   },
   {
    "duration": 149,
    "start_time": "2025-02-10T11:13:21.550Z"
   },
   {
    "duration": 92,
    "start_time": "2025-02-10T11:13:22.217Z"
   },
   {
    "duration": 25,
    "start_time": "2025-02-10T11:13:24.190Z"
   },
   {
    "duration": 18,
    "start_time": "2025-02-10T11:13:25.225Z"
   },
   {
    "duration": 8,
    "start_time": "2025-02-10T11:13:27.587Z"
   },
   {
    "duration": 9,
    "start_time": "2025-02-10T11:13:28.228Z"
   },
   {
    "duration": 5,
    "start_time": "2025-02-10T11:13:29.811Z"
   },
   {
    "duration": 12,
    "start_time": "2025-02-10T11:13:30.739Z"
   },
   {
    "duration": 15,
    "start_time": "2025-02-10T11:13:32.608Z"
   },
   {
    "duration": 17,
    "start_time": "2025-02-10T11:13:35.009Z"
   },
   {
    "duration": 5,
    "start_time": "2025-02-10T11:13:37.270Z"
   },
   {
    "duration": 5,
    "start_time": "2025-02-10T11:13:37.963Z"
   },
   {
    "duration": 12,
    "start_time": "2025-02-10T11:13:39.941Z"
   },
   {
    "duration": 12,
    "start_time": "2025-02-10T11:13:41.020Z"
   },
   {
    "duration": 11,
    "start_time": "2025-02-10T11:13:42.945Z"
   },
   {
    "duration": 19,
    "start_time": "2025-02-10T11:13:46.301Z"
   },
   {
    "duration": 13,
    "start_time": "2025-02-10T11:13:47.676Z"
   },
   {
    "duration": 13,
    "start_time": "2025-02-10T11:13:48.491Z"
   },
   {
    "duration": 9,
    "start_time": "2025-02-10T11:13:49.945Z"
   },
   {
    "duration": 3,
    "start_time": "2025-02-10T11:13:52.946Z"
   },
   {
    "duration": 712,
    "start_time": "2025-02-10T11:13:54.365Z"
   },
   {
    "duration": 5,
    "start_time": "2025-02-10T11:13:57.536Z"
   },
   {
    "duration": 5,
    "start_time": "2025-02-10T11:13:58.353Z"
   },
   {
    "duration": 4,
    "start_time": "2025-02-10T11:13:59.400Z"
   },
   {
    "duration": 6,
    "start_time": "2025-02-10T11:14:04.451Z"
   },
   {
    "duration": 187,
    "start_time": "2025-02-10T11:14:05.140Z"
   },
   {
    "duration": 1039,
    "start_time": "2025-02-10T11:16:02.416Z"
   },
   {
    "duration": 958,
    "start_time": "2025-02-10T11:16:19.455Z"
   },
   {
    "duration": 1000,
    "start_time": "2025-02-10T11:16:51.992Z"
   },
   {
    "duration": 2,
    "start_time": "2025-02-10T11:18:38.794Z"
   },
   {
    "duration": 741,
    "start_time": "2025-02-10T11:18:52.788Z"
   },
   {
    "duration": 10,
    "start_time": "2025-02-10T11:20:17.734Z"
   },
   {
    "duration": 9,
    "start_time": "2025-02-10T11:22:15.689Z"
   },
   {
    "duration": 5,
    "start_time": "2025-02-10T11:22:44.510Z"
   },
   {
    "duration": 209,
    "start_time": "2025-02-10T11:22:47.091Z"
   },
   {
    "duration": 200,
    "start_time": "2025-02-10T11:23:19.695Z"
   },
   {
    "duration": 12,
    "start_time": "2025-02-10T11:29:38.212Z"
   },
   {
    "duration": 10,
    "start_time": "2025-02-10T11:29:51.974Z"
   },
   {
    "duration": 4,
    "start_time": "2025-02-10T11:33:49.105Z"
   },
   {
    "duration": 3,
    "start_time": "2025-02-10T11:33:52.902Z"
   },
   {
    "duration": 62,
    "start_time": "2025-02-10T11:34:22.910Z"
   },
   {
    "duration": 59,
    "start_time": "2025-02-10T11:34:29.264Z"
   },
   {
    "duration": 7,
    "start_time": "2025-02-10T11:34:32.029Z"
   },
   {
    "duration": 6,
    "start_time": "2025-02-10T11:37:53.707Z"
   },
   {
    "duration": 216,
    "start_time": "2025-02-10T11:37:54.846Z"
   },
   {
    "duration": 6,
    "start_time": "2025-02-10T11:39:02.566Z"
   },
   {
    "duration": 6,
    "start_time": "2025-02-10T11:40:13.318Z"
   },
   {
    "duration": 11,
    "start_time": "2025-02-10T11:43:16.109Z"
   },
   {
    "duration": 4,
    "start_time": "2025-02-10T11:44:07.353Z"
   },
   {
    "duration": 153,
    "start_time": "2025-02-10T11:44:09.851Z"
   },
   {
    "duration": 181,
    "start_time": "2025-02-10T11:44:23.271Z"
   },
   {
    "duration": 7,
    "start_time": "2025-02-10T11:52:45.263Z"
   },
   {
    "duration": 194,
    "start_time": "2025-02-10T11:52:46.494Z"
   },
   {
    "duration": 201,
    "start_time": "2025-02-10T11:53:09.247Z"
   },
   {
    "duration": 231,
    "start_time": "2025-02-10T11:54:25.737Z"
   },
   {
    "duration": 198,
    "start_time": "2025-02-10T11:54:38.734Z"
   },
   {
    "duration": 7,
    "start_time": "2025-02-10T11:57:45.511Z"
   },
   {
    "duration": 141,
    "start_time": "2025-02-10T12:00:04.941Z"
   },
   {
    "duration": 131,
    "start_time": "2025-02-10T12:00:24.696Z"
   },
   {
    "duration": 140,
    "start_time": "2025-02-10T12:01:33.881Z"
   },
   {
    "duration": 160,
    "start_time": "2025-02-10T12:02:02.914Z"
   },
   {
    "duration": 102,
    "start_time": "2025-02-10T12:03:09.461Z"
   },
   {
    "duration": 140,
    "start_time": "2025-02-10T12:03:27.955Z"
   },
   {
    "duration": 7,
    "start_time": "2025-02-10T12:05:57.800Z"
   },
   {
    "duration": 4,
    "start_time": "2025-02-10T12:06:21.399Z"
   },
   {
    "duration": 141,
    "start_time": "2025-02-10T12:06:53.457Z"
   },
   {
    "duration": 164,
    "start_time": "2025-02-10T12:07:17.153Z"
   },
   {
    "duration": 207,
    "start_time": "2025-02-10T12:07:55.953Z"
   },
   {
    "duration": 10,
    "start_time": "2025-02-10T12:08:54.093Z"
   },
   {
    "duration": 8,
    "start_time": "2025-02-10T12:09:19.199Z"
   },
   {
    "duration": 9,
    "start_time": "2025-02-10T12:09:25.997Z"
   },
   {
    "duration": 6,
    "start_time": "2025-02-10T12:14:02.318Z"
   },
   {
    "duration": 7,
    "start_time": "2025-02-10T12:14:32.039Z"
   },
   {
    "duration": 7,
    "start_time": "2025-02-10T12:16:01.681Z"
   },
   {
    "duration": 34,
    "start_time": "2025-02-10T12:16:36.715Z"
   },
   {
    "duration": 190,
    "start_time": "2025-02-10T12:16:36.941Z"
   },
   {
    "duration": 5,
    "start_time": "2025-02-10T12:16:56.746Z"
   },
   {
    "duration": 163,
    "start_time": "2025-02-10T12:16:59.835Z"
   },
   {
    "duration": 4,
    "start_time": "2025-02-10T12:17:09.391Z"
   },
   {
    "duration": 159,
    "start_time": "2025-02-10T12:17:12.046Z"
   },
   {
    "duration": 5,
    "start_time": "2025-02-10T12:17:19.549Z"
   },
   {
    "duration": 158,
    "start_time": "2025-02-10T12:17:21.907Z"
   },
   {
    "duration": 6,
    "start_time": "2025-02-10T12:23:28.839Z"
   },
   {
    "duration": 9,
    "start_time": "2025-02-10T12:24:27.629Z"
   },
   {
    "duration": 5,
    "start_time": "2025-02-10T12:24:33.741Z"
   },
   {
    "duration": 112,
    "start_time": "2025-02-10T12:24:36.587Z"
   },
   {
    "duration": 143,
    "start_time": "2025-02-10T12:24:51.012Z"
   },
   {
    "duration": 153,
    "start_time": "2025-02-10T12:29:50.003Z"
   },
   {
    "duration": 165,
    "start_time": "2025-02-10T12:30:04.278Z"
   },
   {
    "duration": 143,
    "start_time": "2025-02-10T12:30:14.513Z"
   },
   {
    "duration": 170,
    "start_time": "2025-02-10T12:30:27.879Z"
   },
   {
    "duration": 4,
    "start_time": "2025-02-10T12:42:16.424Z"
   },
   {
    "duration": 740,
    "start_time": "2025-02-10T12:44:19.564Z"
   },
   {
    "duration": 863,
    "start_time": "2025-02-10T12:45:12.045Z"
   },
   {
    "duration": 932,
    "start_time": "2025-02-10T12:45:22.894Z"
   },
   {
    "duration": 5,
    "start_time": "2025-02-10T12:45:26.227Z"
   },
   {
    "duration": 11,
    "start_time": "2025-02-10T12:45:57.313Z"
   },
   {
    "duration": 891,
    "start_time": "2025-02-10T12:46:00.315Z"
   },
   {
    "duration": 11,
    "start_time": "2025-02-10T12:52:18.659Z"
   },
   {
    "duration": 13,
    "start_time": "2025-02-10T12:52:48.187Z"
   },
   {
    "duration": 12,
    "start_time": "2025-02-10T12:53:00.162Z"
   },
   {
    "duration": 11,
    "start_time": "2025-02-10T12:57:24.461Z"
   },
   {
    "duration": 60,
    "start_time": "2025-02-10T13:01:26.075Z"
   },
   {
    "duration": 8,
    "start_time": "2025-02-10T13:02:22.873Z"
   },
   {
    "duration": 10,
    "start_time": "2025-02-10T13:03:51.066Z"
   },
   {
    "duration": 11,
    "start_time": "2025-02-10T13:04:39.937Z"
   },
   {
    "duration": 17,
    "start_time": "2025-02-10T13:08:49.708Z"
   },
   {
    "duration": 8,
    "start_time": "2025-02-10T13:11:03.910Z"
   },
   {
    "duration": 9,
    "start_time": "2025-02-10T13:11:21.745Z"
   },
   {
    "duration": 13,
    "start_time": "2025-02-10T13:11:34.360Z"
   },
   {
    "duration": 16,
    "start_time": "2025-02-10T13:11:52.105Z"
   },
   {
    "duration": 16,
    "start_time": "2025-02-10T13:11:58.683Z"
   },
   {
    "duration": 13,
    "start_time": "2025-02-10T13:12:05.441Z"
   },
   {
    "duration": 9,
    "start_time": "2025-02-10T13:12:38.614Z"
   },
   {
    "duration": 13,
    "start_time": "2025-02-10T13:12:47.836Z"
   },
   {
    "duration": 10,
    "start_time": "2025-02-10T13:13:46.309Z"
   },
   {
    "duration": 10,
    "start_time": "2025-02-10T13:15:37.437Z"
   },
   {
    "duration": 10,
    "start_time": "2025-02-10T13:16:16.631Z"
   },
   {
    "duration": 12,
    "start_time": "2025-02-10T13:16:29.640Z"
   },
   {
    "duration": 1348,
    "start_time": "2025-02-10T13:16:32.697Z"
   },
   {
    "duration": 9,
    "start_time": "2025-02-10T13:16:57.260Z"
   },
   {
    "duration": 11,
    "start_time": "2025-02-10T13:17:26.921Z"
   },
   {
    "duration": 8,
    "start_time": "2025-02-10T13:19:41.808Z"
   },
   {
    "duration": 17,
    "start_time": "2025-02-10T13:20:02.422Z"
   },
   {
    "duration": 56,
    "start_time": "2025-02-10T13:20:29.255Z"
   },
   {
    "duration": 21,
    "start_time": "2025-02-10T13:21:41.062Z"
   },
   {
    "duration": 12,
    "start_time": "2025-02-10T13:22:00.459Z"
   },
   {
    "duration": 19,
    "start_time": "2025-02-10T13:22:50.172Z"
   },
   {
    "duration": 17,
    "start_time": "2025-02-10T13:23:05.260Z"
   },
   {
    "duration": 18,
    "start_time": "2025-02-10T13:23:20.820Z"
   },
   {
    "duration": 19,
    "start_time": "2025-02-10T13:27:15.550Z"
   },
   {
    "duration": 18,
    "start_time": "2025-02-10T13:27:29.985Z"
   },
   {
    "duration": 22,
    "start_time": "2025-02-10T13:28:12.589Z"
   },
   {
    "duration": 173,
    "start_time": "2025-02-10T13:29:04.007Z"
   },
   {
    "duration": 140,
    "start_time": "2025-02-10T13:31:34.876Z"
   },
   {
    "duration": 123,
    "start_time": "2025-02-10T13:31:58.560Z"
   },
   {
    "duration": 208,
    "start_time": "2025-02-10T13:32:32.802Z"
   },
   {
    "duration": 208,
    "start_time": "2025-02-10T13:33:34.970Z"
   },
   {
    "duration": 192,
    "start_time": "2025-02-10T13:33:44.123Z"
   },
   {
    "duration": 124,
    "start_time": "2025-02-10T13:35:30.516Z"
   },
   {
    "duration": 63,
    "start_time": "2025-02-10T13:35:44.607Z"
   },
   {
    "duration": 149,
    "start_time": "2025-02-10T13:40:10.804Z"
   },
   {
    "duration": 206,
    "start_time": "2025-02-10T13:42:12.729Z"
   },
   {
    "duration": 3390,
    "start_time": "2025-02-10T13:43:11.095Z"
   },
   {
    "duration": 58,
    "start_time": "2025-02-10T13:43:14.487Z"
   },
   {
    "duration": 205,
    "start_time": "2025-02-10T13:43:27.405Z"
   },
   {
    "duration": 20,
    "start_time": "2025-02-10T13:43:32.470Z"
   },
   {
    "duration": 52,
    "start_time": "2025-02-10T13:48:06.180Z"
   },
   {
    "duration": 6,
    "start_time": "2025-02-10T13:48:39.394Z"
   },
   {
    "duration": 411,
    "start_time": "2025-02-10T13:48:55.017Z"
   },
   {
    "duration": 270,
    "start_time": "2025-02-10T13:48:55.431Z"
   },
   {
    "duration": 595,
    "start_time": "2025-02-10T13:48:55.702Z"
   },
   {
    "duration": 2812,
    "start_time": "2025-02-10T13:48:56.299Z"
   },
   {
    "duration": 97,
    "start_time": "2025-02-10T13:48:59.114Z"
   },
   {
    "duration": 202,
    "start_time": "2025-02-10T13:48:59.213Z"
   },
   {
    "duration": 70,
    "start_time": "2025-02-10T13:48:59.417Z"
   },
   {
    "duration": 35,
    "start_time": "2025-02-10T13:48:59.490Z"
   },
   {
    "duration": 21,
    "start_time": "2025-02-10T13:48:59.527Z"
   },
   {
    "duration": 8,
    "start_time": "2025-02-10T13:48:59.574Z"
   },
   {
    "duration": 10,
    "start_time": "2025-02-10T13:48:59.584Z"
   },
   {
    "duration": 6,
    "start_time": "2025-02-10T13:48:59.596Z"
   },
   {
    "duration": 22,
    "start_time": "2025-02-10T13:48:59.604Z"
   },
   {
    "duration": 51,
    "start_time": "2025-02-10T13:48:59.629Z"
   },
   {
    "duration": 18,
    "start_time": "2025-02-10T13:48:59.682Z"
   },
   {
    "duration": 5,
    "start_time": "2025-02-10T13:48:59.702Z"
   },
   {
    "duration": 5,
    "start_time": "2025-02-10T13:48:59.709Z"
   },
   {
    "duration": 12,
    "start_time": "2025-02-10T13:48:59.716Z"
   },
   {
    "duration": 51,
    "start_time": "2025-02-10T13:48:59.730Z"
   },
   {
    "duration": 12,
    "start_time": "2025-02-10T13:48:59.783Z"
   },
   {
    "duration": 21,
    "start_time": "2025-02-10T13:48:59.798Z"
   },
   {
    "duration": 17,
    "start_time": "2025-02-10T13:48:59.821Z"
   },
   {
    "duration": 18,
    "start_time": "2025-02-10T13:48:59.875Z"
   },
   {
    "duration": 22,
    "start_time": "2025-02-10T13:48:59.895Z"
   },
   {
    "duration": 17,
    "start_time": "2025-02-10T13:48:59.920Z"
   },
   {
    "duration": 80,
    "start_time": "2025-02-10T13:48:59.939Z"
   },
   {
    "duration": 7,
    "start_time": "2025-02-10T13:49:00.021Z"
   },
   {
    "duration": 46,
    "start_time": "2025-02-10T13:49:00.032Z"
   },
   {
    "duration": 37,
    "start_time": "2025-02-10T13:49:00.080Z"
   },
   {
    "duration": 21,
    "start_time": "2025-02-10T13:49:00.119Z"
   },
   {
    "duration": 26,
    "start_time": "2025-02-10T13:49:00.142Z"
   },
   {
    "duration": 233,
    "start_time": "2025-02-10T13:49:00.171Z"
   },
   {
    "duration": 6,
    "start_time": "2025-02-10T13:49:00.406Z"
   },
   {
    "duration": 231,
    "start_time": "2025-02-10T13:49:00.413Z"
   },
   {
    "duration": 6,
    "start_time": "2025-02-10T13:49:00.646Z"
   },
   {
    "duration": 31,
    "start_time": "2025-02-10T13:49:00.654Z"
   },
   {
    "duration": 188,
    "start_time": "2025-02-10T13:49:00.687Z"
   },
   {
    "duration": 7,
    "start_time": "2025-02-10T13:49:00.877Z"
   },
   {
    "duration": 248,
    "start_time": "2025-02-10T13:49:00.887Z"
   },
   {
    "duration": 210,
    "start_time": "2025-02-10T13:49:01.136Z"
   },
   {
    "duration": 149,
    "start_time": "2025-02-10T13:49:01.348Z"
   },
   {
    "duration": 9,
    "start_time": "2025-02-10T13:49:01.499Z"
   },
   {
    "duration": 9,
    "start_time": "2025-02-10T13:49:01.510Z"
   },
   {
    "duration": 204,
    "start_time": "2025-02-10T13:49:01.521Z"
   },
   {
    "duration": 6,
    "start_time": "2025-02-10T13:49:01.727Z"
   },
   {
    "duration": 286,
    "start_time": "2025-02-10T13:49:01.734Z"
   },
   {
    "duration": 224,
    "start_time": "2025-02-10T13:49:02.022Z"
   },
   {
    "duration": 12,
    "start_time": "2025-02-10T13:49:02.248Z"
   },
   {
    "duration": 18,
    "start_time": "2025-02-10T13:49:02.274Z"
   },
   {
    "duration": 20,
    "start_time": "2025-02-10T13:49:02.294Z"
   },
   {
    "duration": 334,
    "start_time": "2025-02-10T13:49:02.316Z"
   },
   {
    "duration": 282,
    "start_time": "2025-02-10T13:49:02.652Z"
   },
   {
    "duration": 4,
    "start_time": "2025-02-10T13:49:04.975Z"
   },
   {
    "duration": 2,
    "start_time": "2025-02-10T13:49:05.656Z"
   },
   {
    "duration": 3,
    "start_time": "2025-02-10T13:49:06.360Z"
   },
   {
    "duration": 2635,
    "start_time": "2025-02-10T13:49:08.314Z"
   },
   {
    "duration": 3,
    "start_time": "2025-02-10T13:49:10.953Z"
   },
   {
    "duration": 156,
    "start_time": "2025-02-10T13:49:10.959Z"
   },
   {
    "duration": 86,
    "start_time": "2025-02-10T13:49:12.028Z"
   },
   {
    "duration": 3,
    "start_time": "2025-02-10T13:49:18.207Z"
   },
   {
    "duration": 3,
    "start_time": "2025-02-10T13:49:18.726Z"
   },
   {
    "duration": 3,
    "start_time": "2025-02-10T13:49:19.339Z"
   },
   {
    "duration": 2729,
    "start_time": "2025-02-10T13:49:20.482Z"
   },
   {
    "duration": 3,
    "start_time": "2025-02-10T13:49:23.214Z"
   },
   {
    "duration": 140,
    "start_time": "2025-02-10T13:49:23.220Z"
   },
   {
    "duration": 55,
    "start_time": "2025-02-10T13:49:23.363Z"
   },
   {
    "duration": 30,
    "start_time": "2025-02-10T13:49:24.208Z"
   },
   {
    "duration": 22,
    "start_time": "2025-02-10T13:49:25.351Z"
   },
   {
    "duration": 9,
    "start_time": "2025-02-10T13:49:27.734Z"
   },
   {
    "duration": 9,
    "start_time": "2025-02-10T13:49:28.676Z"
   },
   {
    "duration": 6,
    "start_time": "2025-02-10T13:49:30.455Z"
   },
   {
    "duration": 15,
    "start_time": "2025-02-10T13:49:31.483Z"
   },
   {
    "duration": 18,
    "start_time": "2025-02-10T13:49:32.544Z"
   },
   {
    "duration": 15,
    "start_time": "2025-02-10T13:49:33.578Z"
   },
   {
    "duration": 5,
    "start_time": "2025-02-10T13:49:36.246Z"
   },
   {
    "duration": 4,
    "start_time": "2025-02-10T13:49:37.152Z"
   },
   {
    "duration": 11,
    "start_time": "2025-02-10T13:49:41.836Z"
   },
   {
    "duration": 12,
    "start_time": "2025-02-10T13:49:42.971Z"
   },
   {
    "duration": 13,
    "start_time": "2025-02-10T13:49:44.670Z"
   },
   {
    "duration": 22,
    "start_time": "2025-02-10T13:49:46.887Z"
   },
   {
    "duration": 15,
    "start_time": "2025-02-10T13:49:49.097Z"
   },
   {
    "duration": 15,
    "start_time": "2025-02-10T13:49:49.928Z"
   },
   {
    "duration": 10,
    "start_time": "2025-02-10T13:49:50.745Z"
   },
   {
    "duration": 4,
    "start_time": "2025-02-10T13:49:52.166Z"
   },
   {
    "duration": 66,
    "start_time": "2025-02-10T13:49:53.229Z"
   },
   {
    "duration": 70,
    "start_time": "2025-02-10T13:50:05.445Z"
   },
   {
    "duration": 7,
    "start_time": "2025-02-10T13:50:06.432Z"
   },
   {
    "duration": 6,
    "start_time": "2025-02-10T13:50:11.414Z"
   },
   {
    "duration": 5,
    "start_time": "2025-02-10T13:50:12.097Z"
   },
   {
    "duration": 5,
    "start_time": "2025-02-10T13:50:12.854Z"
   },
   {
    "duration": 6,
    "start_time": "2025-02-10T13:50:15.471Z"
   },
   {
    "duration": 201,
    "start_time": "2025-02-10T13:50:16.299Z"
   },
   {
    "duration": 7,
    "start_time": "2025-02-10T13:50:18.502Z"
   },
   {
    "duration": 223,
    "start_time": "2025-02-10T13:50:19.179Z"
   },
   {
    "duration": 7,
    "start_time": "2025-02-10T13:50:20.617Z"
   },
   {
    "duration": 8,
    "start_time": "2025-02-10T13:50:21.292Z"
   },
   {
    "duration": 186,
    "start_time": "2025-02-10T13:50:21.986Z"
   },
   {
    "duration": 8,
    "start_time": "2025-02-10T13:50:24.280Z"
   },
   {
    "duration": 244,
    "start_time": "2025-02-10T13:50:25.133Z"
   },
   {
    "duration": 181,
    "start_time": "2025-02-10T13:50:27.590Z"
   },
   {
    "duration": 153,
    "start_time": "2025-02-10T13:50:28.236Z"
   },
   {
    "duration": 11,
    "start_time": "2025-02-10T13:50:29.458Z"
   },
   {
    "duration": 6,
    "start_time": "2025-02-10T13:50:30.228Z"
   },
   {
    "duration": 187,
    "start_time": "2025-02-10T13:50:31.095Z"
   },
   {
    "duration": 5,
    "start_time": "2025-02-10T13:50:34.183Z"
   },
   {
    "duration": 180,
    "start_time": "2025-02-10T13:50:34.908Z"
   },
   {
    "duration": 241,
    "start_time": "2025-02-10T13:50:37.131Z"
   },
   {
    "duration": 13,
    "start_time": "2025-02-10T13:50:40.551Z"
   },
   {
    "duration": 10,
    "start_time": "2025-02-10T13:51:47.184Z"
   },
   {
    "duration": 7,
    "start_time": "2025-02-10T13:53:28.558Z"
   },
   {
    "duration": 414,
    "start_time": "2025-02-10T13:53:59.226Z"
   },
   {
    "duration": 11,
    "start_time": "2025-02-10T13:54:44.366Z"
   },
   {
    "duration": 18,
    "start_time": "2025-02-10T13:54:45.177Z"
   },
   {
    "duration": 293,
    "start_time": "2025-02-10T13:54:46.933Z"
   },
   {
    "duration": 240,
    "start_time": "2025-02-10T13:55:06.740Z"
   },
   {
    "duration": 273,
    "start_time": "2025-02-10T13:55:33.154Z"
   },
   {
    "duration": 171,
    "start_time": "2025-02-10T13:56:00.538Z"
   },
   {
    "duration": 253,
    "start_time": "2025-02-10T13:56:13.933Z"
   },
   {
    "duration": 1281,
    "start_time": "2025-02-10T13:58:11.496Z"
   },
   {
    "duration": 6,
    "start_time": "2025-02-10T14:04:04.833Z"
   },
   {
    "duration": 5,
    "start_time": "2025-02-10T14:04:47.610Z"
   },
   {
    "duration": 172,
    "start_time": "2025-02-10T14:05:13.239Z"
   },
   {
    "duration": 178,
    "start_time": "2025-02-10T14:05:50.830Z"
   },
   {
    "duration": 11,
    "start_time": "2025-02-10T14:13:18.685Z"
   },
   {
    "duration": 318,
    "start_time": "2025-02-10T14:13:30.584Z"
   },
   {
    "duration": 11,
    "start_time": "2025-02-10T14:13:35.417Z"
   },
   {
    "duration": 7,
    "start_time": "2025-02-10T14:16:17.699Z"
   },
   {
    "duration": 5,
    "start_time": "2025-02-10T14:16:45.976Z"
   },
   {
    "duration": 187,
    "start_time": "2025-02-10T14:16:59.536Z"
   },
   {
    "duration": 196,
    "start_time": "2025-02-10T14:17:28.166Z"
   },
   {
    "duration": 8,
    "start_time": "2025-02-10T14:18:28.320Z"
   },
   {
    "duration": 4,
    "start_time": "2025-02-10T14:18:50.329Z"
   },
   {
    "duration": 6,
    "start_time": "2025-02-10T14:19:06.428Z"
   },
   {
    "duration": 187,
    "start_time": "2025-02-10T14:19:26.391Z"
   },
   {
    "duration": 65,
    "start_time": "2025-02-10T14:44:01.611Z"
   },
   {
    "duration": 154,
    "start_time": "2025-02-10T14:44:08.583Z"
   },
   {
    "duration": 150,
    "start_time": "2025-02-10T14:45:20.533Z"
   },
   {
    "duration": 263,
    "start_time": "2025-02-10T14:45:31.939Z"
   },
   {
    "duration": 156,
    "start_time": "2025-02-10T14:47:32.852Z"
   },
   {
    "duration": 158,
    "start_time": "2025-02-10T14:48:09.565Z"
   },
   {
    "duration": 175,
    "start_time": "2025-02-10T14:48:19.521Z"
   },
   {
    "duration": 174,
    "start_time": "2025-02-10T14:48:44.968Z"
   },
   {
    "duration": 237,
    "start_time": "2025-02-10T14:51:53.997Z"
   },
   {
    "duration": 175,
    "start_time": "2025-02-10T14:52:00.168Z"
   },
   {
    "duration": 208,
    "start_time": "2025-02-10T14:53:04.994Z"
   },
   {
    "duration": 329,
    "start_time": "2025-02-10T14:53:27.102Z"
   },
   {
    "duration": 214,
    "start_time": "2025-02-10T14:54:16.629Z"
   },
   {
    "duration": 184,
    "start_time": "2025-02-10T15:00:29.342Z"
   },
   {
    "duration": 8,
    "start_time": "2025-02-10T15:05:22.978Z"
   },
   {
    "duration": 7,
    "start_time": "2025-02-10T15:05:44.263Z"
   },
   {
    "duration": 7,
    "start_time": "2025-02-10T15:07:04.955Z"
   },
   {
    "duration": 7,
    "start_time": "2025-02-10T15:10:19.612Z"
   },
   {
    "duration": 10,
    "start_time": "2025-02-10T15:12:04.533Z"
   },
   {
    "duration": 6,
    "start_time": "2025-02-10T15:13:14.433Z"
   },
   {
    "duration": 171,
    "start_time": "2025-02-10T15:24:06.082Z"
   },
   {
    "duration": 175,
    "start_time": "2025-02-10T15:34:28.224Z"
   },
   {
    "duration": 116,
    "start_time": "2025-02-10T15:35:15.292Z"
   },
   {
    "duration": 317,
    "start_time": "2025-02-10T15:35:49.036Z"
   },
   {
    "duration": 195,
    "start_time": "2025-02-10T15:36:08.542Z"
   },
   {
    "duration": 200,
    "start_time": "2025-02-10T15:36:42.888Z"
   },
   {
    "duration": 146,
    "start_time": "2025-02-10T15:38:01.283Z"
   },
   {
    "duration": 201,
    "start_time": "2025-02-10T15:38:10.725Z"
   },
   {
    "duration": 212,
    "start_time": "2025-02-10T15:40:22.776Z"
   },
   {
    "duration": 287,
    "start_time": "2025-02-10T15:41:31.614Z"
   },
   {
    "duration": 16,
    "start_time": "2025-02-10T15:41:54.776Z"
   },
   {
    "duration": 285,
    "start_time": "2025-02-10T15:41:55.659Z"
   },
   {
    "duration": 246,
    "start_time": "2025-02-10T15:42:00.145Z"
   },
   {
    "duration": 16,
    "start_time": "2025-02-10T15:43:13.316Z"
   },
   {
    "duration": 244,
    "start_time": "2025-02-10T15:43:16.215Z"
   },
   {
    "duration": 256,
    "start_time": "2025-02-10T15:47:01.126Z"
   },
   {
    "duration": 243,
    "start_time": "2025-02-10T15:47:16.871Z"
   },
   {
    "duration": 263,
    "start_time": "2025-02-10T15:47:28.439Z"
   },
   {
    "duration": 209,
    "start_time": "2025-02-10T15:56:48.414Z"
   },
   {
    "duration": 194,
    "start_time": "2025-02-10T15:58:19.028Z"
   },
   {
    "duration": 220,
    "start_time": "2025-02-10T16:09:57.221Z"
   },
   {
    "duration": 222,
    "start_time": "2025-02-10T16:10:06.544Z"
   },
   {
    "duration": 217,
    "start_time": "2025-02-10T16:20:16.617Z"
   },
   {
    "duration": 97,
    "start_time": "2025-02-10T20:00:08.842Z"
   },
   {
    "duration": 4,
    "start_time": "2025-02-10T20:00:23.596Z"
   },
   {
    "duration": 88,
    "start_time": "2025-02-10T20:00:34.293Z"
   },
   {
    "duration": 97,
    "start_time": "2025-02-10T20:01:00.568Z"
   },
   {
    "duration": 45,
    "start_time": "2025-02-10T20:01:16.964Z"
   },
   {
    "duration": 423,
    "start_time": "2025-02-10T20:01:37.117Z"
   },
   {
    "duration": 398,
    "start_time": "2025-02-10T20:01:37.774Z"
   },
   {
    "duration": 581,
    "start_time": "2025-02-10T20:01:38.365Z"
   },
   {
    "duration": 3749,
    "start_time": "2025-02-10T20:01:39.591Z"
   },
   {
    "duration": 50,
    "start_time": "2025-02-10T20:01:43.343Z"
   },
   {
    "duration": 131,
    "start_time": "2025-02-10T20:01:43.394Z"
   },
   {
    "duration": 74,
    "start_time": "2025-02-10T20:01:43.527Z"
   },
   {
    "duration": 29,
    "start_time": "2025-02-10T20:01:43.674Z"
   },
   {
    "duration": 18,
    "start_time": "2025-02-10T20:01:44.441Z"
   },
   {
    "duration": 7,
    "start_time": "2025-02-10T20:01:46.458Z"
   },
   {
    "duration": 9,
    "start_time": "2025-02-10T20:01:47.162Z"
   },
   {
    "duration": 5,
    "start_time": "2025-02-10T20:01:48.510Z"
   },
   {
    "duration": 12,
    "start_time": "2025-02-10T20:01:49.161Z"
   },
   {
    "duration": 16,
    "start_time": "2025-02-10T20:01:49.854Z"
   },
   {
    "duration": 22,
    "start_time": "2025-02-10T20:01:50.558Z"
   },
   {
    "duration": 4,
    "start_time": "2025-02-10T20:01:52.573Z"
   },
   {
    "duration": 4,
    "start_time": "2025-02-10T20:01:53.311Z"
   },
   {
    "duration": 10,
    "start_time": "2025-02-10T20:01:55.638Z"
   },
   {
    "duration": 11,
    "start_time": "2025-02-10T20:01:56.374Z"
   },
   {
    "duration": 11,
    "start_time": "2025-02-10T20:01:57.859Z"
   },
   {
    "duration": 17,
    "start_time": "2025-02-10T20:01:59.171Z"
   },
   {
    "duration": 15,
    "start_time": "2025-02-10T20:02:00.617Z"
   },
   {
    "duration": 13,
    "start_time": "2025-02-10T20:02:01.293Z"
   },
   {
    "duration": 14,
    "start_time": "2025-02-10T20:02:02.012Z"
   },
   {
    "duration": 3,
    "start_time": "2025-02-10T20:02:03.382Z"
   },
   {
    "duration": 67,
    "start_time": "2025-02-10T20:02:04.896Z"
   },
   {
    "duration": 6,
    "start_time": "2025-02-10T20:02:05.772Z"
   },
   {
    "duration": 6,
    "start_time": "2025-02-10T20:02:13.727Z"
   },
   {
    "duration": 5,
    "start_time": "2025-02-10T20:02:15.642Z"
   },
   {
    "duration": 4,
    "start_time": "2025-02-10T20:02:16.252Z"
   },
   {
    "duration": 4,
    "start_time": "2025-02-10T20:02:16.799Z"
   },
   {
    "duration": 5,
    "start_time": "2025-02-10T20:02:19.009Z"
   },
   {
    "duration": 182,
    "start_time": "2025-02-10T20:02:19.458Z"
   },
   {
    "duration": 6,
    "start_time": "2025-02-10T20:02:20.291Z"
   },
   {
    "duration": 200,
    "start_time": "2025-02-10T20:02:20.777Z"
   },
   {
    "duration": 5,
    "start_time": "2025-02-10T20:02:21.639Z"
   },
   {
    "duration": 5,
    "start_time": "2025-02-10T20:02:22.098Z"
   },
   {
    "duration": 171,
    "start_time": "2025-02-10T20:02:22.555Z"
   },
   {
    "duration": 6,
    "start_time": "2025-02-10T20:02:24.334Z"
   },
   {
    "duration": 215,
    "start_time": "2025-02-10T20:02:24.880Z"
   },
   {
    "duration": 221,
    "start_time": "2025-02-10T20:02:28.146Z"
   },
   {
    "duration": 165,
    "start_time": "2025-02-10T20:02:47.612Z"
   },
   {
    "duration": 155,
    "start_time": "2025-02-10T20:03:11.029Z"
   },
   {
    "duration": 212,
    "start_time": "2025-02-10T20:03:19.742Z"
   },
   {
    "duration": 6,
    "start_time": "2025-02-10T20:03:21.519Z"
   },
   {
    "duration": 6,
    "start_time": "2025-02-10T20:03:24.640Z"
   },
   {
    "duration": 4,
    "start_time": "2025-02-10T20:03:26.015Z"
   },
   {
    "duration": 177,
    "start_time": "2025-02-10T20:03:26.672Z"
   },
   {
    "duration": 5,
    "start_time": "2025-02-10T20:03:28.625Z"
   },
   {
    "duration": 189,
    "start_time": "2025-02-10T20:03:29.282Z"
   },
   {
    "duration": 182,
    "start_time": "2025-02-10T20:03:31.305Z"
   },
   {
    "duration": 9,
    "start_time": "2025-02-10T20:03:31.938Z"
   },
   {
    "duration": 5,
    "start_time": "2025-02-10T20:03:33.347Z"
   },
   {
    "duration": 271,
    "start_time": "2025-02-10T20:03:34.112Z"
   },
   {
    "duration": 211,
    "start_time": "2025-02-10T20:03:35.684Z"
   },
   {
    "duration": 16,
    "start_time": "2025-02-10T20:03:37.836Z"
   },
   {
    "duration": 260,
    "start_time": "2025-02-10T20:03:38.631Z"
   },
   {
    "duration": 259,
    "start_time": "2025-02-10T20:03:40.174Z"
   },
   {
    "duration": 6,
    "start_time": "2025-02-10T20:03:42.439Z"
   },
   {
    "duration": 198,
    "start_time": "2025-02-10T20:03:43.390Z"
   },
   {
    "duration": 4,
    "start_time": "2025-02-10T20:03:46.246Z"
   },
   {
    "duration": 208,
    "start_time": "2025-02-10T20:03:47.432Z"
   },
   {
    "duration": 5,
    "start_time": "2025-02-10T20:03:53.706Z"
   },
   {
    "duration": 203,
    "start_time": "2025-02-10T20:03:58.014Z"
   },
   {
    "duration": 77,
    "start_time": "2025-02-10T20:04:14.950Z"
   },
   {
    "duration": 10,
    "start_time": "2025-02-10T20:06:01.113Z"
   },
   {
    "duration": 3,
    "start_time": "2025-02-10T20:06:20.318Z"
   },
   {
    "duration": 71,
    "start_time": "2025-02-10T20:06:22.594Z"
   },
   {
    "duration": 4,
    "start_time": "2025-02-10T20:06:29.353Z"
   },
   {
    "duration": 193,
    "start_time": "2025-02-10T20:06:38.565Z"
   },
   {
    "duration": 4,
    "start_time": "2025-02-10T20:06:46.160Z"
   },
   {
    "duration": 193,
    "start_time": "2025-02-10T20:06:46.970Z"
   },
   {
    "duration": 4,
    "start_time": "2025-02-10T20:06:59.931Z"
   },
   {
    "duration": 300,
    "start_time": "2025-02-10T20:07:01.715Z"
   },
   {
    "duration": 3,
    "start_time": "2025-02-10T20:07:21.906Z"
   },
   {
    "duration": 65,
    "start_time": "2025-02-10T20:07:22.582Z"
   },
   {
    "duration": 5,
    "start_time": "2025-02-10T20:07:23.425Z"
   },
   {
    "duration": 199,
    "start_time": "2025-02-10T20:07:24.631Z"
   },
   {
    "duration": 3,
    "start_time": "2025-02-10T20:08:06.728Z"
   },
   {
    "duration": 20,
    "start_time": "2025-02-10T20:08:07.381Z"
   },
   {
    "duration": 20,
    "start_time": "2025-02-10T20:08:21.330Z"
   },
   {
    "duration": 3,
    "start_time": "2025-02-10T20:08:55.638Z"
   },
   {
    "duration": 19,
    "start_time": "2025-02-10T20:08:56.447Z"
   },
   {
    "duration": 4,
    "start_time": "2025-02-10T20:09:05.551Z"
   },
   {
    "duration": 4,
    "start_time": "2025-02-10T20:09:44.226Z"
   },
   {
    "duration": 20,
    "start_time": "2025-02-10T20:09:45.232Z"
   },
   {
    "duration": 5,
    "start_time": "2025-02-10T20:09:45.459Z"
   },
   {
    "duration": 3,
    "start_time": "2025-02-10T20:09:50.252Z"
   },
   {
    "duration": 4,
    "start_time": "2025-02-10T20:10:03.015Z"
   },
   {
    "duration": 71,
    "start_time": "2025-02-10T20:10:05.294Z"
   },
   {
    "duration": 5,
    "start_time": "2025-02-10T20:10:07.385Z"
   },
   {
    "duration": 209,
    "start_time": "2025-02-10T20:10:08.190Z"
   },
   {
    "duration": 6,
    "start_time": "2025-02-10T20:10:23.522Z"
   },
   {
    "duration": 201,
    "start_time": "2025-02-10T20:10:24.635Z"
   },
   {
    "duration": 7,
    "start_time": "2025-02-10T20:10:42.422Z"
   },
   {
    "duration": 232,
    "start_time": "2025-02-10T20:10:43.406Z"
   },
   {
    "duration": 6,
    "start_time": "2025-02-10T20:11:26.983Z"
   },
   {
    "duration": 225,
    "start_time": "2025-02-10T20:11:28.082Z"
   },
   {
    "duration": 5,
    "start_time": "2025-02-10T20:11:38.766Z"
   },
   {
    "duration": 234,
    "start_time": "2025-02-10T20:11:42.721Z"
   },
   {
    "duration": 409,
    "start_time": "2025-02-10T20:55:27.137Z"
   },
   {
    "duration": 221,
    "start_time": "2025-02-10T20:55:27.548Z"
   },
   {
    "duration": 573,
    "start_time": "2025-02-10T20:55:27.770Z"
   },
   {
    "duration": 2501,
    "start_time": "2025-02-10T20:55:28.346Z"
   },
   {
    "duration": 51,
    "start_time": "2025-02-10T20:55:30.849Z"
   },
   {
    "duration": 146,
    "start_time": "2025-02-10T20:55:30.902Z"
   },
   {
    "duration": 103,
    "start_time": "2025-02-10T20:55:31.050Z"
   },
   {
    "duration": 29,
    "start_time": "2025-02-10T20:55:31.154Z"
   },
   {
    "duration": 17,
    "start_time": "2025-02-10T20:55:31.184Z"
   },
   {
    "duration": 6,
    "start_time": "2025-02-10T20:55:31.204Z"
   },
   {
    "duration": 18,
    "start_time": "2025-02-10T20:55:31.212Z"
   },
   {
    "duration": 5,
    "start_time": "2025-02-10T20:55:31.231Z"
   },
   {
    "duration": 13,
    "start_time": "2025-02-10T20:55:31.237Z"
   },
   {
    "duration": 15,
    "start_time": "2025-02-10T20:55:31.251Z"
   },
   {
    "duration": 15,
    "start_time": "2025-02-10T20:55:31.267Z"
   },
   {
    "duration": 7,
    "start_time": "2025-02-10T20:55:31.283Z"
   },
   {
    "duration": 25,
    "start_time": "2025-02-10T20:55:31.291Z"
   },
   {
    "duration": 14,
    "start_time": "2025-02-10T20:55:31.318Z"
   },
   {
    "duration": 11,
    "start_time": "2025-02-10T20:55:31.333Z"
   },
   {
    "duration": 14,
    "start_time": "2025-02-10T20:55:31.346Z"
   },
   {
    "duration": 17,
    "start_time": "2025-02-10T20:55:31.362Z"
   },
   {
    "duration": 40,
    "start_time": "2025-02-10T20:55:31.381Z"
   },
   {
    "duration": 31,
    "start_time": "2025-02-10T20:55:31.423Z"
   },
   {
    "duration": 9,
    "start_time": "2025-02-10T20:55:31.456Z"
   },
   {
    "duration": 3,
    "start_time": "2025-02-10T20:55:31.466Z"
   },
   {
    "duration": 92,
    "start_time": "2025-02-10T20:55:31.471Z"
   },
   {
    "duration": 8,
    "start_time": "2025-02-10T20:55:31.566Z"
   },
   {
    "duration": 6,
    "start_time": "2025-02-10T20:55:31.578Z"
   },
   {
    "duration": 7,
    "start_time": "2025-02-10T20:55:31.586Z"
   },
   {
    "duration": 21,
    "start_time": "2025-02-10T20:55:31.596Z"
   },
   {
    "duration": 14,
    "start_time": "2025-02-10T20:55:31.620Z"
   },
   {
    "duration": 202,
    "start_time": "2025-02-10T20:55:31.635Z"
   },
   {
    "duration": 5,
    "start_time": "2025-02-10T20:55:31.838Z"
   },
   {
    "duration": 227,
    "start_time": "2025-02-10T20:55:31.844Z"
   },
   {
    "duration": 5,
    "start_time": "2025-02-10T20:55:32.072Z"
   },
   {
    "duration": 10,
    "start_time": "2025-02-10T20:55:32.079Z"
   },
   {
    "duration": 194,
    "start_time": "2025-02-10T20:55:32.091Z"
   },
   {
    "duration": 7,
    "start_time": "2025-02-10T20:55:32.287Z"
   },
   {
    "duration": 249,
    "start_time": "2025-02-10T20:55:32.295Z"
   },
   {
    "duration": 159,
    "start_time": "2025-02-10T20:55:32.546Z"
   },
   {
    "duration": 133,
    "start_time": "2025-02-10T20:55:32.712Z"
   },
   {
    "duration": 7,
    "start_time": "2025-02-10T20:55:32.847Z"
   },
   {
    "duration": 7,
    "start_time": "2025-02-10T20:55:32.856Z"
   },
   {
    "duration": 16,
    "start_time": "2025-02-10T20:55:32.865Z"
   },
   {
    "duration": 187,
    "start_time": "2025-02-10T20:55:32.883Z"
   },
   {
    "duration": 5,
    "start_time": "2025-02-10T20:55:33.072Z"
   },
   {
    "duration": 294,
    "start_time": "2025-02-10T20:55:33.079Z"
   },
   {
    "duration": 192,
    "start_time": "2025-02-10T20:55:33.374Z"
   },
   {
    "duration": 8,
    "start_time": "2025-02-10T20:55:33.568Z"
   },
   {
    "duration": 21,
    "start_time": "2025-02-10T20:55:33.577Z"
   },
   {
    "duration": 284,
    "start_time": "2025-02-10T20:55:33.600Z"
   },
   {
    "duration": 231,
    "start_time": "2025-02-10T20:55:33.885Z"
   },
   {
    "duration": 17,
    "start_time": "2025-02-10T20:55:34.117Z"
   },
   {
    "duration": 280,
    "start_time": "2025-02-10T20:55:34.136Z"
   },
   {
    "duration": 284,
    "start_time": "2025-02-10T20:55:34.418Z"
   },
   {
    "duration": 14,
    "start_time": "2025-02-10T20:55:34.703Z"
   },
   {
    "duration": 211,
    "start_time": "2025-02-10T20:55:34.718Z"
   },
   {
    "duration": 5,
    "start_time": "2025-02-10T20:55:34.931Z"
   },
   {
    "duration": 227,
    "start_time": "2025-02-10T20:55:34.938Z"
   },
   {
    "duration": 7,
    "start_time": "2025-02-10T20:55:35.167Z"
   },
   {
    "duration": 232,
    "start_time": "2025-02-10T20:55:35.176Z"
   },
   {
    "duration": 3,
    "start_time": "2025-02-10T20:55:45.810Z"
   },
   {
    "duration": 2,
    "start_time": "2025-02-10T20:55:46.576Z"
   },
   {
    "duration": 2,
    "start_time": "2025-02-10T20:55:47.245Z"
   },
   {
    "duration": 2463,
    "start_time": "2025-02-10T20:55:49.079Z"
   },
   {
    "duration": 3,
    "start_time": "2025-02-10T20:55:51.545Z"
   },
   {
    "duration": 141,
    "start_time": "2025-02-10T20:55:51.550Z"
   },
   {
    "duration": 55,
    "start_time": "2025-02-10T20:55:51.693Z"
   },
   {
    "duration": 27,
    "start_time": "2025-02-10T20:55:52.825Z"
   },
   {
    "duration": 21,
    "start_time": "2025-02-10T20:55:53.499Z"
   },
   {
    "duration": 8,
    "start_time": "2025-02-10T20:55:55.482Z"
   },
   {
    "duration": 8,
    "start_time": "2025-02-10T20:55:56.151Z"
   },
   {
    "duration": 5,
    "start_time": "2025-02-10T20:55:57.593Z"
   },
   {
    "duration": 17,
    "start_time": "2025-02-10T20:55:58.230Z"
   },
   {
    "duration": 22,
    "start_time": "2025-02-10T20:55:58.877Z"
   },
   {
    "duration": 21,
    "start_time": "2025-02-10T20:55:59.522Z"
   },
   {
    "duration": 4,
    "start_time": "2025-02-10T20:56:01.488Z"
   },
   {
    "duration": 5,
    "start_time": "2025-02-10T20:56:02.165Z"
   },
   {
    "duration": 11,
    "start_time": "2025-02-10T20:56:03.572Z"
   },
   {
    "duration": 11,
    "start_time": "2025-02-10T20:56:04.310Z"
   },
   {
    "duration": 12,
    "start_time": "2025-02-10T20:56:05.931Z"
   },
   {
    "duration": 18,
    "start_time": "2025-02-10T20:56:07.436Z"
   },
   {
    "duration": 14,
    "start_time": "2025-02-10T20:56:09.066Z"
   },
   {
    "duration": 13,
    "start_time": "2025-02-10T20:56:09.754Z"
   },
   {
    "duration": 10,
    "start_time": "2025-02-10T20:56:10.440Z"
   },
   {
    "duration": 3,
    "start_time": "2025-02-10T20:56:12.013Z"
   },
   {
    "duration": 60,
    "start_time": "2025-02-10T20:56:13.272Z"
   },
   {
    "duration": 5,
    "start_time": "2025-02-10T20:56:14.131Z"
   },
   {
    "duration": 5,
    "start_time": "2025-02-10T20:56:17.706Z"
   },
   {
    "duration": 4,
    "start_time": "2025-02-10T20:56:18.399Z"
   },
   {
    "duration": 4,
    "start_time": "2025-02-10T20:56:19.134Z"
   },
   {
    "duration": 6,
    "start_time": "2025-02-10T20:56:22.036Z"
   },
   {
    "duration": 181,
    "start_time": "2025-02-10T20:56:22.819Z"
   },
   {
    "duration": 5,
    "start_time": "2025-02-10T20:56:25.381Z"
   },
   {
    "duration": 224,
    "start_time": "2025-02-10T20:56:26.082Z"
   },
   {
    "duration": 6,
    "start_time": "2025-02-10T20:56:27.577Z"
   },
   {
    "duration": 4,
    "start_time": "2025-02-10T20:56:28.251Z"
   },
   {
    "duration": 174,
    "start_time": "2025-02-10T20:56:28.976Z"
   },
   {
    "duration": 7,
    "start_time": "2025-02-10T20:56:31.053Z"
   },
   {
    "duration": 220,
    "start_time": "2025-02-10T20:56:31.805Z"
   },
   {
    "duration": 252,
    "start_time": "2025-02-10T20:56:34.159Z"
   },
   {
    "duration": 132,
    "start_time": "2025-02-10T20:56:35.910Z"
   },
   {
    "duration": 7,
    "start_time": "2025-02-10T20:56:37.373Z"
   },
   {
    "duration": 7,
    "start_time": "2025-02-10T20:56:38.764Z"
   },
   {
    "duration": 5,
    "start_time": "2025-02-10T20:56:40.195Z"
   },
   {
    "duration": 171,
    "start_time": "2025-02-10T20:56:40.961Z"
   },
   {
    "duration": 5,
    "start_time": "2025-02-10T20:56:43.087Z"
   },
   {
    "duration": 172,
    "start_time": "2025-02-10T20:56:43.695Z"
   },
   {
    "duration": 182,
    "start_time": "2025-02-10T20:56:45.595Z"
   },
   {
    "duration": 9,
    "start_time": "2025-02-10T20:56:46.189Z"
   },
   {
    "duration": 4,
    "start_time": "2025-02-10T20:56:47.849Z"
   },
   {
    "duration": 295,
    "start_time": "2025-02-10T20:56:48.525Z"
   },
   {
    "duration": 213,
    "start_time": "2025-02-10T20:56:50.210Z"
   },
   {
    "duration": 17,
    "start_time": "2025-02-10T20:56:52.461Z"
   },
   {
    "duration": 295,
    "start_time": "2025-02-10T20:56:53.099Z"
   },
   {
    "duration": 257,
    "start_time": "2025-02-10T20:56:54.537Z"
   },
   {
    "duration": 5,
    "start_time": "2025-02-10T20:56:56.581Z"
   },
   {
    "duration": 207,
    "start_time": "2025-02-10T20:56:57.272Z"
   },
   {
    "duration": 5,
    "start_time": "2025-02-10T20:56:59.262Z"
   },
   {
    "duration": 223,
    "start_time": "2025-02-10T20:56:59.884Z"
   },
   {
    "duration": 5,
    "start_time": "2025-02-10T20:57:01.221Z"
   },
   {
    "duration": 215,
    "start_time": "2025-02-10T20:57:01.863Z"
   },
   {
    "duration": 427,
    "start_time": "2025-02-11T05:31:18.597Z"
   },
   {
    "duration": 245,
    "start_time": "2025-02-11T05:31:19.025Z"
   },
   {
    "duration": 545,
    "start_time": "2025-02-11T05:31:19.272Z"
   },
   {
    "duration": 3024,
    "start_time": "2025-02-11T05:31:19.819Z"
   },
   {
    "duration": 455,
    "start_time": "2025-02-11T05:31:22.845Z"
   },
   {
    "duration": 181,
    "start_time": "2025-02-11T05:31:23.302Z"
   },
   {
    "duration": 120,
    "start_time": "2025-02-11T05:31:23.485Z"
   },
   {
    "duration": 31,
    "start_time": "2025-02-11T05:31:23.606Z"
   },
   {
    "duration": 21,
    "start_time": "2025-02-11T05:31:23.639Z"
   },
   {
    "duration": 15,
    "start_time": "2025-02-11T05:31:23.662Z"
   },
   {
    "duration": 17,
    "start_time": "2025-02-11T05:31:23.679Z"
   },
   {
    "duration": 4,
    "start_time": "2025-02-11T05:31:23.698Z"
   },
   {
    "duration": 12,
    "start_time": "2025-02-11T05:31:23.704Z"
   },
   {
    "duration": 14,
    "start_time": "2025-02-11T05:31:23.717Z"
   },
   {
    "duration": 19,
    "start_time": "2025-02-11T05:31:23.733Z"
   },
   {
    "duration": 26,
    "start_time": "2025-02-11T05:31:23.753Z"
   },
   {
    "duration": 3,
    "start_time": "2025-02-11T05:31:23.781Z"
   },
   {
    "duration": 11,
    "start_time": "2025-02-11T05:31:23.786Z"
   },
   {
    "duration": 11,
    "start_time": "2025-02-11T05:31:23.798Z"
   },
   {
    "duration": 16,
    "start_time": "2025-02-11T05:31:23.811Z"
   },
   {
    "duration": 53,
    "start_time": "2025-02-11T05:31:23.828Z"
   },
   {
    "duration": 16,
    "start_time": "2025-02-11T05:31:23.882Z"
   },
   {
    "duration": 14,
    "start_time": "2025-02-11T05:31:23.900Z"
   },
   {
    "duration": 9,
    "start_time": "2025-02-11T05:31:23.916Z"
   },
   {
    "duration": 3,
    "start_time": "2025-02-11T05:31:23.927Z"
   },
   {
    "duration": 93,
    "start_time": "2025-02-11T05:31:23.932Z"
   },
   {
    "duration": 6,
    "start_time": "2025-02-11T05:31:24.027Z"
   },
   {
    "duration": 6,
    "start_time": "2025-02-11T05:31:24.037Z"
   },
   {
    "duration": 4,
    "start_time": "2025-02-11T05:31:24.045Z"
   },
   {
    "duration": 4,
    "start_time": "2025-02-11T05:31:24.076Z"
   },
   {
    "duration": 18,
    "start_time": "2025-02-11T05:31:24.082Z"
   },
   {
    "duration": 200,
    "start_time": "2025-02-11T05:31:24.101Z"
   },
   {
    "duration": 5,
    "start_time": "2025-02-11T05:31:24.302Z"
   },
   {
    "duration": 214,
    "start_time": "2025-02-11T05:31:24.309Z"
   },
   {
    "duration": 5,
    "start_time": "2025-02-11T05:31:24.525Z"
   },
   {
    "duration": 8,
    "start_time": "2025-02-11T05:31:24.532Z"
   },
   {
    "duration": 200,
    "start_time": "2025-02-11T05:31:24.541Z"
   },
   {
    "duration": 8,
    "start_time": "2025-02-11T05:31:24.743Z"
   },
   {
    "duration": 246,
    "start_time": "2025-02-11T05:31:24.752Z"
   },
   {
    "duration": 168,
    "start_time": "2025-02-11T05:31:25.000Z"
   },
   {
    "duration": 133,
    "start_time": "2025-02-11T05:31:25.174Z"
   },
   {
    "duration": 8,
    "start_time": "2025-02-11T05:31:25.309Z"
   },
   {
    "duration": 10,
    "start_time": "2025-02-11T05:31:25.319Z"
   },
   {
    "duration": 6,
    "start_time": "2025-02-11T05:31:25.331Z"
   },
   {
    "duration": 200,
    "start_time": "2025-02-11T05:31:25.339Z"
   },
   {
    "duration": 6,
    "start_time": "2025-02-11T05:31:25.540Z"
   },
   {
    "duration": 335,
    "start_time": "2025-02-11T05:31:25.547Z"
   },
   {
    "duration": 209,
    "start_time": "2025-02-11T05:31:25.884Z"
   },
   {
    "duration": 9,
    "start_time": "2025-02-11T05:31:26.095Z"
   },
   {
    "duration": 20,
    "start_time": "2025-02-11T05:31:26.105Z"
   },
   {
    "duration": 318,
    "start_time": "2025-02-11T05:31:26.127Z"
   },
   {
    "duration": 236,
    "start_time": "2025-02-11T05:31:26.447Z"
   },
   {
    "duration": 17,
    "start_time": "2025-02-11T05:31:26.684Z"
   },
   {
    "duration": 280,
    "start_time": "2025-02-11T05:31:26.702Z"
   },
   {
    "duration": 280,
    "start_time": "2025-02-11T05:31:26.984Z"
   },
   {
    "duration": 9,
    "start_time": "2025-02-11T05:31:27.266Z"
   },
   {
    "duration": 221,
    "start_time": "2025-02-11T05:31:27.276Z"
   },
   {
    "duration": 5,
    "start_time": "2025-02-11T05:31:27.499Z"
   },
   {
    "duration": 228,
    "start_time": "2025-02-11T05:31:27.505Z"
   },
   {
    "duration": 5,
    "start_time": "2025-02-11T05:31:27.735Z"
   },
   {
    "duration": 248,
    "start_time": "2025-02-11T05:31:27.742Z"
   },
   {
    "duration": 6,
    "start_time": "2025-02-11T05:32:56.275Z"
   },
   {
    "duration": 12,
    "start_time": "2025-02-11T06:57:53.488Z"
   },
   {
    "duration": 49,
    "start_time": "2025-02-11T06:57:58.272Z"
   },
   {
    "duration": 459,
    "start_time": "2025-02-11T07:49:57.490Z"
   },
   {
    "duration": 432,
    "start_time": "2025-02-11T07:49:58.463Z"
   },
   {
    "duration": 564,
    "start_time": "2025-02-11T07:49:59.366Z"
   },
   {
    "duration": 3448,
    "start_time": "2025-02-11T07:50:03.206Z"
   },
   {
    "duration": 1250,
    "start_time": "2025-02-11T07:50:20.705Z"
   },
   {
    "duration": 398,
    "start_time": "2025-02-11T07:50:37.534Z"
   },
   {
    "duration": 236,
    "start_time": "2025-02-11T07:50:37.934Z"
   },
   {
    "duration": 556,
    "start_time": "2025-02-11T07:50:38.172Z"
   },
   {
    "duration": 1301,
    "start_time": "2025-02-11T07:50:38.731Z"
   },
   {
    "duration": 51,
    "start_time": "2025-02-11T07:50:40.034Z"
   },
   {
    "duration": 158,
    "start_time": "2025-02-11T07:50:40.087Z"
   },
   {
    "duration": 90,
    "start_time": "2025-02-11T07:50:40.247Z"
   },
   {
    "duration": 28,
    "start_time": "2025-02-11T07:50:40.338Z"
   },
   {
    "duration": 25,
    "start_time": "2025-02-11T07:50:40.367Z"
   },
   {
    "duration": 6,
    "start_time": "2025-02-11T07:50:40.395Z"
   },
   {
    "duration": 10,
    "start_time": "2025-02-11T07:50:40.402Z"
   },
   {
    "duration": 5,
    "start_time": "2025-02-11T07:50:40.413Z"
   },
   {
    "duration": 11,
    "start_time": "2025-02-11T07:50:40.419Z"
   },
   {
    "duration": 14,
    "start_time": "2025-02-11T07:50:40.431Z"
   },
   {
    "duration": 14,
    "start_time": "2025-02-11T07:50:40.446Z"
   },
   {
    "duration": 8,
    "start_time": "2025-02-11T07:50:40.462Z"
   },
   {
    "duration": 39,
    "start_time": "2025-02-11T07:50:40.471Z"
   },
   {
    "duration": 10,
    "start_time": "2025-02-11T07:50:40.511Z"
   },
   {
    "duration": 10,
    "start_time": "2025-02-11T07:50:40.522Z"
   },
   {
    "duration": 9,
    "start_time": "2025-02-11T07:50:40.534Z"
   },
   {
    "duration": 16,
    "start_time": "2025-02-11T07:50:40.545Z"
   },
   {
    "duration": 54,
    "start_time": "2025-02-11T07:50:40.563Z"
   },
   {
    "duration": 13,
    "start_time": "2025-02-11T07:50:40.619Z"
   },
   {
    "duration": 7,
    "start_time": "2025-02-11T07:50:40.634Z"
   },
   {
    "duration": 3,
    "start_time": "2025-02-11T07:50:40.643Z"
   },
   {
    "duration": 85,
    "start_time": "2025-02-11T07:50:40.647Z"
   },
   {
    "duration": 7,
    "start_time": "2025-02-11T07:50:40.734Z"
   },
   {
    "duration": 33,
    "start_time": "2025-02-11T07:50:40.746Z"
   },
   {
    "duration": 5,
    "start_time": "2025-02-11T07:50:40.781Z"
   },
   {
    "duration": 5,
    "start_time": "2025-02-11T07:50:40.788Z"
   },
   {
    "duration": 7,
    "start_time": "2025-02-11T07:50:40.794Z"
   },
   {
    "duration": 194,
    "start_time": "2025-02-11T07:50:40.803Z"
   },
   {
    "duration": 10,
    "start_time": "2025-02-11T07:50:40.999Z"
   },
   {
    "duration": 218,
    "start_time": "2025-02-11T07:50:41.011Z"
   },
   {
    "duration": 7,
    "start_time": "2025-02-11T07:50:41.230Z"
   },
   {
    "duration": 44,
    "start_time": "2025-02-11T07:50:41.238Z"
   },
   {
    "duration": 188,
    "start_time": "2025-02-11T07:50:41.283Z"
   },
   {
    "duration": 7,
    "start_time": "2025-02-11T07:50:41.472Z"
   },
   {
    "duration": 254,
    "start_time": "2025-02-11T07:50:41.480Z"
   },
   {
    "duration": 176,
    "start_time": "2025-02-11T07:50:41.735Z"
   },
   {
    "duration": 130,
    "start_time": "2025-02-11T07:50:41.913Z"
   },
   {
    "duration": 7,
    "start_time": "2025-02-11T07:50:42.045Z"
   },
   {
    "duration": 9,
    "start_time": "2025-02-11T07:50:42.054Z"
   },
   {
    "duration": 5,
    "start_time": "2025-02-11T07:50:42.065Z"
   },
   {
    "duration": 192,
    "start_time": "2025-02-11T07:50:42.071Z"
   },
   {
    "duration": 5,
    "start_time": "2025-02-11T07:50:42.265Z"
   },
   {
    "duration": 273,
    "start_time": "2025-02-11T07:50:42.271Z"
   },
   {
    "duration": 165,
    "start_time": "2025-02-11T07:50:42.545Z"
   },
   {
    "duration": 8,
    "start_time": "2025-02-11T07:50:42.712Z"
   },
   {
    "duration": 47,
    "start_time": "2025-02-11T07:50:42.722Z"
   },
   {
    "duration": 307,
    "start_time": "2025-02-11T07:50:42.771Z"
   },
   {
    "duration": 229,
    "start_time": "2025-02-11T07:50:43.081Z"
   },
   {
    "duration": 25,
    "start_time": "2025-02-11T07:50:43.312Z"
   },
   {
    "duration": 264,
    "start_time": "2025-02-11T07:50:43.339Z"
   },
   {
    "duration": 256,
    "start_time": "2025-02-11T07:50:43.609Z"
   },
   {
    "duration": 5,
    "start_time": "2025-02-11T07:50:43.867Z"
   },
   {
    "duration": 229,
    "start_time": "2025-02-11T07:50:43.873Z"
   },
   {
    "duration": 6,
    "start_time": "2025-02-11T07:50:44.104Z"
   },
   {
    "duration": 226,
    "start_time": "2025-02-11T07:50:44.111Z"
   },
   {
    "duration": 4,
    "start_time": "2025-02-11T07:50:44.339Z"
   },
   {
    "duration": 213,
    "start_time": "2025-02-11T07:50:44.345Z"
   },
   {
    "duration": 3,
    "start_time": "2025-02-11T07:50:54.441Z"
   },
   {
    "duration": 2,
    "start_time": "2025-02-11T07:50:55.220Z"
   },
   {
    "duration": 2,
    "start_time": "2025-02-11T07:50:56.066Z"
   },
   {
    "duration": 1359,
    "start_time": "2025-02-11T07:50:58.369Z"
   },
   {
    "duration": 4,
    "start_time": "2025-02-11T07:51:01.643Z"
   },
   {
    "duration": 113,
    "start_time": "2025-02-11T07:51:03.680Z"
   },
   {
    "duration": 59,
    "start_time": "2025-02-11T07:51:04.481Z"
   },
   {
    "duration": 25,
    "start_time": "2025-02-11T07:51:06.596Z"
   },
   {
    "duration": 20,
    "start_time": "2025-02-11T07:51:07.474Z"
   },
   {
    "duration": 9,
    "start_time": "2025-02-11T07:51:12.358Z"
   },
   {
    "duration": 10,
    "start_time": "2025-02-11T07:51:13.264Z"
   },
   {
    "duration": 4,
    "start_time": "2025-02-11T07:51:15.540Z"
   },
   {
    "duration": 14,
    "start_time": "2025-02-11T07:53:03.772Z"
   },
   {
    "duration": 16,
    "start_time": "2025-02-11T07:53:04.636Z"
   },
   {
    "duration": 15,
    "start_time": "2025-02-11T07:53:06.170Z"
   },
   {
    "duration": 4,
    "start_time": "2025-02-11T07:53:12.635Z"
   },
   {
    "duration": 4,
    "start_time": "2025-02-11T07:53:13.500Z"
   },
   {
    "duration": 10,
    "start_time": "2025-02-11T07:53:54.752Z"
   },
   {
    "duration": 13,
    "start_time": "2025-02-11T07:53:56.057Z"
   },
   {
    "duration": 8907,
    "start_time": "2025-02-11T07:59:06.012Z"
   },
   {
    "duration": 1328,
    "start_time": "2025-02-11T08:00:32.259Z"
   },
   {
    "duration": 9563,
    "start_time": "2025-02-11T08:00:59.321Z"
   },
   {
    "duration": 11,
    "start_time": "2025-02-11T08:03:37.427Z"
   },
   {
    "duration": 17,
    "start_time": "2025-02-11T08:03:57.767Z"
   },
   {
    "duration": 14,
    "start_time": "2025-02-11T08:04:02.775Z"
   },
   {
    "duration": 12,
    "start_time": "2025-02-11T08:04:03.610Z"
   },
   {
    "duration": 74,
    "start_time": "2025-02-11T08:04:42.729Z"
   },
   {
    "duration": 12,
    "start_time": "2025-02-11T08:04:48.493Z"
   },
   {
    "duration": 1256,
    "start_time": "2025-02-11T08:06:32.903Z"
   },
   {
    "duration": 961,
    "start_time": "2025-02-11T08:08:03.226Z"
   },
   {
    "duration": 10,
    "start_time": "2025-02-11T08:08:11.866Z"
   },
   {
    "duration": 10,
    "start_time": "2025-02-11T08:09:39.760Z"
   },
   {
    "duration": 1053,
    "start_time": "2025-02-11T08:10:34.625Z"
   },
   {
    "duration": 3,
    "start_time": "2025-02-11T08:10:47.990Z"
   },
   {
    "duration": 60,
    "start_time": "2025-02-11T08:10:52.551Z"
   },
   {
    "duration": 6,
    "start_time": "2025-02-11T08:10:59.062Z"
   },
   {
    "duration": 63,
    "start_time": "2025-02-11T08:11:05.735Z"
   },
   {
    "duration": 6,
    "start_time": "2025-02-11T08:11:06.707Z"
   },
   {
    "duration": 62,
    "start_time": "2025-02-11T08:13:10.837Z"
   },
   {
    "duration": 61,
    "start_time": "2025-02-11T08:14:37.572Z"
   },
   {
    "duration": 6,
    "start_time": "2025-02-11T08:14:38.439Z"
   },
   {
    "duration": 5,
    "start_time": "2025-02-11T08:14:42.788Z"
   },
   {
    "duration": 4,
    "start_time": "2025-02-11T08:14:43.637Z"
   },
   {
    "duration": 4,
    "start_time": "2025-02-11T08:14:44.614Z"
   },
   {
    "duration": 5,
    "start_time": "2025-02-11T08:14:56.307Z"
   },
   {
    "duration": 181,
    "start_time": "2025-02-11T08:14:57.220Z"
   },
   {
    "duration": 9,
    "start_time": "2025-02-11T08:23:16.409Z"
   },
   {
    "duration": 18,
    "start_time": "2025-02-11T08:24:04.278Z"
   },
   {
    "duration": 15,
    "start_time": "2025-02-11T08:24:36.079Z"
   },
   {
    "duration": 7,
    "start_time": "2025-02-11T08:24:51.172Z"
   },
   {
    "duration": 10,
    "start_time": "2025-02-11T08:28:34.303Z"
   },
   {
    "duration": 9,
    "start_time": "2025-02-11T08:30:59.295Z"
   },
   {
    "duration": 6,
    "start_time": "2025-02-11T08:31:37.051Z"
   },
   {
    "duration": 4,
    "start_time": "2025-02-11T08:32:30.667Z"
   },
   {
    "duration": 163,
    "start_time": "2025-02-11T08:32:33.986Z"
   },
   {
    "duration": 9,
    "start_time": "2025-02-11T08:32:42.936Z"
   },
   {
    "duration": 3,
    "start_time": "2025-02-11T08:32:49.480Z"
   },
   {
    "duration": 179,
    "start_time": "2025-02-11T08:33:10.591Z"
   },
   {
    "duration": 4,
    "start_time": "2025-02-11T08:33:16.522Z"
   },
   {
    "duration": 166,
    "start_time": "2025-02-11T08:33:38.183Z"
   },
   {
    "duration": 166,
    "start_time": "2025-02-11T08:33:53.133Z"
   },
   {
    "duration": 7,
    "start_time": "2025-02-11T08:36:53.584Z"
   },
   {
    "duration": 226,
    "start_time": "2025-02-11T08:36:55.058Z"
   },
   {
    "duration": 215,
    "start_time": "2025-02-11T08:37:20.221Z"
   },
   {
    "duration": 63,
    "start_time": "2025-02-11T08:39:55.281Z"
   },
   {
    "duration": 220,
    "start_time": "2025-02-11T08:40:01.265Z"
   },
   {
    "duration": 141,
    "start_time": "2025-02-11T08:42:30.988Z"
   },
   {
    "duration": 222,
    "start_time": "2025-02-11T08:42:37.284Z"
   },
   {
    "duration": 155,
    "start_time": "2025-02-11T08:46:32.378Z"
   },
   {
    "duration": 162,
    "start_time": "2025-02-11T08:48:27.962Z"
   },
   {
    "duration": 121,
    "start_time": "2025-02-11T08:50:01.562Z"
   },
   {
    "duration": 7,
    "start_time": "2025-02-11T08:50:07.547Z"
   },
   {
    "duration": 7,
    "start_time": "2025-02-11T08:50:10.439Z"
   },
   {
    "duration": 5,
    "start_time": "2025-02-11T08:50:39.839Z"
   },
   {
    "duration": 160,
    "start_time": "2025-02-11T08:50:41.204Z"
   },
   {
    "duration": 3,
    "start_time": "2025-02-11T08:53:08.257Z"
   },
   {
    "duration": 18,
    "start_time": "2025-02-11T08:53:45.428Z"
   },
   {
    "duration": 19,
    "start_time": "2025-02-11T08:54:09.852Z"
   },
   {
    "duration": 7,
    "start_time": "2025-02-11T08:54:13.377Z"
   },
   {
    "duration": 426,
    "start_time": "2025-02-11T08:55:54.354Z"
   },
   {
    "duration": 116,
    "start_time": "2025-02-11T08:56:34.293Z"
   },
   {
    "duration": 130,
    "start_time": "2025-02-11T08:57:26.021Z"
   },
   {
    "duration": 414,
    "start_time": "2025-02-11T08:57:34.985Z"
   },
   {
    "duration": 58,
    "start_time": "2025-02-11T08:58:23.794Z"
   },
   {
    "duration": 121,
    "start_time": "2025-02-11T08:58:29.738Z"
   },
   {
    "duration": 421,
    "start_time": "2025-02-11T08:58:46.600Z"
   },
   {
    "duration": 435,
    "start_time": "2025-02-11T09:01:33.767Z"
   },
   {
    "duration": 145,
    "start_time": "2025-02-11T09:03:23.591Z"
   },
   {
    "duration": 906,
    "start_time": "2025-02-11T09:04:19.826Z"
   },
   {
    "duration": 12,
    "start_time": "2025-02-11T09:07:25.492Z"
   },
   {
    "duration": 435,
    "start_time": "2025-02-11T09:10:41.423Z"
   },
   {
    "duration": 5,
    "start_time": "2025-02-11T09:10:44.118Z"
   },
   {
    "duration": 160,
    "start_time": "2025-02-11T09:10:45.131Z"
   },
   {
    "duration": 146,
    "start_time": "2025-02-11T09:11:53.181Z"
   },
   {
    "duration": 468,
    "start_time": "2025-02-11T09:12:02.803Z"
   },
   {
    "duration": 8,
    "start_time": "2025-02-11T09:12:58.033Z"
   },
   {
    "duration": 13,
    "start_time": "2025-02-11T09:13:14.433Z"
   },
   {
    "duration": 11,
    "start_time": "2025-02-11T09:13:24.253Z"
   },
   {
    "duration": 7,
    "start_time": "2025-02-11T09:13:36.999Z"
   },
   {
    "duration": 133,
    "start_time": "2025-02-11T09:16:00.494Z"
   },
   {
    "duration": 1055,
    "start_time": "2025-02-11T09:16:33.002Z"
   },
   {
    "duration": 5,
    "start_time": "2025-02-11T09:16:45.520Z"
   },
   {
    "duration": 990,
    "start_time": "2025-02-11T09:16:52.817Z"
   },
   {
    "duration": 14,
    "start_time": "2025-02-11T09:17:15.359Z"
   },
   {
    "duration": 188,
    "start_time": "2025-02-11T09:17:21.574Z"
   },
   {
    "duration": 1066,
    "start_time": "2025-02-11T09:18:19.530Z"
   },
   {
    "duration": 1418,
    "start_time": "2025-02-11T09:18:42.734Z"
   },
   {
    "duration": 245,
    "start_time": "2025-02-11T09:19:13.127Z"
   },
   {
    "duration": 235,
    "start_time": "2025-02-11T09:19:40.921Z"
   },
   {
    "duration": 1095,
    "start_time": "2025-02-11T09:20:35.290Z"
   },
   {
    "duration": 120,
    "start_time": "2025-02-11T09:21:00.453Z"
   },
   {
    "duration": 12,
    "start_time": "2025-02-11T09:24:22.531Z"
   },
   {
    "duration": 764,
    "start_time": "2025-02-11T09:26:36.298Z"
   },
   {
    "duration": 9,
    "start_time": "2025-02-11T09:29:32.868Z"
   },
   {
    "duration": 12,
    "start_time": "2025-02-11T09:30:37.995Z"
   },
   {
    "duration": 730,
    "start_time": "2025-02-11T09:30:53.047Z"
   },
   {
    "duration": 14,
    "start_time": "2025-02-11T09:31:11.127Z"
   },
   {
    "duration": 9,
    "start_time": "2025-02-11T09:31:18.090Z"
   },
   {
    "duration": 858,
    "start_time": "2025-02-11T09:31:22.825Z"
   },
   {
    "duration": 156,
    "start_time": "2025-02-11T09:31:42.390Z"
   },
   {
    "duration": 140,
    "start_time": "2025-02-11T09:32:05.219Z"
   },
   {
    "duration": 299,
    "start_time": "2025-02-11T09:32:18.482Z"
   },
   {
    "duration": 156,
    "start_time": "2025-02-11T09:32:53.075Z"
   },
   {
    "duration": 324,
    "start_time": "2025-02-11T09:33:15.108Z"
   },
   {
    "duration": 308,
    "start_time": "2025-02-11T09:33:23.348Z"
   },
   {
    "duration": 151,
    "start_time": "2025-02-11T09:37:34.911Z"
   },
   {
    "duration": 257,
    "start_time": "2025-02-11T09:37:47.395Z"
   },
   {
    "duration": 136,
    "start_time": "2025-02-11T09:39:34.330Z"
   },
   {
    "duration": 295,
    "start_time": "2025-02-11T09:39:42.231Z"
   },
   {
    "duration": 5,
    "start_time": "2025-02-11T09:41:11.986Z"
   },
   {
    "duration": 207,
    "start_time": "2025-02-11T09:41:12.886Z"
   },
   {
    "duration": 56,
    "start_time": "2025-02-11T09:43:07.769Z"
   },
   {
    "duration": 11,
    "start_time": "2025-02-11T09:44:18.767Z"
   },
   {
    "duration": 278,
    "start_time": "2025-02-11T09:44:28.394Z"
   },
   {
    "duration": 865,
    "start_time": "2025-02-11T09:44:44.424Z"
   },
   {
    "duration": 49,
    "start_time": "2025-02-11T09:44:59.498Z"
   },
   {
    "duration": 342,
    "start_time": "2025-02-11T09:45:08.829Z"
   },
   {
    "duration": 386,
    "start_time": "2025-02-11T09:46:24.215Z"
   },
   {
    "duration": 259,
    "start_time": "2025-02-11T09:46:48.209Z"
   },
   {
    "duration": 75,
    "start_time": "2025-02-11T10:50:26.790Z"
   },
   {
    "duration": 10,
    "start_time": "2025-02-11T11:08:03.507Z"
   },
   {
    "duration": 10,
    "start_time": "2025-02-11T11:08:19.453Z"
   },
   {
    "duration": 263,
    "start_time": "2025-02-11T11:08:25.052Z"
   },
   {
    "duration": 376,
    "start_time": "2025-02-11T11:09:47.454Z"
   },
   {
    "duration": 178,
    "start_time": "2025-02-11T11:10:20.958Z"
   },
   {
    "duration": 271,
    "start_time": "2025-02-11T11:10:37.818Z"
   },
   {
    "duration": 282,
    "start_time": "2025-02-11T11:10:50.158Z"
   },
   {
    "duration": 11,
    "start_time": "2025-02-11T11:11:35.225Z"
   },
   {
    "duration": 14,
    "start_time": "2025-02-11T11:12:18.323Z"
   },
   {
    "duration": 5,
    "start_time": "2025-02-11T11:13:35.492Z"
   },
   {
    "duration": 226,
    "start_time": "2025-02-11T11:13:36.546Z"
   },
   {
    "duration": 6,
    "start_time": "2025-02-11T11:14:13.797Z"
   },
   {
    "duration": 235,
    "start_time": "2025-02-11T11:14:14.991Z"
   },
   {
    "duration": 11,
    "start_time": "2025-02-11T11:15:31.066Z"
   },
   {
    "duration": 9451,
    "start_time": "2025-02-11T11:15:37.995Z"
   },
   {
    "duration": 123,
    "start_time": "2025-02-11T11:29:58.150Z"
   },
   {
    "duration": 7,
    "start_time": "2025-02-11T11:31:39.455Z"
   },
   {
    "duration": 5,
    "start_time": "2025-02-11T11:32:17.390Z"
   },
   {
    "duration": 14,
    "start_time": "2025-02-11T11:46:42.271Z"
   },
   {
    "duration": 6,
    "start_time": "2025-02-11T11:47:03.540Z"
   },
   {
    "duration": 249,
    "start_time": "2025-02-11T11:47:03.549Z"
   },
   {
    "duration": 595,
    "start_time": "2025-02-11T11:50:47.403Z"
   },
   {
    "duration": 143,
    "start_time": "2025-02-11T11:51:21.927Z"
   },
   {
    "duration": 466,
    "start_time": "2025-02-11T11:51:34.312Z"
   },
   {
    "duration": 533,
    "start_time": "2025-02-11T11:51:51.690Z"
   },
   {
    "duration": 5,
    "start_time": "2025-02-11T11:56:46.043Z"
   },
   {
    "duration": 5,
    "start_time": "2025-02-11T11:56:46.912Z"
   },
   {
    "duration": 231,
    "start_time": "2025-02-11T11:56:47.967Z"
   },
   {
    "duration": 5,
    "start_time": "2025-02-11T11:57:14.067Z"
   },
   {
    "duration": 209,
    "start_time": "2025-02-11T11:57:18.361Z"
   },
   {
    "duration": 7,
    "start_time": "2025-02-11T11:57:32.230Z"
   },
   {
    "duration": 7,
    "start_time": "2025-02-11T11:57:33.051Z"
   },
   {
    "duration": 267,
    "start_time": "2025-02-11T11:57:33.894Z"
   },
   {
    "duration": 6,
    "start_time": "2025-02-11T11:57:34.647Z"
   },
   {
    "duration": 270,
    "start_time": "2025-02-11T11:57:35.688Z"
   },
   {
    "duration": 6,
    "start_time": "2025-02-11T11:59:43.861Z"
   },
   {
    "duration": 258,
    "start_time": "2025-02-11T11:59:44.742Z"
   },
   {
    "duration": 548,
    "start_time": "2025-02-11T12:00:44.597Z"
   },
   {
    "duration": 598,
    "start_time": "2025-02-11T12:00:48.738Z"
   },
   {
    "duration": 9,
    "start_time": "2025-02-11T12:04:16.791Z"
   },
   {
    "duration": 479,
    "start_time": "2025-02-11T12:04:23.754Z"
   },
   {
    "duration": 10,
    "start_time": "2025-02-11T12:06:22.319Z"
   },
   {
    "duration": 487,
    "start_time": "2025-02-11T12:06:28.661Z"
   },
   {
    "duration": 214,
    "start_time": "2025-02-11T12:06:44.062Z"
   },
   {
    "duration": 8,
    "start_time": "2025-02-11T12:10:54.055Z"
   },
   {
    "duration": 10,
    "start_time": "2025-02-11T12:11:03.904Z"
   },
   {
    "duration": 69,
    "start_time": "2025-02-11T12:11:16.116Z"
   },
   {
    "duration": 10,
    "start_time": "2025-02-11T12:12:37.896Z"
   },
   {
    "duration": 11,
    "start_time": "2025-02-11T12:13:03.316Z"
   },
   {
    "duration": 51,
    "start_time": "2025-02-11T12:13:49.474Z"
   },
   {
    "duration": 32,
    "start_time": "2025-02-11T12:14:08.406Z"
   },
   {
    "duration": 10,
    "start_time": "2025-02-11T12:15:12.123Z"
   },
   {
    "duration": 33,
    "start_time": "2025-02-11T12:15:20.880Z"
   },
   {
    "duration": 33,
    "start_time": "2025-02-11T12:17:14.889Z"
   },
   {
    "duration": 63,
    "start_time": "2025-02-11T12:18:13.726Z"
   },
   {
    "duration": 36,
    "start_time": "2025-02-11T12:18:27.727Z"
   },
   {
    "duration": 44,
    "start_time": "2025-02-11T12:18:50.249Z"
   },
   {
    "duration": 29,
    "start_time": "2025-02-11T12:19:05.734Z"
   },
   {
    "duration": 57,
    "start_time": "2025-02-11T12:19:23.479Z"
   },
   {
    "duration": 63,
    "start_time": "2025-02-11T12:21:04.023Z"
   },
   {
    "duration": 36,
    "start_time": "2025-02-11T12:22:01.078Z"
   },
   {
    "duration": 61,
    "start_time": "2025-02-11T12:22:12.502Z"
   },
   {
    "duration": 1278,
    "start_time": "2025-02-11T12:24:16.376Z"
   },
   {
    "duration": 59,
    "start_time": "2025-02-11T12:24:55.155Z"
   },
   {
    "duration": 6,
    "start_time": "2025-02-11T12:28:07.830Z"
   },
   {
    "duration": 6,
    "start_time": "2025-02-11T12:28:08.694Z"
   },
   {
    "duration": 185,
    "start_time": "2025-02-11T12:28:09.565Z"
   },
   {
    "duration": 397,
    "start_time": "2025-02-11T12:30:18.031Z"
   },
   {
    "duration": 411,
    "start_time": "2025-02-11T12:30:18.430Z"
   },
   {
    "duration": 597,
    "start_time": "2025-02-11T12:30:18.843Z"
   },
   {
    "duration": 1417,
    "start_time": "2025-02-11T12:30:19.442Z"
   },
   {
    "duration": 57,
    "start_time": "2025-02-11T12:30:20.861Z"
   },
   {
    "duration": 172,
    "start_time": "2025-02-11T12:30:20.920Z"
   },
   {
    "duration": 378,
    "start_time": "2025-02-11T12:30:21.093Z"
   },
   {
    "duration": 29,
    "start_time": "2025-02-11T12:30:21.473Z"
   },
   {
    "duration": 18,
    "start_time": "2025-02-11T12:30:21.504Z"
   },
   {
    "duration": 7,
    "start_time": "2025-02-11T12:30:21.524Z"
   },
   {
    "duration": 28,
    "start_time": "2025-02-11T12:30:21.532Z"
   },
   {
    "duration": 15,
    "start_time": "2025-02-11T12:30:21.562Z"
   },
   {
    "duration": 21,
    "start_time": "2025-02-11T12:30:21.579Z"
   },
   {
    "duration": 21,
    "start_time": "2025-02-11T12:30:21.602Z"
   },
   {
    "duration": 13,
    "start_time": "2025-02-11T12:30:21.625Z"
   },
   {
    "duration": 22,
    "start_time": "2025-02-11T12:30:21.639Z"
   },
   {
    "duration": 19,
    "start_time": "2025-02-11T12:30:21.663Z"
   },
   {
    "duration": 14,
    "start_time": "2025-02-11T12:30:21.684Z"
   },
   {
    "duration": 8971,
    "start_time": "2025-02-11T12:30:21.699Z"
   },
   {
    "duration": 45,
    "start_time": "2025-02-11T12:30:30.672Z"
   },
   {
    "duration": 22,
    "start_time": "2025-02-11T12:30:30.719Z"
   },
   {
    "duration": 79,
    "start_time": "2025-02-11T12:30:30.743Z"
   },
   {
    "duration": 12,
    "start_time": "2025-02-11T12:30:30.824Z"
   },
   {
    "duration": 7,
    "start_time": "2025-02-11T12:30:30.838Z"
   },
   {
    "duration": 84,
    "start_time": "2025-02-11T12:30:30.847Z"
   },
   {
    "duration": 20,
    "start_time": "2025-02-11T12:30:30.933Z"
   },
   {
    "duration": 56,
    "start_time": "2025-02-11T12:30:30.954Z"
   },
   {
    "duration": 17,
    "start_time": "2025-02-11T12:30:31.015Z"
   },
   {
    "duration": 6,
    "start_time": "2025-02-11T12:30:31.033Z"
   },
   {
    "duration": 11,
    "start_time": "2025-02-11T12:30:31.041Z"
   },
   {
    "duration": 393,
    "start_time": "2025-02-11T12:30:31.054Z"
   },
   {
    "duration": 135,
    "start_time": "2025-02-11T12:30:31.449Z"
   },
   {
    "duration": 0,
    "start_time": "2025-02-11T12:30:31.586Z"
   },
   {
    "duration": 0,
    "start_time": "2025-02-11T12:30:31.587Z"
   },
   {
    "duration": 0,
    "start_time": "2025-02-11T12:30:31.588Z"
   },
   {
    "duration": 0,
    "start_time": "2025-02-11T12:30:31.589Z"
   },
   {
    "duration": 0,
    "start_time": "2025-02-11T12:30:31.591Z"
   },
   {
    "duration": 0,
    "start_time": "2025-02-11T12:30:31.592Z"
   },
   {
    "duration": 0,
    "start_time": "2025-02-11T12:30:31.610Z"
   },
   {
    "duration": 0,
    "start_time": "2025-02-11T12:30:31.611Z"
   },
   {
    "duration": 0,
    "start_time": "2025-02-11T12:30:31.612Z"
   },
   {
    "duration": 0,
    "start_time": "2025-02-11T12:30:31.614Z"
   },
   {
    "duration": 0,
    "start_time": "2025-02-11T12:30:31.615Z"
   },
   {
    "duration": 0,
    "start_time": "2025-02-11T12:30:31.616Z"
   },
   {
    "duration": 0,
    "start_time": "2025-02-11T12:30:31.617Z"
   },
   {
    "duration": 0,
    "start_time": "2025-02-11T12:30:31.618Z"
   },
   {
    "duration": 0,
    "start_time": "2025-02-11T12:30:31.620Z"
   },
   {
    "duration": 0,
    "start_time": "2025-02-11T12:30:31.621Z"
   },
   {
    "duration": 0,
    "start_time": "2025-02-11T12:30:31.622Z"
   },
   {
    "duration": 0,
    "start_time": "2025-02-11T12:30:31.623Z"
   },
   {
    "duration": 0,
    "start_time": "2025-02-11T12:30:31.624Z"
   },
   {
    "duration": 0,
    "start_time": "2025-02-11T12:30:31.625Z"
   },
   {
    "duration": 0,
    "start_time": "2025-02-11T12:30:31.626Z"
   },
   {
    "duration": 0,
    "start_time": "2025-02-11T12:30:31.627Z"
   },
   {
    "duration": 0,
    "start_time": "2025-02-11T12:30:31.629Z"
   },
   {
    "duration": 0,
    "start_time": "2025-02-11T12:30:31.629Z"
   },
   {
    "duration": 0,
    "start_time": "2025-02-11T12:30:31.630Z"
   },
   {
    "duration": 0,
    "start_time": "2025-02-11T12:30:31.631Z"
   },
   {
    "duration": 0,
    "start_time": "2025-02-11T12:30:31.633Z"
   },
   {
    "duration": 0,
    "start_time": "2025-02-11T12:30:31.634Z"
   },
   {
    "duration": 0,
    "start_time": "2025-02-11T12:30:31.635Z"
   },
   {
    "duration": 0,
    "start_time": "2025-02-11T12:30:31.636Z"
   },
   {
    "duration": 0,
    "start_time": "2025-02-11T12:30:31.638Z"
   },
   {
    "duration": 0,
    "start_time": "2025-02-11T12:30:31.639Z"
   },
   {
    "duration": 0,
    "start_time": "2025-02-11T12:30:31.640Z"
   },
   {
    "duration": 0,
    "start_time": "2025-02-11T12:30:31.641Z"
   },
   {
    "duration": 0,
    "start_time": "2025-02-11T12:30:31.642Z"
   },
   {
    "duration": 0,
    "start_time": "2025-02-11T12:30:31.643Z"
   },
   {
    "duration": 0,
    "start_time": "2025-02-11T12:30:31.644Z"
   },
   {
    "duration": 0,
    "start_time": "2025-02-11T12:30:31.645Z"
   },
   {
    "duration": 0,
    "start_time": "2025-02-11T12:30:31.709Z"
   },
   {
    "duration": 0,
    "start_time": "2025-02-11T12:30:31.711Z"
   },
   {
    "duration": 0,
    "start_time": "2025-02-11T12:30:31.712Z"
   },
   {
    "duration": 0,
    "start_time": "2025-02-11T12:30:31.713Z"
   },
   {
    "duration": 0,
    "start_time": "2025-02-11T12:30:31.715Z"
   },
   {
    "duration": 0,
    "start_time": "2025-02-11T12:30:31.716Z"
   },
   {
    "duration": 4,
    "start_time": "2025-02-11T12:31:53.336Z"
   },
   {
    "duration": 3,
    "start_time": "2025-02-11T12:31:54.144Z"
   },
   {
    "duration": 2,
    "start_time": "2025-02-11T12:31:54.923Z"
   },
   {
    "duration": 1333,
    "start_time": "2025-02-11T12:31:56.322Z"
   },
   {
    "duration": 3,
    "start_time": "2025-02-11T12:31:58.428Z"
   },
   {
    "duration": 135,
    "start_time": "2025-02-11T12:32:08.357Z"
   },
   {
    "duration": 64,
    "start_time": "2025-02-11T12:32:09.404Z"
   },
   {
    "duration": 26,
    "start_time": "2025-02-11T12:32:11.518Z"
   },
   {
    "duration": 19,
    "start_time": "2025-02-11T12:32:12.860Z"
   },
   {
    "duration": 7,
    "start_time": "2025-02-11T12:32:17.876Z"
   },
   {
    "duration": 10,
    "start_time": "2025-02-11T12:32:18.903Z"
   },
   {
    "duration": 18,
    "start_time": "2025-02-11T12:32:25.979Z"
   },
   {
    "duration": 22,
    "start_time": "2025-02-11T12:32:27.058Z"
   },
   {
    "duration": 23,
    "start_time": "2025-02-11T12:32:28.072Z"
   },
   {
    "duration": 4,
    "start_time": "2025-02-11T12:32:32.260Z"
   },
   {
    "duration": 4,
    "start_time": "2025-02-11T12:32:33.132Z"
   },
   {
    "duration": 11,
    "start_time": "2025-02-11T12:32:37.857Z"
   },
   {
    "duration": 12,
    "start_time": "2025-02-11T12:32:39.084Z"
   },
   {
    "duration": 8696,
    "start_time": "2025-02-11T12:32:49.388Z"
   },
   {
    "duration": 17,
    "start_time": "2025-02-11T12:33:00.519Z"
   },
   {
    "duration": 19,
    "start_time": "2025-02-11T12:33:26.276Z"
   },
   {
    "duration": 13,
    "start_time": "2025-02-11T12:33:27.325Z"
   },
   {
    "duration": 9,
    "start_time": "2025-02-11T12:33:28.427Z"
   },
   {
    "duration": 3,
    "start_time": "2025-02-11T12:33:32.514Z"
   },
   {
    "duration": 25,
    "start_time": "2025-02-11T12:33:37.799Z"
   },
   {
    "duration": 6,
    "start_time": "2025-02-11T12:33:39.147Z"
   },
   {
    "duration": 4,
    "start_time": "2025-02-11T12:33:42.749Z"
   },
   {
    "duration": 4,
    "start_time": "2025-02-11T12:33:43.583Z"
   },
   {
    "duration": 4,
    "start_time": "2025-02-11T12:33:44.488Z"
   },
   {
    "duration": 5,
    "start_time": "2025-02-11T12:33:49.846Z"
   },
   {
    "duration": 191,
    "start_time": "2025-02-11T12:33:52.191Z"
   },
   {
    "duration": 15,
    "start_time": "2025-02-11T12:33:55.581Z"
   },
   {
    "duration": 3,
    "start_time": "2025-02-11T12:33:56.639Z"
   },
   {
    "duration": 182,
    "start_time": "2025-02-11T12:33:57.562Z"
   },
   {
    "duration": 5,
    "start_time": "2025-02-11T12:34:13.539Z"
   },
   {
    "duration": 239,
    "start_time": "2025-02-11T12:34:14.511Z"
   },
   {
    "duration": 7,
    "start_time": "2025-02-11T12:34:58.290Z"
   },
   {
    "duration": 5,
    "start_time": "2025-02-11T12:34:59.088Z"
   },
   {
    "duration": 175,
    "start_time": "2025-02-11T12:34:59.851Z"
   },
   {
    "duration": 6,
    "start_time": "2025-02-11T12:35:31.452Z"
   },
   {
    "duration": 6,
    "start_time": "2025-02-11T12:36:15.511Z"
   },
   {
    "duration": 69,
    "start_time": "2025-02-11T12:36:33.627Z"
   },
   {
    "duration": 176,
    "start_time": "2025-02-11T12:37:13.276Z"
   },
   {
    "duration": 189,
    "start_time": "2025-02-11T12:37:59.924Z"
   },
   {
    "duration": 8,
    "start_time": "2025-02-11T12:40:26.843Z"
   },
   {
    "duration": 5,
    "start_time": "2025-02-11T12:40:27.569Z"
   },
   {
    "duration": 205,
    "start_time": "2025-02-11T12:40:28.231Z"
   },
   {
    "duration": 8,
    "start_time": "2025-02-11T12:40:32.050Z"
   },
   {
    "duration": 224,
    "start_time": "2025-02-11T12:40:34.323Z"
   },
   {
    "duration": 178,
    "start_time": "2025-02-11T12:40:55.944Z"
   },
   {
    "duration": 145,
    "start_time": "2025-02-11T12:41:31.236Z"
   },
   {
    "duration": 8,
    "start_time": "2025-02-11T12:41:40.038Z"
   },
   {
    "duration": 8,
    "start_time": "2025-02-11T12:41:42.387Z"
   },
   {
    "duration": 9,
    "start_time": "2025-02-11T12:41:44.108Z"
   },
   {
    "duration": 450,
    "start_time": "2025-02-11T12:41:46.456Z"
   },
   {
    "duration": 4,
    "start_time": "2025-02-11T12:41:51.482Z"
   },
   {
    "duration": 161,
    "start_time": "2025-02-11T12:41:52.524Z"
   },
   {
    "duration": 182,
    "start_time": "2025-02-11T12:43:27.780Z"
   },
   {
    "duration": 6,
    "start_time": "2025-02-11T12:44:00.762Z"
   },
   {
    "duration": 178,
    "start_time": "2025-02-11T12:44:01.719Z"
   },
   {
    "duration": 7,
    "start_time": "2025-02-11T12:44:04.549Z"
   },
   {
    "duration": 933,
    "start_time": "2025-02-11T12:44:18.444Z"
   },
   {
    "duration": 4,
    "start_time": "2025-02-11T12:44:19.399Z"
   },
   {
    "duration": 448,
    "start_time": "2025-02-11T12:44:20.461Z"
   },
   {
    "duration": 9,
    "start_time": "2025-02-11T12:44:22.255Z"
   },
   {
    "duration": 6,
    "start_time": "2025-02-11T12:45:03.337Z"
   },
   {
    "duration": 324,
    "start_time": "2025-02-11T12:45:03.346Z"
   },
   {
    "duration": 213,
    "start_time": "2025-02-11T12:45:07.471Z"
   },
   {
    "duration": 314,
    "start_time": "2025-02-11T12:45:13.285Z"
   },
   {
    "duration": 6,
    "start_time": "2025-02-11T12:46:26.544Z"
   },
   {
    "duration": 12,
    "start_time": "2025-02-11T12:46:27.791Z"
   },
   {
    "duration": 266,
    "start_time": "2025-02-11T12:46:29.800Z"
   },
   {
    "duration": 284,
    "start_time": "2025-02-11T12:46:46.151Z"
   },
   {
    "duration": 9,
    "start_time": "2025-02-11T12:47:00.298Z"
   },
   {
    "duration": 119,
    "start_time": "2025-02-11T12:47:03.293Z"
   },
   {
    "duration": 110,
    "start_time": "2025-02-11T12:47:44.260Z"
   },
   {
    "duration": 128,
    "start_time": "2025-02-11T12:47:50.710Z"
   },
   {
    "duration": 128,
    "start_time": "2025-02-11T12:48:14.684Z"
   },
   {
    "duration": 132,
    "start_time": "2025-02-11T12:49:07.921Z"
   },
   {
    "duration": 136,
    "start_time": "2025-02-11T12:49:27.310Z"
   },
   {
    "duration": 183,
    "start_time": "2025-02-11T12:50:40.630Z"
   },
   {
    "duration": 125,
    "start_time": "2025-02-11T12:51:12.402Z"
   },
   {
    "duration": 15,
    "start_time": "2025-02-11T12:51:16.164Z"
   },
   {
    "duration": 465,
    "start_time": "2025-02-11T12:51:17.418Z"
   },
   {
    "duration": 59,
    "start_time": "2025-02-11T12:51:22.484Z"
   },
   {
    "duration": 5,
    "start_time": "2025-02-11T12:51:24.813Z"
   },
   {
    "duration": 5,
    "start_time": "2025-02-11T12:51:25.619Z"
   },
   {
    "duration": 199,
    "start_time": "2025-02-11T12:51:26.476Z"
   },
   {
    "duration": 5,
    "start_time": "2025-02-11T12:51:35.455Z"
   },
   {
    "duration": 200,
    "start_time": "2025-02-11T12:51:36.184Z"
   },
   {
    "duration": 5,
    "start_time": "2025-02-11T12:51:38.193Z"
   },
   {
    "duration": 199,
    "start_time": "2025-02-11T12:51:39.000Z"
   },
   {
    "duration": 12,
    "start_time": "2025-02-11T12:59:46.565Z"
   },
   {
    "duration": 295,
    "start_time": "2025-02-11T13:00:10.829Z"
   },
   {
    "duration": 11,
    "start_time": "2025-02-11T13:00:29.066Z"
   },
   {
    "duration": 15,
    "start_time": "2025-02-11T13:02:13.623Z"
   },
   {
    "duration": 1070,
    "start_time": "2025-02-11T13:02:35.728Z"
   },
   {
    "duration": 1154,
    "start_time": "2025-02-11T13:03:16.966Z"
   },
   {
    "duration": 206,
    "start_time": "2025-02-11T13:04:38.997Z"
   },
   {
    "duration": 1781,
    "start_time": "2025-02-11T13:51:30.775Z"
   },
   {
    "duration": 3012,
    "start_time": "2025-02-11T13:51:35.279Z"
   },
   {
    "duration": 434,
    "start_time": "2025-02-11T13:52:18.041Z"
   },
   {
    "duration": 235,
    "start_time": "2025-02-11T13:52:18.477Z"
   },
   {
    "duration": 538,
    "start_time": "2025-02-11T13:52:18.713Z"
   },
   {
    "duration": 2762,
    "start_time": "2025-02-11T13:52:19.253Z"
   },
   {
    "duration": 440,
    "start_time": "2025-02-11T13:52:22.017Z"
   },
   {
    "duration": 186,
    "start_time": "2025-02-11T13:52:22.458Z"
   },
   {
    "duration": 62,
    "start_time": "2025-02-11T13:52:22.646Z"
   },
   {
    "duration": 27,
    "start_time": "2025-02-11T13:52:22.710Z"
   },
   {
    "duration": 45,
    "start_time": "2025-02-11T13:52:22.738Z"
   },
   {
    "duration": 23,
    "start_time": "2025-02-11T13:52:22.785Z"
   },
   {
    "duration": 36,
    "start_time": "2025-02-11T13:52:22.809Z"
   },
   {
    "duration": 35,
    "start_time": "2025-02-11T13:52:22.847Z"
   },
   {
    "duration": 32,
    "start_time": "2025-02-11T13:52:22.884Z"
   },
   {
    "duration": 25,
    "start_time": "2025-02-11T13:52:22.917Z"
   },
   {
    "duration": 33,
    "start_time": "2025-02-11T13:52:22.944Z"
   },
   {
    "duration": 29,
    "start_time": "2025-02-11T13:52:22.978Z"
   },
   {
    "duration": 41,
    "start_time": "2025-02-11T13:52:23.008Z"
   },
   {
    "duration": 30,
    "start_time": "2025-02-11T13:52:23.050Z"
   },
   {
    "duration": 8572,
    "start_time": "2025-02-11T13:52:23.081Z"
   },
   {
    "duration": 24,
    "start_time": "2025-02-11T13:52:31.655Z"
   },
   {
    "duration": 81,
    "start_time": "2025-02-11T13:52:31.681Z"
   },
   {
    "duration": 18,
    "start_time": "2025-02-11T13:52:31.764Z"
   },
   {
    "duration": 1458,
    "start_time": "2025-02-11T13:52:31.784Z"
   },
   {
    "duration": 0,
    "start_time": "2025-02-11T13:52:33.246Z"
   },
   {
    "duration": 0,
    "start_time": "2025-02-11T13:52:33.247Z"
   },
   {
    "duration": 0,
    "start_time": "2025-02-11T13:52:33.248Z"
   },
   {
    "duration": 0,
    "start_time": "2025-02-11T13:52:33.250Z"
   },
   {
    "duration": 0,
    "start_time": "2025-02-11T13:52:33.251Z"
   },
   {
    "duration": 0,
    "start_time": "2025-02-11T13:52:33.252Z"
   },
   {
    "duration": 0,
    "start_time": "2025-02-11T13:52:33.253Z"
   },
   {
    "duration": 0,
    "start_time": "2025-02-11T13:52:33.254Z"
   },
   {
    "duration": 0,
    "start_time": "2025-02-11T13:52:33.255Z"
   },
   {
    "duration": 0,
    "start_time": "2025-02-11T13:52:33.256Z"
   },
   {
    "duration": 0,
    "start_time": "2025-02-11T13:52:33.257Z"
   },
   {
    "duration": 0,
    "start_time": "2025-02-11T13:52:33.258Z"
   },
   {
    "duration": 0,
    "start_time": "2025-02-11T13:52:33.259Z"
   },
   {
    "duration": 0,
    "start_time": "2025-02-11T13:52:33.260Z"
   },
   {
    "duration": 0,
    "start_time": "2025-02-11T13:52:33.261Z"
   },
   {
    "duration": 0,
    "start_time": "2025-02-11T13:52:33.262Z"
   },
   {
    "duration": 0,
    "start_time": "2025-02-11T13:52:33.263Z"
   },
   {
    "duration": 0,
    "start_time": "2025-02-11T13:52:33.264Z"
   },
   {
    "duration": 0,
    "start_time": "2025-02-11T13:52:33.265Z"
   },
   {
    "duration": 0,
    "start_time": "2025-02-11T13:52:33.266Z"
   },
   {
    "duration": 0,
    "start_time": "2025-02-11T13:52:33.267Z"
   },
   {
    "duration": 0,
    "start_time": "2025-02-11T13:52:33.268Z"
   },
   {
    "duration": 0,
    "start_time": "2025-02-11T13:52:33.269Z"
   },
   {
    "duration": 0,
    "start_time": "2025-02-11T13:52:33.270Z"
   },
   {
    "duration": 0,
    "start_time": "2025-02-11T13:52:33.272Z"
   },
   {
    "duration": 0,
    "start_time": "2025-02-11T13:52:33.273Z"
   },
   {
    "duration": 0,
    "start_time": "2025-02-11T13:52:33.274Z"
   },
   {
    "duration": 0,
    "start_time": "2025-02-11T13:52:33.275Z"
   },
   {
    "duration": 0,
    "start_time": "2025-02-11T13:52:33.276Z"
   },
   {
    "duration": 0,
    "start_time": "2025-02-11T13:52:33.278Z"
   },
   {
    "duration": 0,
    "start_time": "2025-02-11T13:52:33.279Z"
   },
   {
    "duration": 0,
    "start_time": "2025-02-11T13:52:33.280Z"
   },
   {
    "duration": 0,
    "start_time": "2025-02-11T13:52:33.281Z"
   },
   {
    "duration": 0,
    "start_time": "2025-02-11T13:52:33.282Z"
   },
   {
    "duration": 0,
    "start_time": "2025-02-11T13:52:33.284Z"
   },
   {
    "duration": 0,
    "start_time": "2025-02-11T13:52:33.285Z"
   },
   {
    "duration": 0,
    "start_time": "2025-02-11T13:52:33.286Z"
   },
   {
    "duration": 0,
    "start_time": "2025-02-11T13:52:33.287Z"
   },
   {
    "duration": 0,
    "start_time": "2025-02-11T13:52:33.288Z"
   },
   {
    "duration": 0,
    "start_time": "2025-02-11T13:52:33.289Z"
   },
   {
    "duration": 0,
    "start_time": "2025-02-11T13:52:33.290Z"
   },
   {
    "duration": 0,
    "start_time": "2025-02-11T13:52:33.291Z"
   },
   {
    "duration": 1,
    "start_time": "2025-02-11T13:52:33.291Z"
   },
   {
    "duration": 0,
    "start_time": "2025-02-11T13:52:33.292Z"
   },
   {
    "duration": 0,
    "start_time": "2025-02-11T13:52:33.293Z"
   },
   {
    "duration": 0,
    "start_time": "2025-02-11T13:52:33.295Z"
   },
   {
    "duration": 0,
    "start_time": "2025-02-11T13:52:33.296Z"
   },
   {
    "duration": 0,
    "start_time": "2025-02-11T13:52:33.297Z"
   },
   {
    "duration": 0,
    "start_time": "2025-02-11T13:52:33.361Z"
   },
   {
    "duration": 0,
    "start_time": "2025-02-11T13:52:33.362Z"
   },
   {
    "duration": 0,
    "start_time": "2025-02-11T13:52:33.364Z"
   },
   {
    "duration": 0,
    "start_time": "2025-02-11T13:52:33.365Z"
   },
   {
    "duration": 0,
    "start_time": "2025-02-11T13:52:33.366Z"
   },
   {
    "duration": 0,
    "start_time": "2025-02-11T13:52:33.367Z"
   },
   {
    "duration": 0,
    "start_time": "2025-02-11T13:52:33.368Z"
   },
   {
    "duration": 0,
    "start_time": "2025-02-11T13:52:33.369Z"
   },
   {
    "duration": 0,
    "start_time": "2025-02-11T13:52:33.370Z"
   },
   {
    "duration": 10,
    "start_time": "2025-02-11T13:56:29.473Z"
   },
   {
    "duration": 4,
    "start_time": "2025-02-11T13:56:33.994Z"
   },
   {
    "duration": 21,
    "start_time": "2025-02-11T13:56:34.020Z"
   },
   {
    "duration": 20,
    "start_time": "2025-02-11T13:56:34.046Z"
   },
   {
    "duration": 14,
    "start_time": "2025-02-11T13:56:34.073Z"
   },
   {
    "duration": 33,
    "start_time": "2025-02-11T13:56:34.098Z"
   },
   {
    "duration": 19,
    "start_time": "2025-02-11T13:56:34.133Z"
   },
   {
    "duration": 10,
    "start_time": "2025-02-11T13:56:34.155Z"
   },
   {
    "duration": 208,
    "start_time": "2025-02-11T13:56:34.179Z"
   },
   {
    "duration": 13,
    "start_time": "2025-02-11T13:56:34.389Z"
   },
   {
    "duration": 0,
    "start_time": "2025-02-11T13:56:34.404Z"
   },
   {
    "duration": 0,
    "start_time": "2025-02-11T13:56:34.405Z"
   },
   {
    "duration": 0,
    "start_time": "2025-02-11T13:56:34.406Z"
   },
   {
    "duration": 0,
    "start_time": "2025-02-11T13:56:34.408Z"
   },
   {
    "duration": 0,
    "start_time": "2025-02-11T13:56:34.409Z"
   },
   {
    "duration": 0,
    "start_time": "2025-02-11T13:56:34.410Z"
   },
   {
    "duration": 0,
    "start_time": "2025-02-11T13:56:34.411Z"
   },
   {
    "duration": 0,
    "start_time": "2025-02-11T13:56:34.412Z"
   },
   {
    "duration": 45,
    "start_time": "2025-02-11T13:56:34.424Z"
   },
   {
    "duration": 0,
    "start_time": "2025-02-11T13:56:34.471Z"
   },
   {
    "duration": 8,
    "start_time": "2025-02-11T13:56:34.473Z"
   },
   {
    "duration": 281,
    "start_time": "2025-02-11T13:56:34.494Z"
   },
   {
    "duration": 230,
    "start_time": "2025-02-11T13:56:34.777Z"
   },
   {
    "duration": 183,
    "start_time": "2025-02-11T13:56:35.009Z"
   },
   {
    "duration": 8,
    "start_time": "2025-02-11T13:56:35.194Z"
   },
   {
    "duration": 23,
    "start_time": "2025-02-11T13:56:35.204Z"
   },
   {
    "duration": 13,
    "start_time": "2025-02-11T13:56:35.229Z"
   },
   {
    "duration": 517,
    "start_time": "2025-02-11T13:56:35.262Z"
   },
   {
    "duration": 6,
    "start_time": "2025-02-11T13:56:35.781Z"
   },
   {
    "duration": 207,
    "start_time": "2025-02-11T13:56:35.789Z"
   },
   {
    "duration": 6,
    "start_time": "2025-02-11T13:56:35.999Z"
   },
   {
    "duration": 232,
    "start_time": "2025-02-11T13:56:36.007Z"
   },
   {
    "duration": 8,
    "start_time": "2025-02-11T13:56:36.241Z"
   },
   {
    "duration": 1354,
    "start_time": "2025-02-11T13:56:36.261Z"
   },
   {
    "duration": 0,
    "start_time": "2025-02-11T13:56:37.617Z"
   },
   {
    "duration": 0,
    "start_time": "2025-02-11T13:56:37.618Z"
   },
   {
    "duration": 0,
    "start_time": "2025-02-11T13:56:37.619Z"
   },
   {
    "duration": 0,
    "start_time": "2025-02-11T13:56:37.621Z"
   },
   {
    "duration": 0,
    "start_time": "2025-02-11T13:56:37.622Z"
   },
   {
    "duration": 0,
    "start_time": "2025-02-11T13:56:37.623Z"
   },
   {
    "duration": 0,
    "start_time": "2025-02-11T13:56:37.624Z"
   },
   {
    "duration": 0,
    "start_time": "2025-02-11T13:56:37.625Z"
   },
   {
    "duration": 0,
    "start_time": "2025-02-11T13:56:37.626Z"
   },
   {
    "duration": 0,
    "start_time": "2025-02-11T13:56:37.627Z"
   },
   {
    "duration": 0,
    "start_time": "2025-02-11T13:56:37.629Z"
   },
   {
    "duration": 0,
    "start_time": "2025-02-11T13:56:37.630Z"
   },
   {
    "duration": 0,
    "start_time": "2025-02-11T13:56:37.630Z"
   },
   {
    "duration": 0,
    "start_time": "2025-02-11T13:56:37.632Z"
   },
   {
    "duration": 0,
    "start_time": "2025-02-11T13:56:37.633Z"
   },
   {
    "duration": 0,
    "start_time": "2025-02-11T13:56:37.634Z"
   },
   {
    "duration": 0,
    "start_time": "2025-02-11T13:56:37.635Z"
   },
   {
    "duration": 0,
    "start_time": "2025-02-11T13:56:37.636Z"
   },
   {
    "duration": 0,
    "start_time": "2025-02-11T13:56:37.637Z"
   },
   {
    "duration": 0,
    "start_time": "2025-02-11T13:56:37.638Z"
   },
   {
    "duration": 0,
    "start_time": "2025-02-11T13:56:37.640Z"
   },
   {
    "duration": 0,
    "start_time": "2025-02-11T13:56:37.641Z"
   },
   {
    "duration": 0,
    "start_time": "2025-02-11T13:56:37.641Z"
   },
   {
    "duration": 12,
    "start_time": "2025-02-11T13:58:16.881Z"
   },
   {
    "duration": 25,
    "start_time": "2025-02-11T13:58:26.153Z"
   },
   {
    "duration": 3,
    "start_time": "2025-02-11T14:02:58.829Z"
   },
   {
    "duration": 194,
    "start_time": "2025-02-11T14:02:59.409Z"
   },
   {
    "duration": 9,
    "start_time": "2025-02-11T14:04:44.584Z"
   },
   {
    "duration": 10,
    "start_time": "2025-02-11T14:05:11.337Z"
   },
   {
    "duration": 9,
    "start_time": "2025-02-11T14:05:26.506Z"
   },
   {
    "duration": 83,
    "start_time": "2025-02-11T14:05:37.739Z"
   },
   {
    "duration": 9,
    "start_time": "2025-02-11T14:05:41.689Z"
   },
   {
    "duration": 52,
    "start_time": "2025-02-11T14:15:20.327Z"
   },
   {
    "duration": 7,
    "start_time": "2025-02-11T14:24:15.991Z"
   },
   {
    "duration": 480,
    "start_time": "2025-02-11T14:28:55.926Z"
   },
   {
    "duration": 470,
    "start_time": "2025-02-11T14:28:56.586Z"
   },
   {
    "duration": 619,
    "start_time": "2025-02-11T14:28:57.232Z"
   },
   {
    "duration": 3871,
    "start_time": "2025-02-11T14:29:01.161Z"
   },
   {
    "duration": 59,
    "start_time": "2025-02-11T14:29:05.035Z"
   },
   {
    "duration": 164,
    "start_time": "2025-02-11T14:29:05.095Z"
   },
   {
    "duration": 216,
    "start_time": "2025-02-11T14:29:05.261Z"
   },
   {
    "duration": 31,
    "start_time": "2025-02-11T14:29:06.305Z"
   },
   {
    "duration": 21,
    "start_time": "2025-02-11T14:29:06.877Z"
   },
   {
    "duration": 7,
    "start_time": "2025-02-11T14:29:08.880Z"
   },
   {
    "duration": 10,
    "start_time": "2025-02-11T14:29:09.513Z"
   },
   {
    "duration": 12,
    "start_time": "2025-02-11T14:29:22.531Z"
   },
   {
    "duration": 17,
    "start_time": "2025-02-11T14:29:23.521Z"
   },
   {
    "duration": 16,
    "start_time": "2025-02-11T14:29:24.912Z"
   },
   {
    "duration": 4,
    "start_time": "2025-02-11T14:29:32.133Z"
   },
   {
    "duration": 3,
    "start_time": "2025-02-11T14:29:33.060Z"
   },
   {
    "duration": 11,
    "start_time": "2025-02-11T14:29:35.983Z"
   },
   {
    "duration": 12,
    "start_time": "2025-02-11T14:29:37.020Z"
   },
   {
    "duration": 9306,
    "start_time": "2025-02-11T14:29:49.046Z"
   },
   {
    "duration": 28,
    "start_time": "2025-02-11T14:29:58.355Z"
   },
   {
    "duration": 15,
    "start_time": "2025-02-11T14:29:58.385Z"
   },
   {
    "duration": 71,
    "start_time": "2025-02-11T14:29:58.402Z"
   },
   {
    "duration": 1264,
    "start_time": "2025-02-11T14:30:47.528Z"
   },
   {
    "duration": 33,
    "start_time": "2025-02-11T14:30:49.102Z"
   },
   {
    "duration": 10,
    "start_time": "2025-02-11T14:30:49.869Z"
   },
   {
    "duration": 4,
    "start_time": "2025-02-11T14:30:52.980Z"
   },
   {
    "duration": 20,
    "start_time": "2025-02-11T14:31:02.724Z"
   },
   {
    "duration": 7,
    "start_time": "2025-02-11T14:31:03.874Z"
   },
   {
    "duration": 5,
    "start_time": "2025-02-11T14:31:10.582Z"
   },
   {
    "duration": 5,
    "start_time": "2025-02-11T14:31:11.346Z"
   },
   {
    "duration": 5,
    "start_time": "2025-02-11T14:31:12.046Z"
   },
   {
    "duration": 8,
    "start_time": "2025-02-11T14:38:06.678Z"
   },
   {
    "duration": 10,
    "start_time": "2025-02-11T14:38:39.617Z"
   },
   {
    "duration": 5,
    "start_time": "2025-02-11T14:38:48.384Z"
   },
   {
    "duration": 210,
    "start_time": "2025-02-11T14:38:55.476Z"
   },
   {
    "duration": 7,
    "start_time": "2025-02-11T14:39:28.202Z"
   },
   {
    "duration": 4,
    "start_time": "2025-02-11T14:39:29.121Z"
   },
   {
    "duration": 4,
    "start_time": "2025-02-11T14:39:33.728Z"
   },
   {
    "duration": 202,
    "start_time": "2025-02-11T14:39:37.815Z"
   },
   {
    "duration": 8,
    "start_time": "2025-02-11T14:40:12.090Z"
   },
   {
    "duration": 246,
    "start_time": "2025-02-11T14:40:13.035Z"
   },
   {
    "duration": 197,
    "start_time": "2025-02-11T14:40:18.170Z"
   },
   {
    "duration": 167,
    "start_time": "2025-02-11T14:40:20.548Z"
   },
   {
    "duration": 8,
    "start_time": "2025-02-11T14:40:22.581Z"
   },
   {
    "duration": 8,
    "start_time": "2025-02-11T14:40:26.567Z"
   },
   {
    "duration": 9,
    "start_time": "2025-02-11T14:40:28.179Z"
   },
   {
    "duration": 503,
    "start_time": "2025-02-11T14:40:29.774Z"
   },
   {
    "duration": 4,
    "start_time": "2025-02-11T14:40:31.527Z"
   },
   {
    "duration": 190,
    "start_time": "2025-02-11T14:40:32.385Z"
   },
   {
    "duration": 5,
    "start_time": "2025-02-11T14:40:36.233Z"
   },
   {
    "duration": 186,
    "start_time": "2025-02-11T14:40:37.065Z"
   },
   {
    "duration": 7,
    "start_time": "2025-02-11T14:40:38.712Z"
   },
   {
    "duration": 1349,
    "start_time": "2025-02-11T14:40:42.162Z"
   },
   {
    "duration": 3,
    "start_time": "2025-02-11T14:41:44.724Z"
   },
   {
    "duration": 213,
    "start_time": "2025-02-11T14:41:46.155Z"
   },
   {
    "duration": 3,
    "start_time": "2025-02-11T14:41:52.132Z"
   },
   {
    "duration": 205,
    "start_time": "2025-02-11T14:41:52.848Z"
   },
   {
    "duration": 9,
    "start_time": "2025-02-11T14:41:53.664Z"
   },
   {
    "duration": 5,
    "start_time": "2025-02-11T14:41:57.236Z"
   },
   {
    "duration": 294,
    "start_time": "2025-02-11T14:41:58.547Z"
   },
   {
    "duration": 228,
    "start_time": "2025-02-11T14:42:04.802Z"
   },
   {
    "duration": 509,
    "start_time": "2025-02-11T14:42:08.241Z"
   },
   {
    "duration": 352,
    "start_time": "2025-02-11T14:42:26.715Z"
   },
   {
    "duration": 363,
    "start_time": "2025-02-11T14:44:15.223Z"
   },
   {
    "duration": 366,
    "start_time": "2025-02-11T14:44:31.878Z"
   },
   {
    "duration": 380,
    "start_time": "2025-02-11T14:44:38.229Z"
   },
   {
    "duration": 7,
    "start_time": "2025-02-11T14:44:46.353Z"
   },
   {
    "duration": 16,
    "start_time": "2025-02-11T14:44:47.709Z"
   },
   {
    "duration": 306,
    "start_time": "2025-02-11T14:44:49.391Z"
   },
   {
    "duration": 336,
    "start_time": "2025-02-11T14:44:58.754Z"
   },
   {
    "duration": 10,
    "start_time": "2025-02-11T14:45:02.820Z"
   },
   {
    "duration": 156,
    "start_time": "2025-02-11T14:45:04.466Z"
   },
   {
    "duration": 12,
    "start_time": "2025-02-11T14:45:06.092Z"
   },
   {
    "duration": 752,
    "start_time": "2025-02-11T14:45:07.011Z"
   },
   {
    "duration": 533,
    "start_time": "2025-02-11T14:45:12.603Z"
   },
   {
    "duration": 65,
    "start_time": "2025-02-11T14:45:14.569Z"
   },
   {
    "duration": 6,
    "start_time": "2025-02-11T14:45:16.562Z"
   },
   {
    "duration": 5,
    "start_time": "2025-02-11T14:45:17.380Z"
   },
   {
    "duration": 241,
    "start_time": "2025-02-11T14:45:18.253Z"
   },
   {
    "duration": 5,
    "start_time": "2025-02-11T14:45:21.913Z"
   },
   {
    "duration": 228,
    "start_time": "2025-02-11T14:45:22.718Z"
   },
   {
    "duration": 6,
    "start_time": "2025-02-11T14:45:25.271Z"
   },
   {
    "duration": 230,
    "start_time": "2025-02-11T14:45:26.105Z"
   },
   {
    "duration": 405,
    "start_time": "2025-02-11T14:45:45.520Z"
   },
   {
    "duration": 346,
    "start_time": "2025-02-11T14:45:45.927Z"
   },
   {
    "duration": 602,
    "start_time": "2025-02-11T14:45:46.275Z"
   },
   {
    "duration": 2816,
    "start_time": "2025-02-11T14:45:46.879Z"
   },
   {
    "duration": 73,
    "start_time": "2025-02-11T14:45:49.698Z"
   },
   {
    "duration": 125,
    "start_time": "2025-02-11T14:45:49.773Z"
   },
   {
    "duration": 93,
    "start_time": "2025-02-11T14:45:49.900Z"
   },
   {
    "duration": 32,
    "start_time": "2025-02-11T14:45:49.995Z"
   },
   {
    "duration": 49,
    "start_time": "2025-02-11T14:45:50.029Z"
   },
   {
    "duration": 8,
    "start_time": "2025-02-11T14:45:50.081Z"
   },
   {
    "duration": 12,
    "start_time": "2025-02-11T14:45:50.091Z"
   },
   {
    "duration": 13,
    "start_time": "2025-02-11T14:45:50.105Z"
   },
   {
    "duration": 17,
    "start_time": "2025-02-11T14:45:50.120Z"
   },
   {
    "duration": 46,
    "start_time": "2025-02-11T14:45:50.139Z"
   },
   {
    "duration": 8,
    "start_time": "2025-02-11T14:45:50.187Z"
   },
   {
    "duration": 23,
    "start_time": "2025-02-11T14:45:50.197Z"
   },
   {
    "duration": 12,
    "start_time": "2025-02-11T14:45:50.221Z"
   },
   {
    "duration": 12,
    "start_time": "2025-02-11T14:45:50.235Z"
   },
   {
    "duration": 10033,
    "start_time": "2025-02-11T14:45:50.248Z"
   },
   {
    "duration": 25,
    "start_time": "2025-02-11T14:46:00.283Z"
   },
   {
    "duration": 79,
    "start_time": "2025-02-11T14:46:00.310Z"
   },
   {
    "duration": 16,
    "start_time": "2025-02-11T14:46:00.392Z"
   },
   {
    "duration": 1863,
    "start_time": "2025-02-11T14:46:00.410Z"
   },
   {
    "duration": 0,
    "start_time": "2025-02-11T14:46:02.278Z"
   },
   {
    "duration": 0,
    "start_time": "2025-02-11T14:46:02.279Z"
   },
   {
    "duration": 0,
    "start_time": "2025-02-11T14:46:02.281Z"
   },
   {
    "duration": 0,
    "start_time": "2025-02-11T14:46:02.282Z"
   },
   {
    "duration": 0,
    "start_time": "2025-02-11T14:46:02.284Z"
   },
   {
    "duration": 0,
    "start_time": "2025-02-11T14:46:02.285Z"
   },
   {
    "duration": 0,
    "start_time": "2025-02-11T14:46:02.287Z"
   },
   {
    "duration": 0,
    "start_time": "2025-02-11T14:46:02.288Z"
   },
   {
    "duration": 0,
    "start_time": "2025-02-11T14:46:02.289Z"
   },
   {
    "duration": 0,
    "start_time": "2025-02-11T14:46:02.290Z"
   },
   {
    "duration": 0,
    "start_time": "2025-02-11T14:46:02.292Z"
   },
   {
    "duration": 0,
    "start_time": "2025-02-11T14:46:02.293Z"
   },
   {
    "duration": 0,
    "start_time": "2025-02-11T14:46:02.294Z"
   },
   {
    "duration": 0,
    "start_time": "2025-02-11T14:46:02.297Z"
   },
   {
    "duration": 0,
    "start_time": "2025-02-11T14:46:02.298Z"
   },
   {
    "duration": 0,
    "start_time": "2025-02-11T14:46:02.300Z"
   },
   {
    "duration": 0,
    "start_time": "2025-02-11T14:46:02.301Z"
   },
   {
    "duration": 0,
    "start_time": "2025-02-11T14:46:02.302Z"
   },
   {
    "duration": 0,
    "start_time": "2025-02-11T14:46:02.303Z"
   },
   {
    "duration": 0,
    "start_time": "2025-02-11T14:46:02.305Z"
   },
   {
    "duration": 0,
    "start_time": "2025-02-11T14:46:02.306Z"
   },
   {
    "duration": 0,
    "start_time": "2025-02-11T14:46:02.308Z"
   },
   {
    "duration": 0,
    "start_time": "2025-02-11T14:46:02.309Z"
   },
   {
    "duration": 0,
    "start_time": "2025-02-11T14:46:02.310Z"
   },
   {
    "duration": 0,
    "start_time": "2025-02-11T14:46:02.311Z"
   },
   {
    "duration": 0,
    "start_time": "2025-02-11T14:46:02.312Z"
   },
   {
    "duration": 0,
    "start_time": "2025-02-11T14:46:02.314Z"
   },
   {
    "duration": 0,
    "start_time": "2025-02-11T14:46:02.315Z"
   },
   {
    "duration": 0,
    "start_time": "2025-02-11T14:46:02.316Z"
   },
   {
    "duration": 0,
    "start_time": "2025-02-11T14:46:02.317Z"
   },
   {
    "duration": 0,
    "start_time": "2025-02-11T14:46:02.318Z"
   },
   {
    "duration": 0,
    "start_time": "2025-02-11T14:46:02.371Z"
   },
   {
    "duration": 0,
    "start_time": "2025-02-11T14:46:02.373Z"
   },
   {
    "duration": 0,
    "start_time": "2025-02-11T14:46:02.375Z"
   },
   {
    "duration": 0,
    "start_time": "2025-02-11T14:46:02.376Z"
   },
   {
    "duration": 0,
    "start_time": "2025-02-11T14:46:02.378Z"
   },
   {
    "duration": 0,
    "start_time": "2025-02-11T14:46:02.379Z"
   },
   {
    "duration": 0,
    "start_time": "2025-02-11T14:46:02.380Z"
   },
   {
    "duration": 0,
    "start_time": "2025-02-11T14:46:02.382Z"
   },
   {
    "duration": 0,
    "start_time": "2025-02-11T14:46:02.383Z"
   },
   {
    "duration": 0,
    "start_time": "2025-02-11T14:46:02.384Z"
   },
   {
    "duration": 0,
    "start_time": "2025-02-11T14:46:02.385Z"
   },
   {
    "duration": 0,
    "start_time": "2025-02-11T14:46:02.390Z"
   },
   {
    "duration": 0,
    "start_time": "2025-02-11T14:46:02.392Z"
   },
   {
    "duration": 0,
    "start_time": "2025-02-11T14:46:02.394Z"
   },
   {
    "duration": 0,
    "start_time": "2025-02-11T14:46:02.395Z"
   },
   {
    "duration": 0,
    "start_time": "2025-02-11T14:46:02.397Z"
   },
   {
    "duration": 0,
    "start_time": "2025-02-11T14:46:02.399Z"
   },
   {
    "duration": 0,
    "start_time": "2025-02-11T14:46:02.400Z"
   },
   {
    "duration": 0,
    "start_time": "2025-02-11T14:46:02.402Z"
   },
   {
    "duration": 0,
    "start_time": "2025-02-11T14:46:02.404Z"
   },
   {
    "duration": 0,
    "start_time": "2025-02-11T14:46:02.405Z"
   },
   {
    "duration": 0,
    "start_time": "2025-02-11T14:46:02.406Z"
   },
   {
    "duration": 0,
    "start_time": "2025-02-11T14:46:02.407Z"
   },
   {
    "duration": 0,
    "start_time": "2025-02-11T14:46:02.473Z"
   },
   {
    "duration": 0,
    "start_time": "2025-02-11T14:46:02.474Z"
   },
   {
    "duration": 4,
    "start_time": "2025-02-11T14:46:06.884Z"
   },
   {
    "duration": 3,
    "start_time": "2025-02-11T14:46:06.981Z"
   },
   {
    "duration": 3,
    "start_time": "2025-02-11T14:46:10.529Z"
   },
   {
    "duration": 3,
    "start_time": "2025-02-11T14:46:12.476Z"
   },
   {
    "duration": 3,
    "start_time": "2025-02-11T14:46:13.298Z"
   },
   {
    "duration": 2828,
    "start_time": "2025-02-11T14:46:16.175Z"
   },
   {
    "duration": 4,
    "start_time": "2025-02-11T14:46:19.006Z"
   },
   {
    "duration": 155,
    "start_time": "2025-02-11T14:46:20.474Z"
   },
   {
    "duration": 76,
    "start_time": "2025-02-11T14:46:21.222Z"
   },
   {
    "duration": 39,
    "start_time": "2025-02-11T14:46:22.834Z"
   },
   {
    "duration": 28,
    "start_time": "2025-02-11T14:46:23.920Z"
   },
   {
    "duration": 9,
    "start_time": "2025-02-11T14:46:27.452Z"
   },
   {
    "duration": 11,
    "start_time": "2025-02-11T14:46:28.386Z"
   },
   {
    "duration": 16,
    "start_time": "2025-02-11T14:46:35.570Z"
   },
   {
    "duration": 22,
    "start_time": "2025-02-11T14:46:37.240Z"
   },
   {
    "duration": 17,
    "start_time": "2025-02-11T14:46:38.409Z"
   },
   {
    "duration": 5,
    "start_time": "2025-02-11T14:46:41.709Z"
   },
   {
    "duration": 4,
    "start_time": "2025-02-11T14:46:42.821Z"
   },
   {
    "duration": 12,
    "start_time": "2025-02-11T14:46:45.305Z"
   },
   {
    "duration": 14,
    "start_time": "2025-02-11T14:46:46.182Z"
   },
   {
    "duration": 9980,
    "start_time": "2025-02-11T14:46:48.231Z"
   },
   {
    "duration": 17,
    "start_time": "2025-02-11T14:47:04.595Z"
   },
   {
    "duration": 12,
    "start_time": "2025-02-11T14:48:10.898Z"
   },
   {
    "duration": 16,
    "start_time": "2025-02-11T14:48:17.118Z"
   },
   {
    "duration": 13,
    "start_time": "2025-02-11T14:48:17.917Z"
   },
   {
    "duration": 24,
    "start_time": "2025-02-11T14:48:20.399Z"
   },
   {
    "duration": 15,
    "start_time": "2025-02-11T14:48:33.520Z"
   },
   {
    "duration": 3,
    "start_time": "2025-02-11T14:48:38.298Z"
   },
   {
    "duration": 32,
    "start_time": "2025-02-11T14:48:40.738Z"
   },
   {
    "duration": 10,
    "start_time": "2025-02-11T14:48:42.244Z"
   },
   {
    "duration": 6,
    "start_time": "2025-02-11T14:48:46.807Z"
   },
   {
    "duration": 6,
    "start_time": "2025-02-11T14:48:47.651Z"
   },
   {
    "duration": 6,
    "start_time": "2025-02-11T14:48:49.317Z"
   },
   {
    "duration": 6,
    "start_time": "2025-02-11T14:48:55.372Z"
   },
   {
    "duration": 276,
    "start_time": "2025-02-11T14:48:56.549Z"
   },
   {
    "duration": 7,
    "start_time": "2025-02-11T14:49:03.591Z"
   },
   {
    "duration": 234,
    "start_time": "2025-02-11T14:49:09.793Z"
   },
   {
    "duration": 8,
    "start_time": "2025-02-11T14:49:15.121Z"
   },
   {
    "duration": 238,
    "start_time": "2025-02-11T14:49:16.306Z"
   },
   {
    "duration": 6,
    "start_time": "2025-02-11T14:49:26.888Z"
   },
   {
    "duration": 5,
    "start_time": "2025-02-11T14:49:27.721Z"
   },
   {
    "duration": 194,
    "start_time": "2025-02-11T14:49:28.692Z"
   },
   {
    "duration": 7,
    "start_time": "2025-02-11T14:49:33.448Z"
   },
   {
    "duration": 6,
    "start_time": "2025-02-11T14:49:34.513Z"
   },
   {
    "duration": 207,
    "start_time": "2025-02-11T14:49:43.316Z"
   },
   {
    "duration": 8,
    "start_time": "2025-02-11T14:49:53.151Z"
   },
   {
    "duration": 257,
    "start_time": "2025-02-11T14:49:53.997Z"
   },
   {
    "duration": 208,
    "start_time": "2025-02-11T14:50:00.013Z"
   },
   {
    "duration": 162,
    "start_time": "2025-02-11T14:50:06.694Z"
   },
   {
    "duration": 10,
    "start_time": "2025-02-11T14:50:08.875Z"
   },
   {
    "duration": 10,
    "start_time": "2025-02-11T14:50:11.365Z"
   },
   {
    "duration": 12,
    "start_time": "2025-02-11T14:50:13.249Z"
   },
   {
    "duration": 627,
    "start_time": "2025-02-11T14:50:15.034Z"
   },
   {
    "duration": 8,
    "start_time": "2025-02-11T14:50:17.434Z"
   },
   {
    "duration": 200,
    "start_time": "2025-02-11T14:50:19.353Z"
   },
   {
    "duration": 5,
    "start_time": "2025-02-11T14:50:26.952Z"
   },
   {
    "duration": 186,
    "start_time": "2025-02-11T14:50:28.020Z"
   },
   {
    "duration": 9,
    "start_time": "2025-02-11T14:50:30.277Z"
   },
   {
    "duration": 4,
    "start_time": "2025-02-11T14:50:34.934Z"
   },
   {
    "duration": 210,
    "start_time": "2025-02-11T14:50:36.277Z"
   },
   {
    "duration": 10,
    "start_time": "2025-02-11T14:50:37.590Z"
   },
   {
    "duration": 6,
    "start_time": "2025-02-11T14:50:40.602Z"
   },
   {
    "duration": 271,
    "start_time": "2025-02-11T14:50:41.589Z"
   },
   {
    "duration": 237,
    "start_time": "2025-02-11T14:50:44.421Z"
   },
   {
    "duration": 373,
    "start_time": "2025-02-11T14:50:47.264Z"
   },
   {
    "duration": 7,
    "start_time": "2025-02-11T14:50:52.293Z"
   },
   {
    "duration": 12,
    "start_time": "2025-02-11T14:50:55.353Z"
   },
   {
    "duration": 610,
    "start_time": "2025-02-11T14:50:55.367Z"
   },
   {
    "duration": 305,
    "start_time": "2025-02-11T14:51:05.079Z"
   },
   {
    "duration": 11,
    "start_time": "2025-02-11T14:51:08.261Z"
   },
   {
    "duration": 144,
    "start_time": "2025-02-11T14:51:10.147Z"
   },
   {
    "duration": 13,
    "start_time": "2025-02-11T14:51:12.637Z"
   },
   {
    "duration": 165,
    "start_time": "2025-02-11T14:51:32.800Z"
   },
   {
    "duration": 11,
    "start_time": "2025-02-11T14:51:37.257Z"
   },
   {
    "duration": 616,
    "start_time": "2025-02-11T14:51:38.470Z"
   },
   {
    "duration": 63,
    "start_time": "2025-02-11T14:51:44.670Z"
   },
   {
    "duration": 7,
    "start_time": "2025-02-11T14:51:46.840Z"
   },
   {
    "duration": 6,
    "start_time": "2025-02-11T14:51:47.777Z"
   },
   {
    "duration": 226,
    "start_time": "2025-02-11T14:51:48.844Z"
   },
   {
    "duration": 5,
    "start_time": "2025-02-11T14:51:54.716Z"
   },
   {
    "duration": 244,
    "start_time": "2025-02-11T14:51:55.821Z"
   },
   {
    "duration": 7,
    "start_time": "2025-02-11T14:52:00.058Z"
   },
   {
    "duration": 247,
    "start_time": "2025-02-11T14:52:00.953Z"
   },
   {
    "duration": 178,
    "start_time": "2025-02-11T14:57:12.466Z"
   },
   {
    "duration": 395,
    "start_time": "2025-02-11T14:57:19.012Z"
   },
   {
    "duration": 563,
    "start_time": "2025-02-11T15:11:19.619Z"
   },
   {
    "duration": 1714,
    "start_time": "2025-02-11T15:11:20.185Z"
   },
   {
    "duration": 514,
    "start_time": "2025-02-11T15:11:21.900Z"
   },
   {
    "duration": 2341,
    "start_time": "2025-02-11T15:11:22.416Z"
   },
   {
    "duration": 514,
    "start_time": "2025-02-11T15:11:24.759Z"
   },
   {
    "duration": 126,
    "start_time": "2025-02-11T15:11:25.275Z"
   },
   {
    "duration": 58,
    "start_time": "2025-02-11T15:11:25.403Z"
   },
   {
    "duration": 24,
    "start_time": "2025-02-11T15:11:25.463Z"
   },
   {
    "duration": 13,
    "start_time": "2025-02-11T15:11:25.489Z"
   },
   {
    "duration": 5,
    "start_time": "2025-02-11T15:11:25.505Z"
   },
   {
    "duration": 6,
    "start_time": "2025-02-11T15:11:25.511Z"
   },
   {
    "duration": 19,
    "start_time": "2025-02-11T15:11:25.518Z"
   },
   {
    "duration": 28,
    "start_time": "2025-02-11T15:11:25.539Z"
   },
   {
    "duration": 14,
    "start_time": "2025-02-11T15:11:25.569Z"
   },
   {
    "duration": 4,
    "start_time": "2025-02-11T15:11:25.584Z"
   },
   {
    "duration": 4,
    "start_time": "2025-02-11T15:11:25.589Z"
   },
   {
    "duration": 9,
    "start_time": "2025-02-11T15:11:25.594Z"
   },
   {
    "duration": 9,
    "start_time": "2025-02-11T15:11:25.605Z"
   },
   {
    "duration": 435,
    "start_time": "2025-02-11T15:11:25.615Z"
   },
   {
    "duration": 0,
    "start_time": "2025-02-11T15:11:26.053Z"
   },
   {
    "duration": 0,
    "start_time": "2025-02-11T15:11:26.061Z"
   },
   {
    "duration": 0,
    "start_time": "2025-02-11T15:11:26.062Z"
   },
   {
    "duration": 0,
    "start_time": "2025-02-11T15:11:26.063Z"
   },
   {
    "duration": 1,
    "start_time": "2025-02-11T15:11:26.064Z"
   },
   {
    "duration": 0,
    "start_time": "2025-02-11T15:11:26.066Z"
   },
   {
    "duration": 0,
    "start_time": "2025-02-11T15:11:26.067Z"
   },
   {
    "duration": 0,
    "start_time": "2025-02-11T15:11:26.069Z"
   },
   {
    "duration": 0,
    "start_time": "2025-02-11T15:11:26.071Z"
   },
   {
    "duration": 0,
    "start_time": "2025-02-11T15:11:26.072Z"
   },
   {
    "duration": 0,
    "start_time": "2025-02-11T15:11:26.074Z"
   },
   {
    "duration": 0,
    "start_time": "2025-02-11T15:11:26.075Z"
   },
   {
    "duration": 0,
    "start_time": "2025-02-11T15:11:26.077Z"
   },
   {
    "duration": 0,
    "start_time": "2025-02-11T15:11:26.079Z"
   },
   {
    "duration": 0,
    "start_time": "2025-02-11T15:11:26.080Z"
   },
   {
    "duration": 0,
    "start_time": "2025-02-11T15:11:26.082Z"
   },
   {
    "duration": 0,
    "start_time": "2025-02-11T15:11:26.084Z"
   },
   {
    "duration": 0,
    "start_time": "2025-02-11T15:11:26.085Z"
   },
   {
    "duration": 0,
    "start_time": "2025-02-11T15:11:26.086Z"
   },
   {
    "duration": 0,
    "start_time": "2025-02-11T15:11:26.088Z"
   },
   {
    "duration": 0,
    "start_time": "2025-02-11T15:11:26.090Z"
   },
   {
    "duration": 0,
    "start_time": "2025-02-11T15:11:26.091Z"
   },
   {
    "duration": 0,
    "start_time": "2025-02-11T15:11:26.093Z"
   },
   {
    "duration": 0,
    "start_time": "2025-02-11T15:11:26.094Z"
   },
   {
    "duration": 0,
    "start_time": "2025-02-11T15:11:26.096Z"
   },
   {
    "duration": 0,
    "start_time": "2025-02-11T15:11:26.097Z"
   },
   {
    "duration": 0,
    "start_time": "2025-02-11T15:11:26.098Z"
   },
   {
    "duration": 0,
    "start_time": "2025-02-11T15:11:26.099Z"
   },
   {
    "duration": 0,
    "start_time": "2025-02-11T15:11:26.100Z"
   },
   {
    "duration": 0,
    "start_time": "2025-02-11T15:11:26.162Z"
   },
   {
    "duration": 0,
    "start_time": "2025-02-11T15:11:26.163Z"
   },
   {
    "duration": 0,
    "start_time": "2025-02-11T15:11:26.164Z"
   },
   {
    "duration": 0,
    "start_time": "2025-02-11T15:11:26.165Z"
   },
   {
    "duration": 0,
    "start_time": "2025-02-11T15:11:26.167Z"
   },
   {
    "duration": 0,
    "start_time": "2025-02-11T15:11:26.168Z"
   },
   {
    "duration": 0,
    "start_time": "2025-02-11T15:11:26.169Z"
   },
   {
    "duration": 0,
    "start_time": "2025-02-11T15:11:26.170Z"
   },
   {
    "duration": 0,
    "start_time": "2025-02-11T15:11:26.171Z"
   },
   {
    "duration": 0,
    "start_time": "2025-02-11T15:11:26.172Z"
   },
   {
    "duration": 0,
    "start_time": "2025-02-11T15:11:26.174Z"
   },
   {
    "duration": 0,
    "start_time": "2025-02-11T15:11:26.175Z"
   },
   {
    "duration": 0,
    "start_time": "2025-02-11T15:11:26.176Z"
   },
   {
    "duration": 0,
    "start_time": "2025-02-11T15:11:26.177Z"
   },
   {
    "duration": 0,
    "start_time": "2025-02-11T15:11:26.178Z"
   },
   {
    "duration": 1,
    "start_time": "2025-02-11T15:11:26.179Z"
   },
   {
    "duration": 0,
    "start_time": "2025-02-11T15:11:26.181Z"
   },
   {
    "duration": 0,
    "start_time": "2025-02-11T15:11:26.182Z"
   },
   {
    "duration": 0,
    "start_time": "2025-02-11T15:11:26.183Z"
   },
   {
    "duration": 0,
    "start_time": "2025-02-11T15:11:26.185Z"
   },
   {
    "duration": 0,
    "start_time": "2025-02-11T15:11:26.187Z"
   },
   {
    "duration": 0,
    "start_time": "2025-02-11T15:11:26.189Z"
   },
   {
    "duration": 0,
    "start_time": "2025-02-11T15:11:26.190Z"
   },
   {
    "duration": 0,
    "start_time": "2025-02-11T15:11:26.192Z"
   },
   {
    "duration": 0,
    "start_time": "2025-02-11T15:11:26.195Z"
   },
   {
    "duration": 1,
    "start_time": "2025-02-11T15:11:26.196Z"
   },
   {
    "duration": 0,
    "start_time": "2025-02-11T15:11:26.199Z"
   },
   {
    "duration": 0,
    "start_time": "2025-02-11T15:11:26.262Z"
   },
   {
    "duration": 0,
    "start_time": "2025-02-11T15:11:26.264Z"
   },
   {
    "duration": 0,
    "start_time": "2025-02-11T15:11:26.267Z"
   },
   {
    "duration": 10197,
    "start_time": "2025-02-11T15:11:37.108Z"
   },
   {
    "duration": 22,
    "start_time": "2025-02-11T15:12:59.241Z"
   },
   {
    "duration": 24,
    "start_time": "2025-02-11T15:13:21.257Z"
   },
   {
    "duration": 13,
    "start_time": "2025-02-11T15:13:27.825Z"
   },
   {
    "duration": 15,
    "start_time": "2025-02-11T15:13:46.530Z"
   },
   {
    "duration": 12,
    "start_time": "2025-02-11T15:13:47.362Z"
   },
   {
    "duration": 11,
    "start_time": "2025-02-11T15:13:47.570Z"
   },
   {
    "duration": 20,
    "start_time": "2025-02-11T15:13:48.770Z"
   },
   {
    "duration": 9,
    "start_time": "2025-02-11T15:13:49.077Z"
   },
   {
    "duration": 3,
    "start_time": "2025-02-11T15:13:49.996Z"
   },
   {
    "duration": 17,
    "start_time": "2025-02-11T15:13:50.745Z"
   },
   {
    "duration": 6,
    "start_time": "2025-02-11T15:13:50.978Z"
   },
   {
    "duration": 5,
    "start_time": "2025-02-11T15:13:52.310Z"
   },
   {
    "duration": 5,
    "start_time": "2025-02-11T15:13:52.505Z"
   },
   {
    "duration": 5,
    "start_time": "2025-02-11T15:13:52.690Z"
   },
   {
    "duration": 6,
    "start_time": "2025-02-11T15:13:54.626Z"
   },
   {
    "duration": 411,
    "start_time": "2025-02-11T15:13:54.824Z"
   },
   {
    "duration": 5,
    "start_time": "2025-02-11T15:13:55.569Z"
   },
   {
    "duration": 329,
    "start_time": "2025-02-11T15:13:57.333Z"
   },
   {
    "duration": 5,
    "start_time": "2025-02-11T15:13:59.081Z"
   },
   {
    "duration": 340,
    "start_time": "2025-02-11T15:13:59.665Z"
   },
   {
    "duration": 5,
    "start_time": "2025-02-11T15:14:00.786Z"
   },
   {
    "duration": 3,
    "start_time": "2025-02-11T15:14:01.308Z"
   },
   {
    "duration": 324,
    "start_time": "2025-02-11T15:14:01.924Z"
   },
   {
    "duration": 6,
    "start_time": "2025-02-11T15:14:06.145Z"
   },
   {
    "duration": 4,
    "start_time": "2025-02-11T15:14:06.819Z"
   },
   {
    "duration": 353,
    "start_time": "2025-02-11T15:14:08.131Z"
   },
   {
    "duration": 9,
    "start_time": "2025-02-11T15:14:12.811Z"
   },
   {
    "duration": 372,
    "start_time": "2025-02-11T15:14:13.601Z"
   },
   {
    "duration": 338,
    "start_time": "2025-02-11T15:15:58.499Z"
   },
   {
    "duration": 26,
    "start_time": "2025-02-11T15:16:24.156Z"
   },
   {
    "duration": 22,
    "start_time": "2025-02-11T15:16:32.989Z"
   },
   {
    "duration": 310,
    "start_time": "2025-02-11T15:16:51.076Z"
   },
   {
    "duration": 304,
    "start_time": "2025-02-11T15:18:33.510Z"
   },
   {
    "duration": 273,
    "start_time": "2025-02-11T15:18:35.379Z"
   },
   {
    "duration": 7,
    "start_time": "2025-02-11T15:18:36.313Z"
   },
   {
    "duration": 7,
    "start_time": "2025-02-11T15:18:37.669Z"
   },
   {
    "duration": 9,
    "start_time": "2025-02-11T15:18:39.700Z"
   },
   {
    "duration": 500,
    "start_time": "2025-02-11T15:18:40.612Z"
   },
   {
    "duration": 5,
    "start_time": "2025-02-11T15:19:32.908Z"
   },
   {
    "duration": 281,
    "start_time": "2025-02-11T15:19:33.418Z"
   },
   {
    "duration": 4,
    "start_time": "2025-02-11T15:20:13.512Z"
   },
   {
    "duration": 284,
    "start_time": "2025-02-11T15:20:13.799Z"
   },
   {
    "duration": 7,
    "start_time": "2025-02-11T15:20:14.635Z"
   },
   {
    "duration": 3,
    "start_time": "2025-02-11T15:20:16.969Z"
   },
   {
    "duration": 145,
    "start_time": "2025-02-11T15:20:17.681Z"
   },
   {
    "duration": 8,
    "start_time": "2025-02-11T15:20:19.914Z"
   },
   {
    "duration": 5,
    "start_time": "2025-02-11T15:20:21.593Z"
   },
   {
    "duration": 180,
    "start_time": "2025-02-11T15:20:22.193Z"
   },
   {
    "duration": 322,
    "start_time": "2025-02-11T15:20:47.089Z"
   },
   {
    "duration": 461,
    "start_time": "2025-02-11T15:20:48.659Z"
   },
   {
    "duration": 6,
    "start_time": "2025-02-11T15:22:27.529Z"
   },
   {
    "duration": 9,
    "start_time": "2025-02-11T15:22:27.721Z"
   },
   {
    "duration": 8,
    "start_time": "2025-02-11T15:22:36.900Z"
   },
   {
    "duration": 394,
    "start_time": "2025-02-11T15:22:37.209Z"
   },
   {
    "duration": 341,
    "start_time": "2025-02-11T15:22:42.474Z"
   },
   {
    "duration": 7,
    "start_time": "2025-02-11T15:22:43.521Z"
   },
   {
    "duration": 398,
    "start_time": "2025-02-11T15:22:44.369Z"
   },
   {
    "duration": 8,
    "start_time": "2025-02-11T15:22:45.220Z"
   },
   {
    "duration": 668,
    "start_time": "2025-02-11T15:22:45.520Z"
   },
   {
    "duration": 42,
    "start_time": "2025-02-11T15:22:49.905Z"
   },
   {
    "duration": 5,
    "start_time": "2025-02-11T15:22:52.436Z"
   },
   {
    "duration": 4,
    "start_time": "2025-02-11T15:22:52.931Z"
   },
   {
    "duration": 327,
    "start_time": "2025-02-11T15:22:53.502Z"
   },
   {
    "duration": 1054,
    "start_time": "2025-02-11T15:23:46.896Z"
   },
   {
    "duration": 18,
    "start_time": "2025-02-11T15:25:26.298Z"
   },
   {
    "duration": 26,
    "start_time": "2025-02-11T15:25:37.239Z"
   },
   {
    "duration": 24,
    "start_time": "2025-02-11T15:25:42.795Z"
   },
   {
    "duration": 5,
    "start_time": "2025-02-11T15:26:58.183Z"
   },
   {
    "duration": 312,
    "start_time": "2025-02-11T15:26:58.410Z"
   },
   {
    "duration": 5,
    "start_time": "2025-02-11T15:26:58.854Z"
   },
   {
    "duration": 390,
    "start_time": "2025-02-11T15:26:59.050Z"
   },
   {
    "duration": 68,
    "start_time": "2025-02-12T08:33:43.896Z"
   },
   {
    "duration": 363,
    "start_time": "2025-02-12T08:33:52.919Z"
   },
   {
    "duration": 449,
    "start_time": "2025-02-12T08:33:53.600Z"
   },
   {
    "duration": 559,
    "start_time": "2025-02-12T08:33:54.224Z"
   },
   {
    "duration": 3485,
    "start_time": "2025-02-12T08:33:55.533Z"
   },
   {
    "duration": 54,
    "start_time": "2025-02-12T08:33:59.021Z"
   },
   {
    "duration": 135,
    "start_time": "2025-02-12T08:33:59.077Z"
   },
   {
    "duration": 52,
    "start_time": "2025-02-12T08:33:59.214Z"
   },
   {
    "duration": 28,
    "start_time": "2025-02-12T08:34:00.199Z"
   },
   {
    "duration": 18,
    "start_time": "2025-02-12T08:34:00.852Z"
   },
   {
    "duration": 7,
    "start_time": "2025-02-12T08:34:03.258Z"
   },
   {
    "duration": 11,
    "start_time": "2025-02-12T08:34:03.934Z"
   },
   {
    "duration": 13,
    "start_time": "2025-02-12T08:34:06.171Z"
   },
   {
    "duration": 15,
    "start_time": "2025-02-12T08:34:07.055Z"
   },
   {
    "duration": 15,
    "start_time": "2025-02-12T08:34:07.848Z"
   },
   {
    "duration": 5,
    "start_time": "2025-02-12T08:34:10.427Z"
   },
   {
    "duration": 4,
    "start_time": "2025-02-12T08:34:11.126Z"
   },
   {
    "duration": 9,
    "start_time": "2025-02-12T08:34:13.431Z"
   },
   {
    "duration": 10,
    "start_time": "2025-02-12T08:34:14.151Z"
   },
   {
    "duration": 68,
    "start_time": "2025-02-12T08:34:16.513Z"
   },
   {
    "duration": 132,
    "start_time": "2025-02-12T08:41:01.897Z"
   },
   {
    "duration": 73,
    "start_time": "2025-02-12T08:42:03.818Z"
   },
   {
    "duration": 93,
    "start_time": "2025-02-12T08:44:07.108Z"
   },
   {
    "duration": 77,
    "start_time": "2025-02-12T08:44:13.947Z"
   },
   {
    "duration": 19,
    "start_time": "2025-02-12T08:44:37.953Z"
   },
   {
    "duration": 14,
    "start_time": "2025-02-12T08:44:39.029Z"
   },
   {
    "duration": 14,
    "start_time": "2025-02-12T08:44:39.530Z"
   },
   {
    "duration": 22,
    "start_time": "2025-02-12T08:44:40.747Z"
   },
   {
    "duration": 8,
    "start_time": "2025-02-12T08:44:41.421Z"
   },
   {
    "duration": 3,
    "start_time": "2025-02-12T08:44:43.381Z"
   },
   {
    "duration": 23,
    "start_time": "2025-02-12T08:44:44.724Z"
   },
   {
    "duration": 7,
    "start_time": "2025-02-12T08:44:45.535Z"
   },
   {
    "duration": 5,
    "start_time": "2025-02-12T08:44:48.346Z"
   },
   {
    "duration": 4,
    "start_time": "2025-02-12T08:44:48.935Z"
   },
   {
    "duration": 4,
    "start_time": "2025-02-12T08:44:49.545Z"
   },
   {
    "duration": 6,
    "start_time": "2025-02-12T08:44:53.793Z"
   },
   {
    "duration": 189,
    "start_time": "2025-02-12T08:44:54.889Z"
   },
   {
    "duration": 4,
    "start_time": "2025-02-12T08:44:57.293Z"
   },
   {
    "duration": 175,
    "start_time": "2025-02-12T08:44:58.782Z"
   },
   {
    "duration": 5,
    "start_time": "2025-02-12T08:45:00.731Z"
   },
   {
    "duration": 229,
    "start_time": "2025-02-12T08:45:01.463Z"
   },
   {
    "duration": 5,
    "start_time": "2025-02-12T08:45:02.940Z"
   },
   {
    "duration": 4,
    "start_time": "2025-02-12T08:45:03.710Z"
   },
   {
    "duration": 176,
    "start_time": "2025-02-12T08:45:04.574Z"
   },
   {
    "duration": 5,
    "start_time": "2025-02-12T08:45:06.282Z"
   },
   {
    "duration": 4,
    "start_time": "2025-02-12T08:45:07.090Z"
   },
   {
    "duration": 194,
    "start_time": "2025-02-12T08:45:08.582Z"
   },
   {
    "duration": 17,
    "start_time": "2025-02-12T08:45:13.094Z"
   },
   {
    "duration": 4,
    "start_time": "2025-02-12T08:50:01.466Z"
   },
   {
    "duration": 79,
    "start_time": "2025-02-12T08:50:33.690Z"
   },
   {
    "duration": 5,
    "start_time": "2025-02-12T08:50:50.507Z"
   },
   {
    "duration": 7,
    "start_time": "2025-02-12T08:50:59.175Z"
   },
   {
    "duration": 223,
    "start_time": "2025-02-12T08:51:00.374Z"
   },
   {
    "duration": 78,
    "start_time": "2025-02-12T08:51:36.913Z"
   },
   {
    "duration": 91,
    "start_time": "2025-02-12T08:52:00.624Z"
   },
   {
    "duration": 323,
    "start_time": "2025-02-12T08:52:25.425Z"
   },
   {
    "duration": 233,
    "start_time": "2025-02-12T08:55:01.343Z"
   },
   {
    "duration": 10,
    "start_time": "2025-02-12T09:02:48.640Z"
   },
   {
    "duration": 4,
    "start_time": "2025-02-12T09:03:43.963Z"
   },
   {
    "duration": 6,
    "start_time": "2025-02-12T09:03:49.841Z"
   },
   {
    "duration": 7,
    "start_time": "2025-02-12T09:04:34.082Z"
   },
   {
    "duration": 4,
    "start_time": "2025-02-12T09:04:52.805Z"
   },
   {
    "duration": 178,
    "start_time": "2025-02-12T09:05:16.132Z"
   },
   {
    "duration": 4,
    "start_time": "2025-02-12T09:06:56.045Z"
   },
   {
    "duration": 216,
    "start_time": "2025-02-12T09:07:06.287Z"
   }
  ],
  "colab": {
   "provenance": []
  },
  "kernelspec": {
   "display_name": "Python 3 (ipykernel)",
   "language": "python",
   "name": "python3"
  },
  "language_info": {
   "codemirror_mode": {
    "name": "ipython",
    "version": 3
   },
   "file_extension": ".py",
   "mimetype": "text/x-python",
   "name": "python",
   "nbconvert_exporter": "python",
   "pygments_lexer": "ipython3",
   "version": "3.9.5"
  },
  "toc": {
   "base_numbering": 1,
   "nav_menu": {},
   "number_sections": true,
   "sideBar": true,
   "skip_h1_title": true,
   "title_cell": "Table of Contents",
   "title_sidebar": "Contents",
   "toc_cell": false,
   "toc_position": {},
   "toc_section_display": true,
   "toc_window_display": true
  }
 },
 "nbformat": 4,
 "nbformat_minor": 5
}
