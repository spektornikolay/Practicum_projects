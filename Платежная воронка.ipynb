{
 "cells": [
  {
   "cell_type": "markdown",
   "id": "4c263933",
   "metadata": {},
   "source": [
    "Проект \"Платежная воронка\".\n",
    "\n",
    "Описание: Был проведен А/B-тест, чтобы проверить новую платёжную воронку: гипотеза заключалась в том, что новая платёжная воронка увеличит конверсию в покупку. \n",
    "\n",
    "Цель:Проанализировать результаты А/B-теста."
   ]
  },
  {
   "cell_type": "code",
   "execution_count": 36,
   "id": "504b8923",
   "metadata": {},
   "outputs": [],
   "source": [
    "#Импортируем все необходимые библиотеки для дальнейшей работы:\n",
    "\n",
    "import pandas as pd\n",
    "\n",
    "import matplotlib.pyplot as plt\n",
    "\n",
    "from scipy import stats as st\n",
    "\n",
    "import numpy as np\n",
    "\n",
    "from statsmodels.stats.proportion import proportions_ztest"
   ]
  },
  {
   "cell_type": "code",
   "execution_count": 37,
   "id": "38399b9b",
   "metadata": {},
   "outputs": [
    {
     "name": "stdout",
     "output_type": "stream",
     "text": [
      "<class 'pandas.core.frame.DataFrame'>\n",
      "RangeIndex: 131486 entries, 0 to 131485\n",
      "Data columns (total 4 columns):\n",
      " #   Column      Non-Null Count   Dtype \n",
      "---  ------      --------------   ----- \n",
      " 0   user_id     131486 non-null  object\n",
      " 1   first_date  131486 non-null  object\n",
      " 2   region      131486 non-null  object\n",
      " 3   device      131486 non-null  object\n",
      "dtypes: object(4)\n",
      "memory usage: 4.0+ MB\n"
     ]
    },
    {
     "data": {
      "text/html": [
       "<div>\n",
       "<style scoped>\n",
       "    .dataframe tbody tr th:only-of-type {\n",
       "        vertical-align: middle;\n",
       "    }\n",
       "\n",
       "    .dataframe tbody tr th {\n",
       "        vertical-align: top;\n",
       "    }\n",
       "\n",
       "    .dataframe thead th {\n",
       "        text-align: right;\n",
       "    }\n",
       "</style>\n",
       "<table border=\"1\" class=\"dataframe\">\n",
       "  <thead>\n",
       "    <tr style=\"text-align: right;\">\n",
       "      <th></th>\n",
       "      <th>user_id</th>\n",
       "      <th>first_date</th>\n",
       "      <th>region</th>\n",
       "      <th>device</th>\n",
       "    </tr>\n",
       "  </thead>\n",
       "  <tbody>\n",
       "    <tr>\n",
       "      <th>0</th>\n",
       "      <td>D72A72121175D8BE</td>\n",
       "      <td>2025-06-01</td>\n",
       "      <td>South Asia</td>\n",
       "      <td>iPhone</td>\n",
       "    </tr>\n",
       "    <tr>\n",
       "      <th>1</th>\n",
       "      <td>F1C668619DFE6E65</td>\n",
       "      <td>2025-06-01</td>\n",
       "      <td>Southeast Asia</td>\n",
       "      <td>iPhone</td>\n",
       "    </tr>\n",
       "    <tr>\n",
       "      <th>2</th>\n",
       "      <td>2E1BF1D4C37EA01F</td>\n",
       "      <td>2025-06-01</td>\n",
       "      <td>Central Asia</td>\n",
       "      <td>Mac</td>\n",
       "    </tr>\n",
       "    <tr>\n",
       "      <th>3</th>\n",
       "      <td>50734A22C0C63768</td>\n",
       "      <td>2025-06-01</td>\n",
       "      <td>Central Asia</td>\n",
       "      <td>Android</td>\n",
       "    </tr>\n",
       "    <tr>\n",
       "      <th>4</th>\n",
       "      <td>E1BDDCE0DAFA2679</td>\n",
       "      <td>2025-06-01</td>\n",
       "      <td>Southeast Asia</td>\n",
       "      <td>iPhone</td>\n",
       "    </tr>\n",
       "  </tbody>\n",
       "</table>\n",
       "</div>"
      ],
      "text/plain": [
       "            user_id  first_date          region   device\n",
       "0  D72A72121175D8BE  2025-06-01      South Asia   iPhone\n",
       "1  F1C668619DFE6E65  2025-06-01  Southeast Asia   iPhone\n",
       "2  2E1BF1D4C37EA01F  2025-06-01    Central Asia      Mac\n",
       "3  50734A22C0C63768  2025-06-01    Central Asia  Android\n",
       "4  E1BDDCE0DAFA2679  2025-06-01  Southeast Asia   iPhone"
      ]
     },
     "execution_count": 37,
     "metadata": {},
     "output_type": "execute_result"
    }
   ],
   "source": [
    "#Выгрузим все датафреймы и выведим информацию о них:\n",
    "\n",
    "new_users = pd.read_csv('https://code.s3.yandex.net/datasets/new_users_test_2025.csv')\n",
    "new_users.info()\n",
    "new_users.head()"
   ]
  },
  {
   "cell_type": "code",
   "execution_count": 38,
   "id": "469a53fb",
   "metadata": {},
   "outputs": [
    {
     "name": "stdout",
     "output_type": "stream",
     "text": [
      "<class 'pandas.core.frame.DataFrame'>\n",
      "RangeIndex: 491443 entries, 0 to 491442\n",
      "Data columns (total 3 columns):\n",
      " #   Column            Non-Null Count   Dtype  \n",
      "---  ------            --------------   -----  \n",
      " 0   user_id           491443 non-null  object \n",
      " 1   session_start     491443 non-null  object \n",
      " 2   session_duration  491443 non-null  float64\n",
      "dtypes: float64(1), object(2)\n",
      "memory usage: 11.2+ MB\n"
     ]
    },
    {
     "data": {
      "text/html": [
       "<div>\n",
       "<style scoped>\n",
       "    .dataframe tbody tr th:only-of-type {\n",
       "        vertical-align: middle;\n",
       "    }\n",
       "\n",
       "    .dataframe tbody tr th {\n",
       "        vertical-align: top;\n",
       "    }\n",
       "\n",
       "    .dataframe thead th {\n",
       "        text-align: right;\n",
       "    }\n",
       "</style>\n",
       "<table border=\"1\" class=\"dataframe\">\n",
       "  <thead>\n",
       "    <tr style=\"text-align: right;\">\n",
       "      <th></th>\n",
       "      <th>user_id</th>\n",
       "      <th>session_start</th>\n",
       "      <th>session_duration</th>\n",
       "    </tr>\n",
       "  </thead>\n",
       "  <tbody>\n",
       "    <tr>\n",
       "      <th>0</th>\n",
       "      <td>D72A72121175D8BE</td>\n",
       "      <td>2025-06-01 05:51:20</td>\n",
       "      <td>1.0</td>\n",
       "    </tr>\n",
       "    <tr>\n",
       "      <th>1</th>\n",
       "      <td>F1C668619DFE6E65</td>\n",
       "      <td>2025-06-01 15:28:14</td>\n",
       "      <td>5.0</td>\n",
       "    </tr>\n",
       "    <tr>\n",
       "      <th>2</th>\n",
       "      <td>2E1BF1D4C37EA01F</td>\n",
       "      <td>2025-06-01 16:19:36</td>\n",
       "      <td>3.0</td>\n",
       "    </tr>\n",
       "    <tr>\n",
       "      <th>3</th>\n",
       "      <td>50734A22C0C63768</td>\n",
       "      <td>2025-06-01 21:06:51</td>\n",
       "      <td>1.0</td>\n",
       "    </tr>\n",
       "    <tr>\n",
       "      <th>4</th>\n",
       "      <td>E1BDDCE0DAFA2679</td>\n",
       "      <td>2025-06-01 10:03:00</td>\n",
       "      <td>2.0</td>\n",
       "    </tr>\n",
       "  </tbody>\n",
       "</table>\n",
       "</div>"
      ],
      "text/plain": [
       "            user_id        session_start  session_duration\n",
       "0  D72A72121175D8BE  2025-06-01 05:51:20               1.0\n",
       "1  F1C668619DFE6E65  2025-06-01 15:28:14               5.0\n",
       "2  2E1BF1D4C37EA01F  2025-06-01 16:19:36               3.0\n",
       "3  50734A22C0C63768  2025-06-01 21:06:51               1.0\n",
       "4  E1BDDCE0DAFA2679  2025-06-01 10:03:00               2.0"
      ]
     },
     "execution_count": 38,
     "metadata": {},
     "output_type": "execute_result"
    }
   ],
   "source": [
    "sessions_test = pd.read_csv('https://code.s3.yandex.net/datasets/sessions_test_2025.csv')\n",
    "sessions_test.info()\n",
    "sessions_test.head()"
   ]
  },
  {
   "cell_type": "code",
   "execution_count": 39,
   "id": "c0919a70",
   "metadata": {},
   "outputs": [
    {
     "name": "stdout",
     "output_type": "stream",
     "text": [
      "<class 'pandas.core.frame.DataFrame'>\n",
      "RangeIndex: 149152 entries, 0 to 149151\n",
      "Data columns (total 3 columns):\n",
      " #   Column    Non-Null Count   Dtype  \n",
      "---  ------    --------------   -----  \n",
      " 0   user_id   149152 non-null  object \n",
      " 1   event_dt  149152 non-null  object \n",
      " 2   revenue   149152 non-null  float64\n",
      "dtypes: float64(1), object(2)\n",
      "memory usage: 3.4+ MB\n"
     ]
    },
    {
     "data": {
      "text/html": [
       "<div>\n",
       "<style scoped>\n",
       "    .dataframe tbody tr th:only-of-type {\n",
       "        vertical-align: middle;\n",
       "    }\n",
       "\n",
       "    .dataframe tbody tr th {\n",
       "        vertical-align: top;\n",
       "    }\n",
       "\n",
       "    .dataframe thead th {\n",
       "        text-align: right;\n",
       "    }\n",
       "</style>\n",
       "<table border=\"1\" class=\"dataframe\">\n",
       "  <thead>\n",
       "    <tr style=\"text-align: right;\">\n",
       "      <th></th>\n",
       "      <th>user_id</th>\n",
       "      <th>event_dt</th>\n",
       "      <th>revenue</th>\n",
       "    </tr>\n",
       "  </thead>\n",
       "  <tbody>\n",
       "    <tr>\n",
       "      <th>0</th>\n",
       "      <td>50734A22C0C63768</td>\n",
       "      <td>2025-06-01 21:06:51</td>\n",
       "      <td>4.99</td>\n",
       "    </tr>\n",
       "    <tr>\n",
       "      <th>1</th>\n",
       "      <td>0FC21E6F8FAA8DEC</td>\n",
       "      <td>2025-06-01 06:36:08</td>\n",
       "      <td>4.99</td>\n",
       "    </tr>\n",
       "    <tr>\n",
       "      <th>2</th>\n",
       "      <td>9CD9F34546DF254C</td>\n",
       "      <td>2025-06-01 14:40:29</td>\n",
       "      <td>99.99</td>\n",
       "    </tr>\n",
       "    <tr>\n",
       "      <th>3</th>\n",
       "      <td>1FD7660FDF94CA1F</td>\n",
       "      <td>2025-06-01 04:53:00</td>\n",
       "      <td>4.99</td>\n",
       "    </tr>\n",
       "    <tr>\n",
       "      <th>4</th>\n",
       "      <td>E6AF85675078215D</td>\n",
       "      <td>2025-06-01 11:40:09</td>\n",
       "      <td>4.99</td>\n",
       "    </tr>\n",
       "  </tbody>\n",
       "</table>\n",
       "</div>"
      ],
      "text/plain": [
       "            user_id             event_dt  revenue\n",
       "0  50734A22C0C63768  2025-06-01 21:06:51     4.99\n",
       "1  0FC21E6F8FAA8DEC  2025-06-01 06:36:08     4.99\n",
       "2  9CD9F34546DF254C  2025-06-01 14:40:29    99.99\n",
       "3  1FD7660FDF94CA1F  2025-06-01 04:53:00     4.99\n",
       "4  E6AF85675078215D  2025-06-01 11:40:09     4.99"
      ]
     },
     "execution_count": 39,
     "metadata": {},
     "output_type": "execute_result"
    }
   ],
   "source": [
    "purchases_test = pd.read_csv('https://code.s3.yandex.net/datasets/purchases_test_2025.csv')\n",
    "purchases_test.info()\n",
    "purchases_test.head()"
   ]
  },
  {
   "cell_type": "code",
   "execution_count": 40,
   "id": "94a83780",
   "metadata": {},
   "outputs": [
    {
     "name": "stdout",
     "output_type": "stream",
     "text": [
      "<class 'pandas.core.frame.DataFrame'>\n",
      "RangeIndex: 3291 entries, 0 to 3290\n",
      "Data columns (total 3 columns):\n",
      " #   Column   Non-Null Count  Dtype \n",
      "---  ------   --------------  ----- \n",
      " 0   user_id  3291 non-null   object\n",
      " 1   group    3291 non-null   object\n",
      " 2   ab_test  3291 non-null   object\n",
      "dtypes: object(3)\n",
      "memory usage: 77.3+ KB\n"
     ]
    },
    {
     "data": {
      "text/html": [
       "<div>\n",
       "<style scoped>\n",
       "    .dataframe tbody tr th:only-of-type {\n",
       "        vertical-align: middle;\n",
       "    }\n",
       "\n",
       "    .dataframe tbody tr th {\n",
       "        vertical-align: top;\n",
       "    }\n",
       "\n",
       "    .dataframe thead th {\n",
       "        text-align: right;\n",
       "    }\n",
       "</style>\n",
       "<table border=\"1\" class=\"dataframe\">\n",
       "  <thead>\n",
       "    <tr style=\"text-align: right;\">\n",
       "      <th></th>\n",
       "      <th>user_id</th>\n",
       "      <th>group</th>\n",
       "      <th>ab_test</th>\n",
       "    </tr>\n",
       "  </thead>\n",
       "  <tbody>\n",
       "    <tr>\n",
       "      <th>0</th>\n",
       "      <td>6A8825D752FCFFB6</td>\n",
       "      <td>A</td>\n",
       "      <td>new_payment_funnel_test_summer_2025</td>\n",
       "    </tr>\n",
       "    <tr>\n",
       "      <th>1</th>\n",
       "      <td>0B75608CBBA59791</td>\n",
       "      <td>B</td>\n",
       "      <td>new_payment_funnel_test_summer_2025</td>\n",
       "    </tr>\n",
       "    <tr>\n",
       "      <th>2</th>\n",
       "      <td>6B9D2F7685B83C73</td>\n",
       "      <td>A</td>\n",
       "      <td>new_payment_funnel_test_summer_2025</td>\n",
       "    </tr>\n",
       "    <tr>\n",
       "      <th>3</th>\n",
       "      <td>6435D4C2E66A7F75</td>\n",
       "      <td>B</td>\n",
       "      <td>new_payment_funnel_test_summer_2025</td>\n",
       "    </tr>\n",
       "    <tr>\n",
       "      <th>4</th>\n",
       "      <td>4F815438BBD2BB7E</td>\n",
       "      <td>A</td>\n",
       "      <td>new_payment_funnel_test_summer_2025</td>\n",
       "    </tr>\n",
       "  </tbody>\n",
       "</table>\n",
       "</div>"
      ],
      "text/plain": [
       "            user_id group                              ab_test\n",
       "0  6A8825D752FCFFB6     A  new_payment_funnel_test_summer_2025\n",
       "1  0B75608CBBA59791     B  new_payment_funnel_test_summer_2025\n",
       "2  6B9D2F7685B83C73     A  new_payment_funnel_test_summer_2025\n",
       "3  6435D4C2E66A7F75     B  new_payment_funnel_test_summer_2025\n",
       "4  4F815438BBD2BB7E     A  new_payment_funnel_test_summer_2025"
      ]
     },
     "execution_count": 40,
     "metadata": {},
     "output_type": "execute_result"
    }
   ],
   "source": [
    "participants_test = pd.read_csv('https://code.s3.yandex.net/datasets/participants_test_2025.csv')\n",
    "participants_test.info()\n",
    "participants_test.head()"
   ]
  },
  {
   "cell_type": "code",
   "execution_count": 41,
   "id": "e4917156",
   "metadata": {},
   "outputs": [
    {
     "data": {
      "text/plain": [
       "0        2025-06-01\n",
       "1        2025-06-01\n",
       "2        2025-06-01\n",
       "3        2025-06-01\n",
       "4        2025-06-01\n",
       "            ...    \n",
       "131481   2025-06-28\n",
       "131482   2025-06-28\n",
       "131483   2025-06-28\n",
       "131484   2025-06-28\n",
       "131485   2025-06-28\n",
       "Name: first_date, Length: 131486, dtype: datetime64[ns]"
      ]
     },
     "execution_count": 41,
     "metadata": {},
     "output_type": "execute_result"
    }
   ],
   "source": [
    "#Приведем необходимые данные к типу дата:\n",
    "\n",
    "pd.to_datetime(new_users['first_date'])"
   ]
  },
  {
   "cell_type": "code",
   "execution_count": 42,
   "id": "1627e929",
   "metadata": {},
   "outputs": [
    {
     "data": {
      "text/plain": [
       "0        2025-06-01 05:51:20\n",
       "1        2025-06-01 15:28:14\n",
       "2        2025-06-01 16:19:36\n",
       "3        2025-06-01 21:06:51\n",
       "4        2025-06-01 10:03:00\n",
       "                 ...        \n",
       "491438   2025-06-22 17:03:30\n",
       "491439   2025-07-05 21:49:44\n",
       "491440   2025-07-02 16:45:20\n",
       "491441   2025-06-26 07:27:40\n",
       "491442   2025-06-26 02:41:52\n",
       "Name: session_start, Length: 491443, dtype: datetime64[ns]"
      ]
     },
     "execution_count": 42,
     "metadata": {},
     "output_type": "execute_result"
    }
   ],
   "source": [
    "pd.to_datetime(sessions_test['session_start'])"
   ]
  },
  {
   "cell_type": "code",
   "execution_count": 43,
   "id": "7bfc3884",
   "metadata": {},
   "outputs": [
    {
     "data": {
      "text/plain": [
       "0        2025-06-01 21:06:51\n",
       "1        2025-06-01 06:36:08\n",
       "2        2025-06-01 14:40:29\n",
       "3        2025-06-01 04:53:00\n",
       "4        2025-06-01 11:40:09\n",
       "                 ...        \n",
       "149147   2025-07-11 12:58:09\n",
       "149148   2025-06-28 15:54:27\n",
       "149149   2025-07-06 07:32:10\n",
       "149150   2025-07-11 04:04:04\n",
       "149151   2025-06-23 08:34:23\n",
       "Name: event_dt, Length: 149152, dtype: datetime64[ns]"
      ]
     },
     "execution_count": 43,
     "metadata": {},
     "output_type": "execute_result"
    }
   ],
   "source": [
    "pd.to_datetime(purchases_test['event_dt'])"
   ]
  },
  {
   "cell_type": "code",
   "execution_count": 44,
   "id": "19e8d3ec",
   "metadata": {},
   "outputs": [],
   "source": [
    "#Выведим данные конверсии в покупку:\n",
    "\n",
    "Conversion_to_purchases = purchases_test['user_id'].nunique()/new_users['user_id'].nunique()"
   ]
  },
  {
   "cell_type": "code",
   "execution_count": 45,
   "id": "cf497aa8",
   "metadata": {},
   "outputs": [
    {
     "data": {
      "text/plain": [
       "0.5232496235340645"
      ]
     },
     "execution_count": 45,
     "metadata": {},
     "output_type": "execute_result"
    }
   ],
   "source": [
    "Conversion_to_purchases"
   ]
  },
  {
   "cell_type": "code",
   "execution_count": 46,
   "id": "8d01ef2b",
   "metadata": {},
   "outputs": [],
   "source": [
    "#Объединим данные всех датафреймов:\n",
    "\n",
    "merged_data = pd.merge(sessions_test, new_users, on='user_id', how='left')"
   ]
  },
  {
   "cell_type": "code",
   "execution_count": 47,
   "id": "eca84de3",
   "metadata": {},
   "outputs": [],
   "source": [
    "merged_data = pd.merge(merged_data, purchases_test, on='user_id', how='left')"
   ]
  },
  {
   "cell_type": "code",
   "execution_count": 48,
   "id": "fd94f853",
   "metadata": {},
   "outputs": [],
   "source": [
    "merged_data = pd.merge(merged_data, participants_test, on='user_id', how='left')"
   ]
  },
  {
   "cell_type": "code",
   "execution_count": 49,
   "id": "c2ef49c9",
   "metadata": {},
   "outputs": [
    {
     "name": "stdout",
     "output_type": "stream",
     "text": [
      "<class 'pandas.core.frame.DataFrame'>\n",
      "Int64Index: 819543 entries, 0 to 819542\n",
      "Data columns (total 10 columns):\n",
      " #   Column            Non-Null Count   Dtype  \n",
      "---  ------            --------------   -----  \n",
      " 0   user_id           819543 non-null  object \n",
      " 1   session_start     819543 non-null  object \n",
      " 2   session_duration  819543 non-null  float64\n",
      " 3   first_date        721255 non-null  object \n",
      " 4   region            721255 non-null  object \n",
      " 5   device            721255 non-null  object \n",
      " 6   event_dt          447424 non-null  object \n",
      " 7   revenue           447424 non-null  float64\n",
      " 8   group             20549 non-null   object \n",
      " 9   ab_test           20549 non-null   object \n",
      "dtypes: float64(2), object(8)\n",
      "memory usage: 68.8+ MB\n"
     ]
    }
   ],
   "source": [
    "merged_data.info()"
   ]
  },
  {
   "cell_type": "code",
   "execution_count": 50,
   "id": "cd44b912",
   "metadata": {},
   "outputs": [
    {
     "data": {
      "text/plain": [
       "0        2025-06-01\n",
       "1        2025-06-01\n",
       "2        2025-06-01\n",
       "3        2025-06-01\n",
       "4        2025-06-01\n",
       "            ...    \n",
       "819538          NaT\n",
       "819539          NaT\n",
       "819540          NaT\n",
       "819541          NaT\n",
       "819542          NaT\n",
       "Name: first_date, Length: 819543, dtype: datetime64[ns]"
      ]
     },
     "execution_count": 50,
     "metadata": {},
     "output_type": "execute_result"
    }
   ],
   "source": [
    "#Приведем необходимые данные в объединенном датафрейме к типу дата:\n",
    "\n",
    "pd.to_datetime(merged_data['first_date'])"
   ]
  },
  {
   "cell_type": "code",
   "execution_count": 51,
   "id": "56c0df24",
   "metadata": {},
   "outputs": [
    {
     "data": {
      "text/plain": [
       "0        2025-06-01 05:51:20\n",
       "1        2025-06-01 15:28:14\n",
       "2        2025-06-01 16:19:36\n",
       "3        2025-06-01 21:06:51\n",
       "4        2025-06-01 21:06:51\n",
       "                 ...        \n",
       "819538   2025-06-22 17:03:30\n",
       "819539   2025-07-05 21:49:44\n",
       "819540   2025-07-02 16:45:20\n",
       "819541   2025-06-26 07:27:40\n",
       "819542   2025-06-26 02:41:52\n",
       "Name: session_start, Length: 819543, dtype: datetime64[ns]"
      ]
     },
     "execution_count": 51,
     "metadata": {},
     "output_type": "execute_result"
    }
   ],
   "source": [
    "pd.to_datetime(merged_data['session_start'])"
   ]
  },
  {
   "cell_type": "code",
   "execution_count": 52,
   "id": "e839bb49",
   "metadata": {},
   "outputs": [
    {
     "data": {
      "text/plain": [
       "0                        NaT\n",
       "1                        NaT\n",
       "2                        NaT\n",
       "3        2025-06-01 21:06:51\n",
       "4        2025-06-03 03:38:41\n",
       "                 ...        \n",
       "819538                   NaT\n",
       "819539                   NaT\n",
       "819540                   NaT\n",
       "819541                   NaT\n",
       "819542                   NaT\n",
       "Name: event_dt, Length: 819543, dtype: datetime64[ns]"
      ]
     },
     "execution_count": 52,
     "metadata": {},
     "output_type": "execute_result"
    }
   ],
   "source": [
    "pd.to_datetime(merged_data['event_dt'])"
   ]
  },
  {
   "cell_type": "code",
   "execution_count": 53,
   "id": "5408cc65",
   "metadata": {},
   "outputs": [
    {
     "name": "stdout",
     "output_type": "stream",
     "text": [
      "<class 'pandas.core.frame.DataFrame'>\n",
      "Int64Index: 819543 entries, 0 to 819542\n",
      "Data columns (total 10 columns):\n",
      " #   Column            Non-Null Count   Dtype  \n",
      "---  ------            --------------   -----  \n",
      " 0   user_id           819543 non-null  object \n",
      " 1   session_start     819543 non-null  object \n",
      " 2   session_duration  819543 non-null  float64\n",
      " 3   first_date        721255 non-null  object \n",
      " 4   region            721255 non-null  object \n",
      " 5   device            721255 non-null  object \n",
      " 6   event_dt          447424 non-null  object \n",
      " 7   revenue           447424 non-null  float64\n",
      " 8   group             20549 non-null   object \n",
      " 9   ab_test           20549 non-null   object \n",
      "dtypes: float64(2), object(8)\n",
      "memory usage: 68.8+ MB\n"
     ]
    },
    {
     "data": {
      "text/html": [
       "<div>\n",
       "<style scoped>\n",
       "    .dataframe tbody tr th:only-of-type {\n",
       "        vertical-align: middle;\n",
       "    }\n",
       "\n",
       "    .dataframe tbody tr th {\n",
       "        vertical-align: top;\n",
       "    }\n",
       "\n",
       "    .dataframe thead th {\n",
       "        text-align: right;\n",
       "    }\n",
       "</style>\n",
       "<table border=\"1\" class=\"dataframe\">\n",
       "  <thead>\n",
       "    <tr style=\"text-align: right;\">\n",
       "      <th></th>\n",
       "      <th>user_id</th>\n",
       "      <th>session_start</th>\n",
       "      <th>session_duration</th>\n",
       "      <th>first_date</th>\n",
       "      <th>region</th>\n",
       "      <th>device</th>\n",
       "      <th>event_dt</th>\n",
       "      <th>revenue</th>\n",
       "      <th>group</th>\n",
       "      <th>ab_test</th>\n",
       "    </tr>\n",
       "  </thead>\n",
       "  <tbody>\n",
       "    <tr>\n",
       "      <th>0</th>\n",
       "      <td>D72A72121175D8BE</td>\n",
       "      <td>2025-06-01 05:51:20</td>\n",
       "      <td>1.0</td>\n",
       "      <td>2025-06-01</td>\n",
       "      <td>South Asia</td>\n",
       "      <td>iPhone</td>\n",
       "      <td>NaN</td>\n",
       "      <td>NaN</td>\n",
       "      <td>NaN</td>\n",
       "      <td>NaN</td>\n",
       "    </tr>\n",
       "    <tr>\n",
       "      <th>1</th>\n",
       "      <td>F1C668619DFE6E65</td>\n",
       "      <td>2025-06-01 15:28:14</td>\n",
       "      <td>5.0</td>\n",
       "      <td>2025-06-01</td>\n",
       "      <td>Southeast Asia</td>\n",
       "      <td>iPhone</td>\n",
       "      <td>NaN</td>\n",
       "      <td>NaN</td>\n",
       "      <td>NaN</td>\n",
       "      <td>NaN</td>\n",
       "    </tr>\n",
       "    <tr>\n",
       "      <th>2</th>\n",
       "      <td>2E1BF1D4C37EA01F</td>\n",
       "      <td>2025-06-01 16:19:36</td>\n",
       "      <td>3.0</td>\n",
       "      <td>2025-06-01</td>\n",
       "      <td>Central Asia</td>\n",
       "      <td>Mac</td>\n",
       "      <td>NaN</td>\n",
       "      <td>NaN</td>\n",
       "      <td>NaN</td>\n",
       "      <td>NaN</td>\n",
       "    </tr>\n",
       "    <tr>\n",
       "      <th>3</th>\n",
       "      <td>50734A22C0C63768</td>\n",
       "      <td>2025-06-01 21:06:51</td>\n",
       "      <td>1.0</td>\n",
       "      <td>2025-06-01</td>\n",
       "      <td>Central Asia</td>\n",
       "      <td>Android</td>\n",
       "      <td>2025-06-01 21:06:51</td>\n",
       "      <td>4.99</td>\n",
       "      <td>NaN</td>\n",
       "      <td>NaN</td>\n",
       "    </tr>\n",
       "    <tr>\n",
       "      <th>4</th>\n",
       "      <td>50734A22C0C63768</td>\n",
       "      <td>2025-06-01 21:06:51</td>\n",
       "      <td>1.0</td>\n",
       "      <td>2025-06-01</td>\n",
       "      <td>Central Asia</td>\n",
       "      <td>Android</td>\n",
       "      <td>2025-06-03 03:38:41</td>\n",
       "      <td>4.99</td>\n",
       "      <td>NaN</td>\n",
       "      <td>NaN</td>\n",
       "    </tr>\n",
       "  </tbody>\n",
       "</table>\n",
       "</div>"
      ],
      "text/plain": [
       "            user_id        session_start  session_duration  first_date  \\\n",
       "0  D72A72121175D8BE  2025-06-01 05:51:20               1.0  2025-06-01   \n",
       "1  F1C668619DFE6E65  2025-06-01 15:28:14               5.0  2025-06-01   \n",
       "2  2E1BF1D4C37EA01F  2025-06-01 16:19:36               3.0  2025-06-01   \n",
       "3  50734A22C0C63768  2025-06-01 21:06:51               1.0  2025-06-01   \n",
       "4  50734A22C0C63768  2025-06-01 21:06:51               1.0  2025-06-01   \n",
       "\n",
       "           region   device             event_dt  revenue group ab_test  \n",
       "0      South Asia   iPhone                  NaN      NaN   NaN     NaN  \n",
       "1  Southeast Asia   iPhone                  NaN      NaN   NaN     NaN  \n",
       "2    Central Asia      Mac                  NaN      NaN   NaN     NaN  \n",
       "3    Central Asia  Android  2025-06-01 21:06:51     4.99   NaN     NaN  \n",
       "4    Central Asia  Android  2025-06-03 03:38:41     4.99   NaN     NaN  "
      ]
     },
     "execution_count": 53,
     "metadata": {},
     "output_type": "execute_result"
    }
   ],
   "source": [
    "merged_data.info()\n",
    "\n",
    "merged_data.head()"
   ]
  },
  {
   "cell_type": "code",
   "execution_count": 54,
   "id": "8db789d5",
   "metadata": {},
   "outputs": [],
   "source": [
    "#Создадим столбец if_purchase в объединенном датафрейме, где будет видно, совершил ли пользователь покупку:\n",
    "\n",
    "merged_data['if_purchase'] = merged_data['event_dt'].isnull().astype(int)"
   ]
  },
  {
   "cell_type": "code",
   "execution_count": 55,
   "id": "4b3209c9",
   "metadata": {},
   "outputs": [],
   "source": [
    "#Создадим датафрейм data_count, где будут данные по группам с уникальными пользователями, совершивгими и не совершившие покупки:\n",
    "\n",
    "data_count = merged_data.groupby(['group', 'if_purchase']).agg({'user_id':'nunique'}).reset_index()"
   ]
  },
  {
   "cell_type": "code",
   "execution_count": 56,
   "id": "11e940e9",
   "metadata": {},
   "outputs": [
    {
     "data": {
      "text/html": [
       "<div>\n",
       "<style scoped>\n",
       "    .dataframe tbody tr th:only-of-type {\n",
       "        vertical-align: middle;\n",
       "    }\n",
       "\n",
       "    .dataframe tbody tr th {\n",
       "        vertical-align: top;\n",
       "    }\n",
       "\n",
       "    .dataframe thead th {\n",
       "        text-align: right;\n",
       "    }\n",
       "</style>\n",
       "<table border=\"1\" class=\"dataframe\">\n",
       "  <thead>\n",
       "    <tr style=\"text-align: right;\">\n",
       "      <th></th>\n",
       "      <th>group</th>\n",
       "      <th>if_purchase</th>\n",
       "      <th>user_id</th>\n",
       "    </tr>\n",
       "  </thead>\n",
       "  <tbody>\n",
       "    <tr>\n",
       "      <th>0</th>\n",
       "      <td>A</td>\n",
       "      <td>0</td>\n",
       "      <td>490</td>\n",
       "    </tr>\n",
       "    <tr>\n",
       "      <th>1</th>\n",
       "      <td>A</td>\n",
       "      <td>1</td>\n",
       "      <td>1215</td>\n",
       "    </tr>\n",
       "    <tr>\n",
       "      <th>2</th>\n",
       "      <td>B</td>\n",
       "      <td>0</td>\n",
       "      <td>281</td>\n",
       "    </tr>\n",
       "    <tr>\n",
       "      <th>3</th>\n",
       "      <td>B</td>\n",
       "      <td>1</td>\n",
       "      <td>1305</td>\n",
       "    </tr>\n",
       "  </tbody>\n",
       "</table>\n",
       "</div>"
      ],
      "text/plain": [
       "  group  if_purchase  user_id\n",
       "0     A            0      490\n",
       "1     A            1     1215\n",
       "2     B            0      281\n",
       "3     B            1     1305"
      ]
     },
     "execution_count": 56,
     "metadata": {},
     "output_type": "execute_result"
    }
   ],
   "source": [
    "data_count"
   ]
  },
  {
   "cell_type": "code",
   "execution_count": 57,
   "id": "cd600220",
   "metadata": {},
   "outputs": [],
   "source": [
    "#Создадим датафрейм all_users, где будут отображаться все уникальные пользователи, участвующие в эксперименте:\n",
    "\n",
    "all_users = data_count.groupby('group')['user_id'].sum()"
   ]
  },
  {
   "cell_type": "code",
   "execution_count": 58,
   "id": "e86208a2",
   "metadata": {},
   "outputs": [],
   "source": [
    "#Создадим датафрейм data_count_purch, где будут отображены только те пользователи, которые совершили покупку:\n",
    "\n",
    "data_count_purch = data_count[data_count['if_purchase']==1]"
   ]
  },
  {
   "cell_type": "code",
   "execution_count": 59,
   "id": "165db8e6",
   "metadata": {},
   "outputs": [
    {
     "data": {
      "text/html": [
       "<div>\n",
       "<style scoped>\n",
       "    .dataframe tbody tr th:only-of-type {\n",
       "        vertical-align: middle;\n",
       "    }\n",
       "\n",
       "    .dataframe tbody tr th {\n",
       "        vertical-align: top;\n",
       "    }\n",
       "\n",
       "    .dataframe thead th {\n",
       "        text-align: right;\n",
       "    }\n",
       "</style>\n",
       "<table border=\"1\" class=\"dataframe\">\n",
       "  <thead>\n",
       "    <tr style=\"text-align: right;\">\n",
       "      <th></th>\n",
       "      <th>group</th>\n",
       "      <th>if_purchase</th>\n",
       "      <th>user_id</th>\n",
       "    </tr>\n",
       "  </thead>\n",
       "  <tbody>\n",
       "    <tr>\n",
       "      <th>1</th>\n",
       "      <td>A</td>\n",
       "      <td>1</td>\n",
       "      <td>1215</td>\n",
       "    </tr>\n",
       "    <tr>\n",
       "      <th>3</th>\n",
       "      <td>B</td>\n",
       "      <td>1</td>\n",
       "      <td>1305</td>\n",
       "    </tr>\n",
       "  </tbody>\n",
       "</table>\n",
       "</div>"
      ],
      "text/plain": [
       "  group  if_purchase  user_id\n",
       "1     A            1     1215\n",
       "3     B            1     1305"
      ]
     },
     "execution_count": 59,
     "metadata": {},
     "output_type": "execute_result"
    }
   ],
   "source": [
    "data_count_purch"
   ]
  },
  {
   "cell_type": "code",
   "execution_count": 60,
   "id": "ca3b9e9a",
   "metadata": {},
   "outputs": [],
   "source": [
    "#В датафрейме all_purch выведим только название группы и количество пользователей, совершивших покупку, для дальнейших расчетов:\n",
    "\n",
    "all_purch = data_count_purch.groupby('group')['user_id'].sum()"
   ]
  },
  {
   "cell_type": "code",
   "execution_count": 61,
   "id": "7c7a61e2",
   "metadata": {},
   "outputs": [],
   "source": [
    "#Посчитаем доли людей совершившых покупку в каждой группе для дальнейшего построения граффиков кумулятивная динамика покупок по группам:\n",
    "\n",
    "purchase_part = all_purch/all_users"
   ]
  },
  {
   "cell_type": "code",
   "execution_count": 62,
   "id": "7c473804",
   "metadata": {},
   "outputs": [
    {
     "data": {
      "text/plain": [
       "Text(0, 0.5, 'Доля людей, совершившых покупку')"
      ]
     },
     "execution_count": 62,
     "metadata": {},
     "output_type": "execute_result"
    },
    {
     "data": {
      "image/png": "[encoded data removed]",
      "text/plain": [
       "<Figure size 432x288 with 1 Axes>"
      ]
     },
     "metadata": {
      "needs_background": "light"
     },
     "output_type": "display_data"
    }
   ],
   "source": [
    "plt.plot(figsize=(16,8))\n",
    "\n",
    "plt.bar(purchase_part.index, purchase_part.values)\n",
    "\n",
    "plt.title('Граффик кумулятивной динамики покупок по группам')\n",
    "plt.ylabel('Доля людей, совершившых покупку')"
   ]
  },
  {
   "cell_type": "markdown",
   "id": "0aa976ae",
   "metadata": {},
   "source": [
    "Доля людей, совершившых покупку в двух группах не сильно отличаются. Для группы А это значение чуть больше 0,7, для группы B - около 0,8. "
   ]
  },
  {
   "cell_type": "code",
   "execution_count": 63,
   "id": "1625582f",
   "metadata": {},
   "outputs": [],
   "source": [
    "#Выведим значение всех пользователей в группах A и B:\n",
    "\n",
    "all_users_A = all_users.get('A',0)"
   ]
  },
  {
   "cell_type": "code",
   "execution_count": 64,
   "id": "cdaee49c",
   "metadata": {},
   "outputs": [],
   "source": [
    "all_users_B = all_users.get('B',0)"
   ]
  },
  {
   "cell_type": "code",
   "execution_count": 65,
   "id": "2bed92a8",
   "metadata": {},
   "outputs": [],
   "source": [
    "#Выведим значение всех покупателей в группах A и B:\n",
    "\n",
    "all_purch_A = data_count_purch.get('A',0)"
   ]
  },
  {
   "cell_type": "code",
   "execution_count": 66,
   "id": "b7d20cc3",
   "metadata": {},
   "outputs": [],
   "source": [
    "all_purch_A = data_count_purch[data_count_purch['group']=='A']['user_id'].sum()"
   ]
  },
  {
   "cell_type": "code",
   "execution_count": 67,
   "id": "5a7ca19a",
   "metadata": {},
   "outputs": [],
   "source": [
    "all_purch_B = data_count_purch[data_count_purch['group']=='B']['user_id'].sum()"
   ]
  },
  {
   "cell_type": "code",
   "execution_count": 68,
   "id": "f06e1f87",
   "metadata": {},
   "outputs": [],
   "source": [
    "#Посчитаем доли покупателей в каждой группе:\n",
    "\n",
    "part_A, part_B = all_purch_A/all_users_A, all_purch_B/all_users_B"
   ]
  },
  {
   "cell_type": "markdown",
   "id": "1b0ebf64",
   "metadata": {},
   "source": [
    "Поскольку значения долевые для статитического анализа будем использовать Z-тест пропорций."
   ]
  },
  {
   "cell_type": "markdown",
   "id": "c754bef2",
   "metadata": {},
   "source": [
    "Сформируем нулевую и альтернативную гипотезы:\n",
    "\n",
    "Нулевая гипотеза: Новая платёжная воронка не увеличит конверсию в покупку.\n",
    "\n",
    "Альтернативная гипотеза: Новая платёжная воронка увеличит конверсию в покупку."
   ]
  },
  {
   "cell_type": "code",
   "execution_count": 69,
   "id": "1d5e0c3d",
   "metadata": {},
   "outputs": [
    {
     "name": "stdout",
     "output_type": "stream",
     "text": [
      "Предпосылка о достаточном количестве данных выполняется!\n"
     ]
    }
   ],
   "source": [
    "# проверим предпосылку о достаточном количестве данных:\n",
    "\n",
    "if (part_A*all_users_A>10)and((1-part_A)*all_users_A>10)and(part_B*all_users_B>10)and((1-part_B)*all_users_B>10):\n",
    "    print('Предпосылка о достаточном количестве данных выполняется!')\n",
    "else:\n",
    "    print('Предпосылка о достаточном количестве данных НЕ выполняется!')"
   ]
  },
  {
   "cell_type": "markdown",
   "id": "a169674b",
   "metadata": {},
   "source": [
    "Раз предпосылка о достаточном количестве данных выполняется, то проведем Z-тест пропорций. Гипотезы уже софрмулированы выше."
   ]
  },
  {
   "cell_type": "code",
   "execution_count": 70,
   "id": "97130998",
   "metadata": {},
   "outputs": [
    {
     "name": "stdout",
     "output_type": "stream",
     "text": [
      "p-значение: 8.707531193152628e-14\n",
      "Отвергаем нулевую гипотезу.Новая платёжная воронка увеличит конверсию в покупку\n"
     ]
    }
   ],
   "source": [
    "z_test, p_value_ztest = proportions_ztest([all_purch_A, all_purch_B], [all_users_A, all_users_B])\n",
    "\n",
    "alpha = 0.05\n",
    "\n",
    "print('p-значение:', p_value_ztest)\n",
    "\n",
    "if p_value_ztest<alpha:\n",
    "    print('Отвергаем нулевую гипотезу.' \n",
    "      'Новая платёжная воронка увеличит конверсию в покупку')\n",
    "else:\n",
    "    print('Не удалось отвергнуть нулевую гипотезу.' \n",
    "      'Новая платёжная воронка не увеличит конверсию в покупку')"
   ]
  },
  {
   "cell_type": "markdown",
   "id": "f64e473a",
   "metadata": {},
   "source": [
    "В проекте были проверены результаты А/B-теста, чтобы проверить новую платёжную воронку: гипотеза заключалась в том, что новая платёжная воронка увеличит конверсию в покупку. Тест показал, что новая платёжная воронка увеличит конверсию в покупку."
   ]
  }
 ],
 "metadata": {
  "ExecuteTimeLog": [
   {
    "duration": 1387,
    "start_time": "2025-04-20T08:44:49.152Z"
   },
   {
    "duration": 411,
    "start_time": "2025-04-20T08:45:39.880Z"
   },
   {
    "duration": 291,
    "start_time": "2025-04-20T08:45:52.666Z"
   },
   {
    "duration": 1318,
    "start_time": "2025-04-20T08:47:01.522Z"
   },
   {
    "duration": 1133,
    "start_time": "2025-04-20T08:47:08.980Z"
   },
   {
    "duration": 383,
    "start_time": "2025-04-20T08:47:53.649Z"
   },
   {
    "duration": 70,
    "start_time": "2025-04-20T08:48:25.944Z"
   },
   {
    "duration": 268,
    "start_time": "2025-04-20T08:48:59.054Z"
   },
   {
    "duration": 961,
    "start_time": "2025-04-20T08:49:03.241Z"
   },
   {
    "duration": 308,
    "start_time": "2025-04-20T08:49:04.204Z"
   },
   {
    "duration": 42,
    "start_time": "2025-04-20T08:49:04.514Z"
   },
   {
    "duration": 8,
    "start_time": "2025-04-20T08:51:38.640Z"
   },
   {
    "duration": 34,
    "start_time": "2025-04-20T08:52:05.833Z"
   },
   {
    "duration": 3,
    "start_time": "2025-04-20T08:52:11.495Z"
   },
   {
    "duration": 18,
    "start_time": "2025-04-20T08:52:40.721Z"
   },
   {
    "duration": 35,
    "start_time": "2025-04-20T08:52:55.811Z"
   },
   {
    "duration": 4,
    "start_time": "2025-04-20T08:53:00.611Z"
   },
   {
    "duration": 34,
    "start_time": "2025-04-20T08:53:41.672Z"
   },
   {
    "duration": 4,
    "start_time": "2025-04-20T08:53:42.289Z"
   },
   {
    "duration": 33,
    "start_time": "2025-04-20T08:53:53.177Z"
   },
   {
    "duration": 3,
    "start_time": "2025-04-20T08:53:53.942Z"
   },
   {
    "duration": 17,
    "start_time": "2025-04-20T08:54:04.931Z"
   },
   {
    "duration": 4,
    "start_time": "2025-04-20T08:54:05.562Z"
   },
   {
    "duration": 72,
    "start_time": "2025-04-20T09:00:03.468Z"
   },
   {
    "duration": 151,
    "start_time": "2025-04-20T09:01:13.366Z"
   },
   {
    "duration": 4,
    "start_time": "2025-04-20T09:01:14.366Z"
   },
   {
    "duration": 144,
    "start_time": "2025-04-20T09:01:36.656Z"
   },
   {
    "duration": 4,
    "start_time": "2025-04-20T09:01:37.796Z"
   },
   {
    "duration": 58,
    "start_time": "2025-04-20T09:01:53.291Z"
   },
   {
    "duration": 4,
    "start_time": "2025-04-20T09:01:53.886Z"
   },
   {
    "duration": 143,
    "start_time": "2025-04-20T09:02:33.638Z"
   },
   {
    "duration": 4,
    "start_time": "2025-04-20T09:02:34.199Z"
   },
   {
    "duration": 163,
    "start_time": "2025-04-20T09:02:40.495Z"
   },
   {
    "duration": 3,
    "start_time": "2025-04-20T09:02:41.151Z"
   },
   {
    "duration": 144,
    "start_time": "2025-04-20T09:02:42.329Z"
   },
   {
    "duration": 4,
    "start_time": "2025-04-20T09:02:42.942Z"
   },
   {
    "duration": 152,
    "start_time": "2025-04-20T09:03:03.913Z"
   },
   {
    "duration": 4,
    "start_time": "2025-04-20T09:03:06.634Z"
   },
   {
    "duration": 60,
    "start_time": "2025-04-20T09:03:16.859Z"
   },
   {
    "duration": 4,
    "start_time": "2025-04-20T09:03:17.433Z"
   },
   {
    "duration": 37,
    "start_time": "2025-04-20T09:03:26.477Z"
   },
   {
    "duration": 133,
    "start_time": "2025-04-20T09:03:36.945Z"
   },
   {
    "duration": 32,
    "start_time": "2025-04-20T09:03:48.915Z"
   },
   {
    "duration": 144,
    "start_time": "2025-04-20T09:04:55.967Z"
   },
   {
    "duration": 3,
    "start_time": "2025-04-20T09:04:56.579Z"
   },
   {
    "duration": 61,
    "start_time": "2025-04-20T09:04:57.442Z"
   },
   {
    "duration": 3,
    "start_time": "2025-04-20T09:05:00.083Z"
   },
   {
    "duration": 140,
    "start_time": "2025-04-20T09:05:18.987Z"
   },
   {
    "duration": 4,
    "start_time": "2025-04-20T09:05:19.565Z"
   },
   {
    "duration": 118,
    "start_time": "2025-04-20T09:07:17.159Z"
   },
   {
    "duration": 4,
    "start_time": "2025-04-20T09:07:23.232Z"
   },
   {
    "duration": 157,
    "start_time": "2025-04-20T09:07:35.105Z"
   },
   {
    "duration": 145,
    "start_time": "2025-04-20T09:08:53.256Z"
   },
   {
    "duration": 3,
    "start_time": "2025-04-20T09:08:53.819Z"
   },
   {
    "duration": 143,
    "start_time": "2025-04-20T09:09:09.957Z"
   },
   {
    "duration": 3,
    "start_time": "2025-04-20T09:09:11.164Z"
   },
   {
    "duration": 143,
    "start_time": "2025-04-20T09:09:32.015Z"
   },
   {
    "duration": 4,
    "start_time": "2025-04-20T09:09:37.151Z"
   },
   {
    "duration": 139,
    "start_time": "2025-04-20T09:09:44.631Z"
   },
   {
    "duration": 125,
    "start_time": "2025-04-20T09:09:56.916Z"
   },
   {
    "duration": 5,
    "start_time": "2025-04-20T09:10:03.066Z"
   },
   {
    "duration": 22,
    "start_time": "2025-04-20T09:11:44.384Z"
   },
   {
    "duration": 89,
    "start_time": "2025-04-20T09:12:36.334Z"
   },
   {
    "duration": 32,
    "start_time": "2025-04-20T09:13:17.732Z"
   },
   {
    "duration": 3,
    "start_time": "2025-04-20T09:13:53.785Z"
   },
   {
    "duration": 381,
    "start_time": "2025-04-20T09:13:54.374Z"
   },
   {
    "duration": 1042,
    "start_time": "2025-04-20T09:13:54.757Z"
   },
   {
    "duration": 349,
    "start_time": "2025-04-20T09:13:55.800Z"
   },
   {
    "duration": 43,
    "start_time": "2025-04-20T09:13:56.151Z"
   },
   {
    "duration": 21,
    "start_time": "2025-04-20T09:13:56.196Z"
   },
   {
    "duration": 97,
    "start_time": "2025-04-20T09:13:56.219Z"
   },
   {
    "duration": 41,
    "start_time": "2025-04-20T09:13:56.318Z"
   },
   {
    "duration": 161,
    "start_time": "2025-04-20T09:13:56.361Z"
   },
   {
    "duration": 4,
    "start_time": "2025-04-20T09:13:57.129Z"
   },
   {
    "duration": 147,
    "start_time": "2025-04-20T09:13:57.939Z"
   },
   {
    "duration": 3,
    "start_time": "2025-04-20T09:13:58.560Z"
   },
   {
    "duration": 127,
    "start_time": "2025-04-20T09:13:59.213Z"
   },
   {
    "duration": 4,
    "start_time": "2025-04-20T09:13:59.755Z"
   },
   {
    "duration": 142,
    "start_time": "2025-04-20T09:16:40.632Z"
   },
   {
    "duration": 62,
    "start_time": "2025-04-20T09:16:58.384Z"
   },
   {
    "duration": 247,
    "start_time": "2025-04-20T09:19:14.987Z"
   },
   {
    "duration": 275,
    "start_time": "2025-04-20T09:19:27.604Z"
   },
   {
    "duration": 335,
    "start_time": "2025-04-20T09:19:55.014Z"
   },
   {
    "duration": 324,
    "start_time": "2025-04-20T09:20:04.835Z"
   },
   {
    "duration": 1012,
    "start_time": "2025-04-20T09:20:40.493Z"
   },
   {
    "duration": 13,
    "start_time": "2025-04-20T09:20:58.297Z"
   },
   {
    "duration": 1354,
    "start_time": "2025-04-22T08:44:26.582Z"
   },
   {
    "duration": 638,
    "start_time": "2025-04-22T08:44:27.939Z"
   },
   {
    "duration": 1161,
    "start_time": "2025-04-22T08:44:28.832Z"
   },
   {
    "duration": 427,
    "start_time": "2025-04-22T08:44:29.995Z"
   },
   {
    "duration": 71,
    "start_time": "2025-04-22T08:44:31.648Z"
   },
   {
    "duration": 24,
    "start_time": "2025-04-22T08:44:32.412Z"
   },
   {
    "duration": 93,
    "start_time": "2025-04-22T08:44:33.055Z"
   },
   {
    "duration": 32,
    "start_time": "2025-04-22T08:44:33.631Z"
   },
   {
    "duration": 158,
    "start_time": "2025-04-22T08:44:34.262Z"
   },
   {
    "duration": 4,
    "start_time": "2025-04-22T08:44:34.910Z"
   },
   {
    "duration": 151,
    "start_time": "2025-04-22T08:44:35.696Z"
   },
   {
    "duration": 4,
    "start_time": "2025-04-22T08:44:36.343Z"
   },
   {
    "duration": 126,
    "start_time": "2025-04-22T08:44:36.924Z"
   },
   {
    "duration": 5,
    "start_time": "2025-04-22T08:44:37.531Z"
   },
   {
    "duration": 232,
    "start_time": "2025-04-22T08:44:40.508Z"
   },
   {
    "duration": 326,
    "start_time": "2025-04-22T08:44:41.080Z"
   },
   {
    "duration": 328,
    "start_time": "2025-04-22T08:44:41.730Z"
   },
   {
    "duration": 279,
    "start_time": "2025-04-22T08:45:03.347Z"
   },
   {
    "duration": 116,
    "start_time": "2025-04-22T08:46:18.808Z"
   },
   {
    "duration": 78,
    "start_time": "2025-04-22T08:46:51.980Z"
   },
   {
    "duration": 508,
    "start_time": "2025-04-22T08:47:10.602Z"
   },
   {
    "duration": 276,
    "start_time": "2025-04-22T08:47:35.559Z"
   },
   {
    "duration": 288,
    "start_time": "2025-04-22T08:48:11.620Z"
   },
   {
    "duration": 72,
    "start_time": "2025-04-22T08:52:47.241Z"
   },
   {
    "duration": 41,
    "start_time": "2025-04-22T08:54:31.521Z"
   },
   {
    "duration": 57,
    "start_time": "2025-04-22T08:55:18.862Z"
   },
   {
    "duration": 32,
    "start_time": "2025-04-22T08:56:15.945Z"
   },
   {
    "duration": 14,
    "start_time": "2025-04-22T08:56:57.754Z"
   },
   {
    "duration": 117,
    "start_time": "2025-04-22T08:58:52.766Z"
   },
   {
    "duration": 109,
    "start_time": "2025-04-22T08:59:09.271Z"
   },
   {
    "duration": 3,
    "start_time": "2025-04-22T09:00:03.921Z"
   },
   {
    "duration": 3,
    "start_time": "2025-04-22T09:00:04.582Z"
   },
   {
    "duration": 4,
    "start_time": "2025-04-22T09:00:05.154Z"
   },
   {
    "duration": 111,
    "start_time": "2025-04-22T09:00:28.592Z"
   },
   {
    "duration": 106,
    "start_time": "2025-04-22T09:00:52.580Z"
   },
   {
    "duration": 104,
    "start_time": "2025-04-22T09:02:47.641Z"
   },
   {
    "duration": 769,
    "start_time": "2025-04-22T09:03:22.886Z"
   },
   {
    "duration": 1208,
    "start_time": "2025-04-22T09:04:15.611Z"
   },
   {
    "duration": 417,
    "start_time": "2025-04-22T09:04:16.821Z"
   },
   {
    "duration": 1048,
    "start_time": "2025-04-22T09:04:17.239Z"
   },
   {
    "duration": 466,
    "start_time": "2025-04-22T09:04:18.289Z"
   },
   {
    "duration": 81,
    "start_time": "2025-04-22T09:04:18.757Z"
   },
   {
    "duration": 21,
    "start_time": "2025-04-22T09:04:18.840Z"
   },
   {
    "duration": 119,
    "start_time": "2025-04-22T09:04:18.863Z"
   },
   {
    "duration": 33,
    "start_time": "2025-04-22T09:04:18.983Z"
   },
   {
    "duration": 166,
    "start_time": "2025-04-22T09:04:19.018Z"
   },
   {
    "duration": 4,
    "start_time": "2025-04-22T09:04:19.186Z"
   },
   {
    "duration": 156,
    "start_time": "2025-04-22T09:04:19.192Z"
   },
   {
    "duration": 4,
    "start_time": "2025-04-22T09:04:19.350Z"
   },
   {
    "duration": 215,
    "start_time": "2025-04-22T09:04:19.355Z"
   },
   {
    "duration": 4,
    "start_time": "2025-04-22T09:04:19.573Z"
   },
   {
    "duration": 252,
    "start_time": "2025-04-22T09:04:19.579Z"
   },
   {
    "duration": 340,
    "start_time": "2025-04-22T09:04:19.833Z"
   },
   {
    "duration": 318,
    "start_time": "2025-04-22T09:04:20.175Z"
   },
   {
    "duration": 292,
    "start_time": "2025-04-22T09:04:20.495Z"
   },
   {
    "duration": 126,
    "start_time": "2025-04-22T09:04:20.789Z"
   },
   {
    "duration": 530,
    "start_time": "2025-04-22T09:04:20.916Z"
   },
   {
    "duration": 289,
    "start_time": "2025-04-22T09:04:21.448Z"
   },
   {
    "duration": 301,
    "start_time": "2025-04-22T09:04:21.739Z"
   },
   {
    "duration": 40,
    "start_time": "2025-04-22T09:04:22.042Z"
   },
   {
    "duration": 67,
    "start_time": "2025-04-22T09:04:22.084Z"
   },
   {
    "duration": 35,
    "start_time": "2025-04-22T09:04:22.153Z"
   },
   {
    "duration": 20,
    "start_time": "2025-04-22T09:04:22.190Z"
   },
   {
    "duration": 6,
    "start_time": "2025-04-22T09:04:22.212Z"
   },
   {
    "duration": 99,
    "start_time": "2025-04-22T09:04:22.219Z"
   },
   {
    "duration": 186,
    "start_time": "2025-04-22T09:04:22.320Z"
   },
   {
    "duration": 781,
    "start_time": "2025-04-22T09:04:22.509Z"
   },
   {
    "duration": 1209,
    "start_time": "2025-04-22T09:59:29.132Z"
   },
   {
    "duration": 449,
    "start_time": "2025-04-22T09:59:31.277Z"
   },
   {
    "duration": 1283,
    "start_time": "2025-04-22T09:59:32.771Z"
   },
   {
    "duration": 570,
    "start_time": "2025-04-22T09:59:34.056Z"
   },
   {
    "duration": 125,
    "start_time": "2025-04-22T09:59:34.627Z"
   },
   {
    "duration": 21,
    "start_time": "2025-04-22T09:59:34.755Z"
   },
   {
    "duration": 123,
    "start_time": "2025-04-22T09:59:34.778Z"
   },
   {
    "duration": 35,
    "start_time": "2025-04-22T09:59:35.078Z"
   },
   {
    "duration": 147,
    "start_time": "2025-04-22T09:59:35.264Z"
   },
   {
    "duration": 4,
    "start_time": "2025-04-22T09:59:35.456Z"
   },
   {
    "duration": 145,
    "start_time": "2025-04-22T09:59:35.637Z"
   },
   {
    "duration": 4,
    "start_time": "2025-04-22T09:59:35.840Z"
   },
   {
    "duration": 132,
    "start_time": "2025-04-22T09:59:36.036Z"
   },
   {
    "duration": 4,
    "start_time": "2025-04-22T09:59:36.245Z"
   },
   {
    "duration": 236,
    "start_time": "2025-04-22T09:59:37.443Z"
   },
   {
    "duration": 321,
    "start_time": "2025-04-22T09:59:38.359Z"
   },
   {
    "duration": 309,
    "start_time": "2025-04-22T09:59:39.008Z"
   },
   {
    "duration": 291,
    "start_time": "2025-04-22T09:59:39.742Z"
   },
   {
    "duration": 119,
    "start_time": "2025-04-22T09:59:40.925Z"
   },
   {
    "duration": 500,
    "start_time": "2025-04-22T09:59:41.911Z"
   },
   {
    "duration": 276,
    "start_time": "2025-04-22T09:59:42.429Z"
   },
   {
    "duration": 303,
    "start_time": "2025-04-22T09:59:42.707Z"
   },
   {
    "duration": 47,
    "start_time": "2025-04-22T09:59:43.012Z"
   },
   {
    "duration": 50,
    "start_time": "2025-04-22T09:59:43.340Z"
   },
   {
    "duration": 32,
    "start_time": "2025-04-22T09:59:43.588Z"
   },
   {
    "duration": 5,
    "start_time": "2025-04-22T09:59:43.798Z"
   },
   {
    "duration": 4,
    "start_time": "2025-04-22T09:59:44.086Z"
   },
   {
    "duration": 4,
    "start_time": "2025-04-22T09:59:44.598Z"
   },
   {
    "duration": 134,
    "start_time": "2025-04-22T09:59:45.326Z"
   },
   {
    "duration": 792,
    "start_time": "2025-04-22T09:59:46.345Z"
   },
   {
    "duration": 1257,
    "start_time": "2025-04-22T12:04:45.680Z"
   },
   {
    "duration": 475,
    "start_time": "2025-04-22T12:04:46.939Z"
   },
   {
    "duration": 1186,
    "start_time": "2025-04-22T12:04:47.415Z"
   },
   {
    "duration": 493,
    "start_time": "2025-04-22T12:04:48.603Z"
   },
   {
    "duration": 70,
    "start_time": "2025-04-22T12:04:49.097Z"
   },
   {
    "duration": 21,
    "start_time": "2025-04-22T12:04:49.169Z"
   },
   {
    "duration": 93,
    "start_time": "2025-04-22T12:04:50.259Z"
   },
   {
    "duration": 32,
    "start_time": "2025-04-22T12:04:51.132Z"
   },
   {
    "duration": 158,
    "start_time": "2025-04-22T12:04:51.919Z"
   },
   {
    "duration": 4,
    "start_time": "2025-04-22T12:04:52.748Z"
   },
   {
    "duration": 148,
    "start_time": "2025-04-22T12:04:53.381Z"
   },
   {
    "duration": 4,
    "start_time": "2025-04-22T12:04:54.014Z"
   },
   {
    "duration": 121,
    "start_time": "2025-04-22T12:04:56.746Z"
   },
   {
    "duration": 4,
    "start_time": "2025-04-22T12:04:57.393Z"
   },
   {
    "duration": 243,
    "start_time": "2025-04-22T12:04:58.314Z"
   },
   {
    "duration": 340,
    "start_time": "2025-04-22T12:04:58.930Z"
   },
   {
    "duration": 321,
    "start_time": "2025-04-22T12:04:59.959Z"
   },
   {
    "duration": 297,
    "start_time": "2025-04-22T12:05:00.862Z"
   },
   {
    "duration": 128,
    "start_time": "2025-04-22T12:05:03.485Z"
   },
   {
    "duration": 531,
    "start_time": "2025-04-22T12:05:04.131Z"
   },
   {
    "duration": 329,
    "start_time": "2025-04-22T12:05:06.433Z"
   },
   {
    "duration": 314,
    "start_time": "2025-04-22T12:05:09.552Z"
   },
   {
    "duration": 39,
    "start_time": "2025-04-22T12:05:10.415Z"
   },
   {
    "duration": 53,
    "start_time": "2025-04-22T12:05:11.276Z"
   },
   {
    "duration": 31,
    "start_time": "2025-04-22T12:05:12.115Z"
   },
   {
    "duration": 759,
    "start_time": "2025-04-22T12:05:17.787Z"
   },
   {
    "duration": 1279,
    "start_time": "2025-04-22T14:37:32.975Z"
   },
   {
    "duration": 413,
    "start_time": "2025-04-22T14:37:35.556Z"
   },
   {
    "duration": 1189,
    "start_time": "2025-04-22T14:37:37.112Z"
   },
   {
    "duration": 668,
    "start_time": "2025-04-22T14:37:39.069Z"
   },
   {
    "duration": 77,
    "start_time": "2025-04-22T14:37:40.504Z"
   },
   {
    "duration": 20,
    "start_time": "2025-04-22T14:37:41.508Z"
   },
   {
    "duration": 91,
    "start_time": "2025-04-22T14:37:42.299Z"
   },
   {
    "duration": 32,
    "start_time": "2025-04-22T14:37:43.218Z"
   },
   {
    "duration": 154,
    "start_time": "2025-04-22T14:37:43.955Z"
   },
   {
    "duration": 5,
    "start_time": "2025-04-22T14:37:44.623Z"
   },
   {
    "duration": 143,
    "start_time": "2025-04-22T14:37:45.600Z"
   },
   {
    "duration": 3,
    "start_time": "2025-04-22T14:37:46.273Z"
   },
   {
    "duration": 115,
    "start_time": "2025-04-22T14:37:47.109Z"
   },
   {
    "duration": 4,
    "start_time": "2025-04-22T14:37:47.807Z"
   },
   {
    "duration": 231,
    "start_time": "2025-04-22T14:37:48.506Z"
   },
   {
    "duration": 321,
    "start_time": "2025-04-22T14:37:50.388Z"
   },
   {
    "duration": 325,
    "start_time": "2025-04-22T14:37:51.475Z"
   },
   {
    "duration": 287,
    "start_time": "2025-04-22T14:37:52.322Z"
   },
   {
    "duration": 142,
    "start_time": "2025-04-22T14:37:55.057Z"
   },
   {
    "duration": 551,
    "start_time": "2025-04-22T14:37:55.806Z"
   },
   {
    "duration": 290,
    "start_time": "2025-04-22T14:37:56.807Z"
   },
   {
    "duration": 316,
    "start_time": "2025-04-22T14:38:00.012Z"
   },
   {
    "duration": 56,
    "start_time": "2025-04-22T14:38:10.565Z"
   },
   {
    "duration": 51,
    "start_time": "2025-04-22T14:38:11.522Z"
   },
   {
    "duration": 31,
    "start_time": "2025-04-22T14:38:12.547Z"
   },
   {
    "duration": 4,
    "start_time": "2025-04-22T14:38:14.840Z"
   },
   {
    "duration": 4,
    "start_time": "2025-04-22T14:38:15.511Z"
   },
   {
    "duration": 4,
    "start_time": "2025-04-22T14:38:16.242Z"
   },
   {
    "duration": 732,
    "start_time": "2025-04-22T14:38:20.766Z"
   },
   {
    "duration": 15,
    "start_time": "2025-04-22T14:38:27.915Z"
   },
   {
    "duration": 8,
    "start_time": "2025-04-22T14:39:00.415Z"
   },
   {
    "duration": 15,
    "start_time": "2025-04-22T14:39:11.003Z"
   },
   {
    "duration": 10,
    "start_time": "2025-04-22T14:39:48.983Z"
   },
   {
    "duration": 61,
    "start_time": "2025-04-22T14:40:47.738Z"
   },
   {
    "duration": 1307,
    "start_time": "2025-04-22T14:40:54.357Z"
   },
   {
    "duration": 1234,
    "start_time": "2025-04-22T14:41:24.798Z"
   },
   {
    "duration": 6,
    "start_time": "2025-04-22T14:42:23.510Z"
   },
   {
    "duration": 1757,
    "start_time": "2025-04-22T14:42:39.893Z"
   },
   {
    "duration": 1521,
    "start_time": "2025-04-22T14:42:52.452Z"
   },
   {
    "duration": 1374,
    "start_time": "2025-04-22T14:43:46.736Z"
   },
   {
    "duration": 2,
    "start_time": "2025-04-22T14:46:06.548Z"
   },
   {
    "duration": 3,
    "start_time": "2025-04-22T14:46:15.675Z"
   },
   {
    "duration": 3,
    "start_time": "2025-04-22T14:46:26.094Z"
   },
   {
    "duration": 3,
    "start_time": "2025-04-22T14:46:27.223Z"
   },
   {
    "duration": 3,
    "start_time": "2025-04-22T14:46:32.876Z"
   },
   {
    "duration": 12,
    "start_time": "2025-04-22T14:46:43.907Z"
   },
   {
    "duration": 6,
    "start_time": "2025-04-22T14:46:44.567Z"
   },
   {
    "duration": 47,
    "start_time": "2025-04-22T14:51:46.616Z"
   },
   {
    "duration": 42,
    "start_time": "2025-04-22T14:52:11.056Z"
   },
   {
    "duration": 3,
    "start_time": "2025-04-22T14:54:22.201Z"
   },
   {
    "duration": 4,
    "start_time": "2025-04-22T14:54:27.985Z"
   },
   {
    "duration": 5,
    "start_time": "2025-04-22T14:56:00.955Z"
   },
   {
    "duration": 3,
    "start_time": "2025-04-22T14:56:08.850Z"
   },
   {
    "duration": 4,
    "start_time": "2025-04-22T14:56:09.706Z"
   },
   {
    "duration": 3,
    "start_time": "2025-04-22T14:56:28.070Z"
   },
   {
    "duration": 4,
    "start_time": "2025-04-22T14:56:36.011Z"
   },
   {
    "duration": 13,
    "start_time": "2025-04-22T14:57:32.683Z"
   },
   {
    "duration": 12,
    "start_time": "2025-04-22T14:58:01.786Z"
   },
   {
    "duration": 12,
    "start_time": "2025-04-22T14:58:08.988Z"
   },
   {
    "duration": 44,
    "start_time": "2025-04-22T14:58:46.338Z"
   },
   {
    "duration": 9,
    "start_time": "2025-04-22T14:59:30.925Z"
   },
   {
    "duration": 3,
    "start_time": "2025-04-22T14:59:46.470Z"
   },
   {
    "duration": 4,
    "start_time": "2025-04-22T14:59:57.278Z"
   },
   {
    "duration": 3,
    "start_time": "2025-04-22T15:00:11.803Z"
   },
   {
    "duration": 3,
    "start_time": "2025-04-22T15:00:18.378Z"
   },
   {
    "duration": 4,
    "start_time": "2025-04-22T15:00:24.441Z"
   },
   {
    "duration": 177,
    "start_time": "2025-04-22T15:00:58.395Z"
   },
   {
    "duration": 3,
    "start_time": "2025-04-22T15:00:59.444Z"
   },
   {
    "duration": 6,
    "start_time": "2025-04-22T15:01:00.189Z"
   },
   {
    "duration": 2,
    "start_time": "2025-04-22T15:01:01.074Z"
   },
   {
    "duration": 4,
    "start_time": "2025-04-22T15:01:02.586Z"
   },
   {
    "duration": 43,
    "start_time": "2025-04-22T15:01:03.487Z"
   },
   {
    "duration": 3,
    "start_time": "2025-04-22T15:01:04.502Z"
   },
   {
    "duration": 4,
    "start_time": "2025-04-22T15:01:05.453Z"
   },
   {
    "duration": 3,
    "start_time": "2025-04-22T15:01:06.475Z"
   },
   {
    "duration": 4,
    "start_time": "2025-04-22T15:01:07.614Z"
   },
   {
    "duration": 5,
    "start_time": "2025-04-22T15:01:23.721Z"
   },
   {
    "duration": 79,
    "start_time": "2025-04-22T15:01:52.689Z"
   },
   {
    "duration": 3,
    "start_time": "2025-04-22T15:01:53.528Z"
   },
   {
    "duration": 4,
    "start_time": "2025-04-22T15:01:54.182Z"
   },
   {
    "duration": 3,
    "start_time": "2025-04-22T15:01:55.194Z"
   },
   {
    "duration": 4,
    "start_time": "2025-04-22T15:01:55.849Z"
   },
   {
    "duration": 42,
    "start_time": "2025-04-22T15:01:57.115Z"
   },
   {
    "duration": 3,
    "start_time": "2025-04-22T15:01:58.098Z"
   },
   {
    "duration": 14,
    "start_time": "2025-04-22T15:02:14.449Z"
   },
   {
    "duration": 12,
    "start_time": "2025-04-22T15:02:29.790Z"
   },
   {
    "duration": 45,
    "start_time": "2025-04-22T15:02:47.294Z"
   },
   {
    "duration": 3,
    "start_time": "2025-04-22T15:02:48.754Z"
   },
   {
    "duration": 4,
    "start_time": "2025-04-22T15:02:49.376Z"
   },
   {
    "duration": 3,
    "start_time": "2025-04-22T15:02:50.105Z"
   },
   {
    "duration": 4,
    "start_time": "2025-04-22T15:02:50.639Z"
   },
   {
    "duration": 3,
    "start_time": "2025-04-22T15:03:56.032Z"
   },
   {
    "duration": 4,
    "start_time": "2025-04-22T15:05:07.673Z"
   },
   {
    "duration": 5,
    "start_time": "2025-04-22T15:08:30.392Z"
   },
   {
    "duration": 167,
    "start_time": "2025-04-22T15:12:39.649Z"
   },
   {
    "duration": 89,
    "start_time": "2025-04-22T15:12:45.007Z"
   },
   {
    "duration": 3,
    "start_time": "2025-04-22T15:12:47.137Z"
   },
   {
    "duration": 4,
    "start_time": "2025-04-22T15:12:47.857Z"
   },
   {
    "duration": 3,
    "start_time": "2025-04-22T15:12:48.690Z"
   },
   {
    "duration": 4,
    "start_time": "2025-04-22T15:12:49.359Z"
   },
   {
    "duration": 43,
    "start_time": "2025-04-22T15:12:51.310Z"
   },
   {
    "duration": 3,
    "start_time": "2025-04-22T15:12:52.008Z"
   },
   {
    "duration": 4,
    "start_time": "2025-04-22T15:12:52.694Z"
   },
   {
    "duration": 2,
    "start_time": "2025-04-22T15:12:53.478Z"
   },
   {
    "duration": 3,
    "start_time": "2025-04-22T15:12:54.609Z"
   },
   {
    "duration": 3,
    "start_time": "2025-04-22T15:12:55.559Z"
   },
   {
    "duration": 4,
    "start_time": "2025-04-22T15:12:56.426Z"
   },
   {
    "duration": 5,
    "start_time": "2025-04-22T15:12:57.344Z"
   },
   {
    "duration": 187,
    "start_time": "2025-04-22T15:13:16.035Z"
   },
   {
    "duration": 2,
    "start_time": "2025-04-22T15:13:16.984Z"
   },
   {
    "duration": 4,
    "start_time": "2025-04-22T15:13:17.748Z"
   },
   {
    "duration": 79,
    "start_time": "2025-04-22T15:13:23.768Z"
   },
   {
    "duration": 2,
    "start_time": "2025-04-22T15:13:24.368Z"
   },
   {
    "duration": 3,
    "start_time": "2025-04-22T15:13:24.919Z"
   },
   {
    "duration": 3,
    "start_time": "2025-04-22T15:13:25.552Z"
   },
   {
    "duration": 3,
    "start_time": "2025-04-22T15:13:26.085Z"
   },
   {
    "duration": 43,
    "start_time": "2025-04-22T15:13:26.767Z"
   },
   {
    "duration": 3,
    "start_time": "2025-04-22T15:13:27.534Z"
   },
   {
    "duration": 4,
    "start_time": "2025-04-22T15:13:28.168Z"
   },
   {
    "duration": 3,
    "start_time": "2025-04-22T15:13:28.902Z"
   },
   {
    "duration": 3,
    "start_time": "2025-04-22T15:13:29.551Z"
   },
   {
    "duration": 125,
    "start_time": "2025-04-22T15:14:26.517Z"
   },
   {
    "duration": 1453,
    "start_time": "2025-04-23T09:06:03.967Z"
   },
   {
    "duration": 560,
    "start_time": "2025-04-23T09:06:05.422Z"
   },
   {
    "duration": 1122,
    "start_time": "2025-04-23T09:06:05.984Z"
   },
   {
    "duration": 582,
    "start_time": "2025-04-23T09:06:07.108Z"
   },
   {
    "duration": 131,
    "start_time": "2025-04-23T09:06:07.692Z"
   },
   {
    "duration": 25,
    "start_time": "2025-04-23T09:06:12.563Z"
   },
   {
    "duration": 96,
    "start_time": "2025-04-23T09:06:13.436Z"
   },
   {
    "duration": 45,
    "start_time": "2025-04-23T09:06:14.391Z"
   },
   {
    "duration": 62,
    "start_time": "2025-04-23T09:06:39.474Z"
   },
   {
    "duration": 4,
    "start_time": "2025-04-23T09:06:40.855Z"
   },
   {
    "duration": 61,
    "start_time": "2025-04-23T09:07:09.601Z"
   },
   {
    "duration": 4,
    "start_time": "2025-04-23T09:07:10.350Z"
   },
   {
    "duration": 243,
    "start_time": "2025-04-23T09:07:51.235Z"
   },
   {
    "duration": 326,
    "start_time": "2025-04-23T09:07:52.262Z"
   },
   {
    "duration": 326,
    "start_time": "2025-04-23T09:07:53.229Z"
   },
   {
    "duration": 321,
    "start_time": "2025-04-23T09:07:54.845Z"
   },
   {
    "duration": 146,
    "start_time": "2025-04-23T09:08:23.370Z"
   },
   {
    "duration": 501,
    "start_time": "2025-04-23T09:08:26.622Z"
   },
   {
    "duration": 276,
    "start_time": "2025-04-23T09:08:27.554Z"
   },
   {
    "duration": 306,
    "start_time": "2025-04-23T09:08:30.015Z"
   },
   {
    "duration": 113,
    "start_time": "2025-04-23T09:10:20.861Z"
   },
   {
    "duration": 55,
    "start_time": "2025-04-23T09:10:40.554Z"
   },
   {
    "duration": 497,
    "start_time": "2025-04-23T09:10:43.193Z"
   },
   {
    "duration": 16,
    "start_time": "2025-04-23T09:12:05.780Z"
   },
   {
    "duration": 12,
    "start_time": "2025-04-23T09:12:21.950Z"
   },
   {
    "duration": 508,
    "start_time": "2025-04-23T09:12:45.470Z"
   },
   {
    "duration": 1344,
    "start_time": "2025-04-23T09:12:58.223Z"
   },
   {
    "duration": 1255,
    "start_time": "2025-04-23T09:22:48.364Z"
   },
   {
    "duration": 380,
    "start_time": "2025-04-23T09:22:51.905Z"
   },
   {
    "duration": 1402,
    "start_time": "2025-04-23T09:22:52.957Z"
   },
   {
    "duration": 481,
    "start_time": "2025-04-23T09:22:54.361Z"
   },
   {
    "duration": 45,
    "start_time": "2025-04-23T09:22:54.843Z"
   },
   {
    "duration": 23,
    "start_time": "2025-04-23T09:22:54.912Z"
   },
   {
    "duration": 97,
    "start_time": "2025-04-23T09:22:58.892Z"
   },
   {
    "duration": 33,
    "start_time": "2025-04-23T09:22:59.548Z"
   },
   {
    "duration": 61,
    "start_time": "2025-04-23T09:23:00.245Z"
   },
   {
    "duration": 5,
    "start_time": "2025-04-23T09:23:00.939Z"
   },
   {
    "duration": 246,
    "start_time": "2025-04-23T09:23:02.379Z"
   },
   {
    "duration": 342,
    "start_time": "2025-04-23T09:23:03.026Z"
   },
   {
    "duration": 336,
    "start_time": "2025-04-23T09:23:03.593Z"
   },
   {
    "duration": 306,
    "start_time": "2025-04-23T09:23:04.459Z"
   },
   {
    "duration": 135,
    "start_time": "2025-04-23T09:23:05.504Z"
   },
   {
    "duration": 518,
    "start_time": "2025-04-23T09:23:06.688Z"
   },
   {
    "duration": 266,
    "start_time": "2025-04-23T09:23:10.347Z"
   },
   {
    "duration": 300,
    "start_time": "2025-04-23T09:23:11.562Z"
   },
   {
    "duration": 51,
    "start_time": "2025-04-23T09:23:16.743Z"
   },
   {
    "duration": 564,
    "start_time": "2025-04-23T09:23:19.251Z"
   },
   {
    "duration": 123,
    "start_time": "2025-04-23T09:23:51.791Z"
   },
   {
    "duration": 240,
    "start_time": "2025-04-23T09:24:02.610Z"
   },
   {
    "duration": 1302,
    "start_time": "2025-04-23T09:25:27.905Z"
   },
   {
    "duration": 45,
    "start_time": "2025-04-23T09:26:35.146Z"
   },
   {
    "duration": 5,
    "start_time": "2025-04-23T09:26:36.455Z"
   },
   {
    "duration": 91,
    "start_time": "2025-04-23T09:26:41.890Z"
   },
   {
    "duration": 88,
    "start_time": "2025-04-23T09:26:56.159Z"
   },
   {
    "duration": 174,
    "start_time": "2025-04-23T09:29:23.194Z"
   },
   {
    "duration": 81,
    "start_time": "2025-04-23T09:29:58.318Z"
   },
   {
    "duration": 45,
    "start_time": "2025-04-23T09:29:59.287Z"
   },
   {
    "duration": 7,
    "start_time": "2025-04-23T09:30:14.538Z"
   },
   {
    "duration": 4,
    "start_time": "2025-04-23T09:30:28.152Z"
   },
   {
    "duration": 89,
    "start_time": "2025-04-23T09:30:36.901Z"
   },
   {
    "duration": 178,
    "start_time": "2025-04-23T09:30:58.345Z"
   },
   {
    "duration": 45,
    "start_time": "2025-04-23T09:30:59.336Z"
   },
   {
    "duration": 3,
    "start_time": "2025-04-23T09:31:00.058Z"
   },
   {
    "duration": 93,
    "start_time": "2025-04-23T09:31:00.818Z"
   },
   {
    "duration": 82,
    "start_time": "2025-04-23T09:31:11.334Z"
   },
   {
    "duration": 46,
    "start_time": "2025-04-23T09:31:12.020Z"
   },
   {
    "duration": 3,
    "start_time": "2025-04-23T09:31:12.820Z"
   },
   {
    "duration": 93,
    "start_time": "2025-04-23T09:31:13.749Z"
   },
   {
    "duration": 81,
    "start_time": "2025-04-23T09:32:05.107Z"
   },
   {
    "duration": 11,
    "start_time": "2025-04-23T09:34:38.740Z"
   },
   {
    "duration": 43,
    "start_time": "2025-04-23T09:35:41.526Z"
   },
   {
    "duration": 3,
    "start_time": "2025-04-23T09:36:13.673Z"
   },
   {
    "duration": 111,
    "start_time": "2025-04-23T09:36:14.397Z"
   },
   {
    "duration": 14,
    "start_time": "2025-04-23T09:36:40.368Z"
   },
   {
    "duration": 662,
    "start_time": "2025-04-23T09:36:49.610Z"
   },
   {
    "duration": 11,
    "start_time": "2025-04-23T09:37:03.165Z"
   },
   {
    "duration": 204,
    "start_time": "2025-04-23T09:37:28.285Z"
   },
   {
    "duration": 11,
    "start_time": "2025-04-23T09:37:31.361Z"
   },
   {
    "duration": 5,
    "start_time": "2025-04-23T09:37:42.931Z"
   },
   {
    "duration": 86,
    "start_time": "2025-04-23T09:38:13.492Z"
   },
   {
    "duration": 64,
    "start_time": "2025-04-23T09:38:23.679Z"
   },
   {
    "duration": 212,
    "start_time": "2025-04-23T09:38:34.958Z"
   },
   {
    "duration": 7,
    "start_time": "2025-04-23T09:38:38.457Z"
   },
   {
    "duration": 12,
    "start_time": "2025-04-23T09:38:56.791Z"
   },
   {
    "duration": 6,
    "start_time": "2025-04-23T09:39:35.207Z"
   },
   {
    "duration": 5,
    "start_time": "2025-04-23T09:41:09.832Z"
   },
   {
    "duration": 3,
    "start_time": "2025-04-23T09:41:38.175Z"
   },
   {
    "duration": 3,
    "start_time": "2025-04-23T09:41:53.843Z"
   },
   {
    "duration": 1227,
    "start_time": "2025-04-23T09:43:35.599Z"
   },
   {
    "duration": 1459,
    "start_time": "2025-04-23T09:44:09.011Z"
   },
   {
    "duration": 69,
    "start_time": "2025-04-23T09:46:05.538Z"
   },
   {
    "duration": 208,
    "start_time": "2025-04-23T09:46:21.208Z"
   },
   {
    "duration": 1245,
    "start_time": "2025-04-23T09:47:34.786Z"
   },
   {
    "duration": 1300,
    "start_time": "2025-04-23T09:49:15.504Z"
   },
   {
    "duration": 7,
    "start_time": "2025-04-23T09:50:32.808Z"
   },
   {
    "duration": 3,
    "start_time": "2025-04-23T09:52:23.391Z"
   },
   {
    "duration": 3,
    "start_time": "2025-04-23T09:52:35.008Z"
   },
   {
    "duration": 3,
    "start_time": "2025-04-23T09:52:49.762Z"
   },
   {
    "duration": 14,
    "start_time": "2025-04-23T09:53:59.578Z"
   },
   {
    "duration": 1283,
    "start_time": "2025-04-23T09:54:49.241Z"
   },
   {
    "duration": 199,
    "start_time": "2025-04-23T09:55:40.218Z"
   },
   {
    "duration": 208,
    "start_time": "2025-04-23T09:55:56.872Z"
   },
   {
    "duration": 1264,
    "start_time": "2025-04-23T09:56:20.909Z"
   },
   {
    "duration": 6,
    "start_time": "2025-04-23T09:56:37.434Z"
   },
   {
    "duration": 1312,
    "start_time": "2025-04-23T09:57:02.856Z"
   },
   {
    "duration": 4,
    "start_time": "2025-04-23T09:58:14.709Z"
   },
   {
    "duration": 9,
    "start_time": "2025-04-23T09:58:54.379Z"
   },
   {
    "duration": 4,
    "start_time": "2025-04-23T09:59:07.975Z"
   },
   {
    "duration": 1748,
    "start_time": "2025-04-23T09:59:19.463Z"
   },
   {
    "duration": 8,
    "start_time": "2025-04-23T10:04:23.593Z"
   },
   {
    "duration": 43,
    "start_time": "2025-04-23T10:04:32.243Z"
   },
   {
    "duration": 222,
    "start_time": "2025-04-23T10:04:33.797Z"
   },
   {
    "duration": 7,
    "start_time": "2025-04-23T10:04:38.335Z"
   },
   {
    "duration": 52,
    "start_time": "2025-04-23T10:04:56.567Z"
   },
   {
    "duration": 44,
    "start_time": "2025-04-23T10:04:57.456Z"
   },
   {
    "duration": 202,
    "start_time": "2025-04-23T10:04:58.270Z"
   },
   {
    "duration": 8,
    "start_time": "2025-04-23T10:05:01.973Z"
   },
   {
    "duration": 200,
    "start_time": "2025-04-23T10:05:18.170Z"
   },
   {
    "duration": 7,
    "start_time": "2025-04-23T10:05:25.726Z"
   },
   {
    "duration": 4,
    "start_time": "2025-04-23T10:05:35.209Z"
   },
   {
    "duration": 5,
    "start_time": "2025-04-23T10:05:44.341Z"
   },
   {
    "duration": 3,
    "start_time": "2025-04-23T10:05:45.049Z"
   },
   {
    "duration": 3,
    "start_time": "2025-04-23T10:05:45.727Z"
   },
   {
    "duration": 5,
    "start_time": "2025-04-23T10:05:53.894Z"
   },
   {
    "duration": 8,
    "start_time": "2025-04-23T10:06:10.343Z"
   },
   {
    "duration": 3,
    "start_time": "2025-04-23T10:06:44.022Z"
   },
   {
    "duration": 3,
    "start_time": "2025-04-23T10:07:02.327Z"
   },
   {
    "duration": 5,
    "start_time": "2025-04-23T10:07:51.153Z"
   },
   {
    "duration": 247,
    "start_time": "2025-04-23T10:07:52.472Z"
   },
   {
    "duration": 9,
    "start_time": "2025-04-23T10:08:20.704Z"
   },
   {
    "duration": 7,
    "start_time": "2025-04-23T10:08:40.313Z"
   },
   {
    "duration": 5,
    "start_time": "2025-04-23T10:08:53.478Z"
   },
   {
    "duration": 4,
    "start_time": "2025-04-23T10:10:02.230Z"
   },
   {
    "duration": 5,
    "start_time": "2025-04-23T10:10:15.100Z"
   },
   {
    "duration": 3,
    "start_time": "2025-04-23T10:10:44.167Z"
   },
   {
    "duration": 101,
    "start_time": "2025-04-23T10:10:47.189Z"
   },
   {
    "duration": 209,
    "start_time": "2025-04-23T10:12:04.539Z"
   },
   {
    "duration": 8,
    "start_time": "2025-04-23T10:12:06.751Z"
   },
   {
    "duration": 200,
    "start_time": "2025-04-23T10:12:12.974Z"
   },
   {
    "duration": 7,
    "start_time": "2025-04-23T10:12:13.642Z"
   },
   {
    "duration": 5,
    "start_time": "2025-04-23T10:12:59.677Z"
   },
   {
    "duration": 4,
    "start_time": "2025-04-23T10:13:48.073Z"
   },
   {
    "duration": 7,
    "start_time": "2025-04-23T10:13:48.778Z"
   },
   {
    "duration": 5,
    "start_time": "2025-04-23T10:14:39.021Z"
   },
   {
    "duration": 4,
    "start_time": "2025-04-23T10:15:44.967Z"
   },
   {
    "duration": 184,
    "start_time": "2025-04-23T10:16:46.479Z"
   },
   {
    "duration": 116,
    "start_time": "2025-04-23T10:18:22.957Z"
   },
   {
    "duration": 119,
    "start_time": "2025-04-23T10:18:40.546Z"
   },
   {
    "duration": 118,
    "start_time": "2025-04-23T10:18:46.618Z"
   },
   {
    "duration": 3,
    "start_time": "2025-04-23T10:20:52.570Z"
   },
   {
    "duration": 2,
    "start_time": "2025-04-23T10:21:01.999Z"
   },
   {
    "duration": 4,
    "start_time": "2025-04-23T10:21:51.890Z"
   },
   {
    "duration": 3,
    "start_time": "2025-04-23T10:22:00.767Z"
   },
   {
    "duration": 3,
    "start_time": "2025-04-23T10:23:40.495Z"
   },
   {
    "duration": 4,
    "start_time": "2025-04-23T10:24:48.590Z"
   },
   {
    "duration": 6,
    "start_time": "2025-04-23T10:25:42.890Z"
   },
   {
    "duration": 4,
    "start_time": "2025-04-23T10:27:08.864Z"
   },
   {
    "duration": 104,
    "start_time": "2025-04-23T10:28:39.218Z"
   },
   {
    "duration": 6,
    "start_time": "2025-04-23T10:29:05.457Z"
   },
   {
    "duration": 4,
    "start_time": "2025-04-23T10:29:06.196Z"
   },
   {
    "duration": 7,
    "start_time": "2025-04-23T10:29:07.229Z"
   },
   {
    "duration": 5,
    "start_time": "2025-04-23T10:29:15.147Z"
   },
   {
    "duration": 4,
    "start_time": "2025-04-23T10:29:15.832Z"
   },
   {
    "duration": 125,
    "start_time": "2025-04-23T10:29:16.747Z"
   },
   {
    "duration": 5,
    "start_time": "2025-04-23T10:30:03.643Z"
   },
   {
    "duration": 7,
    "start_time": "2025-04-23T10:30:29.111Z"
   },
   {
    "duration": 5,
    "start_time": "2025-04-23T10:30:48.867Z"
   },
   {
    "duration": 3,
    "start_time": "2025-04-23T10:31:36.938Z"
   },
   {
    "duration": 3,
    "start_time": "2025-04-23T10:31:49.840Z"
   },
   {
    "duration": 3,
    "start_time": "2025-04-23T10:32:19.964Z"
   },
   {
    "duration": 3,
    "start_time": "2025-04-23T10:32:37.954Z"
   },
   {
    "duration": 3,
    "start_time": "2025-04-23T10:33:03.857Z"
   },
   {
    "duration": 3,
    "start_time": "2025-04-23T10:33:24.267Z"
   },
   {
    "duration": 4,
    "start_time": "2025-04-23T10:33:56.698Z"
   },
   {
    "duration": 6,
    "start_time": "2025-04-23T10:34:22.501Z"
   },
   {
    "duration": 101,
    "start_time": "2025-04-23T10:35:19.621Z"
   },
   {
    "duration": 5,
    "start_time": "2025-04-23T10:35:24.230Z"
   },
   {
    "duration": 4,
    "start_time": "2025-04-23T10:35:26.311Z"
   },
   {
    "duration": 3,
    "start_time": "2025-04-23T10:35:27.447Z"
   },
   {
    "duration": 3,
    "start_time": "2025-04-23T10:35:28.245Z"
   },
   {
    "duration": 3,
    "start_time": "2025-04-23T10:35:29.111Z"
   },
   {
    "duration": 3,
    "start_time": "2025-04-23T10:35:30.016Z"
   },
   {
    "duration": 2,
    "start_time": "2025-04-23T10:35:31.300Z"
   },
   {
    "duration": 4,
    "start_time": "2025-04-23T10:35:32.429Z"
   },
   {
    "duration": 7,
    "start_time": "2025-04-23T10:36:06.574Z"
   },
   {
    "duration": 5,
    "start_time": "2025-04-23T10:36:31.747Z"
   },
   {
    "duration": 3,
    "start_time": "2025-04-23T10:36:51.400Z"
   },
   {
    "duration": 4,
    "start_time": "2025-04-23T10:36:57.902Z"
   },
   {
    "duration": 4,
    "start_time": "2025-04-23T10:37:14.642Z"
   },
   {
    "duration": 7,
    "start_time": "2025-04-23T10:37:34.998Z"
   },
   {
    "duration": 1210,
    "start_time": "2025-04-23T10:38:50.318Z"
   },
   {
    "duration": 4,
    "start_time": "2025-04-23T10:39:13.876Z"
   },
   {
    "duration": 3,
    "start_time": "2025-04-23T10:39:38.263Z"
   },
   {
    "duration": 4,
    "start_time": "2025-04-23T10:39:56.152Z"
   },
   {
    "duration": 7,
    "start_time": "2025-04-23T10:40:04.876Z"
   },
   {
    "duration": 21,
    "start_time": "2025-04-23T10:40:31.010Z"
   },
   {
    "duration": 7,
    "start_time": "2025-04-23T10:40:44.314Z"
   },
   {
    "duration": 5,
    "start_time": "2025-04-23T10:41:14.341Z"
   },
   {
    "duration": 11,
    "start_time": "2025-04-23T10:41:18.541Z"
   },
   {
    "duration": 4,
    "start_time": "2025-04-23T10:41:47.357Z"
   },
   {
    "duration": 5,
    "start_time": "2025-04-23T10:41:53.751Z"
   },
   {
    "duration": 5,
    "start_time": "2025-04-23T10:42:06.274Z"
   },
   {
    "duration": 4,
    "start_time": "2025-04-23T10:42:07.219Z"
   },
   {
    "duration": 3,
    "start_time": "2025-04-23T10:42:13.987Z"
   },
   {
    "duration": 3,
    "start_time": "2025-04-23T10:42:20.055Z"
   },
   {
    "duration": 4,
    "start_time": "2025-04-23T10:42:22.154Z"
   },
   {
    "duration": 5,
    "start_time": "2025-04-23T10:43:03.634Z"
   },
   {
    "duration": 1244,
    "start_time": "2025-04-23T10:48:26.966Z"
   },
   {
    "duration": 445,
    "start_time": "2025-04-23T10:48:28.212Z"
   },
   {
    "duration": 1175,
    "start_time": "2025-04-23T10:48:28.659Z"
   },
   {
    "duration": 398,
    "start_time": "2025-04-23T10:48:29.836Z"
   },
   {
    "duration": 70,
    "start_time": "2025-04-23T10:48:30.237Z"
   },
   {
    "duration": 21,
    "start_time": "2025-04-23T10:48:30.309Z"
   },
   {
    "duration": 117,
    "start_time": "2025-04-23T10:48:30.332Z"
   },
   {
    "duration": 37,
    "start_time": "2025-04-23T10:48:30.451Z"
   },
   {
    "duration": 97,
    "start_time": "2025-04-23T10:48:30.489Z"
   },
   {
    "duration": 3,
    "start_time": "2025-04-23T10:48:30.588Z"
   },
   {
    "duration": 265,
    "start_time": "2025-04-23T10:48:30.593Z"
   },
   {
    "duration": 341,
    "start_time": "2025-04-23T10:48:30.860Z"
   },
   {
    "duration": 328,
    "start_time": "2025-04-23T10:48:31.206Z"
   },
   {
    "duration": 303,
    "start_time": "2025-04-23T10:48:31.538Z"
   },
   {
    "duration": 133,
    "start_time": "2025-04-23T10:48:31.843Z"
   },
   {
    "duration": 571,
    "start_time": "2025-04-23T10:48:31.978Z"
   },
   {
    "duration": 303,
    "start_time": "2025-04-23T10:48:32.551Z"
   },
   {
    "duration": 322,
    "start_time": "2025-04-23T10:48:32.856Z"
   },
   {
    "duration": 56,
    "start_time": "2025-04-23T10:48:33.180Z"
   },
   {
    "duration": 225,
    "start_time": "2025-04-23T10:48:33.238Z"
   },
   {
    "duration": 8,
    "start_time": "2025-04-23T10:48:33.465Z"
   },
   {
    "duration": 18,
    "start_time": "2025-04-23T10:48:33.474Z"
   },
   {
    "duration": 33,
    "start_time": "2025-04-23T10:48:33.494Z"
   },
   {
    "duration": 7,
    "start_time": "2025-04-23T10:48:33.528Z"
   },
   {
    "duration": 19,
    "start_time": "2025-04-23T10:48:33.537Z"
   },
   {
    "duration": 11,
    "start_time": "2025-04-23T10:48:33.557Z"
   },
   {
    "duration": 135,
    "start_time": "2025-04-23T10:48:33.569Z"
   },
   {
    "duration": 3,
    "start_time": "2025-04-23T10:48:33.706Z"
   },
   {
    "duration": 17,
    "start_time": "2025-04-23T10:48:33.710Z"
   },
   {
    "duration": 21,
    "start_time": "2025-04-23T10:48:33.729Z"
   },
   {
    "duration": 8,
    "start_time": "2025-04-23T10:48:33.751Z"
   },
   {
    "duration": 36,
    "start_time": "2025-04-23T10:48:33.760Z"
   },
   {
    "duration": 21,
    "start_time": "2025-04-23T10:48:33.798Z"
   },
   {
    "duration": 12,
    "start_time": "2025-04-23T10:48:33.821Z"
   },
   {
    "duration": 5,
    "start_time": "2025-04-23T10:48:33.835Z"
   },
   {
    "duration": 5,
    "start_time": "2025-04-23T10:48:33.843Z"
   },
   {
    "duration": 262,
    "start_time": "2025-04-23T10:48:33.908Z"
   },
   {
    "duration": 1019,
    "start_time": "2025-04-23T10:48:34.537Z"
   },
   {
    "duration": 278,
    "start_time": "2025-04-23T10:48:35.558Z"
   },
   {
    "duration": 47,
    "start_time": "2025-04-23T10:48:35.837Z"
   },
   {
    "duration": 22,
    "start_time": "2025-04-23T10:48:36.436Z"
   },
   {
    "duration": 93,
    "start_time": "2025-04-23T10:48:37.021Z"
   },
   {
    "duration": 33,
    "start_time": "2025-04-23T10:48:37.554Z"
   },
   {
    "duration": 58,
    "start_time": "2025-04-23T10:48:38.039Z"
   },
   {
    "duration": 4,
    "start_time": "2025-04-23T10:48:38.498Z"
   },
   {
    "duration": 212,
    "start_time": "2025-04-23T10:48:39.018Z"
   },
   {
    "duration": 321,
    "start_time": "2025-04-23T10:48:39.720Z"
   },
   {
    "duration": 311,
    "start_time": "2025-04-23T10:48:40.242Z"
   },
   {
    "duration": 310,
    "start_time": "2025-04-23T10:48:40.555Z"
   },
   {
    "duration": 124,
    "start_time": "2025-04-23T10:48:40.867Z"
   },
   {
    "duration": 539,
    "start_time": "2025-04-23T10:48:40.993Z"
   },
   {
    "duration": 259,
    "start_time": "2025-04-23T10:48:41.534Z"
   },
   {
    "duration": 327,
    "start_time": "2025-04-23T10:48:41.795Z"
   },
   {
    "duration": 50,
    "start_time": "2025-04-23T10:48:42.125Z"
   },
   {
    "duration": 240,
    "start_time": "2025-04-23T10:48:42.177Z"
   },
   {
    "duration": 7,
    "start_time": "2025-04-23T10:48:42.419Z"
   },
   {
    "duration": 10,
    "start_time": "2025-04-23T10:48:42.428Z"
   },
   {
    "duration": 6,
    "start_time": "2025-04-23T10:48:42.440Z"
   },
   {
    "duration": 10,
    "start_time": "2025-04-23T10:48:42.447Z"
   },
   {
    "duration": 4,
    "start_time": "2025-04-23T10:48:42.616Z"
   },
   {
    "duration": 3,
    "start_time": "2025-04-23T10:48:42.820Z"
   },
   {
    "duration": 125,
    "start_time": "2025-04-23T10:48:43.016Z"
   },
   {
    "duration": 3,
    "start_time": "2025-04-23T10:48:43.417Z"
   },
   {
    "duration": 2,
    "start_time": "2025-04-23T10:48:43.603Z"
   },
   {
    "duration": 3,
    "start_time": "2025-04-23T10:48:43.787Z"
   },
   {
    "duration": 4,
    "start_time": "2025-04-23T10:48:43.966Z"
   },
   {
    "duration": 5,
    "start_time": "2025-04-23T10:48:44.156Z"
   },
   {
    "duration": 5,
    "start_time": "2025-04-23T10:48:44.329Z"
   },
   {
    "duration": 4,
    "start_time": "2025-04-23T10:48:44.876Z"
   },
   {
    "duration": 5,
    "start_time": "2025-04-23T10:48:45.260Z"
   }
  ],
  "kernelspec": {
   "display_name": "Python 3 (ipykernel)",
   "language": "python",
   "name": "python3"
  },
  "language_info": {
   "codemirror_mode": {
    "name": "ipython",
    "version": 3
   },
   "file_extension": ".py",
   "mimetype": "text/x-python",
   "name": "python",
   "nbconvert_exporter": "python",
   "pygments_lexer": "ipython3",
   "version": "3.9.5"
  },
  "toc": {
   "base_numbering": 1,
   "nav_menu": {},
   "number_sections": true,
   "sideBar": true,
   "skip_h1_title": true,
   "title_cell": "Table of Contents",
   "title_sidebar": "Contents",
   "toc_cell": false,
   "toc_position": {},
   "toc_section_display": true,
   "toc_window_display": false
  }
 },
 "nbformat": 4,
 "nbformat_minor": 5
}
