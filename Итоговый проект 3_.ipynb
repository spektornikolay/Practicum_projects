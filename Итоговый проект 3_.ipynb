{
 "cells": [
  {
   "cell_type": "markdown",
   "id": "30484034",
   "metadata": {},
   "source": [
    "<div style=\"border:solid green 2px; padding: 20px\">\n",
    "    \n",
    "<b>Николай, привет!</b> Мы рады тебя видеть на территории код-ревьюеров. 😎 Ты проделал большую работу над проектом, но давай познакомимся и сделаем его еще лучше! У нас тут своя атмосфера и несколько правил:\n",
    "\n",
    "\n",
    "1. Это снова Александр Матвеевский. Я работаю код-ревьюером, моя основная цель — не указать на совершенные тобою ошибки, а поделиться своим опытом и помочь тебе стать аналитиком данных.\n",
    "2. Общаемся на ты.\n",
    "3. Если хочешь написать, спросить - не нужно стесняться. Только выбери свой цвет для комментария.  \n",
    "4. Это учебный проект, тут можно не бояться сделать ошибку.  \n",
    "5. У нас с тобой 6 попыток для сдачи проекта   \n",
    "6. Let's Go!\n",
    "\n",
    "---\n",
    "\n",
    "Я буду красить комментарии цветом, пожалуйста, не удаляй их:\n",
    "\n",
    "<div class=\"alert alert-block alert-danger\">✍\n",
    "    \n",
    "\n",
    "__Комментарий от ревьюера №1__\n",
    "\n",
    "Такой комментарий нужно исправить обязательно, он критически влияет на удачное выполнение проекта.\n",
    "</div>\n",
    "    \n",
    "---\n",
    "\n",
    "<div class=\"alert alert-block alert-warning\">📝\n",
    "    \n",
    "\n",
    "__Комментарий от ревьюера №1__\n",
    "\n",
    "\n",
    "Такой комментарий является рекомендацией или советом. Можешь использовать их на своё усмотрение.\n",
    "</div>\n",
    "\n",
    "---\n",
    "\n",
    "<div class=\"alert alert-block alert-success\">✔️\n",
    "    \n",
    "\n",
    "__Комментарий от ревьюера №1__\n",
    "\n",
    "Такой комментарий  говорит о том, что было сделано что-то качественное и правильное =)\n",
    "</div>\n",
    "    \n",
    "---\n",
    "    \n",
    "Предлагаю работать над проектом в диалоге: если ты что-то меняешь в проекте или отвечаешь на мои комментарии — пиши об этом. Мне будет легче отследить изменения, если ты выделишь свои комментарии:   \n",
    "    \n",
    "<div class=\"alert alert-info\"> <b>Комментарии студента:</b> Например, вот так.</div>\n",
    "    \n",
    "Всё это поможет выполнить повторную проверку твоего проекта оперативнее. Если будут какие-нибудь вопросы по моим комментариям, пиши, будем разбираться вместе :)    \n",
    "    \n",
    "---"
   ]
  },
  {
   "cell_type": "markdown",
   "id": "_E41Wr5fqnFT",
   "metadata": {
    "id": "_E41Wr5fqnFT"
   },
   "source": [
    "# Часть 1. Проверка гипотезы в Python и составление аналитической записки"
   ]
  },
  {
   "cell_type": "markdown",
   "id": "Z5_6nf-FrY7o",
   "metadata": {
    "id": "Z5_6nf-FrY7o"
   },
   "source": [
    "Вы предобработали данные в SQL, и теперь они готовы для проверки гипотезы в Python. Загрузите данные пользователей из Москвы и Санкт-Петербурга c суммой часов их активности из файла yandex_knigi_data.csv. Если работаете локально, скачать файл можно по ссылке.\n",
    "\n",
    "Проверьте наличие дубликатов в идентификаторах пользователей. Сравните размеры групп, их статистики и распределение.\n",
    "\n",
    "Напомним, как выглядит гипотеза: пользователи из Москвы проводят в среднем больше времени за чтением и прослушиванием книг в приложении, чем пользователи из Москвы. Попробуйте статистически это доказать, используя одностороннюю проверку гипотезы с двумя выборками:\n",
    "\n",
    "Нулевая гипотеза $H_0: \\mu_{\\text{СПб}} \\leq \\mu_{\\text{Москва}}$ <br> Среднее время активности пользователей в Санкт-Петербурге не больше, чем в Москве.\n",
    "\n",
    "Альтернативная гипотеза $H_1: \\mu_{\\text{СПб}} > \\mu_{\\text{Москва}}$ <br> Среднее время активности пользователей в Санкт-Петербурге больше, и это различие статистически значимо.\n",
    "\n",
    "По результатам анализа данных подготовьте аналитическую записку, в которой опишите:\n",
    "\n",
    "Выбранный тип t-теста и уровень статистической значимости.\n",
    "\n",
    "Результат теста, или p-value.\n",
    "\n",
    "Вывод на основе полученного p-value, то есть интерпретацию результатов.\n",
    "\n",
    "Одну или две возможные причины, объясняющие полученные результаты."
   ]
  },
  {
   "cell_type": "markdown",
   "id": "e06910dd",
   "metadata": {
    "id": "e06910dd"
   },
   "source": [
    "## Напишите заголовок первой части проекта здесь\n",
    "\n",
    "- Автор: Спектор Николай\n",
    "- Дата: 29.04.2025"
   ]
  },
  {
   "cell_type": "markdown",
   "id": "4149134c",
   "metadata": {
    "id": "4149134c"
   },
   "source": [
    "## Цели и задачи проекта\n",
    "\n",
    "<font color='#777778'>В этом блоке перечислите цель проекта и те задачи, которые вы решаете. Можно использовать описания проекта, но будет полезно, если вы сформулируете основную цель проекта самостоятельно.</font>\n",
    "\n",
    "Основная цель: проверить, тратят ли пользователи из Санкт-Петербурга больше времени на чтение и прослушивание книг в приложении чем пользователи из Москвы.\n",
    "\n",
    " Для достижения цели нужно решить следующие задачи:\n",
    " \n",
    " - Выбрать тип t-теста и уровень статистической значимости;\n",
    " - Узнать результат и сделать выводы;\n",
    " - Интерпретировать результаты;\n",
    " - Вывести возможные причины результатов."
   ]
  },
  {
   "cell_type": "markdown",
   "id": "728986ea",
   "metadata": {
    "id": "728986ea"
   },
   "source": [
    "## Описание данных\n",
    "\n",
    "<font color='#777778'>Здесь приведите описание данных.</font>\n",
    "\n",
    "В данных присутствует 3 столбца - город (Москва или Санкт-Петербург), идентефикоционный номер пользователя и количество часов прослушивания."
   ]
  },
  {
   "cell_type": "markdown",
   "id": "4fecaf95",
   "metadata": {
    "id": "4fecaf95"
   },
   "source": [
    "## Содержимое проекта\n",
    "\n",
    "<font color='#777778'>Перечислите основные шаги проекта или напишите оглавление. Используйте описание проекта, чтобы зафиксировать основные шаги.</font>\n",
    "\n",
    "1) Загрузить и изучить данные;\n",
    "\n",
    "2) Убрать дубликаты при необходимости;\n",
    "\n",
    "3) Собрать 2 группы данных для Москвы и Санкт-Петербурга и проверить их на ассиметричность и степень распределения;\n",
    "\n",
    "4) Выбрать t-тест и провести его;\n",
    "\n",
    "5) Вывести и интепретировать результаты.\n",
    "---"
   ]
  },
  {
   "cell_type": "markdown",
   "id": "d82b8e39",
   "metadata": {},
   "source": [
    "<div class=\"alert alert-success\">\n",
    "<h2> Комментарий ревьюера <a class=\"tocSkip\"> </h2>\n",
    "\n",
    "<b>Все отлично!👍:</b> Хорошее вступление!\n",
    "    \n",
    "В нём есть всё, что необходимо, чтобы понять суть проекта с первых строк отчёта!"
   ]
  },
  {
   "cell_type": "markdown",
   "id": "6f7d21d6",
   "metadata": {
    "id": "6f7d21d6"
   },
   "source": [
    "## 1. Загрузка данных и знакомство с ними\n",
    "\n",
    "Загрузите данные пользователей из Москвы и Санкт-Петербурга c их активностью (суммой часов чтения и прослушивания) из файла `/datasets/yandex_knigi_data.csv`."
   ]
  },
  {
   "cell_type": "code",
   "execution_count": 1,
   "id": "05faf34b",
   "metadata": {
    "id": "05faf34b"
   },
   "outputs": [],
   "source": [
    "# Пустые ячейки после каждого задания — примерное пространство для работы.\n",
    "# Вы можете свободно добавлять или удалять ячейки по своему усмотрению в зависимости от логики и объёма работы."
   ]
  },
  {
   "cell_type": "code",
   "execution_count": 2,
   "id": "ce87c1db",
   "metadata": {
    "id": "ce87c1db"
   },
   "outputs": [],
   "source": [
    "# Используйте ячейки типа Code для вашего кода"
   ]
  },
  {
   "cell_type": "code",
   "execution_count": 3,
   "id": "f68a7419",
   "metadata": {
    "id": "f68a7419"
   },
   "outputs": [],
   "source": [
    "#Импортируем все необходимые библиотеки для дальнейшей работы:\n",
    "\n",
    "import pandas as pd\n",
    "\n",
    "import matplotlib.pyplot as plt\n",
    "\n",
    "from scipy import stats as st\n",
    "\n",
    "import numpy as np\n",
    "\n",
    "from statsmodels.stats.proportion import proportions_ztest"
   ]
  },
  {
   "cell_type": "code",
   "execution_count": 4,
   "id": "c8c66f7e",
   "metadata": {},
   "outputs": [
    {
     "name": "stdout",
     "output_type": "stream",
     "text": [
      "<class 'pandas.core.frame.DataFrame'>\n",
      "RangeIndex: 8784 entries, 0 to 8783\n",
      "Data columns (total 4 columns):\n",
      " #   Column      Non-Null Count  Dtype  \n",
      "---  ------      --------------  -----  \n",
      " 0   Unnamed: 0  8784 non-null   int64  \n",
      " 1   city        8784 non-null   object \n",
      " 2   puid        8784 non-null   int64  \n",
      " 3   hours       8784 non-null   float64\n",
      "dtypes: float64(1), int64(2), object(1)\n",
      "memory usage: 274.6+ KB\n"
     ]
    },
    {
     "data": {
      "text/html": [
       "<div>\n",
       "<style scoped>\n",
       "    .dataframe tbody tr th:only-of-type {\n",
       "        vertical-align: middle;\n",
       "    }\n",
       "\n",
       "    .dataframe tbody tr th {\n",
       "        vertical-align: top;\n",
       "    }\n",
       "\n",
       "    .dataframe thead th {\n",
       "        text-align: right;\n",
       "    }\n",
       "</style>\n",
       "<table border=\"1\" class=\"dataframe\">\n",
       "  <thead>\n",
       "    <tr style=\"text-align: right;\">\n",
       "      <th></th>\n",
       "      <th>Unnamed: 0</th>\n",
       "      <th>city</th>\n",
       "      <th>puid</th>\n",
       "      <th>hours</th>\n",
       "    </tr>\n",
       "  </thead>\n",
       "  <tbody>\n",
       "    <tr>\n",
       "      <th>0</th>\n",
       "      <td>0</td>\n",
       "      <td>Москва</td>\n",
       "      <td>9668</td>\n",
       "      <td>26.167776</td>\n",
       "    </tr>\n",
       "    <tr>\n",
       "      <th>1</th>\n",
       "      <td>1</td>\n",
       "      <td>Москва</td>\n",
       "      <td>16598</td>\n",
       "      <td>82.111217</td>\n",
       "    </tr>\n",
       "    <tr>\n",
       "      <th>2</th>\n",
       "      <td>2</td>\n",
       "      <td>Москва</td>\n",
       "      <td>80401</td>\n",
       "      <td>4.656906</td>\n",
       "    </tr>\n",
       "    <tr>\n",
       "      <th>3</th>\n",
       "      <td>3</td>\n",
       "      <td>Москва</td>\n",
       "      <td>140205</td>\n",
       "      <td>1.840556</td>\n",
       "    </tr>\n",
       "    <tr>\n",
       "      <th>4</th>\n",
       "      <td>4</td>\n",
       "      <td>Москва</td>\n",
       "      <td>248755</td>\n",
       "      <td>151.326434</td>\n",
       "    </tr>\n",
       "  </tbody>\n",
       "</table>\n",
       "</div>"
      ],
      "text/plain": [
       "   Unnamed: 0    city    puid       hours\n",
       "0           0  Москва    9668   26.167776\n",
       "1           1  Москва   16598   82.111217\n",
       "2           2  Москва   80401    4.656906\n",
       "3           3  Москва  140205    1.840556\n",
       "4           4  Москва  248755  151.326434"
      ]
     },
     "execution_count": 4,
     "metadata": {},
     "output_type": "execute_result"
    }
   ],
   "source": [
    "#Выведим данные о датафрейме:\n",
    "\n",
    "df = pd.read_csv('https://code.s3.yandex.net/datasets/yandex_knigi_data.csv') \n",
    "\n",
    "df.info()\n",
    "df.head()"
   ]
  },
  {
   "cell_type": "code",
   "execution_count": 5,
   "id": "9c5fb143",
   "metadata": {},
   "outputs": [],
   "source": [
    "import os\n",
    "\n",
    "pth1 = '/datasets/yandex_knigi_data.csv'\n",
    "\n",
    "if os.path.exists(pth1):\n",
    "    query_1 = pd.read_csv(pth1)\n",
    "else:\n",
    "    print('Something is wrong')"
   ]
  },
  {
   "cell_type": "markdown",
   "id": "1e65ec1f",
   "metadata": {},
   "source": [
    "<div class=\"alert alert-success\">\n",
    "<h2> Комментарий ревьюера <a class=\"tocSkip\"> </h2>\n",
    "\n",
    "<b>Все отлично!👍</b> \n",
    "    \n",
    "Данные загрузили.\n",
    "    \n",
    "При считывании данных из файла здорово перестраховывать себя от ошибок, связанных, например, с неверным указанием пути к файлу. А иногда бывает, что работаешь с файлом локально, выгружаешь его на сервер, ожидая, что он будет принимать данные, которые лежат на том же сервере, а код падает с ошибкой, потому что путь к файлу не поменялся с локального на серверный.\n",
    "    \n",
    "Для этого, например, можно использовать конструкцию `try-except`: сначала пробуешь локальный путь, при возникновении ошибки используется серверный путь (подробнее можешь почитать тут: https://pythonworld.ru/tipy-dannyx-v-python/isklyucheniya-v-python-konstrukciya-try-except-dlya-obrabotki-isklyuchenij.html).\n",
    "    \n",
    "Но еще лучше использовать библиотеку `os` - её использование позволит тебе проверять существование указанных директорий (что может быть актуально при одновременной работа на локальном и сетевом окружении) и загружать данные из существующей директории, избегая ошибок. Как пример:\n",
    "    \n",
    "    import os\n",
    "\n",
    "    pth1 = '/folder_1/data.csv'\n",
    "    pth2 = '/folder_2/data.csv'\n",
    "    \n",
    "    if os.path.exists(pth1):\n",
    "        query_1 = pd.read_csv(pth1)\n",
    "    elif os.path.exists(pth2):\n",
    "        query_1 = pd.read_csv(pth2)\n",
    "    else:\n",
    "        print('Something is wrong')\n",
    "\n",
    "Ещё на этапе считывания данных можно спарсить дату: за это действие отвечает параметр `parse_dates` метода `read_csv()`, в него нужно передать список с названием полей-дат, и в большинстве случаев дата будет корректно преобразована в нужный формат сразу:)\n",
    "Также на этапе считывания данных можно задать индекс-столбец - за это действие отвечает параметр `index_col`."
   ]
  },
  {
   "cell_type": "markdown",
   "id": "545f2aa9",
   "metadata": {},
   "source": [
    "<div class=\"alert alert-info\"> <b>Комментарии студента:</b> Благодарю за совет! Добавил библиотеку os.</div>"
   ]
  },
  {
   "cell_type": "markdown",
   "id": "1ef840d3",
   "metadata": {},
   "source": [
    "<div class=\"alert alert-block alert-success\">✔️\n",
    "    \n",
    "\n",
    "__Комментарий от ревьюера №2__\n",
    "\n",
    "Рад поделиться )\n",
    "    "
   ]
  },
  {
   "cell_type": "markdown",
   "id": "163ef89e",
   "metadata": {},
   "source": []
  },
  {
   "cell_type": "code",
   "execution_count": 6,
   "id": "d860154b",
   "metadata": {},
   "outputs": [
    {
     "data": {
      "text/plain": [
       "8540"
      ]
     },
     "execution_count": 6,
     "metadata": {},
     "output_type": "execute_result"
    }
   ],
   "source": [
    "#Узнаем количество уникальных значений puid, чтобы понять, есть ли дубликаты:\n",
    "\n",
    "df['puid'].nunique()"
   ]
  },
  {
   "cell_type": "markdown",
   "id": "8fe10f85",
   "metadata": {},
   "source": [
    "Всего в датафрейме 8784 столбца, а уникальных значений puid 8540. Ззначит в датафрейме есть дубликаты."
   ]
  },
  {
   "cell_type": "code",
   "execution_count": 7,
   "id": "1942915c",
   "metadata": {},
   "outputs": [],
   "source": [
    "#Удалим дубликаты из столбца puid:\n",
    "\n",
    "df = df.drop_duplicates(subset='puid')"
   ]
  },
  {
   "cell_type": "code",
   "execution_count": 8,
   "id": "5e661d65",
   "metadata": {},
   "outputs": [
    {
     "name": "stdout",
     "output_type": "stream",
     "text": [
      "<class 'pandas.core.frame.DataFrame'>\n",
      "Int64Index: 8540 entries, 0 to 8783\n",
      "Data columns (total 4 columns):\n",
      " #   Column      Non-Null Count  Dtype  \n",
      "---  ------      --------------  -----  \n",
      " 0   Unnamed: 0  8540 non-null   int64  \n",
      " 1   city        8540 non-null   object \n",
      " 2   puid        8540 non-null   int64  \n",
      " 3   hours       8540 non-null   float64\n",
      "dtypes: float64(1), int64(2), object(1)\n",
      "memory usage: 333.6+ KB\n"
     ]
    }
   ],
   "source": [
    "df.info()"
   ]
  },
  {
   "cell_type": "markdown",
   "id": "31b67f42",
   "metadata": {},
   "source": [
    "<div class=\"alert alert-block alert-success\">✔️\n",
    "    \n",
    "\n",
    "__Комментарий от ревьюера №1__\n",
    "\n",
    "Проверка на явные дубликаты - основа предобработки данных"
   ]
  },
  {
   "cell_type": "markdown",
   "id": "956e82e2",
   "metadata": {
    "id": "956e82e2"
   },
   "source": [
    "## 2. Проверка гипотезы в Python\n",
    "\n",
    "Гипотеза звучит так: пользователи из Санкт-Петербурга проводят в среднем больше времени за чтением и прослушиванием книг в приложении, чем пользователи из Москвы. Попробуйте статистически это доказать, используя одностороннюю проверку гипотезы с двумя выборками:\n",
    "\n",
    "- Нулевая гипотеза H₀: Средняя активность пользователей в часах в двух группах (Москва и Санкт-Петербург) не различается.\n",
    "\n",
    "- Альтернативная гипотеза H₁: Средняя активность пользователей в Санкт-Петербурге больше, и это различие статистически значимо."
   ]
  },
  {
   "cell_type": "markdown",
   "id": "f7b436ee",
   "metadata": {},
   "source": [
    "<div class=\"alert alert-block alert-success\">✔️\n",
    "    \n",
    "\n",
    "__Комментарий от ревьюера №1__\n",
    "\n",
    "Гипотеза корректна"
   ]
  },
  {
   "cell_type": "code",
   "execution_count": 9,
   "id": "67956690",
   "metadata": {
    "id": "67956690"
   },
   "outputs": [],
   "source": [
    "#Оставим только датафрейм с данными для Санкт-Петербурга и выведим информацию о нем:\n",
    "\n",
    "spb = df[df['city']=='Санкт-Петербург']"
   ]
  },
  {
   "cell_type": "code",
   "execution_count": 10,
   "id": "d5cff72d",
   "metadata": {},
   "outputs": [
    {
     "name": "stdout",
     "output_type": "stream",
     "text": [
      "<class 'pandas.core.frame.DataFrame'>\n",
      "Int64Index: 2306 entries, 6234 to 8783\n",
      "Data columns (total 4 columns):\n",
      " #   Column      Non-Null Count  Dtype  \n",
      "---  ------      --------------  -----  \n",
      " 0   Unnamed: 0  2306 non-null   int64  \n",
      " 1   city        2306 non-null   object \n",
      " 2   puid        2306 non-null   int64  \n",
      " 3   hours       2306 non-null   float64\n",
      "dtypes: float64(1), int64(2), object(1)\n",
      "memory usage: 90.1+ KB\n"
     ]
    },
    {
     "data": {
      "text/html": [
       "<div>\n",
       "<style scoped>\n",
       "    .dataframe tbody tr th:only-of-type {\n",
       "        vertical-align: middle;\n",
       "    }\n",
       "\n",
       "    .dataframe tbody tr th {\n",
       "        vertical-align: top;\n",
       "    }\n",
       "\n",
       "    .dataframe thead th {\n",
       "        text-align: right;\n",
       "    }\n",
       "</style>\n",
       "<table border=\"1\" class=\"dataframe\">\n",
       "  <thead>\n",
       "    <tr style=\"text-align: right;\">\n",
       "      <th></th>\n",
       "      <th>Unnamed: 0</th>\n",
       "      <th>city</th>\n",
       "      <th>puid</th>\n",
       "      <th>hours</th>\n",
       "    </tr>\n",
       "  </thead>\n",
       "  <tbody>\n",
       "    <tr>\n",
       "      <th>6234</th>\n",
       "      <td>6234</td>\n",
       "      <td>Санкт-Петербург</td>\n",
       "      <td>104923</td>\n",
       "      <td>60.353889</td>\n",
       "    </tr>\n",
       "    <tr>\n",
       "      <th>6235</th>\n",
       "      <td>6235</td>\n",
       "      <td>Санкт-Петербург</td>\n",
       "      <td>146427</td>\n",
       "      <td>0.469559</td>\n",
       "    </tr>\n",
       "    <tr>\n",
       "      <th>6236</th>\n",
       "      <td>6236</td>\n",
       "      <td>Санкт-Петербург</td>\n",
       "      <td>295646</td>\n",
       "      <td>1.258954</td>\n",
       "    </tr>\n",
       "    <tr>\n",
       "      <th>6237</th>\n",
       "      <td>6237</td>\n",
       "      <td>Санкт-Петербург</td>\n",
       "      <td>601665</td>\n",
       "      <td>0.089076</td>\n",
       "    </tr>\n",
       "    <tr>\n",
       "      <th>6238</th>\n",
       "      <td>6238</td>\n",
       "      <td>Санкт-Петербург</td>\n",
       "      <td>639360</td>\n",
       "      <td>0.334019</td>\n",
       "    </tr>\n",
       "  </tbody>\n",
       "</table>\n",
       "</div>"
      ],
      "text/plain": [
       "      Unnamed: 0             city    puid      hours\n",
       "6234        6234  Санкт-Петербург  104923  60.353889\n",
       "6235        6235  Санкт-Петербург  146427   0.469559\n",
       "6236        6236  Санкт-Петербург  295646   1.258954\n",
       "6237        6237  Санкт-Петербург  601665   0.089076\n",
       "6238        6238  Санкт-Петербург  639360   0.334019"
      ]
     },
     "execution_count": 10,
     "metadata": {},
     "output_type": "execute_result"
    }
   ],
   "source": [
    "spb.info()\n",
    "spb.head()"
   ]
  },
  {
   "cell_type": "code",
   "execution_count": 11,
   "id": "c95a5c4d",
   "metadata": {},
   "outputs": [],
   "source": [
    "#Оставим только датафрейм с данными для Москве и выведим информацию о нем:\n",
    "\n",
    "msc = df[df['city']=='Москва']"
   ]
  },
  {
   "cell_type": "code",
   "execution_count": 12,
   "id": "c5979b7d",
   "metadata": {},
   "outputs": [
    {
     "name": "stdout",
     "output_type": "stream",
     "text": [
      "<class 'pandas.core.frame.DataFrame'>\n",
      "Int64Index: 6234 entries, 0 to 6233\n",
      "Data columns (total 4 columns):\n",
      " #   Column      Non-Null Count  Dtype  \n",
      "---  ------      --------------  -----  \n",
      " 0   Unnamed: 0  6234 non-null   int64  \n",
      " 1   city        6234 non-null   object \n",
      " 2   puid        6234 non-null   int64  \n",
      " 3   hours       6234 non-null   float64\n",
      "dtypes: float64(1), int64(2), object(1)\n",
      "memory usage: 243.5+ KB\n"
     ]
    },
    {
     "data": {
      "text/html": [
       "<div>\n",
       "<style scoped>\n",
       "    .dataframe tbody tr th:only-of-type {\n",
       "        vertical-align: middle;\n",
       "    }\n",
       "\n",
       "    .dataframe tbody tr th {\n",
       "        vertical-align: top;\n",
       "    }\n",
       "\n",
       "    .dataframe thead th {\n",
       "        text-align: right;\n",
       "    }\n",
       "</style>\n",
       "<table border=\"1\" class=\"dataframe\">\n",
       "  <thead>\n",
       "    <tr style=\"text-align: right;\">\n",
       "      <th></th>\n",
       "      <th>Unnamed: 0</th>\n",
       "      <th>city</th>\n",
       "      <th>puid</th>\n",
       "      <th>hours</th>\n",
       "    </tr>\n",
       "  </thead>\n",
       "  <tbody>\n",
       "    <tr>\n",
       "      <th>0</th>\n",
       "      <td>0</td>\n",
       "      <td>Москва</td>\n",
       "      <td>9668</td>\n",
       "      <td>26.167776</td>\n",
       "    </tr>\n",
       "    <tr>\n",
       "      <th>1</th>\n",
       "      <td>1</td>\n",
       "      <td>Москва</td>\n",
       "      <td>16598</td>\n",
       "      <td>82.111217</td>\n",
       "    </tr>\n",
       "    <tr>\n",
       "      <th>2</th>\n",
       "      <td>2</td>\n",
       "      <td>Москва</td>\n",
       "      <td>80401</td>\n",
       "      <td>4.656906</td>\n",
       "    </tr>\n",
       "    <tr>\n",
       "      <th>3</th>\n",
       "      <td>3</td>\n",
       "      <td>Москва</td>\n",
       "      <td>140205</td>\n",
       "      <td>1.840556</td>\n",
       "    </tr>\n",
       "    <tr>\n",
       "      <th>4</th>\n",
       "      <td>4</td>\n",
       "      <td>Москва</td>\n",
       "      <td>248755</td>\n",
       "      <td>151.326434</td>\n",
       "    </tr>\n",
       "  </tbody>\n",
       "</table>\n",
       "</div>"
      ],
      "text/plain": [
       "   Unnamed: 0    city    puid       hours\n",
       "0           0  Москва    9668   26.167776\n",
       "1           1  Москва   16598   82.111217\n",
       "2           2  Москва   80401    4.656906\n",
       "3           3  Москва  140205    1.840556\n",
       "4           4  Москва  248755  151.326434"
      ]
     },
     "execution_count": 12,
     "metadata": {},
     "output_type": "execute_result"
    }
   ],
   "source": [
    "msc.info()\n",
    "msc.head()"
   ]
  },
  {
   "cell_type": "markdown",
   "id": "ad452777",
   "metadata": {},
   "source": [
    "Видно, что данные ассиметричны. Из Москвы данных примерно в 3 раза больше чем из Санкт-Петербурга. Изучим распределение данных по количеству часов методами describe и построением гистограммы."
   ]
  },
  {
   "cell_type": "code",
   "execution_count": 13,
   "id": "775f29bf",
   "metadata": {},
   "outputs": [
    {
     "data": {
      "text/html": [
       "<div>\n",
       "<style scoped>\n",
       "    .dataframe tbody tr th:only-of-type {\n",
       "        vertical-align: middle;\n",
       "    }\n",
       "\n",
       "    .dataframe tbody tr th {\n",
       "        vertical-align: top;\n",
       "    }\n",
       "\n",
       "    .dataframe thead th {\n",
       "        text-align: right;\n",
       "    }\n",
       "</style>\n",
       "<table border=\"1\" class=\"dataframe\">\n",
       "  <thead>\n",
       "    <tr style=\"text-align: right;\">\n",
       "      <th></th>\n",
       "      <th>Unnamed: 0</th>\n",
       "      <th>puid</th>\n",
       "      <th>hours</th>\n",
       "    </tr>\n",
       "  </thead>\n",
       "  <tbody>\n",
       "    <tr>\n",
       "      <th>count</th>\n",
       "      <td>2306.000000</td>\n",
       "      <td>2.306000e+03</td>\n",
       "      <td>2306.000000</td>\n",
       "    </tr>\n",
       "    <tr>\n",
       "      <th>mean</th>\n",
       "      <td>7521.632697</td>\n",
       "      <td>5.391234e+12</td>\n",
       "      <td>11.264433</td>\n",
       "    </tr>\n",
       "    <tr>\n",
       "      <th>std</th>\n",
       "      <td>738.327494</td>\n",
       "      <td>7.787547e+13</td>\n",
       "      <td>39.831755</td>\n",
       "    </tr>\n",
       "    <tr>\n",
       "      <th>min</th>\n",
       "      <td>6234.000000</td>\n",
       "      <td>1.049230e+05</td>\n",
       "      <td>0.000025</td>\n",
       "    </tr>\n",
       "    <tr>\n",
       "      <th>25%</th>\n",
       "      <td>6879.750000</td>\n",
       "      <td>3.594025e+08</td>\n",
       "      <td>0.060173</td>\n",
       "    </tr>\n",
       "    <tr>\n",
       "      <th>50%</th>\n",
       "      <td>7532.500000</td>\n",
       "      <td>9.265005e+08</td>\n",
       "      <td>0.875355</td>\n",
       "    </tr>\n",
       "    <tr>\n",
       "      <th>75%</th>\n",
       "      <td>8162.750000</td>\n",
       "      <td>1.542720e+09</td>\n",
       "      <td>6.138424</td>\n",
       "    </tr>\n",
       "    <tr>\n",
       "      <th>max</th>\n",
       "      <td>8783.000000</td>\n",
       "      <td>1.130000e+15</td>\n",
       "      <td>978.764775</td>\n",
       "    </tr>\n",
       "  </tbody>\n",
       "</table>\n",
       "</div>"
      ],
      "text/plain": [
       "        Unnamed: 0          puid        hours\n",
       "count  2306.000000  2.306000e+03  2306.000000\n",
       "mean   7521.632697  5.391234e+12    11.264433\n",
       "std     738.327494  7.787547e+13    39.831755\n",
       "min    6234.000000  1.049230e+05     0.000025\n",
       "25%    6879.750000  3.594025e+08     0.060173\n",
       "50%    7532.500000  9.265005e+08     0.875355\n",
       "75%    8162.750000  1.542720e+09     6.138424\n",
       "max    8783.000000  1.130000e+15   978.764775"
      ]
     },
     "execution_count": 13,
     "metadata": {},
     "output_type": "execute_result"
    }
   ],
   "source": [
    "spb.describe()"
   ]
  },
  {
   "cell_type": "code",
   "execution_count": 14,
   "id": "d95c76a3",
   "metadata": {},
   "outputs": [
    {
     "data": {
      "text/html": [
       "<div>\n",
       "<style scoped>\n",
       "    .dataframe tbody tr th:only-of-type {\n",
       "        vertical-align: middle;\n",
       "    }\n",
       "\n",
       "    .dataframe tbody tr th {\n",
       "        vertical-align: top;\n",
       "    }\n",
       "\n",
       "    .dataframe thead th {\n",
       "        text-align: right;\n",
       "    }\n",
       "</style>\n",
       "<table border=\"1\" class=\"dataframe\">\n",
       "  <thead>\n",
       "    <tr style=\"text-align: right;\">\n",
       "      <th></th>\n",
       "      <th>Unnamed: 0</th>\n",
       "      <th>puid</th>\n",
       "      <th>hours</th>\n",
       "    </tr>\n",
       "  </thead>\n",
       "  <tbody>\n",
       "    <tr>\n",
       "      <th>count</th>\n",
       "      <td>6234.000000</td>\n",
       "      <td>6.234000e+03</td>\n",
       "      <td>6234.000000</td>\n",
       "    </tr>\n",
       "    <tr>\n",
       "      <th>mean</th>\n",
       "      <td>3116.500000</td>\n",
       "      <td>1.123926e+13</td>\n",
       "      <td>10.881092</td>\n",
       "    </tr>\n",
       "    <tr>\n",
       "      <th>std</th>\n",
       "      <td>1799.745121</td>\n",
       "      <td>1.121386e+14</td>\n",
       "      <td>36.851683</td>\n",
       "    </tr>\n",
       "    <tr>\n",
       "      <th>min</th>\n",
       "      <td>0.000000</td>\n",
       "      <td>9.668000e+03</td>\n",
       "      <td>0.000018</td>\n",
       "    </tr>\n",
       "    <tr>\n",
       "      <th>25%</th>\n",
       "      <td>1558.250000</td>\n",
       "      <td>3.139885e+08</td>\n",
       "      <td>0.059903</td>\n",
       "    </tr>\n",
       "    <tr>\n",
       "      <th>50%</th>\n",
       "      <td>3116.500000</td>\n",
       "      <td>8.730945e+08</td>\n",
       "      <td>0.924498</td>\n",
       "    </tr>\n",
       "    <tr>\n",
       "      <th>75%</th>\n",
       "      <td>4674.750000</td>\n",
       "      <td>1.510930e+09</td>\n",
       "      <td>5.939972</td>\n",
       "    </tr>\n",
       "    <tr>\n",
       "      <th>max</th>\n",
       "      <td>6233.000000</td>\n",
       "      <td>1.130000e+15</td>\n",
       "      <td>857.209373</td>\n",
       "    </tr>\n",
       "  </tbody>\n",
       "</table>\n",
       "</div>"
      ],
      "text/plain": [
       "        Unnamed: 0          puid        hours\n",
       "count  6234.000000  6.234000e+03  6234.000000\n",
       "mean   3116.500000  1.123926e+13    10.881092\n",
       "std    1799.745121  1.121386e+14    36.851683\n",
       "min       0.000000  9.668000e+03     0.000018\n",
       "25%    1558.250000  3.139885e+08     0.059903\n",
       "50%    3116.500000  8.730945e+08     0.924498\n",
       "75%    4674.750000  1.510930e+09     5.939972\n",
       "max    6233.000000  1.130000e+15   857.209373"
      ]
     },
     "execution_count": 14,
     "metadata": {},
     "output_type": "execute_result"
    }
   ],
   "source": [
    "msc.describe()"
   ]
  },
  {
   "cell_type": "code",
   "execution_count": 15,
   "id": "4c73ec03",
   "metadata": {},
   "outputs": [
    {
     "data": {
      "text/plain": [
       "Text(0, 0.5, 'Количество пользователей')"
      ]
     },
     "execution_count": 15,
     "metadata": {},
     "output_type": "execute_result"
    },
    {
     "data": {
      "image/png": "[encoded data removed]",
      "text/plain": [
       "<Figure size 432x288 with 1 Axes>"
      ]
     },
     "metadata": {
      "needs_background": "light"
     },
     "output_type": "display_data"
    }
   ],
   "source": [
    "spb.hist('hours')\n",
    "\n",
    "plt.title('Распределение по количеству часов прослушивания среди пользователей в Санкт-Петербурге')\n",
    "plt.xlabel('Количество часов прослушивания')\n",
    "plt.ylabel('Количество пользователей')"
   ]
  },
  {
   "cell_type": "code",
   "execution_count": 16,
   "id": "b5c91865",
   "metadata": {},
   "outputs": [
    {
     "data": {
      "text/plain": [
       "Text(0, 0.5, 'Количество пользователей')"
      ]
     },
     "execution_count": 16,
     "metadata": {},
     "output_type": "execute_result"
    },
    {
     "data": {
      "image/png": "[encoded data removed]",
      "text/plain": [
       "<Figure size 432x288 with 1 Axes>"
      ]
     },
     "metadata": {
      "needs_background": "light"
     },
     "output_type": "display_data"
    }
   ],
   "source": [
    "msc.hist('hours')\n",
    "\n",
    "plt.title('Распределение по количеству часов прослушивания среди пользователей в Москве')\n",
    "plt.xlabel('Количество часов прослушивания')\n",
    "plt.ylabel('Количество пользователей')"
   ]
  },
  {
   "cell_type": "code",
   "execution_count": 17,
   "id": "78a3503f",
   "metadata": {},
   "outputs": [
    {
     "data": {
      "image/png": "[encoded data removed]",
      "text/plain": [
       "<Figure size 864x432 with 1 Axes>"
      ]
     },
     "metadata": {
      "needs_background": "light"
     },
     "output_type": "display_data"
    }
   ],
   "source": [
    "#Строим общий график распределения для наглядности\n",
    "\n",
    "plt.figure(figsize=(12, 6))\n",
    "\n",
    "plt.hist(spb['hours'], alpha=0.5, label='Санкт-Петербург')  # alpha для прозрачности\n",
    "plt.hist(msc['hours'], alpha=0.5, label='Москва')\n",
    "\n",
    "plt.title('Распределение по количеству часов прослушивания')\n",
    "plt.xlabel('Количество часов прослушивания')\n",
    "plt.ylabel('Количество пользователей')\n",
    "plt.legend()  # Показываем легенду\n",
    "plt.show()"
   ]
  },
  {
   "cell_type": "code",
   "execution_count": 18,
   "id": "363fe5b2",
   "metadata": {},
   "outputs": [],
   "source": [
    "spb_hours = spb.hours"
   ]
  },
  {
   "cell_type": "code",
   "execution_count": 19,
   "id": "ae7a06d1",
   "metadata": {},
   "outputs": [],
   "source": [
    "msc_hours = msc.hours"
   ]
  },
  {
   "cell_type": "markdown",
   "id": "2d433d3a",
   "metadata": {},
   "source": [
    "Данные у нас ассиметричны. Из Москвы данных примерно в 3 раза больше чем из Санкт-Петербурга. Однако, поскольку распределение часов активности для двух групп данных примерно идентично, то можно использовать тест Стьюдента."
   ]
  },
  {
   "cell_type": "markdown",
   "id": "84d2195a",
   "metadata": {},
   "source": [
    "<div class=\"alert alert-block alert-success\">✔️\n",
    "    \n",
    "\n",
    "__Комментарий от ревьюера №1__\n",
    "\n",
    "Обосновано"
   ]
  },
  {
   "cell_type": "code",
   "execution_count": 20,
   "id": "48bc1393",
   "metadata": {},
   "outputs": [],
   "source": [
    "ttest_result = st.ttest_ind(spb_hours, msc_hours, alternative = 'greater')"
   ]
  },
  {
   "cell_type": "code",
   "execution_count": 21,
   "id": "b89ebf3b",
   "metadata": {},
   "outputs": [],
   "source": [
    "alpha = 0.05"
   ]
  },
  {
   "cell_type": "code",
   "execution_count": 22,
   "id": "b2dfd0f3",
   "metadata": {},
   "outputs": [
    {
     "name": "stdout",
     "output_type": "stream",
     "text": [
      "0.338193679651558\n",
      "Не получилось отвергнуть нулевую гипотезу. Среднее время активности пользователей в Санкт-Петербурге не больше, чем в Москве.\n"
     ]
    }
   ],
   "source": [
    "print(ttest_result.pvalue)\n",
    "\n",
    "if ttest_result.pvalue < alpha:\n",
    "    print('Отвергаем нулевую гипотезу. Среднее время активности пользователей в Санкт-Петербурге больше, и это различие статистически значимо.')\n",
    "else:\n",
    "    print('Не получилось отвергнуть нулевую гипотезу. Среднее время активности пользователей в Санкт-Петербурге не больше, чем в Москве.')"
   ]
  },
  {
   "cell_type": "markdown",
   "id": "6953e84c",
   "metadata": {
    "id": "6953e84c"
   },
   "source": [
    "## 3. Аналитическая записка\n",
    "По результатам анализа данных подготовьте аналитическую записку, в которой опишете:\n",
    "\n",
    "- Выбранный тип t-теста и уровень статистической значимости.\n",
    "\n",
    "- Результат теста, или p-value.\n",
    "\n",
    "- Вывод на основе полученного p-value, то есть интерпретацию результатов.\n",
    "\n",
    "- Одну или две возможные причины, объясняющие полученные результаты.\n",
    "\n"
   ]
  },
  {
   "cell_type": "markdown",
   "id": "909a4df6",
   "metadata": {},
   "source": [
    "Поскольку распределение часов активности для двух групп данных примерно идентично, несмотря на ассиметричность данных, то был использован тест Стьюдента. Уровень статистической значимости был выбран равный 0,05.\n",
    "\n",
    "p-value получился равный 0,34.\n",
    "\n",
    "p-value меньше уровня статистической значимости, значит не получилось отвергнуть нулевую гипотезу, и среднее время активности пользователей в Санкт-Петербурге не больше, чем в Москве.\n",
    "\n",
    "Возможно, результаты получились таковыми из-за ассиметричности данных либо потому что в Санкт-Петербурге люди консервативнее и предпочитают бумажные книги."
   ]
  },
  {
   "cell_type": "markdown",
   "id": "12864a7f",
   "metadata": {},
   "source": [
    "<div class=\"alert alert-block alert-success\">✔️\n",
    "    \n",
    "\n",
    "__Комментарий от ревьюера №1__\n",
    "\n",
    "Верная интерпретация полученных данных. Молодец"
   ]
  },
  {
   "cell_type": "markdown",
   "id": "hc1d6jVISegz",
   "metadata": {
    "id": "hc1d6jVISegz"
   },
   "source": [
    "----"
   ]
  },
  {
   "cell_type": "markdown",
   "id": "NqOUIYhbrIfC",
   "metadata": {
    "id": "NqOUIYhbrIfC"
   },
   "source": [
    "# Часть 2. Анализ результатов A/B-тестирования"
   ]
  },
  {
   "cell_type": "markdown",
   "id": "tDwMKFNGsClr",
   "metadata": {
    "id": "tDwMKFNGsClr"
   },
   "source": [
    "Теперь вам нужно проанализировать другие данные. Представьте, что к вам обратились представители интернет-магазина BitMotion Kit, в котором продаются геймифицированные товары для тех, кто ведёт здоровый образ жизни. У него есть своя целевая аудитория, даже появились хиты продаж: эспандер со счётчиком и напоминанием, так и подстольный велотренажёр с Bluetooth.\n",
    "\n",
    "В будущем компания хочет расширить ассортимент товаров. Но перед этим нужно решить одну проблему. Интерфейс онлайн-магазина слишком сложен для пользователей — об этом говорят отзывы.\n",
    "\n",
    "Чтобы привлечь новых клиентов и увеличить число продаж, владельцы магазина разработали новую версию сайта и протестировали его на части пользователей. По задумке, это решение доказуемо повысит количество пользователей, которые совершат покупку.\n",
    "\n",
    "Ваша задача — провести оценку результатов A/B-теста. В вашем распоряжении:\n",
    "\n",
    "* данные о действиях пользователей и распределении их на группы,\n",
    "\n",
    "* техническое задание.\n",
    "\n",
    "Оцените корректность проведения теста и проанализируйте его результаты."
   ]
  },
  {
   "cell_type": "markdown",
   "id": "UNXAAyF5r9Rk",
   "metadata": {
    "id": "UNXAAyF5r9Rk"
   },
   "source": [
    "## 1. Опишите цели исследования.\n",
    "\n"
   ]
  },
  {
   "cell_type": "markdown",
   "id": "kHx-51yES8bd",
   "metadata": {
    "id": "kHx-51yES8bd"
   },
   "source": [
    "Цель исследования: провести оценку результатов A/B-теста, повысит ли новая версия сайта количество пользователей, которые совершат покупку.\n",
    "\n",
    "Нулевая гипотеза: количество пользователей, которые совершат покупку, не увеличится связи с внедрением новой версии сайта.\n",
    "\n",
    "Альтернативная гипотеза: количество пользователей, которые совершат покупку, увеличится связи с внедрением новой версии сайта, и это различие будет статистически значимо."
   ]
  },
  {
   "cell_type": "markdown",
   "id": "_CZryx2OsH-s",
   "metadata": {
    "id": "_CZryx2OsH-s"
   },
   "source": [
    "## 2. Загрузите данные, оцените их целостность.\n"
   ]
  },
  {
   "cell_type": "code",
   "execution_count": 23,
   "id": "DjFcJbeGsTIg",
   "metadata": {
    "id": "DjFcJbeGsTIg"
   },
   "outputs": [],
   "source": [
    "participants = pd.read_csv('https://code.s3.yandex.net/datasets/ab_test_participants.csv')\n",
    "events = pd.read_csv('https://code.s3.yandex.net/datasets/ab_test_events.zip',\n",
    "                     parse_dates=['event_dt'], low_memory=False)"
   ]
  },
  {
   "cell_type": "code",
   "execution_count": 24,
   "id": "e9999bbe",
   "metadata": {},
   "outputs": [],
   "source": [
    "import os\n",
    "\n",
    "pth1 = '/datasets/ab_test_participants.csv'\n",
    "pth2 = '/datasets/ab_test_events.zip'\n",
    "\n",
    "if os.path.exists(pth1):\n",
    "    query_1 = pd.read_csv(pth1)\n",
    "elif os.path.exists(pth2):\n",
    "    query_1 = pd.read_csv(pth2)\n",
    "else:\n",
    "    print('Something is wrong')"
   ]
  },
  {
   "cell_type": "markdown",
   "id": "09d1778e",
   "metadata": {},
   "source": [
    "<div class=\"alert alert-block alert-success\">✔️\n",
    "    \n",
    "\n",
    "__Комментарий от ревьюера №1__\n",
    "\n",
    "\n",
    "<b>Все отлично!👍</b> Молодец, что используешь `low_memory=False` для корректной загрузки файлов."
   ]
  },
  {
   "cell_type": "markdown",
   "id": "48d61523",
   "metadata": {},
   "source": [
    "<div class=\"alert alert-info\"> <b>Комментарии студента:</b> Добавил библиотеку os.</div>"
   ]
  },
  {
   "cell_type": "code",
   "execution_count": 25,
   "id": "adeb4bbd",
   "metadata": {},
   "outputs": [
    {
     "name": "stdout",
     "output_type": "stream",
     "text": [
      "<class 'pandas.core.frame.DataFrame'>\n",
      "RangeIndex: 14525 entries, 0 to 14524\n",
      "Data columns (total 4 columns):\n",
      " #   Column   Non-Null Count  Dtype \n",
      "---  ------   --------------  ----- \n",
      " 0   user_id  14525 non-null  object\n",
      " 1   group    14525 non-null  object\n",
      " 2   ab_test  14525 non-null  object\n",
      " 3   device   14525 non-null  object\n",
      "dtypes: object(4)\n",
      "memory usage: 454.0+ KB\n"
     ]
    },
    {
     "data": {
      "text/html": [
       "<div>\n",
       "<style scoped>\n",
       "    .dataframe tbody tr th:only-of-type {\n",
       "        vertical-align: middle;\n",
       "    }\n",
       "\n",
       "    .dataframe tbody tr th {\n",
       "        vertical-align: top;\n",
       "    }\n",
       "\n",
       "    .dataframe thead th {\n",
       "        text-align: right;\n",
       "    }\n",
       "</style>\n",
       "<table border=\"1\" class=\"dataframe\">\n",
       "  <thead>\n",
       "    <tr style=\"text-align: right;\">\n",
       "      <th></th>\n",
       "      <th>user_id</th>\n",
       "      <th>group</th>\n",
       "      <th>ab_test</th>\n",
       "      <th>device</th>\n",
       "    </tr>\n",
       "  </thead>\n",
       "  <tbody>\n",
       "    <tr>\n",
       "      <th>0</th>\n",
       "      <td>0002CE61FF2C4011</td>\n",
       "      <td>B</td>\n",
       "      <td>interface_eu_test</td>\n",
       "      <td>Mac</td>\n",
       "    </tr>\n",
       "    <tr>\n",
       "      <th>1</th>\n",
       "      <td>001064FEAAB631A1</td>\n",
       "      <td>B</td>\n",
       "      <td>recommender_system_test</td>\n",
       "      <td>Android</td>\n",
       "    </tr>\n",
       "    <tr>\n",
       "      <th>2</th>\n",
       "      <td>001064FEAAB631A1</td>\n",
       "      <td>A</td>\n",
       "      <td>interface_eu_test</td>\n",
       "      <td>Android</td>\n",
       "    </tr>\n",
       "    <tr>\n",
       "      <th>3</th>\n",
       "      <td>0010A1C096941592</td>\n",
       "      <td>A</td>\n",
       "      <td>recommender_system_test</td>\n",
       "      <td>Android</td>\n",
       "    </tr>\n",
       "    <tr>\n",
       "      <th>4</th>\n",
       "      <td>001E72F50D1C48FA</td>\n",
       "      <td>A</td>\n",
       "      <td>interface_eu_test</td>\n",
       "      <td>Mac</td>\n",
       "    </tr>\n",
       "  </tbody>\n",
       "</table>\n",
       "</div>"
      ],
      "text/plain": [
       "            user_id group                  ab_test   device\n",
       "0  0002CE61FF2C4011     B        interface_eu_test      Mac\n",
       "1  001064FEAAB631A1     B  recommender_system_test  Android\n",
       "2  001064FEAAB631A1     A        interface_eu_test  Android\n",
       "3  0010A1C096941592     A  recommender_system_test  Android\n",
       "4  001E72F50D1C48FA     A        interface_eu_test      Mac"
      ]
     },
     "execution_count": 25,
     "metadata": {},
     "output_type": "execute_result"
    }
   ],
   "source": [
    "participants.info()\n",
    "participants.head()"
   ]
  },
  {
   "cell_type": "code",
   "execution_count": 26,
   "id": "98bcb5bf",
   "metadata": {},
   "outputs": [
    {
     "name": "stdout",
     "output_type": "stream",
     "text": [
      "<class 'pandas.core.frame.DataFrame'>\n",
      "RangeIndex: 787286 entries, 0 to 787285\n",
      "Data columns (total 4 columns):\n",
      " #   Column      Non-Null Count   Dtype         \n",
      "---  ------      --------------   -----         \n",
      " 0   user_id     787286 non-null  object        \n",
      " 1   event_dt    787286 non-null  datetime64[ns]\n",
      " 2   event_name  787286 non-null  object        \n",
      " 3   details     249022 non-null  object        \n",
      "dtypes: datetime64[ns](1), object(3)\n",
      "memory usage: 24.0+ MB\n"
     ]
    },
    {
     "data": {
      "text/html": [
       "<div>\n",
       "<style scoped>\n",
       "    .dataframe tbody tr th:only-of-type {\n",
       "        vertical-align: middle;\n",
       "    }\n",
       "\n",
       "    .dataframe tbody tr th {\n",
       "        vertical-align: top;\n",
       "    }\n",
       "\n",
       "    .dataframe thead th {\n",
       "        text-align: right;\n",
       "    }\n",
       "</style>\n",
       "<table border=\"1\" class=\"dataframe\">\n",
       "  <thead>\n",
       "    <tr style=\"text-align: right;\">\n",
       "      <th></th>\n",
       "      <th>user_id</th>\n",
       "      <th>event_dt</th>\n",
       "      <th>event_name</th>\n",
       "      <th>details</th>\n",
       "    </tr>\n",
       "  </thead>\n",
       "  <tbody>\n",
       "    <tr>\n",
       "      <th>0</th>\n",
       "      <td>GLOBAL</td>\n",
       "      <td>2020-12-01 00:00:00</td>\n",
       "      <td>End of Black Friday Ads Campaign</td>\n",
       "      <td>ZONE_CODE15</td>\n",
       "    </tr>\n",
       "    <tr>\n",
       "      <th>1</th>\n",
       "      <td>CCBE9E7E99F94A08</td>\n",
       "      <td>2020-12-01 00:00:11</td>\n",
       "      <td>registration</td>\n",
       "      <td>0.0</td>\n",
       "    </tr>\n",
       "    <tr>\n",
       "      <th>2</th>\n",
       "      <td>GLOBAL</td>\n",
       "      <td>2020-12-01 00:00:25</td>\n",
       "      <td>product_page</td>\n",
       "      <td>NaN</td>\n",
       "    </tr>\n",
       "    <tr>\n",
       "      <th>3</th>\n",
       "      <td>CCBE9E7E99F94A08</td>\n",
       "      <td>2020-12-01 00:00:33</td>\n",
       "      <td>login</td>\n",
       "      <td>NaN</td>\n",
       "    </tr>\n",
       "    <tr>\n",
       "      <th>4</th>\n",
       "      <td>CCBE9E7E99F94A08</td>\n",
       "      <td>2020-12-01 00:00:52</td>\n",
       "      <td>product_page</td>\n",
       "      <td>NaN</td>\n",
       "    </tr>\n",
       "  </tbody>\n",
       "</table>\n",
       "</div>"
      ],
      "text/plain": [
       "            user_id            event_dt                        event_name  \\\n",
       "0            GLOBAL 2020-12-01 00:00:00  End of Black Friday Ads Campaign   \n",
       "1  CCBE9E7E99F94A08 2020-12-01 00:00:11                      registration   \n",
       "2            GLOBAL 2020-12-01 00:00:25                      product_page   \n",
       "3  CCBE9E7E99F94A08 2020-12-01 00:00:33                             login   \n",
       "4  CCBE9E7E99F94A08 2020-12-01 00:00:52                      product_page   \n",
       "\n",
       "       details  \n",
       "0  ZONE_CODE15  \n",
       "1          0.0  \n",
       "2          NaN  \n",
       "3          NaN  \n",
       "4          NaN  "
      ]
     },
     "execution_count": 26,
     "metadata": {},
     "output_type": "execute_result"
    }
   ],
   "source": [
    "events.info()\n",
    "events.head()"
   ]
  },
  {
   "cell_type": "markdown",
   "id": "24342431",
   "metadata": {},
   "source": [
    "Данные корректны. Пропуски есть только в столбце details, но он нам в исследовании особо не понадобится. Далее проверим, есть ли дубликаты в датафрейме по participants"
   ]
  },
  {
   "cell_type": "code",
   "execution_count": 27,
   "id": "c90bb244",
   "metadata": {},
   "outputs": [
    {
     "data": {
      "text/plain": [
       "13638"
      ]
     },
     "execution_count": 27,
     "metadata": {},
     "output_type": "execute_result"
    }
   ],
   "source": [
    "#Проверим данные в датафрейме participants на дубликаты по полю user_id:\n",
    "\n",
    "participants['user_id'].nunique()"
   ]
  },
  {
   "cell_type": "markdown",
   "id": "44b3bb1a",
   "metadata": {},
   "source": [
    "Поскольку уникальных значений 13638, а всего строк 14525, то дубликаты есть. Удалим их."
   ]
  },
  {
   "cell_type": "code",
   "execution_count": 28,
   "id": "09326ba5",
   "metadata": {},
   "outputs": [],
   "source": [
    "participants = participants.drop_duplicates(subset=['user_id'])"
   ]
  },
  {
   "cell_type": "markdown",
   "id": "CnzA-efasUrk",
   "metadata": {
    "id": "CnzA-efasUrk"
   },
   "source": [
    "## 3. По таблице `ab_test_participants` оцените корректность проведения теста:\n",
    "\n",
    "   3\\.1 Выделите пользователей, участвующих в тесте, и проверьте:\n",
    "\n",
    "   - соответствие требованиям технического задания,\n",
    "\n",
    "   - равномерность распределения пользователей по группам теста,\n",
    "\n",
    "   - отсутствие пересечений с конкурирующим тестом (нет пользователей, участвующих одновременно в двух тестовых группах)."
   ]
  },
  {
   "cell_type": "code",
   "execution_count": 29,
   "id": "37496a03",
   "metadata": {},
   "outputs": [
    {
     "data": {
      "text/plain": [
       "7595"
      ]
     },
     "execution_count": 29,
     "metadata": {},
     "output_type": "execute_result"
    }
   ],
   "source": [
    "#Посмотрим количетсво уникальных пользователей в группе А:\n",
    "participants[participants['group']=='A']['user_id'].nunique()"
   ]
  },
  {
   "cell_type": "code",
   "execution_count": 30,
   "id": "e5b92cf4",
   "metadata": {},
   "outputs": [
    {
     "data": {
      "text/plain": [
       "6043"
      ]
     },
     "execution_count": 30,
     "metadata": {},
     "output_type": "execute_result"
    }
   ],
   "source": [
    "#Посмотрим количетсво уникальных пользователей в группе B:\n",
    "participants[participants['group']=='B']['user_id'].nunique()"
   ]
  },
  {
   "cell_type": "code",
   "execution_count": 31,
   "id": "5d6f82b5",
   "metadata": {},
   "outputs": [
    {
     "data": {
      "text/plain": [
       "A    0.5569\n",
       "B    0.4431\n",
       "Name: group, dtype: float64"
      ]
     },
     "execution_count": 31,
     "metadata": {},
     "output_type": "execute_result"
    }
   ],
   "source": [
    "participants['group'].value_counts(normalize=True)"
   ]
  },
  {
   "cell_type": "markdown",
   "id": "dd58c5f6",
   "metadata": {},
   "source": [
    "Расхождения в объемах групп есть, но оно не сильно критично (56 на 44 %). Далее проверим пользователей на пересечение."
   ]
  },
  {
   "cell_type": "code",
   "execution_count": 32,
   "id": "3e80d6a0",
   "metadata": {},
   "outputs": [],
   "source": [
    "A_user_id = participants[participants['group']=='A']['user_id']"
   ]
  },
  {
   "cell_type": "code",
   "execution_count": 33,
   "id": "5dc78a32",
   "metadata": {},
   "outputs": [],
   "source": [
    "B_user_id = participants[participants['group']=='B']['user_id']"
   ]
  },
  {
   "cell_type": "code",
   "execution_count": 34,
   "id": "ea7d79ff",
   "metadata": {},
   "outputs": [],
   "source": [
    "intersection = list(set(A_user_id) & set(B_user_id))"
   ]
  },
  {
   "cell_type": "code",
   "execution_count": 35,
   "id": "a3e8caaf",
   "metadata": {},
   "outputs": [
    {
     "data": {
      "text/plain": [
       "[]"
      ]
     },
     "execution_count": 35,
     "metadata": {},
     "output_type": "execute_result"
    }
   ],
   "source": [
    "intersection"
   ]
  },
  {
   "cell_type": "markdown",
   "id": "a1ba8572",
   "metadata": {},
   "source": [
    "Пользователей, участвующих одновременно в двух тестовых группах, не обнаружено."
   ]
  },
  {
   "cell_type": "markdown",
   "id": "GjulgSrlsqUU",
   "metadata": {
    "id": "GjulgSrlsqUU"
   },
   "source": [
    "3\\.2 Проанализируйте данные о пользовательской активности по таблице `ab_test_events`:\n",
    "\n",
    "- оставьте только события, связанные с участвующими в изучаемом тесте пользователями;"
   ]
  },
  {
   "cell_type": "code",
   "execution_count": 36,
   "id": "QMt0Ybo_swDK",
   "metadata": {
    "id": "QMt0Ybo_swDK"
   },
   "outputs": [
    {
     "data": {
      "text/plain": [
       "array(['interface_eu_test', 'recommender_system_test'], dtype=object)"
      ]
     },
     "execution_count": 36,
     "metadata": {},
     "output_type": "execute_result"
    }
   ],
   "source": [
    "participants['ab_test'].unique()"
   ]
  },
  {
   "cell_type": "code",
   "execution_count": 37,
   "id": "caa9676f",
   "metadata": {},
   "outputs": [],
   "source": [
    "#Найдем пользователей, участвующих только в тесте interface_eu_test:\n",
    "eu_test_users = participants[participants['ab_test'] == 'interface_eu_test']['user_id']"
   ]
  },
  {
   "cell_type": "markdown",
   "id": "a827e33a",
   "metadata": {},
   "source": [
    "<div class=\"alert alert-block alert-success\">✔️\n",
    "    \n",
    "\n",
    "__Комментарий от ревьюера №1__\n",
    "\n",
    "Отлично. Данные срезаны корректно по нужному тесту"
   ]
  },
  {
   "cell_type": "code",
   "execution_count": 38,
   "id": "75f77806",
   "metadata": {},
   "outputs": [],
   "source": [
    "#Отфильтруем датафрейм events, оставив только пользователей, участвующих только в тесте interface_eu_test:\n",
    "events = events[events['user_id'].isin(eu_test_users)]"
   ]
  },
  {
   "cell_type": "code",
   "execution_count": 39,
   "id": "9b22b799",
   "metadata": {},
   "outputs": [
    {
     "name": "stdout",
     "output_type": "stream",
     "text": [
      "<class 'pandas.core.frame.DataFrame'>\n",
      "Int64Index: 76658 entries, 64672 to 780371\n",
      "Data columns (total 4 columns):\n",
      " #   Column      Non-Null Count  Dtype         \n",
      "---  ------      --------------  -----         \n",
      " 0   user_id     76658 non-null  object        \n",
      " 1   event_dt    76658 non-null  datetime64[ns]\n",
      " 2   event_name  76658 non-null  object        \n",
      " 3   details     20217 non-null  object        \n",
      "dtypes: datetime64[ns](1), object(3)\n",
      "memory usage: 2.9+ MB\n"
     ]
    }
   ],
   "source": [
    "events.info()"
   ]
  },
  {
   "cell_type": "markdown",
   "id": "fBZ4DC2xswZJ",
   "metadata": {
    "id": "fBZ4DC2xswZJ"
   },
   "source": [
    "- определите горизонт анализа: рассчитайте время (лайфтайм) совершения события пользователем после регистрации и оставьте только те события, которые были выполнены в течение первых семи дней с момента регистрации;"
   ]
  },
  {
   "cell_type": "code",
   "execution_count": 40,
   "id": "48761739",
   "metadata": {},
   "outputs": [],
   "source": [
    "#Объединим датафреймы по столбцу user_id:\n",
    "df_pe = events.merge(participants, on='user_id', how='inner')"
   ]
  },
  {
   "cell_type": "code",
   "execution_count": 41,
   "id": "97460497",
   "metadata": {},
   "outputs": [],
   "source": [
    "#Выведем в строке lifetime_days разницу между регистрацией и совершением события:\n",
    "df_pe['lifetime_days'] = (df_pe['event_dt'] - df_pe['event_dt'].dt.normalize()).dt.days"
   ]
  },
  {
   "cell_type": "code",
   "execution_count": 42,
   "id": "73b7ccba",
   "metadata": {},
   "outputs": [],
   "source": [
    "#Оставим в датафрейме только те события, которые были выполнены в течение первых семи дней с момента регистрации:\n",
    "df_seven_days = df_pe[df_pe['lifetime_days']<7]"
   ]
  },
  {
   "cell_type": "code",
   "execution_count": 43,
   "id": "4fa3fef5",
   "metadata": {},
   "outputs": [
    {
     "name": "stdout",
     "output_type": "stream",
     "text": [
      "<class 'pandas.core.frame.DataFrame'>\n",
      "Int64Index: 76658 entries, 0 to 76657\n",
      "Data columns (total 8 columns):\n",
      " #   Column         Non-Null Count  Dtype         \n",
      "---  ------         --------------  -----         \n",
      " 0   user_id        76658 non-null  object        \n",
      " 1   event_dt       76658 non-null  datetime64[ns]\n",
      " 2   event_name     76658 non-null  object        \n",
      " 3   details        20217 non-null  object        \n",
      " 4   group          76658 non-null  object        \n",
      " 5   ab_test        76658 non-null  object        \n",
      " 6   device         76658 non-null  object        \n",
      " 7   lifetime_days  76658 non-null  int64         \n",
      "dtypes: datetime64[ns](1), int64(1), object(6)\n",
      "memory usage: 5.3+ MB\n"
     ]
    },
    {
     "data": {
      "text/html": [
       "<div>\n",
       "<style scoped>\n",
       "    .dataframe tbody tr th:only-of-type {\n",
       "        vertical-align: middle;\n",
       "    }\n",
       "\n",
       "    .dataframe tbody tr th {\n",
       "        vertical-align: top;\n",
       "    }\n",
       "\n",
       "    .dataframe thead th {\n",
       "        text-align: right;\n",
       "    }\n",
       "</style>\n",
       "<table border=\"1\" class=\"dataframe\">\n",
       "  <thead>\n",
       "    <tr style=\"text-align: right;\">\n",
       "      <th></th>\n",
       "      <th>user_id</th>\n",
       "      <th>event_dt</th>\n",
       "      <th>event_name</th>\n",
       "      <th>details</th>\n",
       "      <th>group</th>\n",
       "      <th>ab_test</th>\n",
       "      <th>device</th>\n",
       "      <th>lifetime_days</th>\n",
       "    </tr>\n",
       "  </thead>\n",
       "  <tbody>\n",
       "    <tr>\n",
       "      <th>0</th>\n",
       "      <td>5F506CEBEDC05D30</td>\n",
       "      <td>2020-12-06 14:10:01</td>\n",
       "      <td>registration</td>\n",
       "      <td>0.0</td>\n",
       "      <td>A</td>\n",
       "      <td>interface_eu_test</td>\n",
       "      <td>iPhone</td>\n",
       "      <td>0</td>\n",
       "    </tr>\n",
       "    <tr>\n",
       "      <th>1</th>\n",
       "      <td>5F506CEBEDC05D30</td>\n",
       "      <td>2020-12-07 01:25:14</td>\n",
       "      <td>login</td>\n",
       "      <td>NaN</td>\n",
       "      <td>A</td>\n",
       "      <td>interface_eu_test</td>\n",
       "      <td>iPhone</td>\n",
       "      <td>0</td>\n",
       "    </tr>\n",
       "    <tr>\n",
       "      <th>2</th>\n",
       "      <td>5F506CEBEDC05D30</td>\n",
       "      <td>2020-12-07 01:25:47</td>\n",
       "      <td>login</td>\n",
       "      <td>NaN</td>\n",
       "      <td>A</td>\n",
       "      <td>interface_eu_test</td>\n",
       "      <td>iPhone</td>\n",
       "      <td>0</td>\n",
       "    </tr>\n",
       "    <tr>\n",
       "      <th>3</th>\n",
       "      <td>5F506CEBEDC05D30</td>\n",
       "      <td>2020-12-09 12:40:49</td>\n",
       "      <td>login</td>\n",
       "      <td>NaN</td>\n",
       "      <td>A</td>\n",
       "      <td>interface_eu_test</td>\n",
       "      <td>iPhone</td>\n",
       "      <td>0</td>\n",
       "    </tr>\n",
       "    <tr>\n",
       "      <th>4</th>\n",
       "      <td>5F506CEBEDC05D30</td>\n",
       "      <td>2020-12-09 12:40:49</td>\n",
       "      <td>product_page</td>\n",
       "      <td>NaN</td>\n",
       "      <td>A</td>\n",
       "      <td>interface_eu_test</td>\n",
       "      <td>iPhone</td>\n",
       "      <td>0</td>\n",
       "    </tr>\n",
       "  </tbody>\n",
       "</table>\n",
       "</div>"
      ],
      "text/plain": [
       "            user_id            event_dt    event_name details group  \\\n",
       "0  5F506CEBEDC05D30 2020-12-06 14:10:01  registration     0.0     A   \n",
       "1  5F506CEBEDC05D30 2020-12-07 01:25:14         login     NaN     A   \n",
       "2  5F506CEBEDC05D30 2020-12-07 01:25:47         login     NaN     A   \n",
       "3  5F506CEBEDC05D30 2020-12-09 12:40:49         login     NaN     A   \n",
       "4  5F506CEBEDC05D30 2020-12-09 12:40:49  product_page     NaN     A   \n",
       "\n",
       "             ab_test  device  lifetime_days  \n",
       "0  interface_eu_test  iPhone              0  \n",
       "1  interface_eu_test  iPhone              0  \n",
       "2  interface_eu_test  iPhone              0  \n",
       "3  interface_eu_test  iPhone              0  \n",
       "4  interface_eu_test  iPhone              0  "
      ]
     },
     "execution_count": 43,
     "metadata": {},
     "output_type": "execute_result"
    }
   ],
   "source": [
    "df_seven_days.info()\n",
    "df_seven_days.head()"
   ]
  },
  {
   "cell_type": "markdown",
   "id": "7cf1df48",
   "metadata": {},
   "source": [
    "Оцените достаточность выборки для получения статистически значимых результатов A/B-теста. Заданные параметры:\n",
    "\n",
    "- базовый показатель конверсии — 30%,\n",
    "\n",
    "- мощность теста — 80%,\n",
    "\n",
    "- достоверность теста — 95%."
   ]
  },
  {
   "cell_type": "code",
   "execution_count": 44,
   "id": "7d97b466",
   "metadata": {},
   "outputs": [
    {
     "name": "stdout",
     "output_type": "stream",
     "text": [
      "Необходимый размер выборки для каждой группы: 1569\n"
     ]
    }
   ],
   "source": [
    "from statsmodels.stats.power import NormalIndPower\n",
    "\n",
    "# Задаём параметры\n",
    "conversion_rate = 0.30  # Базовый показатель конверсии\n",
    "mde = 0.03 / conversion_rate  # Минимальное ожидаемое изменение (3%)\n",
    "alpha = 0.05  # 100 - уровень достоверности (95%)\n",
    "power = 0.8 # Мощность теста\n",
    "\n",
    "# Инициализируем класс NormalIndPower\n",
    "power_analysis = NormalIndPower()\n",
    "\n",
    "# Рассчитываем размер выборки\n",
    "sample_size = power_analysis.solve_power(\n",
    "    effect_size = mde,\n",
    "    power = power,\n",
    "    alpha = alpha,\n",
    "    alternative = 'two-sided'\n",
    ")\n",
    "\n",
    "print(f\"Необходимый размер выборки для каждой группы: {int(sample_size)}\")"
   ]
  },
  {
   "cell_type": "markdown",
   "id": "SadyUDgZs0t3",
   "metadata": {
    "id": "SadyUDgZs0t3"
   },
   "source": [
    "- рассчитайте для каждой группы количество посетителей, сделавших покупку, и общее количество посетителей."
   ]
  },
  {
   "cell_type": "code",
   "execution_count": 45,
   "id": "7ph853Xks4sy",
   "metadata": {
    "id": "7ph853Xks4sy"
   },
   "outputs": [],
   "source": [
    "#Найдем общее количество участников и количетство участников, совершивших платеж для каждой группы:\n",
    "df_pe_all_A = df_seven_days[df_seven_days['group']=='A']['user_id'].nunique()"
   ]
  },
  {
   "cell_type": "code",
   "execution_count": 46,
   "id": "390639b2",
   "metadata": {},
   "outputs": [
    {
     "data": {
      "text/plain": [
       "5174"
      ]
     },
     "execution_count": 46,
     "metadata": {},
     "output_type": "execute_result"
    }
   ],
   "source": [
    "df_pe_all_A"
   ]
  },
  {
   "cell_type": "code",
   "execution_count": 47,
   "id": "e157f56e",
   "metadata": {},
   "outputs": [],
   "source": [
    "df_pe_allp_A = df_seven_days[(df_seven_days['group'] == 'A') & (df_seven_days['event_name'] == 'purchase')]['user_id'].nunique()"
   ]
  },
  {
   "cell_type": "code",
   "execution_count": 48,
   "id": "fbbd493d",
   "metadata": {},
   "outputs": [
    {
     "data": {
      "text/plain": [
       "1698"
      ]
     },
     "execution_count": 48,
     "metadata": {},
     "output_type": "execute_result"
    }
   ],
   "source": [
    "df_pe_allp_A"
   ]
  },
  {
   "cell_type": "code",
   "execution_count": 49,
   "id": "3931257a",
   "metadata": {},
   "outputs": [],
   "source": [
    "df_pe_all_B = df_seven_days[df_seven_days['group']=='B']['user_id'].nunique()"
   ]
  },
  {
   "cell_type": "code",
   "execution_count": 50,
   "id": "44f014e8",
   "metadata": {},
   "outputs": [
    {
     "data": {
      "text/plain": [
       "5229"
      ]
     },
     "execution_count": 50,
     "metadata": {},
     "output_type": "execute_result"
    }
   ],
   "source": [
    "df_pe_all_B"
   ]
  },
  {
   "cell_type": "code",
   "execution_count": 51,
   "id": "e92f2e64",
   "metadata": {},
   "outputs": [],
   "source": [
    "df_pe_allp_B = df_seven_days[(df_seven_days['group'] == 'B') & (df_seven_days['event_name'] == 'purchase')]['user_id'].nunique()"
   ]
  },
  {
   "cell_type": "code",
   "execution_count": 52,
   "id": "32a78bd3",
   "metadata": {},
   "outputs": [
    {
     "data": {
      "text/plain": [
       "1851"
      ]
     },
     "execution_count": 52,
     "metadata": {},
     "output_type": "execute_result"
    }
   ],
   "source": [
    "df_pe_allp_B"
   ]
  },
  {
   "cell_type": "code",
   "execution_count": 53,
   "id": "fa0a1c5c",
   "metadata": {},
   "outputs": [],
   "source": [
    "part_A, part_B = df_pe_allp_A/df_pe_all_A, df_pe_allp_B/df_pe_all_B"
   ]
  },
  {
   "cell_type": "code",
   "execution_count": 54,
   "id": "4d46f669",
   "metadata": {},
   "outputs": [
    {
     "data": {
      "text/plain": [
       "(0.3281793583301121, 0.3539873780837636)"
      ]
     },
     "execution_count": 54,
     "metadata": {},
     "output_type": "execute_result"
    }
   ],
   "source": [
    "part_A, part_B "
   ]
  },
  {
   "cell_type": "code",
   "execution_count": 55,
   "id": "c4d89ed4",
   "metadata": {},
   "outputs": [],
   "source": [
    "#Посчитаем, на сколько процентных пункта увеличится конверсия:\n",
    "difference = part_B*100 - part_A*100"
   ]
  },
  {
   "cell_type": "code",
   "execution_count": 56,
   "id": "cfe5beb4",
   "metadata": {},
   "outputs": [
    {
     "data": {
      "text/plain": [
       "2.580801975365155"
      ]
     },
     "execution_count": 56,
     "metadata": {},
     "output_type": "execute_result"
    }
   ],
   "source": [
    "difference"
   ]
  },
  {
   "cell_type": "code",
   "execution_count": 57,
   "id": "e610d879",
   "metadata": {},
   "outputs": [
    {
     "name": "stdout",
     "output_type": "stream",
     "text": [
      "Предпосылка о достаточном количестве данных выполняется!\n"
     ]
    }
   ],
   "source": [
    "# проверим предпосылку о достаточном количестве данных:\n",
    "\n",
    "if (part_A*df_pe_all_A>10)and((1-part_A)*df_pe_all_A>10)and(part_B*df_pe_all_B>10)and((1-part_B)*df_pe_all_B>10):\n",
    "    print('Предпосылка о достаточном количестве данных выполняется!')\n",
    "else:\n",
    "    print('Предпосылка о достаточном количестве данных НЕ выполняется!')"
   ]
  },
  {
   "cell_type": "markdown",
   "id": "sh1JpGvAs5E3",
   "metadata": {
    "id": "sh1JpGvAs5E3"
   },
   "source": [
    "- сделайте предварительный общий вывод об изменении пользовательской активности в тестовой группе по сравнению с контрольной."
   ]
  },
  {
   "cell_type": "markdown",
   "id": "de2f3943",
   "metadata": {},
   "source": [
    "В группе B большее количество участников совершило платеж как в абсолютной, так и в относительной величине. Есть подозрение, что альтернативная гипотеза верна и, что количество пользователей, которые совершат покупку, увеличится связи с внедрением новой версии сайта.\n",
    "\n",
    "По предварительному анализу конверсия в покупку у группы B увеличилась примерно на 2,58 процентных пункта."
   ]
  },
  {
   "cell_type": "markdown",
   "id": "49023246",
   "metadata": {},
   "source": [
    "<div class=\"alert alert-block alert-danger\">\n",
    "<h2> Комментарий ревьюера <a class=\"tocSkip\"></h2>\n",
    "\n",
    "    \n",
    "<b>На доработку❌:</b> Необходимо рассчитать - на сколько процентных пунктов увеличилась конверсия"
   ]
  },
  {
   "cell_type": "markdown",
   "id": "05923960",
   "metadata": {},
   "source": [
    "<div class=\"alert alert-info\"> <b>Комментарии студента:</b> Благодарю за комментарий! Посчитал и указал, на сколько процентных пунктов увеличилась конверсия.</div>"
   ]
  },
  {
   "cell_type": "markdown",
   "id": "faa00eaa",
   "metadata": {},
   "source": [
    "<div class=\"alert alert-block alert-success\">✔️\n",
    "    \n",
    "\n",
    "__Комментарий от ревьюера №2__\n",
    "\n",
    "Да, теперь корректно)"
   ]
  },
  {
   "cell_type": "markdown",
   "id": "IKZ1Oo3Ws919",
   "metadata": {
    "id": "IKZ1Oo3Ws919"
   },
   "source": [
    "## 4. Проведите оценку результатов A/B-тестирования:"
   ]
  },
  {
   "cell_type": "markdown",
   "id": "dcUdBSmvtC-E",
   "metadata": {
    "id": "dcUdBSmvtC-E"
   },
   "source": [
    "- Проверьте изменение конверсии подходящим статистическим тестом, учитывая все этапы проверки гипотез."
   ]
  },
  {
   "cell_type": "markdown",
   "id": "c87fc6b8",
   "metadata": {},
   "source": [
    "Перед тестом сформулируем нулевую и альетрнативную гипотезы: H₀ (нулевая гипотеза) — количество пользователей, которые совершат покупку, не увеличится связи с внедрением новой версии сайта. H₁ (альтернативная гипотеза) — количество пользователей, которые совершат покупку, увеличится связи с внедрением новой версии сайта, и это различие будет статистически значимо.\n",
    "\n",
    "Мы сравниваем пропорции (доли пользователей, совершивших платеж).\n",
    "\n",
    "Поэтому использовать будем Z-тест."
   ]
  },
  {
   "cell_type": "markdown",
   "id": "a5bcbc83",
   "metadata": {},
   "source": [
    "<div class=\"alert alert-block alert-success\">✔️\n",
    "    \n",
    "\n",
    "__Комментарий от ревьюера №1__\n",
    "\n",
    "Согласен"
   ]
  },
  {
   "cell_type": "code",
   "execution_count": 58,
   "id": "l_KOziBQtL3t",
   "metadata": {
    "id": "l_KOziBQtL3t"
   },
   "outputs": [
    {
     "name": "stdout",
     "output_type": "stream",
     "text": [
      "p-значение: 0.9972490388552026\n",
      "Не удалось отвергнуть нулевую гипотезу.Количество пользователей, которые совершат покупку, не увеличится в связи с внедрением новой версии сайта.\n"
     ]
    }
   ],
   "source": [
    "# Проведение Z-теста\n",
    "z_stat, p_value_ztest = proportions_ztest([df_pe_allp_A, df_pe_allp_B],\n",
    "                                    [df_pe_all_A, df_pe_all_B],\n",
    "                                    alternative='larger')\n",
    "\n",
    "\n",
    "print('p-значение:', p_value_ztest)\n",
    "\n",
    "if p_value_ztest<alpha:\n",
    "    print('Отвергаем нулевую гипотезу.' \n",
    "      'Количество пользователей, которые совершат покупку, увеличится в связи с внедрением новой версии сайта, и это различие будет статистически значимо.')\n",
    "else:\n",
    "    print('Не удалось отвергнуть нулевую гипотезу.' \n",
    "      'Количество пользователей, которые совершат покупку, не увеличится в связи с внедрением новой версии сайта.')"
   ]
  },
  {
   "cell_type": "markdown",
   "id": "286b6809",
   "metadata": {},
   "source": [
    "<div class=\"alert alert-block alert-danger\">\n",
    "<h2> Комментарий ревьюера <a class=\"tocSkip\"></h2>\n",
    "\n",
    "    \n",
    "<b>На доработку❌:</b> \n",
    "    \n",
    "    \n",
    "У тебя гипотезы сформулированы следующим образом:\n",
    "\n",
    "Нулевая гипотеза (H₀): количество пользователей, совершающих покупки, не увеличится (останется таким же или уменьшится). То есть:\n",
    "\n",
    "𝐻\n",
    "0\n",
    ":\n",
    "𝑝\n",
    "𝐵\n",
    "≤\n",
    "𝑝\n",
    "𝐴\n",
    "H \n",
    "0\n",
    "​\n",
    " :p \n",
    "B\n",
    "​\n",
    " ≤p \n",
    "A\n",
    "​\n",
    " \n",
    "Альтернативная гипотеза (H₁): количество пользователей, совершающих покупки, увеличится в новой версии сайта:\n",
    "\n",
    " \n",
    "Таким образом, ты проверяешь гипотезу, что вторая пропорция (группа B) больше, чем первая (группа A). В этом случае корректный параметр — `larger`."
   ]
  },
  {
   "cell_type": "markdown",
   "id": "1dfdce46",
   "metadata": {},
   "source": [
    "<div class=\"alert alert-info\"> <b>Комментарии студента:</b> Благодарю за комментарий! Исправил параметр на `larger`. Результат в итоге изменился.</div>"
   ]
  },
  {
   "cell_type": "markdown",
   "id": "27fc8619",
   "metadata": {},
   "source": [
    "<div class=\"alert alert-block alert-success\">✔️\n",
    "    \n",
    "\n",
    "__Комментарий от ревьюера №2__\n",
    "\n",
    "Супер, старайся, пожалуйста, придерживаться этой стратегии в дальнейших проектах =)\n",
    "</div>"
   ]
  },
  {
   "cell_type": "markdown",
   "id": "9jkyKOjgtGoc",
   "metadata": {
    "id": "9jkyKOjgtGoc"
   },
   "source": [
    "- Опишите выводы по проведённой оценке результатов A/B-тестирования. Что можно сказать про результаты A/B-тестирования? Был ли достигнут ожидаемый эффект в изменении конверсии?"
   ]
  },
  {
   "cell_type": "markdown",
   "id": "32db805b",
   "metadata": {},
   "source": [
    "Была проведена оценка результатов A/B-теста, повысит ли новая версия сайта количество пользователей, которые совершат покупку.\n",
    "\n",
    "Характеристики проведённого эксперимента: необходимый размер выборки для каждой группы: 1569 участников.\n",
    "\n",
    "Предварительный общий вывод об изменении пользовательской активности в тестовой группе по сравнению с контрольной: конверсия в покупку у группы B увеличилась примерно на 2,58 процентных пункта.\n",
    "\n",
    "Значение p-value (0,9972) получилось выше значения alpha. Соответственно, не удалось отвергнуть нулевую гипотезу. Количество пользователей, которые совершат покупку, не увеличится в связи с внедрением новой версии сайта.\n",
    "\n",
    "Новую версию сайта внедрять не стоит. Ожидаемого результата мы не достигли."
   ]
  },
  {
   "cell_type": "markdown",
   "id": "npoPPSKytKvR",
   "metadata": {
    "id": "npoPPSKytKvR"
   },
   "source": []
  },
  {
   "cell_type": "markdown",
   "id": "3838033d",
   "metadata": {},
   "source": [
    "<div class=\"alert alert-block alert-danger\">✍\n",
    "    \n",
    "\n",
    "__Комментарий от ревьюера №1__\n",
    "\n",
    "    \n",
    "<b>На доработку❌:</b> Тут стоит описать также про процентные пункты (достигли ли мы ожидаемого результата или нет?)"
   ]
  },
  {
   "cell_type": "markdown",
   "id": "5e800d9d",
   "metadata": {},
   "source": [
    "<div class=\"alert alert-info\"> <b>Комментарии студента:</b> Александр, благодарю за проверку! Исправил выводы после нового проведения теста. Также дописал про процентные пункты.</div>"
   ]
  },
  {
   "cell_type": "markdown",
   "id": "60418277",
   "metadata": {},
   "source": [
    "<div style=\"border:solid blue 3px; padding: 20px\">\n",
    "<div class=\"alert alert-block alert-success\">✔️\n",
    "    \n",
    "\n",
    "__Коментарий от ревьюера №3__\n",
    "    \n",
    "Николай, это тебе спасибо за обратную связь и правки ^^\n",
    "\n",
    "\n",
    "В остальном всё чудно😊. Твой проект так и просится на github =)   \n",
    "    \n",
    "Поздравляю с успешным завершением проекта 😊👍\n",
    "И желаю успехов в новых работах 😊\n",
    "    \n",
    "---\n",
    "    \n",
    "От себя хочу порекомендовать тебе отличный метариал по статистике. \n",
    "    \n",
    "* Курс \"Вероятность и статистика\" | Глеб Михайлов (free): https://www.youtube.com/playlist?list=PLQJ7ptkRY-xbHLLI66KdscKp_FJt0FsIi\n",
    "    \n",
    "* Методы обнаружения выбросов: https://youtu.be/TOK7Kq7x0yc\n",
    "    \n",
    "\n",
    "</div>"
   ]
  }
 ],
 "metadata": {
  "ExecuteTimeLog": [
   {
    "duration": 1460,
    "start_time": "2025-04-29T09:22:34.921Z"
   },
   {
    "duration": 3,
    "start_time": "2025-04-29T09:22:46.860Z"
   },
   {
    "duration": 146,
    "start_time": "2025-04-29T09:23:42.966Z"
   },
   {
    "duration": 72,
    "start_time": "2025-04-29T09:24:29.280Z"
   },
   {
    "duration": 79,
    "start_time": "2025-04-29T09:27:08.919Z"
   },
   {
    "duration": 5,
    "start_time": "2025-04-29T09:28:24.002Z"
   },
   {
    "duration": 9,
    "start_time": "2025-04-29T09:28:44.726Z"
   },
   {
    "duration": 7,
    "start_time": "2025-04-29T09:29:09.148Z"
   },
   {
    "duration": 9,
    "start_time": "2025-04-29T09:29:17.882Z"
   },
   {
    "duration": 18,
    "start_time": "2025-04-29T09:29:30.487Z"
   },
   {
    "duration": 18,
    "start_time": "2025-04-29T09:29:44.873Z"
   },
   {
    "duration": 3,
    "start_time": "2025-04-29T09:30:25.832Z"
   },
   {
    "duration": 3,
    "start_time": "2025-04-29T09:30:41.523Z"
   },
   {
    "duration": 10,
    "start_time": "2025-04-29T09:31:45.639Z"
   },
   {
    "duration": 70,
    "start_time": "2025-04-29T09:32:30.683Z"
   },
   {
    "duration": 73,
    "start_time": "2025-04-29T09:34:58.424Z"
   },
   {
    "duration": 4,
    "start_time": "2025-04-29T09:35:51.621Z"
   },
   {
    "duration": 3,
    "start_time": "2025-04-29T09:36:09.990Z"
   },
   {
    "duration": 9,
    "start_time": "2025-04-29T09:38:20.109Z"
   },
   {
    "duration": 3,
    "start_time": "2025-04-29T09:38:33.194Z"
   },
   {
    "duration": 2,
    "start_time": "2025-04-29T09:38:33.943Z"
   },
   {
    "duration": 4,
    "start_time": "2025-04-29T09:38:34.871Z"
   },
   {
    "duration": 4,
    "start_time": "2025-04-29T09:38:52.832Z"
   },
   {
    "duration": 5,
    "start_time": "2025-04-29T09:41:52.778Z"
   },
   {
    "duration": 6,
    "start_time": "2025-04-29T09:42:27.620Z"
   },
   {
    "duration": 6,
    "start_time": "2025-04-29T09:42:38.877Z"
   },
   {
    "duration": 12,
    "start_time": "2025-04-29T09:42:48.572Z"
   },
   {
    "duration": 5,
    "start_time": "2025-04-29T09:42:54.942Z"
   },
   {
    "duration": 25,
    "start_time": "2025-04-29T09:42:55.559Z"
   },
   {
    "duration": 5,
    "start_time": "2025-04-29T09:42:56.246Z"
   },
   {
    "duration": 17,
    "start_time": "2025-04-29T09:42:56.997Z"
   },
   {
    "duration": 2,
    "start_time": "2025-04-29T09:43:10.482Z"
   },
   {
    "duration": 6,
    "start_time": "2025-04-29T09:43:11.165Z"
   },
   {
    "duration": 4,
    "start_time": "2025-04-29T09:43:11.849Z"
   },
   {
    "duration": 3,
    "start_time": "2025-04-29T09:43:12.818Z"
   },
   {
    "duration": 5,
    "start_time": "2025-04-29T09:43:13.502Z"
   },
   {
    "duration": 22,
    "start_time": "2025-04-29T09:45:56.865Z"
   },
   {
    "duration": 20,
    "start_time": "2025-04-29T09:46:14.905Z"
   },
   {
    "duration": 10,
    "start_time": "2025-04-29T09:46:53.208Z"
   },
   {
    "duration": 9,
    "start_time": "2025-04-29T09:47:05.034Z"
   },
   {
    "duration": 34,
    "start_time": "2025-04-29T09:47:25.763Z"
   },
   {
    "duration": 305,
    "start_time": "2025-04-29T09:47:32.807Z"
   },
   {
    "duration": 19,
    "start_time": "2025-04-29T09:47:49.648Z"
   },
   {
    "duration": 137,
    "start_time": "2025-04-29T09:47:57.752Z"
   },
   {
    "duration": 145,
    "start_time": "2025-04-29T09:48:32.932Z"
   },
   {
    "duration": 4,
    "start_time": "2025-04-29T09:51:36.496Z"
   },
   {
    "duration": 3,
    "start_time": "2025-04-29T09:51:37.012Z"
   },
   {
    "duration": 4,
    "start_time": "2025-04-29T09:51:37.575Z"
   },
   {
    "duration": 155,
    "start_time": "2025-04-29T11:47:40.772Z"
   },
   {
    "duration": 167,
    "start_time": "2025-04-29T11:49:00.153Z"
   },
   {
    "duration": 173,
    "start_time": "2025-04-29T11:49:20.238Z"
   },
   {
    "duration": 173,
    "start_time": "2025-04-29T11:49:43.217Z"
   },
   {
    "duration": 178,
    "start_time": "2025-04-29T11:50:05.302Z"
   },
   {
    "duration": 4,
    "start_time": "2025-04-29T11:57:22.568Z"
   },
   {
    "duration": 3,
    "start_time": "2025-04-29T11:57:23.216Z"
   },
   {
    "duration": 4,
    "start_time": "2025-04-29T11:57:23.917Z"
   },
   {
    "duration": 3,
    "start_time": "2025-04-29T11:57:43.285Z"
   },
   {
    "duration": 3,
    "start_time": "2025-04-29T11:57:43.864Z"
   },
   {
    "duration": 4,
    "start_time": "2025-04-29T11:57:44.414Z"
   },
   {
    "duration": 64,
    "start_time": "2025-04-29T11:59:56.640Z"
   },
   {
    "duration": 6,
    "start_time": "2025-04-29T12:01:26.179Z"
   },
   {
    "duration": 5,
    "start_time": "2025-04-29T12:01:57.804Z"
   },
   {
    "duration": 5,
    "start_time": "2025-04-29T12:03:30.729Z"
   },
   {
    "duration": 18,
    "start_time": "2025-04-29T12:03:31.746Z"
   },
   {
    "duration": 5,
    "start_time": "2025-04-29T12:03:45.262Z"
   },
   {
    "duration": 18,
    "start_time": "2025-04-29T12:03:46.115Z"
   },
   {
    "duration": 1629,
    "start_time": "2025-04-29T12:08:27.186Z"
   },
   {
    "duration": 20,
    "start_time": "2025-04-29T12:08:57.944Z"
   },
   {
    "duration": 206,
    "start_time": "2025-04-29T12:09:21.866Z"
   },
   {
    "duration": 9,
    "start_time": "2025-04-29T12:10:01.591Z"
   },
   {
    "duration": 197,
    "start_time": "2025-04-29T12:10:29.348Z"
   },
   {
    "duration": 12,
    "start_time": "2025-04-29T12:37:29.165Z"
   },
   {
    "duration": 9,
    "start_time": "2025-04-29T12:38:26.042Z"
   },
   {
    "duration": 327,
    "start_time": "2025-04-29T12:43:07.973Z"
   },
   {
    "duration": 216,
    "start_time": "2025-04-29T12:46:54.339Z"
   },
   {
    "duration": 52,
    "start_time": "2025-04-30T12:14:12.164Z"
   },
   {
    "duration": 3,
    "start_time": "2025-04-30T12:14:24.320Z"
   },
   {
    "duration": 5,
    "start_time": "2025-04-30T12:14:24.325Z"
   },
   {
    "duration": 1400,
    "start_time": "2025-04-30T12:14:24.332Z"
   },
   {
    "duration": 72,
    "start_time": "2025-04-30T12:14:25.734Z"
   },
   {
    "duration": 13,
    "start_time": "2025-04-30T12:14:25.808Z"
   },
   {
    "duration": 21,
    "start_time": "2025-04-30T12:14:25.823Z"
   },
   {
    "duration": 12,
    "start_time": "2025-04-30T12:14:25.846Z"
   },
   {
    "duration": 5,
    "start_time": "2025-04-30T12:14:25.860Z"
   },
   {
    "duration": 21,
    "start_time": "2025-04-30T12:14:25.868Z"
   },
   {
    "duration": 5,
    "start_time": "2025-04-30T12:14:25.904Z"
   },
   {
    "duration": 22,
    "start_time": "2025-04-30T12:14:25.911Z"
   },
   {
    "duration": 21,
    "start_time": "2025-04-30T12:14:25.934Z"
   },
   {
    "duration": 48,
    "start_time": "2025-04-30T12:14:25.957Z"
   },
   {
    "duration": 197,
    "start_time": "2025-04-30T12:14:26.007Z"
   },
   {
    "duration": 189,
    "start_time": "2025-04-30T12:14:26.205Z"
   },
   {
    "duration": 232,
    "start_time": "2025-04-30T12:14:26.395Z"
   },
   {
    "duration": 2,
    "start_time": "2025-04-30T12:14:26.629Z"
   },
   {
    "duration": 5,
    "start_time": "2025-04-30T12:14:26.633Z"
   },
   {
    "duration": 6,
    "start_time": "2025-04-30T12:14:26.639Z"
   },
   {
    "duration": 3,
    "start_time": "2025-04-30T12:14:26.646Z"
   },
   {
    "duration": 133,
    "start_time": "2025-04-30T12:14:26.651Z"
   },
   {
    "duration": 0,
    "start_time": "2025-04-30T12:14:26.786Z"
   },
   {
    "duration": 0,
    "start_time": "2025-04-30T12:14:26.787Z"
   },
   {
    "duration": 0,
    "start_time": "2025-04-30T12:14:26.789Z"
   },
   {
    "duration": 0,
    "start_time": "2025-04-30T12:14:26.790Z"
   },
   {
    "duration": 0,
    "start_time": "2025-04-30T12:14:26.791Z"
   },
   {
    "duration": 0,
    "start_time": "2025-04-30T12:14:26.804Z"
   },
   {
    "duration": 3,
    "start_time": "2025-04-30T12:14:37.069Z"
   },
   {
    "duration": 3,
    "start_time": "2025-04-30T12:14:37.714Z"
   },
   {
    "duration": 3,
    "start_time": "2025-04-30T12:14:38.388Z"
   },
   {
    "duration": 61,
    "start_time": "2025-04-30T12:14:39.156Z"
   },
   {
    "duration": 6,
    "start_time": "2025-04-30T12:14:39.965Z"
   },
   {
    "duration": 6,
    "start_time": "2025-04-30T12:14:40.646Z"
   },
   {
    "duration": 14,
    "start_time": "2025-04-30T12:14:40.828Z"
   },
   {
    "duration": 6,
    "start_time": "2025-04-30T12:14:41.177Z"
   },
   {
    "duration": 19,
    "start_time": "2025-04-30T12:14:41.342Z"
   },
   {
    "duration": 6,
    "start_time": "2025-04-30T12:14:41.550Z"
   },
   {
    "duration": 20,
    "start_time": "2025-04-30T12:14:41.741Z"
   },
   {
    "duration": 19,
    "start_time": "2025-04-30T12:14:42.115Z"
   },
   {
    "duration": 18,
    "start_time": "2025-04-30T12:14:42.293Z"
   },
   {
    "duration": 172,
    "start_time": "2025-04-30T12:14:42.579Z"
   },
   {
    "duration": 171,
    "start_time": "2025-04-30T12:14:42.770Z"
   },
   {
    "duration": 228,
    "start_time": "2025-04-30T12:14:42.995Z"
   },
   {
    "duration": 4,
    "start_time": "2025-04-30T12:14:43.494Z"
   },
   {
    "duration": 3,
    "start_time": "2025-04-30T12:14:44.052Z"
   },
   {
    "duration": 4,
    "start_time": "2025-04-30T12:14:44.438Z"
   },
   {
    "duration": 2,
    "start_time": "2025-04-30T12:14:44.620Z"
   },
   {
    "duration": 10,
    "start_time": "2025-04-30T12:14:44.842Z"
   },
   {
    "duration": 4,
    "start_time": "2025-04-30T12:14:57.640Z"
   },
   {
    "duration": 4,
    "start_time": "2025-04-30T12:15:28.429Z"
   },
   {
    "duration": 1717,
    "start_time": "2025-04-30T12:15:41.455Z"
   },
   {
    "duration": 19,
    "start_time": "2025-04-30T12:15:43.174Z"
   },
   {
    "duration": 140,
    "start_time": "2025-04-30T12:15:43.204Z"
   },
   {
    "duration": 9,
    "start_time": "2025-04-30T12:15:44.927Z"
   },
   {
    "duration": 8,
    "start_time": "2025-04-30T12:15:45.772Z"
   },
   {
    "duration": 235,
    "start_time": "2025-04-30T12:15:47.291Z"
   },
   {
    "duration": 65,
    "start_time": "2025-04-30T12:16:33.360Z"
   },
   {
    "duration": 18,
    "start_time": "2025-04-30T12:16:51.502Z"
   },
   {
    "duration": 12,
    "start_time": "2025-04-30T12:36:38.380Z"
   },
   {
    "duration": 25,
    "start_time": "2025-04-30T12:38:09.412Z"
   },
   {
    "duration": 24,
    "start_time": "2025-04-30T12:38:34.229Z"
   },
   {
    "duration": 6,
    "start_time": "2025-04-30T12:53:36.670Z"
   },
   {
    "duration": 6,
    "start_time": "2025-04-30T12:53:37.384Z"
   },
   {
    "duration": 12,
    "start_time": "2025-04-30T12:53:38.253Z"
   },
   {
    "duration": 12,
    "start_time": "2025-04-30T12:53:39.707Z"
   },
   {
    "duration": 5,
    "start_time": "2025-04-30T12:57:40.520Z"
   },
   {
    "duration": 5,
    "start_time": "2025-04-30T12:57:56.907Z"
   },
   {
    "duration": 5,
    "start_time": "2025-04-30T13:00:34.401Z"
   },
   {
    "duration": 6,
    "start_time": "2025-04-30T13:01:52.043Z"
   },
   {
    "duration": 4,
    "start_time": "2025-04-30T13:02:00.426Z"
   },
   {
    "duration": 231,
    "start_time": "2025-04-30T13:02:42.254Z"
   },
   {
    "duration": 25,
    "start_time": "2025-04-30T13:02:57.467Z"
   },
   {
    "duration": 220,
    "start_time": "2025-04-30T13:03:35.547Z"
   },
   {
    "duration": 23,
    "start_time": "2025-04-30T13:03:46.520Z"
   },
   {
    "duration": 53,
    "start_time": "2025-04-30T13:05:00.671Z"
   },
   {
    "duration": 12,
    "start_time": "2025-04-30T13:11:53.350Z"
   },
   {
    "duration": 14,
    "start_time": "2025-04-30T13:12:05.327Z"
   },
   {
    "duration": 12,
    "start_time": "2025-04-30T13:12:57.410Z"
   },
   {
    "duration": 23,
    "start_time": "2025-04-30T13:13:51.129Z"
   },
   {
    "duration": 11,
    "start_time": "2025-04-30T13:14:04.186Z"
   },
   {
    "duration": 13,
    "start_time": "2025-04-30T13:14:14.526Z"
   },
   {
    "duration": 11,
    "start_time": "2025-04-30T13:14:39.045Z"
   },
   {
    "duration": 12,
    "start_time": "2025-04-30T13:15:15.001Z"
   },
   {
    "duration": 12,
    "start_time": "2025-04-30T13:15:24.945Z"
   },
   {
    "duration": 5,
    "start_time": "2025-04-30T13:15:56.298Z"
   },
   {
    "duration": 12,
    "start_time": "2025-04-30T13:16:11.728Z"
   },
   {
    "duration": 50,
    "start_time": "2025-04-30T13:16:51.489Z"
   },
   {
    "duration": 5,
    "start_time": "2025-04-30T13:16:52.200Z"
   },
   {
    "duration": 13,
    "start_time": "2025-04-30T13:16:52.959Z"
   },
   {
    "duration": 4,
    "start_time": "2025-04-30T13:16:53.932Z"
   },
   {
    "duration": 13,
    "start_time": "2025-04-30T13:16:55.004Z"
   },
   {
    "duration": 201,
    "start_time": "2025-04-30T13:19:04.557Z"
   },
   {
    "duration": 23,
    "start_time": "2025-04-30T13:19:05.386Z"
   },
   {
    "duration": 51,
    "start_time": "2025-04-30T13:19:08.496Z"
   },
   {
    "duration": 5,
    "start_time": "2025-04-30T13:19:09.376Z"
   },
   {
    "duration": 12,
    "start_time": "2025-04-30T13:19:10.388Z"
   },
   {
    "duration": 4,
    "start_time": "2025-04-30T13:19:14.031Z"
   },
   {
    "duration": 11,
    "start_time": "2025-04-30T13:19:14.683Z"
   },
   {
    "duration": 5,
    "start_time": "2025-04-30T13:19:20.668Z"
   },
   {
    "duration": 6,
    "start_time": "2025-04-30T13:19:20.885Z"
   },
   {
    "duration": 5,
    "start_time": "2025-04-30T13:19:21.083Z"
   },
   {
    "duration": 4,
    "start_time": "2025-04-30T13:19:21.285Z"
   },
   {
    "duration": 6,
    "start_time": "2025-04-30T13:19:21.463Z"
   },
   {
    "duration": 5,
    "start_time": "2025-04-30T13:19:21.691Z"
   },
   {
    "duration": 5,
    "start_time": "2025-04-30T13:19:22.638Z"
   },
   {
    "duration": 11,
    "start_time": "2025-04-30T13:19:23.548Z"
   },
   {
    "duration": 11,
    "start_time": "2025-04-30T13:19:26.248Z"
   },
   {
    "duration": 202,
    "start_time": "2025-04-30T13:19:27.753Z"
   },
   {
    "duration": 26,
    "start_time": "2025-04-30T13:19:28.678Z"
   },
   {
    "duration": 12,
    "start_time": "2025-04-30T13:19:29.721Z"
   },
   {
    "duration": 14,
    "start_time": "2025-04-30T13:19:30.813Z"
   },
   {
    "duration": 13,
    "start_time": "2025-04-30T13:19:31.868Z"
   },
   {
    "duration": 237,
    "start_time": "2025-04-30T13:19:34.182Z"
   },
   {
    "duration": 25,
    "start_time": "2025-04-30T13:19:35.159Z"
   },
   {
    "duration": 54,
    "start_time": "2025-04-30T13:19:37.099Z"
   },
   {
    "duration": 5,
    "start_time": "2025-04-30T13:19:37.960Z"
   },
   {
    "duration": 14,
    "start_time": "2025-04-30T13:19:39.139Z"
   },
   {
    "duration": 5,
    "start_time": "2025-04-30T13:19:40.716Z"
   },
   {
    "duration": 11,
    "start_time": "2025-04-30T13:19:41.322Z"
   },
   {
    "duration": 4,
    "start_time": "2025-04-30T13:20:07.329Z"
   },
   {
    "duration": 11,
    "start_time": "2025-04-30T13:20:15.683Z"
   },
   {
    "duration": 4,
    "start_time": "2025-04-30T13:21:18.385Z"
   },
   {
    "duration": 17,
    "start_time": "2025-04-30T13:21:18.394Z"
   },
   {
    "duration": 1385,
    "start_time": "2025-04-30T13:21:18.414Z"
   },
   {
    "duration": 81,
    "start_time": "2025-04-30T13:21:19.801Z"
   },
   {
    "duration": 6,
    "start_time": "2025-04-30T13:21:19.884Z"
   },
   {
    "duration": 6,
    "start_time": "2025-04-30T13:21:19.891Z"
   },
   {
    "duration": 14,
    "start_time": "2025-04-30T13:21:19.898Z"
   },
   {
    "duration": 4,
    "start_time": "2025-04-30T13:21:19.914Z"
   },
   {
    "duration": 18,
    "start_time": "2025-04-30T13:21:19.920Z"
   },
   {
    "duration": 4,
    "start_time": "2025-04-30T13:21:19.940Z"
   },
   {
    "duration": 19,
    "start_time": "2025-04-30T13:21:19.946Z"
   },
   {
    "duration": 18,
    "start_time": "2025-04-30T13:21:20.005Z"
   },
   {
    "duration": 27,
    "start_time": "2025-04-30T13:21:20.026Z"
   },
   {
    "duration": 213,
    "start_time": "2025-04-30T13:21:20.054Z"
   },
   {
    "duration": 192,
    "start_time": "2025-04-30T13:21:20.269Z"
   },
   {
    "duration": 231,
    "start_time": "2025-04-30T13:21:20.463Z"
   },
   {
    "duration": 3,
    "start_time": "2025-04-30T13:21:20.703Z"
   },
   {
    "duration": 55,
    "start_time": "2025-04-30T13:21:20.708Z"
   },
   {
    "duration": 3970,
    "start_time": "2025-04-30T13:21:20.765Z"
   },
   {
    "duration": 5468,
    "start_time": "2025-04-30T13:21:24.737Z"
   },
   {
    "duration": 164,
    "start_time": "2025-04-30T13:21:30.206Z"
   },
   {
    "duration": 2049,
    "start_time": "2025-04-30T13:21:30.372Z"
   },
   {
    "duration": 20,
    "start_time": "2025-04-30T13:21:32.423Z"
   },
   {
    "duration": 202,
    "start_time": "2025-04-30T13:21:32.444Z"
   },
   {
    "duration": 9,
    "start_time": "2025-04-30T13:21:32.648Z"
   },
   {
    "duration": 29,
    "start_time": "2025-04-30T13:21:32.658Z"
   },
   {
    "duration": 224,
    "start_time": "2025-04-30T13:21:32.689Z"
   },
   {
    "duration": 6,
    "start_time": "2025-04-30T13:21:32.914Z"
   },
   {
    "duration": 45,
    "start_time": "2025-04-30T13:21:32.921Z"
   },
   {
    "duration": 12,
    "start_time": "2025-04-30T13:21:32.968Z"
   },
   {
    "duration": 21,
    "start_time": "2025-04-30T13:21:32.983Z"
   },
   {
    "duration": 14,
    "start_time": "2025-04-30T13:21:33.006Z"
   },
   {
    "duration": 17,
    "start_time": "2025-04-30T13:21:33.022Z"
   },
   {
    "duration": 26,
    "start_time": "2025-04-30T13:21:33.041Z"
   },
   {
    "duration": 29,
    "start_time": "2025-04-30T13:21:33.069Z"
   },
   {
    "duration": 16,
    "start_time": "2025-04-30T13:21:33.100Z"
   },
   {
    "duration": 274,
    "start_time": "2025-04-30T13:21:33.120Z"
   },
   {
    "duration": 33,
    "start_time": "2025-04-30T13:21:33.396Z"
   },
   {
    "duration": 12,
    "start_time": "2025-04-30T13:21:33.431Z"
   },
   {
    "duration": 33,
    "start_time": "2025-04-30T13:21:33.445Z"
   },
   {
    "duration": 32,
    "start_time": "2025-04-30T13:21:33.480Z"
   },
   {
    "duration": 240,
    "start_time": "2025-04-30T13:21:33.514Z"
   },
   {
    "duration": 25,
    "start_time": "2025-04-30T13:21:33.756Z"
   },
   {
    "duration": 74,
    "start_time": "2025-04-30T13:21:33.783Z"
   },
   {
    "duration": 4,
    "start_time": "2025-04-30T13:21:33.859Z"
   },
   {
    "duration": 27,
    "start_time": "2025-04-30T13:21:33.865Z"
   },
   {
    "duration": 17,
    "start_time": "2025-04-30T13:21:33.893Z"
   },
   {
    "duration": 28,
    "start_time": "2025-04-30T13:21:33.912Z"
   },
   {
    "duration": 20,
    "start_time": "2025-04-30T13:21:33.942Z"
   },
   {
    "duration": 33,
    "start_time": "2025-04-30T13:21:33.964Z"
   },
   {
    "duration": 14,
    "start_time": "2025-04-30T13:21:34.000Z"
   },
   {
    "duration": 19,
    "start_time": "2025-04-30T13:21:34.017Z"
   },
   {
    "duration": 4,
    "start_time": "2025-04-30T13:21:42.129Z"
   },
   {
    "duration": 59,
    "start_time": "2025-04-30T13:21:43.179Z"
   },
   {
    "duration": 5,
    "start_time": "2025-04-30T13:21:44.288Z"
   },
   {
    "duration": 6,
    "start_time": "2025-04-30T13:21:45.690Z"
   },
   {
    "duration": 12,
    "start_time": "2025-04-30T13:21:46.340Z"
   },
   {
    "duration": 5,
    "start_time": "2025-04-30T13:21:47.713Z"
   },
   {
    "duration": 25,
    "start_time": "2025-04-30T13:21:48.344Z"
   },
   {
    "duration": 5,
    "start_time": "2025-04-30T13:21:48.901Z"
   },
   {
    "duration": 22,
    "start_time": "2025-04-30T13:21:49.504Z"
   },
   {
    "duration": 22,
    "start_time": "2025-04-30T13:21:50.635Z"
   },
   {
    "duration": 21,
    "start_time": "2025-04-30T13:21:51.208Z"
   },
   {
    "duration": 199,
    "start_time": "2025-04-30T13:21:51.780Z"
   },
   {
    "duration": 192,
    "start_time": "2025-04-30T13:21:52.596Z"
   },
   {
    "duration": 212,
    "start_time": "2025-04-30T13:21:53.259Z"
   },
   {
    "duration": 3,
    "start_time": "2025-04-30T13:21:54.256Z"
   },
   {
    "duration": 3,
    "start_time": "2025-04-30T13:21:54.985Z"
   },
   {
    "duration": 4,
    "start_time": "2025-04-30T13:21:56.341Z"
   },
   {
    "duration": 3,
    "start_time": "2025-04-30T13:21:57.045Z"
   },
   {
    "duration": 4,
    "start_time": "2025-04-30T13:21:57.717Z"
   },
   {
    "duration": 1659,
    "start_time": "2025-04-30T13:24:02.085Z"
   },
   {
    "duration": 20,
    "start_time": "2025-04-30T13:24:03.746Z"
   },
   {
    "duration": 123,
    "start_time": "2025-04-30T13:24:03.954Z"
   },
   {
    "duration": 9,
    "start_time": "2025-04-30T13:24:05.988Z"
   },
   {
    "duration": 8,
    "start_time": "2025-04-30T13:24:13.994Z"
   },
   {
    "duration": 197,
    "start_time": "2025-04-30T13:24:15.745Z"
   },
   {
    "duration": 5,
    "start_time": "2025-04-30T13:24:16.872Z"
   },
   {
    "duration": 6,
    "start_time": "2025-04-30T13:24:17.847Z"
   },
   {
    "duration": 5,
    "start_time": "2025-04-30T13:24:18.687Z"
   },
   {
    "duration": 4,
    "start_time": "2025-04-30T13:24:19.509Z"
   },
   {
    "duration": 5,
    "start_time": "2025-04-30T13:24:20.334Z"
   },
   {
    "duration": 5,
    "start_time": "2025-04-30T13:24:21.539Z"
   },
   {
    "duration": 6,
    "start_time": "2025-04-30T13:24:22.475Z"
   },
   {
    "duration": 13,
    "start_time": "2025-04-30T13:24:23.488Z"
   },
   {
    "duration": 12,
    "start_time": "2025-04-30T13:24:24.585Z"
   },
   {
    "duration": 175,
    "start_time": "2025-04-30T13:24:25.710Z"
   },
   {
    "duration": 26,
    "start_time": "2025-04-30T13:24:26.624Z"
   },
   {
    "duration": 14,
    "start_time": "2025-04-30T13:24:27.577Z"
   },
   {
    "duration": 13,
    "start_time": "2025-04-30T13:24:28.450Z"
   },
   {
    "duration": 13,
    "start_time": "2025-04-30T13:24:29.267Z"
   },
   {
    "duration": 166,
    "start_time": "2025-04-30T13:24:30.285Z"
   },
   {
    "duration": 26,
    "start_time": "2025-04-30T13:24:31.943Z"
   },
   {
    "duration": 49,
    "start_time": "2025-04-30T13:24:37.055Z"
   },
   {
    "duration": 5,
    "start_time": "2025-04-30T13:24:37.912Z"
   },
   {
    "duration": 11,
    "start_time": "2025-04-30T13:24:38.802Z"
   },
   {
    "duration": 4,
    "start_time": "2025-04-30T13:24:42.064Z"
   },
   {
    "duration": 10,
    "start_time": "2025-04-30T13:24:43.028Z"
   },
   {
    "duration": 4,
    "start_time": "2025-04-30T13:24:44.171Z"
   },
   {
    "duration": 11,
    "start_time": "2025-04-30T13:24:45.053Z"
   },
   {
    "duration": 14,
    "start_time": "2025-04-30T13:25:35.518Z"
   },
   {
    "duration": 15,
    "start_time": "2025-04-30T13:25:36.360Z"
   },
   {
    "duration": 161,
    "start_time": "2025-04-30T13:25:44.324Z"
   },
   {
    "duration": 24,
    "start_time": "2025-04-30T13:25:45.106Z"
   },
   {
    "duration": 12,
    "start_time": "2025-04-30T13:25:57.404Z"
   },
   {
    "duration": 13,
    "start_time": "2025-04-30T13:25:58.472Z"
   },
   {
    "duration": 159,
    "start_time": "2025-04-30T13:25:59.096Z"
   },
   {
    "duration": 26,
    "start_time": "2025-04-30T13:26:00.366Z"
   },
   {
    "duration": 173,
    "start_time": "2025-04-30T13:26:01.852Z"
   },
   {
    "duration": 24,
    "start_time": "2025-04-30T13:26:02.782Z"
   },
   {
    "duration": 51,
    "start_time": "2025-04-30T13:26:07.640Z"
   },
   {
    "duration": 17,
    "start_time": "2025-04-30T13:26:08.298Z"
   },
   {
    "duration": 18,
    "start_time": "2025-04-30T13:26:09.328Z"
   },
   {
    "duration": 9,
    "start_time": "2025-04-30T13:26:10.613Z"
   },
   {
    "duration": 15,
    "start_time": "2025-04-30T13:26:11.952Z"
   },
   {
    "duration": 8,
    "start_time": "2025-04-30T13:44:53.782Z"
   },
   {
    "duration": 13,
    "start_time": "2025-04-30T13:44:54.519Z"
   },
   {
    "duration": 9,
    "start_time": "2025-04-30T13:44:59.293Z"
   },
   {
    "duration": 13,
    "start_time": "2025-04-30T13:44:59.945Z"
   },
   {
    "duration": 611,
    "start_time": "2025-04-30T13:46:47.612Z"
   },
   {
    "duration": 14,
    "start_time": "2025-04-30T13:46:48.534Z"
   },
   {
    "duration": 17,
    "start_time": "2025-04-30T13:46:59.162Z"
   },
   {
    "duration": 9,
    "start_time": "2025-04-30T13:47:50.266Z"
   },
   {
    "duration": 28,
    "start_time": "2025-04-30T13:55:18.952Z"
   },
   {
    "duration": 21,
    "start_time": "2025-04-30T13:55:32.148Z"
   },
   {
    "duration": 6,
    "start_time": "2025-04-30T13:57:06.520Z"
   },
   {
    "duration": 5,
    "start_time": "2025-04-30T13:57:07.127Z"
   },
   {
    "duration": 5,
    "start_time": "2025-04-30T13:57:07.861Z"
   },
   {
    "duration": 4,
    "start_time": "2025-04-30T13:57:08.552Z"
   },
   {
    "duration": 11,
    "start_time": "2025-04-30T13:58:30.274Z"
   },
   {
    "duration": 16,
    "start_time": "2025-04-30T13:59:01.038Z"
   },
   {
    "duration": 31,
    "start_time": "2025-04-30T13:59:11.044Z"
   },
   {
    "duration": 8,
    "start_time": "2025-04-30T14:00:24.979Z"
   },
   {
    "duration": 11,
    "start_time": "2025-04-30T14:03:03.562Z"
   },
   {
    "duration": 14,
    "start_time": "2025-04-30T14:03:57.076Z"
   },
   {
    "duration": 1122,
    "start_time": "2025-04-30T14:04:06.279Z"
   },
   {
    "duration": 1137,
    "start_time": "2025-04-30T14:04:26.478Z"
   },
   {
    "duration": 1077,
    "start_time": "2025-04-30T14:10:33.161Z"
   },
   {
    "duration": 21,
    "start_time": "2025-04-30T14:10:51.581Z"
   },
   {
    "duration": 17,
    "start_time": "2025-04-30T14:11:32.974Z"
   },
   {
    "duration": 5,
    "start_time": "2025-04-30T14:13:10.504Z"
   },
   {
    "duration": 5,
    "start_time": "2025-04-30T14:13:23.503Z"
   },
   {
    "duration": 5,
    "start_time": "2025-04-30T14:13:44.932Z"
   },
   {
    "duration": 7,
    "start_time": "2025-04-30T14:13:53.461Z"
   },
   {
    "duration": 5,
    "start_time": "2025-04-30T14:14:07.370Z"
   },
   {
    "duration": 21,
    "start_time": "2025-04-30T14:16:22.222Z"
   },
   {
    "duration": 11,
    "start_time": "2025-04-30T14:16:53.652Z"
   },
   {
    "duration": 9,
    "start_time": "2025-04-30T14:17:03.911Z"
   },
   {
    "duration": 6,
    "start_time": "2025-04-30T14:17:18.255Z"
   },
   {
    "duration": 5,
    "start_time": "2025-04-30T14:17:58.344Z"
   },
   {
    "duration": 4,
    "start_time": "2025-04-30T14:18:00.746Z"
   },
   {
    "duration": 4,
    "start_time": "2025-04-30T14:18:14.469Z"
   },
   {
    "duration": 9,
    "start_time": "2025-04-30T14:18:33.263Z"
   },
   {
    "duration": 19,
    "start_time": "2025-04-30T14:33:33.076Z"
   },
   {
    "duration": 5187,
    "start_time": "2025-04-30T14:33:44.805Z"
   },
   {
    "duration": 5064,
    "start_time": "2025-04-30T14:34:05.982Z"
   },
   {
    "duration": 20,
    "start_time": "2025-04-30T14:34:13.189Z"
   },
   {
    "duration": 7,
    "start_time": "2025-04-30T14:34:14.683Z"
   },
   {
    "duration": 5,
    "start_time": "2025-04-30T14:34:15.785Z"
   },
   {
    "duration": 5,
    "start_time": "2025-04-30T14:34:16.789Z"
   },
   {
    "duration": 15,
    "start_time": "2025-04-30T14:34:53.586Z"
   },
   {
    "duration": 9,
    "start_time": "2025-04-30T14:34:54.362Z"
   },
   {
    "duration": 175,
    "start_time": "2025-04-30T14:38:25.417Z"
   },
   {
    "duration": 6830,
    "start_time": "2025-04-30T14:38:37.423Z"
   },
   {
    "duration": 6046,
    "start_time": "2025-04-30T14:38:54.833Z"
   },
   {
    "duration": 12,
    "start_time": "2025-04-30T14:39:02.058Z"
   },
   {
    "duration": 11,
    "start_time": "2025-04-30T14:39:03.004Z"
   },
   {
    "duration": 9,
    "start_time": "2025-04-30T14:39:29.641Z"
   },
   {
    "duration": 4,
    "start_time": "2025-04-30T14:44:05.955Z"
   },
   {
    "duration": 15,
    "start_time": "2025-04-30T14:44:40.514Z"
   },
   {
    "duration": 12,
    "start_time": "2025-04-30T14:44:52.376Z"
   },
   {
    "duration": 4,
    "start_time": "2025-04-30T14:45:03.841Z"
   },
   {
    "duration": 5,
    "start_time": "2025-04-30T14:45:36.717Z"
   },
   {
    "duration": 14,
    "start_time": "2025-04-30T15:05:44.200Z"
   },
   {
    "duration": 4,
    "start_time": "2025-04-30T15:05:56.741Z"
   },
   {
    "duration": 17,
    "start_time": "2025-04-30T15:06:06.306Z"
   },
   {
    "duration": 546,
    "start_time": "2025-04-30T15:07:38.810Z"
   },
   {
    "duration": 18,
    "start_time": "2025-04-30T15:09:17.592Z"
   },
   {
    "duration": 4,
    "start_time": "2025-04-30T15:09:28.996Z"
   },
   {
    "duration": 17,
    "start_time": "2025-04-30T15:09:48.663Z"
   },
   {
    "duration": 4,
    "start_time": "2025-04-30T15:09:56.702Z"
   },
   {
    "duration": 17,
    "start_time": "2025-04-30T15:10:23.275Z"
   },
   {
    "duration": 3,
    "start_time": "2025-04-30T15:10:33.712Z"
   },
   {
    "duration": 4,
    "start_time": "2025-04-30T15:13:39.521Z"
   },
   {
    "duration": 3,
    "start_time": "2025-04-30T15:15:12.791Z"
   },
   {
    "duration": 4,
    "start_time": "2025-04-30T15:15:40.743Z"
   },
   {
    "duration": 4,
    "start_time": "2025-04-30T15:16:45.431Z"
   },
   {
    "duration": 13,
    "start_time": "2025-04-30T15:21:41.939Z"
   },
   {
    "duration": 5,
    "start_time": "2025-04-30T15:22:27.714Z"
   },
   {
    "duration": 6,
    "start_time": "2025-04-30T15:23:51.542Z"
   },
   {
    "duration": 3,
    "start_time": "2025-04-30T15:26:40.183Z"
   },
   {
    "duration": 17,
    "start_time": "2025-04-30T15:26:41.509Z"
   },
   {
    "duration": 4,
    "start_time": "2025-04-30T15:26:41.940Z"
   },
   {
    "duration": 17,
    "start_time": "2025-04-30T15:26:42.154Z"
   },
   {
    "duration": 5,
    "start_time": "2025-04-30T15:26:42.334Z"
   },
   {
    "duration": 17,
    "start_time": "2025-04-30T15:26:42.541Z"
   },
   {
    "duration": 3,
    "start_time": "2025-04-30T15:26:42.732Z"
   },
   {
    "duration": 16,
    "start_time": "2025-04-30T15:26:42.942Z"
   },
   {
    "duration": 4,
    "start_time": "2025-04-30T15:26:43.167Z"
   },
   {
    "duration": 3,
    "start_time": "2025-04-30T15:26:43.934Z"
   },
   {
    "duration": 4,
    "start_time": "2025-04-30T15:26:45.219Z"
   },
   {
    "duration": 5,
    "start_time": "2025-04-30T15:26:47.302Z"
   },
   {
    "duration": 7,
    "start_time": "2025-04-30T15:51:22.432Z"
   },
   {
    "duration": 6,
    "start_time": "2025-04-30T15:51:32.387Z"
   },
   {
    "duration": 4,
    "start_time": "2025-04-30T15:51:47.318Z"
   },
   {
    "duration": 20,
    "start_time": "2025-04-30T15:54:33.400Z"
   },
   {
    "duration": 12,
    "start_time": "2025-04-30T15:54:38.357Z"
   },
   {
    "duration": 9,
    "start_time": "2025-04-30T15:54:45.507Z"
   },
   {
    "duration": 5,
    "start_time": "2025-04-30T15:54:53.552Z"
   },
   {
    "duration": 6,
    "start_time": "2025-04-30T15:54:54.145Z"
   },
   {
    "duration": 5,
    "start_time": "2025-04-30T15:54:54.782Z"
   },
   {
    "duration": 4,
    "start_time": "2025-04-30T15:54:55.401Z"
   },
   {
    "duration": 1057,
    "start_time": "2025-04-30T15:55:13.886Z"
   },
   {
    "duration": 6,
    "start_time": "2025-04-30T15:55:34.605Z"
   },
   {
    "duration": 6,
    "start_time": "2025-04-30T15:55:45.766Z"
   },
   {
    "duration": 11,
    "start_time": "2025-04-30T15:55:51.427Z"
   },
   {
    "duration": 158,
    "start_time": "2025-04-30T15:57:09.981Z"
   },
   {
    "duration": 8,
    "start_time": "2025-04-30T15:57:11.985Z"
   },
   {
    "duration": 8,
    "start_time": "2025-04-30T15:57:17.733Z"
   },
   {
    "duration": 4,
    "start_time": "2025-04-30T15:57:32.651Z"
   },
   {
    "duration": 5,
    "start_time": "2025-04-30T15:58:20.381Z"
   },
   {
    "duration": 73,
    "start_time": "2025-04-30T15:58:49.666Z"
   },
   {
    "duration": 33,
    "start_time": "2025-04-30T15:58:55.120Z"
   },
   {
    "duration": 37,
    "start_time": "2025-04-30T15:58:58.441Z"
   },
   {
    "duration": 10,
    "start_time": "2025-04-30T15:59:00.904Z"
   },
   {
    "duration": 9,
    "start_time": "2025-04-30T15:59:02.499Z"
   },
   {
    "duration": 5,
    "start_time": "2025-04-30T15:59:03.205Z"
   },
   {
    "duration": 7,
    "start_time": "2025-04-30T16:01:48.822Z"
   },
   {
    "duration": 7,
    "start_time": "2025-04-30T16:02:22.393Z"
   },
   {
    "duration": 8,
    "start_time": "2025-04-30T16:02:23.145Z"
   },
   {
    "duration": 5,
    "start_time": "2025-04-30T16:02:23.979Z"
   },
   {
    "duration": 5,
    "start_time": "2025-04-30T16:02:24.664Z"
   },
   {
    "duration": 4,
    "start_time": "2025-04-30T16:02:25.312Z"
   },
   {
    "duration": 3,
    "start_time": "2025-04-30T16:02:25.952Z"
   },
   {
    "duration": 5,
    "start_time": "2025-04-30T16:02:27.275Z"
   },
   {
    "duration": 6,
    "start_time": "2025-04-30T16:02:27.948Z"
   },
   {
    "duration": 17,
    "start_time": "2025-04-30T16:02:29.356Z"
   },
   {
    "duration": 23,
    "start_time": "2025-04-30T16:02:30.240Z"
   },
   {
    "duration": 34,
    "start_time": "2025-04-30T16:02:31.912Z"
   },
   {
    "duration": 10,
    "start_time": "2025-04-30T16:02:32.574Z"
   },
   {
    "duration": 9,
    "start_time": "2025-04-30T16:02:33.356Z"
   },
   {
    "duration": 5,
    "start_time": "2025-04-30T16:02:34.915Z"
   },
   {
    "duration": 15,
    "start_time": "2025-04-30T16:08:23.465Z"
   },
   {
    "duration": 24,
    "start_time": "2025-04-30T16:08:50.873Z"
   },
   {
    "duration": 4,
    "start_time": "2025-04-30T16:08:51.510Z"
   },
   {
    "duration": 17,
    "start_time": "2025-04-30T16:08:52.461Z"
   },
   {
    "duration": 4,
    "start_time": "2025-04-30T16:08:52.954Z"
   },
   {
    "duration": 17,
    "start_time": "2025-04-30T16:08:53.763Z"
   },
   {
    "duration": 4,
    "start_time": "2025-04-30T16:08:54.279Z"
   },
   {
    "duration": 17,
    "start_time": "2025-04-30T16:08:55.063Z"
   },
   {
    "duration": 4,
    "start_time": "2025-04-30T16:08:56.143Z"
   },
   {
    "duration": 3,
    "start_time": "2025-04-30T16:08:57.488Z"
   },
   {
    "duration": 1520,
    "start_time": "2025-04-30T16:48:38.449Z"
   },
   {
    "duration": 106,
    "start_time": "2025-04-30T16:48:54.233Z"
   },
   {
    "duration": 8,
    "start_time": "2025-04-30T16:49:02.389Z"
   },
   {
    "duration": 7,
    "start_time": "2025-04-30T16:49:20.408Z"
   },
   {
    "duration": 6,
    "start_time": "2025-04-30T16:49:36.814Z"
   },
   {
    "duration": 15,
    "start_time": "2025-04-30T16:50:43.036Z"
   },
   {
    "duration": 9,
    "start_time": "2025-04-30T16:51:06.813Z"
   },
   {
    "duration": 6,
    "start_time": "2025-04-30T16:51:21.929Z"
   },
   {
    "duration": 11,
    "start_time": "2025-04-30T16:51:37.290Z"
   },
   {
    "duration": 4,
    "start_time": "2025-04-30T16:51:49.570Z"
   },
   {
    "duration": 7,
    "start_time": "2025-04-30T16:52:06.909Z"
   },
   {
    "duration": 16,
    "start_time": "2025-04-30T16:52:25.677Z"
   },
   {
    "duration": 6,
    "start_time": "2025-04-30T16:53:09.590Z"
   },
   {
    "duration": 82,
    "start_time": "2025-04-30T16:54:18.056Z"
   },
   {
    "duration": 7,
    "start_time": "2025-04-30T16:54:30.977Z"
   },
   {
    "duration": 33,
    "start_time": "2025-04-30T16:54:45.891Z"
   },
   {
    "duration": 8,
    "start_time": "2025-04-30T16:55:03.149Z"
   },
   {
    "duration": 5,
    "start_time": "2025-04-30T16:55:17.394Z"
   },
   {
    "duration": 1520,
    "start_time": "2025-04-30T16:55:22.142Z"
   },
   {
    "duration": 19,
    "start_time": "2025-04-30T16:55:23.664Z"
   },
   {
    "duration": 1588,
    "start_time": "2025-04-30T16:55:33.792Z"
   },
   {
    "duration": 9,
    "start_time": "2025-04-30T16:55:35.382Z"
   },
   {
    "duration": 78,
    "start_time": "2025-04-30T16:55:35.404Z"
   },
   {
    "duration": 9,
    "start_time": "2025-04-30T16:55:37.869Z"
   },
   {
    "duration": 24,
    "start_time": "2025-04-30T16:55:38.554Z"
   },
   {
    "duration": 13,
    "start_time": "2025-04-30T16:55:39.260Z"
   },
   {
    "duration": 6,
    "start_time": "2025-04-30T16:55:39.814Z"
   },
   {
    "duration": 10,
    "start_time": "2025-04-30T16:55:40.487Z"
   },
   {
    "duration": 3,
    "start_time": "2025-04-30T16:55:41.236Z"
   },
   {
    "duration": 7,
    "start_time": "2025-04-30T16:55:41.894Z"
   },
   {
    "duration": 18,
    "start_time": "2025-04-30T16:55:42.751Z"
   },
   {
    "duration": 7,
    "start_time": "2025-04-30T16:55:44.981Z"
   },
   {
    "duration": 91,
    "start_time": "2025-04-30T16:55:45.690Z"
   },
   {
    "duration": 6,
    "start_time": "2025-04-30T16:55:46.415Z"
   },
   {
    "duration": 38,
    "start_time": "2025-04-30T16:55:47.146Z"
   },
   {
    "duration": 8,
    "start_time": "2025-04-30T16:55:47.918Z"
   },
   {
    "duration": 14,
    "start_time": "2025-04-30T16:56:03.537Z"
   },
   {
    "duration": 8,
    "start_time": "2025-04-30T16:56:21.674Z"
   },
   {
    "duration": 1558,
    "start_time": "2025-04-30T16:56:28.367Z"
   },
   {
    "duration": 22,
    "start_time": "2025-04-30T16:56:29.927Z"
   },
   {
    "duration": 235,
    "start_time": "2025-04-30T16:56:29.952Z"
   },
   {
    "duration": 12,
    "start_time": "2025-04-30T16:56:31.452Z"
   },
   {
    "duration": 12,
    "start_time": "2025-04-30T16:56:32.149Z"
   },
   {
    "duration": 11,
    "start_time": "2025-04-30T16:56:33.457Z"
   },
   {
    "duration": 9,
    "start_time": "2025-04-30T16:56:33.648Z"
   },
   {
    "duration": 6,
    "start_time": "2025-04-30T16:56:33.858Z"
   },
   {
    "duration": 5,
    "start_time": "2025-04-30T16:56:34.045Z"
   },
   {
    "duration": 7,
    "start_time": "2025-04-30T16:56:34.246Z"
   },
   {
    "duration": 9,
    "start_time": "2025-04-30T16:56:34.464Z"
   },
   {
    "duration": 12,
    "start_time": "2025-04-30T17:01:20.125Z"
   },
   {
    "duration": 10,
    "start_time": "2025-04-30T17:01:20.958Z"
   },
   {
    "duration": 6,
    "start_time": "2025-04-30T17:01:21.811Z"
   },
   {
    "duration": 6,
    "start_time": "2025-04-30T17:01:22.605Z"
   },
   {
    "duration": 8,
    "start_time": "2025-04-30T17:01:23.470Z"
   },
   {
    "duration": 8,
    "start_time": "2025-04-30T17:01:24.412Z"
   },
   {
    "duration": 6,
    "start_time": "2025-04-30T17:01:37.587Z"
   },
   {
    "duration": 5,
    "start_time": "2025-04-30T17:01:38.462Z"
   },
   {
    "duration": 87,
    "start_time": "2025-04-30T17:01:39.377Z"
   },
   {
    "duration": 21,
    "start_time": "2025-04-30T17:01:40.391Z"
   },
   {
    "duration": 38,
    "start_time": "2025-04-30T17:01:43.743Z"
   },
   {
    "duration": 9,
    "start_time": "2025-04-30T17:01:44.491Z"
   },
   {
    "duration": 7,
    "start_time": "2025-04-30T17:01:45.307Z"
   },
   {
    "duration": 5,
    "start_time": "2025-04-30T17:01:46.212Z"
   },
   {
    "duration": 1638,
    "start_time": "2025-04-30T17:02:23.888Z"
   },
   {
    "duration": 19,
    "start_time": "2025-04-30T17:02:25.528Z"
   },
   {
    "duration": 152,
    "start_time": "2025-04-30T17:02:25.548Z"
   },
   {
    "duration": 10,
    "start_time": "2025-04-30T17:02:27.462Z"
   },
   {
    "duration": 10,
    "start_time": "2025-04-30T17:02:28.933Z"
   },
   {
    "duration": 10,
    "start_time": "2025-04-30T17:02:30.968Z"
   },
   {
    "duration": 9,
    "start_time": "2025-04-30T17:02:31.816Z"
   },
   {
    "duration": 6,
    "start_time": "2025-04-30T17:02:32.600Z"
   },
   {
    "duration": 6,
    "start_time": "2025-04-30T17:02:33.270Z"
   },
   {
    "duration": 5,
    "start_time": "2025-04-30T17:02:33.991Z"
   },
   {
    "duration": 8,
    "start_time": "2025-04-30T17:02:35.086Z"
   },
   {
    "duration": 10,
    "start_time": "2025-04-30T17:03:18.800Z"
   },
   {
    "duration": 14,
    "start_time": "2025-04-30T17:04:19.822Z"
   },
   {
    "duration": 39,
    "start_time": "2025-04-30T17:04:43.110Z"
   },
   {
    "duration": 9,
    "start_time": "2025-04-30T17:06:26.325Z"
   },
   {
    "duration": 17,
    "start_time": "2025-04-30T17:09:48.060Z"
   },
   {
    "duration": 4,
    "start_time": "2025-04-30T17:09:50.389Z"
   },
   {
    "duration": 16,
    "start_time": "2025-04-30T17:10:00.138Z"
   },
   {
    "duration": 4,
    "start_time": "2025-04-30T17:10:00.779Z"
   },
   {
    "duration": 19,
    "start_time": "2025-04-30T17:10:23.579Z"
   },
   {
    "duration": 4,
    "start_time": "2025-04-30T17:10:24.192Z"
   },
   {
    "duration": 16,
    "start_time": "2025-04-30T17:10:36.753Z"
   },
   {
    "duration": 3,
    "start_time": "2025-04-30T17:10:37.724Z"
   },
   {
    "duration": 3,
    "start_time": "2025-04-30T17:10:47.691Z"
   },
   {
    "duration": 4,
    "start_time": "2025-04-30T17:10:52.157Z"
   },
   {
    "duration": 5,
    "start_time": "2025-04-30T17:10:56.500Z"
   },
   {
    "duration": 4,
    "start_time": "2025-04-30T17:11:45.695Z"
   },
   {
    "duration": 12,
    "start_time": "2025-04-30T17:11:45.701Z"
   },
   {
    "duration": 1204,
    "start_time": "2025-04-30T17:11:45.715Z"
   },
   {
    "duration": 80,
    "start_time": "2025-04-30T17:11:46.921Z"
   },
   {
    "duration": 5,
    "start_time": "2025-04-30T17:11:47.003Z"
   },
   {
    "duration": 8,
    "start_time": "2025-04-30T17:11:47.010Z"
   },
   {
    "duration": 17,
    "start_time": "2025-04-30T17:11:47.019Z"
   },
   {
    "duration": 4,
    "start_time": "2025-04-30T17:11:47.038Z"
   },
   {
    "duration": 22,
    "start_time": "2025-04-30T17:11:47.044Z"
   },
   {
    "duration": 39,
    "start_time": "2025-04-30T17:11:47.068Z"
   },
   {
    "duration": 26,
    "start_time": "2025-04-30T17:11:47.109Z"
   },
   {
    "duration": 22,
    "start_time": "2025-04-30T17:11:47.136Z"
   },
   {
    "duration": 17,
    "start_time": "2025-04-30T17:11:47.159Z"
   },
   {
    "duration": 211,
    "start_time": "2025-04-30T17:11:47.179Z"
   },
   {
    "duration": 201,
    "start_time": "2025-04-30T17:11:47.392Z"
   },
   {
    "duration": 242,
    "start_time": "2025-04-30T17:11:47.596Z"
   },
   {
    "duration": 3,
    "start_time": "2025-04-30T17:11:47.840Z"
   },
   {
    "duration": 9,
    "start_time": "2025-04-30T17:11:47.845Z"
   },
   {
    "duration": 6,
    "start_time": "2025-04-30T17:11:47.856Z"
   },
   {
    "duration": 9,
    "start_time": "2025-04-30T17:11:47.863Z"
   },
   {
    "duration": 7,
    "start_time": "2025-04-30T17:11:47.873Z"
   },
   {
    "duration": 1691,
    "start_time": "2025-04-30T17:11:47.882Z"
   },
   {
    "duration": 30,
    "start_time": "2025-04-30T17:11:49.575Z"
   },
   {
    "duration": 146,
    "start_time": "2025-04-30T17:11:49.608Z"
   },
   {
    "duration": 8,
    "start_time": "2025-04-30T17:11:49.756Z"
   },
   {
    "duration": 14,
    "start_time": "2025-04-30T17:11:49.766Z"
   },
   {
    "duration": 28,
    "start_time": "2025-04-30T17:11:49.781Z"
   },
   {
    "duration": 9,
    "start_time": "2025-04-30T17:11:49.810Z"
   },
   {
    "duration": 18,
    "start_time": "2025-04-30T17:11:49.821Z"
   },
   {
    "duration": 8,
    "start_time": "2025-04-30T17:11:49.840Z"
   },
   {
    "duration": 18,
    "start_time": "2025-04-30T17:11:49.849Z"
   },
   {
    "duration": 41,
    "start_time": "2025-04-30T17:11:49.868Z"
   },
   {
    "duration": 11,
    "start_time": "2025-04-30T17:11:49.911Z"
   },
   {
    "duration": 16,
    "start_time": "2025-04-30T17:11:49.924Z"
   },
   {
    "duration": 127,
    "start_time": "2025-04-30T17:11:49.943Z"
   },
   {
    "duration": 82,
    "start_time": "2025-04-30T17:11:50.072Z"
   },
   {
    "duration": 32,
    "start_time": "2025-04-30T17:11:50.156Z"
   },
   {
    "duration": 9,
    "start_time": "2025-04-30T17:11:50.190Z"
   },
   {
    "duration": 50,
    "start_time": "2025-04-30T17:11:50.201Z"
   },
   {
    "duration": 33,
    "start_time": "2025-04-30T17:11:50.252Z"
   },
   {
    "duration": 39,
    "start_time": "2025-04-30T17:11:50.289Z"
   },
   {
    "duration": 16,
    "start_time": "2025-04-30T17:11:50.330Z"
   },
   {
    "duration": 20,
    "start_time": "2025-04-30T17:11:50.348Z"
   },
   {
    "duration": 38,
    "start_time": "2025-04-30T17:11:50.370Z"
   },
   {
    "duration": 29,
    "start_time": "2025-04-30T17:11:50.409Z"
   },
   {
    "duration": 5,
    "start_time": "2025-04-30T17:11:50.439Z"
   },
   {
    "duration": 22,
    "start_time": "2025-04-30T17:11:50.445Z"
   },
   {
    "duration": 4,
    "start_time": "2025-04-30T17:11:50.469Z"
   },
   {
    "duration": 39,
    "start_time": "2025-04-30T17:11:50.475Z"
   },
   {
    "duration": 4,
    "start_time": "2025-04-30T17:11:50.515Z"
   },
   {
    "duration": 4,
    "start_time": "2025-04-30T17:11:50.521Z"
   },
   {
    "duration": 4,
    "start_time": "2025-04-30T17:11:50.526Z"
   },
   {
    "duration": 12,
    "start_time": "2025-04-30T17:11:50.532Z"
   },
   {
    "duration": 2,
    "start_time": "2025-04-30T17:11:56.783Z"
   },
   {
    "duration": 3,
    "start_time": "2025-04-30T17:11:57.282Z"
   },
   {
    "duration": 4,
    "start_time": "2025-04-30T17:11:58.299Z"
   },
   {
    "duration": 57,
    "start_time": "2025-04-30T17:11:58.954Z"
   },
   {
    "duration": 6,
    "start_time": "2025-04-30T17:11:59.798Z"
   },
   {
    "duration": 5,
    "start_time": "2025-04-30T17:12:01.248Z"
   },
   {
    "duration": 12,
    "start_time": "2025-04-30T17:12:01.910Z"
   },
   {
    "duration": 6,
    "start_time": "2025-04-30T17:12:03.564Z"
   },
   {
    "duration": 25,
    "start_time": "2025-04-30T17:12:04.252Z"
   },
   {
    "duration": 5,
    "start_time": "2025-04-30T17:12:04.995Z"
   },
   {
    "duration": 18,
    "start_time": "2025-04-30T17:12:05.747Z"
   },
   {
    "duration": 18,
    "start_time": "2025-04-30T17:12:07.351Z"
   },
   {
    "duration": 19,
    "start_time": "2025-04-30T17:12:08.167Z"
   },
   {
    "duration": 177,
    "start_time": "2025-04-30T17:12:08.998Z"
   },
   {
    "duration": 175,
    "start_time": "2025-04-30T17:12:09.714Z"
   },
   {
    "duration": 221,
    "start_time": "2025-04-30T17:12:10.785Z"
   },
   {
    "duration": 3,
    "start_time": "2025-04-30T17:12:11.989Z"
   },
   {
    "duration": 3,
    "start_time": "2025-04-30T17:12:12.951Z"
   },
   {
    "duration": 5,
    "start_time": "2025-04-30T17:12:14.514Z"
   },
   {
    "duration": 3,
    "start_time": "2025-04-30T17:12:15.202Z"
   },
   {
    "duration": 4,
    "start_time": "2025-04-30T17:12:16.181Z"
   },
   {
    "duration": 1540,
    "start_time": "2025-04-30T17:12:22.047Z"
   },
   {
    "duration": 24,
    "start_time": "2025-04-30T17:12:23.589Z"
   },
   {
    "duration": 126,
    "start_time": "2025-04-30T17:12:23.750Z"
   },
   {
    "duration": 8,
    "start_time": "2025-04-30T17:12:25.713Z"
   },
   {
    "duration": 9,
    "start_time": "2025-04-30T17:12:26.620Z"
   },
   {
    "duration": 9,
    "start_time": "2025-04-30T17:12:28.661Z"
   },
   {
    "duration": 9,
    "start_time": "2025-04-30T17:12:29.408Z"
   },
   {
    "duration": 6,
    "start_time": "2025-04-30T17:12:30.174Z"
   },
   {
    "duration": 6,
    "start_time": "2025-04-30T17:12:30.938Z"
   },
   {
    "duration": 5,
    "start_time": "2025-04-30T17:12:31.656Z"
   },
   {
    "duration": 9,
    "start_time": "2025-04-30T17:12:32.444Z"
   },
   {
    "duration": 12,
    "start_time": "2025-04-30T17:12:51.327Z"
   },
   {
    "duration": 10,
    "start_time": "2025-04-30T17:12:52.992Z"
   },
   {
    "duration": 9,
    "start_time": "2025-04-30T17:12:53.889Z"
   },
   {
    "duration": 6,
    "start_time": "2025-04-30T17:12:55.078Z"
   },
   {
    "duration": 5,
    "start_time": "2025-04-30T17:12:55.783Z"
   },
   {
    "duration": 5,
    "start_time": "2025-04-30T17:12:56.378Z"
   },
   {
    "duration": 4,
    "start_time": "2025-04-30T17:12:57.289Z"
   },
   {
    "duration": 5,
    "start_time": "2025-04-30T17:12:59.117Z"
   },
   {
    "duration": 7,
    "start_time": "2025-04-30T17:12:59.839Z"
   },
   {
    "duration": 78,
    "start_time": "2025-04-30T17:13:00.505Z"
   },
   {
    "duration": 21,
    "start_time": "2025-04-30T17:13:01.715Z"
   },
   {
    "duration": 35,
    "start_time": "2025-04-30T17:13:03.237Z"
   },
   {
    "duration": 8,
    "start_time": "2025-04-30T17:13:04.003Z"
   },
   {
    "duration": 8,
    "start_time": "2025-04-30T17:13:04.753Z"
   },
   {
    "duration": 15,
    "start_time": "2025-04-30T17:13:05.507Z"
   },
   {
    "duration": 35,
    "start_time": "2025-04-30T17:13:06.490Z"
   },
   {
    "duration": 16,
    "start_time": "2025-04-30T17:13:07.954Z"
   },
   {
    "duration": 18,
    "start_time": "2025-04-30T17:13:10.970Z"
   },
   {
    "duration": 4,
    "start_time": "2025-04-30T17:13:11.687Z"
   },
   {
    "duration": 16,
    "start_time": "2025-04-30T17:13:12.422Z"
   },
   {
    "duration": 4,
    "start_time": "2025-04-30T17:13:13.267Z"
   },
   {
    "duration": 17,
    "start_time": "2025-04-30T17:13:17.646Z"
   },
   {
    "duration": 4,
    "start_time": "2025-04-30T17:13:18.689Z"
   },
   {
    "duration": 16,
    "start_time": "2025-04-30T17:13:19.961Z"
   },
   {
    "duration": 4,
    "start_time": "2025-04-30T17:13:20.646Z"
   },
   {
    "duration": 3,
    "start_time": "2025-04-30T17:13:23.784Z"
   },
   {
    "duration": 4,
    "start_time": "2025-04-30T17:13:27.978Z"
   },
   {
    "duration": 6,
    "start_time": "2025-04-30T17:13:31.588Z"
   },
   {
    "duration": 8,
    "start_time": "2025-04-30T17:16:41.496Z"
   },
   {
    "duration": 8,
    "start_time": "2025-04-30T17:18:08.394Z"
   },
   {
    "duration": 112,
    "start_time": "2025-04-30T17:18:52.197Z"
   },
   {
    "duration": 15,
    "start_time": "2025-04-30T17:18:58.307Z"
   },
   {
    "duration": 14,
    "start_time": "2025-04-30T17:19:52.425Z"
   },
   {
    "duration": 23,
    "start_time": "2025-04-30T17:20:03.544Z"
   },
   {
    "duration": 103,
    "start_time": "2025-04-30T17:22:01.147Z"
   },
   {
    "duration": 8,
    "start_time": "2025-04-30T17:22:10.537Z"
   },
   {
    "duration": 6,
    "start_time": "2025-04-30T17:25:46.153Z"
   },
   {
    "duration": 15,
    "start_time": "2025-04-30T17:26:22.649Z"
   },
   {
    "duration": 7,
    "start_time": "2025-04-30T17:26:40.012Z"
   },
   {
    "duration": 15,
    "start_time": "2025-04-30T17:26:46.027Z"
   },
   {
    "duration": 22,
    "start_time": "2025-04-30T17:26:46.684Z"
   },
   {
    "duration": 40,
    "start_time": "2025-04-30T17:28:07.655Z"
   },
   {
    "duration": 8,
    "start_time": "2025-04-30T17:28:09.245Z"
   },
   {
    "duration": 7,
    "start_time": "2025-04-30T17:28:12.636Z"
   },
   {
    "duration": 15,
    "start_time": "2025-04-30T17:28:13.342Z"
   },
   {
    "duration": 42,
    "start_time": "2025-04-30T17:28:17.696Z"
   },
   {
    "duration": 30,
    "start_time": "2025-04-30T17:28:52.716Z"
   },
   {
    "duration": 8,
    "start_time": "2025-04-30T17:30:27.585Z"
   },
   {
    "duration": 17,
    "start_time": "2025-04-30T17:31:28.905Z"
   },
   {
    "duration": 49,
    "start_time": "2025-04-30T17:31:30.401Z"
   },
   {
    "duration": 17,
    "start_time": "2025-04-30T17:31:41.062Z"
   },
   {
    "duration": 17,
    "start_time": "2025-04-30T17:33:21.800Z"
   },
   {
    "duration": 5,
    "start_time": "2025-04-30T17:33:23.354Z"
   },
   {
    "duration": 15,
    "start_time": "2025-04-30T17:33:24.164Z"
   },
   {
    "duration": 4,
    "start_time": "2025-04-30T17:33:24.774Z"
   },
   {
    "duration": 27,
    "start_time": "2025-04-30T17:33:27.853Z"
   },
   {
    "duration": 5,
    "start_time": "2025-04-30T17:33:28.556Z"
   },
   {
    "duration": 26,
    "start_time": "2025-04-30T17:33:32.302Z"
   },
   {
    "duration": 4,
    "start_time": "2025-04-30T17:33:33.219Z"
   },
   {
    "duration": 3,
    "start_time": "2025-04-30T17:33:37.004Z"
   },
   {
    "duration": 4,
    "start_time": "2025-04-30T17:34:01.214Z"
   },
   {
    "duration": 4,
    "start_time": "2025-04-30T17:35:21.560Z"
   },
   {
    "duration": 4,
    "start_time": "2025-04-30T17:36:40.706Z"
   },
   {
    "duration": 6,
    "start_time": "2025-04-30T17:38:17.479Z"
   },
   {
    "duration": 5,
    "start_time": "2025-04-30T17:40:00.297Z"
   },
   {
    "duration": 4,
    "start_time": "2025-04-30T17:43:48.404Z"
   },
   {
    "duration": 3,
    "start_time": "2025-04-30T17:43:48.410Z"
   },
   {
    "duration": 1279,
    "start_time": "2025-04-30T17:43:48.415Z"
   },
   {
    "duration": 111,
    "start_time": "2025-04-30T17:43:49.696Z"
   },
   {
    "duration": 5,
    "start_time": "2025-04-30T17:43:49.810Z"
   },
   {
    "duration": 14,
    "start_time": "2025-04-30T17:43:49.816Z"
   },
   {
    "duration": 11,
    "start_time": "2025-04-30T17:43:49.832Z"
   },
   {
    "duration": 5,
    "start_time": "2025-04-30T17:43:49.845Z"
   },
   {
    "duration": 18,
    "start_time": "2025-04-30T17:43:49.852Z"
   },
   {
    "duration": 35,
    "start_time": "2025-04-30T17:43:49.871Z"
   },
   {
    "duration": 20,
    "start_time": "2025-04-30T17:43:49.908Z"
   },
   {
    "duration": 19,
    "start_time": "2025-04-30T17:43:49.929Z"
   },
   {
    "duration": 20,
    "start_time": "2025-04-30T17:43:49.950Z"
   },
   {
    "duration": 198,
    "start_time": "2025-04-30T17:43:50.003Z"
   },
   {
    "duration": 184,
    "start_time": "2025-04-30T17:43:50.203Z"
   },
   {
    "duration": 227,
    "start_time": "2025-04-30T17:43:50.389Z"
   },
   {
    "duration": 3,
    "start_time": "2025-04-30T17:43:50.618Z"
   },
   {
    "duration": 25,
    "start_time": "2025-04-30T17:43:50.623Z"
   },
   {
    "duration": 23,
    "start_time": "2025-04-30T17:43:50.650Z"
   },
   {
    "duration": 24,
    "start_time": "2025-04-30T17:43:50.675Z"
   },
   {
    "duration": 5,
    "start_time": "2025-04-30T17:43:50.701Z"
   },
   {
    "duration": 1556,
    "start_time": "2025-04-30T17:43:50.708Z"
   },
   {
    "duration": 18,
    "start_time": "2025-04-30T17:43:52.266Z"
   },
   {
    "duration": 188,
    "start_time": "2025-04-30T17:43:52.286Z"
   },
   {
    "duration": 9,
    "start_time": "2025-04-30T17:43:52.476Z"
   },
   {
    "duration": 8,
    "start_time": "2025-04-30T17:43:52.504Z"
   },
   {
    "duration": 10,
    "start_time": "2025-04-30T17:43:52.514Z"
   },
   {
    "duration": 12,
    "start_time": "2025-04-30T17:43:52.526Z"
   },
   {
    "duration": 9,
    "start_time": "2025-04-30T17:43:52.540Z"
   },
   {
    "duration": 8,
    "start_time": "2025-04-30T17:43:52.551Z"
   },
   {
    "duration": 6,
    "start_time": "2025-04-30T17:43:52.561Z"
   },
   {
    "duration": 39,
    "start_time": "2025-04-30T17:43:52.568Z"
   },
   {
    "duration": 26,
    "start_time": "2025-04-30T17:43:52.609Z"
   },
   {
    "duration": 7,
    "start_time": "2025-04-30T17:43:52.637Z"
   },
   {
    "duration": 9,
    "start_time": "2025-04-30T17:43:52.645Z"
   },
   {
    "duration": 75,
    "start_time": "2025-04-30T17:43:52.656Z"
   },
   {
    "duration": 21,
    "start_time": "2025-04-30T17:43:52.733Z"
   },
   {
    "duration": 53,
    "start_time": "2025-04-30T17:43:52.756Z"
   },
   {
    "duration": 9,
    "start_time": "2025-04-30T17:43:52.810Z"
   },
   {
    "duration": 25,
    "start_time": "2025-04-30T17:43:52.820Z"
   },
   {
    "duration": 42,
    "start_time": "2025-04-30T17:43:52.849Z"
   },
   {
    "duration": 17,
    "start_time": "2025-04-30T17:43:52.904Z"
   },
   {
    "duration": 18,
    "start_time": "2025-04-30T17:43:52.922Z"
   },
   {
    "duration": 42,
    "start_time": "2025-04-30T17:43:52.942Z"
   },
   {
    "duration": 25,
    "start_time": "2025-04-30T17:43:52.986Z"
   },
   {
    "duration": 5,
    "start_time": "2025-04-30T17:43:53.013Z"
   },
   {
    "duration": 29,
    "start_time": "2025-04-30T17:43:53.020Z"
   },
   {
    "duration": 5,
    "start_time": "2025-04-30T17:43:53.051Z"
   },
   {
    "duration": 25,
    "start_time": "2025-04-30T17:43:53.058Z"
   },
   {
    "duration": 20,
    "start_time": "2025-04-30T17:43:53.085Z"
   },
   {
    "duration": 5,
    "start_time": "2025-04-30T17:43:53.107Z"
   },
   {
    "duration": 13,
    "start_time": "2025-04-30T17:43:53.114Z"
   },
   {
    "duration": 8,
    "start_time": "2025-04-30T17:43:53.128Z"
   },
   {
    "duration": 6,
    "start_time": "2025-04-30T17:43:53.138Z"
   },
   {
    "duration": 3,
    "start_time": "2025-04-30T17:43:58.213Z"
   },
   {
    "duration": 3,
    "start_time": "2025-04-30T17:43:58.268Z"
   },
   {
    "duration": 4,
    "start_time": "2025-04-30T17:43:59.212Z"
   },
   {
    "duration": 61,
    "start_time": "2025-04-30T17:44:00.034Z"
   },
   {
    "duration": 4,
    "start_time": "2025-04-30T17:44:00.774Z"
   },
   {
    "duration": 5,
    "start_time": "2025-04-30T17:44:02.106Z"
   },
   {
    "duration": 13,
    "start_time": "2025-04-30T17:44:02.729Z"
   },
   {
    "duration": 5,
    "start_time": "2025-04-30T17:44:03.906Z"
   },
   {
    "duration": 17,
    "start_time": "2025-04-30T17:44:04.411Z"
   },
   {
    "duration": 5,
    "start_time": "2025-04-30T17:44:05.001Z"
   },
   {
    "duration": 24,
    "start_time": "2025-04-30T17:44:05.598Z"
   },
   {
    "duration": 19,
    "start_time": "2025-04-30T17:44:06.865Z"
   },
   {
    "duration": 18,
    "start_time": "2025-04-30T17:44:07.517Z"
   },
   {
    "duration": 200,
    "start_time": "2025-04-30T17:44:08.234Z"
   },
   {
    "duration": 168,
    "start_time": "2025-04-30T17:44:08.974Z"
   },
   {
    "duration": 213,
    "start_time": "2025-04-30T17:44:09.673Z"
   },
   {
    "duration": 3,
    "start_time": "2025-04-30T17:44:10.398Z"
   },
   {
    "duration": 3,
    "start_time": "2025-04-30T17:44:11.131Z"
   },
   {
    "duration": 4,
    "start_time": "2025-04-30T17:44:12.418Z"
   },
   {
    "duration": 3,
    "start_time": "2025-04-30T17:44:12.990Z"
   },
   {
    "duration": 4,
    "start_time": "2025-04-30T17:44:13.572Z"
   },
   {
    "duration": 1503,
    "start_time": "2025-04-30T17:44:18.439Z"
   },
   {
    "duration": 19,
    "start_time": "2025-04-30T17:44:19.944Z"
   },
   {
    "duration": 141,
    "start_time": "2025-04-30T17:44:19.965Z"
   },
   {
    "duration": 8,
    "start_time": "2025-04-30T17:44:21.184Z"
   },
   {
    "duration": 7,
    "start_time": "2025-04-30T17:44:22.411Z"
   },
   {
    "duration": 9,
    "start_time": "2025-04-30T17:44:23.529Z"
   },
   {
    "duration": 10,
    "start_time": "2025-04-30T17:44:24.150Z"
   },
   {
    "duration": 8,
    "start_time": "2025-04-30T17:44:24.733Z"
   },
   {
    "duration": 6,
    "start_time": "2025-04-30T17:44:25.949Z"
   },
   {
    "duration": 6,
    "start_time": "2025-04-30T17:44:26.610Z"
   },
   {
    "duration": 5,
    "start_time": "2025-04-30T17:44:27.189Z"
   },
   {
    "duration": 5,
    "start_time": "2025-04-30T17:44:27.767Z"
   },
   {
    "duration": 5,
    "start_time": "2025-04-30T17:44:29.576Z"
   },
   {
    "duration": 6,
    "start_time": "2025-04-30T17:44:30.271Z"
   },
   {
    "duration": 80,
    "start_time": "2025-04-30T17:44:31.052Z"
   },
   {
    "duration": 26,
    "start_time": "2025-04-30T17:44:31.745Z"
   },
   {
    "duration": 33,
    "start_time": "2025-04-30T17:44:33.180Z"
   },
   {
    "duration": 8,
    "start_time": "2025-04-30T17:44:33.758Z"
   },
   {
    "duration": 13,
    "start_time": "2025-04-30T17:44:34.308Z"
   },
   {
    "duration": 42,
    "start_time": "2025-04-30T17:44:34.882Z"
   },
   {
    "duration": 17,
    "start_time": "2025-04-30T17:44:36.039Z"
   },
   {
    "duration": 18,
    "start_time": "2025-04-30T17:44:37.386Z"
   },
   {
    "duration": 4,
    "start_time": "2025-04-30T17:44:38.056Z"
   },
   {
    "duration": 16,
    "start_time": "2025-04-30T17:44:38.685Z"
   },
   {
    "duration": 4,
    "start_time": "2025-04-30T17:44:39.281Z"
   },
   {
    "duration": 18,
    "start_time": "2025-04-30T17:44:39.908Z"
   },
   {
    "duration": 5,
    "start_time": "2025-04-30T17:44:40.693Z"
   },
   {
    "duration": 16,
    "start_time": "2025-04-30T17:44:41.346Z"
   },
   {
    "duration": 4,
    "start_time": "2025-04-30T17:44:41.939Z"
   },
   {
    "duration": 4,
    "start_time": "2025-04-30T17:44:42.518Z"
   },
   {
    "duration": 5,
    "start_time": "2025-04-30T17:44:43.221Z"
   },
   {
    "duration": 4,
    "start_time": "2025-04-30T17:44:44.005Z"
   },
   {
    "duration": 8,
    "start_time": "2025-04-30T17:44:48.241Z"
   },
   {
    "duration": 7,
    "start_time": "2025-05-01T10:30:52.864Z"
   },
   {
    "duration": 3,
    "start_time": "2025-05-01T10:30:52.873Z"
   },
   {
    "duration": 5,
    "start_time": "2025-05-01T10:30:52.877Z"
   },
   {
    "duration": 66,
    "start_time": "2025-05-01T10:30:52.883Z"
   },
   {
    "duration": 6,
    "start_time": "2025-05-01T10:30:52.951Z"
   },
   {
    "duration": 15,
    "start_time": "2025-05-01T10:30:52.959Z"
   },
   {
    "duration": 27,
    "start_time": "2025-05-01T10:30:52.976Z"
   },
   {
    "duration": 5,
    "start_time": "2025-05-01T10:30:53.005Z"
   },
   {
    "duration": 26,
    "start_time": "2025-05-01T10:30:53.012Z"
   },
   {
    "duration": 5,
    "start_time": "2025-05-01T10:30:53.040Z"
   },
   {
    "duration": 17,
    "start_time": "2025-05-01T10:30:53.047Z"
   },
   {
    "duration": 17,
    "start_time": "2025-05-01T10:30:53.066Z"
   },
   {
    "duration": 21,
    "start_time": "2025-05-01T10:30:53.085Z"
   },
   {
    "duration": 176,
    "start_time": "2025-05-01T10:30:53.136Z"
   },
   {
    "duration": 176,
    "start_time": "2025-05-01T10:30:53.314Z"
   },
   {
    "duration": 216,
    "start_time": "2025-05-01T10:30:53.492Z"
   },
   {
    "duration": 3,
    "start_time": "2025-05-01T10:30:53.710Z"
   },
   {
    "duration": 7,
    "start_time": "2025-05-01T10:30:53.715Z"
   },
   {
    "duration": 4,
    "start_time": "2025-05-01T10:30:53.736Z"
   },
   {
    "duration": 4,
    "start_time": "2025-05-01T10:30:53.741Z"
   },
   {
    "duration": 6,
    "start_time": "2025-05-01T10:30:53.746Z"
   },
   {
    "duration": 1446,
    "start_time": "2025-05-01T10:30:53.753Z"
   },
   {
    "duration": 17,
    "start_time": "2025-05-01T10:30:55.201Z"
   },
   {
    "duration": 140,
    "start_time": "2025-05-01T10:30:55.220Z"
   },
   {
    "duration": 7,
    "start_time": "2025-05-01T10:30:55.362Z"
   },
   {
    "duration": 93,
    "start_time": "2025-05-01T10:30:55.371Z"
   },
   {
    "duration": 22,
    "start_time": "2025-05-01T10:30:55.465Z"
   },
   {
    "duration": 23,
    "start_time": "2025-05-01T10:30:55.488Z"
   },
   {
    "duration": 8,
    "start_time": "2025-05-01T10:30:55.513Z"
   },
   {
    "duration": 6,
    "start_time": "2025-05-01T10:30:55.522Z"
   },
   {
    "duration": 6,
    "start_time": "2025-05-01T10:30:55.530Z"
   },
   {
    "duration": 6,
    "start_time": "2025-05-01T10:30:55.538Z"
   },
   {
    "duration": 12,
    "start_time": "2025-05-01T10:30:55.546Z"
   },
   {
    "duration": 5,
    "start_time": "2025-05-01T10:30:55.560Z"
   },
   {
    "duration": 7,
    "start_time": "2025-05-01T10:30:55.566Z"
   },
   {
    "duration": 81,
    "start_time": "2025-05-01T10:30:55.575Z"
   },
   {
    "duration": 21,
    "start_time": "2025-05-01T10:30:55.658Z"
   },
   {
    "duration": 28,
    "start_time": "2025-05-01T10:30:55.680Z"
   },
   {
    "duration": 28,
    "start_time": "2025-05-01T10:30:55.710Z"
   },
   {
    "duration": 14,
    "start_time": "2025-05-01T10:30:55.739Z"
   },
   {
    "duration": 37,
    "start_time": "2025-05-01T10:30:55.755Z"
   },
   {
    "duration": 43,
    "start_time": "2025-05-01T10:30:55.794Z"
   },
   {
    "duration": 17,
    "start_time": "2025-05-01T10:30:55.838Z"
   },
   {
    "duration": 4,
    "start_time": "2025-05-01T10:30:55.856Z"
   },
   {
    "duration": 21,
    "start_time": "2025-05-01T10:30:55.861Z"
   },
   {
    "duration": 4,
    "start_time": "2025-05-01T10:30:55.883Z"
   },
   {
    "duration": 60,
    "start_time": "2025-05-01T10:30:55.888Z"
   },
   {
    "duration": 4,
    "start_time": "2025-05-01T10:30:55.949Z"
   },
   {
    "duration": 16,
    "start_time": "2025-05-01T10:30:55.955Z"
   },
   {
    "duration": 4,
    "start_time": "2025-05-01T10:30:55.973Z"
   },
   {
    "duration": 20,
    "start_time": "2025-05-01T10:30:55.978Z"
   },
   {
    "duration": 15,
    "start_time": "2025-05-01T10:30:55.999Z"
   },
   {
    "duration": 5,
    "start_time": "2025-05-01T10:30:56.015Z"
   },
   {
    "duration": 17,
    "start_time": "2025-05-01T10:30:56.021Z"
   },
   {
    "duration": 3,
    "start_time": "2025-05-01T10:35:26.207Z"
   },
   {
    "duration": 10,
    "start_time": "2025-05-01T10:35:26.212Z"
   },
   {
    "duration": 1190,
    "start_time": "2025-05-01T10:35:26.223Z"
   },
   {
    "duration": 62,
    "start_time": "2025-05-01T10:35:27.415Z"
   },
   {
    "duration": 4,
    "start_time": "2025-05-01T10:35:27.479Z"
   },
   {
    "duration": 5,
    "start_time": "2025-05-01T10:35:27.485Z"
   },
   {
    "duration": 13,
    "start_time": "2025-05-01T10:35:27.491Z"
   },
   {
    "duration": 5,
    "start_time": "2025-05-01T10:35:27.505Z"
   },
   {
    "duration": 26,
    "start_time": "2025-05-01T10:35:27.511Z"
   },
   {
    "duration": 4,
    "start_time": "2025-05-01T10:35:27.539Z"
   },
   {
    "duration": 18,
    "start_time": "2025-05-01T10:35:27.545Z"
   },
   {
    "duration": 16,
    "start_time": "2025-05-01T10:35:27.565Z"
   },
   {
    "duration": 17,
    "start_time": "2025-05-01T10:35:27.584Z"
   },
   {
    "duration": 214,
    "start_time": "2025-05-01T10:35:27.602Z"
   },
   {
    "duration": 173,
    "start_time": "2025-05-01T10:35:27.818Z"
   },
   {
    "duration": 218,
    "start_time": "2025-05-01T10:35:27.993Z"
   },
   {
    "duration": 3,
    "start_time": "2025-05-01T10:35:28.213Z"
   },
   {
    "duration": 4,
    "start_time": "2025-05-01T10:35:28.218Z"
   },
   {
    "duration": 22,
    "start_time": "2025-05-01T10:35:28.224Z"
   },
   {
    "duration": 88,
    "start_time": "2025-05-01T10:35:28.247Z"
   },
   {
    "duration": 6,
    "start_time": "2025-05-01T10:35:28.337Z"
   },
   {
    "duration": 1461,
    "start_time": "2025-05-01T10:35:28.345Z"
   },
   {
    "duration": 29,
    "start_time": "2025-05-01T10:35:29.808Z"
   },
   {
    "duration": 131,
    "start_time": "2025-05-01T10:35:29.839Z"
   },
   {
    "duration": 7,
    "start_time": "2025-05-01T10:35:29.971Z"
   },
   {
    "duration": 15,
    "start_time": "2025-05-01T10:35:29.980Z"
   },
   {
    "duration": 10,
    "start_time": "2025-05-01T10:35:29.997Z"
   },
   {
    "duration": 112,
    "start_time": "2025-05-01T10:35:30.008Z"
   },
   {
    "duration": 27,
    "start_time": "2025-05-01T10:35:30.121Z"
   },
   {
    "duration": 13,
    "start_time": "2025-05-01T10:35:30.149Z"
   },
   {
    "duration": 51,
    "start_time": "2025-05-01T10:35:30.163Z"
   },
   {
    "duration": 31,
    "start_time": "2025-05-01T10:35:30.215Z"
   },
   {
    "duration": 114,
    "start_time": "2025-05-01T10:35:30.247Z"
   },
   {
    "duration": 50,
    "start_time": "2025-05-01T10:35:30.362Z"
   },
   {
    "duration": 31,
    "start_time": "2025-05-01T10:35:30.414Z"
   },
   {
    "duration": 78,
    "start_time": "2025-05-01T10:35:30.447Z"
   },
   {
    "duration": 26,
    "start_time": "2025-05-01T10:35:30.529Z"
   },
   {
    "duration": 30,
    "start_time": "2025-05-01T10:35:30.557Z"
   },
   {
    "duration": 7,
    "start_time": "2025-05-01T10:35:30.589Z"
   },
   {
    "duration": 36,
    "start_time": "2025-05-01T10:35:30.598Z"
   },
   {
    "duration": 41,
    "start_time": "2025-05-01T10:35:30.635Z"
   },
   {
    "duration": 15,
    "start_time": "2025-05-01T10:35:30.678Z"
   },
   {
    "duration": 43,
    "start_time": "2025-05-01T10:35:30.695Z"
   },
   {
    "duration": 15,
    "start_time": "2025-05-01T10:35:30.739Z"
   },
   {
    "duration": 21,
    "start_time": "2025-05-01T10:35:30.756Z"
   },
   {
    "duration": 18,
    "start_time": "2025-05-01T10:35:30.779Z"
   },
   {
    "duration": 25,
    "start_time": "2025-05-01T10:35:30.799Z"
   },
   {
    "duration": 8,
    "start_time": "2025-05-01T10:35:30.825Z"
   },
   {
    "duration": 32,
    "start_time": "2025-05-01T10:35:30.835Z"
   },
   {
    "duration": 17,
    "start_time": "2025-05-01T10:35:30.868Z"
   },
   {
    "duration": 22,
    "start_time": "2025-05-01T10:35:30.887Z"
   },
   {
    "duration": 14,
    "start_time": "2025-05-01T10:35:30.911Z"
   },
   {
    "duration": 21,
    "start_time": "2025-05-01T10:35:30.927Z"
   },
   {
    "duration": 26,
    "start_time": "2025-05-01T10:35:30.950Z"
   },
   {
    "duration": 70,
    "start_time": "2025-05-01T13:14:18.720Z"
   },
   {
    "duration": 45,
    "start_time": "2025-05-01T13:14:29.285Z"
   },
   {
    "duration": 3,
    "start_time": "2025-05-01T13:14:45.859Z"
   },
   {
    "duration": 2,
    "start_time": "2025-05-01T13:14:46.369Z"
   },
   {
    "duration": 1387,
    "start_time": "2025-05-01T13:14:46.965Z"
   },
   {
    "duration": 72,
    "start_time": "2025-05-01T13:14:48.353Z"
   },
   {
    "duration": 5,
    "start_time": "2025-05-01T13:14:49.140Z"
   },
   {
    "duration": 5,
    "start_time": "2025-05-01T13:14:50.207Z"
   },
   {
    "duration": 12,
    "start_time": "2025-05-01T13:14:50.770Z"
   },
   {
    "duration": 5,
    "start_time": "2025-05-01T13:14:53.017Z"
   },
   {
    "duration": 15,
    "start_time": "2025-05-01T13:14:53.535Z"
   },
   {
    "duration": 5,
    "start_time": "2025-05-01T13:14:54.099Z"
   },
   {
    "duration": 16,
    "start_time": "2025-05-01T13:14:54.614Z"
   },
   {
    "duration": 18,
    "start_time": "2025-05-01T13:14:55.677Z"
   },
   {
    "duration": 17,
    "start_time": "2025-05-01T13:14:56.223Z"
   },
   {
    "duration": 172,
    "start_time": "2025-05-01T13:14:56.825Z"
   },
   {
    "duration": 160,
    "start_time": "2025-05-01T13:14:57.432Z"
   },
   {
    "duration": 213,
    "start_time": "2025-05-01T13:14:58.047Z"
   },
   {
    "duration": 3,
    "start_time": "2025-05-01T13:14:58.751Z"
   },
   {
    "duration": 2,
    "start_time": "2025-05-01T13:14:59.426Z"
   },
   {
    "duration": 4,
    "start_time": "2025-05-01T13:15:01.183Z"
   },
   {
    "duration": 3,
    "start_time": "2025-05-01T13:15:01.747Z"
   },
   {
    "duration": 4,
    "start_time": "2025-05-01T13:15:02.329Z"
   },
   {
    "duration": 1480,
    "start_time": "2025-05-01T13:15:08.181Z"
   },
   {
    "duration": 23,
    "start_time": "2025-05-01T13:15:09.663Z"
   },
   {
    "duration": 128,
    "start_time": "2025-05-01T13:15:10.013Z"
   },
   {
    "duration": 9,
    "start_time": "2025-05-01T13:15:11.587Z"
   },
   {
    "duration": 8,
    "start_time": "2025-05-01T13:15:12.785Z"
   },
   {
    "duration": 8,
    "start_time": "2025-05-01T13:15:13.973Z"
   },
   {
    "duration": 8,
    "start_time": "2025-05-01T13:15:14.525Z"
   },
   {
    "duration": 8,
    "start_time": "2025-05-01T13:15:15.073Z"
   },
   {
    "duration": 7,
    "start_time": "2025-05-01T13:15:16.368Z"
   },
   {
    "duration": 5,
    "start_time": "2025-05-01T13:15:16.964Z"
   },
   {
    "duration": 5,
    "start_time": "2025-05-01T13:15:17.484Z"
   },
   {
    "duration": 3,
    "start_time": "2025-05-01T13:15:18.005Z"
   },
   {
    "duration": 5,
    "start_time": "2025-05-01T13:15:20.134Z"
   },
   {
    "duration": 5,
    "start_time": "2025-05-01T13:15:20.778Z"
   },
   {
    "duration": 84,
    "start_time": "2025-05-01T13:15:22.304Z"
   },
   {
    "duration": 22,
    "start_time": "2025-05-01T13:15:22.810Z"
   },
   {
    "duration": 29,
    "start_time": "2025-05-01T13:15:23.999Z"
   },
   {
    "duration": 8,
    "start_time": "2025-05-01T13:15:25.114Z"
   },
   {
    "duration": 27,
    "start_time": "2025-05-01T13:15:25.758Z"
   },
   {
    "duration": 38,
    "start_time": "2025-05-01T13:15:26.445Z"
   },
   {
    "duration": 14,
    "start_time": "2025-05-01T13:15:28.198Z"
   },
   {
    "duration": 18,
    "start_time": "2025-05-01T13:15:30.166Z"
   },
   {
    "duration": 4,
    "start_time": "2025-05-01T13:15:30.902Z"
   },
   {
    "duration": 16,
    "start_time": "2025-05-01T13:15:31.559Z"
   },
   {
    "duration": 3,
    "start_time": "2025-05-01T13:15:32.295Z"
   },
   {
    "duration": 18,
    "start_time": "2025-05-01T13:15:33.094Z"
   },
   {
    "duration": 4,
    "start_time": "2025-05-01T13:15:34.051Z"
   },
   {
    "duration": 16,
    "start_time": "2025-05-01T13:15:34.832Z"
   },
   {
    "duration": 3,
    "start_time": "2025-05-01T13:15:35.522Z"
   },
   {
    "duration": 3,
    "start_time": "2025-05-01T13:15:36.208Z"
   },
   {
    "duration": 4,
    "start_time": "2025-05-01T13:15:37.350Z"
   },
   {
    "duration": 3,
    "start_time": "2025-05-01T13:15:38.385Z"
   },
   {
    "duration": 4,
    "start_time": "2025-05-01T13:15:48.768Z"
   },
   {
    "duration": 3,
    "start_time": "2025-05-01T13:16:24.924Z"
   },
   {
    "duration": 4,
    "start_time": "2025-05-01T13:16:26.160Z"
   },
   {
    "duration": 5,
    "start_time": "2025-05-01T13:18:24.693Z"
   },
   {
    "duration": 5,
    "start_time": "2025-05-01T13:21:59.253Z"
   },
   {
    "duration": 5,
    "start_time": "2025-05-01T13:22:19.661Z"
   },
   {
    "duration": 5,
    "start_time": "2025-05-01T13:24:40.386Z"
   },
   {
    "duration": 3,
    "start_time": "2025-05-01T13:24:46.020Z"
   },
   {
    "duration": 4,
    "start_time": "2025-05-01T13:24:46.973Z"
   },
   {
    "duration": 54,
    "start_time": "2025-05-01T13:24:54.086Z"
   },
   {
    "duration": 34,
    "start_time": "2025-05-01T13:26:23.898Z"
   },
   {
    "duration": 62,
    "start_time": "2025-05-01T13:28:19.964Z"
   },
   {
    "duration": 10,
    "start_time": "2025-05-01T13:29:11.687Z"
   },
   {
    "duration": 100,
    "start_time": "2025-05-01T13:29:59.457Z"
   },
   {
    "duration": 49,
    "start_time": "2025-05-01T13:30:05.949Z"
   },
   {
    "duration": 5,
    "start_time": "2025-05-01T13:31:24.595Z"
   },
   {
    "duration": 6,
    "start_time": "2025-05-01T13:31:25.596Z"
   },
   {
    "duration": 12,
    "start_time": "2025-05-01T13:31:25.959Z"
   },
   {
    "duration": 4,
    "start_time": "2025-05-01T13:31:31.399Z"
   },
   {
    "duration": 22,
    "start_time": "2025-05-01T13:31:32.035Z"
   },
   {
    "duration": 6,
    "start_time": "2025-05-01T13:31:32.694Z"
   },
   {
    "duration": 16,
    "start_time": "2025-05-01T13:31:33.430Z"
   },
   {
    "duration": 19,
    "start_time": "2025-05-01T13:31:34.740Z"
   },
   {
    "duration": 16,
    "start_time": "2025-05-01T13:31:35.320Z"
   },
   {
    "duration": 151,
    "start_time": "2025-05-01T13:31:35.940Z"
   },
   {
    "duration": 170,
    "start_time": "2025-05-01T13:31:36.588Z"
   },
   {
    "duration": 196,
    "start_time": "2025-05-01T13:31:37.212Z"
   },
   {
    "duration": 3,
    "start_time": "2025-05-01T13:31:37.837Z"
   },
   {
    "duration": 2,
    "start_time": "2025-05-01T13:31:38.805Z"
   },
   {
    "duration": 4,
    "start_time": "2025-05-01T13:31:41.878Z"
   },
   {
    "duration": 3,
    "start_time": "2025-05-01T13:31:42.104Z"
   },
   {
    "duration": 4,
    "start_time": "2025-05-01T13:31:42.841Z"
   },
   {
    "duration": 1507,
    "start_time": "2025-05-01T13:31:51.946Z"
   },
   {
    "duration": 51,
    "start_time": "2025-05-01T13:34:17.203Z"
   },
   {
    "duration": 46,
    "start_time": "2025-05-01T13:34:31.079Z"
   },
   {
    "duration": 5,
    "start_time": "2025-05-01T13:34:45.507Z"
   },
   {
    "duration": 6,
    "start_time": "2025-05-01T13:34:45.975Z"
   },
   {
    "duration": 11,
    "start_time": "2025-05-01T13:34:46.186Z"
   },
   {
    "duration": 5,
    "start_time": "2025-05-01T13:34:46.940Z"
   },
   {
    "duration": 17,
    "start_time": "2025-05-01T13:34:47.158Z"
   },
   {
    "duration": 5,
    "start_time": "2025-05-01T13:34:47.432Z"
   },
   {
    "duration": 16,
    "start_time": "2025-05-01T13:34:47.612Z"
   },
   {
    "duration": 18,
    "start_time": "2025-05-01T13:34:47.967Z"
   },
   {
    "duration": 18,
    "start_time": "2025-05-01T13:34:48.147Z"
   },
   {
    "duration": 152,
    "start_time": "2025-05-01T13:34:48.336Z"
   },
   {
    "duration": 156,
    "start_time": "2025-05-01T13:34:48.514Z"
   },
   {
    "duration": 275,
    "start_time": "2025-05-01T13:34:48.689Z"
   },
   {
    "duration": 11,
    "start_time": "2025-05-01T13:34:48.966Z"
   },
   {
    "duration": 3,
    "start_time": "2025-05-01T13:34:49.040Z"
   },
   {
    "duration": 4,
    "start_time": "2025-05-01T13:34:49.632Z"
   },
   {
    "duration": 2,
    "start_time": "2025-05-01T13:34:50.088Z"
   },
   {
    "duration": 4,
    "start_time": "2025-05-01T13:34:50.545Z"
   },
   {
    "duration": 1601,
    "start_time": "2025-05-01T13:34:54.545Z"
   },
   {
    "duration": 17,
    "start_time": "2025-05-01T13:35:00.532Z"
   },
   {
    "duration": 119,
    "start_time": "2025-05-01T13:35:01.761Z"
   },
   {
    "duration": 9,
    "start_time": "2025-05-01T13:35:07.357Z"
   },
   {
    "duration": 8,
    "start_time": "2025-05-01T13:35:08.504Z"
   },
   {
    "duration": 9,
    "start_time": "2025-05-01T13:35:10.220Z"
   },
   {
    "duration": 9,
    "start_time": "2025-05-01T13:35:10.930Z"
   },
   {
    "duration": 8,
    "start_time": "2025-05-01T13:35:11.626Z"
   },
   {
    "duration": 5,
    "start_time": "2025-05-01T13:35:13.209Z"
   },
   {
    "duration": 5,
    "start_time": "2025-05-01T13:35:13.903Z"
   },
   {
    "duration": 5,
    "start_time": "2025-05-01T13:35:14.593Z"
   },
   {
    "duration": 3,
    "start_time": "2025-05-01T13:35:15.266Z"
   },
   {
    "duration": 5,
    "start_time": "2025-05-01T13:35:17.516Z"
   },
   {
    "duration": 5,
    "start_time": "2025-05-01T13:35:18.503Z"
   },
   {
    "duration": 76,
    "start_time": "2025-05-01T13:35:22.504Z"
   },
   {
    "duration": 21,
    "start_time": "2025-05-01T13:35:23.414Z"
   },
   {
    "duration": 30,
    "start_time": "2025-05-01T13:35:25.088Z"
   },
   {
    "duration": 8,
    "start_time": "2025-05-01T13:35:25.693Z"
   },
   {
    "duration": 15,
    "start_time": "2025-05-01T13:35:26.421Z"
   },
   {
    "duration": 39,
    "start_time": "2025-05-01T13:35:27.101Z"
   },
   {
    "duration": 14,
    "start_time": "2025-05-01T13:35:28.491Z"
   },
   {
    "duration": 17,
    "start_time": "2025-05-01T13:35:30.150Z"
   },
   {
    "duration": 4,
    "start_time": "2025-05-01T13:35:30.712Z"
   },
   {
    "duration": 15,
    "start_time": "2025-05-01T13:35:31.322Z"
   },
   {
    "duration": 4,
    "start_time": "2025-05-01T13:35:32.278Z"
   },
   {
    "duration": 18,
    "start_time": "2025-05-01T13:35:33.105Z"
   },
   {
    "duration": 4,
    "start_time": "2025-05-01T13:35:34.045Z"
   },
   {
    "duration": 15,
    "start_time": "2025-05-01T13:35:34.815Z"
   },
   {
    "duration": 4,
    "start_time": "2025-05-01T13:35:35.431Z"
   },
   {
    "duration": 3,
    "start_time": "2025-05-01T13:35:36.140Z"
   },
   {
    "duration": 4,
    "start_time": "2025-05-01T13:35:37.036Z"
   },
   {
    "duration": 3,
    "start_time": "2025-05-01T13:35:38.052Z"
   },
   {
    "duration": 2,
    "start_time": "2025-05-01T13:35:43.647Z"
   },
   {
    "duration": 4,
    "start_time": "2025-05-01T13:35:44.441Z"
   },
   {
    "duration": 4,
    "start_time": "2025-05-01T13:35:45.274Z"
   },
   {
    "duration": 5,
    "start_time": "2025-05-01T13:36:51.967Z"
   },
   {
    "duration": 4,
    "start_time": "2025-05-01T13:40:43.951Z"
   },
   {
    "duration": 86,
    "start_time": "2025-05-01T13:40:43.957Z"
   },
   {
    "duration": 1113,
    "start_time": "2025-05-01T13:40:44.045Z"
   },
   {
    "duration": 66,
    "start_time": "2025-05-01T13:40:45.160Z"
   },
   {
    "duration": 165,
    "start_time": "2025-05-01T13:40:45.228Z"
   },
   {
    "duration": 142,
    "start_time": "2025-05-01T13:40:45.395Z"
   },
   {
    "duration": 48,
    "start_time": "2025-05-01T13:40:45.538Z"
   },
   {
    "duration": 20,
    "start_time": "2025-05-01T13:40:45.588Z"
   },
   {
    "duration": 17,
    "start_time": "2025-05-01T13:40:45.610Z"
   },
   {
    "duration": 16,
    "start_time": "2025-05-01T13:40:45.629Z"
   },
   {
    "duration": 13,
    "start_time": "2025-05-01T13:40:45.647Z"
   },
   {
    "duration": 19,
    "start_time": "2025-05-01T13:40:45.661Z"
   },
   {
    "duration": 20,
    "start_time": "2025-05-01T13:40:45.682Z"
   },
   {
    "duration": 18,
    "start_time": "2025-05-01T13:40:45.705Z"
   },
   {
    "duration": 211,
    "start_time": "2025-05-01T13:40:45.724Z"
   },
   {
    "duration": 178,
    "start_time": "2025-05-01T13:40:45.936Z"
   },
   {
    "duration": 218,
    "start_time": "2025-05-01T13:40:46.116Z"
   },
   {
    "duration": 2,
    "start_time": "2025-05-01T13:40:46.336Z"
   },
   {
    "duration": 30,
    "start_time": "2025-05-01T13:40:46.339Z"
   },
   {
    "duration": 23,
    "start_time": "2025-05-01T13:40:46.371Z"
   },
   {
    "duration": 11,
    "start_time": "2025-05-01T13:40:46.395Z"
   },
   {
    "duration": 9,
    "start_time": "2025-05-01T13:40:46.408Z"
   },
   {
    "duration": 1510,
    "start_time": "2025-05-01T13:40:46.418Z"
   },
   {
    "duration": 17,
    "start_time": "2025-05-01T13:40:47.930Z"
   },
   {
    "duration": 188,
    "start_time": "2025-05-01T13:40:47.949Z"
   },
   {
    "duration": 7,
    "start_time": "2025-05-01T13:40:48.139Z"
   },
   {
    "duration": 16,
    "start_time": "2025-05-01T13:40:48.148Z"
   },
   {
    "duration": 13,
    "start_time": "2025-05-01T13:40:48.166Z"
   },
   {
    "duration": 29,
    "start_time": "2025-05-01T13:40:48.180Z"
   },
   {
    "duration": 10,
    "start_time": "2025-05-01T13:40:48.210Z"
   },
   {
    "duration": 5,
    "start_time": "2025-05-01T13:40:48.221Z"
   },
   {
    "duration": 8,
    "start_time": "2025-05-01T13:40:48.227Z"
   },
   {
    "duration": 9,
    "start_time": "2025-05-01T13:40:48.236Z"
   },
   {
    "duration": 102,
    "start_time": "2025-05-01T13:40:48.246Z"
   },
   {
    "duration": 16,
    "start_time": "2025-05-01T13:40:48.349Z"
   },
   {
    "duration": 6,
    "start_time": "2025-05-01T13:40:48.367Z"
   },
   {
    "duration": 76,
    "start_time": "2025-05-01T13:40:48.375Z"
   },
   {
    "duration": 26,
    "start_time": "2025-05-01T13:40:48.452Z"
   },
   {
    "duration": 30,
    "start_time": "2025-05-01T13:40:48.480Z"
   },
   {
    "duration": 12,
    "start_time": "2025-05-01T13:40:48.511Z"
   },
   {
    "duration": 13,
    "start_time": "2025-05-01T13:40:48.527Z"
   },
   {
    "duration": 53,
    "start_time": "2025-05-01T13:40:48.541Z"
   },
   {
    "duration": 121,
    "start_time": "2025-05-01T13:40:48.596Z"
   },
   {
    "duration": 17,
    "start_time": "2025-05-01T13:40:48.718Z"
   },
   {
    "duration": 3,
    "start_time": "2025-05-01T13:40:48.736Z"
   },
   {
    "duration": 25,
    "start_time": "2025-05-01T13:40:48.741Z"
   },
   {
    "duration": 15,
    "start_time": "2025-05-01T13:40:48.768Z"
   },
   {
    "duration": 57,
    "start_time": "2025-05-01T13:40:48.784Z"
   },
   {
    "duration": 20,
    "start_time": "2025-05-01T13:40:48.843Z"
   },
   {
    "duration": 19,
    "start_time": "2025-05-01T13:40:48.864Z"
   },
   {
    "duration": 3,
    "start_time": "2025-05-01T13:40:48.885Z"
   },
   {
    "duration": 21,
    "start_time": "2025-05-01T13:40:48.889Z"
   },
   {
    "duration": 19,
    "start_time": "2025-05-01T13:40:48.912Z"
   },
   {
    "duration": 15,
    "start_time": "2025-05-01T13:40:48.932Z"
   },
   {
    "duration": 6,
    "start_time": "2025-05-01T13:40:48.949Z"
   },
   {
    "duration": 4,
    "start_time": "2025-05-01T13:40:48.957Z"
   },
   {
    "duration": 11,
    "start_time": "2025-05-01T13:40:48.962Z"
   },
   {
    "duration": 2,
    "start_time": "2025-05-01T13:41:00.324Z"
   },
   {
    "duration": 2,
    "start_time": "2025-05-01T13:41:00.993Z"
   },
   {
    "duration": 3,
    "start_time": "2025-05-01T13:41:01.685Z"
   },
   {
    "duration": 51,
    "start_time": "2025-05-01T13:41:02.423Z"
   },
   {
    "duration": 23,
    "start_time": "2025-05-01T13:41:03.162Z"
   },
   {
    "duration": 21,
    "start_time": "2025-05-01T13:41:12.663Z"
   },
   {
    "duration": 5,
    "start_time": "2025-05-01T13:41:15.453Z"
   },
   {
    "duration": 5,
    "start_time": "2025-05-01T13:41:16.767Z"
   },
   {
    "duration": 11,
    "start_time": "2025-05-01T13:41:17.323Z"
   },
   {
    "duration": 5,
    "start_time": "2025-05-01T13:41:18.430Z"
   },
   {
    "duration": 17,
    "start_time": "2025-05-01T13:41:18.652Z"
   },
   {
    "duration": 7,
    "start_time": "2025-05-01T13:41:19.116Z"
   },
   {
    "duration": 20,
    "start_time": "2025-05-01T13:41:19.569Z"
   },
   {
    "duration": 19,
    "start_time": "2025-05-01T13:41:20.277Z"
   },
   {
    "duration": 18,
    "start_time": "2025-05-01T13:41:20.842Z"
   },
   {
    "duration": 158,
    "start_time": "2025-05-01T13:41:21.040Z"
   },
   {
    "duration": 159,
    "start_time": "2025-05-01T13:41:21.251Z"
   },
   {
    "duration": 229,
    "start_time": "2025-05-01T13:41:21.481Z"
   },
   {
    "duration": 3,
    "start_time": "2025-05-01T13:41:22.059Z"
   },
   {
    "duration": 2,
    "start_time": "2025-05-01T13:41:22.764Z"
   },
   {
    "duration": 4,
    "start_time": "2025-05-01T13:41:24.573Z"
   },
   {
    "duration": 2,
    "start_time": "2025-05-01T13:41:24.749Z"
   },
   {
    "duration": 4,
    "start_time": "2025-05-01T13:41:24.909Z"
   },
   {
    "duration": 67,
    "start_time": "2025-05-01T13:42:27.503Z"
   },
   {
    "duration": 1531,
    "start_time": "2025-05-01T13:42:32.492Z"
   },
   {
    "duration": 34,
    "start_time": "2025-05-01T13:42:34.025Z"
   },
   {
    "duration": 62,
    "start_time": "2025-05-01T13:43:04.130Z"
   },
   {
    "duration": 103,
    "start_time": "2025-05-01T13:43:13.053Z"
   },
   {
    "duration": 19,
    "start_time": "2025-05-01T13:43:29.935Z"
   },
   {
    "duration": 126,
    "start_time": "2025-05-01T13:43:30.771Z"
   },
   {
    "duration": 9,
    "start_time": "2025-05-01T13:43:32.316Z"
   },
   {
    "duration": 8,
    "start_time": "2025-05-01T13:43:33.852Z"
   },
   {
    "duration": 8,
    "start_time": "2025-05-01T13:43:35.531Z"
   },
   {
    "duration": 8,
    "start_time": "2025-05-01T13:43:36.154Z"
   },
   {
    "duration": 7,
    "start_time": "2025-05-01T13:43:36.862Z"
   },
   {
    "duration": 6,
    "start_time": "2025-05-01T13:43:38.021Z"
   },
   {
    "duration": 5,
    "start_time": "2025-05-01T13:43:38.697Z"
   },
   {
    "duration": 5,
    "start_time": "2025-05-01T13:43:39.366Z"
   },
   {
    "duration": 3,
    "start_time": "2025-05-01T13:43:39.907Z"
   },
   {
    "duration": 5,
    "start_time": "2025-05-01T13:43:41.928Z"
   },
   {
    "duration": 6,
    "start_time": "2025-05-01T13:43:42.225Z"
   },
   {
    "duration": 68,
    "start_time": "2025-05-01T13:43:43.870Z"
   },
   {
    "duration": 20,
    "start_time": "2025-05-01T13:43:44.971Z"
   },
   {
    "duration": 30,
    "start_time": "2025-05-01T13:43:46.600Z"
   },
   {
    "duration": 7,
    "start_time": "2025-05-01T13:43:47.120Z"
   },
   {
    "duration": 13,
    "start_time": "2025-05-01T13:43:47.349Z"
   },
   {
    "duration": 39,
    "start_time": "2025-05-01T13:43:47.573Z"
   },
   {
    "duration": 16,
    "start_time": "2025-05-01T13:43:49.217Z"
   },
   {
    "duration": 17,
    "start_time": "2025-05-01T13:43:51.156Z"
   },
   {
    "duration": 4,
    "start_time": "2025-05-01T13:43:51.717Z"
   },
   {
    "duration": 14,
    "start_time": "2025-05-01T13:43:52.189Z"
   },
   {
    "duration": 4,
    "start_time": "2025-05-01T13:43:52.708Z"
   },
   {
    "duration": 18,
    "start_time": "2025-05-01T13:43:53.221Z"
   },
   {
    "duration": 4,
    "start_time": "2025-05-01T13:43:54.021Z"
   },
   {
    "duration": 17,
    "start_time": "2025-05-01T13:43:54.529Z"
   },
   {
    "duration": 4,
    "start_time": "2025-05-01T13:43:55.096Z"
   },
   {
    "duration": 3,
    "start_time": "2025-05-01T13:43:55.691Z"
   },
   {
    "duration": 4,
    "start_time": "2025-05-01T13:43:56.438Z"
   },
   {
    "duration": 2,
    "start_time": "2025-05-01T13:43:57.144Z"
   },
   {
    "duration": 3,
    "start_time": "2025-05-01T13:43:58.306Z"
   },
   {
    "duration": 4,
    "start_time": "2025-05-01T13:43:58.995Z"
   },
   {
    "duration": 5,
    "start_time": "2025-05-01T13:44:05.684Z"
   },
   {
    "duration": 3,
    "start_time": "2025-05-01T16:03:57.731Z"
   },
   {
    "duration": 15,
    "start_time": "2025-05-01T16:03:57.736Z"
   },
   {
    "duration": 1102,
    "start_time": "2025-05-01T16:03:57.752Z"
   },
   {
    "duration": 69,
    "start_time": "2025-05-01T16:03:58.856Z"
   },
   {
    "duration": 24,
    "start_time": "2025-05-01T16:03:58.927Z"
   },
   {
    "duration": 35,
    "start_time": "2025-05-01T16:03:58.953Z"
   },
   {
    "duration": 10,
    "start_time": "2025-05-01T16:03:58.989Z"
   },
   {
    "duration": 29,
    "start_time": "2025-05-01T16:03:59.001Z"
   },
   {
    "duration": 11,
    "start_time": "2025-05-01T16:03:59.032Z"
   },
   {
    "duration": 26,
    "start_time": "2025-05-01T16:03:59.045Z"
   },
   {
    "duration": 4,
    "start_time": "2025-05-01T16:03:59.073Z"
   },
   {
    "duration": 16,
    "start_time": "2025-05-01T16:03:59.078Z"
   },
   {
    "duration": 17,
    "start_time": "2025-05-01T16:03:59.096Z"
   },
   {
    "duration": 23,
    "start_time": "2025-05-01T16:03:59.116Z"
   },
   {
    "duration": 194,
    "start_time": "2025-05-01T16:03:59.141Z"
   },
   {
    "duration": 164,
    "start_time": "2025-05-01T16:03:59.337Z"
   },
   {
    "duration": 230,
    "start_time": "2025-05-01T16:03:59.503Z"
   },
   {
    "duration": 3,
    "start_time": "2025-05-01T16:03:59.734Z"
   },
   {
    "duration": 7,
    "start_time": "2025-05-01T16:03:59.738Z"
   },
   {
    "duration": 7,
    "start_time": "2025-05-01T16:03:59.746Z"
   },
   {
    "duration": 5,
    "start_time": "2025-05-01T16:03:59.754Z"
   },
   {
    "duration": 17,
    "start_time": "2025-05-01T16:03:59.760Z"
   },
   {
    "duration": 1460,
    "start_time": "2025-05-01T16:03:59.779Z"
   },
   {
    "duration": 28,
    "start_time": "2025-05-01T16:04:01.241Z"
   },
   {
    "duration": 18,
    "start_time": "2025-05-01T16:04:01.270Z"
   },
   {
    "duration": 243,
    "start_time": "2025-05-01T16:04:01.289Z"
   },
   {
    "duration": 43,
    "start_time": "2025-05-01T16:04:01.533Z"
   },
   {
    "duration": 87,
    "start_time": "2025-05-01T16:04:01.578Z"
   },
   {
    "duration": 17,
    "start_time": "2025-05-01T16:04:01.666Z"
   },
   {
    "duration": 18,
    "start_time": "2025-05-01T16:04:01.685Z"
   },
   {
    "duration": 12,
    "start_time": "2025-05-01T16:04:01.705Z"
   },
   {
    "duration": 42,
    "start_time": "2025-05-01T16:04:01.718Z"
   },
   {
    "duration": 28,
    "start_time": "2025-05-01T16:04:01.762Z"
   },
   {
    "duration": 24,
    "start_time": "2025-05-01T16:04:01.792Z"
   },
   {
    "duration": 50,
    "start_time": "2025-05-01T16:04:01.818Z"
   },
   {
    "duration": 40,
    "start_time": "2025-05-01T16:04:01.870Z"
   },
   {
    "duration": 77,
    "start_time": "2025-05-01T16:04:01.911Z"
   },
   {
    "duration": 250,
    "start_time": "2025-05-01T16:04:01.991Z"
   },
   {
    "duration": 81,
    "start_time": "2025-05-01T16:04:02.242Z"
   },
   {
    "duration": 123,
    "start_time": "2025-05-01T16:04:02.325Z"
   },
   {
    "duration": 28,
    "start_time": "2025-05-01T16:04:02.452Z"
   },
   {
    "duration": 34,
    "start_time": "2025-05-01T16:04:02.482Z"
   },
   {
    "duration": 51,
    "start_time": "2025-05-01T16:04:02.518Z"
   },
   {
    "duration": 17,
    "start_time": "2025-05-01T16:04:02.571Z"
   },
   {
    "duration": 20,
    "start_time": "2025-05-01T16:04:02.590Z"
   },
   {
    "duration": 4,
    "start_time": "2025-05-01T16:04:02.612Z"
   },
   {
    "duration": 28,
    "start_time": "2025-05-01T16:04:02.618Z"
   },
   {
    "duration": 19,
    "start_time": "2025-05-01T16:04:02.648Z"
   },
   {
    "duration": 25,
    "start_time": "2025-05-01T16:04:02.669Z"
   },
   {
    "duration": 5,
    "start_time": "2025-05-01T16:04:02.695Z"
   },
   {
    "duration": 22,
    "start_time": "2025-05-01T16:04:02.702Z"
   },
   {
    "duration": 106,
    "start_time": "2025-05-01T16:04:02.726Z"
   },
   {
    "duration": 19,
    "start_time": "2025-05-01T16:04:02.834Z"
   },
   {
    "duration": 14,
    "start_time": "2025-05-01T16:04:02.855Z"
   },
   {
    "duration": 8,
    "start_time": "2025-05-01T16:04:02.871Z"
   },
   {
    "duration": 27,
    "start_time": "2025-05-01T16:04:02.881Z"
   },
   {
    "duration": 52,
    "start_time": "2025-05-01T16:04:02.910Z"
   },
   {
    "duration": 16,
    "start_time": "2025-05-01T16:04:02.964Z"
   }
  ],
  "colab": {
   "provenance": [],
   "toc_visible": true
  },
  "kernelspec": {
   "display_name": "Python 3 (ipykernel)",
   "language": "python",
   "name": "python3"
  },
  "language_info": {
   "codemirror_mode": {
    "name": "ipython",
    "version": 3
   },
   "file_extension": ".py",
   "mimetype": "text/x-python",
   "name": "python",
   "nbconvert_exporter": "python",
   "pygments_lexer": "ipython3",
   "version": "3.9.5"
  },
  "toc": {
   "base_numbering": 1,
   "nav_menu": {},
   "number_sections": true,
   "sideBar": true,
   "skip_h1_title": true,
   "title_cell": "Table of Contents",
   "title_sidebar": "Contents",
   "toc_cell": false,
   "toc_position": {},
   "toc_section_display": true,
   "toc_window_display": true
  }
 },
 "nbformat": 4,
 "nbformat_minor": 5
}
